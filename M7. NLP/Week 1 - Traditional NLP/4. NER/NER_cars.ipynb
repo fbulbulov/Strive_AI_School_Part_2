{
 "cells": [
  {
   "cell_type": "code",
   "execution_count": 16,
   "id": "0fa4f01c",
   "metadata": {
    "ExecuteTime": {
     "end_time": "2021-07-23T17:18:29.101905Z",
     "start_time": "2021-07-23T17:18:29.006960Z"
    }
   },
   "outputs": [],
   "source": [
    "import spacy\n",
    "import random\n",
    "from spacy.util import minibatch, compounding\n",
    "from pathlib import Path\n",
    "from spacy.training import Example"
   ]
  },
  {
   "cell_type": "code",
   "execution_count": 17,
   "id": "16126134",
   "metadata": {
    "ExecuteTime": {
     "end_time": "2021-07-23T17:18:29.960804Z",
     "start_time": "2021-07-23T17:18:29.937818Z"
    }
   },
   "outputs": [],
   "source": [
    "with open(\"cars.txt\") as file:\n",
    "    dataset = file.read()"
   ]
  },
  {
   "cell_type": "code",
   "execution_count": 18,
   "id": "49b59b2c",
   "metadata": {
    "ExecuteTime": {
     "end_time": "2021-07-23T17:18:58.892220Z",
     "start_time": "2021-07-23T17:18:30.720761Z"
    }
   },
   "outputs": [
    {
     "name": "stdout",
     "output_type": "stream",
     "text": [
      "Entities: [('Fiat', 'ORG'), ('Porsche', 'ORG'), ('Toyota', 'ORG'), ('Skoda', 'ORG'), ('110 million euros', 'MONEY'), ('Boleslav', 'PRODUCT'), ('2', 'CARDINAL'), ('Honda', 'ORG'), ('Civic Type R.', 'PRODUCT'), ('Mondeo', 'ORG'), ('fourth', 'ORDINAL'), ('Audi', 'ORG'), ('Sportback', 'ORG'), ('Bugatti', 'ORG'), ('first', 'ORDINAL'), ('2030', 'DATE'), ('Honda', 'ORG'), ('Toyota', 'ORG'), ('Fiat', 'ORG'), ('500XL', 'PRODUCT'), ('5', 'CARDINAL'), ('Kia', 'ORG'), ('Porsche', 'ORG'), ('Volkswagen', 'ORG'), ('Ferrari', 'PRODUCT'), ('Lotus', 'ORG'), ('The Land Rover', 'ORG'), ('the Kia Stonic', 'ORG'), ('Jaguar', 'ORG'), ('Citroen', 'ORG'), ('Ford', 'ORG'), ('Kia', 'ORG'), ('Ford', 'ORG'), ('Ka', 'PRODUCT'), ('Mercedes', 'ORG'), ('Milan', 'GPE'), ('Smart', 'ORG'), ('Jeep', 'ORG'), ('Wrangler', 'PRODUCT'), ('Suzuki', 'ORG')]\n"
     ]
    }
   ],
   "source": [
    "nlp = spacy.load(\"en_core_web_lg\")\n",
    "doc = nlp(dataset)\n",
    "print(\"Entities:\", [(ent.text, ent.label_) for ent in doc.ents])"
   ]
  },
  {
   "cell_type": "code",
   "execution_count": 19,
   "id": "57a83b53",
   "metadata": {
    "ExecuteTime": {
     "end_time": "2021-07-23T17:18:59.082154Z",
     "start_time": "2021-07-23T17:18:58.895217Z"
    }
   },
   "outputs": [],
   "source": [
    "words= [ \"Abarth\", \"Alfa Romeo\", \"Aston Martin\", \"Audi\", \"Bentley\", \"BMW\", \"Bugatti\", \"Cadillac\", \"Chevrolet\", \"Chrysler\", \"Citroën\",\n",
    "        \"Dacia\",\"Daewoo\",\"Daihatsu\",\"Dodge\",\"Donkervoort\",\"DS\", \"Ferrari\", \"Fiat\", \"Fisker\", \"Ford\", \"Honda\", \"Hummer\", \"Hyundai\",\n",
    "        \"Infiniti\",\"Iveco\",\"Jaguar\",\"Jeep\",\"Kia\",\"KTM\",\"Lada\",\"Lamborghini\",\"Lancia\",\"Land Rover\",\"Landwind\",\"Lexus\",\"Lotus\",\"Maserati\",\n",
    "        \"Maybach\",\"Mazda\",\"McLaren\",\"Mercedes-Benz\",\"MG\",\"Mini\",\"Mitsubishi\",\"Morgan\",\"Nissan\",\"Opel\",\"Peugeot\",\"Porsche\",\"Renault\",\n",
    "        \"Rolls-Royce\",\"Saab\",\"Seat\",\"Skoda\",\"Smart\",\"SsangYong\",\"Subaru\",\"Suzuki\",\"Tesla\",\"Toyota\",\"Volkswagen\",\"Volvo\",]"
   ]
  },
  {
   "cell_type": "code",
   "execution_count": 20,
   "id": "d46b3a42",
   "metadata": {
    "ExecuteTime": {
     "end_time": "2021-07-23T17:18:59.490868Z",
     "start_time": "2021-07-23T17:18:59.084137Z"
    }
   },
   "outputs": [],
   "source": [
    "train_data = []"
   ]
  },
  {
   "cell_type": "code",
   "execution_count": 21,
   "id": "2770d62f",
   "metadata": {
    "ExecuteTime": {
     "end_time": "2021-07-23T17:18:59.880300Z",
     "start_time": "2021-07-23T17:18:59.493835Z"
    }
   },
   "outputs": [
    {
     "name": "stdout",
     "output_type": "stream",
     "text": [
      "######\n",
      "sentence:  What is the price of that Fiat 500XL?\n",
      "\n",
      "######\n",
      "word:  fiat\n",
      "----------------\n",
      "start index: 26\n",
      "end index: 30\n",
      "----------------\n",
      "element: ('what is the price of that fiat 500xl?', {'entities': [(26, 30, 'CAR')]})\n",
      "######\n",
      "sentence:  Have you ever driven a Porsche?\n",
      "\n",
      "######\n",
      "word:  porsche\n",
      "----------------\n",
      "start index: 23\n",
      "end index: 30\n",
      "----------------\n",
      "element: ('have you ever driven a porsche?', {'entities': [(23, 30, 'CAR')]})\n",
      "######\n",
      "sentence:  Toyota's new model is something extraordinary.\n",
      "\n",
      "######\n",
      "word:  toyota\n",
      "----------------\n",
      "start index: 0\n",
      "end index: 6\n",
      "----------------\n",
      "element: (\"toyota's new model is something extraordinary.\", {'entities': [(0, 6, 'CAR')]})\n",
      "######\n",
      "sentence:  Skoda has invested 110 million euros to upgrade the lines of the Boleslav factory.\n",
      "\n",
      "######\n",
      "word:  skoda\n",
      "----------------\n",
      "start index: 0\n",
      "end index: 5\n",
      "----------------\n",
      "element: ('skoda has invested 110 million euros to upgrade the lines of the boleslav factory.', {'entities': [(0, 5, 'CAR')]})\n",
      "######\n",
      "sentence:  Long live the BMW 2 Series CoupГ©.\n",
      "\n",
      "######\n",
      "word:  bmw\n",
      "----------------\n",
      "start index: 14\n",
      "end index: 17\n",
      "----------------\n",
      "element: ('long live the bmw 2 series coupг©.', {'entities': [(14, 17, 'CAR')]})\n",
      "######\n",
      "sentence:  Aspark Owl: behind the wheel of the 2000 horsepower electric hypercar.\n",
      "\n",
      "######\n",
      "----------------\n",
      "element: ('aspark owl: behind the wheel of the 2000 horsepower electric hypercar.', {'entities': []})\n",
      "######\n",
      "sentence:  On track with the Honda Civic Type R.\n",
      "\n",
      "######\n",
      "word:  honda\n",
      "----------------\n",
      "start index: 18\n",
      "end index: 23\n",
      "----------------\n",
      "element: ('on track with the honda civic type r.', {'entities': [(18, 23, 'CAR')]})\n",
      "######\n",
      "sentence:  Testing in progress for the new Mondeo.\n",
      "\n",
      "######\n",
      "----------------\n",
      "element: ('testing in progress for the new mondeo.', {'entities': []})\n",
      "######\n",
      "sentence:  Production of the fourth generation begins\n",
      "\n",
      "######\n",
      "----------------\n",
      "element: ('production of the fourth generation begins', {'entities': []})\n",
      "######\n",
      "sentence:  Everything you need to know about the CitroГ«n C3 Aircross.\n",
      "\n",
      "######\n",
      "----------------\n",
      "element: ('everything you need to know about the citroг«n c3 aircross.', {'entities': []})\n",
      "######\n",
      "sentence:  Audi Q4 Sportback e-tron: orders for the electric SUV-coupГ© are open.\n",
      "\n",
      "######\n",
      "word:  audi\n",
      "----------------\n",
      "start index: 0\n",
      "end index: 4\n",
      "----------------\n",
      "element: ('audi q4 sportback e-tron: orders for the electric suv-coupг© are open.', {'entities': [(0, 4, 'CAR')]})\n",
      "######\n",
      "sentence:  Bugatti announces: the first electric by 2030.\n",
      "\n",
      "######\n",
      "word:  bugatti\n",
      "----------------\n",
      "start index: 0\n",
      "end index: 7\n",
      "----------------\n",
      "element: ('bugatti announces: the first electric by 2030.', {'entities': [(0, 7, 'CAR')]})\n",
      "######\n",
      "sentence:  I just changed the brakes on my Honda because it didn't pass the MOT.\n",
      "\n",
      "######\n",
      "word:  honda\n",
      "----------------\n",
      "start index: 32\n",
      "end index: 37\n",
      "----------------\n",
      "element: (\"i just changed the brakes on my honda because it didn't pass the mot.\", {'entities': [(32, 37, 'CAR')]})\n",
      "######\n",
      "sentence:  It is not easy to find headlights for the Toyota Prius. They have a very high cost and are difficult to assemble.\n",
      "\n",
      "######\n",
      "word:  toyota\n",
      "----------------\n",
      "start index: 42\n",
      "end index: 48\n",
      "----------------\n",
      "element: ('it is not easy to find headlights for the toyota prius. they have a very high cost and are difficult to assemble.', {'entities': [(42, 48, 'CAR')]})\n",
      "######\n",
      "sentence:  The Fiat 500XL model is perfect for a family of 5 who often go on holiday.\n",
      "\n",
      "######\n",
      "word:  fiat\n",
      "----------------\n",
      "start index: 4\n",
      "end index: 8\n",
      "----------------\n",
      "element: ('the fiat 500xl model is perfect for a family of 5 who often go on holiday.', {'entities': [(4, 8, 'CAR')]})\n",
      "######\n",
      "sentence:  I love my yellow Kia Sportage: it is safe, comfortable and consumes very little.\n",
      "\n",
      "######\n",
      "word:  kia\n",
      "----------------\n",
      "start index: 17\n",
      "end index: 20\n",
      "----------------\n",
      "element: ('i love my yellow kia sportage: it is safe, comfortable and consumes very little.', {'entities': [(17, 20, 'CAR')]})\n",
      "######\n",
      "sentence:  I'd like to buy a Porsche someday - I'll have to make a lot of sacrifices, but it'll be worth it.\n",
      "\n",
      "######\n",
      "word:  porsche\n",
      "----------------\n",
      "start index: 18\n",
      "end index: 25\n",
      "----------------\n",
      "element: (\"i'd like to buy a porsche someday - i'll have to make a lot of sacrifices, but it'll be worth it.\", {'entities': [(18, 25, 'CAR')]})\n",
      "######\n",
      "sentence:  My dream is to buy a Volkswagen!\n",
      "\n",
      "######\n",
      "word:  volkswagen\n",
      "----------------\n",
      "start index: 21\n",
      "end index: 31\n",
      "----------------\n",
      "element: ('my dream is to buy a volkswagen!', {'entities': [(21, 31, 'CAR')]})\n",
      "######\n",
      "sentence:  Have you seen the new Ferrari model?\n",
      "\n",
      "######\n",
      "word:  ferrari\n",
      "----------------\n",
      "start index: 22\n",
      "end index: 29\n",
      "----------------\n",
      "element: ('have you seen the new ferrari model?', {'entities': [(22, 29, 'CAR')]})\n",
      "######\n",
      "sentence:  What do you think of the new Lotus?\n",
      "\n",
      "######\n",
      "word:  lotus\n",
      "----------------\n",
      "start index: 29\n",
      "end index: 34\n",
      "----------------\n",
      "element: ('what do you think of the new lotus?', {'entities': [(29, 34, 'CAR')]})\n",
      "######\n",
      "sentence:  The Land Rover is a car I've always liked - it's big enough for all my dogs.\n",
      "\n",
      "######\n",
      "word:  land rover\n",
      "----------------\n",
      "start index: 4\n",
      "end index: 14\n",
      "----------------\n",
      "element: (\"the land rover is a car i've always liked - it's big enough for all my dogs.\", {'entities': [(4, 14, 'CAR')]})\n",
      "######\n",
      "sentence:  I love yellow cars and the Kia Stonic is perfect.\n",
      "\n",
      "######\n",
      "word:  kia\n",
      "----------------\n",
      "start index: 27\n",
      "end index: 30\n",
      "----------------\n",
      "element: ('i love yellow cars and the kia stonic is perfect.', {'entities': [(27, 30, 'CAR')]})\n",
      "######\n",
      "sentence:  Do you know at which dealership I can test a Jaguar?\n",
      "\n",
      "######\n",
      "word:  jaguar\n",
      "----------------\n",
      "start index: 45\n",
      "end index: 51\n",
      "----------------\n",
      "element: ('do you know at which dealership i can test a jaguar?', {'entities': [(45, 51, 'CAR')]})\n",
      "######\n",
      "sentence:  Do you know Citroen, Ford or Kia dealers?\n",
      "\n",
      "######\n",
      "word:  ford\n",
      "----------------\n",
      "start index: 21\n",
      "end index: 25\n",
      "word:  kia\n",
      "----------------\n",
      "start index: 29\n",
      "end index: 32\n",
      "----------------\n",
      "element: ('do you know citroen, ford or kia dealers?', {'entities': [(21, 25, 'CAR'), (29, 32, 'CAR')]})\n",
      "######\n",
      "sentence:  My cousin bought a Ford Ka to get around town.\n",
      "\n",
      "######\n",
      "word:  ford\n",
      "----------------\n",
      "start index: 19\n",
      "end index: 23\n",
      "----------------\n",
      "element: ('my cousin bought a ford ka to get around town.', {'entities': [(19, 23, 'CAR')]})\n",
      "######\n",
      "sentence:  My uncle had a gray Mercedes A-class.\n",
      "\n",
      "######\n",
      "----------------\n",
      "element: ('my uncle had a gray mercedes a-class.', {'entities': []})\n",
      "######\n",
      "sentence:  I spoke to my friend from Milan and he advised me to buy a Smart because it is perfect for getting around downtown.\n",
      "\n",
      "######\n",
      "word:  smart\n",
      "----------------\n",
      "start index: 59\n",
      "end index: 64\n",
      "----------------\n",
      "element: ('i spoke to my friend from milan and he advised me to buy a smart because it is perfect for getting around downtown.', {'entities': [(59, 64, 'CAR')]})\n",
      "######\n",
      "sentence:  If you had to choose a car, would you rather buy a Jeep Wrangler or a Suzuki?\n",
      "######\n",
      "word:  jeep\n",
      "----------------\n",
      "start index: 51\n",
      "end index: 55\n",
      "word:  suzuki\n",
      "----------------\n",
      "start index: 70\n",
      "end index: 76\n",
      "----------------\n",
      "element: ('if you had to choose a car, would you rather buy a jeep wrangler or a suzuki?', {'entities': [(51, 55, 'CAR'), (70, 76, 'CAR')]})\n"
     ]
    }
   ],
   "source": [
    "with open(\"cars.txt\") as file:\n",
    "    dataset = file.readlines()\n",
    "    for sentence in dataset:\n",
    "        print(\"######\")\n",
    "        print(\"sentence: \", sentence)\n",
    "        print(\"######\")\n",
    "        sentence = sentence.lower()\n",
    "        entities = []\n",
    "        for word in words:\n",
    "            word = word.lower()\n",
    "            if word in sentence:\n",
    "                start_index = sentence.index(word)\n",
    "                end_index = len(word) + start_index\n",
    "                print(\"word: \", word)\n",
    "                print(\"----------------\")\n",
    "                print(\"start index:\", start_index)\n",
    "                print(\"end index:\", end_index)\n",
    "                pos = (start_index, end_index, \"CAR\")\n",
    "                entities.append(pos)\n",
    "        element = (sentence.rstrip('\\n'), {\"entities\": entities})\n",
    "\n",
    "        train_data.append(element)\n",
    "        print('----------------')\n",
    "        print(\"element:\", element)\n",
    "\n",
    "        (\"this is my sentence\", {\"entities\": [0, 4, \"PREP\"]})\n",
    "        (\"this is my sentence\", {\"entities\": [6, 8, \"VERB\"]})"
   ]
  },
  {
   "cell_type": "code",
   "execution_count": 22,
   "id": "382c6905",
   "metadata": {
    "ExecuteTime": {
     "end_time": "2021-07-23T17:19:00.062315Z",
     "start_time": "2021-07-23T17:18:59.882299Z"
    }
   },
   "outputs": [],
   "source": [
    "ner = nlp.get_pipe(\"ner\")\n",
    "\n",
    "for _, annotations in train_data:\n",
    "    for ent in annotations.get(\"entities\"):\n",
    "        ner.add_label(ent[2])"
   ]
  },
  {
   "cell_type": "code",
   "execution_count": 23,
   "id": "5b4d0cd2",
   "metadata": {
    "ExecuteTime": {
     "end_time": "2021-07-23T17:21:18.049567Z",
     "start_time": "2021-07-23T17:19:00.698431Z"
    }
   },
   "outputs": [
    {
     "name": "stdout",
     "output_type": "stream",
     "text": [
      "Iteration # 0\n",
      "Losses: {'ner': 51.97861171007611}\n",
      "Iteration # 1\n",
      "Losses: {'ner': 21.663507769229497}\n",
      "Iteration # 2\n",
      "Losses: {'ner': 2.9478178715584207}\n",
      "Iteration # 3\n",
      "Losses: {'ner': 1.858482168662217}\n",
      "Iteration # 4\n",
      "Losses: {'ner': 1.2121309533570694}\n",
      "Iteration # 5\n",
      "Losses: {'ner': 1.675817336484937}\n",
      "Iteration # 6\n",
      "Losses: {'ner': 1.6983436784676362}\n",
      "Iteration # 7\n",
      "Losses: {'ner': 1.087571020713953}\n",
      "Iteration # 8\n",
      "Losses: {'ner': 1.9918660781384467}\n",
      "Iteration # 9\n",
      "Losses: {'ner': 0.951151707052491}\n",
      "Iteration # 10\n",
      "Losses: {'ner': 1.4281030047871028}\n",
      "Iteration # 11\n",
      "Losses: {'ner': 0.8105468829204088}\n",
      "Iteration # 12\n",
      "Losses: {'ner': 27.639045738249134}\n",
      "Iteration # 13\n",
      "Losses: {'ner': 28.54100299076437}\n",
      "Iteration # 14\n",
      "Losses: {'ner': 1.9229051734174873}\n",
      "Iteration # 15\n",
      "Losses: {'ner': 2.709783579269482}\n",
      "Iteration # 16\n",
      "Losses: {'ner': 1.4794484479004997}\n",
      "Iteration # 17\n",
      "Losses: {'ner': 1.4089912995110128}\n",
      "Iteration # 18\n",
      "Losses: {'ner': 0.8913804507396723}\n",
      "Iteration # 19\n",
      "Losses: {'ner': 1.8906158526307164}\n",
      "Iteration # 20\n",
      "Losses: {'ner': 1.444134294847588}\n",
      "Iteration # 21\n",
      "Losses: {'ner': 0.0001340620363570026}\n",
      "Iteration # 22\n",
      "Losses: {'ner': 1.2417392544586774e-06}\n",
      "Iteration # 23\n",
      "Losses: {'ner': 1.2795692573198627e-05}\n",
      "Iteration # 24\n",
      "Losses: {'ner': 7.83911788253836e-07}\n",
      "Iteration # 25\n",
      "Losses: {'ner': 1.0502999761886542e-05}\n",
      "Iteration # 26\n",
      "Losses: {'ner': 6.590823311012725e-06}\n",
      "Iteration # 27\n",
      "Losses: {'ner': 5.753214943831198e-07}\n",
      "Iteration # 28\n",
      "Losses: {'ner': 1.0914274499322768e-06}\n",
      "Iteration # 29\n",
      "Losses: {'ner': 1.3414683879197278e-06}\n",
      "Iteration # 30\n",
      "Losses: {'ner': 3.377130954872552e-06}\n",
      "Iteration # 31\n",
      "Losses: {'ner': 9.665226608567827e-07}\n",
      "Iteration # 32\n",
      "Losses: {'ner': 7.93683119051878e-07}\n",
      "Iteration # 33\n",
      "Losses: {'ner': 5.114898523205613e-07}\n",
      "Iteration # 34\n",
      "Losses: {'ner': 1.5497648652013271e-06}\n",
      "Iteration # 35\n",
      "Losses: {'ner': 2.1805660898154227e-07}\n",
      "Iteration # 36\n",
      "Losses: {'ner': 4.5979915093138744e-07}\n",
      "Iteration # 37\n",
      "Losses: {'ner': 2.2925177757106952e-06}\n",
      "Iteration # 38\n",
      "Losses: {'ner': 1.874243503942794e-07}\n",
      "Iteration # 39\n",
      "Losses: {'ner': 6.382624169883861e-08}\n",
      "Iteration # 40\n",
      "Losses: {'ner': 8.473249029731488e-07}\n",
      "Iteration # 41\n",
      "Losses: {'ner': 1.100389171402973e-07}\n",
      "Iteration # 42\n",
      "Losses: {'ner': 6.66993969122175e-08}\n",
      "Iteration # 43\n",
      "Losses: {'ner': 2.7064217321386707e-07}\n",
      "Iteration # 44\n",
      "Losses: {'ner': 8.086995973778459e-07}\n",
      "Iteration # 45\n",
      "Losses: {'ner': 2.6668955927104843e-07}\n",
      "Iteration # 46\n",
      "Losses: {'ner': 1.0849989575830937e-07}\n",
      "Iteration # 47\n",
      "Losses: {'ner': 6.513171631062492e-08}\n",
      "Iteration # 48\n",
      "Losses: {'ner': 1.300760957354057e-07}\n",
      "Iteration # 49\n",
      "Losses: {'ner': 1.1751817019873936e-07}\n",
      "Iteration # 50\n",
      "Losses: {'ner': 1.7435940670964372e-07}\n",
      "Iteration # 51\n",
      "Losses: {'ner': 4.522104317215551e-08}\n",
      "Iteration # 52\n",
      "Losses: {'ner': 6.546552615980704e-06}\n",
      "Iteration # 53\n",
      "Losses: {'ner': 5.28274721607348e-07}\n",
      "Iteration # 54\n",
      "Losses: {'ner': 1.95671428843133e-07}\n",
      "Iteration # 55\n",
      "Losses: {'ner': 2.286596915900747e-07}\n",
      "Iteration # 56\n",
      "Losses: {'ner': 4.2697929077170847e-07}\n",
      "Iteration # 57\n",
      "Losses: {'ner': 4.710646716126062e-08}\n",
      "Iteration # 58\n",
      "Losses: {'ner': 1.915070454257095e-08}\n",
      "Iteration # 59\n",
      "Losses: {'ner': 9.98421740169334e-08}\n"
     ]
    }
   ],
   "source": [
    "# Training model\n",
    "pipe_exceptions = [\"ner\", \"trf_wordpiecer\", \"trf_tok2vec\"]\n",
    "unaffected_pipes = [pipe for pipe in nlp.pipe_names if pipe not in pipe_exceptions]\n",
    "\n",
    "\n",
    "with nlp.disable_pipes(*unaffected_pipes):\n",
    "    for iteration in range(60):\n",
    "        print(\"Iteration #\", iteration)\n",
    "        # Data shuffle for each iteration\n",
    "        random.shuffle(train_data)\n",
    "        losses = {}\n",
    "\n",
    "        batches = minibatch(train_data, size=compounding(4.0, 32.0, 1.001))\n",
    "        for batch in batches:\n",
    "            for text, annotations in batch:\n",
    "                # Create an Example object\n",
    "                doc = nlp.make_doc(text)\n",
    "                example = Example.from_dict(doc, annotations)\n",
    "                nlp.update([example], losses=losses, drop=0.1)\n",
    "                # Update the model\n",
    "        print(\"Losses:\", losses)"
   ]
  },
  {
   "cell_type": "code",
   "execution_count": 24,
   "id": "78073995",
   "metadata": {
    "ExecuteTime": {
     "end_time": "2021-07-23T17:21:40.961453Z",
     "start_time": "2021-07-23T17:21:23.210451Z"
    }
   },
   "outputs": [
    {
     "name": "stdout",
     "output_type": "stream",
     "text": [
      "Saved correctly!\n"
     ]
    }
   ],
   "source": [
    "output_dir = Path(\"/ner/\")\n",
    "nlp.to_disk(output_dir)\n",
    "print(\"Saved correctly!\")"
   ]
  },
  {
   "cell_type": "code",
   "execution_count": 25,
   "id": "941e4319",
   "metadata": {
    "ExecuteTime": {
     "end_time": "2021-07-23T17:22:00.621562Z",
     "start_time": "2021-07-23T17:21:44.298580Z"
    }
   },
   "outputs": [
    {
     "name": "stdout",
     "output_type": "stream",
     "text": [
      "Loading model...\n"
     ]
    }
   ],
   "source": [
    "print(\"Loading model...\")\n",
    "nlp_updated = spacy.load(output_dir)"
   ]
  },
  {
   "cell_type": "code",
   "execution_count": 26,
   "id": "7127f27e",
   "metadata": {
    "ExecuteTime": {
     "end_time": "2021-07-23T17:22:12.076389Z",
     "start_time": "2021-07-23T17:22:12.053404Z"
    }
   },
   "outputs": [
    {
     "name": "stdout",
     "output_type": "stream",
     "text": [
      "entities: [('Tesla', 'CAR')]\n"
     ]
    }
   ],
   "source": [
    "# new sentence, new word\n",
    "doc = nlp_updated(\"Research before you buy or lease a new Tesla vehicle with expert ratings\")\n",
    "print(\"entities:\", [(ent.text, ent.label_) for ent in doc.ents])"
   ]
  },
  {
   "cell_type": "code",
   "execution_count": null,
   "id": "546c89eb",
   "metadata": {},
   "outputs": [],
   "source": [
    "# new sentence, new word\n",
    "doc = nlp_updated(\"Research before you buy or lease a new Tesla vehicle with expert ratings\")\n",
    "print(\"entities:\", [(ent.text, ent.label_) for ent in doc.ents])"
   ]
  },
  {
   "cell_type": "code",
   "execution_count": 27,
   "id": "fe54592c",
   "metadata": {
    "ExecuteTime": {
     "end_time": "2021-07-23T17:23:47.105381Z",
     "start_time": "2021-07-23T17:23:47.072387Z"
    }
   },
   "outputs": [
    {
     "name": "stdout",
     "output_type": "stream",
     "text": [
      "entities: [('Mercedes', 'CAR')]\n"
     ]
    }
   ],
   "source": [
    "# new sentence, new word\n",
    "doc = nlp_updated(\"Read the latest Mercedes new car reviews, put through their paces by our team of expert road testers, covering performance, depreciation, servicing cost, \")\n",
    "print(\"entities:\", [(ent.text, ent.label_) for ent in doc.ents])"
   ]
  },
  {
   "cell_type": "markdown",
   "id": "879c37aa",
   "metadata": {},
   "source": [
    "*Farrukh Bulbulov*"
   ]
  }
 ],
 "metadata": {
  "kernelspec": {
   "display_name": "Python 3",
   "language": "python",
   "name": "python3"
  },
  "language_info": {
   "codemirror_mode": {
    "name": "ipython",
    "version": 3
   },
   "file_extension": ".py",
   "mimetype": "text/x-python",
   "name": "python",
   "nbconvert_exporter": "python",
   "pygments_lexer": "ipython3",
   "version": "3.9.5"
  }
 },
 "nbformat": 4,
 "nbformat_minor": 5
}
