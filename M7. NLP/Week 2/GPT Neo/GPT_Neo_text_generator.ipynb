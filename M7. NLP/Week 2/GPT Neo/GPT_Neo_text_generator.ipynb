{
 "cells": [
  {
   "cell_type": "markdown",
   "source": "The folloging code generatre the texts usung GPT Neo model",
   "metadata": {
    "tags": [],
    "cell_id": "00000-504703c6-4233-4615-9bb8-513c09548922",
    "deepnote_cell_type": "markdown"
   }
  },
  {
   "cell_type": "code",
   "metadata": {
    "tags": [],
    "cell_id": "00001-a164343d-4733-4e24-be17-da61b19587d5",
    "deepnote_to_be_reexecuted": false,
    "source_hash": "93997a0d",
    "execution_start": 1629029628527,
    "execution_millis": 1621,
    "deepnote_cell_type": "code"
   },
   "source": "!pip install torch==1.8.1+cu111 torchvision==0.9.1+cu111 torchaudio===0.8.1 -f https://download.pytorch.org/whl/torch_stable.htm",
   "outputs": [
    {
     "name": "stdout",
     "text": "huggingface/tokenizers: The current process just got forked, after parallelism has already been used. Disabling parallelism to avoid deadlocks...\nTo disable this warning, you can either:\n\t- Avoid using `tokenizers` before the fork if possible\n\t- Explicitly set the environment variable TOKENIZERS_PARALLELISM=(true | false)\nLooking in links: https://download.pytorch.org/whl/torch_stable.htm\n\u001b[31mERROR: Could not find a version that satisfies the requirement torch==1.8.1+cu111 (from versions: 0.1.2, 0.1.2.post1, 0.1.2.post2, 0.4.1, 0.4.1.post2, 1.0.0, 1.0.1, 1.0.1.post2, 1.1.0, 1.2.0, 1.3.0, 1.3.1, 1.4.0, 1.5.0, 1.5.1, 1.6.0, 1.7.0, 1.7.1, 1.8.0, 1.8.1, 1.9.0)\u001b[0m\n\u001b[31mERROR: No matching distribution found for torch==1.8.1+cu111\u001b[0m\n\u001b[33mWARNING: You are using pip version 21.2.2; however, version 21.2.4 is available.\nYou should consider upgrading via the '/root/venv/bin/python -m pip install --upgrade pip' command.\u001b[0m\n",
     "output_type": "stream"
    }
   ],
   "execution_count": 12
  },
  {
   "cell_type": "code",
   "metadata": {
    "tags": [],
    "cell_id": "00004-1fd924c5-4e5c-44c3-9795-7654450a9f80",
    "deepnote_to_be_reexecuted": false,
    "source_hash": "d484f248",
    "execution_start": 1629029234210,
    "execution_millis": 14771,
    "deepnote_cell_type": "code"
   },
   "source": "#generator = pipeline('text-generation', model='EleutherAI/gpt-neo-1.3B') # Second line\ngenerator = pipeline('text-generation', model='EleutherAI/gpt-neo-125M')",
   "outputs": [
    {
     "data": {
      "text/plain": "Downloading:   0%|          | 0.00/1.01k [00:00<?, ?B/s]",
      "application/vnd.jupyter.widget-view+json": {
       "version_major": 2,
       "version_minor": 0,
       "model_id": "e3983b42d93947a9963a92da6e3b5caa"
      }
     },
     "metadata": {},
     "output_type": "display_data"
    },
    {
     "data": {
      "text/plain": "Downloading:   0%|          | 0.00/526M [00:00<?, ?B/s]",
      "application/vnd.jupyter.widget-view+json": {
       "version_major": 2,
       "version_minor": 0,
       "model_id": "f43402d81ea64784a0c9c9550cb73262"
      }
     },
     "metadata": {},
     "output_type": "display_data"
    },
    {
     "data": {
      "text/plain": "Downloading:   0%|          | 0.00/560 [00:00<?, ?B/s]",
      "application/vnd.jupyter.widget-view+json": {
       "version_major": 2,
       "version_minor": 0,
       "model_id": "b3273ed508d748ada80dc3c0594b0ee7"
      }
     },
     "metadata": {},
     "output_type": "display_data"
    },
    {
     "data": {
      "text/plain": "Downloading:   0%|          | 0.00/899k [00:00<?, ?B/s]",
      "application/vnd.jupyter.widget-view+json": {
       "version_major": 2,
       "version_minor": 0,
       "model_id": "8bb97d01e5294641adcdb8787aa40280"
      }
     },
     "metadata": {},
     "output_type": "display_data"
    },
    {
     "data": {
      "text/plain": "Downloading:   0%|          | 0.00/456k [00:00<?, ?B/s]",
      "application/vnd.jupyter.widget-view+json": {
       "version_major": 2,
       "version_minor": 0,
       "model_id": "40cedb9aac4b4981b9086b32916c087b"
      }
     },
     "metadata": {},
     "output_type": "display_data"
    },
    {
     "data": {
      "text/plain": "Downloading:   0%|          | 0.00/357 [00:00<?, ?B/s]",
      "application/vnd.jupyter.widget-view+json": {
       "version_major": 2,
       "version_minor": 0,
       "model_id": "f54c09c52c81445fa6f91aee53e77a56"
      }
     },
     "metadata": {},
     "output_type": "display_data"
    }
   ],
   "execution_count": 4
  },
  {
   "cell_type": "code",
   "metadata": {
    "tags": [],
    "cell_id": "00005-b2cbbee8-bad0-4c16-adfb-cf39563d40a8",
    "deepnote_to_be_reexecuted": false,
    "source_hash": "78d22260",
    "execution_start": 1629029580087,
    "execution_millis": 2,
    "deepnote_cell_type": "code"
   },
   "source": "prompt = \"The future of AI and the humankind. Next steps of the human developemnt under Artificial Intellegence\"",
   "outputs": [],
   "execution_count": 10
  },
  {
   "cell_type": "code",
   "metadata": {
    "tags": [],
    "cell_id": "00006-c29fb47a-3e59-43da-9d57-80f961d4f43d",
    "deepnote_to_be_reexecuted": false,
    "source_hash": "14adf368",
    "execution_start": 1629029582706,
    "execution_millis": 45809,
    "deepnote_cell_type": "code"
   },
   "source": "res = generator(prompt, max_length=500, do_sample=True, temperature=0.9)",
   "outputs": [
    {
     "name": "stderr",
     "text": "Setting `pad_token_id` to `eos_token_id`:50256 for open-end generation.\n",
     "output_type": "stream"
    }
   ],
   "execution_count": 11
  },
  {
   "cell_type": "code",
   "metadata": {
    "tags": [],
    "cell_id": "00007-f58280dd-59fa-4b71-9c49-37adc8b83496",
    "deepnote_to_be_reexecuted": false,
    "source_hash": "fda970b3",
    "execution_start": 1629029775070,
    "execution_millis": 6,
    "deepnote_cell_type": "code"
   },
   "source": "print(res[0]['generated_text'])",
   "outputs": [
    {
     "name": "stdout",
     "text": "The future of AI and the humankind. Next steps of the human developemnt under Artificial Intellegence.\n\nA new report from the University of Michigan's Center for Human Intelligence provides a brief overview of the latest news and analysis of AI over the past five years.\n\nWhat is AI?\n\nAI is the theory and practice of studying and manipulating human minds and behaviors.\n\nIt is a combination of the senses that allow us to think in ways we normally don’t.\n\nOne of the most important senses, we have the ability to perceive sounds, images, sounds and other physical sensations.\n\nWhile the senses are often thought of as just the same as our physical senses, a good example of the latter is the ability to sense the sound of a car going on. The human senses are much more than our physical senses. We sense that the car is traveling the right direction so it is moving at the right time.\n\nAnd the sound is very simple. Our senses tell us whether or not the car is moving on the right or the wrong direction. In reality, humans have less than 10% control over our sense of movement. In the case of our senses, the car is moving toward you at 5 mph.\n\nWhat does this mean for AI?\n\nAI stands for Artificial Intelligence. When we create AI, we are creating artificial intelligence through a simple technique called Machine Learning. The process is called Machine Learning.\n\nAlthough a Machine Learning technique is not a human-made invention, a good example of the machine learning aspect of AI is the discovery of robots. These robots were discovered back in the 1980s, and the term \"Robots\" could have been coined over a decade later.\n\nRobots are humans learning things or learning to walk. They are created to assist in human operations such as collecting people, shopping, and driving in the right direction. Their job is to help the human mind and brain see things in the right way.\n\nRobots are all about information and information and often they are used in a variety of ways. They are used to help people know what they want to do with their lives. So let’s look at some of the most significant examples.\n\nOne of the biggest names used to popularize the term \"Robots\" is James Watson.\n\nIn the 1800s, James Watson was a very talented, well-known expert on the topic of the\n",
     "output_type": "stream"
    }
   ],
   "execution_count": 13
  },
  {
   "cell_type": "markdown",
   "source": "<a style='text-decoration:none;line-height:16px;display:flex;color:#5B5B62;padding:10px;justify-content:end;' href='https://deepnote.com?utm_source=created-in-deepnote-cell&projectId=270aa81b-e9ae-4070-9a0e-c1911f4edc4e' target=\"_blank\">\n<img alt='Created in deepnote.com' style='display:inline;max-height:16px;margin:0px;margin-right:7.5px;' src='data:image/svg+xml;base64,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' > </img>\nCreated in <span style='font-weight:600;margin-left:4px;'>Deepnote</span></a>",
   "metadata": {
    "tags": [],
    "created_in_deepnote_cell": true,
    "deepnote_cell_type": "markdown"
   }
  }
 ],
 "nbformat": 4,
 "nbformat_minor": 2,
 "metadata": {
  "orig_nbformat": 2,
  "deepnote": {
   "is_reactive": false
  },
  "deepnote_notebook_id": "861c6a1d-9cb9-4304-a788-13fc9a5cd5f3",
  "deepnote_execution_queue": []
 }
}