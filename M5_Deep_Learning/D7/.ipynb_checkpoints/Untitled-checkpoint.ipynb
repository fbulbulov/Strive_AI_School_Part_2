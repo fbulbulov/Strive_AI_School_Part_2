{
 "cells": [
  {
   "cell_type": "code",
   "execution_count": 1,
   "id": "74cf7deb",
   "metadata": {},
   "outputs": [],
   "source": [
    "%matplotlib inline\n",
    "%config InlineBackend.figure_format='retina'\n",
    "\n",
    "import matplotlib.pyplot as plt\n",
    "import torch\n",
    "from torch import nn\n",
    "from torch import optim\n",
    "import torch.nn.functional as F\n",
    "from torchvision import datasets, transforms, models"
   ]
  },
  {
   "cell_type": "code",
   "execution_count": 2,
   "id": "150985e4",
   "metadata": {},
   "outputs": [],
   "source": [
    "data_dir='example_dataset'"
   ]
  },
  {
   "cell_type": "code",
   "execution_count": null,
   "id": "f91e1547",
   "metadata": {},
   "outputs": [],
   "source": [
    "train_transform= transforms.Compose([transforms.Random])"
   ]
  }
 ],
 "metadata": {
  "kernelspec": {
   "display_name": "Python 3",
   "language": "python",
   "name": "python3"
  },
  "language_info": {
   "codemirror_mode": {
    "name": "ipython",
    "version": 3
   },
   "file_extension": ".py",
   "mimetype": "text/x-python",
   "name": "python",
   "nbconvert_exporter": "python",
   "pygments_lexer": "ipython3",
   "version": "3.8.8"
  }
 },
 "nbformat": 4,
 "nbformat_minor": 5
}
