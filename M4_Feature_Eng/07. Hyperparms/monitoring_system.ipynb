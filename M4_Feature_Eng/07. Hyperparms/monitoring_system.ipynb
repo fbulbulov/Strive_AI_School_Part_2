{
 "cells": [
  {
   "cell_type": "code",
   "metadata": {
    "tags": [],
    "cell_id": "00000-a3dbfb01-014f-459c-9c8f-818e9d03c32c",
    "deepnote_to_be_reexecuted": false,
    "source_hash": "e3fa4484",
    "execution_start": 1620396582981,
    "execution_millis": 1,
    "deepnote_cell_type": "code"
   },
   "source": "# Start writing code here...\n\nimport numpy as np\nimport pandas as pd\nimport time\nfrom IPython.display import clear_output\nimport numpy    as np\nimport pandas   as pd\nimport seaborn  as sns\nimport matplotlib.pyplot as plt\nimport sklearn  as skl\n\nfrom matplotlib import rcParams\nfrom matplotlib.cm import rainbow\n%matplotlib inline\nimport warnings\n\n\nfrom sklearn import pipeline      # Pipeline\nfrom sklearn import preprocessing # OrdinalEncoder, LabelEncoder\nfrom sklearn import impute\nfrom sklearn import compose\nfrom sklearn import model_selection # train_test_split\nfrom sklearn import metrics         # accuracy_score, balanced_accuracy_score, plot_confusion_matrix\nfrom sklearn import set_config\n\nfrom sklearn.model_selection import train_test_split\nfrom sklearn.preprocessing import StandardScaler\nfrom sklearn.neighbors import KNeighborsClassifier\nfrom sklearn.tree import DecisionTreeClassifier\nfrom sklearn.ensemble import RandomForestClassifier\n\nfrom catboost              import CatBoostClassifier\n\nset_config(display='diagram') ",
   "outputs": [],
   "execution_count": null
  },
  {
   "cell_type": "code",
   "source": "df = pd.read_csv('heart.csv')\ndf.describe()",
   "metadata": {
    "tags": [],
    "cell_id": "00002-4433384b-c19b-46a7-a24e-67f6d16dbc16",
    "deepnote_to_be_reexecuted": false,
    "source_hash": "9fa24d0b",
    "execution_start": 1620394564893,
    "execution_millis": 90,
    "deepnote_cell_type": "code"
   },
   "outputs": [
    {
     "output_type": "execute_result",
     "execution_count": 20,
     "data": {
      "application/vnd.deepnote.dataframe.v2+json": {
       "row_count": 8,
       "column_count": 14,
       "columns": [
        {
         "name": "age",
         "dtype": "float64",
         "stats": {
          "unique_count": 8,
          "nan_count": 0,
          "min": "9.082100989837857",
          "max": "303.0",
          "histogram": [
           {
            "bin_start": 9.082100989837857,
            "bin_end": 38.47389089085407,
            "count": 2
           },
           {
            "bin_start": 38.47389089085407,
            "bin_end": 67.86568079187029,
            "count": 4
           },
           {
            "bin_start": 67.86568079187029,
            "bin_end": 97.25747069288651,
            "count": 1
           },
           {
            "bin_start": 97.25747069288651,
            "bin_end": 126.64926059390272,
            "count": 0
           },
           {
            "bin_start": 126.64926059390272,
            "bin_end": 156.04105049491895,
            "count": 0
           },
           {
            "bin_start": 156.04105049491895,
            "bin_end": 185.4328403959352,
            "count": 0
           },
           {
            "bin_start": 185.4328403959352,
            "bin_end": 214.8246302969514,
            "count": 0
           },
           {
            "bin_start": 214.8246302969514,
            "bin_end": 244.2164201979676,
            "count": 0
           },
           {
            "bin_start": 244.2164201979676,
            "bin_end": 273.6082100989838,
            "count": 0
           },
           {
            "bin_start": 273.6082100989838,
            "bin_end": 303,
            "count": 1
           }
          ]
         }
        },
        {
         "name": "sex",
         "dtype": "float64",
         "stats": {
          "unique_count": 5,
          "nan_count": 0,
          "min": "0.0",
          "max": "303.0",
          "histogram": [
           {
            "bin_start": 0,
            "bin_end": 30.3,
            "count": 7
           },
           {
            "bin_start": 30.3,
            "bin_end": 60.6,
            "count": 0
           },
           {
            "bin_start": 60.6,
            "bin_end": 90.9,
            "count": 0
           },
           {
            "bin_start": 90.9,
            "bin_end": 121.2,
            "count": 0
           },
           {
            "bin_start": 121.2,
            "bin_end": 151.5,
            "count": 0
           },
           {
            "bin_start": 151.5,
            "bin_end": 181.8,
            "count": 0
           },
           {
            "bin_start": 181.8,
            "bin_end": 212.1,
            "count": 0
           },
           {
            "bin_start": 212.1,
            "bin_end": 242.4,
            "count": 0
           },
           {
            "bin_start": 242.4,
            "bin_end": 272.7,
            "count": 0
           },
           {
            "bin_start": 272.7,
            "bin_end": 303,
            "count": 1
           }
          ]
         }
        },
        {
         "name": "cp",
         "dtype": "float64",
         "stats": {
          "unique_count": 7,
          "nan_count": 0,
          "min": "0.0",
          "max": "303.0",
          "histogram": [
           {
            "bin_start": 0,
            "bin_end": 30.3,
            "count": 7
           },
           {
            "bin_start": 30.3,
            "bin_end": 60.6,
            "count": 0
           },
           {
            "bin_start": 60.6,
            "bin_end": 90.9,
            "count": 0
           },
           {
            "bin_start": 90.9,
            "bin_end": 121.2,
            "count": 0
           },
           {
            "bin_start": 121.2,
            "bin_end": 151.5,
            "count": 0
           },
           {
            "bin_start": 151.5,
            "bin_end": 181.8,
            "count": 0
           },
           {
            "bin_start": 181.8,
            "bin_end": 212.1,
            "count": 0
           },
           {
            "bin_start": 212.1,
            "bin_end": 242.4,
            "count": 0
           },
           {
            "bin_start": 242.4,
            "bin_end": 272.7,
            "count": 0
           },
           {
            "bin_start": 272.7,
            "bin_end": 303,
            "count": 1
           }
          ]
         }
        },
        {
         "name": "trestbps",
         "dtype": "float64",
         "stats": {
          "unique_count": 8,
          "nan_count": 0,
          "min": "17.5381428135171",
          "max": "303.0",
          "histogram": [
           {
            "bin_start": 17.5381428135171,
            "bin_end": 46.084328532165394,
            "count": 1
           },
           {
            "bin_start": 46.084328532165394,
            "bin_end": 74.63051425081369,
            "count": 0
           },
           {
            "bin_start": 74.63051425081369,
            "bin_end": 103.17669996946198,
            "count": 1
           },
           {
            "bin_start": 103.17669996946198,
            "bin_end": 131.72288568811027,
            "count": 3
           },
           {
            "bin_start": 131.72288568811027,
            "bin_end": 160.26907140675857,
            "count": 1
           },
           {
            "bin_start": 160.26907140675857,
            "bin_end": 188.81525712540687,
            "count": 0
           },
           {
            "bin_start": 188.81525712540687,
            "bin_end": 217.36144284405515,
            "count": 1
           },
           {
            "bin_start": 217.36144284405515,
            "bin_end": 245.90762856270345,
            "count": 0
           },
           {
            "bin_start": 245.90762856270345,
            "bin_end": 274.4538142813517,
            "count": 0
           },
           {
            "bin_start": 274.4538142813517,
            "bin_end": 303,
            "count": 1
           }
          ]
         }
        },
        {
         "name": "chol",
         "dtype": "float64",
         "stats": {
          "unique_count": 8,
          "nan_count": 0,
          "min": "51.83075098793003",
          "max": "564.0",
          "histogram": [
           {
            "bin_start": 51.83075098793003,
            "bin_end": 103.04767588913703,
            "count": 1
           },
           {
            "bin_start": 103.04767588913703,
            "bin_end": 154.26460079034402,
            "count": 1
           },
           {
            "bin_start": 154.26460079034402,
            "bin_end": 205.481525691551,
            "count": 0
           },
           {
            "bin_start": 205.481525691551,
            "bin_end": 256.69845059275804,
            "count": 3
           },
           {
            "bin_start": 256.69845059275804,
            "bin_end": 307.91537549396503,
            "count": 2
           },
           {
            "bin_start": 307.91537549396503,
            "bin_end": 359.132300395172,
            "count": 0
           },
           {
            "bin_start": 359.132300395172,
            "bin_end": 410.349225296379,
            "count": 0
           },
           {
            "bin_start": 410.349225296379,
            "bin_end": 461.566150197586,
            "count": 0
           },
           {
            "bin_start": 461.566150197586,
            "bin_end": 512.783075098793,
            "count": 0
           },
           {
            "bin_start": 512.783075098793,
            "bin_end": 564,
            "count": 1
           }
          ]
         }
        },
        {
         "name": "fbs",
         "dtype": "float64",
         "stats": {
          "unique_count": 5,
          "nan_count": 0,
          "min": "0.0",
          "max": "303.0",
          "histogram": [
           {
            "bin_start": 0,
            "bin_end": 30.3,
            "count": 7
           },
           {
            "bin_start": 30.3,
            "bin_end": 60.6,
            "count": 0
           },
           {
            "bin_start": 60.6,
            "bin_end": 90.9,
            "count": 0
           },
           {
            "bin_start": 90.9,
            "bin_end": 121.2,
            "count": 0
           },
           {
            "bin_start": 121.2,
            "bin_end": 151.5,
            "count": 0
           },
           {
            "bin_start": 151.5,
            "bin_end": 181.8,
            "count": 0
           },
           {
            "bin_start": 181.8,
            "bin_end": 212.1,
            "count": 0
           },
           {
            "bin_start": 212.1,
            "bin_end": 242.4,
            "count": 0
           },
           {
            "bin_start": 242.4,
            "bin_end": 272.7,
            "count": 0
           },
           {
            "bin_start": 272.7,
            "bin_end": 303,
            "count": 1
           }
          ]
         }
        },
        {
         "name": "restecg",
         "dtype": "float64",
         "stats": {
          "unique_count": 6,
          "nan_count": 0,
          "min": "0.0",
          "max": "303.0",
          "histogram": [
           {
            "bin_start": 0,
            "bin_end": 30.3,
            "count": 7
           },
           {
            "bin_start": 30.3,
            "bin_end": 60.6,
            "count": 0
           },
           {
            "bin_start": 60.6,
            "bin_end": 90.9,
            "count": 0
           },
           {
            "bin_start": 90.9,
            "bin_end": 121.2,
            "count": 0
           },
           {
            "bin_start": 121.2,
            "bin_end": 151.5,
            "count": 0
           },
           {
            "bin_start": 151.5,
            "bin_end": 181.8,
            "count": 0
           },
           {
            "bin_start": 181.8,
            "bin_end": 212.1,
            "count": 0
           },
           {
            "bin_start": 212.1,
            "bin_end": 242.4,
            "count": 0
           },
           {
            "bin_start": 242.4,
            "bin_end": 272.7,
            "count": 0
           },
           {
            "bin_start": 272.7,
            "bin_end": 303,
            "count": 1
           }
          ]
         }
        },
        {
         "name": "thalach",
         "dtype": "float64",
         "stats": {
          "unique_count": 8,
          "nan_count": 0,
          "min": "22.905161114914094",
          "max": "303.0",
          "histogram": [
           {
            "bin_start": 22.905161114914094,
            "bin_end": 50.914645003422685,
            "count": 1
           },
           {
            "bin_start": 50.914645003422685,
            "bin_end": 78.92412889193128,
            "count": 1
           },
           {
            "bin_start": 78.92412889193128,
            "bin_end": 106.93361278043987,
            "count": 0
           },
           {
            "bin_start": 106.93361278043987,
            "bin_end": 134.94309666894844,
            "count": 1
           },
           {
            "bin_start": 134.94309666894844,
            "bin_end": 162.95258055745705,
            "count": 2
           },
           {
            "bin_start": 162.95258055745705,
            "bin_end": 190.96206444596567,
            "count": 1
           },
           {
            "bin_start": 190.96206444596567,
            "bin_end": 218.97154833447422,
            "count": 1
           },
           {
            "bin_start": 218.97154833447422,
            "bin_end": 246.98103222298283,
            "count": 0
           },
           {
            "bin_start": 246.98103222298283,
            "bin_end": 274.9905161114914,
            "count": 0
           },
           {
            "bin_start": 274.9905161114914,
            "bin_end": 303,
            "count": 1
           }
          ]
         }
        },
        {
         "name": "exang",
         "dtype": "float64",
         "stats": {
          "unique_count": 5,
          "nan_count": 0,
          "min": "0.0",
          "max": "303.0",
          "histogram": [
           {
            "bin_start": 0,
            "bin_end": 30.3,
            "count": 7
           },
           {
            "bin_start": 30.3,
            "bin_end": 60.6,
            "count": 0
           },
           {
            "bin_start": 60.6,
            "bin_end": 90.9,
            "count": 0
           },
           {
            "bin_start": 90.9,
            "bin_end": 121.2,
            "count": 0
           },
           {
            "bin_start": 121.2,
            "bin_end": 151.5,
            "count": 0
           },
           {
            "bin_start": 151.5,
            "bin_end": 181.8,
            "count": 0
           },
           {
            "bin_start": 181.8,
            "bin_end": 212.1,
            "count": 0
           },
           {
            "bin_start": 212.1,
            "bin_end": 242.4,
            "count": 0
           },
           {
            "bin_start": 242.4,
            "bin_end": 272.7,
            "count": 0
           },
           {
            "bin_start": 272.7,
            "bin_end": 303,
            "count": 1
           }
          ]
         }
        },
        {
         "name": "oldpeak",
         "dtype": "float64",
         "stats": {
          "unique_count": 7,
          "nan_count": 0,
          "min": "0.0",
          "max": "303.0",
          "histogram": [
           {
            "bin_start": 0,
            "bin_end": 30.3,
            "count": 7
           },
           {
            "bin_start": 30.3,
            "bin_end": 60.6,
            "count": 0
           },
           {
            "bin_start": 60.6,
            "bin_end": 90.9,
            "count": 0
           },
           {
            "bin_start": 90.9,
            "bin_end": 121.2,
            "count": 0
           },
           {
            "bin_start": 121.2,
            "bin_end": 151.5,
            "count": 0
           },
           {
            "bin_start": 151.5,
            "bin_end": 181.8,
            "count": 0
           },
           {
            "bin_start": 181.8,
            "bin_end": 212.1,
            "count": 0
           },
           {
            "bin_start": 212.1,
            "bin_end": 242.4,
            "count": 0
           },
           {
            "bin_start": 242.4,
            "bin_end": 272.7,
            "count": 0
           },
           {
            "bin_start": 272.7,
            "bin_end": 303,
            "count": 1
           }
          ]
         }
        },
        {
         "name": "slope",
         "dtype": "float64",
         "stats": {
          "unique_count": 6,
          "nan_count": 0,
          "min": "0.0",
          "max": "303.0",
          "histogram": [
           {
            "bin_start": 0,
            "bin_end": 30.3,
            "count": 7
           },
           {
            "bin_start": 30.3,
            "bin_end": 60.6,
            "count": 0
           },
           {
            "bin_start": 60.6,
            "bin_end": 90.9,
            "count": 0
           },
           {
            "bin_start": 90.9,
            "bin_end": 121.2,
            "count": 0
           },
           {
            "bin_start": 121.2,
            "bin_end": 151.5,
            "count": 0
           },
           {
            "bin_start": 151.5,
            "bin_end": 181.8,
            "count": 0
           },
           {
            "bin_start": 181.8,
            "bin_end": 212.1,
            "count": 0
           },
           {
            "bin_start": 212.1,
            "bin_end": 242.4,
            "count": 0
           },
           {
            "bin_start": 242.4,
            "bin_end": 272.7,
            "count": 0
           },
           {
            "bin_start": 272.7,
            "bin_end": 303,
            "count": 1
           }
          ]
         }
        },
        {
         "name": "ca",
         "dtype": "float64",
         "stats": {
          "unique_count": 6,
          "nan_count": 0,
          "min": "0.0",
          "max": "303.0",
          "histogram": [
           {
            "bin_start": 0,
            "bin_end": 30.3,
            "count": 7
           },
           {
            "bin_start": 30.3,
            "bin_end": 60.6,
            "count": 0
           },
           {
            "bin_start": 60.6,
            "bin_end": 90.9,
            "count": 0
           },
           {
            "bin_start": 90.9,
            "bin_end": 121.2,
            "count": 0
           },
           {
            "bin_start": 121.2,
            "bin_end": 151.5,
            "count": 0
           },
           {
            "bin_start": 151.5,
            "bin_end": 181.8,
            "count": 0
           },
           {
            "bin_start": 181.8,
            "bin_end": 212.1,
            "count": 0
           },
           {
            "bin_start": 212.1,
            "bin_end": 242.4,
            "count": 0
           },
           {
            "bin_start": 242.4,
            "bin_end": 272.7,
            "count": 0
           },
           {
            "bin_start": 272.7,
            "bin_end": 303,
            "count": 1
           }
          ]
         }
        },
        {
         "name": "thal",
         "dtype": "float64",
         "stats": {
          "unique_count": 6,
          "nan_count": 0,
          "min": "0.0",
          "max": "303.0",
          "histogram": [
           {
            "bin_start": 0,
            "bin_end": 30.3,
            "count": 7
           },
           {
            "bin_start": 30.3,
            "bin_end": 60.6,
            "count": 0
           },
           {
            "bin_start": 60.6,
            "bin_end": 90.9,
            "count": 0
           },
           {
            "bin_start": 90.9,
            "bin_end": 121.2,
            "count": 0
           },
           {
            "bin_start": 121.2,
            "bin_end": 151.5,
            "count": 0
           },
           {
            "bin_start": 151.5,
            "bin_end": 181.8,
            "count": 0
           },
           {
            "bin_start": 181.8,
            "bin_end": 212.1,
            "count": 0
           },
           {
            "bin_start": 212.1,
            "bin_end": 242.4,
            "count": 0
           },
           {
            "bin_start": 242.4,
            "bin_end": 272.7,
            "count": 0
           },
           {
            "bin_start": 272.7,
            "bin_end": 303,
            "count": 1
           }
          ]
         }
        },
        {
         "name": "target",
         "dtype": "float64",
         "stats": {
          "unique_count": 5,
          "nan_count": 0,
          "min": "0.0",
          "max": "303.0",
          "histogram": [
           {
            "bin_start": 0,
            "bin_end": 30.3,
            "count": 7
           },
           {
            "bin_start": 30.3,
            "bin_end": 60.6,
            "count": 0
           },
           {
            "bin_start": 60.6,
            "bin_end": 90.9,
            "count": 0
           },
           {
            "bin_start": 90.9,
            "bin_end": 121.2,
            "count": 0
           },
           {
            "bin_start": 121.2,
            "bin_end": 151.5,
            "count": 0
           },
           {
            "bin_start": 151.5,
            "bin_end": 181.8,
            "count": 0
           },
           {
            "bin_start": 181.8,
            "bin_end": 212.1,
            "count": 0
           },
           {
            "bin_start": 212.1,
            "bin_end": 242.4,
            "count": 0
           },
           {
            "bin_start": 242.4,
            "bin_end": 272.7,
            "count": 0
           },
           {
            "bin_start": 272.7,
            "bin_end": 303,
            "count": 1
           }
          ]
         }
        },
        {
         "name": "_deepnote_index_column",
         "dtype": "object"
        }
       ],
       "rows_top": [
        {
         "age": 303,
         "sex": 303,
         "cp": 303,
         "trestbps": 303,
         "chol": 303,
         "fbs": 303,
         "restecg": 303,
         "thalach": 303,
         "exang": 303,
         "oldpeak": 303,
         "slope": 303,
         "ca": 303,
         "thal": 303,
         "target": 303,
         "_deepnote_index_column": "count"
        },
        {
         "age": 54.366336633663366,
         "sex": 0.6831683168316832,
         "cp": 0.966996699669967,
         "trestbps": 131.62376237623764,
         "chol": 246.26402640264027,
         "fbs": 0.1485148514851485,
         "restecg": 0.528052805280528,
         "thalach": 149.64686468646866,
         "exang": 0.32673267326732675,
         "oldpeak": 1.0396039603960396,
         "slope": 1.3993399339933994,
         "ca": 0.7293729372937293,
         "thal": 2.3135313531353137,
         "target": 0.5445544554455446,
         "_deepnote_index_column": "mean"
        },
        {
         "age": 9.082100989837857,
         "sex": 0.46601082333962385,
         "cp": 1.0320524894832985,
         "trestbps": 17.5381428135171,
         "chol": 51.83075098793003,
         "fbs": 0.35619787492797644,
         "restecg": 0.525859596359298,
         "thalach": 22.905161114914094,
         "exang": 0.4697944645223165,
         "oldpeak": 1.1610750220686348,
         "slope": 0.6162261453459619,
         "ca": 1.022606364969327,
         "thal": 0.6122765072781409,
         "target": 0.4988347841643913,
         "_deepnote_index_column": "std"
        },
        {
         "age": 29,
         "sex": 0,
         "cp": 0,
         "trestbps": 94,
         "chol": 126,
         "fbs": 0,
         "restecg": 0,
         "thalach": 71,
         "exang": 0,
         "oldpeak": 0,
         "slope": 0,
         "ca": 0,
         "thal": 0,
         "target": 0,
         "_deepnote_index_column": "min"
        },
        {
         "age": 47.5,
         "sex": 0,
         "cp": 0,
         "trestbps": 120,
         "chol": 211,
         "fbs": 0,
         "restecg": 0,
         "thalach": 133.5,
         "exang": 0,
         "oldpeak": 0,
         "slope": 1,
         "ca": 0,
         "thal": 2,
         "target": 0,
         "_deepnote_index_column": "25%"
        },
        {
         "age": 55,
         "sex": 1,
         "cp": 1,
         "trestbps": 130,
         "chol": 240,
         "fbs": 0,
         "restecg": 1,
         "thalach": 153,
         "exang": 0,
         "oldpeak": 0.8,
         "slope": 1,
         "ca": 0,
         "thal": 2,
         "target": 1,
         "_deepnote_index_column": "50%"
        },
        {
         "age": 61,
         "sex": 1,
         "cp": 2,
         "trestbps": 140,
         "chol": 274.5,
         "fbs": 0,
         "restecg": 1,
         "thalach": 166,
         "exang": 1,
         "oldpeak": 1.6,
         "slope": 2,
         "ca": 1,
         "thal": 3,
         "target": 1,
         "_deepnote_index_column": "75%"
        },
        {
         "age": 77,
         "sex": 1,
         "cp": 3,
         "trestbps": 200,
         "chol": 564,
         "fbs": 1,
         "restecg": 2,
         "thalach": 202,
         "exang": 1,
         "oldpeak": 6.2,
         "slope": 2,
         "ca": 4,
         "thal": 3,
         "target": 1,
         "_deepnote_index_column": "max"
        }
       ],
       "rows_bottom": null
      },
      "text/plain": "              age         sex          cp    trestbps        chol         fbs  \\\ncount  303.000000  303.000000  303.000000  303.000000  303.000000  303.000000   \nmean    54.366337    0.683168    0.966997  131.623762  246.264026    0.148515   \nstd      9.082101    0.466011    1.032052   17.538143   51.830751    0.356198   \nmin     29.000000    0.000000    0.000000   94.000000  126.000000    0.000000   \n25%     47.500000    0.000000    0.000000  120.000000  211.000000    0.000000   \n50%     55.000000    1.000000    1.000000  130.000000  240.000000    0.000000   \n75%     61.000000    1.000000    2.000000  140.000000  274.500000    0.000000   \nmax     77.000000    1.000000    3.000000  200.000000  564.000000    1.000000   \n\n          restecg     thalach       exang     oldpeak       slope          ca  \\\ncount  303.000000  303.000000  303.000000  303.000000  303.000000  303.000000   \nmean     0.528053  149.646865    0.326733    1.039604    1.399340    0.729373   \nstd      0.525860   22.905161    0.469794    1.161075    0.616226    1.022606   \nmin      0.000000   71.000000    0.000000    0.000000    0.000000    0.000000   \n25%      0.000000  133.500000    0.000000    0.000000    1.000000    0.000000   \n50%      1.000000  153.000000    0.000000    0.800000    1.000000    0.000000   \n75%      1.000000  166.000000    1.000000    1.600000    2.000000    1.000000   \nmax      2.000000  202.000000    1.000000    6.200000    2.000000    4.000000   \n\n             thal      target  \ncount  303.000000  303.000000  \nmean     2.313531    0.544554  \nstd      0.612277    0.498835  \nmin      0.000000    0.000000  \n25%      2.000000    0.000000  \n50%      2.000000    1.000000  \n75%      3.000000    1.000000  \nmax      3.000000    1.000000  ",
      "text/html": "<div>\n<style scoped>\n    .dataframe tbody tr th:only-of-type {\n        vertical-align: middle;\n    }\n\n    .dataframe tbody tr th {\n        vertical-align: top;\n    }\n\n    .dataframe thead th {\n        text-align: right;\n    }\n</style>\n<table border=\"1\" class=\"dataframe\">\n  <thead>\n    <tr style=\"text-align: right;\">\n      <th></th>\n      <th>age</th>\n      <th>sex</th>\n      <th>cp</th>\n      <th>trestbps</th>\n      <th>chol</th>\n      <th>fbs</th>\n      <th>restecg</th>\n      <th>thalach</th>\n      <th>exang</th>\n      <th>oldpeak</th>\n      <th>slope</th>\n      <th>ca</th>\n      <th>thal</th>\n      <th>target</th>\n    </tr>\n  </thead>\n  <tbody>\n    <tr>\n      <th>count</th>\n      <td>303.000000</td>\n      <td>303.000000</td>\n      <td>303.000000</td>\n      <td>303.000000</td>\n      <td>303.000000</td>\n      <td>303.000000</td>\n      <td>303.000000</td>\n      <td>303.000000</td>\n      <td>303.000000</td>\n      <td>303.000000</td>\n      <td>303.000000</td>\n      <td>303.000000</td>\n      <td>303.000000</td>\n      <td>303.000000</td>\n    </tr>\n    <tr>\n      <th>mean</th>\n      <td>54.366337</td>\n      <td>0.683168</td>\n      <td>0.966997</td>\n      <td>131.623762</td>\n      <td>246.264026</td>\n      <td>0.148515</td>\n      <td>0.528053</td>\n      <td>149.646865</td>\n      <td>0.326733</td>\n      <td>1.039604</td>\n      <td>1.399340</td>\n      <td>0.729373</td>\n      <td>2.313531</td>\n      <td>0.544554</td>\n    </tr>\n    <tr>\n      <th>std</th>\n      <td>9.082101</td>\n      <td>0.466011</td>\n      <td>1.032052</td>\n      <td>17.538143</td>\n      <td>51.830751</td>\n      <td>0.356198</td>\n      <td>0.525860</td>\n      <td>22.905161</td>\n      <td>0.469794</td>\n      <td>1.161075</td>\n      <td>0.616226</td>\n      <td>1.022606</td>\n      <td>0.612277</td>\n      <td>0.498835</td>\n    </tr>\n    <tr>\n      <th>min</th>\n      <td>29.000000</td>\n      <td>0.000000</td>\n      <td>0.000000</td>\n      <td>94.000000</td>\n      <td>126.000000</td>\n      <td>0.000000</td>\n      <td>0.000000</td>\n      <td>71.000000</td>\n      <td>0.000000</td>\n      <td>0.000000</td>\n      <td>0.000000</td>\n      <td>0.000000</td>\n      <td>0.000000</td>\n      <td>0.000000</td>\n    </tr>\n    <tr>\n      <th>25%</th>\n      <td>47.500000</td>\n      <td>0.000000</td>\n      <td>0.000000</td>\n      <td>120.000000</td>\n      <td>211.000000</td>\n      <td>0.000000</td>\n      <td>0.000000</td>\n      <td>133.500000</td>\n      <td>0.000000</td>\n      <td>0.000000</td>\n      <td>1.000000</td>\n      <td>0.000000</td>\n      <td>2.000000</td>\n      <td>0.000000</td>\n    </tr>\n    <tr>\n      <th>50%</th>\n      <td>55.000000</td>\n      <td>1.000000</td>\n      <td>1.000000</td>\n      <td>130.000000</td>\n      <td>240.000000</td>\n      <td>0.000000</td>\n      <td>1.000000</td>\n      <td>153.000000</td>\n      <td>0.000000</td>\n      <td>0.800000</td>\n      <td>1.000000</td>\n      <td>0.000000</td>\n      <td>2.000000</td>\n      <td>1.000000</td>\n    </tr>\n    <tr>\n      <th>75%</th>\n      <td>61.000000</td>\n      <td>1.000000</td>\n      <td>2.000000</td>\n      <td>140.000000</td>\n      <td>274.500000</td>\n      <td>0.000000</td>\n      <td>1.000000</td>\n      <td>166.000000</td>\n      <td>1.000000</td>\n      <td>1.600000</td>\n      <td>2.000000</td>\n      <td>1.000000</td>\n      <td>3.000000</td>\n      <td>1.000000</td>\n    </tr>\n    <tr>\n      <th>max</th>\n      <td>77.000000</td>\n      <td>1.000000</td>\n      <td>3.000000</td>\n      <td>200.000000</td>\n      <td>564.000000</td>\n      <td>1.000000</td>\n      <td>2.000000</td>\n      <td>202.000000</td>\n      <td>1.000000</td>\n      <td>6.200000</td>\n      <td>2.000000</td>\n      <td>4.000000</td>\n      <td>3.000000</td>\n      <td>1.000000</td>\n    </tr>\n  </tbody>\n</table>\n</div>"
     },
     "metadata": {}
    }
   ],
   "execution_count": null
  },
  {
   "cell_type": "markdown",
   "source": "**Correlation Map**",
   "metadata": {
    "tags": [],
    "cell_id": "00002-38f62955-5507-480d-a41e-f0710dda402c",
    "deepnote_cell_type": "markdown"
   }
  },
  {
   "cell_type": "code",
   "source": "corrmat = df.corr()\ntop_corr_features = corrmat.index\nplt.figure(figsize=(20,20))\n#plot heat map\ng=sns.heatmap(df[top_corr_features].corr(),annot=True,cmap=\"rocket\")",
   "metadata": {
    "tags": [],
    "cell_id": "00003-fb6e3427-63ce-4df9-8bb2-3ffd59c9a6af",
    "deepnote_to_be_reexecuted": false,
    "source_hash": "51eafda6",
    "execution_start": 1620394804018,
    "execution_millis": 2667,
    "deepnote_cell_type": "code"
   },
   "outputs": [
    {
     "data": {
      "text/plain": "<Figure size 1440x1440 with 2 Axes>",
      "image/png": "[encoded data removed]"
     },
     "metadata": {
      "needs_background": "light",
      "image/png": {
       "width": 1065,
       "height": 1122
      }
     },
     "output_type": "display_data"
    }
   ],
   "execution_count": null
  },
  {
   "cell_type": "code",
   "source": "#Targets destribution\n\nsns.set_style('whitegrid')\nsns.countplot(x='target',data=df,palette='viridis')",
   "metadata": {
    "tags": [],
    "cell_id": "00004-2ff95f51-5bb9-4381-9186-6f2a8898c6d4",
    "deepnote_to_be_reexecuted": false,
    "source_hash": "df135704",
    "execution_start": 1620395124434,
    "execution_millis": 146,
    "deepnote_cell_type": "code"
   },
   "outputs": [
    {
     "output_type": "execute_result",
     "execution_count": 30,
     "data": {
      "text/plain": "<AxesSubplot:xlabel='target', ylabel='count'>"
     },
     "metadata": {}
    },
    {
     "data": {
      "text/plain": "<Figure size 432x288 with 1 Axes>",
      "image/png": "[encoded data removed]"
     },
     "metadata": {
      "image/png": {
       "width": 389,
       "height": 262
      }
     },
     "output_type": "display_data"
    }
   ],
   "execution_count": null
  },
  {
   "cell_type": "code",
   "source": "#One hot encoder\ndataset = pd.get_dummies(df, columns = ['sex', 'cp', 'fbs', 'restecg', 'exang', 'slope', 'ca', 'thal'])",
   "metadata": {
    "tags": [],
    "cell_id": "00004-1b80315e-de83-4ef3-a9fd-3d3c11039a20",
    "deepnote_to_be_reexecuted": false,
    "source_hash": "9be5ca00",
    "execution_start": 1620395238414,
    "execution_millis": 17,
    "deepnote_cell_type": "code"
   },
   "outputs": [],
   "execution_count": null
  },
  {
   "cell_type": "code",
   "source": "# Normalization of the dataset\n\nstandardScaler = StandardScaler()\ncolumns_to_scale = ['age', 'trestbps', 'chol', 'thalach', 'oldpeak']\ndataset[columns_to_scale] = standardScaler.fit_transform(dataset[columns_to_scale])",
   "metadata": {
    "tags": [],
    "cell_id": "00007-f93f121c-230d-462a-8198-dcbef5abf402",
    "deepnote_to_be_reexecuted": false,
    "source_hash": "efc8295c",
    "execution_start": 1620395352297,
    "execution_millis": 7,
    "deepnote_cell_type": "code"
   },
   "outputs": [],
   "execution_count": null
  },
  {
   "cell_type": "code",
   "source": "# Our Scaled and Normalized dataset\n\ndataset.head()\n",
   "metadata": {
    "tags": [],
    "cell_id": "00008-f5dc06cd-7339-4460-8ce6-214349edff1d",
    "deepnote_to_be_reexecuted": false,
    "source_hash": "a9b13f51",
    "execution_start": 1620395390783,
    "execution_millis": 55,
    "deepnote_cell_type": "code"
   },
   "outputs": [
    {
     "output_type": "execute_result",
     "execution_count": 39,
     "data": {
      "application/vnd.deepnote.dataframe.v2+json": {
       "row_count": 5,
       "column_count": 31,
       "columns": [
        {
         "name": "age",
         "dtype": "float64",
         "stats": {
          "unique_count": 5,
          "nan_count": 0,
          "min": "-1.9153128889362694",
          "max": "0.9521966015692286",
          "histogram": [
           {
            "bin_start": -1.9153128889362694,
            "bin_end": -1.6285619398857196,
            "count": 1
           },
           {
            "bin_start": -1.6285619398857196,
            "bin_end": -1.3418109908351696,
            "count": 1
           },
           {
            "bin_start": -1.3418109908351696,
            "bin_end": -1.0550600417846199,
            "count": 0
           },
           {
            "bin_start": -1.0550600417846199,
            "bin_end": -0.7683090927340701,
            "count": 0
           },
           {
            "bin_start": -0.7683090927340701,
            "bin_end": -0.48155814368352035,
            "count": 0
           },
           {
            "bin_start": -0.48155814368352035,
            "bin_end": -0.19480719463297036,
            "count": 0
           },
           {
            "bin_start": -0.19480719463297036,
            "bin_end": 0.0919437544175794,
            "count": 0
           },
           {
            "bin_start": 0.0919437544175794,
            "bin_end": 0.37869470346812917,
            "count": 2
           },
           {
            "bin_start": 0.37869470346812917,
            "bin_end": 0.6654456525186789,
            "count": 0
           },
           {
            "bin_start": 0.6654456525186789,
            "bin_end": 0.9521966015692286,
            "count": 1
           }
          ]
         }
        },
        {
         "name": "trestbps",
         "dtype": "float64",
         "stats": {
          "unique_count": 3,
          "nan_count": 0,
          "min": "-0.6638668207381718",
          "max": "0.7639557707131772",
          "histogram": [
           {
            "bin_start": -0.6638668207381718,
            "bin_end": -0.5210845615930368,
            "count": 2
           },
           {
            "bin_start": -0.5210845615930368,
            "bin_end": -0.378302302447902,
            "count": 0
           },
           {
            "bin_start": -0.378302302447902,
            "bin_end": -0.23552004330276705,
            "count": 0
           },
           {
            "bin_start": -0.23552004330276705,
            "bin_end": -0.09273778415763212,
            "count": 2
           },
           {
            "bin_start": -0.09273778415763212,
            "bin_end": 0.05004447498750275,
            "count": 0
           },
           {
            "bin_start": 0.05004447498750275,
            "bin_end": 0.19282673413263773,
            "count": 0
           },
           {
            "bin_start": 0.19282673413263773,
            "bin_end": 0.3356089932777727,
            "count": 0
           },
           {
            "bin_start": 0.3356089932777727,
            "bin_end": 0.4783912524229076,
            "count": 0
           },
           {
            "bin_start": 0.4783912524229076,
            "bin_end": 0.6211735115680425,
            "count": 0
           },
           {
            "bin_start": 0.6211735115680425,
            "bin_end": 0.7639557707131772,
            "count": 1
           }
          ]
         }
        },
        {
         "name": "chol",
         "dtype": "float64",
         "stats": {
          "unique_count": 5,
          "nan_count": 0,
          "min": "-0.8167726942008378",
          "max": "2.0820496509052124",
          "histogram": [
           {
            "bin_start": -0.8167726942008378,
            "bin_end": -0.5268904596902327,
            "count": 1
           },
           {
            "bin_start": -0.5268904596902327,
            "bin_end": -0.23700822517962772,
            "count": 1
           },
           {
            "bin_start": -0.23700822517962772,
            "bin_end": 0.0528740093309773,
            "count": 1
           },
           {
            "bin_start": 0.0528740093309773,
            "bin_end": 0.3427562438415823,
            "count": 1
           },
           {
            "bin_start": 0.3427562438415823,
            "bin_end": 0.6326384783521874,
            "count": 0
           },
           {
            "bin_start": 0.6326384783521874,
            "bin_end": 0.9225207128627924,
            "count": 0
           },
           {
            "bin_start": 0.9225207128627924,
            "bin_end": 1.2124029473733973,
            "count": 0
           },
           {
            "bin_start": 1.2124029473733973,
            "bin_end": 1.5022851818840024,
            "count": 0
           },
           {
            "bin_start": 1.5022851818840024,
            "bin_end": 1.7921674163946075,
            "count": 0
           },
           {
            "bin_start": 1.7921674163946075,
            "bin_end": 2.0820496509052124,
            "count": 1
           }
          ]
         }
        },
        {
         "name": "thalach",
         "dtype": "float64",
         "stats": {
          "unique_count": 5,
          "nan_count": 0,
          "min": "0.015442785566123954",
          "max": "1.6334714676391584",
          "histogram": [
           {
            "bin_start": 0.015442785566123954,
            "bin_end": 0.17724565377342738,
            "count": 1
           },
           {
            "bin_start": 0.17724565377342738,
            "bin_end": 0.3390485219807308,
            "count": 0
           },
           {
            "bin_start": 0.3390485219807308,
            "bin_end": 0.5008513901880343,
            "count": 0
           },
           {
            "bin_start": 0.5008513901880343,
            "bin_end": 0.6626542583953378,
            "count": 1
           },
           {
            "bin_start": 0.6626542583953378,
            "bin_end": 0.8244571266026411,
            "count": 0
           },
           {
            "bin_start": 0.8244571266026411,
            "bin_end": 0.9862599948099446,
            "count": 1
           },
           {
            "bin_start": 0.9862599948099446,
            "bin_end": 1.148062863017248,
            "count": 0
           },
           {
            "bin_start": 1.148062863017248,
            "bin_end": 1.3098657312245514,
            "count": 1
           },
           {
            "bin_start": 1.3098657312245514,
            "bin_end": 1.4716685994318548,
            "count": 0
           },
           {
            "bin_start": 1.4716685994318548,
            "bin_end": 1.6334714676391584,
            "count": 1
           }
          ]
         }
        },
        {
         "name": "oldpeak",
         "dtype": "float64",
         "stats": {
          "unique_count": 5,
          "nan_count": 0,
          "min": "-0.37924438270365257",
          "max": "2.1225727275193162",
          "histogram": [
           {
            "bin_start": -0.37924438270365257,
            "bin_end": -0.12906267168135566,
            "count": 2
           },
           {
            "bin_start": -0.12906267168135566,
            "bin_end": 0.12111903934094126,
            "count": 0
           },
           {
            "bin_start": 0.12111903934094126,
            "bin_end": 0.3713007503632382,
            "count": 1
           },
           {
            "bin_start": 0.3713007503632382,
            "bin_end": 0.6214824613855351,
            "count": 0
           },
           {
            "bin_start": 0.6214824613855351,
            "bin_end": 0.8716641724078321,
            "count": 0
           },
           {
            "bin_start": 0.8716641724078321,
            "bin_end": 1.121845883430129,
            "count": 1
           },
           {
            "bin_start": 1.121845883430129,
            "bin_end": 1.3720275944524256,
            "count": 0
           },
           {
            "bin_start": 1.3720275944524256,
            "bin_end": 1.6222093054747226,
            "count": 0
           },
           {
            "bin_start": 1.6222093054747226,
            "bin_end": 1.8723910164970197,
            "count": 0
           },
           {
            "bin_start": 1.8723910164970197,
            "bin_end": 2.1225727275193162,
            "count": 1
           }
          ]
         }
        },
        {
         "name": "target",
         "dtype": "int64",
         "stats": {
          "unique_count": 1,
          "nan_count": 0,
          "min": "1",
          "max": "1",
          "histogram": [
           {
            "bin_start": 0.5,
            "bin_end": 0.6,
            "count": 0
           },
           {
            "bin_start": 0.6,
            "bin_end": 0.7,
            "count": 0
           },
           {
            "bin_start": 0.7,
            "bin_end": 0.8,
            "count": 0
           },
           {
            "bin_start": 0.8,
            "bin_end": 0.9,
            "count": 0
           },
           {
            "bin_start": 0.9,
            "bin_end": 1,
            "count": 0
           },
           {
            "bin_start": 1,
            "bin_end": 1.1,
            "count": 5
           },
           {
            "bin_start": 1.1,
            "bin_end": 1.2000000000000002,
            "count": 0
           },
           {
            "bin_start": 1.2000000000000002,
            "bin_end": 1.3,
            "count": 0
           },
           {
            "bin_start": 1.3,
            "bin_end": 1.4,
            "count": 0
           },
           {
            "bin_start": 1.4,
            "bin_end": 1.5,
            "count": 0
           }
          ]
         }
        },
        {
         "name": "sex_0",
         "dtype": "uint8",
         "stats": {
          "unique_count": 2,
          "nan_count": 0,
          "min": "0",
          "max": "1",
          "histogram": [
           {
            "bin_start": 0,
            "bin_end": 0.1,
            "count": 3
           },
           {
            "bin_start": 0.1,
            "bin_end": 0.2,
            "count": 0
           },
           {
            "bin_start": 0.2,
            "bin_end": 0.30000000000000004,
            "count": 0
           },
           {
            "bin_start": 0.30000000000000004,
            "bin_end": 0.4,
            "count": 0
           },
           {
            "bin_start": 0.4,
            "bin_end": 0.5,
            "count": 0
           },
           {
            "bin_start": 0.5,
            "bin_end": 0.6000000000000001,
            "count": 0
           },
           {
            "bin_start": 0.6000000000000001,
            "bin_end": 0.7000000000000001,
            "count": 0
           },
           {
            "bin_start": 0.7000000000000001,
            "bin_end": 0.8,
            "count": 0
           },
           {
            "bin_start": 0.8,
            "bin_end": 0.9,
            "count": 0
           },
           {
            "bin_start": 0.9,
            "bin_end": 1,
            "count": 2
           }
          ]
         }
        },
        {
         "name": "sex_1",
         "dtype": "uint8",
         "stats": {
          "unique_count": 2,
          "nan_count": 0,
          "min": "0",
          "max": "1",
          "histogram": [
           {
            "bin_start": 0,
            "bin_end": 0.1,
            "count": 2
           },
           {
            "bin_start": 0.1,
            "bin_end": 0.2,
            "count": 0
           },
           {
            "bin_start": 0.2,
            "bin_end": 0.30000000000000004,
            "count": 0
           },
           {
            "bin_start": 0.30000000000000004,
            "bin_end": 0.4,
            "count": 0
           },
           {
            "bin_start": 0.4,
            "bin_end": 0.5,
            "count": 0
           },
           {
            "bin_start": 0.5,
            "bin_end": 0.6000000000000001,
            "count": 0
           },
           {
            "bin_start": 0.6000000000000001,
            "bin_end": 0.7000000000000001,
            "count": 0
           },
           {
            "bin_start": 0.7000000000000001,
            "bin_end": 0.8,
            "count": 0
           },
           {
            "bin_start": 0.8,
            "bin_end": 0.9,
            "count": 0
           },
           {
            "bin_start": 0.9,
            "bin_end": 1,
            "count": 3
           }
          ]
         }
        },
        {
         "name": "cp_0",
         "dtype": "uint8",
         "stats": {
          "unique_count": 2,
          "nan_count": 0,
          "min": "0",
          "max": "1",
          "histogram": [
           {
            "bin_start": 0,
            "bin_end": 0.1,
            "count": 4
           },
           {
            "bin_start": 0.1,
            "bin_end": 0.2,
            "count": 0
           },
           {
            "bin_start": 0.2,
            "bin_end": 0.30000000000000004,
            "count": 0
           },
           {
            "bin_start": 0.30000000000000004,
            "bin_end": 0.4,
            "count": 0
           },
           {
            "bin_start": 0.4,
            "bin_end": 0.5,
            "count": 0
           },
           {
            "bin_start": 0.5,
            "bin_end": 0.6000000000000001,
            "count": 0
           },
           {
            "bin_start": 0.6000000000000001,
            "bin_end": 0.7000000000000001,
            "count": 0
           },
           {
            "bin_start": 0.7000000000000001,
            "bin_end": 0.8,
            "count": 0
           },
           {
            "bin_start": 0.8,
            "bin_end": 0.9,
            "count": 0
           },
           {
            "bin_start": 0.9,
            "bin_end": 1,
            "count": 1
           }
          ]
         }
        },
        {
         "name": "cp_1",
         "dtype": "uint8",
         "stats": {
          "unique_count": 2,
          "nan_count": 0,
          "min": "0",
          "max": "1",
          "histogram": [
           {
            "bin_start": 0,
            "bin_end": 0.1,
            "count": 3
           },
           {
            "bin_start": 0.1,
            "bin_end": 0.2,
            "count": 0
           },
           {
            "bin_start": 0.2,
            "bin_end": 0.30000000000000004,
            "count": 0
           },
           {
            "bin_start": 0.30000000000000004,
            "bin_end": 0.4,
            "count": 0
           },
           {
            "bin_start": 0.4,
            "bin_end": 0.5,
            "count": 0
           },
           {
            "bin_start": 0.5,
            "bin_end": 0.6000000000000001,
            "count": 0
           },
           {
            "bin_start": 0.6000000000000001,
            "bin_end": 0.7000000000000001,
            "count": 0
           },
           {
            "bin_start": 0.7000000000000001,
            "bin_end": 0.8,
            "count": 0
           },
           {
            "bin_start": 0.8,
            "bin_end": 0.9,
            "count": 0
           },
           {
            "bin_start": 0.9,
            "bin_end": 1,
            "count": 2
           }
          ]
         }
        },
        {
         "name": "cp_2",
         "dtype": "uint8",
         "stats": {
          "unique_count": 2,
          "nan_count": 0,
          "min": "0",
          "max": "1",
          "histogram": [
           {
            "bin_start": 0,
            "bin_end": 0.1,
            "count": 4
           },
           {
            "bin_start": 0.1,
            "bin_end": 0.2,
            "count": 0
           },
           {
            "bin_start": 0.2,
            "bin_end": 0.30000000000000004,
            "count": 0
           },
           {
            "bin_start": 0.30000000000000004,
            "bin_end": 0.4,
            "count": 0
           },
           {
            "bin_start": 0.4,
            "bin_end": 0.5,
            "count": 0
           },
           {
            "bin_start": 0.5,
            "bin_end": 0.6000000000000001,
            "count": 0
           },
           {
            "bin_start": 0.6000000000000001,
            "bin_end": 0.7000000000000001,
            "count": 0
           },
           {
            "bin_start": 0.7000000000000001,
            "bin_end": 0.8,
            "count": 0
           },
           {
            "bin_start": 0.8,
            "bin_end": 0.9,
            "count": 0
           },
           {
            "bin_start": 0.9,
            "bin_end": 1,
            "count": 1
           }
          ]
         }
        },
        {
         "name": "cp_3",
         "dtype": "uint8",
         "stats": {
          "unique_count": 2,
          "nan_count": 0,
          "min": "0",
          "max": "1",
          "histogram": [
           {
            "bin_start": 0,
            "bin_end": 0.1,
            "count": 4
           },
           {
            "bin_start": 0.1,
            "bin_end": 0.2,
            "count": 0
           },
           {
            "bin_start": 0.2,
            "bin_end": 0.30000000000000004,
            "count": 0
           },
           {
            "bin_start": 0.30000000000000004,
            "bin_end": 0.4,
            "count": 0
           },
           {
            "bin_start": 0.4,
            "bin_end": 0.5,
            "count": 0
           },
           {
            "bin_start": 0.5,
            "bin_end": 0.6000000000000001,
            "count": 0
           },
           {
            "bin_start": 0.6000000000000001,
            "bin_end": 0.7000000000000001,
            "count": 0
           },
           {
            "bin_start": 0.7000000000000001,
            "bin_end": 0.8,
            "count": 0
           },
           {
            "bin_start": 0.8,
            "bin_end": 0.9,
            "count": 0
           },
           {
            "bin_start": 0.9,
            "bin_end": 1,
            "count": 1
           }
          ]
         }
        },
        {
         "name": "fbs_0",
         "dtype": "uint8",
         "stats": {
          "unique_count": 2,
          "nan_count": 0,
          "min": "0",
          "max": "1",
          "histogram": [
           {
            "bin_start": 0,
            "bin_end": 0.1,
            "count": 1
           },
           {
            "bin_start": 0.1,
            "bin_end": 0.2,
            "count": 0
           },
           {
            "bin_start": 0.2,
            "bin_end": 0.30000000000000004,
            "count": 0
           },
           {
            "bin_start": 0.30000000000000004,
            "bin_end": 0.4,
            "count": 0
           },
           {
            "bin_start": 0.4,
            "bin_end": 0.5,
            "count": 0
           },
           {
            "bin_start": 0.5,
            "bin_end": 0.6000000000000001,
            "count": 0
           },
           {
            "bin_start": 0.6000000000000001,
            "bin_end": 0.7000000000000001,
            "count": 0
           },
           {
            "bin_start": 0.7000000000000001,
            "bin_end": 0.8,
            "count": 0
           },
           {
            "bin_start": 0.8,
            "bin_end": 0.9,
            "count": 0
           },
           {
            "bin_start": 0.9,
            "bin_end": 1,
            "count": 4
           }
          ]
         }
        },
        {
         "name": "fbs_1",
         "dtype": "uint8",
         "stats": {
          "unique_count": 2,
          "nan_count": 0,
          "min": "0",
          "max": "1",
          "histogram": [
           {
            "bin_start": 0,
            "bin_end": 0.1,
            "count": 4
           },
           {
            "bin_start": 0.1,
            "bin_end": 0.2,
            "count": 0
           },
           {
            "bin_start": 0.2,
            "bin_end": 0.30000000000000004,
            "count": 0
           },
           {
            "bin_start": 0.30000000000000004,
            "bin_end": 0.4,
            "count": 0
           },
           {
            "bin_start": 0.4,
            "bin_end": 0.5,
            "count": 0
           },
           {
            "bin_start": 0.5,
            "bin_end": 0.6000000000000001,
            "count": 0
           },
           {
            "bin_start": 0.6000000000000001,
            "bin_end": 0.7000000000000001,
            "count": 0
           },
           {
            "bin_start": 0.7000000000000001,
            "bin_end": 0.8,
            "count": 0
           },
           {
            "bin_start": 0.8,
            "bin_end": 0.9,
            "count": 0
           },
           {
            "bin_start": 0.9,
            "bin_end": 1,
            "count": 1
           }
          ]
         }
        },
        {
         "name": "restecg_0",
         "dtype": "uint8",
         "stats": {
          "unique_count": 2,
          "nan_count": 0,
          "min": "0",
          "max": "1",
          "histogram": [
           {
            "bin_start": 0,
            "bin_end": 0.1,
            "count": 3
           },
           {
            "bin_start": 0.1,
            "bin_end": 0.2,
            "count": 0
           },
           {
            "bin_start": 0.2,
            "bin_end": 0.30000000000000004,
            "count": 0
           },
           {
            "bin_start": 0.30000000000000004,
            "bin_end": 0.4,
            "count": 0
           },
           {
            "bin_start": 0.4,
            "bin_end": 0.5,
            "count": 0
           },
           {
            "bin_start": 0.5,
            "bin_end": 0.6000000000000001,
            "count": 0
           },
           {
            "bin_start": 0.6000000000000001,
            "bin_end": 0.7000000000000001,
            "count": 0
           },
           {
            "bin_start": 0.7000000000000001,
            "bin_end": 0.8,
            "count": 0
           },
           {
            "bin_start": 0.8,
            "bin_end": 0.9,
            "count": 0
           },
           {
            "bin_start": 0.9,
            "bin_end": 1,
            "count": 2
           }
          ]
         }
        },
        {
         "name": "restecg_1",
         "dtype": "uint8",
         "stats": {
          "unique_count": 2,
          "nan_count": 0,
          "min": "0",
          "max": "1",
          "histogram": [
           {
            "bin_start": 0,
            "bin_end": 0.1,
            "count": 2
           },
           {
            "bin_start": 0.1,
            "bin_end": 0.2,
            "count": 0
           },
           {
            "bin_start": 0.2,
            "bin_end": 0.30000000000000004,
            "count": 0
           },
           {
            "bin_start": 0.30000000000000004,
            "bin_end": 0.4,
            "count": 0
           },
           {
            "bin_start": 0.4,
            "bin_end": 0.5,
            "count": 0
           },
           {
            "bin_start": 0.5,
            "bin_end": 0.6000000000000001,
            "count": 0
           },
           {
            "bin_start": 0.6000000000000001,
            "bin_end": 0.7000000000000001,
            "count": 0
           },
           {
            "bin_start": 0.7000000000000001,
            "bin_end": 0.8,
            "count": 0
           },
           {
            "bin_start": 0.8,
            "bin_end": 0.9,
            "count": 0
           },
           {
            "bin_start": 0.9,
            "bin_end": 1,
            "count": 3
           }
          ]
         }
        },
        {
         "name": "restecg_2",
         "dtype": "uint8",
         "stats": {
          "unique_count": 1,
          "nan_count": 0,
          "min": "0",
          "max": "0",
          "histogram": [
           {
            "bin_start": -0.5,
            "bin_end": -0.4,
            "count": 0
           },
           {
            "bin_start": -0.4,
            "bin_end": -0.3,
            "count": 0
           },
           {
            "bin_start": -0.3,
            "bin_end": -0.19999999999999996,
            "count": 0
           },
           {
            "bin_start": -0.19999999999999996,
            "bin_end": -0.09999999999999998,
            "count": 0
           },
           {
            "bin_start": -0.09999999999999998,
            "bin_end": 0,
            "count": 0
           },
           {
            "bin_start": 0,
            "bin_end": 0.10000000000000009,
            "count": 5
           },
           {
            "bin_start": 0.10000000000000009,
            "bin_end": 0.20000000000000007,
            "count": 0
           },
           {
            "bin_start": 0.20000000000000007,
            "bin_end": 0.30000000000000004,
            "count": 0
           },
           {
            "bin_start": 0.30000000000000004,
            "bin_end": 0.4,
            "count": 0
           },
           {
            "bin_start": 0.4,
            "bin_end": 0.5,
            "count": 0
           }
          ]
         }
        },
        {
         "name": "exang_0",
         "dtype": "uint8",
         "stats": {
          "unique_count": 2,
          "nan_count": 0,
          "min": "0",
          "max": "1",
          "histogram": [
           {
            "bin_start": 0,
            "bin_end": 0.1,
            "count": 1
           },
           {
            "bin_start": 0.1,
            "bin_end": 0.2,
            "count": 0
           },
           {
            "bin_start": 0.2,
            "bin_end": 0.30000000000000004,
            "count": 0
           },
           {
            "bin_start": 0.30000000000000004,
            "bin_end": 0.4,
            "count": 0
           },
           {
            "bin_start": 0.4,
            "bin_end": 0.5,
            "count": 0
           },
           {
            "bin_start": 0.5,
            "bin_end": 0.6000000000000001,
            "count": 0
           },
           {
            "bin_start": 0.6000000000000001,
            "bin_end": 0.7000000000000001,
            "count": 0
           },
           {
            "bin_start": 0.7000000000000001,
            "bin_end": 0.8,
            "count": 0
           },
           {
            "bin_start": 0.8,
            "bin_end": 0.9,
            "count": 0
           },
           {
            "bin_start": 0.9,
            "bin_end": 1,
            "count": 4
           }
          ]
         }
        },
        {
         "name": "exang_1",
         "dtype": "uint8",
         "stats": {
          "unique_count": 2,
          "nan_count": 0,
          "min": "0",
          "max": "1",
          "histogram": [
           {
            "bin_start": 0,
            "bin_end": 0.1,
            "count": 4
           },
           {
            "bin_start": 0.1,
            "bin_end": 0.2,
            "count": 0
           },
           {
            "bin_start": 0.2,
            "bin_end": 0.30000000000000004,
            "count": 0
           },
           {
            "bin_start": 0.30000000000000004,
            "bin_end": 0.4,
            "count": 0
           },
           {
            "bin_start": 0.4,
            "bin_end": 0.5,
            "count": 0
           },
           {
            "bin_start": 0.5,
            "bin_end": 0.6000000000000001,
            "count": 0
           },
           {
            "bin_start": 0.6000000000000001,
            "bin_end": 0.7000000000000001,
            "count": 0
           },
           {
            "bin_start": 0.7000000000000001,
            "bin_end": 0.8,
            "count": 0
           },
           {
            "bin_start": 0.8,
            "bin_end": 0.9,
            "count": 0
           },
           {
            "bin_start": 0.9,
            "bin_end": 1,
            "count": 1
           }
          ]
         }
        },
        {
         "name": "slope_0",
         "dtype": "uint8",
         "stats": {
          "unique_count": 2,
          "nan_count": 0,
          "min": "0",
          "max": "1",
          "histogram": [
           {
            "bin_start": 0,
            "bin_end": 0.1,
            "count": 3
           },
           {
            "bin_start": 0.1,
            "bin_end": 0.2,
            "count": 0
           },
           {
            "bin_start": 0.2,
            "bin_end": 0.30000000000000004,
            "count": 0
           },
           {
            "bin_start": 0.30000000000000004,
            "bin_end": 0.4,
            "count": 0
           },
           {
            "bin_start": 0.4,
            "bin_end": 0.5,
            "count": 0
           },
           {
            "bin_start": 0.5,
            "bin_end": 0.6000000000000001,
            "count": 0
           },
           {
            "bin_start": 0.6000000000000001,
            "bin_end": 0.7000000000000001,
            "count": 0
           },
           {
            "bin_start": 0.7000000000000001,
            "bin_end": 0.8,
            "count": 0
           },
           {
            "bin_start": 0.8,
            "bin_end": 0.9,
            "count": 0
           },
           {
            "bin_start": 0.9,
            "bin_end": 1,
            "count": 2
           }
          ]
         }
        },
        {
         "name": "slope_1",
         "dtype": "uint8",
         "stats": {
          "unique_count": 1,
          "nan_count": 0,
          "min": "0",
          "max": "0",
          "histogram": [
           {
            "bin_start": -0.5,
            "bin_end": -0.4,
            "count": 0
           },
           {
            "bin_start": -0.4,
            "bin_end": -0.3,
            "count": 0
           },
           {
            "bin_start": -0.3,
            "bin_end": -0.19999999999999996,
            "count": 0
           },
           {
            "bin_start": -0.19999999999999996,
            "bin_end": -0.09999999999999998,
            "count": 0
           },
           {
            "bin_start": -0.09999999999999998,
            "bin_end": 0,
            "count": 0
           },
           {
            "bin_start": 0,
            "bin_end": 0.10000000000000009,
            "count": 5
           },
           {
            "bin_start": 0.10000000000000009,
            "bin_end": 0.20000000000000007,
            "count": 0
           },
           {
            "bin_start": 0.20000000000000007,
            "bin_end": 0.30000000000000004,
            "count": 0
           },
           {
            "bin_start": 0.30000000000000004,
            "bin_end": 0.4,
            "count": 0
           },
           {
            "bin_start": 0.4,
            "bin_end": 0.5,
            "count": 0
           }
          ]
         }
        },
        {
         "name": "slope_2",
         "dtype": "uint8",
         "stats": {
          "unique_count": 2,
          "nan_count": 0,
          "min": "0",
          "max": "1",
          "histogram": [
           {
            "bin_start": 0,
            "bin_end": 0.1,
            "count": 2
           },
           {
            "bin_start": 0.1,
            "bin_end": 0.2,
            "count": 0
           },
           {
            "bin_start": 0.2,
            "bin_end": 0.30000000000000004,
            "count": 0
           },
           {
            "bin_start": 0.30000000000000004,
            "bin_end": 0.4,
            "count": 0
           },
           {
            "bin_start": 0.4,
            "bin_end": 0.5,
            "count": 0
           },
           {
            "bin_start": 0.5,
            "bin_end": 0.6000000000000001,
            "count": 0
           },
           {
            "bin_start": 0.6000000000000001,
            "bin_end": 0.7000000000000001,
            "count": 0
           },
           {
            "bin_start": 0.7000000000000001,
            "bin_end": 0.8,
            "count": 0
           },
           {
            "bin_start": 0.8,
            "bin_end": 0.9,
            "count": 0
           },
           {
            "bin_start": 0.9,
            "bin_end": 1,
            "count": 3
           }
          ]
         }
        },
        {
         "name": "ca_0",
         "dtype": "uint8",
         "stats": {
          "unique_count": 1,
          "nan_count": 0,
          "min": "1",
          "max": "1",
          "histogram": [
           {
            "bin_start": 0.5,
            "bin_end": 0.6,
            "count": 0
           },
           {
            "bin_start": 0.6,
            "bin_end": 0.7,
            "count": 0
           },
           {
            "bin_start": 0.7,
            "bin_end": 0.8,
            "count": 0
           },
           {
            "bin_start": 0.8,
            "bin_end": 0.9,
            "count": 0
           },
           {
            "bin_start": 0.9,
            "bin_end": 1,
            "count": 0
           },
           {
            "bin_start": 1,
            "bin_end": 1.1,
            "count": 5
           },
           {
            "bin_start": 1.1,
            "bin_end": 1.2000000000000002,
            "count": 0
           },
           {
            "bin_start": 1.2000000000000002,
            "bin_end": 1.3,
            "count": 0
           },
           {
            "bin_start": 1.3,
            "bin_end": 1.4,
            "count": 0
           },
           {
            "bin_start": 1.4,
            "bin_end": 1.5,
            "count": 0
           }
          ]
         }
        },
        {
         "name": "ca_1",
         "dtype": "uint8",
         "stats": {
          "unique_count": 1,
          "nan_count": 0,
          "min": "0",
          "max": "0",
          "histogram": [
           {
            "bin_start": -0.5,
            "bin_end": -0.4,
            "count": 0
           },
           {
            "bin_start": -0.4,
            "bin_end": -0.3,
            "count": 0
           },
           {
            "bin_start": -0.3,
            "bin_end": -0.19999999999999996,
            "count": 0
           },
           {
            "bin_start": -0.19999999999999996,
            "bin_end": -0.09999999999999998,
            "count": 0
           },
           {
            "bin_start": -0.09999999999999998,
            "bin_end": 0,
            "count": 0
           },
           {
            "bin_start": 0,
            "bin_end": 0.10000000000000009,
            "count": 5
           },
           {
            "bin_start": 0.10000000000000009,
            "bin_end": 0.20000000000000007,
            "count": 0
           },
           {
            "bin_start": 0.20000000000000007,
            "bin_end": 0.30000000000000004,
            "count": 0
           },
           {
            "bin_start": 0.30000000000000004,
            "bin_end": 0.4,
            "count": 0
           },
           {
            "bin_start": 0.4,
            "bin_end": 0.5,
            "count": 0
           }
          ]
         }
        },
        {
         "name": "ca_2",
         "dtype": "uint8",
         "stats": {
          "unique_count": 1,
          "nan_count": 0,
          "min": "0",
          "max": "0",
          "histogram": [
           {
            "bin_start": -0.5,
            "bin_end": -0.4,
            "count": 0
           },
           {
            "bin_start": -0.4,
            "bin_end": -0.3,
            "count": 0
           },
           {
            "bin_start": -0.3,
            "bin_end": -0.19999999999999996,
            "count": 0
           },
           {
            "bin_start": -0.19999999999999996,
            "bin_end": -0.09999999999999998,
            "count": 0
           },
           {
            "bin_start": -0.09999999999999998,
            "bin_end": 0,
            "count": 0
           },
           {
            "bin_start": 0,
            "bin_end": 0.10000000000000009,
            "count": 5
           },
           {
            "bin_start": 0.10000000000000009,
            "bin_end": 0.20000000000000007,
            "count": 0
           },
           {
            "bin_start": 0.20000000000000007,
            "bin_end": 0.30000000000000004,
            "count": 0
           },
           {
            "bin_start": 0.30000000000000004,
            "bin_end": 0.4,
            "count": 0
           },
           {
            "bin_start": 0.4,
            "bin_end": 0.5,
            "count": 0
           }
          ]
         }
        },
        {
         "name": "ca_3",
         "dtype": "uint8",
         "stats": {
          "unique_count": 1,
          "nan_count": 0,
          "min": "0",
          "max": "0",
          "histogram": [
           {
            "bin_start": -0.5,
            "bin_end": -0.4,
            "count": 0
           },
           {
            "bin_start": -0.4,
            "bin_end": -0.3,
            "count": 0
           },
           {
            "bin_start": -0.3,
            "bin_end": -0.19999999999999996,
            "count": 0
           },
           {
            "bin_start": -0.19999999999999996,
            "bin_end": -0.09999999999999998,
            "count": 0
           },
           {
            "bin_start": -0.09999999999999998,
            "bin_end": 0,
            "count": 0
           },
           {
            "bin_start": 0,
            "bin_end": 0.10000000000000009,
            "count": 5
           },
           {
            "bin_start": 0.10000000000000009,
            "bin_end": 0.20000000000000007,
            "count": 0
           },
           {
            "bin_start": 0.20000000000000007,
            "bin_end": 0.30000000000000004,
            "count": 0
           },
           {
            "bin_start": 0.30000000000000004,
            "bin_end": 0.4,
            "count": 0
           },
           {
            "bin_start": 0.4,
            "bin_end": 0.5,
            "count": 0
           }
          ]
         }
        },
        {
         "name": "ca_4",
         "dtype": "uint8",
         "stats": {
          "unique_count": 1,
          "nan_count": 0,
          "min": "0",
          "max": "0",
          "histogram": [
           {
            "bin_start": -0.5,
            "bin_end": -0.4,
            "count": 0
           },
           {
            "bin_start": -0.4,
            "bin_end": -0.3,
            "count": 0
           },
           {
            "bin_start": -0.3,
            "bin_end": -0.19999999999999996,
            "count": 0
           },
           {
            "bin_start": -0.19999999999999996,
            "bin_end": -0.09999999999999998,
            "count": 0
           },
           {
            "bin_start": -0.09999999999999998,
            "bin_end": 0,
            "count": 0
           },
           {
            "bin_start": 0,
            "bin_end": 0.10000000000000009,
            "count": 5
           },
           {
            "bin_start": 0.10000000000000009,
            "bin_end": 0.20000000000000007,
            "count": 0
           },
           {
            "bin_start": 0.20000000000000007,
            "bin_end": 0.30000000000000004,
            "count": 0
           },
           {
            "bin_start": 0.30000000000000004,
            "bin_end": 0.4,
            "count": 0
           },
           {
            "bin_start": 0.4,
            "bin_end": 0.5,
            "count": 0
           }
          ]
         }
        },
        {
         "name": "thal_0",
         "dtype": "uint8",
         "stats": {
          "unique_count": 1,
          "nan_count": 0,
          "min": "0",
          "max": "0",
          "histogram": [
           {
            "bin_start": -0.5,
            "bin_end": -0.4,
            "count": 0
           },
           {
            "bin_start": -0.4,
            "bin_end": -0.3,
            "count": 0
           },
           {
            "bin_start": -0.3,
            "bin_end": -0.19999999999999996,
            "count": 0
           },
           {
            "bin_start": -0.19999999999999996,
            "bin_end": -0.09999999999999998,
            "count": 0
           },
           {
            "bin_start": -0.09999999999999998,
            "bin_end": 0,
            "count": 0
           },
           {
            "bin_start": 0,
            "bin_end": 0.10000000000000009,
            "count": 5
           },
           {
            "bin_start": 0.10000000000000009,
            "bin_end": 0.20000000000000007,
            "count": 0
           },
           {
            "bin_start": 0.20000000000000007,
            "bin_end": 0.30000000000000004,
            "count": 0
           },
           {
            "bin_start": 0.30000000000000004,
            "bin_end": 0.4,
            "count": 0
           },
           {
            "bin_start": 0.4,
            "bin_end": 0.5,
            "count": 0
           }
          ]
         }
        },
        {
         "name": "thal_1",
         "dtype": "uint8",
         "stats": {
          "unique_count": 2,
          "nan_count": 0,
          "min": "0",
          "max": "1",
          "histogram": [
           {
            "bin_start": 0,
            "bin_end": 0.1,
            "count": 4
           },
           {
            "bin_start": 0.1,
            "bin_end": 0.2,
            "count": 0
           },
           {
            "bin_start": 0.2,
            "bin_end": 0.30000000000000004,
            "count": 0
           },
           {
            "bin_start": 0.30000000000000004,
            "bin_end": 0.4,
            "count": 0
           },
           {
            "bin_start": 0.4,
            "bin_end": 0.5,
            "count": 0
           },
           {
            "bin_start": 0.5,
            "bin_end": 0.6000000000000001,
            "count": 0
           },
           {
            "bin_start": 0.6000000000000001,
            "bin_end": 0.7000000000000001,
            "count": 0
           },
           {
            "bin_start": 0.7000000000000001,
            "bin_end": 0.8,
            "count": 0
           },
           {
            "bin_start": 0.8,
            "bin_end": 0.9,
            "count": 0
           },
           {
            "bin_start": 0.9,
            "bin_end": 1,
            "count": 1
           }
          ]
         }
        },
        {
         "name": "thal_2",
         "dtype": "uint8",
         "stats": {
          "unique_count": 2,
          "nan_count": 0,
          "min": "0",
          "max": "1",
          "histogram": [
           {
            "bin_start": 0,
            "bin_end": 0.1,
            "count": 1
           },
           {
            "bin_start": 0.1,
            "bin_end": 0.2,
            "count": 0
           },
           {
            "bin_start": 0.2,
            "bin_end": 0.30000000000000004,
            "count": 0
           },
           {
            "bin_start": 0.30000000000000004,
            "bin_end": 0.4,
            "count": 0
           },
           {
            "bin_start": 0.4,
            "bin_end": 0.5,
            "count": 0
           },
           {
            "bin_start": 0.5,
            "bin_end": 0.6000000000000001,
            "count": 0
           },
           {
            "bin_start": 0.6000000000000001,
            "bin_end": 0.7000000000000001,
            "count": 0
           },
           {
            "bin_start": 0.7000000000000001,
            "bin_end": 0.8,
            "count": 0
           },
           {
            "bin_start": 0.8,
            "bin_end": 0.9,
            "count": 0
           },
           {
            "bin_start": 0.9,
            "bin_end": 1,
            "count": 4
           }
          ]
         }
        },
        {
         "name": "thal_3",
         "dtype": "uint8",
         "stats": {
          "unique_count": 1,
          "nan_count": 0,
          "min": "0",
          "max": "0",
          "histogram": [
           {
            "bin_start": -0.5,
            "bin_end": -0.4,
            "count": 0
           },
           {
            "bin_start": -0.4,
            "bin_end": -0.3,
            "count": 0
           },
           {
            "bin_start": -0.3,
            "bin_end": -0.19999999999999996,
            "count": 0
           },
           {
            "bin_start": -0.19999999999999996,
            "bin_end": -0.09999999999999998,
            "count": 0
           },
           {
            "bin_start": -0.09999999999999998,
            "bin_end": 0,
            "count": 0
           },
           {
            "bin_start": 0,
            "bin_end": 0.10000000000000009,
            "count": 5
           },
           {
            "bin_start": 0.10000000000000009,
            "bin_end": 0.20000000000000007,
            "count": 0
           },
           {
            "bin_start": 0.20000000000000007,
            "bin_end": 0.30000000000000004,
            "count": 0
           },
           {
            "bin_start": 0.30000000000000004,
            "bin_end": 0.4,
            "count": 0
           },
           {
            "bin_start": 0.4,
            "bin_end": 0.5,
            "count": 0
           }
          ]
         }
        },
        {
         "name": "_deepnote_index_column",
         "dtype": "int64"
        }
       ],
       "rows_top": [
        {
         "age": 0.9521966015692286,
         "trestbps": 0.7639557707131772,
         "chol": -0.25633370748033474,
         "thalach": 0.015442785566123954,
         "oldpeak": 1.0873380612201566,
         "target": 1,
         "sex_0": 0,
         "sex_1": 1,
         "cp_0": 0,
         "cp_1": 0,
         "cp_2": 0,
         "cp_3": 1,
         "fbs_0": 0,
         "fbs_1": 1,
         "restecg_0": 1,
         "restecg_1": 0,
         "restecg_2": 0,
         "exang_0": 1,
         "exang_1": 0,
         "slope_0": 1,
         "slope_1": 0,
         "slope_2": 0,
         "ca_0": 1,
         "ca_1": 0,
         "ca_2": 0,
         "ca_3": 0,
         "ca_4": 0,
         "thal_0": 0,
         "thal_1": 1,
         "thal_2": 0,
         "thal_3": 0,
         "_deepnote_index_column": 0
        },
        {
         "age": -1.9153128889362694,
         "trestbps": -0.09273778415763216,
         "chol": 0.07219949163168425,
         "thalach": 1.6334714676391584,
         "oldpeak": 2.1225727275193162,
         "target": 1,
         "sex_0": 0,
         "sex_1": 1,
         "cp_0": 0,
         "cp_1": 0,
         "cp_2": 1,
         "cp_3": 0,
         "fbs_0": 1,
         "fbs_1": 0,
         "restecg_0": 0,
         "restecg_1": 1,
         "restecg_2": 0,
         "exang_0": 1,
         "exang_1": 0,
         "slope_0": 1,
         "slope_1": 0,
         "slope_2": 0,
         "ca_0": 1,
         "ca_1": 0,
         "ca_2": 0,
         "ca_3": 0,
         "ca_4": 0,
         "thal_0": 0,
         "thal_1": 0,
         "thal_2": 1,
         "thal_3": 0,
         "_deepnote_index_column": 1
        },
        {
         "age": -1.4741575827046542,
         "trestbps": -0.09273778415763216,
         "chol": -0.8167726942008378,
         "thalach": 0.977513893825766,
         "oldpeak": 0.3109120614957871,
         "target": 1,
         "sex_0": 1,
         "sex_1": 0,
         "cp_0": 0,
         "cp_1": 1,
         "cp_2": 0,
         "cp_3": 0,
         "fbs_0": 1,
         "fbs_1": 0,
         "restecg_0": 1,
         "restecg_1": 0,
         "restecg_2": 0,
         "exang_0": 1,
         "exang_1": 0,
         "slope_0": 0,
         "slope_1": 0,
         "slope_2": 1,
         "ca_0": 1,
         "ca_1": 0,
         "ca_2": 0,
         "ca_3": 0,
         "ca_4": 0,
         "thal_0": 0,
         "thal_1": 0,
         "thal_2": 1,
         "thal_3": 0,
         "_deepnote_index_column": 2
        },
        {
         "age": 0.1801748156639022,
         "trestbps": -0.6638668207381718,
         "chol": -0.19835726057821373,
         "thalach": 1.239896923351123,
         "oldpeak": -0.2067052716537926,
         "target": 1,
         "sex_0": 0,
         "sex_1": 1,
         "cp_0": 0,
         "cp_1": 1,
         "cp_2": 0,
         "cp_3": 0,
         "fbs_0": 1,
         "fbs_1": 0,
         "restecg_0": 0,
         "restecg_1": 1,
         "restecg_2": 0,
         "exang_0": 1,
         "exang_1": 0,
         "slope_0": 0,
         "slope_1": 0,
         "slope_2": 1,
         "ca_0": 1,
         "ca_1": 0,
         "ca_2": 0,
         "ca_3": 0,
         "ca_4": 0,
         "thal_0": 0,
         "thal_1": 0,
         "thal_2": 1,
         "thal_3": 0,
         "_deepnote_index_column": 3
        },
        {
         "age": 0.290463642221806,
         "trestbps": -0.6638668207381718,
         "chol": 2.0820496509052124,
         "thalach": 0.5839393495377306,
         "oldpeak": -0.37924438270365257,
         "target": 1,
         "sex_0": 1,
         "sex_1": 0,
         "cp_0": 1,
         "cp_1": 0,
         "cp_2": 0,
         "cp_3": 0,
         "fbs_0": 1,
         "fbs_1": 0,
         "restecg_0": 0,
         "restecg_1": 1,
         "restecg_2": 0,
         "exang_0": 0,
         "exang_1": 1,
         "slope_0": 0,
         "slope_1": 0,
         "slope_2": 1,
         "ca_0": 1,
         "ca_1": 0,
         "ca_2": 0,
         "ca_3": 0,
         "ca_4": 0,
         "thal_0": 0,
         "thal_1": 0,
         "thal_2": 1,
         "thal_3": 0,
         "_deepnote_index_column": 4
        }
       ],
       "rows_bottom": null
      },
      "text/plain": "        age  trestbps      chol   thalach   oldpeak  target  sex_0  sex_1  \\\n0  0.952197  0.763956 -0.256334  0.015443  1.087338       1      0      1   \n1 -1.915313 -0.092738  0.072199  1.633471  2.122573       1      0      1   \n2 -1.474158 -0.092738 -0.816773  0.977514  0.310912       1      1      0   \n3  0.180175 -0.663867 -0.198357  1.239897 -0.206705       1      0      1   \n4  0.290464 -0.663867  2.082050  0.583939 -0.379244       1      1      0   \n\n   cp_0  cp_1  ...  slope_2  ca_0  ca_1  ca_2  ca_3  ca_4  thal_0  thal_1  \\\n0     0     0  ...        0     1     0     0     0     0       0       1   \n1     0     0  ...        0     1     0     0     0     0       0       0   \n2     0     1  ...        1     1     0     0     0     0       0       0   \n3     0     1  ...        1     1     0     0     0     0       0       0   \n4     1     0  ...        1     1     0     0     0     0       0       0   \n\n   thal_2  thal_3  \n0       0       0  \n1       1       0  \n2       1       0  \n3       1       0  \n4       1       0  \n\n[5 rows x 31 columns]",
      "text/html": "<div>\n<style scoped>\n    .dataframe tbody tr th:only-of-type {\n        vertical-align: middle;\n    }\n\n    .dataframe tbody tr th {\n        vertical-align: top;\n    }\n\n    .dataframe thead th {\n        text-align: right;\n    }\n</style>\n<table border=\"1\" class=\"dataframe\">\n  <thead>\n    <tr style=\"text-align: right;\">\n      <th></th>\n      <th>age</th>\n      <th>trestbps</th>\n      <th>chol</th>\n      <th>thalach</th>\n      <th>oldpeak</th>\n      <th>target</th>\n      <th>sex_0</th>\n      <th>sex_1</th>\n      <th>cp_0</th>\n      <th>cp_1</th>\n      <th>...</th>\n      <th>slope_2</th>\n      <th>ca_0</th>\n      <th>ca_1</th>\n      <th>ca_2</th>\n      <th>ca_3</th>\n      <th>ca_4</th>\n      <th>thal_0</th>\n      <th>thal_1</th>\n      <th>thal_2</th>\n      <th>thal_3</th>\n    </tr>\n  </thead>\n  <tbody>\n    <tr>\n      <th>0</th>\n      <td>0.952197</td>\n      <td>0.763956</td>\n      <td>-0.256334</td>\n      <td>0.015443</td>\n      <td>1.087338</td>\n      <td>1</td>\n      <td>0</td>\n      <td>1</td>\n      <td>0</td>\n      <td>0</td>\n      <td>...</td>\n      <td>0</td>\n      <td>1</td>\n      <td>0</td>\n      <td>0</td>\n      <td>0</td>\n      <td>0</td>\n      <td>0</td>\n      <td>1</td>\n      <td>0</td>\n      <td>0</td>\n    </tr>\n    <tr>\n      <th>1</th>\n      <td>-1.915313</td>\n      <td>-0.092738</td>\n      <td>0.072199</td>\n      <td>1.633471</td>\n      <td>2.122573</td>\n      <td>1</td>\n      <td>0</td>\n      <td>1</td>\n      <td>0</td>\n      <td>0</td>\n      <td>...</td>\n      <td>0</td>\n      <td>1</td>\n      <td>0</td>\n      <td>0</td>\n      <td>0</td>\n      <td>0</td>\n      <td>0</td>\n      <td>0</td>\n      <td>1</td>\n      <td>0</td>\n    </tr>\n    <tr>\n      <th>2</th>\n      <td>-1.474158</td>\n      <td>-0.092738</td>\n      <td>-0.816773</td>\n      <td>0.977514</td>\n      <td>0.310912</td>\n      <td>1</td>\n      <td>1</td>\n      <td>0</td>\n      <td>0</td>\n      <td>1</td>\n      <td>...</td>\n      <td>1</td>\n      <td>1</td>\n      <td>0</td>\n      <td>0</td>\n      <td>0</td>\n      <td>0</td>\n      <td>0</td>\n      <td>0</td>\n      <td>1</td>\n      <td>0</td>\n    </tr>\n    <tr>\n      <th>3</th>\n      <td>0.180175</td>\n      <td>-0.663867</td>\n      <td>-0.198357</td>\n      <td>1.239897</td>\n      <td>-0.206705</td>\n      <td>1</td>\n      <td>0</td>\n      <td>1</td>\n      <td>0</td>\n      <td>1</td>\n      <td>...</td>\n      <td>1</td>\n      <td>1</td>\n      <td>0</td>\n      <td>0</td>\n      <td>0</td>\n      <td>0</td>\n      <td>0</td>\n      <td>0</td>\n      <td>1</td>\n      <td>0</td>\n    </tr>\n    <tr>\n      <th>4</th>\n      <td>0.290464</td>\n      <td>-0.663867</td>\n      <td>2.082050</td>\n      <td>0.583939</td>\n      <td>-0.379244</td>\n      <td>1</td>\n      <td>1</td>\n      <td>0</td>\n      <td>1</td>\n      <td>0</td>\n      <td>...</td>\n      <td>1</td>\n      <td>1</td>\n      <td>0</td>\n      <td>0</td>\n      <td>0</td>\n      <td>0</td>\n      <td>0</td>\n      <td>0</td>\n      <td>1</td>\n      <td>0</td>\n    </tr>\n  </tbody>\n</table>\n<p>5 rows × 31 columns</p>\n</div>"
     },
     "metadata": {}
    }
   ],
   "execution_count": null
  },
  {
   "cell_type": "code",
   "source": "# X and Y of our model\n\ny = dataset['target']\nX = dataset.drop(['target'], axis = 1)",
   "metadata": {
    "tags": [],
    "cell_id": "00009-e0697493-1f6a-47b2-86cc-d332807eb0c6",
    "deepnote_to_be_reexecuted": false,
    "source_hash": "d682fd92",
    "execution_start": 1620395429685,
    "execution_millis": 5,
    "deepnote_cell_type": "code"
   },
   "outputs": [],
   "execution_count": null
  },
  {
   "cell_type": "markdown",
   "source": "**KNN MODEL**",
   "metadata": {
    "tags": [],
    "cell_id": "00009-61d03aa8-e21c-454a-b75e-b1f4d5356a62",
    "deepnote_cell_type": "markdown"
   }
  },
  {
   "cell_type": "code",
   "source": "from sklearn.model_selection import cross_val_score\nknn_scores = []\nfor k in range(1,21):\n    knn_classifier = KNeighborsClassifier(n_neighbors = k)\n    score=cross_val_score(knn_classifier,X,y,cv=10)\n    knn_scores.append(score.mean())",
   "metadata": {
    "tags": [],
    "cell_id": "00008-807ae9be-4a7a-4936-81e2-5ac5660a8e2c",
    "deepnote_to_be_reexecuted": false,
    "source_hash": "d9cde18",
    "execution_start": 1620395454025,
    "execution_millis": 1201,
    "deepnote_cell_type": "code"
   },
   "outputs": [],
   "execution_count": null
  },
  {
   "cell_type": "code",
   "source": "plt.plot([k for k in range(1, 21)], knn_scores, color = 'red')\nfor i in range(1,21):\n    plt.text(i, knn_scores[i-1], (i, knn_scores[i-1]))\nplt.xticks([i for i in range(1, 21)])\nplt.xlabel('Number of Neighbors (K)')\nplt.ylabel('Scores')\nplt.title('K Neighbors Classifier scores for different K values')\n\n\n\n\nfrom matplotlib.pyplot import figure\n",
   "metadata": {
    "tags": [],
    "cell_id": "00010-b8b80666-aac5-45b1-a195-5c6c57c8e438",
    "deepnote_to_be_reexecuted": false,
    "source_hash": "1bbcdd9c",
    "execution_start": 1620395592185,
    "execution_millis": 552,
    "deepnote_cell_type": "code"
   },
   "outputs": [
    {
     "data": {
      "text/plain": "<Figure size 432x288 with 1 Axes>",
      "image/png": "[encoded data removed]"
     },
     "metadata": {
      "image/png": {
       "width": 514,
       "height": 278
      }
     },
     "output_type": "display_data"
    },
    {
     "data": {
      "text/plain": "<Figure size 1600x4000 with 0 Axes>"
     },
     "metadata": {},
     "output_type": "display_data"
    }
   ],
   "execution_count": null
  },
  {
   "cell_type": "code",
   "source": "knn_classifier = KNeighborsClassifier(n_neighbors = 12)\nscore=cross_val_score(knn_classifier,X,y,cv=10)\n\nscore.mean()",
   "metadata": {
    "tags": [],
    "cell_id": "00011-ba52e777-1d91-4a18-9ed4-62d2b17b1595",
    "deepnote_to_be_reexecuted": false,
    "source_hash": "3e397494",
    "execution_start": 1620395632353,
    "execution_millis": 74,
    "deepnote_cell_type": "code"
   },
   "outputs": [
    {
     "output_type": "execute_result",
     "execution_count": 49,
     "data": {
      "text/plain": "0.8448387096774195"
     },
     "metadata": {}
    }
   ],
   "execution_count": null
  },
  {
   "cell_type": "code",
   "source": "\nrandomforest_classifier= RandomForestClassifier(n_estimators=10)\n\nscore=cross_val_score(randomforest_classifier,X,y,cv=10)\n\nscore.mean()",
   "metadata": {
    "tags": [],
    "cell_id": "00013-6b246660-b2d5-48ec-9dd2-667f5a3f9cc2",
    "deepnote_to_be_reexecuted": false,
    "source_hash": "9773a4a7",
    "execution_start": 1620395697184,
    "execution_millis": 197,
    "deepnote_cell_type": "code"
   },
   "outputs": [
    {
     "output_type": "execute_result",
     "execution_count": 51,
     "data": {
      "text/plain": "0.8049462365591398"
     },
     "metadata": {}
    }
   ],
   "execution_count": null
  },
  {
   "cell_type": "code",
   "source": "knn_scores ",
   "metadata": {
    "tags": [],
    "cell_id": "00014-ae8f4599-7b74-49a7-8f91-5090cab62e7d",
    "deepnote_to_be_reexecuted": false,
    "source_hash": "a2ae14ca",
    "execution_start": 1620396037177,
    "execution_millis": 1,
    "deepnote_cell_type": "code"
   },
   "outputs": [
    {
     "output_type": "execute_result",
     "execution_count": 52,
     "data": {
      "text/plain": "[0.7455913978494624,\n 0.7591397849462365,\n 0.8120430107526883,\n 0.8053763440860215,\n 0.8348387096774192,\n 0.831505376344086,\n 0.8416129032258064,\n 0.8417204301075267,\n 0.8449462365591398,\n 0.8448387096774193,\n 0.8381720430107527,\n 0.8448387096774195,\n 0.841505376344086,\n 0.8415053763440861,\n 0.8280645161290323,\n 0.8381720430107527,\n 0.8280645161290323,\n 0.8249462365591398,\n 0.821505376344086,\n 0.8250537634408601]"
     },
     "metadata": {}
    }
   ],
   "execution_count": null
  },
  {
   "cell_type": "code",
   "source": "cat_boost= CatBoostClassifier(n_estimators=10)\n\nscore=cross_val_score(cat_boost,X,y,cv=10)\n\nscore.mean()",
   "metadata": {
    "tags": [],
    "cell_id": "00015-3253798c-c1f6-43d3-8c61-8a46bfcd5e49",
    "deepnote_to_be_reexecuted": false,
    "source_hash": "dab1a722",
    "execution_start": 1620396997984,
    "execution_millis": 402,
    "deepnote_cell_type": "code"
   },
   "outputs": [
    {
     "name": "stdout",
     "text": "Learning rate set to 0.403176\n0:\tlearn: 0.4827859\ttotal: 2.06ms\tremaining: 18.5ms\n1:\tlearn: 0.3686283\ttotal: 5.44ms\tremaining: 21.8ms\n2:\tlearn: 0.3170896\ttotal: 8.5ms\tremaining: 19.8ms\n3:\tlearn: 0.2695878\ttotal: 11.5ms\tremaining: 17.3ms\n4:\tlearn: 0.2379342\ttotal: 14.9ms\tremaining: 14.9ms\n5:\tlearn: 0.2116405\ttotal: 17.3ms\tremaining: 11.5ms\n6:\tlearn: 0.1899632\ttotal: 20.2ms\tremaining: 8.65ms\n7:\tlearn: 0.1767993\ttotal: 23.1ms\tremaining: 5.78ms\n8:\tlearn: 0.1608289\ttotal: 26.1ms\tremaining: 2.9ms\n9:\tlearn: 0.1559534\ttotal: 29.1ms\tremaining: 0us\nLearning rate set to 0.403176\n0:\tlearn: 0.4528519\ttotal: 1.23ms\tremaining: 11.1ms\n1:\tlearn: 0.3552656\ttotal: 2.52ms\tremaining: 10.1ms\n2:\tlearn: 0.3081287\ttotal: 3.79ms\tremaining: 8.83ms\n3:\tlearn: 0.2606568\ttotal: 4.99ms\tremaining: 7.48ms\n4:\tlearn: 0.2178898\ttotal: 6.2ms\tremaining: 6.2ms\n5:\tlearn: 0.1940371\ttotal: 7.43ms\tremaining: 4.96ms\n6:\tlearn: 0.1658194\ttotal: 8.65ms\tremaining: 3.71ms\n7:\tlearn: 0.1437511\ttotal: 9.89ms\tremaining: 2.47ms\n8:\tlearn: 0.1363212\ttotal: 11.1ms\tremaining: 1.23ms\n9:\tlearn: 0.1327556\ttotal: 12.3ms\tremaining: 0us\nLearning rate set to 0.403176\n0:\tlearn: 0.4980374\ttotal: 1.13ms\tremaining: 10.2ms\n1:\tlearn: 0.3767430\ttotal: 2.35ms\tremaining: 9.42ms\n2:\tlearn: 0.3224690\ttotal: 3.53ms\tremaining: 8.24ms\n3:\tlearn: 0.2712869\ttotal: 4.69ms\tremaining: 7.04ms\n4:\tlearn: 0.2310055\ttotal: 6.01ms\tremaining: 6.01ms\n5:\tlearn: 0.2013752\ttotal: 7.26ms\tremaining: 4.84ms\n6:\tlearn: 0.1747349\ttotal: 8.46ms\tremaining: 3.63ms\n7:\tlearn: 0.1599355\ttotal: 9.67ms\tremaining: 2.42ms\n8:\tlearn: 0.1526739\ttotal: 10.9ms\tremaining: 1.21ms\n9:\tlearn: 0.1424309\ttotal: 12.1ms\tremaining: 0us\nLearning rate set to 0.403809\n0:\tlearn: 0.4745270\ttotal: 1.14ms\tremaining: 10.2ms\n1:\tlearn: 0.3523643\ttotal: 2.32ms\tremaining: 9.28ms\n2:\tlearn: 0.3066747\ttotal: 3.82ms\tremaining: 8.91ms\n3:\tlearn: 0.2967379\ttotal: 4.36ms\tremaining: 6.54ms\n4:\tlearn: 0.2482042\ttotal: 5.69ms\tremaining: 5.69ms\n5:\tlearn: 0.2274202\ttotal: 7.05ms\tremaining: 4.7ms\n6:\tlearn: 0.2057781\ttotal: 8.23ms\tremaining: 3.52ms\n7:\tlearn: 0.2001881\ttotal: 8.88ms\tremaining: 2.22ms\n8:\tlearn: 0.1774942\ttotal: 10.4ms\tremaining: 1.16ms\n9:\tlearn: 0.1621559\ttotal: 12.1ms\tremaining: 0us\nLearning rate set to 0.403809\n0:\tlearn: 0.4865917\ttotal: 1.81ms\tremaining: 16.3ms\n1:\tlearn: 0.3837024\ttotal: 2.96ms\tremaining: 11.8ms\n2:\tlearn: 0.3318331\ttotal: 4.66ms\tremaining: 10.9ms\n3:\tlearn: 0.2864268\ttotal: 5.89ms\tremaining: 8.84ms\n4:\tlearn: 0.2509294\ttotal: 7.72ms\tremaining: 7.72ms\n5:\tlearn: 0.2240382\ttotal: 14.5ms\tremaining: 9.67ms\n6:\tlearn: 0.2103885\ttotal: 20.8ms\tremaining: 8.9ms\n7:\tlearn: 0.1899912\ttotal: 26.9ms\tremaining: 6.71ms\n8:\tlearn: 0.1746438\ttotal: 28.6ms\tremaining: 3.18ms\n9:\tlearn: 0.1556196\ttotal: 30.4ms\tremaining: 0us\nLearning rate set to 0.403809\n0:\tlearn: 0.4810312\ttotal: 1.21ms\tremaining: 10.9ms\n1:\tlearn: 0.3589590\ttotal: 2.44ms\tremaining: 9.78ms\n2:\tlearn: 0.2957004\ttotal: 3.74ms\tremaining: 8.72ms\n3:\tlearn: 0.2838078\ttotal: 4.28ms\tremaining: 6.42ms\n4:\tlearn: 0.2607657\ttotal: 5.46ms\tremaining: 5.46ms\n5:\tlearn: 0.2389698\ttotal: 6.75ms\tremaining: 4.5ms\n6:\tlearn: 0.2059537\ttotal: 7.94ms\tremaining: 3.4ms\n7:\tlearn: 0.1814127\ttotal: 9.11ms\tremaining: 2.28ms\n8:\tlearn: 0.1678851\ttotal: 10.4ms\tremaining: 1.15ms\n9:\tlearn: 0.1486442\ttotal: 11.6ms\tremaining: 0us\nLearning rate set to 0.403809\n0:\tlearn: 0.4820781\ttotal: 1.14ms\tremaining: 10.3ms\n1:\tlearn: 0.3563990\ttotal: 2.36ms\tremaining: 9.43ms\n2:\tlearn: 0.2881247\ttotal: 3.54ms\tremaining: 8.27ms\n3:\tlearn: 0.2807838\ttotal: 4.08ms\tremaining: 6.12ms\n4:\tlearn: 0.2534962\ttotal: 5.23ms\tremaining: 5.23ms\n5:\tlearn: 0.2293208\ttotal: 6.43ms\tremaining: 4.29ms\n6:\tlearn: 0.2096302\ttotal: 7.63ms\tremaining: 3.27ms\n7:\tlearn: 0.1951050\ttotal: 8.8ms\tremaining: 2.2ms\n8:\tlearn: 0.1679650\ttotal: 10ms\tremaining: 1.11ms\n9:\tlearn: 0.1541346\ttotal: 11.2ms\tremaining: 0us\nLearning rate set to 0.403809\n0:\tlearn: 0.4901537\ttotal: 1.22ms\tremaining: 10.9ms\n1:\tlearn: 0.3506434\ttotal: 2.46ms\tremaining: 9.84ms\n2:\tlearn: 0.2871912\ttotal: 3.73ms\tremaining: 8.69ms\n3:\tlearn: 0.2775115\ttotal: 4.29ms\tremaining: 6.43ms\n4:\tlearn: 0.2523760\ttotal: 5.59ms\tremaining: 5.59ms\n5:\tlearn: 0.2268066\ttotal: 6.77ms\tremaining: 4.52ms\n6:\tlearn: 0.2053263\ttotal: 8.04ms\tremaining: 3.44ms\n7:\tlearn: 0.1834620\ttotal: 9.24ms\tremaining: 2.31ms\n8:\tlearn: 0.1606856\ttotal: 10.5ms\tremaining: 1.16ms\n9:\tlearn: 0.1514446\ttotal: 11.7ms\tremaining: 0us\nLearning rate set to 0.403809\n0:\tlearn: 0.4557727\ttotal: 1.18ms\tremaining: 10.6ms\n1:\tlearn: 0.3454372\ttotal: 2.52ms\tremaining: 10.1ms\n2:\tlearn: 0.3015682\ttotal: 3.69ms\tremaining: 8.62ms\n3:\tlearn: 0.2928392\ttotal: 4.23ms\tremaining: 6.34ms\n4:\tlearn: 0.2460186\ttotal: 5.4ms\tremaining: 5.4ms\n5:\tlearn: 0.2142501\ttotal: 6.59ms\tremaining: 4.39ms\n6:\tlearn: 0.1986434\ttotal: 7.76ms\tremaining: 3.33ms\n7:\tlearn: 0.1724105\ttotal: 8.92ms\tremaining: 2.23ms\n8:\tlearn: 0.1574248\ttotal: 10.2ms\tremaining: 1.13ms\n9:\tlearn: 0.1496550\ttotal: 11.5ms\tremaining: 0us\nLearning rate set to 0.403809\n0:\tlearn: 0.4816155\ttotal: 1.16ms\tremaining: 10.5ms\n1:\tlearn: 0.3570799\ttotal: 2.35ms\tremaining: 9.38ms\n2:\tlearn: 0.3049505\ttotal: 3.54ms\tremaining: 8.27ms\n3:\tlearn: 0.2962684\ttotal: 4.1ms\tremaining: 6.15ms\n4:\tlearn: 0.2564445\ttotal: 5.29ms\tremaining: 5.29ms\n5:\tlearn: 0.2260553\ttotal: 6.48ms\tremaining: 4.32ms\n6:\tlearn: 0.2075046\ttotal: 7.66ms\tremaining: 3.28ms\n7:\tlearn: 0.1908372\ttotal: 8.89ms\tremaining: 2.22ms\n8:\tlearn: 0.1698705\ttotal: 10.1ms\tremaining: 1.12ms\n9:\tlearn: 0.1556416\ttotal: 11.2ms\tremaining: 0us\n",
     "output_type": "stream"
    },
    {
     "output_type": "execute_result",
     "execution_count": 58,
     "data": {
      "text/plain": "0.811505376344086"
     },
     "metadata": {}
    }
   ],
   "execution_count": null
  },
  {
   "cell_type": "code",
   "source": "from sklearn.svm import SVC, NuSVC, LinearSVC\n\nsvm= SVC(kernel='rbf', probability=True)\n\nscore=cross_val_score(svm,X,y,cv=10)\n\nscore.mean()\n\n       ",
   "metadata": {
    "tags": [],
    "cell_id": "00016-b742a867-d8ba-489e-9b38-311ed7f3c0f2",
    "deepnote_to_be_reexecuted": false,
    "source_hash": "e70c43d",
    "execution_start": 1620398525642,
    "execution_millis": 273,
    "deepnote_cell_type": "code"
   },
   "outputs": [
    {
     "output_type": "execute_result",
     "execution_count": 62,
     "data": {
      "text/plain": "0.8379569892473118"
     },
     "metadata": {}
    }
   ],
   "execution_count": null
  },
  {
   "cell_type": "markdown",
   "source": "**CAT BOOST**, OUR BEST MODEL",
   "metadata": {
    "tags": [],
    "cell_id": "00015-6081523f-5823-4bf0-8bb2-b9764081f182",
    "deepnote_cell_type": "markdown"
   }
  },
  {
   "cell_type": "code",
   "source": "from sklearn.model_selection import cross_val_score\ncat_scores = []\nfor c in range(1,21):\n    CatBoost = CatBoostClassifier(n_estimators=12)\n    score=cross_val_score(CatBoost,X,y,cv=10)\n    cat_scores.append(score.mean())",
   "metadata": {
    "tags": [],
    "cell_id": "00016-ae7cf49f-ec6d-4856-ab9d-ebc4e757140a",
    "deepnote_to_be_reexecuted": false,
    "source_hash": "5553774f",
    "execution_start": 1620396847358,
    "execution_millis": 8349,
    "deepnote_cell_type": "code"
   },
   "outputs": [
    {
     "name": "stdout",
     "text": "1:\tlearn: 0.3789571\ttotal: 2.31ms\tremaining: 11.6ms\n2:\tlearn: 0.3295583\ttotal: 3.49ms\tremaining: 10.5ms\n3:\tlearn: 0.3196723\ttotal: 4.02ms\tremaining: 8.04ms\n4:\tlearn: 0.2874192\ttotal: 5.22ms\tremaining: 7.31ms\n5:\tlearn: 0.2546022\ttotal: 6.49ms\tremaining: 6.49ms\n6:\tlearn: 0.2401102\ttotal: 7.68ms\tremaining: 5.48ms\n7:\tlearn: 0.2274640\ttotal: 8.86ms\tremaining: 4.43ms\n8:\tlearn: 0.2119814\ttotal: 10ms\tremaining: 3.34ms\n9:\tlearn: 0.2033982\ttotal: 11.2ms\tremaining: 2.24ms\n10:\tlearn: 0.1870676\ttotal: 12.6ms\tremaining: 1.14ms\n11:\tlearn: 0.1735255\ttotal: 13.8ms\tremaining: 0us\nLearning rate set to 0.341638\n0:\tlearn: 0.5088627\ttotal: 1.14ms\tremaining: 12.5ms\n1:\tlearn: 0.4058317\ttotal: 1.98ms\tremaining: 9.92ms\n2:\tlearn: 0.3243519\ttotal: 3.17ms\tremaining: 9.52ms\n3:\tlearn: 0.3022905\ttotal: 4.33ms\tremaining: 8.67ms\n4:\tlearn: 0.2705769\ttotal: 5.53ms\tremaining: 7.74ms\n5:\tlearn: 0.2435793\ttotal: 6.69ms\tremaining: 6.69ms\n6:\tlearn: 0.2174141\ttotal: 7.89ms\tremaining: 5.64ms\n7:\tlearn: 0.1954787\ttotal: 10.2ms\tremaining: 5.1ms\n8:\tlearn: 0.1825087\ttotal: 11.4ms\tremaining: 3.79ms\n9:\tlearn: 0.1690999\ttotal: 12.7ms\tremaining: 2.54ms\n10:\tlearn: 0.1591535\ttotal: 13.9ms\tremaining: 1.26ms\n11:\tlearn: 0.1450152\ttotal: 15ms\tremaining: 0us\nLearning rate set to 0.341638\n0:\tlearn: 0.5035592\ttotal: 5.21ms\tremaining: 57.3ms\n1:\tlearn: 0.3840805\ttotal: 6.8ms\tremaining: 34ms\n2:\tlearn: 0.3167996\ttotal: 7.98ms\tremaining: 24ms\n3:\tlearn: 0.3057003\ttotal: 8.55ms\tremaining: 17.1ms\n4:\tlearn: 0.2530287\ttotal: 10.3ms\tremaining: 14.4ms\n5:\tlearn: 0.2303829\ttotal: 13.5ms\tremaining: 13.5ms\n6:\tlearn: 0.2183919\ttotal: 15.2ms\tremaining: 10.8ms\n7:\tlearn: 0.2023371\ttotal: 17.1ms\tremaining: 8.54ms\n8:\tlearn: 0.1848154\ttotal: 19ms\tremaining: 6.34ms\n9:\tlearn: 0.1740249\ttotal: 20.5ms\tremaining: 4.11ms\n10:\tlearn: 0.1606628\ttotal: 21.8ms\tremaining: 1.98ms\n11:\tlearn: 0.1500179\ttotal: 23.8ms\tremaining: 0us\nLearning rate set to 0.341638\n0:\tlearn: 0.5045063\ttotal: 1.15ms\tremaining: 12.7ms\n1:\tlearn: 0.3763161\ttotal: 3.02ms\tremaining: 15.1ms\n2:\tlearn: 0.3242276\ttotal: 4.88ms\tremaining: 14.6ms\n3:\tlearn: 0.3176282\ttotal: 5.52ms\tremaining: 11ms\n4:\tlearn: 0.2859883\ttotal: 7.25ms\tremaining: 10.2ms\n5:\tlearn: 0.2654640\ttotal: 8.73ms\tremaining: 8.73ms\n6:\tlearn: 0.2473180\ttotal: 10ms\tremaining: 7.18ms\n7:\tlearn: 0.2184210\ttotal: 11.3ms\tremaining: 5.65ms\n8:\tlearn: 0.2039457\ttotal: 12.5ms\tremaining: 4.18ms\n9:\tlearn: 0.1844546\ttotal: 16.6ms\tremaining: 3.32ms\n10:\tlearn: 0.1645384\ttotal: 19.8ms\tremaining: 1.8ms\n11:\tlearn: 0.1548283\ttotal: 21.6ms\tremaining: 0us\nLearning rate set to 0.341638\n0:\tlearn: 0.5123293\ttotal: 2.08ms\tremaining: 22.9ms\n1:\tlearn: 0.3755691\ttotal: 4.06ms\tremaining: 20.3ms\n2:\tlearn: 0.3120681\ttotal: 6.06ms\tremaining: 18.2ms\n3:\tlearn: 0.3021811\ttotal: 6.75ms\tremaining: 13.5ms\n4:\tlearn: 0.2593575\ttotal: 8.76ms\tremaining: 12.3ms\n5:\tlearn: 0.2314654\ttotal: 10.9ms\tremaining: 10.9ms\n6:\tlearn: 0.2150263\ttotal: 12.1ms\tremaining: 8.64ms\n7:\tlearn: 0.1973278\ttotal: 13.2ms\tremaining: 6.61ms\n8:\tlearn: 0.1835442\ttotal: 14.8ms\tremaining: 4.92ms\n9:\tlearn: 0.1727721\ttotal: 15.9ms\tremaining: 3.19ms\n10:\tlearn: 0.1552194\ttotal: 17.7ms\tremaining: 1.61ms\n11:\tlearn: 0.1428539\ttotal: 19.5ms\tremaining: 0us\nLearning rate set to 0.341638\n0:\tlearn: 0.4813223\ttotal: 1.23ms\tremaining: 13.5ms\n1:\tlearn: 0.3717441\ttotal: 2.45ms\tremaining: 12.2ms\n2:\tlearn: 0.3228929\ttotal: 3.64ms\tremaining: 10.9ms\n3:\tlearn: 0.3134628\ttotal: 4.17ms\tremaining: 8.34ms\n4:\tlearn: 0.2718371\ttotal: 5.41ms\tremaining: 7.58ms\n5:\tlearn: 0.2523322\ttotal: 6.58ms\tremaining: 6.58ms\n6:\tlearn: 0.2307157\ttotal: 7.75ms\tremaining: 5.53ms\n7:\tlearn: 0.2046405\ttotal: 8.95ms\tremaining: 4.47ms\n8:\tlearn: 0.1802508\ttotal: 10.1ms\tremaining: 3.37ms\n9:\tlearn: 0.1655248\ttotal: 11.3ms\tremaining: 2.26ms\n10:\tlearn: 0.1467936\ttotal: 12.5ms\tremaining: 1.14ms\n11:\tlearn: 0.1370624\ttotal: 13.7ms\tremaining: 0us\nLearning rate set to 0.341638\n0:\tlearn: 0.5050320\ttotal: 1.2ms\tremaining: 13.2ms\n1:\tlearn: 0.3819801\ttotal: 2.39ms\tremaining: 12ms\n2:\tlearn: 0.3271570\ttotal: 3.6ms\tremaining: 10.8ms\n3:\tlearn: 0.3184934\ttotal: 4.13ms\tremaining: 8.25ms\n4:\tlearn: 0.2816410\ttotal: 5.32ms\tremaining: 7.45ms\n5:\tlearn: 0.2538417\ttotal: 6.5ms\tremaining: 6.5ms\n6:\tlearn: 0.2330550\ttotal: 7.68ms\tremaining: 5.49ms\n7:\tlearn: 0.2188092\ttotal: 8.91ms\tremaining: 4.46ms\n8:\tlearn: 0.1938398\ttotal: 10.1ms\tremaining: 3.36ms\n9:\tlearn: 0.1813633\ttotal: 11.2ms\tremaining: 2.25ms\n10:\tlearn: 0.1638535\ttotal: 12.5ms\tremaining: 1.13ms\n11:\tlearn: 0.1568301\ttotal: 13.6ms\tremaining: 0us\nLearning rate set to 0.341103\n0:\tlearn: 0.5055749\ttotal: 1.19ms\tremaining: 13.1ms\n1:\tlearn: 0.3928388\ttotal: 2.39ms\tremaining: 11.9ms\n2:\tlearn: 0.3398883\ttotal: 3.61ms\tremaining: 10.8ms\n3:\tlearn: 0.2957509\ttotal: 4.78ms\tremaining: 9.55ms\n4:\tlearn: 0.2618889\ttotal: 5.94ms\tremaining: 8.31ms\n5:\tlearn: 0.2366685\ttotal: 7.14ms\tremaining: 7.14ms\n6:\tlearn: 0.2071986\ttotal: 8.3ms\tremaining: 5.93ms\n7:\tlearn: 0.1912810\ttotal: 9.48ms\tremaining: 4.74ms\n8:\tlearn: 0.1721214\ttotal: 10.7ms\tremaining: 3.56ms\n9:\tlearn: 0.1662194\ttotal: 11.9ms\tremaining: 2.37ms\n10:\tlearn: 0.1569302\ttotal: 13ms\tremaining: 1.18ms\n11:\tlearn: 0.1435769\ttotal: 14.2ms\tremaining: 0us\nLearning rate set to 0.341103\n0:\tlearn: 0.4779583\ttotal: 1.17ms\tremaining: 12.8ms\n1:\tlearn: 0.3818906\ttotal: 2.42ms\tremaining: 12.1ms\n2:\tlearn: 0.3209469\ttotal: 3.66ms\tremaining: 11ms\n3:\tlearn: 0.2737826\ttotal: 4.84ms\tremaining: 9.67ms\n4:\tlearn: 0.2388723\ttotal: 6.01ms\tremaining: 8.41ms\n5:\tlearn: 0.2109685\ttotal: 7.22ms\tremaining: 7.22ms\n6:\tlearn: 0.1891863\ttotal: 8.38ms\tremaining: 5.99ms\n7:\tlearn: 0.1708443\ttotal: 9.55ms\tremaining: 4.77ms\n8:\tlearn: 0.1552188\ttotal: 10.8ms\tremaining: 3.59ms\n9:\tlearn: 0.1462984\ttotal: 11.9ms\tremaining: 2.39ms\n10:\tlearn: 0.1341721\ttotal: 13.1ms\tremaining: 1.19ms\n11:\tlearn: 0.1187804\ttotal: 14.3ms\tremaining: 0us\nLearning rate set to 0.341103\n0:\tlearn: 0.5195624\ttotal: 1.13ms\tremaining: 12.5ms\n1:\tlearn: 0.4008996\ttotal: 2.35ms\tremaining: 11.7ms\n2:\tlearn: 0.3468681\ttotal: 3.63ms\tremaining: 10.9ms\n3:\tlearn: 0.2954435\ttotal: 4.82ms\tremaining: 9.63ms\n4:\tlearn: 0.2668248\ttotal: 6.01ms\tremaining: 8.42ms\n5:\tlearn: 0.2384818\ttotal: 7.18ms\tremaining: 7.18ms\n6:\tlearn: 0.2104796\ttotal: 8.34ms\tremaining: 5.96ms\n7:\tlearn: 0.1915084\ttotal: 9.54ms\tremaining: 4.77ms\n8:\tlearn: 0.1727527\ttotal: 10.7ms\tremaining: 3.57ms\n9:\tlearn: 0.1613954\ttotal: 11.9ms\tremaining: 2.38ms\n10:\tlearn: 0.1523155\ttotal: 13.1ms\tremaining: 1.19ms\n11:\tlearn: 0.1393378\ttotal: 14.3ms\tremaining: 0us\nLearning rate set to 0.341638\n0:\tlearn: 0.4985154\ttotal: 1.23ms\tremaining: 13.6ms\n1:\tlearn: 0.3789571\ttotal: 2.45ms\tremaining: 12.3ms\n2:\tlearn: 0.3295583\ttotal: 3.63ms\tremaining: 10.9ms\n3:\tlearn: 0.3196723\ttotal: 4.16ms\tremaining: 8.32ms\n4:\tlearn: 0.2874192\ttotal: 5.39ms\tremaining: 7.55ms\n5:\tlearn: 0.2546022\ttotal: 6.65ms\tremaining: 6.65ms\n6:\tlearn: 0.2401102\ttotal: 7.84ms\tremaining: 5.6ms\n7:\tlearn: 0.2274640\ttotal: 9.03ms\tremaining: 4.52ms\n8:\tlearn: 0.2119814\ttotal: 10.2ms\tremaining: 3.4ms\n9:\tlearn: 0.2033982\ttotal: 11.4ms\tremaining: 2.27ms\n10:\tlearn: 0.1870676\ttotal: 12.6ms\tremaining: 1.14ms\n11:\tlearn: 0.1735255\ttotal: 13.8ms\tremaining: 0us\nLearning rate set to 0.341638\n0:\tlearn: 0.5088627\ttotal: 1.14ms\tremaining: 12.5ms\n1:\tlearn: 0.4058317\ttotal: 1.98ms\tremaining: 9.92ms\n2:\tlearn: 0.3243519\ttotal: 3.17ms\tremaining: 9.52ms\n3:\tlearn: 0.3022905\ttotal: 4.37ms\tremaining: 8.73ms\n4:\tlearn: 0.2705769\ttotal: 5.65ms\tremaining: 7.91ms\n5:\tlearn: 0.2435793\ttotal: 6.88ms\tremaining: 6.88ms\n6:\tlearn: 0.2174141\ttotal: 8.09ms\tremaining: 5.78ms\n7:\tlearn: 0.1954787\ttotal: 9.29ms\tremaining: 4.64ms\n8:\tlearn: 0.1825087\ttotal: 10.5ms\tremaining: 3.5ms\n9:\tlearn: 0.1690999\ttotal: 11.7ms\tremaining: 2.35ms\n10:\tlearn: 0.1591535\ttotal: 12.9ms\tremaining: 1.17ms\n11:\tlearn: 0.1450152\ttotal: 14.1ms\tremaining: 0us\nLearning rate set to 0.341638\n0:\tlearn: 0.5035592\ttotal: 2.06ms\tremaining: 22.7ms\n1:\tlearn: 0.3840805\ttotal: 4.04ms\tremaining: 20.2ms\n2:\tlearn: 0.3167996\ttotal: 5.57ms\tremaining: 16.7ms\n3:\tlearn: 0.3057003\ttotal: 6.1ms\tremaining: 12.2ms\n4:\tlearn: 0.2530287\ttotal: 7.56ms\tremaining: 10.6ms\n5:\tlearn: 0.2303829\ttotal: 9.28ms\tremaining: 9.28ms\n6:\tlearn: 0.2183919\ttotal: 10.7ms\tremaining: 7.66ms\n7:\tlearn: 0.2023371\ttotal: 12.1ms\tremaining: 6.06ms\n8:\tlearn: 0.1848154\ttotal: 13.3ms\tremaining: 4.44ms\n9:\tlearn: 0.1740249\ttotal: 14.8ms\tremaining: 2.95ms\n10:\tlearn: 0.1606628\ttotal: 15.9ms\tremaining: 1.45ms\n11:\tlearn: 0.1500179\ttotal: 17.2ms\tremaining: 0us\nLearning rate set to 0.341638\n0:\tlearn: 0.5045063\ttotal: 1.14ms\tremaining: 12.5ms\n1:\tlearn: 0.3763161\ttotal: 2.4ms\tremaining: 12ms\n2:\tlearn: 0.3242276\ttotal: 3.6ms\tremaining: 10.8ms\n3:\tlearn: 0.3176282\ttotal: 4.13ms\tremaining: 8.26ms\n4:\tlearn: 0.2859883\ttotal: 5.29ms\tremaining: 7.41ms\n5:\tlearn: 0.2654640\ttotal: 6.46ms\tremaining: 6.46ms\n6:\tlearn: 0.2473180\ttotal: 7.65ms\tremaining: 5.46ms\n7:\tlearn: 0.2184210\ttotal: 8.81ms\tremaining: 4.4ms\n8:\tlearn: 0.2039457\ttotal: 9.97ms\tremaining: 3.32ms\n9:\tlearn: 0.1844546\ttotal: 11.2ms\tremaining: 2.24ms\n10:\tlearn: 0.1645384\ttotal: 12.3ms\tremaining: 1.12ms\n11:\tlearn: 0.1548283\ttotal: 13.5ms\tremaining: 0us\nLearning rate set to 0.341638\n0:\tlearn: 0.5123293\ttotal: 1.19ms\tremaining: 13.1ms\n1:\tlearn: 0.3755691\ttotal: 2.44ms\tremaining: 12.2ms\n2:\tlearn: 0.3120681\ttotal: 3.77ms\tremaining: 11.3ms\n3:\tlearn: 0.3021811\ttotal: 4.31ms\tremaining: 8.62ms\n4:\tlearn: 0.2593575\ttotal: 5.48ms\tremaining: 7.67ms\n5:\tlearn: 0.2314654\ttotal: 6.66ms\tremaining: 6.66ms\n6:\tlearn: 0.2150263\ttotal: 7.89ms\tremaining: 5.63ms\n7:\tlearn: 0.1973278\ttotal: 9.05ms\tremaining: 4.52ms\n8:\tlearn: 0.1835442\ttotal: 10.2ms\tremaining: 3.41ms\n9:\tlearn: 0.1727721\ttotal: 11.5ms\tremaining: 2.3ms\n10:\tlearn: 0.1552194\ttotal: 12.7ms\tremaining: 1.15ms\n11:\tlearn: 0.1428539\ttotal: 13.8ms\tremaining: 0us\nLearning rate set to 0.341638\n0:\tlearn: 0.4813223\ttotal: 1.17ms\tremaining: 12.9ms\n1:\tlearn: 0.3717441\ttotal: 2.38ms\tremaining: 11.9ms\n2:\tlearn: 0.3228929\ttotal: 3.6ms\tremaining: 10.8ms\n3:\tlearn: 0.3134628\ttotal: 4.14ms\tremaining: 8.29ms\n4:\tlearn: 0.2718371\ttotal: 5.35ms\tremaining: 7.49ms\n5:\tlearn: 0.2523322\ttotal: 6.61ms\tremaining: 6.61ms\n6:\tlearn: 0.2307157\ttotal: 7.87ms\tremaining: 5.62ms\n7:\tlearn: 0.2046405\ttotal: 9.04ms\tremaining: 4.52ms\n8:\tlearn: 0.1802508\ttotal: 10.2ms\tremaining: 3.4ms\n9:\tlearn: 0.1655248\ttotal: 11.4ms\tremaining: 2.29ms\n10:\tlearn: 0.1467936\ttotal: 12.9ms\tremaining: 1.17ms\n11:\tlearn: 0.1370624\ttotal: 14.1ms\tremaining: 0us\nLearning rate set to 0.341638\n0:\tlearn: 0.5050320\ttotal: 1.19ms\tremaining: 13.1ms\n1:\tlearn: 0.3819801\ttotal: 2.38ms\tremaining: 11.9ms\n2:\tlearn: 0.3271570\ttotal: 3.66ms\tremaining: 11ms\n3:\tlearn: 0.3184934\ttotal: 4.19ms\tremaining: 8.38ms\n4:\tlearn: 0.2816410\ttotal: 5.37ms\tremaining: 7.52ms\n5:\tlearn: 0.2538417\ttotal: 6.57ms\tremaining: 6.57ms\n6:\tlearn: 0.2330550\ttotal: 7.75ms\tremaining: 5.54ms\n7:\tlearn: 0.2188092\ttotal: 8.92ms\tremaining: 4.46ms\n8:\tlearn: 0.1938398\ttotal: 10.1ms\tremaining: 3.36ms\n9:\tlearn: 0.1813633\ttotal: 11.3ms\tremaining: 2.26ms\n10:\tlearn: 0.1638535\ttotal: 12.5ms\tremaining: 1.13ms\n11:\tlearn: 0.1568301\ttotal: 13.6ms\tremaining: 0us\nLearning rate set to 0.341103\n0:\tlearn: 0.5055749\ttotal: 1.15ms\tremaining: 12.7ms\n1:\tlearn: 0.3928388\ttotal: 2.4ms\tremaining: 12ms\n2:\tlearn: 0.3398883\ttotal: 3.6ms\tremaining: 10.8ms\n3:\tlearn: 0.2957509\ttotal: 4.77ms\tremaining: 9.54ms\n4:\tlearn: 0.2618889\ttotal: 5.93ms\tremaining: 8.31ms\n5:\tlearn: 0.2366685\ttotal: 7.13ms\tremaining: 7.13ms\n6:\tlearn: 0.2071986\ttotal: 8.29ms\tremaining: 5.92ms\n7:\tlearn: 0.1912810\ttotal: 9.46ms\tremaining: 4.73ms\n8:\tlearn: 0.1721214\ttotal: 10.7ms\tremaining: 3.56ms\n9:\tlearn: 0.1662194\ttotal: 11.9ms\tremaining: 2.37ms\n10:\tlearn: 0.1569302\ttotal: 13ms\tremaining: 1.18ms\n11:\tlearn: 0.1435769\ttotal: 14.2ms\tremaining: 0us\nLearning rate set to 0.341103\n0:\tlearn: 0.4779583\ttotal: 1.22ms\tremaining: 13.4ms\n1:\tlearn: 0.3818906\ttotal: 2.42ms\tremaining: 12.1ms\n2:\tlearn: 0.3209469\ttotal: 3.61ms\tremaining: 10.8ms\n3:\tlearn: 0.2737826\ttotal: 4.8ms\tremaining: 9.6ms\n4:\tlearn: 0.2388723\ttotal: 5.96ms\tremaining: 8.35ms\n5:\tlearn: 0.2109685\ttotal: 7.13ms\tremaining: 7.13ms\n6:\tlearn: 0.1891863\ttotal: 8.38ms\tremaining: 5.99ms\n7:\tlearn: 0.1708443\ttotal: 9.62ms\tremaining: 4.81ms\n8:\tlearn: 0.1552188\ttotal: 11.1ms\tremaining: 3.69ms\n9:\tlearn: 0.1462984\ttotal: 12.3ms\tremaining: 2.46ms\n10:\tlearn: 0.1341721\ttotal: 13.5ms\tremaining: 1.22ms\n11:\tlearn: 0.1187804\ttotal: 14.8ms\tremaining: 0us\nLearning rate set to 0.341103\n0:\tlearn: 0.5195624\ttotal: 1.16ms\tremaining: 12.8ms\n1:\tlearn: 0.4008996\ttotal: 2.42ms\tremaining: 12.1ms\n2:\tlearn: 0.3468681\ttotal: 3.67ms\tremaining: 11ms\n3:\tlearn: 0.2954435\ttotal: 4.89ms\tremaining: 9.78ms\n4:\tlearn: 0.2668248\ttotal: 6.16ms\tremaining: 8.63ms\n5:\tlearn: 0.2384818\ttotal: 7.5ms\tremaining: 7.5ms\n6:\tlearn: 0.2104796\ttotal: 8.67ms\tremaining: 6.19ms\n7:\tlearn: 0.1915084\ttotal: 9.87ms\tremaining: 4.93ms\n8:\tlearn: 0.1727527\ttotal: 11ms\tremaining: 3.68ms\n9:\tlearn: 0.1613954\ttotal: 12.2ms\tremaining: 2.44ms\n10:\tlearn: 0.1523155\ttotal: 13.5ms\tremaining: 1.23ms\n11:\tlearn: 0.1393378\ttotal: 14.7ms\tremaining: 0us\nLearning rate set to 0.341638\n0:\tlearn: 0.4985154\ttotal: 1.22ms\tremaining: 13.4ms\n1:\tlearn: 0.3789571\ttotal: 2.43ms\tremaining: 12.1ms\n2:\tlearn: 0.3295583\ttotal: 3.62ms\tremaining: 10.9ms\n3:\tlearn: 0.3196723\ttotal: 4.18ms\tremaining: 8.36ms\n4:\tlearn: 0.2874192\ttotal: 5.34ms\tremaining: 7.47ms\n5:\tlearn: 0.2546022\ttotal: 6.51ms\tremaining: 6.51ms\n6:\tlearn: 0.2401102\ttotal: 7.7ms\tremaining: 5.5ms\n7:\tlearn: 0.2274640\ttotal: 8.92ms\tremaining: 4.46ms\n8:\tlearn: 0.2119814\ttotal: 10.1ms\tremaining: 3.38ms\n9:\tlearn: 0.2033982\ttotal: 11.4ms\tremaining: 2.28ms\n10:\tlearn: 0.1870676\ttotal: 12.7ms\tremaining: 1.15ms\n11:\tlearn: 0.1735255\ttotal: 13.8ms\tremaining: 0us\nLearning rate set to 0.341638\n0:\tlearn: 0.5088627\ttotal: 1.15ms\tremaining: 12.7ms\n1:\tlearn: 0.4058317\ttotal: 2.01ms\tremaining: 10ms\n2:\tlearn: 0.3243519\ttotal: 3.19ms\tremaining: 9.56ms\n3:\tlearn: 0.3022905\ttotal: 4.39ms\tremaining: 8.78ms\n4:\tlearn: 0.2705769\ttotal: 5.56ms\tremaining: 7.78ms\n5:\tlearn: 0.2435793\ttotal: 6.72ms\tremaining: 6.72ms\n6:\tlearn: 0.2174141\ttotal: 7.92ms\tremaining: 5.66ms\n7:\tlearn: 0.1954787\ttotal: 9.26ms\tremaining: 4.63ms\n8:\tlearn: 0.1825087\ttotal: 10.4ms\tremaining: 3.47ms\n9:\tlearn: 0.1690999\ttotal: 11.6ms\tremaining: 2.33ms\n10:\tlearn: 0.1591535\ttotal: 12.8ms\tremaining: 1.16ms\n11:\tlearn: 0.1450152\ttotal: 13.9ms\tremaining: 0us\nLearning rate set to 0.341638\n0:\tlearn: 0.5035592\ttotal: 1.2ms\tremaining: 13.2ms\n1:\tlearn: 0.3840805\ttotal: 2.42ms\tremaining: 12.1ms\n2:\tlearn: 0.3167996\ttotal: 3.63ms\tremaining: 10.9ms\n3:\tlearn: 0.3057003\ttotal: 4.18ms\tremaining: 8.36ms\n4:\tlearn: 0.2530287\ttotal: 5.35ms\tremaining: 7.49ms\n5:\tlearn: 0.2303829\ttotal: 6.6ms\tremaining: 6.6ms\n6:\tlearn: 0.2183919\ttotal: 7.86ms\tremaining: 5.61ms\n7:\tlearn: 0.2023371\ttotal: 9.03ms\tremaining: 4.51ms\n8:\tlearn: 0.1848154\ttotal: 10.2ms\tremaining: 3.39ms\n9:\tlearn: 0.1740249\ttotal: 11.5ms\tremaining: 2.29ms\n10:\tlearn: 0.1606628\ttotal: 12.7ms\tremaining: 1.15ms\n11:\tlearn: 0.1500179\ttotal: 13.9ms\tremaining: 0us\nLearning rate set to 0.341638\n0:\tlearn: 0.5045063\ttotal: 1.19ms\tremaining: 13.1ms\n1:\tlearn: 0.3763161\ttotal: 2.41ms\tremaining: 12.1ms\n2:\tlearn: 0.3242276\ttotal: 3.61ms\tremaining: 10.8ms\n3:\tlearn: 0.3176282\ttotal: 4.15ms\tremaining: 8.3ms\n4:\tlearn: 0.2859883\ttotal: 5.4ms\tremaining: 7.56ms\n5:\tlearn: 0.2654640\ttotal: 6.66ms\tremaining: 6.66ms\n6:\tlearn: 0.2473180\ttotal: 7.84ms\tremaining: 5.6ms\n7:\tlearn: 0.2184210\ttotal: 9ms\tremaining: 4.5ms\n8:\tlearn: 0.2039457\ttotal: 10.2ms\tremaining: 3.4ms\n9:\tlearn: 0.1844546\ttotal: 11.4ms\tremaining: 2.27ms\n10:\tlearn: 0.1645384\ttotal: 12.5ms\tremaining: 1.14ms\n11:\tlearn: 0.1548283\ttotal: 13.7ms\tremaining: 0us\nLearning rate set to 0.341638\n0:\tlearn: 0.5123293\ttotal: 1.12ms\tremaining: 12.4ms\n1:\tlearn: 0.3755691\ttotal: 2.3ms\tremaining: 11.5ms\n2:\tlearn: 0.3120681\ttotal: 3.63ms\tremaining: 10.9ms\n3:\tlearn: 0.3021811\ttotal: 4.2ms\tremaining: 8.4ms\n4:\tlearn: 0.2593575\ttotal: 5.37ms\tremaining: 7.51ms\n5:\tlearn: 0.2314654\ttotal: 6.59ms\tremaining: 6.59ms\n6:\tlearn: 0.2150263\ttotal: 7.99ms\tremaining: 5.7ms\n7:\tlearn: 0.1973278\ttotal: 9.42ms\tremaining: 4.71ms\n8:\tlearn: 0.1835442\ttotal: 10.6ms\tremaining: 3.54ms\n9:\tlearn: 0.1727721\ttotal: 11.8ms\tremaining: 2.36ms\n10:\tlearn: 0.1552194\ttotal: 13ms\tremaining: 1.18ms\n11:\tlearn: 0.1428539\ttotal: 14.2ms\tremaining: 0us\nLearning rate set to 0.341638\n0:\tlearn: 0.4813223\ttotal: 6.47ms\tremaining: 71.2ms\n1:\tlearn: 0.3717441\ttotal: 8.68ms\tremaining: 43.4ms\n2:\tlearn: 0.3228929\ttotal: 12.6ms\tremaining: 37.8ms\n3:\tlearn: 0.3134628\ttotal: 14.6ms\tremaining: 29.2ms\n4:\tlearn: 0.2718371\ttotal: 16.9ms\tremaining: 23.6ms\n5:\tlearn: 0.2523322\ttotal: 21.1ms\tremaining: 21.1ms\n6:\tlearn: 0.2307157\ttotal: 23.1ms\tremaining: 16.5ms\n7:\tlearn: 0.2046405\ttotal: 27.1ms\tremaining: 13.5ms\n8:\tlearn: 0.1802508\ttotal: 30.1ms\tremaining: 10ms\n9:\tlearn: 0.1655248\ttotal: 32.7ms\tremaining: 6.54ms\n10:\tlearn: 0.1467936\ttotal: 35.4ms\tremaining: 3.22ms\n11:\tlearn: 0.1370624\ttotal: 38.4ms\tremaining: 0us\nLearning rate set to 0.341638\n0:\tlearn: 0.5050320\ttotal: 1.15ms\tremaining: 12.7ms\n1:\tlearn: 0.3819801\ttotal: 2.39ms\tremaining: 12ms\n2:\tlearn: 0.3271570\ttotal: 3.67ms\tremaining: 11ms\n3:\tlearn: 0.3184934\ttotal: 4.21ms\tremaining: 8.41ms\n4:\tlearn: 0.2816410\ttotal: 5.37ms\tremaining: 7.51ms\n5:\tlearn: 0.2538417\ttotal: 6.54ms\tremaining: 6.54ms\n6:\tlearn: 0.2330550\ttotal: 7.72ms\tremaining: 5.51ms\n7:\tlearn: 0.2188092\ttotal: 9.13ms\tremaining: 4.56ms\n8:\tlearn: 0.1938398\ttotal: 10.4ms\tremaining: 3.46ms\n9:\tlearn: 0.1813633\ttotal: 11.6ms\tremaining: 2.31ms\n10:\tlearn: 0.1638535\ttotal: 12.7ms\tremaining: 1.16ms\n11:\tlearn: 0.1568301\ttotal: 13.9ms\tremaining: 0us\nLearning rate set to 0.341103\n0:\tlearn: 0.5055749\ttotal: 1.13ms\tremaining: 12.4ms\n1:\tlearn: 0.3928388\ttotal: 2.3ms\tremaining: 11.5ms\n2:\tlearn: 0.3398883\ttotal: 3.48ms\tremaining: 10.5ms\n3:\tlearn: 0.2957509\ttotal: 4.65ms\tremaining: 9.29ms\n4:\tlearn: 0.2618889\ttotal: 5.81ms\tremaining: 8.14ms\n5:\tlearn: 0.2366685\ttotal: 7.01ms\tremaining: 7.01ms\n6:\tlearn: 0.2071986\ttotal: 8.17ms\tremaining: 5.84ms\n7:\tlearn: 0.1912810\ttotal: 9.34ms\tremaining: 4.67ms\n8:\tlearn: 0.1721214\ttotal: 10.5ms\tremaining: 3.52ms\n9:\tlearn: 0.1662194\ttotal: 11.7ms\tremaining: 2.34ms\n10:\tlearn: 0.1569302\ttotal: 12.9ms\tremaining: 1.17ms\n11:\tlearn: 0.1435769\ttotal: 14.1ms\tremaining: 0us\nLearning rate set to 0.341103\n0:\tlearn: 0.4779583\ttotal: 1.15ms\tremaining: 12.7ms\n1:\tlearn: 0.3818906\ttotal: 2.6ms\tremaining: 13ms\n2:\tlearn: 0.3209469\ttotal: 3.87ms\tremaining: 11.6ms\n3:\tlearn: 0.2737826\ttotal: 5.05ms\tremaining: 10.1ms\n4:\tlearn: 0.2388723\ttotal: 6.24ms\tremaining: 8.74ms\n5:\tlearn: 0.2109685\ttotal: 7.41ms\tremaining: 7.41ms\n6:\tlearn: 0.1891863\ttotal: 8.59ms\tremaining: 6.13ms\n7:\tlearn: 0.1708443\ttotal: 9.75ms\tremaining: 4.87ms\n8:\tlearn: 0.1552188\ttotal: 11ms\tremaining: 3.65ms\n9:\tlearn: 0.1462984\ttotal: 12.1ms\tremaining: 2.43ms\n10:\tlearn: 0.1341721\ttotal: 13.3ms\tremaining: 1.21ms\n11:\tlearn: 0.1187804\ttotal: 14.5ms\tremaining: 0us\nLearning rate set to 0.341103\n0:\tlearn: 0.5195624\ttotal: 1.14ms\tremaining: 12.5ms\n1:\tlearn: 0.4008996\ttotal: 2.31ms\tremaining: 11.6ms\n2:\tlearn: 0.3468681\ttotal: 3.52ms\tremaining: 10.6ms\n3:\tlearn: 0.2954435\ttotal: 4.75ms\tremaining: 9.5ms\n4:\tlearn: 0.2668248\ttotal: 5.94ms\tremaining: 8.32ms\n5:\tlearn: 0.2384818\ttotal: 7.1ms\tremaining: 7.1ms\n6:\tlearn: 0.2104796\ttotal: 8.3ms\tremaining: 5.93ms\n7:\tlearn: 0.1915084\ttotal: 9.47ms\tremaining: 4.73ms\n8:\tlearn: 0.1727527\ttotal: 10.9ms\tremaining: 3.62ms\n9:\tlearn: 0.1613954\ttotal: 12.1ms\tremaining: 2.42ms\n10:\tlearn: 0.1523155\ttotal: 13.3ms\tremaining: 1.21ms\n11:\tlearn: 0.1393378\ttotal: 14.5ms\tremaining: 0us\nLearning rate set to 0.341638\n0:\tlearn: 0.4985154\ttotal: 4.72ms\tremaining: 51.9ms\n1:\tlearn: 0.3789571\ttotal: 6ms\tremaining: 30ms\n2:\tlearn: 0.3295583\ttotal: 7.27ms\tremaining: 21.8ms\n3:\tlearn: 0.3196723\ttotal: 7.84ms\tremaining: 15.7ms\n4:\tlearn: 0.2874192\ttotal: 9.01ms\tremaining: 12.6ms\n5:\tlearn: 0.2546022\ttotal: 10.2ms\tremaining: 10.2ms\n6:\tlearn: 0.2401102\ttotal: 13.3ms\tremaining: 9.49ms\n7:\tlearn: 0.2274640\ttotal: 14.6ms\tremaining: 7.29ms\n8:\tlearn: 0.2119814\ttotal: 15.8ms\tremaining: 5.28ms\n9:\tlearn: 0.2033982\ttotal: 17ms\tremaining: 3.4ms\n10:\tlearn: 0.1870676\ttotal: 18.3ms\tremaining: 1.66ms\n11:\tlearn: 0.1735255\ttotal: 19.5ms\tremaining: 0us\nLearning rate set to 0.341638\n0:\tlearn: 0.5088627\ttotal: 1.16ms\tremaining: 12.8ms\n1:\tlearn: 0.4058317\ttotal: 2.01ms\tremaining: 10ms\n2:\tlearn: 0.3243519\ttotal: 3.19ms\tremaining: 9.58ms\n3:\tlearn: 0.3022905\ttotal: 4.36ms\tremaining: 8.72ms\n4:\tlearn: 0.2705769\ttotal: 5.56ms\tremaining: 7.78ms\n5:\tlearn: 0.2435793\ttotal: 6.76ms\tremaining: 6.76ms\n6:\tlearn: 0.2174141\ttotal: 8.09ms\tremaining: 5.78ms\n7:\tlearn: 0.1954787\ttotal: 9.34ms\tremaining: 4.67ms\n8:\tlearn: 0.1825087\ttotal: 10.6ms\tremaining: 3.53ms\n9:\tlearn: 0.1690999\ttotal: 11.8ms\tremaining: 2.35ms\n10:\tlearn: 0.1591535\ttotal: 13ms\tremaining: 1.18ms\n11:\tlearn: 0.1450152\ttotal: 14.1ms\tremaining: 0us\nLearning rate set to 0.341638\n0:\tlearn: 0.5035592\ttotal: 1.18ms\tremaining: 13ms\n1:\tlearn: 0.3840805\ttotal: 2.36ms\tremaining: 11.8ms\n2:\tlearn: 0.3167996\ttotal: 3.52ms\tremaining: 10.6ms\n3:\tlearn: 0.3057003\ttotal: 4.05ms\tremaining: 8.11ms\n4:\tlearn: 0.2530287\ttotal: 5.25ms\tremaining: 7.35ms\n5:\tlearn: 0.2303829\ttotal: 6.49ms\tremaining: 6.49ms\n6:\tlearn: 0.2183919\ttotal: 7.89ms\tremaining: 5.64ms\n7:\tlearn: 0.2023371\ttotal: 9.05ms\tremaining: 4.53ms\n8:\tlearn: 0.1848154\ttotal: 10.2ms\tremaining: 3.41ms\n9:\tlearn: 0.1740249\ttotal: 11.4ms\tremaining: 2.28ms\n10:\tlearn: 0.1606628\ttotal: 12.7ms\tremaining: 1.16ms\n11:\tlearn: 0.1500179\ttotal: 13.9ms\tremaining: 0us\nLearning rate set to 0.341638\n0:\tlearn: 0.5045063\ttotal: 1.15ms\tremaining: 12.7ms\n1:\tlearn: 0.3763161\ttotal: 2.34ms\tremaining: 11.7ms\n2:\tlearn: 0.3242276\ttotal: 3.56ms\tremaining: 10.7ms\n3:\tlearn: 0.3176282\ttotal: 4.1ms\tremaining: 8.2ms\n4:\tlearn: 0.2859883\ttotal: 5.26ms\tremaining: 7.36ms\n5:\tlearn: 0.2654640\ttotal: 6.43ms\tremaining: 6.43ms\n6:\tlearn: 0.2473180\ttotal: 7.66ms\tremaining: 5.47ms\n7:\tlearn: 0.2184210\ttotal: 8.93ms\tremaining: 4.46ms\n8:\tlearn: 0.2039457\ttotal: 10.1ms\tremaining: 3.37ms\n9:\tlearn: 0.1844546\ttotal: 11.3ms\tremaining: 2.26ms\n10:\tlearn: 0.1645384\ttotal: 12.6ms\tremaining: 1.14ms\n11:\tlearn: 0.1548283\ttotal: 13.8ms\tremaining: 0us\nLearning rate set to 0.341638\n0:\tlearn: 0.5123293\ttotal: 1.12ms\tremaining: 12.3ms\n1:\tlearn: 0.3755691\ttotal: 2.31ms\tremaining: 11.5ms\n2:\tlearn: 0.3120681\ttotal: 3.49ms\tremaining: 10.5ms\n3:\tlearn: 0.3021811\ttotal: 3.94ms\tremaining: 7.87ms\n4:\tlearn: 0.2593575\ttotal: 5.09ms\tremaining: 7.13ms\n5:\tlearn: 0.2314654\ttotal: 6.28ms\tremaining: 6.28ms\n6:\tlearn: 0.2150263\ttotal: 7.5ms\tremaining: 5.35ms\n7:\tlearn: 0.1973278\ttotal: 8.66ms\tremaining: 4.33ms\n8:\tlearn: 0.1835442\ttotal: 9.82ms\tremaining: 3.27ms\n9:\tlearn: 0.1727721\ttotal: 11ms\tremaining: 2.21ms\n10:\tlearn: 0.1552194\ttotal: 12.2ms\tremaining: 1.11ms\n11:\tlearn: 0.1428539\ttotal: 13.4ms\tremaining: 0us\nLearning rate set to 0.341638\n0:\tlearn: 0.4813223\ttotal: 1.15ms\tremaining: 12.7ms\n1:\tlearn: 0.3717441\ttotal: 2.32ms\tremaining: 11.6ms\n2:\tlearn: 0.3228929\ttotal: 3.5ms\tremaining: 10.5ms\n3:\tlearn: 0.3134628\ttotal: 4.03ms\tremaining: 8.06ms\n4:\tlearn: 0.2718371\ttotal: 5.24ms\tremaining: 7.34ms\n5:\tlearn: 0.2523322\ttotal: 6.41ms\tremaining: 6.41ms\n6:\tlearn: 0.2307157\ttotal: 7.81ms\tremaining: 5.58ms\n7:\tlearn: 0.2046405\ttotal: 9.04ms\tremaining: 4.52ms\n8:\tlearn: 0.1802508\ttotal: 10.2ms\tremaining: 3.4ms\n9:\tlearn: 0.1655248\ttotal: 11.4ms\tremaining: 2.28ms\n10:\tlearn: 0.1467936\ttotal: 12.6ms\tremaining: 1.15ms\n11:\tlearn: 0.1370624\ttotal: 13.8ms\tremaining: 0us\nLearning rate set to 0.341638\n0:\tlearn: 0.5050320\ttotal: 1.14ms\tremaining: 12.5ms\n1:\tlearn: 0.3819801\ttotal: 2.35ms\tremaining: 11.8ms\n2:\tlearn: 0.3271570\ttotal: 3.54ms\tremaining: 10.6ms\n3:\tlearn: 0.3184934\ttotal: 4.06ms\tremaining: 8.13ms\n4:\tlearn: 0.2816410\ttotal: 5.27ms\tremaining: 7.37ms\n5:\tlearn: 0.2538417\ttotal: 6.5ms\tremaining: 6.5ms\n6:\tlearn: 0.2330550\ttotal: 7.86ms\tremaining: 5.61ms\n7:\tlearn: 0.2188092\ttotal: 9.06ms\tremaining: 4.53ms\n8:\tlearn: 0.1938398\ttotal: 10.3ms\tremaining: 3.42ms\n9:\tlearn: 0.1813633\ttotal: 11.5ms\tremaining: 2.3ms\n10:\tlearn: 0.1638535\ttotal: 13ms\tremaining: 1.18ms\n11:\tlearn: 0.1568301\ttotal: 16ms\tremaining: 0us\nLearning rate set to 0.341103\n0:\tlearn: 0.5055749\ttotal: 1.12ms\tremaining: 12.3ms\n1:\tlearn: 0.3928388\ttotal: 2.3ms\tremaining: 11.5ms\n2:\tlearn: 0.3398883\ttotal: 3.5ms\tremaining: 10.5ms\n3:\tlearn: 0.2957509\ttotal: 4.67ms\tremaining: 9.34ms\n4:\tlearn: 0.2618889\ttotal: 5.84ms\tremaining: 8.17ms\n5:\tlearn: 0.2366685\ttotal: 7.06ms\tremaining: 7.06ms\n6:\tlearn: 0.2071986\ttotal: 8.27ms\tremaining: 5.91ms\n7:\tlearn: 0.1912810\ttotal: 9.44ms\tremaining: 4.72ms\n8:\tlearn: 0.1721214\ttotal: 10.6ms\tremaining: 3.55ms\n9:\tlearn: 0.1662194\ttotal: 11.8ms\tremaining: 2.36ms\n10:\tlearn: 0.1569302\ttotal: 13ms\tremaining: 1.18ms\n11:\tlearn: 0.1435769\ttotal: 14.2ms\tremaining: 0us\nLearning rate set to 0.341103\n0:\tlearn: 0.4779583\ttotal: 1.15ms\tremaining: 12.6ms\n1:\tlearn: 0.3818906\ttotal: 2.46ms\tremaining: 12.3ms\n2:\tlearn: 0.3209469\ttotal: 3.64ms\tremaining: 10.9ms\n3:\tlearn: 0.2737826\ttotal: 4.81ms\tremaining: 9.61ms\n4:\tlearn: 0.2388723\ttotal: 6.01ms\tremaining: 8.41ms\n5:\tlearn: 0.2109685\ttotal: 7.18ms\tremaining: 7.18ms\n6:\tlearn: 0.1891863\ttotal: 8.37ms\tremaining: 5.97ms\n7:\tlearn: 0.1708443\ttotal: 9.82ms\tremaining: 4.91ms\n8:\tlearn: 0.1552188\ttotal: 11ms\tremaining: 3.67ms\n9:\tlearn: 0.1462984\ttotal: 12.2ms\tremaining: 2.44ms\n10:\tlearn: 0.1341721\ttotal: 13.4ms\tremaining: 1.22ms\n11:\tlearn: 0.1187804\ttotal: 14.6ms\tremaining: 0us\nLearning rate set to 0.341103\n0:\tlearn: 0.5195624\ttotal: 1.14ms\tremaining: 12.6ms\n1:\tlearn: 0.4008996\ttotal: 2.32ms\tremaining: 11.6ms\n2:\tlearn: 0.3468681\ttotal: 3.49ms\tremaining: 10.5ms\n3:\tlearn: 0.2954435\ttotal: 4.65ms\tremaining: 9.3ms\n4:\tlearn: 0.2668248\ttotal: 5.82ms\tremaining: 8.14ms\n5:\tlearn: 0.2384818\ttotal: 6.98ms\tremaining: 6.98ms\n6:\tlearn: 0.2104796\ttotal: 8.15ms\tremaining: 5.82ms\n7:\tlearn: 0.1915084\ttotal: 9.37ms\tremaining: 4.69ms\n8:\tlearn: 0.1727527\ttotal: 10.5ms\tremaining: 3.51ms\n9:\tlearn: 0.1613954\ttotal: 11.7ms\tremaining: 2.34ms\n10:\tlearn: 0.1523155\ttotal: 12.9ms\tremaining: 1.17ms\n11:\tlearn: 0.1393378\ttotal: 14.2ms\tremaining: 0us\nLearning rate set to 0.341638\n0:\tlearn: 0.4985154\ttotal: 1.17ms\tremaining: 12.8ms\n1:\tlearn: 0.3789571\ttotal: 2.35ms\tremaining: 11.7ms\n2:\tlearn: 0.3295583\ttotal: 3.52ms\tremaining: 10.6ms\n3:\tlearn: 0.3196723\ttotal: 4.05ms\tremaining: 8.11ms\n4:\tlearn: 0.2874192\ttotal: 5.26ms\tremaining: 7.36ms\n5:\tlearn: 0.2546022\ttotal: 6.43ms\tremaining: 6.43ms\n6:\tlearn: 0.2401102\ttotal: 7.62ms\tremaining: 5.44ms\n7:\tlearn: 0.2274640\ttotal: 8.81ms\tremaining: 4.4ms\n8:\tlearn: 0.2119814\ttotal: 9.96ms\tremaining: 3.32ms\n9:\tlearn: 0.2033982\ttotal: 11.1ms\tremaining: 2.23ms\n10:\tlearn: 0.1870676\ttotal: 12.3ms\tremaining: 1.12ms\n11:\tlearn: 0.1735255\ttotal: 13.5ms\tremaining: 0us\nLearning rate set to 0.341638\n0:\tlearn: 0.5088627\ttotal: 1.2ms\tremaining: 13.1ms\n1:\tlearn: 0.4058317\ttotal: 2.05ms\tremaining: 10.3ms\n2:\tlearn: 0.3243519\ttotal: 3.23ms\tremaining: 9.7ms\n3:\tlearn: 0.3022905\ttotal: 4.45ms\tremaining: 8.89ms\n4:\tlearn: 0.2705769\ttotal: 5.65ms\tremaining: 7.91ms\n5:\tlearn: 0.2435793\ttotal: 6.82ms\tremaining: 6.82ms\n6:\tlearn: 0.2174141\ttotal: 7.99ms\tremaining: 5.71ms\n7:\tlearn: 0.1954787\ttotal: 9.18ms\tremaining: 4.59ms\n8:\tlearn: 0.1825087\ttotal: 10.4ms\tremaining: 3.46ms\n9:\tlearn: 0.1690999\ttotal: 11.6ms\tremaining: 2.32ms\n10:\tlearn: 0.1591535\ttotal: 13.5ms\tremaining: 1.23ms\n11:\tlearn: 0.1450152\ttotal: 14.7ms\tremaining: 0us\nLearning rate set to 0.341638\n0:\tlearn: 0.5035592\ttotal: 1.19ms\tremaining: 13ms\n1:\tlearn: 0.3840805\ttotal: 2.42ms\tremaining: 12.1ms\n2:\tlearn: 0.3167996\ttotal: 3.73ms\tremaining: 11.2ms\n3:\tlearn: 0.3057003\ttotal: 4.28ms\tremaining: 8.57ms\n4:\tlearn: 0.2530287\ttotal: 5.45ms\tremaining: 7.63ms\n5:\tlearn: 0.2303829\ttotal: 6.63ms\tremaining: 6.63ms\n6:\tlearn: 0.2183919\ttotal: 7.82ms\tremaining: 5.58ms\n7:\tlearn: 0.2023371\ttotal: 9.01ms\tremaining: 4.5ms\n8:\tlearn: 0.1848154\ttotal: 10.2ms\tremaining: 3.39ms\n9:\tlearn: 0.1740249\ttotal: 11.3ms\tremaining: 2.26ms\n10:\tlearn: 0.1606628\ttotal: 12.5ms\tremaining: 1.14ms\n11:\tlearn: 0.1500179\ttotal: 13.7ms\tremaining: 0us\nLearning rate set to 0.341638\n0:\tlearn: 0.5045063\ttotal: 1.22ms\tremaining: 13.4ms\n1:\tlearn: 0.3763161\ttotal: 2.43ms\tremaining: 12.2ms\n2:\tlearn: 0.3242276\ttotal: 3.66ms\tremaining: 11ms\n3:\tlearn: 0.3176282\ttotal: 4.22ms\tremaining: 8.44ms\n4:\tlearn: 0.2859883\ttotal: 6.2ms\tremaining: 8.68ms\n5:\tlearn: 0.2654640\ttotal: 7.78ms\tremaining: 7.78ms\n6:\tlearn: 0.2473180\ttotal: 11.2ms\tremaining: 7.98ms\n7:\tlearn: 0.2184210\ttotal: 13ms\tremaining: 6.48ms\n8:\tlearn: 0.2039457\ttotal: 14.7ms\tremaining: 4.89ms\n9:\tlearn: 0.1844546\ttotal: 16.5ms\tremaining: 3.29ms\n10:\tlearn: 0.1645384\ttotal: 18.1ms\tremaining: 1.65ms\n11:\tlearn: 0.1548283\ttotal: 19.8ms\tremaining: 0us\nLearning rate set to 0.341638\n0:\tlearn: 0.5123293\ttotal: 1.14ms\tremaining: 12.6ms\n1:\tlearn: 0.3755691\ttotal: 2.34ms\tremaining: 11.7ms\n2:\tlearn: 0.3120681\ttotal: 3.55ms\tremaining: 10.6ms\n3:\tlearn: 0.3021811\ttotal: 4.11ms\tremaining: 8.22ms\n4:\tlearn: 0.2593575\ttotal: 5.31ms\tremaining: 7.44ms\n5:\tlearn: 0.2314654\ttotal: 6.63ms\tremaining: 6.63ms\n6:\tlearn: 0.2150263\ttotal: 7.82ms\tremaining: 5.59ms\n7:\tlearn: 0.1973278\ttotal: 8.98ms\tremaining: 4.49ms\n8:\tlearn: 0.1835442\ttotal: 10.3ms\tremaining: 3.43ms\n9:\tlearn: 0.1727721\ttotal: 11.5ms\tremaining: 2.29ms\n10:\tlearn: 0.1552194\ttotal: 12.6ms\tremaining: 1.15ms\n11:\tlearn: 0.1428539\ttotal: 13.8ms\tremaining: 0us\nLearning rate set to 0.341638\n0:\tlearn: 0.4813223\ttotal: 1.16ms\tremaining: 12.7ms\n1:\tlearn: 0.3717441\ttotal: 2.34ms\tremaining: 11.7ms\n2:\tlearn: 0.3228929\ttotal: 3.56ms\tremaining: 10.7ms\n3:\tlearn: 0.3134628\ttotal: 4.12ms\tremaining: 8.25ms\n4:\tlearn: 0.2718371\ttotal: 5.44ms\tremaining: 7.62ms\n5:\tlearn: 0.2523322\ttotal: 6.67ms\tremaining: 6.67ms\n6:\tlearn: 0.2307157\ttotal: 7.83ms\tremaining: 5.59ms\n7:\tlearn: 0.2046405\ttotal: 9.02ms\tremaining: 4.51ms\n8:\tlearn: 0.1802508\ttotal: 10.3ms\tremaining: 3.42ms\n9:\tlearn: 0.1655248\ttotal: 11.5ms\tremaining: 2.29ms\n10:\tlearn: 0.1467936\ttotal: 12.6ms\tremaining: 1.15ms\n11:\tlearn: 0.1370624\ttotal: 13.8ms\tremaining: 0us\nLearning rate set to 0.341638\n0:\tlearn: 0.5050320\ttotal: 1.78ms\tremaining: 19.5ms\n1:\tlearn: 0.3819801\ttotal: 3.09ms\tremaining: 15.4ms\n2:\tlearn: 0.3271570\ttotal: 4.44ms\tremaining: 13.3ms\n3:\tlearn: 0.3184934\ttotal: 4.97ms\tremaining: 9.95ms\n4:\tlearn: 0.2816410\ttotal: 6.19ms\tremaining: 8.66ms\n5:\tlearn: 0.2538417\ttotal: 7.51ms\tremaining: 7.51ms\n6:\tlearn: 0.2330550\ttotal: 8.71ms\tremaining: 6.22ms\n7:\tlearn: 0.2188092\ttotal: 9.91ms\tremaining: 4.96ms\n8:\tlearn: 0.1938398\ttotal: 11.2ms\tremaining: 3.73ms\n9:\tlearn: 0.1813633\ttotal: 12.4ms\tremaining: 2.48ms\n10:\tlearn: 0.1638535\ttotal: 13.6ms\tremaining: 1.23ms\n11:\tlearn: 0.1568301\ttotal: 14.8ms\tremaining: 0us\nLearning rate set to 0.341103\n0:\tlearn: 0.5055749\ttotal: 1.12ms\tremaining: 12.3ms\n1:\tlearn: 0.3928388\ttotal: 2.33ms\tremaining: 11.7ms\n2:\tlearn: 0.3398883\ttotal: 3.51ms\tremaining: 10.5ms\n3:\tlearn: 0.2957509\ttotal: 4.95ms\tremaining: 9.9ms\n4:\tlearn: 0.2618889\ttotal: 6.13ms\tremaining: 8.58ms\n5:\tlearn: 0.2366685\ttotal: 7.29ms\tremaining: 7.29ms\n6:\tlearn: 0.2071986\ttotal: 8.45ms\tremaining: 6.04ms\n7:\tlearn: 0.1912810\ttotal: 9.65ms\tremaining: 4.83ms\n8:\tlearn: 0.1721214\ttotal: 10.8ms\tremaining: 3.61ms\n9:\tlearn: 0.1662194\ttotal: 12ms\tremaining: 2.4ms\n10:\tlearn: 0.1569302\ttotal: 13.2ms\tremaining: 1.2ms\n11:\tlearn: 0.1435769\ttotal: 14.4ms\tremaining: 0us\nLearning rate set to 0.341103\n0:\tlearn: 0.4779583\ttotal: 1.18ms\tremaining: 13ms\n1:\tlearn: 0.3818906\ttotal: 2.39ms\tremaining: 12ms\n2:\tlearn: 0.3209469\ttotal: 3.6ms\tremaining: 10.8ms\n3:\tlearn: 0.2737826\ttotal: 4.8ms\tremaining: 9.6ms\n4:\tlearn: 0.2388723\ttotal: 6.01ms\tremaining: 8.41ms\n5:\tlearn: 0.2109685\ttotal: 7.18ms\tremaining: 7.18ms\n6:\tlearn: 0.1891863\ttotal: 8.37ms\tremaining: 5.98ms\n7:\tlearn: 0.1708443\ttotal: 9.54ms\tremaining: 4.77ms\n8:\tlearn: 0.1552188\ttotal: 10.7ms\tremaining: 3.57ms\n9:\tlearn: 0.1462984\ttotal: 11.9ms\tremaining: 2.38ms\n10:\tlearn: 0.1341721\ttotal: 13.1ms\tremaining: 1.19ms\n11:\tlearn: 0.1187804\ttotal: 14.3ms\tremaining: 0us\nLearning rate set to 0.341103\n0:\tlearn: 0.5195624\ttotal: 1.23ms\tremaining: 13.6ms\n1:\tlearn: 0.4008996\ttotal: 2.42ms\tremaining: 12.1ms\n2:\tlearn: 0.3468681\ttotal: 3.74ms\tremaining: 11.2ms\n3:\tlearn: 0.2954435\ttotal: 4.91ms\tremaining: 9.83ms\n4:\tlearn: 0.2668248\ttotal: 6.08ms\tremaining: 8.51ms\n5:\tlearn: 0.2384818\ttotal: 7.27ms\tremaining: 7.27ms\n6:\tlearn: 0.2104796\ttotal: 8.43ms\tremaining: 6.02ms\n7:\tlearn: 0.1915084\ttotal: 9.6ms\tremaining: 4.8ms\n8:\tlearn: 0.1727527\ttotal: 10.8ms\tremaining: 3.6ms\n9:\tlearn: 0.1613954\ttotal: 12ms\tremaining: 2.39ms\n10:\tlearn: 0.1523155\ttotal: 13.1ms\tremaining: 1.19ms\n11:\tlearn: 0.1393378\ttotal: 14.3ms\tremaining: 0us\nLearning rate set to 0.341638\n0:\tlearn: 0.4985154\ttotal: 1.13ms\tremaining: 12.5ms\n1:\tlearn: 0.3789571\ttotal: 2.31ms\tremaining: 11.6ms\n2:\tlearn: 0.3295583\ttotal: 3.52ms\tremaining: 10.6ms\n3:\tlearn: 0.3196723\ttotal: 4.06ms\tremaining: 8.11ms\n4:\tlearn: 0.2874192\ttotal: 5.21ms\tremaining: 7.3ms\n5:\tlearn: 0.2546022\ttotal: 6.43ms\tremaining: 6.43ms\n6:\tlearn: 0.2401102\ttotal: 7.62ms\tremaining: 5.44ms\n7:\tlearn: 0.2274640\ttotal: 8.78ms\tremaining: 4.39ms\n8:\tlearn: 0.2119814\ttotal: 9.93ms\tremaining: 3.31ms\n9:\tlearn: 0.2033982\ttotal: 11.1ms\tremaining: 2.22ms\n10:\tlearn: 0.1870676\ttotal: 12.3ms\tremaining: 1.12ms\n11:\tlearn: 0.1735255\ttotal: 13.5ms\tremaining: 0us\nLearning rate set to 0.341638\n0:\tlearn: 0.5088627\ttotal: 1.27ms\tremaining: 14ms\n1:\tlearn: 0.4058317\ttotal: 2.19ms\tremaining: 10.9ms\n2:\tlearn: 0.3243519\ttotal: 3.4ms\tremaining: 10.2ms\n3:\tlearn: 0.3022905\ttotal: 4.61ms\tremaining: 9.22ms\n4:\tlearn: 0.2705769\ttotal: 5.78ms\tremaining: 8.09ms\n5:\tlearn: 0.2435793\ttotal: 7.02ms\tremaining: 7.02ms\n6:\tlearn: 0.2174141\ttotal: 8.29ms\tremaining: 5.92ms\n7:\tlearn: 0.1954787\ttotal: 9.52ms\tremaining: 4.76ms\n8:\tlearn: 0.1825087\ttotal: 10.7ms\tremaining: 3.58ms\n9:\tlearn: 0.1690999\ttotal: 12.2ms\tremaining: 2.44ms\n10:\tlearn: 0.1591535\ttotal: 13.4ms\tremaining: 1.21ms\n11:\tlearn: 0.1450152\ttotal: 14.5ms\tremaining: 0us\nLearning rate set to 0.341638\n0:\tlearn: 0.5035592\ttotal: 1.45ms\tremaining: 15.9ms\n1:\tlearn: 0.3840805\ttotal: 2.62ms\tremaining: 13.1ms\n2:\tlearn: 0.3167996\ttotal: 3.79ms\tremaining: 11.4ms\n3:\tlearn: 0.3057003\ttotal: 4.34ms\tremaining: 8.69ms\n4:\tlearn: 0.2530287\ttotal: 5.52ms\tremaining: 7.73ms\n5:\tlearn: 0.2303829\ttotal: 6.74ms\tremaining: 6.74ms\n6:\tlearn: 0.2183919\ttotal: 7.96ms\tremaining: 5.68ms\n7:\tlearn: 0.2023371\ttotal: 9.12ms\tremaining: 4.56ms\n8:\tlearn: 0.1848154\ttotal: 10.3ms\tremaining: 3.42ms\n9:\tlearn: 0.1740249\ttotal: 11.5ms\tremaining: 2.29ms\n10:\tlearn: 0.1606628\ttotal: 12.6ms\tremaining: 1.15ms\n11:\tlearn: 0.1500179\ttotal: 13.9ms\tremaining: 0us\nLearning rate set to 0.341638\n0:\tlearn: 0.5045063\ttotal: 1.17ms\tremaining: 12.9ms\n1:\tlearn: 0.3763161\ttotal: 2.34ms\tremaining: 11.7ms\n2:\tlearn: 0.3242276\ttotal: 3.51ms\tremaining: 10.5ms\n3:\tlearn: 0.3176282\ttotal: 4.04ms\tremaining: 8.09ms\n4:\tlearn: 0.2859883\ttotal: 5.25ms\tremaining: 7.36ms\n5:\tlearn: 0.2654640\ttotal: 6.42ms\tremaining: 6.42ms\n6:\tlearn: 0.2473180\ttotal: 7.58ms\tremaining: 5.42ms\n7:\tlearn: 0.2184210\ttotal: 8.79ms\tremaining: 4.39ms\n8:\tlearn: 0.2039457\ttotal: 9.99ms\tremaining: 3.33ms\n9:\tlearn: 0.1844546\ttotal: 11.2ms\tremaining: 2.24ms\n10:\tlearn: 0.1645384\ttotal: 12.4ms\tremaining: 1.13ms\n11:\tlearn: 0.1548283\ttotal: 13.7ms\tremaining: 0us\nLearning rate set to 0.341638\n0:\tlearn: 0.5123293\ttotal: 1.21ms\tremaining: 13.4ms\n1:\tlearn: 0.3755691\ttotal: 2.4ms\tremaining: 12ms\n2:\tlearn: 0.3120681\ttotal: 3.7ms\tremaining: 11.1ms\n3:\tlearn: 0.3021811\ttotal: 4.36ms\tremaining: 8.71ms\n4:\tlearn: 0.2593575\ttotal: 5.77ms\tremaining: 8.08ms\n5:\tlearn: 0.2314654\ttotal: 6.99ms\tremaining: 6.99ms\n6:\tlearn: 0.2150263\ttotal: 8.22ms\tremaining: 5.87ms\n7:\tlearn: 0.1973278\ttotal: 9.38ms\tremaining: 4.69ms\n8:\tlearn: 0.1835442\ttotal: 10.5ms\tremaining: 3.52ms\n9:\tlearn: 0.1727721\ttotal: 11.7ms\tremaining: 2.35ms\n10:\tlearn: 0.1552194\ttotal: 13ms\tremaining: 1.19ms\n11:\tlearn: 0.1428539\ttotal: 14.2ms\tremaining: 0us\nLearning rate set to 0.341638\n0:\tlearn: 0.4813223\ttotal: 1.15ms\tremaining: 12.6ms\n1:\tlearn: 0.3717441\ttotal: 2.42ms\tremaining: 12.1ms\n2:\tlearn: 0.3228929\ttotal: 3.64ms\tremaining: 10.9ms\n3:\tlearn: 0.3134628\ttotal: 4.27ms\tremaining: 8.54ms\n4:\tlearn: 0.2718371\ttotal: 5.51ms\tremaining: 7.72ms\n5:\tlearn: 0.2523322\ttotal: 6.7ms\tremaining: 6.7ms\n6:\tlearn: 0.2307157\ttotal: 7.9ms\tremaining: 5.64ms\n7:\tlearn: 0.2046405\ttotal: 9.08ms\tremaining: 4.54ms\n8:\tlearn: 0.1802508\ttotal: 10.2ms\tremaining: 3.42ms\n9:\tlearn: 0.1655248\ttotal: 11.5ms\tremaining: 2.29ms\n10:\tlearn: 0.1467936\ttotal: 12.6ms\tremaining: 1.15ms\n11:\tlearn: 0.1370624\ttotal: 13.8ms\tremaining: 0us\nLearning rate set to 0.341638\n0:\tlearn: 0.5050320\ttotal: 1.15ms\tremaining: 12.7ms\n1:\tlearn: 0.3819801\ttotal: 2.42ms\tremaining: 12.1ms\n2:\tlearn: 0.3271570\ttotal: 4ms\tremaining: 12ms\n3:\tlearn: 0.3184934\ttotal: 4.54ms\tremaining: 9.08ms\n4:\tlearn: 0.2816410\ttotal: 5.87ms\tremaining: 8.22ms\n5:\tlearn: 0.2538417\ttotal: 7.21ms\tremaining: 7.21ms\n6:\tlearn: 0.2330550\ttotal: 8.4ms\tremaining: 6ms\n7:\tlearn: 0.2188092\ttotal: 9.57ms\tremaining: 4.78ms\n8:\tlearn: 0.1938398\ttotal: 10.8ms\tremaining: 3.59ms\n9:\tlearn: 0.1813633\ttotal: 11.9ms\tremaining: 2.39ms\n10:\tlearn: 0.1638535\ttotal: 13.1ms\tremaining: 1.19ms\n11:\tlearn: 0.1568301\ttotal: 14.3ms\tremaining: 0us\nLearning rate set to 0.341103\n0:\tlearn: 0.5055749\ttotal: 1.19ms\tremaining: 13.1ms\n1:\tlearn: 0.3928388\ttotal: 2.44ms\tremaining: 12.2ms\n2:\tlearn: 0.3398883\ttotal: 3.62ms\tremaining: 10.9ms\n3:\tlearn: 0.2957509\ttotal: 4.82ms\tremaining: 9.64ms\n4:\tlearn: 0.2618889\ttotal: 6.01ms\tremaining: 8.41ms\n5:\tlearn: 0.2366685\ttotal: 7.24ms\tremaining: 7.24ms\n6:\tlearn: 0.2071986\ttotal: 8.46ms\tremaining: 6.04ms\n7:\tlearn: 0.1912810\ttotal: 9.68ms\tremaining: 4.84ms\n8:\tlearn: 0.1721214\ttotal: 10.9ms\tremaining: 3.62ms\n9:\tlearn: 0.1662194\ttotal: 12ms\tremaining: 2.41ms\n10:\tlearn: 0.1569302\ttotal: 13.2ms\tremaining: 1.2ms\n11:\tlearn: 0.1435769\ttotal: 14.4ms\tremaining: 0us\nLearning rate set to 0.341103\n0:\tlearn: 0.4779583\ttotal: 1.17ms\tremaining: 12.9ms\n1:\tlearn: 0.3818906\ttotal: 2.36ms\tremaining: 11.8ms\n2:\tlearn: 0.3209469\ttotal: 3.54ms\tremaining: 10.6ms\n3:\tlearn: 0.2737826\ttotal: 17.2ms\tremaining: 34.5ms\n4:\tlearn: 0.2388723\ttotal: 18.5ms\tremaining: 25.9ms\n5:\tlearn: 0.2109685\ttotal: 20.3ms\tremaining: 20.3ms\n6:\tlearn: 0.1891863\ttotal: 21.6ms\tremaining: 15.4ms\n7:\tlearn: 0.1708443\ttotal: 23.1ms\tremaining: 11.6ms\n8:\tlearn: 0.1552188\ttotal: 24.8ms\tremaining: 8.28ms\n9:\tlearn: 0.1462984\ttotal: 26.5ms\tremaining: 5.29ms\n10:\tlearn: 0.1341721\ttotal: 28.5ms\tremaining: 2.6ms\n11:\tlearn: 0.1187804\ttotal: 30ms\tremaining: 0us\nLearning rate set to 0.341103\n0:\tlearn: 0.5195624\ttotal: 1.28ms\tremaining: 14.1ms\n1:\tlearn: 0.4008996\ttotal: 2.58ms\tremaining: 12.9ms\n2:\tlearn: 0.3468681\ttotal: 3.95ms\tremaining: 11.8ms\n3:\tlearn: 0.2954435\ttotal: 5.22ms\tremaining: 10.4ms\n4:\tlearn: 0.2668248\ttotal: 6.44ms\tremaining: 9.01ms\n5:\tlearn: 0.2384818\ttotal: 7.68ms\tremaining: 7.68ms\n6:\tlearn: 0.2104796\ttotal: 8.89ms\tremaining: 6.35ms\n7:\tlearn: 0.1915084\ttotal: 10.2ms\tremaining: 5.12ms\n8:\tlearn: 0.1727527\ttotal: 11.5ms\tremaining: 3.85ms\n9:\tlearn: 0.1613954\ttotal: 12.8ms\tremaining: 2.56ms\n10:\tlearn: 0.1523155\ttotal: 14.2ms\tremaining: 1.29ms\n11:\tlearn: 0.1393378\ttotal: 15.4ms\tremaining: 0us\nLearning rate set to 0.341638\n0:\tlearn: 0.4985154\ttotal: 1.28ms\tremaining: 14.1ms\n1:\tlearn: 0.3789571\ttotal: 2.42ms\tremaining: 12.1ms\n2:\tlearn: 0.3295583\ttotal: 3.61ms\tremaining: 10.8ms\n3:\tlearn: 0.3196723\ttotal: 4.15ms\tremaining: 8.29ms\n4:\tlearn: 0.2874192\ttotal: 5.39ms\tremaining: 7.54ms\n5:\tlearn: 0.2546022\ttotal: 6.57ms\tremaining: 6.57ms\n6:\tlearn: 0.2401102\ttotal: 7.76ms\tremaining: 5.54ms\n7:\tlearn: 0.2274640\ttotal: 8.98ms\tremaining: 4.49ms\n8:\tlearn: 0.2119814\ttotal: 10.5ms\tremaining: 3.49ms\n9:\tlearn: 0.2033982\ttotal: 11.6ms\tremaining: 2.33ms\n10:\tlearn: 0.1870676\ttotal: 14.8ms\tremaining: 1.34ms\n11:\tlearn: 0.1735255\ttotal: 17ms\tremaining: 0us\nLearning rate set to 0.341638\n0:\tlearn: 0.5088627\ttotal: 1.2ms\tremaining: 13.2ms\n1:\tlearn: 0.4058317\ttotal: 4.2ms\tremaining: 21ms\n2:\tlearn: 0.3243519\ttotal: 11.8ms\tremaining: 35.4ms\n3:\tlearn: 0.3022905\ttotal: 14.9ms\tremaining: 29.8ms\n4:\tlearn: 0.2705769\ttotal: 17.8ms\tremaining: 24.9ms\n5:\tlearn: 0.2435793\ttotal: 21.4ms\tremaining: 21.4ms\n6:\tlearn: 0.2174141\ttotal: 23.1ms\tremaining: 16.5ms\n7:\tlearn: 0.1954787\ttotal: 29.6ms\tremaining: 14.8ms\n8:\tlearn: 0.1825087\ttotal: 32.2ms\tremaining: 10.7ms\n9:\tlearn: 0.1690999\ttotal: 34.1ms\tremaining: 6.82ms\n10:\tlearn: 0.1591535\ttotal: 41.4ms\tremaining: 3.76ms\n11:\tlearn: 0.1450152\ttotal: 43.4ms\tremaining: 0us\nLearning rate set to 0.341638\n0:\tlearn: 0.5035592\ttotal: 3.29ms\tremaining: 36.2ms\n1:\tlearn: 0.3840805\ttotal: 5.37ms\tremaining: 26.9ms\n2:\tlearn: 0.3167996\ttotal: 8.78ms\tremaining: 26.3ms\n3:\tlearn: 0.3057003\ttotal: 11.1ms\tremaining: 22.1ms\n4:\tlearn: 0.2530287\ttotal: 13.2ms\tremaining: 18.4ms\n5:\tlearn: 0.2303829\ttotal: 16.4ms\tremaining: 16.4ms\n6:\tlearn: 0.2183919\ttotal: 19.7ms\tremaining: 14.1ms\n7:\tlearn: 0.2023371\ttotal: 23.4ms\tremaining: 11.7ms\n8:\tlearn: 0.1848154\ttotal: 25.2ms\tremaining: 8.4ms\n9:\tlearn: 0.1740249\ttotal: 28.5ms\tremaining: 5.71ms\n10:\tlearn: 0.1606628\ttotal: 29.9ms\tremaining: 2.72ms\n11:\tlearn: 0.1500179\ttotal: 31.7ms\tremaining: 0us\nLearning rate set to 0.341638\n0:\tlearn: 0.5045063\ttotal: 1.17ms\tremaining: 12.9ms\n1:\tlearn: 0.3763161\ttotal: 2.4ms\tremaining: 12ms\n2:\tlearn: 0.3242276\ttotal: 3.58ms\tremaining: 10.8ms\n3:\tlearn: 0.3176282\ttotal: 4.12ms\tremaining: 8.24ms\n4:\tlearn: 0.2859883\ttotal: 5.28ms\tremaining: 7.39ms\n5:\tlearn: 0.2654640\ttotal: 6.57ms\tremaining: 6.57ms\n6:\tlearn: 0.2473180\ttotal: 7.76ms\tremaining: 5.55ms\n7:\tlearn: 0.2184210\ttotal: 8.94ms\tremaining: 4.47ms\n8:\tlearn: 0.2039457\ttotal: 10.2ms\tremaining: 3.39ms\n9:\tlearn: 0.1844546\ttotal: 11.4ms\tremaining: 2.27ms\n10:\tlearn: 0.1645384\ttotal: 12.6ms\tremaining: 1.14ms\n11:\tlearn: 0.1548283\ttotal: 13.8ms\tremaining: 0us\nLearning rate set to 0.341638\n0:\tlearn: 0.5123293\ttotal: 1.15ms\tremaining: 12.6ms\n1:\tlearn: 0.3755691\ttotal: 2.29ms\tremaining: 11.5ms\n2:\tlearn: 0.3120681\ttotal: 3.53ms\tremaining: 10.6ms\n3:\tlearn: 0.3021811\ttotal: 4.13ms\tremaining: 8.27ms\n4:\tlearn: 0.2593575\ttotal: 5.3ms\tremaining: 7.42ms\n5:\tlearn: 0.2314654\ttotal: 6.53ms\tremaining: 6.53ms\n6:\tlearn: 0.2150263\ttotal: 7.71ms\tremaining: 5.51ms\n7:\tlearn: 0.1973278\ttotal: 8.87ms\tremaining: 4.43ms\n8:\tlearn: 0.1835442\ttotal: 10.1ms\tremaining: 3.36ms\n9:\tlearn: 0.1727721\ttotal: 11.3ms\tremaining: 2.25ms\n10:\tlearn: 0.1552194\ttotal: 12.4ms\tremaining: 1.13ms\n11:\tlearn: 0.1428539\ttotal: 13.6ms\tremaining: 0us\nLearning rate set to 0.341638\n0:\tlearn: 0.4813223\ttotal: 1.21ms\tremaining: 13.4ms\n1:\tlearn: 0.3717441\ttotal: 2.56ms\tremaining: 12.8ms\n2:\tlearn: 0.3228929\ttotal: 3.78ms\tremaining: 11.4ms\n3:\tlearn: 0.3134628\ttotal: 4.32ms\tremaining: 8.64ms\n4:\tlearn: 0.2718371\ttotal: 5.54ms\tremaining: 7.75ms\n5:\tlearn: 0.2523322\ttotal: 6.92ms\tremaining: 6.92ms\n6:\tlearn: 0.2307157\ttotal: 8.09ms\tremaining: 5.78ms\n7:\tlearn: 0.2046405\ttotal: 9.3ms\tremaining: 4.65ms\n8:\tlearn: 0.1802508\ttotal: 10.5ms\tremaining: 3.49ms\n9:\tlearn: 0.1655248\ttotal: 11.6ms\tremaining: 2.33ms\n10:\tlearn: 0.1467936\ttotal: 12.8ms\tremaining: 1.17ms\n11:\tlearn: 0.1370624\ttotal: 14ms\tremaining: 0us\nLearning rate set to 0.341638\n0:\tlearn: 0.5050320\ttotal: 1.19ms\tremaining: 13.1ms\n1:\tlearn: 0.3819801\ttotal: 2.38ms\tremaining: 11.9ms\n2:\tlearn: 0.3271570\ttotal: 3.56ms\tremaining: 10.7ms\n3:\tlearn: 0.3184934\ttotal: 4.13ms\tremaining: 8.25ms\n4:\tlearn: 0.2816410\ttotal: 5.53ms\tremaining: 7.74ms\n5:\tlearn: 0.2538417\ttotal: 6.71ms\tremaining: 6.71ms\n6:\tlearn: 0.2330550\ttotal: 7.92ms\tremaining: 5.66ms\n7:\tlearn: 0.2188092\ttotal: 9.11ms\tremaining: 4.55ms\n8:\tlearn: 0.1938398\ttotal: 10.3ms\tremaining: 3.43ms\n9:\tlearn: 0.1813633\ttotal: 11.5ms\tremaining: 2.3ms\n10:\tlearn: 0.1638535\ttotal: 12.7ms\tremaining: 1.16ms\n11:\tlearn: 0.1568301\ttotal: 13.9ms\tremaining: 0us\nLearning rate set to 0.341103\n0:\tlearn: 0.5055749\ttotal: 1.24ms\tremaining: 13.6ms\n1:\tlearn: 0.3928388\ttotal: 2.52ms\tremaining: 12.6ms\n2:\tlearn: 0.3398883\ttotal: 3.73ms\tremaining: 11.2ms\n3:\tlearn: 0.2957509\ttotal: 4.89ms\tremaining: 9.78ms\n4:\tlearn: 0.2618889\ttotal: 6.05ms\tremaining: 8.47ms\n5:\tlearn: 0.2366685\ttotal: 7.26ms\tremaining: 7.26ms\n6:\tlearn: 0.2071986\ttotal: 8.42ms\tremaining: 6.01ms\n7:\tlearn: 0.1912810\ttotal: 9.61ms\tremaining: 4.8ms\n8:\tlearn: 0.1721214\ttotal: 10.8ms\tremaining: 3.59ms\n9:\tlearn: 0.1662194\ttotal: 12ms\tremaining: 2.39ms\n10:\tlearn: 0.1569302\ttotal: 13.1ms\tremaining: 1.19ms\n11:\tlearn: 0.1435769\ttotal: 14.3ms\tremaining: 0us\nLearning rate set to 0.341103\n0:\tlearn: 0.4779583\ttotal: 1.19ms\tremaining: 13.1ms\n1:\tlearn: 0.3818906\ttotal: 2.38ms\tremaining: 11.9ms\n2:\tlearn: 0.3209469\ttotal: 3.59ms\tremaining: 10.8ms\n3:\tlearn: 0.2737826\ttotal: 4.76ms\tremaining: 9.52ms\n4:\tlearn: 0.2388723\ttotal: 5.92ms\tremaining: 8.29ms\n5:\tlearn: 0.2109685\ttotal: 7.12ms\tremaining: 7.12ms\n6:\tlearn: 0.1891863\ttotal: 8.53ms\tremaining: 6.09ms\n7:\tlearn: 0.1708443\ttotal: 9.71ms\tremaining: 4.85ms\n8:\tlearn: 0.1552188\ttotal: 10.9ms\tremaining: 3.64ms\n9:\tlearn: 0.1462984\ttotal: 12.1ms\tremaining: 2.42ms\n10:\tlearn: 0.1341721\ttotal: 13.3ms\tremaining: 1.21ms\n11:\tlearn: 0.1187804\ttotal: 14.5ms\tremaining: 0us\nLearning rate set to 0.341103\n0:\tlearn: 0.5195624\ttotal: 1.12ms\tremaining: 12.3ms\n1:\tlearn: 0.4008996\ttotal: 2.29ms\tremaining: 11.5ms\n2:\tlearn: 0.3468681\ttotal: 3.51ms\tremaining: 10.5ms\n3:\tlearn: 0.2954435\ttotal: 4.67ms\tremaining: 9.35ms\n4:\tlearn: 0.2668248\ttotal: 5.84ms\tremaining: 8.18ms\n5:\tlearn: 0.2384818\ttotal: 7.03ms\tremaining: 7.03ms\n6:\tlearn: 0.2104796\ttotal: 8.2ms\tremaining: 5.85ms\n7:\tlearn: 0.1915084\ttotal: 9.36ms\tremaining: 4.68ms\n8:\tlearn: 0.1727527\ttotal: 10.7ms\tremaining: 3.56ms\n9:\tlearn: 0.1613954\ttotal: 11.9ms\tremaining: 2.37ms\n10:\tlearn: 0.1523155\ttotal: 13ms\tremaining: 1.18ms\n11:\tlearn: 0.1393378\ttotal: 14.3ms\tremaining: 0us\nLearning rate set to 0.341638\n0:\tlearn: 0.4985154\ttotal: 1.19ms\tremaining: 13.1ms\n1:\tlearn: 0.3789571\ttotal: 2.39ms\tremaining: 11.9ms\n2:\tlearn: 0.3295583\ttotal: 3.62ms\tremaining: 10.9ms\n3:\tlearn: 0.3196723\ttotal: 4.16ms\tremaining: 8.31ms\n4:\tlearn: 0.2874192\ttotal: 5.31ms\tremaining: 7.44ms\n5:\tlearn: 0.2546022\ttotal: 6.47ms\tremaining: 6.47ms\n6:\tlearn: 0.2401102\ttotal: 7.69ms\tremaining: 5.49ms\n7:\tlearn: 0.2274640\ttotal: 8.85ms\tremaining: 4.42ms\n8:\tlearn: 0.2119814\ttotal: 10ms\tremaining: 3.34ms\n9:\tlearn: 0.2033982\ttotal: 11.2ms\tremaining: 2.24ms\n10:\tlearn: 0.1870676\ttotal: 12.6ms\tremaining: 1.14ms\n11:\tlearn: 0.1735255\ttotal: 13.8ms\tremaining: 0us\nLearning rate set to 0.341638\n0:\tlearn: 0.5088627\ttotal: 1.93ms\tremaining: 21.2ms\n1:\tlearn: 0.4058317\ttotal: 2.96ms\tremaining: 14.8ms\n2:\tlearn: 0.3243519\ttotal: 4.42ms\tremaining: 13.3ms\n3:\tlearn: 0.3022905\ttotal: 5.66ms\tremaining: 11.3ms\n4:\tlearn: 0.2705769\ttotal: 6.89ms\tremaining: 9.65ms\n5:\tlearn: 0.2435793\ttotal: 8.1ms\tremaining: 8.1ms\n6:\tlearn: 0.2174141\ttotal: 9.34ms\tremaining: 6.67ms\n7:\tlearn: 0.1954787\ttotal: 10.6ms\tremaining: 5.29ms\n8:\tlearn: 0.1825087\ttotal: 11.8ms\tremaining: 3.94ms\n9:\tlearn: 0.1690999\ttotal: 13.1ms\tremaining: 2.61ms\n10:\tlearn: 0.1591535\ttotal: 14.3ms\tremaining: 1.3ms\n11:\tlearn: 0.1450152\ttotal: 15.5ms\tremaining: 0us\nLearning rate set to 0.341638\n0:\tlearn: 0.5035592\ttotal: 1.13ms\tremaining: 12.4ms\n1:\tlearn: 0.3840805\ttotal: 2.31ms\tremaining: 11.5ms\n2:\tlearn: 0.3167996\ttotal: 3.51ms\tremaining: 10.5ms\n3:\tlearn: 0.3057003\ttotal: 4.07ms\tremaining: 8.15ms\n4:\tlearn: 0.2530287\ttotal: 5.27ms\tremaining: 7.38ms\n5:\tlearn: 0.2303829\ttotal: 6.45ms\tremaining: 6.45ms\n6:\tlearn: 0.2183919\ttotal: 7.68ms\tremaining: 5.49ms\n7:\tlearn: 0.2023371\ttotal: 8.89ms\tremaining: 4.45ms\n8:\tlearn: 0.1848154\ttotal: 10.1ms\tremaining: 3.36ms\n9:\tlearn: 0.1740249\ttotal: 11.3ms\tremaining: 2.25ms\n10:\tlearn: 0.1606628\ttotal: 12.4ms\tremaining: 1.13ms\n11:\tlearn: 0.1500179\ttotal: 13.6ms\tremaining: 0us\nLearning rate set to 0.341638\n0:\tlearn: 0.5045063\ttotal: 1.2ms\tremaining: 13.2ms\n1:\tlearn: 0.3763161\ttotal: 2.41ms\tremaining: 12ms\n2:\tlearn: 0.3242276\ttotal: 3.61ms\tremaining: 10.8ms\n3:\tlearn: 0.3176282\ttotal: 4.2ms\tremaining: 8.41ms\n4:\tlearn: 0.2859883\ttotal: 5.39ms\tremaining: 7.55ms\n5:\tlearn: 0.2654640\ttotal: 6.56ms\tremaining: 6.56ms\n6:\tlearn: 0.2473180\ttotal: 7.77ms\tremaining: 5.55ms\n7:\tlearn: 0.2184210\ttotal: 9.08ms\tremaining: 4.54ms\n8:\tlearn: 0.2039457\ttotal: 10.5ms\tremaining: 3.49ms\n9:\tlearn: 0.1844546\ttotal: 11.7ms\tremaining: 2.34ms\n10:\tlearn: 0.1645384\ttotal: 12.9ms\tremaining: 1.17ms\n11:\tlearn: 0.1548283\ttotal: 14.2ms\tremaining: 0us\nLearning rate set to 0.341638\n0:\tlearn: 0.5123293\ttotal: 1.22ms\tremaining: 13.4ms\n1:\tlearn: 0.3755691\ttotal: 2.69ms\tremaining: 13.4ms\n2:\tlearn: 0.3120681\ttotal: 3.94ms\tremaining: 11.8ms\n3:\tlearn: 0.3021811\ttotal: 4.47ms\tremaining: 8.95ms\n4:\tlearn: 0.2593575\ttotal: 5.74ms\tremaining: 8.04ms\n5:\tlearn: 0.2314654\ttotal: 6.92ms\tremaining: 6.92ms\n6:\tlearn: 0.2150263\ttotal: 8.19ms\tremaining: 5.85ms\n7:\tlearn: 0.1973278\ttotal: 9.35ms\tremaining: 4.67ms\n8:\tlearn: 0.1835442\ttotal: 10.5ms\tremaining: 3.5ms\n9:\tlearn: 0.1727721\ttotal: 11.7ms\tremaining: 2.34ms\n10:\tlearn: 0.1552194\ttotal: 12.9ms\tremaining: 1.17ms\n11:\tlearn: 0.1428539\ttotal: 14ms\tremaining: 0us\nLearning rate set to 0.341638\n0:\tlearn: 0.4813223\ttotal: 1.27ms\tremaining: 14ms\n1:\tlearn: 0.3717441\ttotal: 2.52ms\tremaining: 12.6ms\n2:\tlearn: 0.3228929\ttotal: 3.81ms\tremaining: 11.4ms\n3:\tlearn: 0.3134628\ttotal: 4.35ms\tremaining: 8.69ms\n4:\tlearn: 0.2718371\ttotal: 5.55ms\tremaining: 7.76ms\n5:\tlearn: 0.2523322\ttotal: 6.75ms\tremaining: 6.75ms\n6:\tlearn: 0.2307157\ttotal: 7.93ms\tremaining: 5.66ms\n7:\tlearn: 0.2046405\ttotal: 9.13ms\tremaining: 4.57ms\n8:\tlearn: 0.1802508\ttotal: 10.3ms\tremaining: 3.43ms\n9:\tlearn: 0.1655248\ttotal: 11.5ms\tremaining: 2.31ms\n10:\tlearn: 0.1467936\ttotal: 12.7ms\tremaining: 1.16ms\n11:\tlearn: 0.1370624\ttotal: 13.9ms\tremaining: 0us\nLearning rate set to 0.341638\n0:\tlearn: 0.5050320\ttotal: 1.15ms\tremaining: 12.7ms\n1:\tlearn: 0.3819801\ttotal: 2.34ms\tremaining: 11.7ms\n2:\tlearn: 0.3271570\ttotal: 3.53ms\tremaining: 10.6ms\n3:\tlearn: 0.3184934\ttotal: 4.08ms\tremaining: 8.17ms\n4:\tlearn: 0.2816410\ttotal: 5.25ms\tremaining: 7.35ms\n5:\tlearn: 0.2538417\ttotal: 6.71ms\tremaining: 6.71ms\n6:\tlearn: 0.2330550\ttotal: 7.92ms\tremaining: 5.66ms\n7:\tlearn: 0.2188092\ttotal: 9.09ms\tremaining: 4.55ms\n8:\tlearn: 0.1938398\ttotal: 10.8ms\tremaining: 3.59ms\n9:\tlearn: 0.1813633\ttotal: 12ms\tremaining: 2.4ms\n10:\tlearn: 0.1638535\ttotal: 13.5ms\tremaining: 1.22ms\n11:\tlearn: 0.1568301\ttotal: 14.6ms\tremaining: 0us\n",
     "output_type": "stream"
    }
   ],
   "execution_count": null
  },
  {
   "cell_type": "code",
   "source": "",
   "metadata": {
    "tags": [],
    "cell_id": "00015-09e20fe0-0650-48b7-9870-de94428b2e0f",
    "deepnote_cell_type": "code"
   },
   "outputs": [],
   "execution_count": null
  },
  {
   "cell_type": "code",
   "source": "'CatBoost': CatBoostClassifier()",
   "metadata": {
    "tags": [],
    "cell_id": "00015-8dc9471d-27b5-4feb-ad2c-1af84590be12",
    "deepnote_cell_type": "code"
   },
   "outputs": [],
   "execution_count": null
  },
  {
   "cell_type": "code",
   "source": "",
   "metadata": {
    "tags": [],
    "cell_id": "00015-c11fcfbc-a6b6-4571-a06d-75350ae728f9",
    "deepnote_cell_type": "code"
   },
   "outputs": [],
   "execution_count": null
  },
  {
   "cell_type": "code",
   "source": "",
   "metadata": {
    "tags": [],
    "cell_id": "00016-2f50469a-6a63-4e25-b56f-7286397d0e2c",
    "deepnote_cell_type": "code"
   },
   "outputs": [],
   "execution_count": null
  },
  {
   "cell_type": "code",
   "source": "",
   "metadata": {
    "tags": [],
    "cell_id": "00016-53aceb77-58e4-4992-8285-958b01834745",
    "deepnote_cell_type": "code"
   },
   "outputs": [],
   "execution_count": null
  },
  {
   "cell_type": "code",
   "source": "!pip install xgboost\n!pip install lightgbm\n!pip install catboost\n\nfrom sklearn.tree          import DecisionTreeClassifier\nfrom sklearn.ensemble      import RandomForestClassifier\nfrom sklearn.ensemble      import ExtraTreesClassifier\nfrom sklearn.ensemble      import AdaBoostClassifier\nfrom sklearn.ensemble      import GradientBoostingClassifier\nfrom sklearn.experimental  import enable_hist_gradient_boosting # Necesary for HistGradientBoostingClassifier\nfrom sklearn.ensemble      import HistGradientBoostingClassifier\nfrom xgboost               import XGBClassifier\nfrom lightgbm              import LGBMClassifier\nfrom catboost              import CatBoostClassifier\n\nfrom sklearn.linear_model import LogisticRegression, RidgeClassifier\nfrom sklearn.svm import SVC, NuSVC, LinearSVC\nfrom sklearn.neighbors import KNeighborsClassifier\nfrom sklearn.gaussian_process import GaussianProcessClassifier\nfrom sklearn.naive_bayes import GaussianNB",
   "metadata": {
    "tags": [],
    "cell_id": "00001-1b060e6f-3d29-441d-a5b6-bc895ba8cfa3",
    "deepnote_to_be_reexecuted": false,
    "source_hash": "d9949dab",
    "execution_start": 1620393437059,
    "execution_millis": 8046,
    "is_code_hidden": true,
    "deepnote_cell_type": "code"
   },
   "outputs": [
    {
     "name": "stdout",
     "text": "Requirement already satisfied: xgboost in /root/venv/lib/python3.7/site-packages (1.4.1)\nRequirement already satisfied: scipy in /shared-libs/python3.7/py/lib/python3.7/site-packages (from xgboost) (1.6.3)\nRequirement already satisfied: numpy in /shared-libs/python3.7/py/lib/python3.7/site-packages (from xgboost) (1.19.5)\nRequirement already satisfied: lightgbm in /root/venv/lib/python3.7/site-packages (3.2.1)\nRequirement already satisfied: scikit-learn!=0.22.0 in /shared-libs/python3.7/py/lib/python3.7/site-packages (from lightgbm) (0.24.2)\nRequirement already satisfied: wheel in /root/venv/lib/python3.7/site-packages (from lightgbm) (0.36.2)\nRequirement already satisfied: scipy in /shared-libs/python3.7/py/lib/python3.7/site-packages (from lightgbm) (1.6.3)\nRequirement already satisfied: numpy in /shared-libs/python3.7/py/lib/python3.7/site-packages (from lightgbm) (1.19.5)\nRequirement already satisfied: joblib>=0.11 in /shared-libs/python3.7/py/lib/python3.7/site-packages (from scikit-learn!=0.22.0->lightgbm) (1.0.1)\nRequirement already satisfied: threadpoolctl>=2.0.0 in /shared-libs/python3.7/py/lib/python3.7/site-packages (from scikit-learn!=0.22.0->lightgbm) (2.1.0)\nRequirement already satisfied: catboost in /root/venv/lib/python3.7/site-packages (0.25.1)\nRequirement already satisfied: plotly in /shared-libs/python3.7/py/lib/python3.7/site-packages (from catboost) (4.14.3)\nRequirement already satisfied: six in /shared-libs/python3.7/py-core/lib/python3.7/site-packages (from catboost) (1.16.0)\nRequirement already satisfied: numpy>=1.16.0 in /shared-libs/python3.7/py/lib/python3.7/site-packages (from catboost) (1.19.5)\nRequirement already satisfied: matplotlib in /shared-libs/python3.7/py/lib/python3.7/site-packages (from catboost) (3.4.1)\nRequirement already satisfied: scipy in /shared-libs/python3.7/py/lib/python3.7/site-packages (from catboost) (1.6.3)\nRequirement already satisfied: graphviz in /root/venv/lib/python3.7/site-packages (from catboost) (0.16)\nRequirement already satisfied: pandas>=0.24.0 in /shared-libs/python3.7/py/lib/python3.7/site-packages (from catboost) (1.2.4)\nRequirement already satisfied: pytz>=2017.3 in /shared-libs/python3.7/py/lib/python3.7/site-packages (from pandas>=0.24.0->catboost) (2021.1)\nRequirement already satisfied: python-dateutil>=2.7.3 in /shared-libs/python3.7/py-core/lib/python3.7/site-packages (from pandas>=0.24.0->catboost) (2.8.1)\nRequirement already satisfied: kiwisolver>=1.0.1 in /shared-libs/python3.7/py/lib/python3.7/site-packages (from matplotlib->catboost) (1.3.1)\nRequirement already satisfied: pyparsing>=2.2.1 in /shared-libs/python3.7/py-core/lib/python3.7/site-packages (from matplotlib->catboost) (2.4.7)\nRequirement already satisfied: cycler>=0.10 in /shared-libs/python3.7/py/lib/python3.7/site-packages (from matplotlib->catboost) (0.10.0)\nRequirement already satisfied: pillow>=6.2.0 in /shared-libs/python3.7/py/lib/python3.7/site-packages (from matplotlib->catboost) (8.2.0)\nRequirement already satisfied: retrying>=1.3.3 in /shared-libs/python3.7/py/lib/python3.7/site-packages (from plotly->catboost) (1.3.3)\n",
     "output_type": "stream"
    }
   ],
   "execution_count": null
  },
  {
   "cell_type": "markdown",
   "source": "Monitoring system, where variables like age and sex are constant but others like chest pain and the blood pressure can be updated and SOUNDS an alert if a heart attack is predicted with sufficient security.",
   "metadata": {
    "tags": [],
    "cell_id": "00001-55870957-e639-4ee5-89db-64ff7b13dfca",
    "deepnote_cell_type": "markdown"
   }
  },
  {
   "cell_type": "code",
   "source": "df = pd.read_csv('heart.csv')\ndf.describe()",
   "metadata": {
    "tags": [],
    "cell_id": "00001-ac513b4c-540d-4362-b71c-01bbdf7173d0",
    "deepnote_to_be_reexecuted": false,
    "source_hash": "9fa24d0b",
    "execution_start": 1620393454759,
    "execution_millis": 90,
    "deepnote_cell_type": "code"
   },
   "outputs": [
    {
     "output_type": "execute_result",
     "execution_count": 13,
     "data": {
      "application/vnd.deepnote.dataframe.v2+json": {
       "row_count": 8,
       "column_count": 14,
       "columns": [
        {
         "name": "age",
         "dtype": "float64",
         "stats": {
          "unique_count": 8,
          "nan_count": 0,
          "min": "9.082100989837857",
          "max": "303.0",
          "histogram": [
           {
            "bin_start": 9.082100989837857,
            "bin_end": 38.47389089085407,
            "count": 2
           },
           {
            "bin_start": 38.47389089085407,
            "bin_end": 67.86568079187029,
            "count": 4
           },
           {
            "bin_start": 67.86568079187029,
            "bin_end": 97.25747069288651,
            "count": 1
           },
           {
            "bin_start": 97.25747069288651,
            "bin_end": 126.64926059390272,
            "count": 0
           },
           {
            "bin_start": 126.64926059390272,
            "bin_end": 156.04105049491895,
            "count": 0
           },
           {
            "bin_start": 156.04105049491895,
            "bin_end": 185.4328403959352,
            "count": 0
           },
           {
            "bin_start": 185.4328403959352,
            "bin_end": 214.8246302969514,
            "count": 0
           },
           {
            "bin_start": 214.8246302969514,
            "bin_end": 244.2164201979676,
            "count": 0
           },
           {
            "bin_start": 244.2164201979676,
            "bin_end": 273.6082100989838,
            "count": 0
           },
           {
            "bin_start": 273.6082100989838,
            "bin_end": 303,
            "count": 1
           }
          ]
         }
        },
        {
         "name": "sex",
         "dtype": "float64",
         "stats": {
          "unique_count": 5,
          "nan_count": 0,
          "min": "0.0",
          "max": "303.0",
          "histogram": [
           {
            "bin_start": 0,
            "bin_end": 30.3,
            "count": 7
           },
           {
            "bin_start": 30.3,
            "bin_end": 60.6,
            "count": 0
           },
           {
            "bin_start": 60.6,
            "bin_end": 90.9,
            "count": 0
           },
           {
            "bin_start": 90.9,
            "bin_end": 121.2,
            "count": 0
           },
           {
            "bin_start": 121.2,
            "bin_end": 151.5,
            "count": 0
           },
           {
            "bin_start": 151.5,
            "bin_end": 181.8,
            "count": 0
           },
           {
            "bin_start": 181.8,
            "bin_end": 212.1,
            "count": 0
           },
           {
            "bin_start": 212.1,
            "bin_end": 242.4,
            "count": 0
           },
           {
            "bin_start": 242.4,
            "bin_end": 272.7,
            "count": 0
           },
           {
            "bin_start": 272.7,
            "bin_end": 303,
            "count": 1
           }
          ]
         }
        },
        {
         "name": "cp",
         "dtype": "float64",
         "stats": {
          "unique_count": 7,
          "nan_count": 0,
          "min": "0.0",
          "max": "303.0",
          "histogram": [
           {
            "bin_start": 0,
            "bin_end": 30.3,
            "count": 7
           },
           {
            "bin_start": 30.3,
            "bin_end": 60.6,
            "count": 0
           },
           {
            "bin_start": 60.6,
            "bin_end": 90.9,
            "count": 0
           },
           {
            "bin_start": 90.9,
            "bin_end": 121.2,
            "count": 0
           },
           {
            "bin_start": 121.2,
            "bin_end": 151.5,
            "count": 0
           },
           {
            "bin_start": 151.5,
            "bin_end": 181.8,
            "count": 0
           },
           {
            "bin_start": 181.8,
            "bin_end": 212.1,
            "count": 0
           },
           {
            "bin_start": 212.1,
            "bin_end": 242.4,
            "count": 0
           },
           {
            "bin_start": 242.4,
            "bin_end": 272.7,
            "count": 0
           },
           {
            "bin_start": 272.7,
            "bin_end": 303,
            "count": 1
           }
          ]
         }
        },
        {
         "name": "trestbps",
         "dtype": "float64",
         "stats": {
          "unique_count": 8,
          "nan_count": 0,
          "min": "17.5381428135171",
          "max": "303.0",
          "histogram": [
           {
            "bin_start": 17.5381428135171,
            "bin_end": 46.084328532165394,
            "count": 1
           },
           {
            "bin_start": 46.084328532165394,
            "bin_end": 74.63051425081369,
            "count": 0
           },
           {
            "bin_start": 74.63051425081369,
            "bin_end": 103.17669996946198,
            "count": 1
           },
           {
            "bin_start": 103.17669996946198,
            "bin_end": 131.72288568811027,
            "count": 3
           },
           {
            "bin_start": 131.72288568811027,
            "bin_end": 160.26907140675857,
            "count": 1
           },
           {
            "bin_start": 160.26907140675857,
            "bin_end": 188.81525712540687,
            "count": 0
           },
           {
            "bin_start": 188.81525712540687,
            "bin_end": 217.36144284405515,
            "count": 1
           },
           {
            "bin_start": 217.36144284405515,
            "bin_end": 245.90762856270345,
            "count": 0
           },
           {
            "bin_start": 245.90762856270345,
            "bin_end": 274.4538142813517,
            "count": 0
           },
           {
            "bin_start": 274.4538142813517,
            "bin_end": 303,
            "count": 1
           }
          ]
         }
        },
        {
         "name": "chol",
         "dtype": "float64",
         "stats": {
          "unique_count": 8,
          "nan_count": 0,
          "min": "51.83075098793003",
          "max": "564.0",
          "histogram": [
           {
            "bin_start": 51.83075098793003,
            "bin_end": 103.04767588913703,
            "count": 1
           },
           {
            "bin_start": 103.04767588913703,
            "bin_end": 154.26460079034402,
            "count": 1
           },
           {
            "bin_start": 154.26460079034402,
            "bin_end": 205.481525691551,
            "count": 0
           },
           {
            "bin_start": 205.481525691551,
            "bin_end": 256.69845059275804,
            "count": 3
           },
           {
            "bin_start": 256.69845059275804,
            "bin_end": 307.91537549396503,
            "count": 2
           },
           {
            "bin_start": 307.91537549396503,
            "bin_end": 359.132300395172,
            "count": 0
           },
           {
            "bin_start": 359.132300395172,
            "bin_end": 410.349225296379,
            "count": 0
           },
           {
            "bin_start": 410.349225296379,
            "bin_end": 461.566150197586,
            "count": 0
           },
           {
            "bin_start": 461.566150197586,
            "bin_end": 512.783075098793,
            "count": 0
           },
           {
            "bin_start": 512.783075098793,
            "bin_end": 564,
            "count": 1
           }
          ]
         }
        },
        {
         "name": "fbs",
         "dtype": "float64",
         "stats": {
          "unique_count": 5,
          "nan_count": 0,
          "min": "0.0",
          "max": "303.0",
          "histogram": [
           {
            "bin_start": 0,
            "bin_end": 30.3,
            "count": 7
           },
           {
            "bin_start": 30.3,
            "bin_end": 60.6,
            "count": 0
           },
           {
            "bin_start": 60.6,
            "bin_end": 90.9,
            "count": 0
           },
           {
            "bin_start": 90.9,
            "bin_end": 121.2,
            "count": 0
           },
           {
            "bin_start": 121.2,
            "bin_end": 151.5,
            "count": 0
           },
           {
            "bin_start": 151.5,
            "bin_end": 181.8,
            "count": 0
           },
           {
            "bin_start": 181.8,
            "bin_end": 212.1,
            "count": 0
           },
           {
            "bin_start": 212.1,
            "bin_end": 242.4,
            "count": 0
           },
           {
            "bin_start": 242.4,
            "bin_end": 272.7,
            "count": 0
           },
           {
            "bin_start": 272.7,
            "bin_end": 303,
            "count": 1
           }
          ]
         }
        },
        {
         "name": "restecg",
         "dtype": "float64",
         "stats": {
          "unique_count": 6,
          "nan_count": 0,
          "min": "0.0",
          "max": "303.0",
          "histogram": [
           {
            "bin_start": 0,
            "bin_end": 30.3,
            "count": 7
           },
           {
            "bin_start": 30.3,
            "bin_end": 60.6,
            "count": 0
           },
           {
            "bin_start": 60.6,
            "bin_end": 90.9,
            "count": 0
           },
           {
            "bin_start": 90.9,
            "bin_end": 121.2,
            "count": 0
           },
           {
            "bin_start": 121.2,
            "bin_end": 151.5,
            "count": 0
           },
           {
            "bin_start": 151.5,
            "bin_end": 181.8,
            "count": 0
           },
           {
            "bin_start": 181.8,
            "bin_end": 212.1,
            "count": 0
           },
           {
            "bin_start": 212.1,
            "bin_end": 242.4,
            "count": 0
           },
           {
            "bin_start": 242.4,
            "bin_end": 272.7,
            "count": 0
           },
           {
            "bin_start": 272.7,
            "bin_end": 303,
            "count": 1
           }
          ]
         }
        },
        {
         "name": "thalach",
         "dtype": "float64",
         "stats": {
          "unique_count": 8,
          "nan_count": 0,
          "min": "22.905161114914094",
          "max": "303.0",
          "histogram": [
           {
            "bin_start": 22.905161114914094,
            "bin_end": 50.914645003422685,
            "count": 1
           },
           {
            "bin_start": 50.914645003422685,
            "bin_end": 78.92412889193128,
            "count": 1
           },
           {
            "bin_start": 78.92412889193128,
            "bin_end": 106.93361278043987,
            "count": 0
           },
           {
            "bin_start": 106.93361278043987,
            "bin_end": 134.94309666894844,
            "count": 1
           },
           {
            "bin_start": 134.94309666894844,
            "bin_end": 162.95258055745705,
            "count": 2
           },
           {
            "bin_start": 162.95258055745705,
            "bin_end": 190.96206444596567,
            "count": 1
           },
           {
            "bin_start": 190.96206444596567,
            "bin_end": 218.97154833447422,
            "count": 1
           },
           {
            "bin_start": 218.97154833447422,
            "bin_end": 246.98103222298283,
            "count": 0
           },
           {
            "bin_start": 246.98103222298283,
            "bin_end": 274.9905161114914,
            "count": 0
           },
           {
            "bin_start": 274.9905161114914,
            "bin_end": 303,
            "count": 1
           }
          ]
         }
        },
        {
         "name": "exang",
         "dtype": "float64",
         "stats": {
          "unique_count": 5,
          "nan_count": 0,
          "min": "0.0",
          "max": "303.0",
          "histogram": [
           {
            "bin_start": 0,
            "bin_end": 30.3,
            "count": 7
           },
           {
            "bin_start": 30.3,
            "bin_end": 60.6,
            "count": 0
           },
           {
            "bin_start": 60.6,
            "bin_end": 90.9,
            "count": 0
           },
           {
            "bin_start": 90.9,
            "bin_end": 121.2,
            "count": 0
           },
           {
            "bin_start": 121.2,
            "bin_end": 151.5,
            "count": 0
           },
           {
            "bin_start": 151.5,
            "bin_end": 181.8,
            "count": 0
           },
           {
            "bin_start": 181.8,
            "bin_end": 212.1,
            "count": 0
           },
           {
            "bin_start": 212.1,
            "bin_end": 242.4,
            "count": 0
           },
           {
            "bin_start": 242.4,
            "bin_end": 272.7,
            "count": 0
           },
           {
            "bin_start": 272.7,
            "bin_end": 303,
            "count": 1
           }
          ]
         }
        },
        {
         "name": "oldpeak",
         "dtype": "float64",
         "stats": {
          "unique_count": 7,
          "nan_count": 0,
          "min": "0.0",
          "max": "303.0",
          "histogram": [
           {
            "bin_start": 0,
            "bin_end": 30.3,
            "count": 7
           },
           {
            "bin_start": 30.3,
            "bin_end": 60.6,
            "count": 0
           },
           {
            "bin_start": 60.6,
            "bin_end": 90.9,
            "count": 0
           },
           {
            "bin_start": 90.9,
            "bin_end": 121.2,
            "count": 0
           },
           {
            "bin_start": 121.2,
            "bin_end": 151.5,
            "count": 0
           },
           {
            "bin_start": 151.5,
            "bin_end": 181.8,
            "count": 0
           },
           {
            "bin_start": 181.8,
            "bin_end": 212.1,
            "count": 0
           },
           {
            "bin_start": 212.1,
            "bin_end": 242.4,
            "count": 0
           },
           {
            "bin_start": 242.4,
            "bin_end": 272.7,
            "count": 0
           },
           {
            "bin_start": 272.7,
            "bin_end": 303,
            "count": 1
           }
          ]
         }
        },
        {
         "name": "slope",
         "dtype": "float64",
         "stats": {
          "unique_count": 6,
          "nan_count": 0,
          "min": "0.0",
          "max": "303.0",
          "histogram": [
           {
            "bin_start": 0,
            "bin_end": 30.3,
            "count": 7
           },
           {
            "bin_start": 30.3,
            "bin_end": 60.6,
            "count": 0
           },
           {
            "bin_start": 60.6,
            "bin_end": 90.9,
            "count": 0
           },
           {
            "bin_start": 90.9,
            "bin_end": 121.2,
            "count": 0
           },
           {
            "bin_start": 121.2,
            "bin_end": 151.5,
            "count": 0
           },
           {
            "bin_start": 151.5,
            "bin_end": 181.8,
            "count": 0
           },
           {
            "bin_start": 181.8,
            "bin_end": 212.1,
            "count": 0
           },
           {
            "bin_start": 212.1,
            "bin_end": 242.4,
            "count": 0
           },
           {
            "bin_start": 242.4,
            "bin_end": 272.7,
            "count": 0
           },
           {
            "bin_start": 272.7,
            "bin_end": 303,
            "count": 1
           }
          ]
         }
        },
        {
         "name": "ca",
         "dtype": "float64",
         "stats": {
          "unique_count": 6,
          "nan_count": 0,
          "min": "0.0",
          "max": "303.0",
          "histogram": [
           {
            "bin_start": 0,
            "bin_end": 30.3,
            "count": 7
           },
           {
            "bin_start": 30.3,
            "bin_end": 60.6,
            "count": 0
           },
           {
            "bin_start": 60.6,
            "bin_end": 90.9,
            "count": 0
           },
           {
            "bin_start": 90.9,
            "bin_end": 121.2,
            "count": 0
           },
           {
            "bin_start": 121.2,
            "bin_end": 151.5,
            "count": 0
           },
           {
            "bin_start": 151.5,
            "bin_end": 181.8,
            "count": 0
           },
           {
            "bin_start": 181.8,
            "bin_end": 212.1,
            "count": 0
           },
           {
            "bin_start": 212.1,
            "bin_end": 242.4,
            "count": 0
           },
           {
            "bin_start": 242.4,
            "bin_end": 272.7,
            "count": 0
           },
           {
            "bin_start": 272.7,
            "bin_end": 303,
            "count": 1
           }
          ]
         }
        },
        {
         "name": "thal",
         "dtype": "float64",
         "stats": {
          "unique_count": 6,
          "nan_count": 0,
          "min": "0.0",
          "max": "303.0",
          "histogram": [
           {
            "bin_start": 0,
            "bin_end": 30.3,
            "count": 7
           },
           {
            "bin_start": 30.3,
            "bin_end": 60.6,
            "count": 0
           },
           {
            "bin_start": 60.6,
            "bin_end": 90.9,
            "count": 0
           },
           {
            "bin_start": 90.9,
            "bin_end": 121.2,
            "count": 0
           },
           {
            "bin_start": 121.2,
            "bin_end": 151.5,
            "count": 0
           },
           {
            "bin_start": 151.5,
            "bin_end": 181.8,
            "count": 0
           },
           {
            "bin_start": 181.8,
            "bin_end": 212.1,
            "count": 0
           },
           {
            "bin_start": 212.1,
            "bin_end": 242.4,
            "count": 0
           },
           {
            "bin_start": 242.4,
            "bin_end": 272.7,
            "count": 0
           },
           {
            "bin_start": 272.7,
            "bin_end": 303,
            "count": 1
           }
          ]
         }
        },
        {
         "name": "target",
         "dtype": "float64",
         "stats": {
          "unique_count": 5,
          "nan_count": 0,
          "min": "0.0",
          "max": "303.0",
          "histogram": [
           {
            "bin_start": 0,
            "bin_end": 30.3,
            "count": 7
           },
           {
            "bin_start": 30.3,
            "bin_end": 60.6,
            "count": 0
           },
           {
            "bin_start": 60.6,
            "bin_end": 90.9,
            "count": 0
           },
           {
            "bin_start": 90.9,
            "bin_end": 121.2,
            "count": 0
           },
           {
            "bin_start": 121.2,
            "bin_end": 151.5,
            "count": 0
           },
           {
            "bin_start": 151.5,
            "bin_end": 181.8,
            "count": 0
           },
           {
            "bin_start": 181.8,
            "bin_end": 212.1,
            "count": 0
           },
           {
            "bin_start": 212.1,
            "bin_end": 242.4,
            "count": 0
           },
           {
            "bin_start": 242.4,
            "bin_end": 272.7,
            "count": 0
           },
           {
            "bin_start": 272.7,
            "bin_end": 303,
            "count": 1
           }
          ]
         }
        },
        {
         "name": "_deepnote_index_column",
         "dtype": "object"
        }
       ],
       "rows_top": [
        {
         "age": 303,
         "sex": 303,
         "cp": 303,
         "trestbps": 303,
         "chol": 303,
         "fbs": 303,
         "restecg": 303,
         "thalach": 303,
         "exang": 303,
         "oldpeak": 303,
         "slope": 303,
         "ca": 303,
         "thal": 303,
         "target": 303,
         "_deepnote_index_column": "count"
        },
        {
         "age": 54.366336633663366,
         "sex": 0.6831683168316832,
         "cp": 0.966996699669967,
         "trestbps": 131.62376237623764,
         "chol": 246.26402640264027,
         "fbs": 0.1485148514851485,
         "restecg": 0.528052805280528,
         "thalach": 149.64686468646866,
         "exang": 0.32673267326732675,
         "oldpeak": 1.0396039603960396,
         "slope": 1.3993399339933994,
         "ca": 0.7293729372937293,
         "thal": 2.3135313531353137,
         "target": 0.5445544554455446,
         "_deepnote_index_column": "mean"
        },
        {
         "age": 9.082100989837857,
         "sex": 0.46601082333962385,
         "cp": 1.0320524894832985,
         "trestbps": 17.5381428135171,
         "chol": 51.83075098793003,
         "fbs": 0.35619787492797644,
         "restecg": 0.525859596359298,
         "thalach": 22.905161114914094,
         "exang": 0.4697944645223165,
         "oldpeak": 1.1610750220686348,
         "slope": 0.6162261453459619,
         "ca": 1.022606364969327,
         "thal": 0.6122765072781409,
         "target": 0.4988347841643913,
         "_deepnote_index_column": "std"
        },
        {
         "age": 29,
         "sex": 0,
         "cp": 0,
         "trestbps": 94,
         "chol": 126,
         "fbs": 0,
         "restecg": 0,
         "thalach": 71,
         "exang": 0,
         "oldpeak": 0,
         "slope": 0,
         "ca": 0,
         "thal": 0,
         "target": 0,
         "_deepnote_index_column": "min"
        },
        {
         "age": 47.5,
         "sex": 0,
         "cp": 0,
         "trestbps": 120,
         "chol": 211,
         "fbs": 0,
         "restecg": 0,
         "thalach": 133.5,
         "exang": 0,
         "oldpeak": 0,
         "slope": 1,
         "ca": 0,
         "thal": 2,
         "target": 0,
         "_deepnote_index_column": "25%"
        },
        {
         "age": 55,
         "sex": 1,
         "cp": 1,
         "trestbps": 130,
         "chol": 240,
         "fbs": 0,
         "restecg": 1,
         "thalach": 153,
         "exang": 0,
         "oldpeak": 0.8,
         "slope": 1,
         "ca": 0,
         "thal": 2,
         "target": 1,
         "_deepnote_index_column": "50%"
        },
        {
         "age": 61,
         "sex": 1,
         "cp": 2,
         "trestbps": 140,
         "chol": 274.5,
         "fbs": 0,
         "restecg": 1,
         "thalach": 166,
         "exang": 1,
         "oldpeak": 1.6,
         "slope": 2,
         "ca": 1,
         "thal": 3,
         "target": 1,
         "_deepnote_index_column": "75%"
        },
        {
         "age": 77,
         "sex": 1,
         "cp": 3,
         "trestbps": 200,
         "chol": 564,
         "fbs": 1,
         "restecg": 2,
         "thalach": 202,
         "exang": 1,
         "oldpeak": 6.2,
         "slope": 2,
         "ca": 4,
         "thal": 3,
         "target": 1,
         "_deepnote_index_column": "max"
        }
       ],
       "rows_bottom": null
      },
      "text/plain": "              age         sex          cp    trestbps        chol         fbs  \\\ncount  303.000000  303.000000  303.000000  303.000000  303.000000  303.000000   \nmean    54.366337    0.683168    0.966997  131.623762  246.264026    0.148515   \nstd      9.082101    0.466011    1.032052   17.538143   51.830751    0.356198   \nmin     29.000000    0.000000    0.000000   94.000000  126.000000    0.000000   \n25%     47.500000    0.000000    0.000000  120.000000  211.000000    0.000000   \n50%     55.000000    1.000000    1.000000  130.000000  240.000000    0.000000   \n75%     61.000000    1.000000    2.000000  140.000000  274.500000    0.000000   \nmax     77.000000    1.000000    3.000000  200.000000  564.000000    1.000000   \n\n          restecg     thalach       exang     oldpeak       slope          ca  \\\ncount  303.000000  303.000000  303.000000  303.000000  303.000000  303.000000   \nmean     0.528053  149.646865    0.326733    1.039604    1.399340    0.729373   \nstd      0.525860   22.905161    0.469794    1.161075    0.616226    1.022606   \nmin      0.000000   71.000000    0.000000    0.000000    0.000000    0.000000   \n25%      0.000000  133.500000    0.000000    0.000000    1.000000    0.000000   \n50%      1.000000  153.000000    0.000000    0.800000    1.000000    0.000000   \n75%      1.000000  166.000000    1.000000    1.600000    2.000000    1.000000   \nmax      2.000000  202.000000    1.000000    6.200000    2.000000    4.000000   \n\n             thal      target  \ncount  303.000000  303.000000  \nmean     2.313531    0.544554  \nstd      0.612277    0.498835  \nmin      0.000000    0.000000  \n25%      2.000000    0.000000  \n50%      2.000000    1.000000  \n75%      3.000000    1.000000  \nmax      3.000000    1.000000  ",
      "text/html": "<div>\n<style scoped>\n    .dataframe tbody tr th:only-of-type {\n        vertical-align: middle;\n    }\n\n    .dataframe tbody tr th {\n        vertical-align: top;\n    }\n\n    .dataframe thead th {\n        text-align: right;\n    }\n</style>\n<table border=\"1\" class=\"dataframe\">\n  <thead>\n    <tr style=\"text-align: right;\">\n      <th></th>\n      <th>age</th>\n      <th>sex</th>\n      <th>cp</th>\n      <th>trestbps</th>\n      <th>chol</th>\n      <th>fbs</th>\n      <th>restecg</th>\n      <th>thalach</th>\n      <th>exang</th>\n      <th>oldpeak</th>\n      <th>slope</th>\n      <th>ca</th>\n      <th>thal</th>\n      <th>target</th>\n    </tr>\n  </thead>\n  <tbody>\n    <tr>\n      <th>count</th>\n      <td>303.000000</td>\n      <td>303.000000</td>\n      <td>303.000000</td>\n      <td>303.000000</td>\n      <td>303.000000</td>\n      <td>303.000000</td>\n      <td>303.000000</td>\n      <td>303.000000</td>\n      <td>303.000000</td>\n      <td>303.000000</td>\n      <td>303.000000</td>\n      <td>303.000000</td>\n      <td>303.000000</td>\n      <td>303.000000</td>\n    </tr>\n    <tr>\n      <th>mean</th>\n      <td>54.366337</td>\n      <td>0.683168</td>\n      <td>0.966997</td>\n      <td>131.623762</td>\n      <td>246.264026</td>\n      <td>0.148515</td>\n      <td>0.528053</td>\n      <td>149.646865</td>\n      <td>0.326733</td>\n      <td>1.039604</td>\n      <td>1.399340</td>\n      <td>0.729373</td>\n      <td>2.313531</td>\n      <td>0.544554</td>\n    </tr>\n    <tr>\n      <th>std</th>\n      <td>9.082101</td>\n      <td>0.466011</td>\n      <td>1.032052</td>\n      <td>17.538143</td>\n      <td>51.830751</td>\n      <td>0.356198</td>\n      <td>0.525860</td>\n      <td>22.905161</td>\n      <td>0.469794</td>\n      <td>1.161075</td>\n      <td>0.616226</td>\n      <td>1.022606</td>\n      <td>0.612277</td>\n      <td>0.498835</td>\n    </tr>\n    <tr>\n      <th>min</th>\n      <td>29.000000</td>\n      <td>0.000000</td>\n      <td>0.000000</td>\n      <td>94.000000</td>\n      <td>126.000000</td>\n      <td>0.000000</td>\n      <td>0.000000</td>\n      <td>71.000000</td>\n      <td>0.000000</td>\n      <td>0.000000</td>\n      <td>0.000000</td>\n      <td>0.000000</td>\n      <td>0.000000</td>\n      <td>0.000000</td>\n    </tr>\n    <tr>\n      <th>25%</th>\n      <td>47.500000</td>\n      <td>0.000000</td>\n      <td>0.000000</td>\n      <td>120.000000</td>\n      <td>211.000000</td>\n      <td>0.000000</td>\n      <td>0.000000</td>\n      <td>133.500000</td>\n      <td>0.000000</td>\n      <td>0.000000</td>\n      <td>1.000000</td>\n      <td>0.000000</td>\n      <td>2.000000</td>\n      <td>0.000000</td>\n    </tr>\n    <tr>\n      <th>50%</th>\n      <td>55.000000</td>\n      <td>1.000000</td>\n      <td>1.000000</td>\n      <td>130.000000</td>\n      <td>240.000000</td>\n      <td>0.000000</td>\n      <td>1.000000</td>\n      <td>153.000000</td>\n      <td>0.000000</td>\n      <td>0.800000</td>\n      <td>1.000000</td>\n      <td>0.000000</td>\n      <td>2.000000</td>\n      <td>1.000000</td>\n    </tr>\n    <tr>\n      <th>75%</th>\n      <td>61.000000</td>\n      <td>1.000000</td>\n      <td>2.000000</td>\n      <td>140.000000</td>\n      <td>274.500000</td>\n      <td>0.000000</td>\n      <td>1.000000</td>\n      <td>166.000000</td>\n      <td>1.000000</td>\n      <td>1.600000</td>\n      <td>2.000000</td>\n      <td>1.000000</td>\n      <td>3.000000</td>\n      <td>1.000000</td>\n    </tr>\n    <tr>\n      <th>max</th>\n      <td>77.000000</td>\n      <td>1.000000</td>\n      <td>3.000000</td>\n      <td>200.000000</td>\n      <td>564.000000</td>\n      <td>1.000000</td>\n      <td>2.000000</td>\n      <td>202.000000</td>\n      <td>1.000000</td>\n      <td>6.200000</td>\n      <td>2.000000</td>\n      <td>4.000000</td>\n      <td>3.000000</td>\n      <td>1.000000</td>\n    </tr>\n  </tbody>\n</table>\n</div>"
     },
     "metadata": {}
    }
   ],
   "execution_count": null
  },
  {
   "cell_type": "code",
   "source": "#Variables\n\ncat_vars  = ['cp','fbs','restecg','exang','slope','ca','thal']\nnum_vars  = ['trestbps', 'chol', 'thalach', 'oldpeak']",
   "metadata": {
    "tags": [],
    "cell_id": "00002-62070850-f3ab-44ff-88f6-e613905e47c7",
    "deepnote_to_be_reexecuted": false,
    "source_hash": "7f686b65",
    "execution_start": 1620398220053,
    "execution_millis": 1,
    "deepnote_cell_type": "code"
   },
   "outputs": [],
   "execution_count": null
  },
  {
   "cell_type": "code",
   "source": "# pipelines\n\n\nnum_4_tree = pipeline.Pipeline(steps=[\n    ('imputer', impute.SimpleImputer(strategy='mean', add_indicator=False)),\n])\n\ncat_4_tree = pipeline.Pipeline(steps=[\n    ('imputer', impute.SimpleImputer(strategy='constant',)),\n    #('onehot', preprocessing.OneHotEncoder(handle_unknown='ignore'))\n])\n\ntree_prepro = compose.ColumnTransformer(transformers=[\n    ('num', num_4_tree, num_vars),\n    ('cat', cat_4_tree, cat_vars),\n], remainder='drop')\n\n\n\n\nnum_4_mult = pipeline.Pipeline(steps=[\n    ('imputer', impute.SimpleImputer(strategy='mean', add_indicator=True)), # mean, median\n    ('scaler', preprocessing.StandardScaler())\n])\n\ncat_4_mult = pipeline.Pipeline(steps=[\n    ('imputer', impute.SimpleImputer(strategy='constant')),\n    #('onehot', preprocessing.OneHotEncoder(handle_unknown='ignore'))\n])\n\nmult_prepro = compose.ColumnTransformer(transformers=[\n    ('num', num_4_mult, num_vars),\n    ('cat', cat_4_mult, cat_vars),\n], remainder='drop') \n",
   "metadata": {
    "tags": [],
    "cell_id": "00003-017e1c49-15ff-4e4a-b340-6d1cc29b2b71",
    "deepnote_to_be_reexecuted": false,
    "source_hash": "8b33355",
    "execution_start": 1620398220981,
    "execution_millis": 4,
    "deepnote_cell_type": "code"
   },
   "outputs": [],
   "execution_count": null
  },
  {
   "cell_type": "code",
   "source": "mult_classifiers = {\n  \"LogRegr\":        LogisticRegression(),\n  \"Ridge\":          RidgeClassifier(),\n  \"SVM_lin\":         SVC(kernel=\"linear\", probability=True), # C=0.025\n  \"SVM_rbf\":         SVC(kernel='rbf', probability=True),\n  \"NuSVC\":           NuSVC(probability=True),\n  \"LinearSVC\":       LinearSVC(),\n  \"KNN3\":            KNeighborsClassifier(3),\n  \"KNN5\":            KNeighborsClassifier(5),\n  \"GaussianNB\":      GaussianNB()\n}\n\ntree_classifiers = {\n  \"Decision Tree\": DecisionTreeClassifier(),\n  \"Extra Trees\": ExtraTreesClassifier(),\n  \"Random Forest\": RandomForestClassifier(),\n  \"AdaBoost\": AdaBoostClassifier(),\n  \"Skl GBM\": GradientBoostingClassifier(),\n  \"Skl HistGBM\": GradientBoostingClassifier(),\n  \"XGBoost\": XGBClassifier(),\n  'LightGBM': LGBMClassifier(),\n  'CatBoost': CatBoostClassifier()}\n\n\nmult_classifiers = {name: pipeline.make_pipeline(mult_prepro, model) for name, model in mult_classifiers.items()}\ntree_classifiers = {name: pipeline.make_pipeline(tree_prepro, model) for name, model in tree_classifiers.items()}\n\nmodels = {**mult_classifiers, **tree_classifiers}",
   "metadata": {
    "tags": [],
    "cell_id": "00004-452ce888-7068-4adf-8aae-36fb558c6bb2",
    "deepnote_to_be_reexecuted": false,
    "source_hash": "2518c842",
    "execution_start": 1620398222475,
    "execution_millis": 14,
    "deepnote_cell_type": "code"
   },
   "outputs": [],
   "execution_count": null
  },
  {
   "cell_type": "code",
   "source": "",
   "metadata": {
    "tags": [],
    "cell_id": "00006-18aa2284-e950-4302-8475-a3fdfc8b4cc3",
    "deepnote_cell_type": "code"
   },
   "outputs": [],
   "execution_count": null
  },
  {
   "cell_type": "markdown",
   "source": "<a style='text-decoration:none;line-height:16px;display:flex;color:#5B5B62;padding:10px;justify-content:end;' href='https://deepnote.com?utm_source=created-in-deepnote-cell&projectId=8d599d21-73e5-4f68-954e-8e232bd2cc60' target=\"_blank\">\n<img alt='Created in deepnote.com' style='display:inline;max-height:16px;margin:0px;margin-right:7.5px;' src='data:image/svg+xml;base64,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' > </img>\nCreated in <span style='font-weight:600;margin-left:4px;'>Deepnote</span></a>",
   "metadata": {
    "tags": [],
    "created_in_deepnote_cell": true,
    "deepnote_cell_type": "markdown"
   }
  }
 ],
 "nbformat": 4,
 "nbformat_minor": 2,
 "metadata": {
  "orig_nbformat": 2,
  "deepnote": {
   "is_reactive": false
  },
  "deepnote_notebook_id": "a7a2c652-8a3d-449b-8a2e-c05b2b69bee1",
  "deepnote_execution_queue": []
 }
}