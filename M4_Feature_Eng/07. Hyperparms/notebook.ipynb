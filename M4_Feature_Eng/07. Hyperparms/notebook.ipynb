{
 "cells": [
  {
   "cell_type": "markdown",
   "metadata": {
    "cell_id": "00002-f8208eee-ef4a-440b-8d53-59e23ebc7943",
    "deepnote_cell_type": "markdown",
    "tags": []
   },
   "source": [
    "Hippocratia\n",
    "\n",
    "Hippocratia is new healthcare based startup, they are trying to develop a product to fight back heart attacks. Their medical research team have managed to put together a drug that relaxes the heart muscles preventing the heart from stopping."
   ]
  },
  {
   "cell_type": "markdown",
   "metadata": {
    "cell_id": "00000-af8e727f-6a74-47b5-964b-5770f56358be",
    "deepnote_cell_type": "markdown",
    "tags": []
   },
   "source": [
    "1. Use data augmentation\n",
    "2. Create new column\n",
    "3. Prediction model\n",
    "4. Stremlit module"
   ]
  },
  {
   "cell_type": "code",
   "execution_count": 1,
   "metadata": {
    "cell_id": "00000-bd444215-17d1-4cf8-933f-06636266072b",
    "deepnote_cell_type": "code",
    "deepnote_to_be_reexecuted": false,
    "execution_millis": 1988,
    "execution_start": 1620564120625,
    "source_hash": "ec56dc8f",
    "tags": []
   },
   "outputs": [],
   "source": [
    "import numpy as np\n",
    "import pandas as pd\n",
    "import time\n",
    "from IPython.display import clear_output\n",
    "import numpy    as np\n",
    "import pandas   as pd\n",
    "import seaborn  as sb\n",
    "import matplotlib.pyplot as plt\n",
    "import sklearn  as skl\n",
    "\n",
    "\n",
    "from sklearn import pipeline      # Pipeline\n",
    "from sklearn import preprocessing # OrdinalEncoder, LabelEncoder\n",
    "from sklearn import impute\n",
    "from sklearn import compose\n",
    "from sklearn import model_selection # train_test_split\n",
    "from sklearn import metrics         # accuracy_score, balanced_accuracy_score, plot_confusion_matrix\n",
    "from sklearn import set_config\n",
    "\n",
    "set_config(display='diagram') "
   ]
  },
  {
   "cell_type": "code",
   "execution_count": 2,
   "metadata": {
    "cell_id": "00001-cff4cc2e-117c-461e-b5d6-717c61fc3f03",
    "deepnote_cell_type": "code",
    "deepnote_to_be_reexecuted": false,
    "execution_millis": 11,
    "execution_start": 1620564122618,
    "source_hash": "7ede2159",
    "tags": []
   },
   "outputs": [],
   "source": [
    "df = pd.read_csv('heart.csv')"
   ]
  },
  {
   "cell_type": "code",
   "execution_count": 3,
   "metadata": {
    "cell_id": "00002-b0ead85e-2055-43fc-b4dd-c76a90d2d1b5",
    "deepnote_cell_type": "code",
    "deepnote_to_be_reexecuted": false,
    "execution_millis": 26,
    "execution_start": 1620564122662,
    "source_hash": "c085b6ba",
    "tags": []
   },
   "outputs": [
    {
     "data": {
      "application/vnd.deepnote.dataframe.v2+json": {
       "column_count": 14,
       "columns": [
        {
         "dtype": "int64",
         "name": "age",
         "stats": {
          "histogram": [
           {
            "bin_end": 39.6,
            "bin_start": 37,
            "count": 1
           },
           {
            "bin_end": 42.2,
            "bin_start": 39.6,
            "count": 1
           },
           {
            "bin_end": 44.8,
            "bin_start": 42.2,
            "count": 0
           },
           {
            "bin_end": 47.4,
            "bin_start": 44.8,
            "count": 0
           },
           {
            "bin_end": 50,
            "bin_start": 47.4,
            "count": 0
           },
           {
            "bin_end": 52.6,
            "bin_start": 50,
            "count": 0
           },
           {
            "bin_end": 55.2,
            "bin_start": 52.6,
            "count": 0
           },
           {
            "bin_end": 57.8,
            "bin_start": 55.2,
            "count": 2
           },
           {
            "bin_end": 60.400000000000006,
            "bin_start": 57.8,
            "count": 0
           },
           {
            "bin_end": 63,
            "bin_start": 60.400000000000006,
            "count": 1
           }
          ],
          "max": "63",
          "min": "37",
          "nan_count": 0,
          "unique_count": 5
         }
        },
        {
         "dtype": "int64",
         "name": "sex",
         "stats": {
          "histogram": [
           {
            "bin_end": 0.1,
            "bin_start": 0,
            "count": 2
           },
           {
            "bin_end": 0.2,
            "bin_start": 0.1,
            "count": 0
           },
           {
            "bin_end": 0.30000000000000004,
            "bin_start": 0.2,
            "count": 0
           },
           {
            "bin_end": 0.4,
            "bin_start": 0.30000000000000004,
            "count": 0
           },
           {
            "bin_end": 0.5,
            "bin_start": 0.4,
            "count": 0
           },
           {
            "bin_end": 0.6000000000000001,
            "bin_start": 0.5,
            "count": 0
           },
           {
            "bin_end": 0.7000000000000001,
            "bin_start": 0.6000000000000001,
            "count": 0
           },
           {
            "bin_end": 0.8,
            "bin_start": 0.7000000000000001,
            "count": 0
           },
           {
            "bin_end": 0.9,
            "bin_start": 0.8,
            "count": 0
           },
           {
            "bin_end": 1,
            "bin_start": 0.9,
            "count": 3
           }
          ],
          "max": "1",
          "min": "0",
          "nan_count": 0,
          "unique_count": 2
         }
        },
        {
         "dtype": "int64",
         "name": "cp",
         "stats": {
          "histogram": [
           {
            "bin_end": 0.3,
            "bin_start": 0,
            "count": 1
           },
           {
            "bin_end": 0.6,
            "bin_start": 0.3,
            "count": 0
           },
           {
            "bin_end": 0.8999999999999999,
            "bin_start": 0.6,
            "count": 0
           },
           {
            "bin_end": 1.2,
            "bin_start": 0.8999999999999999,
            "count": 2
           },
           {
            "bin_end": 1.5,
            "bin_start": 1.2,
            "count": 0
           },
           {
            "bin_end": 1.7999999999999998,
            "bin_start": 1.5,
            "count": 0
           },
           {
            "bin_end": 2.1,
            "bin_start": 1.7999999999999998,
            "count": 1
           },
           {
            "bin_end": 2.4,
            "bin_start": 2.1,
            "count": 0
           },
           {
            "bin_end": 2.6999999999999997,
            "bin_start": 2.4,
            "count": 0
           },
           {
            "bin_end": 3,
            "bin_start": 2.6999999999999997,
            "count": 1
           }
          ],
          "max": "3",
          "min": "0",
          "nan_count": 0,
          "unique_count": 4
         }
        },
        {
         "dtype": "int64",
         "name": "trestbps",
         "stats": {
          "histogram": [
           {
            "bin_end": 122.5,
            "bin_start": 120,
            "count": 2
           },
           {
            "bin_end": 125,
            "bin_start": 122.5,
            "count": 0
           },
           {
            "bin_end": 127.5,
            "bin_start": 125,
            "count": 0
           },
           {
            "bin_end": 130,
            "bin_start": 127.5,
            "count": 0
           },
           {
            "bin_end": 132.5,
            "bin_start": 130,
            "count": 2
           },
           {
            "bin_end": 135,
            "bin_start": 132.5,
            "count": 0
           },
           {
            "bin_end": 137.5,
            "bin_start": 135,
            "count": 0
           },
           {
            "bin_end": 140,
            "bin_start": 137.5,
            "count": 0
           },
           {
            "bin_end": 142.5,
            "bin_start": 140,
            "count": 0
           },
           {
            "bin_end": 145,
            "bin_start": 142.5,
            "count": 1
           }
          ],
          "max": "145",
          "min": "120",
          "nan_count": 0,
          "unique_count": 3
         }
        },
        {
         "dtype": "int64",
         "name": "chol",
         "stats": {
          "histogram": [
           {
            "bin_end": 219,
            "bin_start": 204,
            "count": 1
           },
           {
            "bin_end": 234,
            "bin_start": 219,
            "count": 1
           },
           {
            "bin_end": 249,
            "bin_start": 234,
            "count": 1
           },
           {
            "bin_end": 264,
            "bin_start": 249,
            "count": 1
           },
           {
            "bin_end": 279,
            "bin_start": 264,
            "count": 0
           },
           {
            "bin_end": 294,
            "bin_start": 279,
            "count": 0
           },
           {
            "bin_end": 309,
            "bin_start": 294,
            "count": 0
           },
           {
            "bin_end": 324,
            "bin_start": 309,
            "count": 0
           },
           {
            "bin_end": 339,
            "bin_start": 324,
            "count": 0
           },
           {
            "bin_end": 354,
            "bin_start": 339,
            "count": 1
           }
          ],
          "max": "354",
          "min": "204",
          "nan_count": 0,
          "unique_count": 5
         }
        },
        {
         "dtype": "int64",
         "name": "fbs",
         "stats": {
          "histogram": [
           {
            "bin_end": 0.1,
            "bin_start": 0,
            "count": 4
           },
           {
            "bin_end": 0.2,
            "bin_start": 0.1,
            "count": 0
           },
           {
            "bin_end": 0.30000000000000004,
            "bin_start": 0.2,
            "count": 0
           },
           {
            "bin_end": 0.4,
            "bin_start": 0.30000000000000004,
            "count": 0
           },
           {
            "bin_end": 0.5,
            "bin_start": 0.4,
            "count": 0
           },
           {
            "bin_end": 0.6000000000000001,
            "bin_start": 0.5,
            "count": 0
           },
           {
            "bin_end": 0.7000000000000001,
            "bin_start": 0.6000000000000001,
            "count": 0
           },
           {
            "bin_end": 0.8,
            "bin_start": 0.7000000000000001,
            "count": 0
           },
           {
            "bin_end": 0.9,
            "bin_start": 0.8,
            "count": 0
           },
           {
            "bin_end": 1,
            "bin_start": 0.9,
            "count": 1
           }
          ],
          "max": "1",
          "min": "0",
          "nan_count": 0,
          "unique_count": 2
         }
        },
        {
         "dtype": "int64",
         "name": "restecg",
         "stats": {
          "histogram": [
           {
            "bin_end": 0.1,
            "bin_start": 0,
            "count": 2
           },
           {
            "bin_end": 0.2,
            "bin_start": 0.1,
            "count": 0
           },
           {
            "bin_end": 0.30000000000000004,
            "bin_start": 0.2,
            "count": 0
           },
           {
            "bin_end": 0.4,
            "bin_start": 0.30000000000000004,
            "count": 0
           },
           {
            "bin_end": 0.5,
            "bin_start": 0.4,
            "count": 0
           },
           {
            "bin_end": 0.6000000000000001,
            "bin_start": 0.5,
            "count": 0
           },
           {
            "bin_end": 0.7000000000000001,
            "bin_start": 0.6000000000000001,
            "count": 0
           },
           {
            "bin_end": 0.8,
            "bin_start": 0.7000000000000001,
            "count": 0
           },
           {
            "bin_end": 0.9,
            "bin_start": 0.8,
            "count": 0
           },
           {
            "bin_end": 1,
            "bin_start": 0.9,
            "count": 3
           }
          ],
          "max": "1",
          "min": "0",
          "nan_count": 0,
          "unique_count": 2
         }
        },
        {
         "dtype": "int64",
         "name": "thalach",
         "stats": {
          "histogram": [
           {
            "bin_end": 153.7,
            "bin_start": 150,
            "count": 1
           },
           {
            "bin_end": 157.4,
            "bin_start": 153.7,
            "count": 0
           },
           {
            "bin_end": 161.1,
            "bin_start": 157.4,
            "count": 0
           },
           {
            "bin_end": 164.8,
            "bin_start": 161.1,
            "count": 1
           },
           {
            "bin_end": 168.5,
            "bin_start": 164.8,
            "count": 0
           },
           {
            "bin_end": 172.2,
            "bin_start": 168.5,
            "count": 1
           },
           {
            "bin_end": 175.9,
            "bin_start": 172.2,
            "count": 0
           },
           {
            "bin_end": 179.6,
            "bin_start": 175.9,
            "count": 1
           },
           {
            "bin_end": 183.3,
            "bin_start": 179.6,
            "count": 0
           },
           {
            "bin_end": 187,
            "bin_start": 183.3,
            "count": 1
           }
          ],
          "max": "187",
          "min": "150",
          "nan_count": 0,
          "unique_count": 5
         }
        },
        {
         "dtype": "int64",
         "name": "exang",
         "stats": {
          "histogram": [
           {
            "bin_end": 0.1,
            "bin_start": 0,
            "count": 4
           },
           {
            "bin_end": 0.2,
            "bin_start": 0.1,
            "count": 0
           },
           {
            "bin_end": 0.30000000000000004,
            "bin_start": 0.2,
            "count": 0
           },
           {
            "bin_end": 0.4,
            "bin_start": 0.30000000000000004,
            "count": 0
           },
           {
            "bin_end": 0.5,
            "bin_start": 0.4,
            "count": 0
           },
           {
            "bin_end": 0.6000000000000001,
            "bin_start": 0.5,
            "count": 0
           },
           {
            "bin_end": 0.7000000000000001,
            "bin_start": 0.6000000000000001,
            "count": 0
           },
           {
            "bin_end": 0.8,
            "bin_start": 0.7000000000000001,
            "count": 0
           },
           {
            "bin_end": 0.9,
            "bin_start": 0.8,
            "count": 0
           },
           {
            "bin_end": 1,
            "bin_start": 0.9,
            "count": 1
           }
          ],
          "max": "1",
          "min": "0",
          "nan_count": 0,
          "unique_count": 2
         }
        },
        {
         "dtype": "float64",
         "name": "oldpeak",
         "stats": {
          "histogram": [
           {
            "bin_end": 0.8899999999999999,
            "bin_start": 0.6,
            "count": 2
           },
           {
            "bin_end": 1.18,
            "bin_start": 0.8899999999999999,
            "count": 0
           },
           {
            "bin_end": 1.4699999999999998,
            "bin_start": 1.18,
            "count": 1
           },
           {
            "bin_end": 1.7599999999999998,
            "bin_start": 1.4699999999999998,
            "count": 0
           },
           {
            "bin_end": 2.05,
            "bin_start": 1.7599999999999998,
            "count": 0
           },
           {
            "bin_end": 2.34,
            "bin_start": 2.05,
            "count": 1
           },
           {
            "bin_end": 2.63,
            "bin_start": 2.34,
            "count": 0
           },
           {
            "bin_end": 2.92,
            "bin_start": 2.63,
            "count": 0
           },
           {
            "bin_end": 3.21,
            "bin_start": 2.92,
            "count": 0
           },
           {
            "bin_end": 3.5,
            "bin_start": 3.21,
            "count": 1
           }
          ],
          "max": "3.5",
          "min": "0.6",
          "nan_count": 0,
          "unique_count": 5
         }
        },
        {
         "dtype": "int64",
         "name": "slope",
         "stats": {
          "histogram": [
           {
            "bin_end": 0.2,
            "bin_start": 0,
            "count": 2
           },
           {
            "bin_end": 0.4,
            "bin_start": 0.2,
            "count": 0
           },
           {
            "bin_end": 0.6000000000000001,
            "bin_start": 0.4,
            "count": 0
           },
           {
            "bin_end": 0.8,
            "bin_start": 0.6000000000000001,
            "count": 0
           },
           {
            "bin_end": 1,
            "bin_start": 0.8,
            "count": 0
           },
           {
            "bin_end": 1.2000000000000002,
            "bin_start": 1,
            "count": 0
           },
           {
            "bin_end": 1.4000000000000001,
            "bin_start": 1.2000000000000002,
            "count": 0
           },
           {
            "bin_end": 1.6,
            "bin_start": 1.4000000000000001,
            "count": 0
           },
           {
            "bin_end": 1.8,
            "bin_start": 1.6,
            "count": 0
           },
           {
            "bin_end": 2,
            "bin_start": 1.8,
            "count": 3
           }
          ],
          "max": "2",
          "min": "0",
          "nan_count": 0,
          "unique_count": 2
         }
        },
        {
         "dtype": "int64",
         "name": "ca",
         "stats": {
          "histogram": [
           {
            "bin_end": -0.4,
            "bin_start": -0.5,
            "count": 0
           },
           {
            "bin_end": -0.3,
            "bin_start": -0.4,
            "count": 0
           },
           {
            "bin_end": -0.19999999999999996,
            "bin_start": -0.3,
            "count": 0
           },
           {
            "bin_end": -0.09999999999999998,
            "bin_start": -0.19999999999999996,
            "count": 0
           },
           {
            "bin_end": 0,
            "bin_start": -0.09999999999999998,
            "count": 0
           },
           {
            "bin_end": 0.10000000000000009,
            "bin_start": 0,
            "count": 5
           },
           {
            "bin_end": 0.20000000000000007,
            "bin_start": 0.10000000000000009,
            "count": 0
           },
           {
            "bin_end": 0.30000000000000004,
            "bin_start": 0.20000000000000007,
            "count": 0
           },
           {
            "bin_end": 0.4,
            "bin_start": 0.30000000000000004,
            "count": 0
           },
           {
            "bin_end": 0.5,
            "bin_start": 0.4,
            "count": 0
           }
          ],
          "max": "0",
          "min": "0",
          "nan_count": 0,
          "unique_count": 1
         }
        },
        {
         "dtype": "int64",
         "name": "thal",
         "stats": {
          "histogram": [
           {
            "bin_end": 1.1,
            "bin_start": 1,
            "count": 1
           },
           {
            "bin_end": 1.2,
            "bin_start": 1.1,
            "count": 0
           },
           {
            "bin_end": 1.3,
            "bin_start": 1.2,
            "count": 0
           },
           {
            "bin_end": 1.4,
            "bin_start": 1.3,
            "count": 0
           },
           {
            "bin_end": 1.5,
            "bin_start": 1.4,
            "count": 0
           },
           {
            "bin_end": 1.6,
            "bin_start": 1.5,
            "count": 0
           },
           {
            "bin_end": 1.7000000000000002,
            "bin_start": 1.6,
            "count": 0
           },
           {
            "bin_end": 1.8,
            "bin_start": 1.7000000000000002,
            "count": 0
           },
           {
            "bin_end": 1.9,
            "bin_start": 1.8,
            "count": 0
           },
           {
            "bin_end": 2,
            "bin_start": 1.9,
            "count": 4
           }
          ],
          "max": "2",
          "min": "1",
          "nan_count": 0,
          "unique_count": 2
         }
        },
        {
         "dtype": "int64",
         "name": "target",
         "stats": {
          "histogram": [
           {
            "bin_end": 0.6,
            "bin_start": 0.5,
            "count": 0
           },
           {
            "bin_end": 0.7,
            "bin_start": 0.6,
            "count": 0
           },
           {
            "bin_end": 0.8,
            "bin_start": 0.7,
            "count": 0
           },
           {
            "bin_end": 0.9,
            "bin_start": 0.8,
            "count": 0
           },
           {
            "bin_end": 1,
            "bin_start": 0.9,
            "count": 0
           },
           {
            "bin_end": 1.1,
            "bin_start": 1,
            "count": 5
           },
           {
            "bin_end": 1.2000000000000002,
            "bin_start": 1.1,
            "count": 0
           },
           {
            "bin_end": 1.3,
            "bin_start": 1.2000000000000002,
            "count": 0
           },
           {
            "bin_end": 1.4,
            "bin_start": 1.3,
            "count": 0
           },
           {
            "bin_end": 1.5,
            "bin_start": 1.4,
            "count": 0
           }
          ],
          "max": "1",
          "min": "1",
          "nan_count": 0,
          "unique_count": 1
         }
        },
        {
         "dtype": "int64",
         "name": "_deepnote_index_column"
        }
       ],
       "row_count": 5,
       "rows_bottom": null,
       "rows_top": [
        {
         "_deepnote_index_column": 0,
         "age": 63,
         "ca": 0,
         "chol": 233,
         "cp": 3,
         "exang": 0,
         "fbs": 1,
         "oldpeak": 2.3,
         "restecg": 0,
         "sex": 1,
         "slope": 0,
         "target": 1,
         "thal": 1,
         "thalach": 150,
         "trestbps": 145
        },
        {
         "_deepnote_index_column": 1,
         "age": 37,
         "ca": 0,
         "chol": 250,
         "cp": 2,
         "exang": 0,
         "fbs": 0,
         "oldpeak": 3.5,
         "restecg": 1,
         "sex": 1,
         "slope": 0,
         "target": 1,
         "thal": 2,
         "thalach": 187,
         "trestbps": 130
        },
        {
         "_deepnote_index_column": 2,
         "age": 41,
         "ca": 0,
         "chol": 204,
         "cp": 1,
         "exang": 0,
         "fbs": 0,
         "oldpeak": 1.4,
         "restecg": 0,
         "sex": 0,
         "slope": 2,
         "target": 1,
         "thal": 2,
         "thalach": 172,
         "trestbps": 130
        },
        {
         "_deepnote_index_column": 3,
         "age": 56,
         "ca": 0,
         "chol": 236,
         "cp": 1,
         "exang": 0,
         "fbs": 0,
         "oldpeak": 0.8,
         "restecg": 1,
         "sex": 1,
         "slope": 2,
         "target": 1,
         "thal": 2,
         "thalach": 178,
         "trestbps": 120
        },
        {
         "_deepnote_index_column": 4,
         "age": 57,
         "ca": 0,
         "chol": 354,
         "cp": 0,
         "exang": 1,
         "fbs": 0,
         "oldpeak": 0.6,
         "restecg": 1,
         "sex": 0,
         "slope": 2,
         "target": 1,
         "thal": 2,
         "thalach": 163,
         "trestbps": 120
        }
       ]
      },
      "text/html": [
       "<div>\n",
       "<style scoped>\n",
       "    .dataframe tbody tr th:only-of-type {\n",
       "        vertical-align: middle;\n",
       "    }\n",
       "\n",
       "    .dataframe tbody tr th {\n",
       "        vertical-align: top;\n",
       "    }\n",
       "\n",
       "    .dataframe thead th {\n",
       "        text-align: right;\n",
       "    }\n",
       "</style>\n",
       "<table border=\"1\" class=\"dataframe\">\n",
       "  <thead>\n",
       "    <tr style=\"text-align: right;\">\n",
       "      <th></th>\n",
       "      <th>age</th>\n",
       "      <th>sex</th>\n",
       "      <th>cp</th>\n",
       "      <th>trestbps</th>\n",
       "      <th>chol</th>\n",
       "      <th>fbs</th>\n",
       "      <th>restecg</th>\n",
       "      <th>thalach</th>\n",
       "      <th>exang</th>\n",
       "      <th>oldpeak</th>\n",
       "      <th>slope</th>\n",
       "      <th>ca</th>\n",
       "      <th>thal</th>\n",
       "      <th>target</th>\n",
       "    </tr>\n",
       "  </thead>\n",
       "  <tbody>\n",
       "    <tr>\n",
       "      <th>0</th>\n",
       "      <td>63</td>\n",
       "      <td>1</td>\n",
       "      <td>3</td>\n",
       "      <td>145</td>\n",
       "      <td>233</td>\n",
       "      <td>1</td>\n",
       "      <td>0</td>\n",
       "      <td>150</td>\n",
       "      <td>0</td>\n",
       "      <td>2.3</td>\n",
       "      <td>0</td>\n",
       "      <td>0</td>\n",
       "      <td>1</td>\n",
       "      <td>1</td>\n",
       "    </tr>\n",
       "    <tr>\n",
       "      <th>1</th>\n",
       "      <td>37</td>\n",
       "      <td>1</td>\n",
       "      <td>2</td>\n",
       "      <td>130</td>\n",
       "      <td>250</td>\n",
       "      <td>0</td>\n",
       "      <td>1</td>\n",
       "      <td>187</td>\n",
       "      <td>0</td>\n",
       "      <td>3.5</td>\n",
       "      <td>0</td>\n",
       "      <td>0</td>\n",
       "      <td>2</td>\n",
       "      <td>1</td>\n",
       "    </tr>\n",
       "    <tr>\n",
       "      <th>2</th>\n",
       "      <td>41</td>\n",
       "      <td>0</td>\n",
       "      <td>1</td>\n",
       "      <td>130</td>\n",
       "      <td>204</td>\n",
       "      <td>0</td>\n",
       "      <td>0</td>\n",
       "      <td>172</td>\n",
       "      <td>0</td>\n",
       "      <td>1.4</td>\n",
       "      <td>2</td>\n",
       "      <td>0</td>\n",
       "      <td>2</td>\n",
       "      <td>1</td>\n",
       "    </tr>\n",
       "    <tr>\n",
       "      <th>3</th>\n",
       "      <td>56</td>\n",
       "      <td>1</td>\n",
       "      <td>1</td>\n",
       "      <td>120</td>\n",
       "      <td>236</td>\n",
       "      <td>0</td>\n",
       "      <td>1</td>\n",
       "      <td>178</td>\n",
       "      <td>0</td>\n",
       "      <td>0.8</td>\n",
       "      <td>2</td>\n",
       "      <td>0</td>\n",
       "      <td>2</td>\n",
       "      <td>1</td>\n",
       "    </tr>\n",
       "    <tr>\n",
       "      <th>4</th>\n",
       "      <td>57</td>\n",
       "      <td>0</td>\n",
       "      <td>0</td>\n",
       "      <td>120</td>\n",
       "      <td>354</td>\n",
       "      <td>0</td>\n",
       "      <td>1</td>\n",
       "      <td>163</td>\n",
       "      <td>1</td>\n",
       "      <td>0.6</td>\n",
       "      <td>2</td>\n",
       "      <td>0</td>\n",
       "      <td>2</td>\n",
       "      <td>1</td>\n",
       "    </tr>\n",
       "  </tbody>\n",
       "</table>\n",
       "</div>"
      ],
      "text/plain": [
       "   age  sex  cp  trestbps  chol  fbs  restecg  thalach  exang  oldpeak  slope  \\\n",
       "0   63    1   3       145   233    1        0      150      0      2.3      0   \n",
       "1   37    1   2       130   250    0        1      187      0      3.5      0   \n",
       "2   41    0   1       130   204    0        0      172      0      1.4      2   \n",
       "3   56    1   1       120   236    0        1      178      0      0.8      2   \n",
       "4   57    0   0       120   354    0        1      163      1      0.6      2   \n",
       "\n",
       "   ca  thal  target  \n",
       "0   0     1       1  \n",
       "1   0     2       1  \n",
       "2   0     2       1  \n",
       "3   0     2       1  \n",
       "4   0     2       1  "
      ]
     },
     "execution_count": 3,
     "metadata": {},
     "output_type": "execute_result"
    }
   ],
   "source": [
    "df.head()"
   ]
  },
  {
   "cell_type": "code",
   "execution_count": 4,
   "metadata": {
    "cell_id": "00004-c1693800-ca54-410b-bb14-414592688835",
    "deepnote_cell_type": "code",
    "deepnote_to_be_reexecuted": false,
    "execution_millis": 19,
    "execution_start": 1620564122691,
    "source_hash": "f3dd26da",
    "tags": []
   },
   "outputs": [
    {
     "data": {
      "text/plain": [
       "age         0\n",
       "sex         0\n",
       "cp          0\n",
       "trestbps    0\n",
       "chol        0\n",
       "fbs         0\n",
       "restecg     0\n",
       "thalach     0\n",
       "exang       0\n",
       "oldpeak     0\n",
       "slope       0\n",
       "ca          0\n",
       "thal        0\n",
       "target      0\n",
       "dtype: int64"
      ]
     },
     "execution_count": 4,
     "metadata": {},
     "output_type": "execute_result"
    }
   ],
   "source": [
    "df.isnull().sum()"
   ]
  },
  {
   "cell_type": "code",
   "execution_count": 5,
   "metadata": {
    "cell_id": "00003-431908e3-2a38-4615-bf84-0dc401adf92f",
    "deepnote_cell_type": "code",
    "deepnote_to_be_reexecuted": false,
    "execution_millis": 13,
    "execution_start": 1620564122697,
    "source_hash": "25d43fa0",
    "tags": []
   },
   "outputs": [
    {
     "data": {
      "text/plain": [
       "Index(['age', 'sex', 'cp', 'trestbps', 'chol', 'fbs', 'restecg', 'thalach',\n",
       "       'exang', 'oldpeak', 'slope', 'ca', 'thal', 'target'],\n",
       "      dtype='object')"
      ]
     },
     "execution_count": 5,
     "metadata": {},
     "output_type": "execute_result"
    }
   ],
   "source": [
    "df.columns"
   ]
  },
  {
   "cell_type": "code",
   "execution_count": 6,
   "metadata": {
    "cell_id": "00005-488ac0bf-404e-4672-b4d5-0435fabebfdf",
    "deepnote_cell_type": "code",
    "deepnote_to_be_reexecuted": false,
    "execution_millis": 8,
    "execution_start": 1620564122706,
    "source_hash": "ed8c7fa9",
    "tags": []
   },
   "outputs": [],
   "source": [
    "df['chol_fbs'] = df.chol * df.fbs"
   ]
  },
  {
   "cell_type": "code",
   "execution_count": 7,
   "metadata": {
    "cell_id": "00006-bfc5d1ed-d3b2-4ce8-8210-19c3a9ad1551",
    "deepnote_cell_type": "code",
    "deepnote_to_be_reexecuted": false,
    "execution_millis": 621,
    "execution_start": 1620564122718,
    "source_hash": "805a6da0",
    "tags": []
   },
   "outputs": [
    {
     "data": {
      "image/png": "[encoded data removed]",
      "text/plain": [
       "<Figure size 1440x1080 with 2 Axes>"
      ]
     },
     "metadata": {
      "image/png": {
       "height": 904,
       "width": 1193
      },
      "needs_background": "light"
     },
     "output_type": "display_data"
    }
   ],
   "source": [
    "import missingno\n",
    "missingno.matrix(df, figsize = (20,15))\n",
    "plt.show()"
   ]
  },
  {
   "cell_type": "markdown",
   "metadata": {
    "cell_id": "00010-8d687862-d773-4ead-a22b-dd5e8ce27b7c",
    "deepnote_cell_type": "text-cell-h1",
    "tags": []
   },
   "source": [
    "# Data Augmentation"
   ]
  },
  {
   "cell_type": "code",
   "execution_count": 8,
   "metadata": {
    "cell_id": "00009-c7444842-3445-4f62-806f-28309672efd4",
    "deepnote_cell_type": "code",
    "deepnote_to_be_reexecuted": false,
    "execution_millis": 4,
    "execution_start": 1620564123325,
    "source_hash": "75d0b12b",
    "tags": []
   },
   "outputs": [],
   "source": [
    "#Data Augmentation \n",
    "import numpy as np\n",
    "age=df['age']\n",
    "sex=df['sex']\n",
    "cp=df['cp']\n",
    "trestbps=df['trestbps']\n",
    "chol=df['chol']\n",
    "fbs=df['fbs']\n",
    "restecg=df['restecg']\n",
    "thalach=df['thalach']\n",
    "exang=df['exang']\n",
    "oldpeak=df['oldpeak']\n",
    "slope=df['slope']\n",
    "ca=df['ca']\n",
    "thal=df['thal']\n",
    "target=df['target']\n",
    "\n",
    "chol_fbs = df['chol_fbs']\n"
   ]
  },
  {
   "cell_type": "code",
   "execution_count": 9,
   "metadata": {
    "cell_id": "00011-dd9db4d0-ec5e-4eeb-8c15-0f7341fcc712",
    "deepnote_cell_type": "code",
    "deepnote_to_be_reexecuted": false,
    "execution_millis": 13,
    "execution_start": 1620564123331,
    "source_hash": "47aa8c9a",
    "tags": []
   },
   "outputs": [],
   "source": [
    "age_s=np.std(age)\n",
    "sex_s=np.std(sex)\n",
    "cp_s=np.std(cp)\n",
    "trestbps_s=np.std(trestbps)\n",
    "chol_s=np.std(chol)\n",
    "fbs_s=np.std(fbs)\n",
    "restecg_s=np.std(restecg)\n",
    "thalach_s=np.std(thalach)\n",
    "exang_s=np.std(exang)\n",
    "oldpeak_s=np.std(oldpeak)\n",
    "slope_s=np.std(slope)\n",
    "ca_s=np.std(ca)\n",
    "thal_s=np.std(thal)\n",
    "target_s=np.std(target)\n",
    "\n",
    "chol_fbs_s = np.std(chol_fbs)\n",
    "\n",
    "dataset=[]"
   ]
  },
  {
   "cell_type": "markdown",
   "metadata": {
    "cell_id": "00014-dfdfdd28-6b01-43a5-97c2-68ee8040a765",
    "deepnote_cell_type": "markdown",
    "tags": []
   },
   "source": [
    "### Updated "
   ]
  },
  {
   "cell_type": "code",
   "execution_count": 10,
   "metadata": {
    "cell_id": "00015-48523844-28ef-426c-aaf9-4cf19ee4ec2a",
    "deepnote_cell_type": "code",
    "deepnote_to_be_reexecuted": false,
    "execution_millis": 18,
    "execution_start": 1620564123345,
    "source_hash": "58fa5dae",
    "tags": []
   },
   "outputs": [
    {
     "data": {
      "text/plain": [
       "165"
      ]
     },
     "execution_count": 10,
     "metadata": {},
     "output_type": "execute_result"
    }
   ],
   "source": [
    "df.target.sum()"
   ]
  },
  {
   "cell_type": "code",
   "execution_count": 11,
   "metadata": {
    "cell_id": "00015-ad59464c-e8a3-40ca-a25b-8de722fcd65b",
    "deepnote_cell_type": "code",
    "deepnote_to_be_reexecuted": false,
    "execution_millis": 115,
    "execution_start": 1620564123367,
    "source_hash": "9003bedb",
    "tags": []
   },
   "outputs": [
    {
     "name": "stdout",
     "output_type": "stream",
     "text": [
      "303 augmented data created.\n"
     ]
    },
    {
     "data": {
      "application/vnd.deepnote.dataframe.v2+json": {
       "column_count": 15,
       "columns": [
        {
         "dtype": "int64",
         "name": "age",
         "stats": {
          "histogram": [
           {
            "bin_end": 39,
            "bin_start": 34,
            "count": 3
           },
           {
            "bin_end": 44,
            "bin_start": 39,
            "count": 14
           },
           {
            "bin_end": 49,
            "bin_start": 44,
            "count": 32
           },
           {
            "bin_end": 54,
            "bin_start": 49,
            "count": 36
           },
           {
            "bin_end": 59,
            "bin_start": 54,
            "count": 39
           },
           {
            "bin_end": 64,
            "bin_start": 59,
            "count": 74
           },
           {
            "bin_end": 69,
            "bin_start": 64,
            "count": 55
           },
           {
            "bin_end": 74,
            "bin_start": 69,
            "count": 35
           },
           {
            "bin_end": 79,
            "bin_start": 74,
            "count": 12
           },
           {
            "bin_end": 84,
            "bin_start": 79,
            "count": 3
           }
          ],
          "max": "84",
          "min": "34",
          "nan_count": 0,
          "unique_count": 44
         }
        },
        {
         "dtype": "int64",
         "name": "sex",
         "stats": {
          "histogram": [
           {
            "bin_end": 0.1,
            "bin_start": 0,
            "count": 96
           },
           {
            "bin_end": 0.2,
            "bin_start": 0.1,
            "count": 0
           },
           {
            "bin_end": 0.30000000000000004,
            "bin_start": 0.2,
            "count": 0
           },
           {
            "bin_end": 0.4,
            "bin_start": 0.30000000000000004,
            "count": 0
           },
           {
            "bin_end": 0.5,
            "bin_start": 0.4,
            "count": 0
           },
           {
            "bin_end": 0.6000000000000001,
            "bin_start": 0.5,
            "count": 0
           },
           {
            "bin_end": 0.7000000000000001,
            "bin_start": 0.6000000000000001,
            "count": 0
           },
           {
            "bin_end": 0.8,
            "bin_start": 0.7000000000000001,
            "count": 0
           },
           {
            "bin_end": 0.9,
            "bin_start": 0.8,
            "count": 0
           },
           {
            "bin_end": 1,
            "bin_start": 0.9,
            "count": 207
           }
          ],
          "max": "1",
          "min": "0",
          "nan_count": 0,
          "unique_count": 2
         }
        },
        {
         "dtype": "int64",
         "name": "cp",
         "stats": {
          "histogram": [
           {
            "bin_end": 0.5,
            "bin_start": 0,
            "count": 50
           },
           {
            "bin_end": 1,
            "bin_start": 0.5,
            "count": 0
           },
           {
            "bin_end": 1.5,
            "bin_start": 1,
            "count": 71
           },
           {
            "bin_end": 2,
            "bin_start": 1.5,
            "count": 0
           },
           {
            "bin_end": 2.5,
            "bin_start": 2,
            "count": 89
           },
           {
            "bin_end": 3,
            "bin_start": 2.5,
            "count": 0
           },
           {
            "bin_end": 3.5,
            "bin_start": 3,
            "count": 50
           },
           {
            "bin_end": 4,
            "bin_start": 3.5,
            "count": 0
           },
           {
            "bin_end": 4.5,
            "bin_start": 4,
            "count": 37
           },
           {
            "bin_end": 5,
            "bin_start": 4.5,
            "count": 6
           }
          ],
          "max": "5",
          "min": "0",
          "nan_count": 0,
          "unique_count": 6
         }
        },
        {
         "dtype": "int64",
         "name": "trestbps",
         "stats": {
          "histogram": [
           {
            "bin_end": 111.9,
            "bin_start": 101,
            "count": 8
           },
           {
            "bin_end": 122.8,
            "bin_start": 111.9,
            "count": 41
           },
           {
            "bin_end": 133.7,
            "bin_start": 122.8,
            "count": 63
           },
           {
            "bin_end": 144.6,
            "bin_start": 133.7,
            "count": 82
           },
           {
            "bin_end": 155.5,
            "bin_start": 144.6,
            "count": 55
           },
           {
            "bin_end": 166.4,
            "bin_start": 155.5,
            "count": 34
           },
           {
            "bin_end": 177.3,
            "bin_start": 166.4,
            "count": 9
           },
           {
            "bin_end": 188.2,
            "bin_start": 177.3,
            "count": 5
           },
           {
            "bin_end": 199.10000000000002,
            "bin_start": 188.2,
            "count": 5
           },
           {
            "bin_end": 210,
            "bin_start": 199.10000000000002,
            "count": 1
           }
          ],
          "max": "210",
          "min": "101",
          "nan_count": 0,
          "unique_count": 73
         }
        },
        {
         "dtype": "int64",
         "name": "chol",
         "stats": {
          "histogram": [
           {
            "bin_end": 188.6,
            "bin_start": 143,
            "count": 13
           },
           {
            "bin_end": 234.2,
            "bin_start": 188.6,
            "count": 57
           },
           {
            "bin_end": 279.8,
            "bin_start": 234.2,
            "count": 116
           },
           {
            "bin_end": 325.4,
            "bin_start": 279.8,
            "count": 68
           },
           {
            "bin_end": 371,
            "bin_start": 325.4,
            "count": 39
           },
           {
            "bin_end": 416.6,
            "bin_start": 371,
            "count": 6
           },
           {
            "bin_end": 462.2,
            "bin_start": 416.6,
            "count": 3
           },
           {
            "bin_end": 507.8,
            "bin_start": 462.2,
            "count": 0
           },
           {
            "bin_end": 553.4000000000001,
            "bin_start": 507.8,
            "count": 0
           },
           {
            "bin_end": 599,
            "bin_start": 553.4000000000001,
            "count": 1
           }
          ],
          "max": "599",
          "min": "143",
          "nan_count": 0,
          "unique_count": 154
         }
        },
        {
         "dtype": "int64",
         "name": "fbs",
         "stats": {
          "histogram": [
           {
            "bin_end": 0.1,
            "bin_start": 0,
            "count": 258
           },
           {
            "bin_end": 0.2,
            "bin_start": 0.1,
            "count": 0
           },
           {
            "bin_end": 0.30000000000000004,
            "bin_start": 0.2,
            "count": 0
           },
           {
            "bin_end": 0.4,
            "bin_start": 0.30000000000000004,
            "count": 0
           },
           {
            "bin_end": 0.5,
            "bin_start": 0.4,
            "count": 0
           },
           {
            "bin_end": 0.6000000000000001,
            "bin_start": 0.5,
            "count": 0
           },
           {
            "bin_end": 0.7000000000000001,
            "bin_start": 0.6000000000000001,
            "count": 0
           },
           {
            "bin_end": 0.8,
            "bin_start": 0.7000000000000001,
            "count": 0
           },
           {
            "bin_end": 0.9,
            "bin_start": 0.8,
            "count": 0
           },
           {
            "bin_end": 1,
            "bin_start": 0.9,
            "count": 45
           }
          ],
          "max": "1",
          "min": "0",
          "nan_count": 0,
          "unique_count": 2
         }
        },
        {
         "dtype": "int64",
         "name": "restecg",
         "stats": {
          "histogram": [
           {
            "bin_end": 0.3,
            "bin_start": 0,
            "count": 72
           },
           {
            "bin_end": 0.6,
            "bin_start": 0.3,
            "count": 0
           },
           {
            "bin_end": 0.8999999999999999,
            "bin_start": 0.6,
            "count": 0
           },
           {
            "bin_end": 1.2,
            "bin_start": 0.8999999999999999,
            "count": 150
           },
           {
            "bin_end": 1.5,
            "bin_start": 1.2,
            "count": 0
           },
           {
            "bin_end": 1.7999999999999998,
            "bin_start": 1.5,
            "count": 0
           },
           {
            "bin_end": 2.1,
            "bin_start": 1.7999999999999998,
            "count": 79
           },
           {
            "bin_end": 2.4,
            "bin_start": 2.1,
            "count": 0
           },
           {
            "bin_end": 2.6999999999999997,
            "bin_start": 2.4,
            "count": 0
           },
           {
            "bin_end": 3,
            "bin_start": 2.6999999999999997,
            "count": 2
           }
          ],
          "max": "3",
          "min": "0",
          "nan_count": 0,
          "unique_count": 4
         }
        },
        {
         "dtype": "int64",
         "name": "thalach",
         "stats": {
          "histogram": [
           {
            "bin_end": 99.7,
            "bin_start": 87,
            "count": 2
           },
           {
            "bin_end": 112.4,
            "bin_start": 99.7,
            "count": 8
           },
           {
            "bin_end": 125.1,
            "bin_start": 112.4,
            "count": 18
           },
           {
            "bin_end": 137.8,
            "bin_start": 125.1,
            "count": 29
           },
           {
            "bin_end": 150.5,
            "bin_start": 137.8,
            "count": 35
           },
           {
            "bin_end": 163.2,
            "bin_start": 150.5,
            "count": 60
           },
           {
            "bin_end": 175.89999999999998,
            "bin_start": 163.2,
            "count": 64
           },
           {
            "bin_end": 188.6,
            "bin_start": 175.89999999999998,
            "count": 57
           },
           {
            "bin_end": 201.3,
            "bin_start": 188.6,
            "count": 26
           },
           {
            "bin_end": 214,
            "bin_start": 201.3,
            "count": 4
           }
          ],
          "max": "214",
          "min": "87",
          "nan_count": 0,
          "unique_count": 94
         }
        },
        {
         "dtype": "int64",
         "name": "exang",
         "stats": {
          "histogram": [
           {
            "bin_end": 0.1,
            "bin_start": 0,
            "count": 204
           },
           {
            "bin_end": 0.2,
            "bin_start": 0.1,
            "count": 0
           },
           {
            "bin_end": 0.30000000000000004,
            "bin_start": 0.2,
            "count": 0
           },
           {
            "bin_end": 0.4,
            "bin_start": 0.30000000000000004,
            "count": 0
           },
           {
            "bin_end": 0.5,
            "bin_start": 0.4,
            "count": 0
           },
           {
            "bin_end": 0.6000000000000001,
            "bin_start": 0.5,
            "count": 0
           },
           {
            "bin_end": 0.7000000000000001,
            "bin_start": 0.6000000000000001,
            "count": 0
           },
           {
            "bin_end": 0.8,
            "bin_start": 0.7000000000000001,
            "count": 0
           },
           {
            "bin_end": 0.9,
            "bin_start": 0.8,
            "count": 0
           },
           {
            "bin_end": 1,
            "bin_start": 0.9,
            "count": 99
           }
          ],
          "max": "1",
          "min": "0",
          "nan_count": 0,
          "unique_count": 2
         }
        },
        {
         "dtype": "float64",
         "name": "oldpeak",
         "stats": {
          "histogram": [
           {
            "bin_end": 1.63,
            "bin_start": 1,
            "count": 137
           },
           {
            "bin_end": 2.26,
            "bin_start": 1.63,
            "count": 48
           },
           {
            "bin_end": 2.89,
            "bin_start": 2.26,
            "count": 48
           },
           {
            "bin_end": 3.52,
            "bin_start": 2.89,
            "count": 30
           },
           {
            "bin_end": 4.15,
            "bin_start": 3.52,
            "count": 21
           },
           {
            "bin_end": 4.78,
            "bin_start": 4.15,
            "count": 10
           },
           {
            "bin_end": 5.41,
            "bin_start": 4.78,
            "count": 6
           },
           {
            "bin_end": 6.04,
            "bin_start": 5.41,
            "count": 1
           },
           {
            "bin_end": 6.67,
            "bin_start": 6.04,
            "count": 0
           },
           {
            "bin_end": 7.3,
            "bin_start": 6.67,
            "count": 2
           }
          ],
          "max": "7.3",
          "min": "1.0",
          "nan_count": 0,
          "unique_count": 43
         }
        },
        {
         "dtype": "int64",
         "name": "slope",
         "stats": {
          "histogram": [
           {
            "bin_end": 1.2,
            "bin_start": 1,
            "count": 21
           },
           {
            "bin_end": 1.4,
            "bin_start": 1.2,
            "count": 0
           },
           {
            "bin_end": 1.6,
            "bin_start": 1.4,
            "count": 0
           },
           {
            "bin_end": 1.8,
            "bin_start": 1.6,
            "count": 0
           },
           {
            "bin_end": 2,
            "bin_start": 1.8,
            "count": 0
           },
           {
            "bin_end": 2.2,
            "bin_start": 2,
            "count": 140
           },
           {
            "bin_end": 2.4000000000000004,
            "bin_start": 2.2,
            "count": 0
           },
           {
            "bin_end": 2.6,
            "bin_start": 2.4000000000000004,
            "count": 0
           },
           {
            "bin_end": 2.8,
            "bin_start": 2.6,
            "count": 0
           },
           {
            "bin_end": 3,
            "bin_start": 2.8,
            "count": 142
           }
          ],
          "max": "3",
          "min": "1",
          "nan_count": 0,
          "unique_count": 3
         }
        },
        {
         "dtype": "int64",
         "name": "ca",
         "stats": {
          "histogram": [
           {
            "bin_end": 0.7,
            "bin_start": 0,
            "count": 41
           },
           {
            "bin_end": 1.4,
            "bin_start": 0.7,
            "count": 55
           },
           {
            "bin_end": 2.0999999999999996,
            "bin_start": 1.4,
            "count": 69
           },
           {
            "bin_end": 2.8,
            "bin_start": 2.0999999999999996,
            "count": 0
           },
           {
            "bin_end": 3.5,
            "bin_start": 2.8,
            "count": 74
           },
           {
            "bin_end": 4.199999999999999,
            "bin_start": 3.5,
            "count": 42
           },
           {
            "bin_end": 4.8999999999999995,
            "bin_start": 4.199999999999999,
            "count": 0
           },
           {
            "bin_end": 5.6,
            "bin_start": 4.8999999999999995,
            "count": 16
           },
           {
            "bin_end": 6.3,
            "bin_start": 5.6,
            "count": 5
           },
           {
            "bin_end": 7,
            "bin_start": 6.3,
            "count": 1
           }
          ],
          "max": "7",
          "min": "0",
          "nan_count": 0,
          "unique_count": 8
         }
        },
        {
         "dtype": "int64",
         "name": "thal",
         "stats": {
          "histogram": [
           {
            "bin_end": 0.5,
            "bin_start": 0,
            "count": 1
           },
           {
            "bin_end": 1,
            "bin_start": 0.5,
            "count": 0
           },
           {
            "bin_end": 1.5,
            "bin_start": 1,
            "count": 5
           },
           {
            "bin_end": 2,
            "bin_start": 1.5,
            "count": 0
           },
           {
            "bin_end": 2.5,
            "bin_start": 2,
            "count": 71
           },
           {
            "bin_end": 3,
            "bin_start": 2.5,
            "count": 0
           },
           {
            "bin_end": 3.5,
            "bin_start": 3,
            "count": 94
           },
           {
            "bin_end": 4,
            "bin_start": 3.5,
            "count": 0
           },
           {
            "bin_end": 4.5,
            "bin_start": 4,
            "count": 94
           },
           {
            "bin_end": 5,
            "bin_start": 4.5,
            "count": 38
           }
          ],
          "max": "5",
          "min": "0",
          "nan_count": 0,
          "unique_count": 6
         }
        },
        {
         "dtype": "int64",
         "name": "chol_fbs",
         "stats": {
          "histogram": [
           {
            "bin_end": 49.6,
            "bin_start": 1,
            "count": 138
           },
           {
            "bin_end": 98.2,
            "bin_start": 49.6,
            "count": 120
           },
           {
            "bin_end": 146.8,
            "bin_start": 98.2,
            "count": 0
           },
           {
            "bin_end": 195.4,
            "bin_start": 146.8,
            "count": 0
           },
           {
            "bin_end": 244,
            "bin_start": 195.4,
            "count": 10
           },
           {
            "bin_end": 292.6,
            "bin_start": 244,
            "count": 13
           },
           {
            "bin_end": 341.2,
            "bin_start": 292.6,
            "count": 12
           },
           {
            "bin_end": 389.8,
            "bin_start": 341.2,
            "count": 7
           },
           {
            "bin_end": 438.40000000000003,
            "bin_start": 389.8,
            "count": 2
           },
           {
            "bin_end": 487,
            "bin_start": 438.40000000000003,
            "count": 1
           }
          ],
          "max": "487",
          "min": "1",
          "nan_count": 0,
          "unique_count": 124
         }
        },
        {
         "dtype": "int64",
         "name": "target",
         "stats": {
          "histogram": [
           {
            "bin_end": 0.1,
            "bin_start": 0,
            "count": 138
           },
           {
            "bin_end": 0.2,
            "bin_start": 0.1,
            "count": 0
           },
           {
            "bin_end": 0.30000000000000004,
            "bin_start": 0.2,
            "count": 0
           },
           {
            "bin_end": 0.4,
            "bin_start": 0.30000000000000004,
            "count": 0
           },
           {
            "bin_end": 0.5,
            "bin_start": 0.4,
            "count": 0
           },
           {
            "bin_end": 0.6000000000000001,
            "bin_start": 0.5,
            "count": 0
           },
           {
            "bin_end": 0.7000000000000001,
            "bin_start": 0.6000000000000001,
            "count": 0
           },
           {
            "bin_end": 0.8,
            "bin_start": 0.7000000000000001,
            "count": 0
           },
           {
            "bin_end": 0.9,
            "bin_start": 0.8,
            "count": 0
           },
           {
            "bin_end": 1,
            "bin_start": 0.9,
            "count": 165
           }
          ],
          "max": "1",
          "min": "0",
          "nan_count": 0,
          "unique_count": 2
         }
        },
        {
         "dtype": "int64",
         "name": "_deepnote_index_column"
        }
       ],
       "row_count": 303,
       "rows_bottom": [
        {
         "_deepnote_index_column": 270,
         "age": 48,
         "ca": 0,
         "chol": 296,
         "chol_fbs": 65,
         "cp": 2,
         "exang": 0,
         "fbs": 0,
         "oldpeak": 2,
         "restecg": 0,
         "sex": 1,
         "slope": 3,
         "target": 0,
         "thal": 5,
         "thalach": 162,
         "trestbps": 123
        },
        {
         "_deepnote_index_column": 271,
         "age": 69,
         "ca": 2,
         "chol": 263,
         "chol_fbs": 19,
         "cp": 3,
         "exang": 0,
         "fbs": 0,
         "oldpeak": 3.7,
         "restecg": 1,
         "sex": 1,
         "slope": 2,
         "target": 0,
         "thal": 4,
         "thalach": 158,
         "trestbps": 144
        },
        {
         "_deepnote_index_column": 272,
         "age": 68,
         "ca": 1,
         "chol": 280,
         "chol_fbs": 14,
         "cp": 2,
         "exang": 0,
         "fbs": 0,
         "oldpeak": 2,
         "restecg": 2,
         "sex": 1,
         "slope": 2,
         "target": 0,
         "thal": 4,
         "thalach": 87,
         "trestbps": 132
        },
        {
         "_deepnote_index_column": 273,
         "age": 65,
         "ca": 3,
         "chol": 244,
         "chol_fbs": 28,
         "cp": 0,
         "exang": 0,
         "fbs": 0,
         "oldpeak": 1.2,
         "restecg": 2,
         "sex": 1,
         "slope": 3,
         "target": 0,
         "thal": 4,
         "thalach": 167,
         "trestbps": 115
        },
        {
         "_deepnote_index_column": 274,
         "age": 48,
         "ca": 1,
         "chol": 301,
         "chol_fbs": 1,
         "cp": 1,
         "exang": 1,
         "fbs": 0,
         "oldpeak": 2.1,
         "restecg": 1,
         "sex": 1,
         "slope": 2,
         "target": 0,
         "thal": 4,
         "thalach": 126,
         "trestbps": 113
        },
        {
         "_deepnote_index_column": 275,
         "age": 59,
         "ca": 4,
         "chol": 224,
         "chol_fbs": 8,
         "cp": 0,
         "exang": 0,
         "fbs": 0,
         "oldpeak": 2,
         "restecg": 1,
         "sex": 1,
         "slope": 3,
         "target": 0,
         "thal": 4,
         "thalach": 175,
         "trestbps": 133
        },
        {
         "_deepnote_index_column": 276,
         "age": 61,
         "ca": 1,
         "chol": 223,
         "chol_fbs": 5,
         "cp": 1,
         "exang": 0,
         "fbs": 0,
         "oldpeak": 3.1,
         "restecg": 2,
         "sex": 1,
         "slope": 2,
         "target": 0,
         "thal": 5,
         "thalach": 120,
         "trestbps": 155
        },
        {
         "_deepnote_index_column": 277,
         "age": 59,
         "ca": 0,
         "chol": 287,
         "chol_fbs": 13,
         "cp": 2,
         "exang": 0,
         "fbs": 0,
         "oldpeak": 1.4,
         "restecg": 2,
         "sex": 1,
         "slope": 3,
         "target": 0,
         "thal": 3,
         "thalach": 162,
         "trestbps": 136
        },
        {
         "_deepnote_index_column": 278,
         "age": 66,
         "ca": 2,
         "chol": 358,
         "chol_fbs": 389,
         "cp": 1,
         "exang": 0,
         "fbs": 1,
         "oldpeak": 1.1,
         "restecg": 0,
         "sex": 0,
         "slope": 3,
         "target": 0,
         "thal": 3,
         "thalach": 161,
         "trestbps": 139
        },
        {
         "_deepnote_index_column": 279,
         "age": 69,
         "ca": 3,
         "chol": 171,
         "chol_fbs": 25,
         "cp": 2,
         "exang": 1,
         "fbs": 0,
         "oldpeak": 4.6,
         "restecg": 0,
         "sex": 1,
         "slope": 2,
         "target": 0,
         "thal": 3,
         "thalach": 142,
         "trestbps": 151
        },
        {
         "_deepnote_index_column": 280,
         "age": 46,
         "ca": 2,
         "chol": 317,
         "chol_fbs": 7,
         "cp": 1,
         "exang": 1,
         "fbs": 0,
         "oldpeak": 2.8,
         "restecg": 1,
         "sex": 1,
         "slope": 2,
         "target": 0,
         "thal": 3,
         "thalach": 134,
         "trestbps": 152
        },
        {
         "_deepnote_index_column": 281,
         "age": 61,
         "ca": 0,
         "chol": 220,
         "chol_fbs": 256,
         "cp": 1,
         "exang": 1,
         "fbs": 1,
         "oldpeak": 2,
         "restecg": 1,
         "sex": 1,
         "slope": 2,
         "target": 0,
         "thal": 1,
         "thalach": 176,
         "trestbps": 137
        },
        {
         "_deepnote_index_column": 282,
         "age": 66,
         "ca": 3,
         "chol": 219,
         "chol_fbs": 297,
         "cp": 2,
         "exang": 0,
         "fbs": 1,
         "oldpeak": 3.2,
         "restecg": 2,
         "sex": 1,
         "slope": 2,
         "target": 0,
         "thal": 2,
         "thalach": 156,
         "trestbps": 133
        },
        {
         "_deepnote_index_column": 283,
         "age": 48,
         "ca": 1,
         "chol": 244,
         "chol_fbs": 46,
         "cp": 2,
         "exang": 0,
         "fbs": 0,
         "oldpeak": 1.1,
         "restecg": 2,
         "sex": 1,
         "slope": 3,
         "target": 0,
         "thal": 3,
         "thalach": 187,
         "trestbps": 169
        },
        {
         "_deepnote_index_column": 284,
         "age": 70,
         "ca": 2,
         "chol": 239,
         "chol_fbs": 72,
         "cp": 0,
         "exang": 1,
         "fbs": 0,
         "oldpeak": 3,
         "restecg": 0,
         "sex": 1,
         "slope": 3,
         "target": 0,
         "thal": 5,
         "thalach": 142,
         "trestbps": 148
        },
        {
         "_deepnote_index_column": 285,
         "age": 50,
         "ca": 3,
         "chol": 314,
         "chol_fbs": 30,
         "cp": 1,
         "exang": 1,
         "fbs": 0,
         "oldpeak": 2.9,
         "restecg": 2,
         "sex": 1,
         "slope": 2,
         "target": 0,
         "thal": 5,
         "thalach": 131,
         "trestbps": 144
        },
        {
         "_deepnote_index_column": 286,
         "age": 65,
         "ca": 5,
         "chol": 222,
         "chol_fbs": 83,
         "cp": 3,
         "exang": 0,
         "fbs": 0,
         "oldpeak": 1.9,
         "restecg": 2,
         "sex": 1,
         "slope": 3,
         "target": 0,
         "thal": 2,
         "thalach": 178,
         "trestbps": 150
        },
        {
         "_deepnote_index_column": 287,
         "age": 61,
         "ca": 4,
         "chol": 281,
         "chol_fbs": 90,
         "cp": 3,
         "exang": 0,
         "fbs": 0,
         "oldpeak": 1.1,
         "restecg": 0,
         "sex": 1,
         "slope": 3,
         "target": 0,
         "thal": 3,
         "thalach": 167,
         "trestbps": 158
        },
        {
         "_deepnote_index_column": 288,
         "age": 61,
         "ca": 1,
         "chol": 362,
         "chol_fbs": 53,
         "cp": 1,
         "exang": 1,
         "fbs": 0,
         "oldpeak": 4.1,
         "restecg": 2,
         "sex": 1,
         "slope": 2,
         "target": 0,
         "thal": 5,
         "thalach": 152,
         "trestbps": 122
        },
        {
         "_deepnote_index_column": 289,
         "age": 62,
         "ca": 3,
         "chol": 211,
         "chol_fbs": 65,
         "cp": 1,
         "exang": 1,
         "fbs": 0,
         "oldpeak": 3.1,
         "restecg": 2,
         "sex": 0,
         "slope": 2,
         "target": 0,
         "thal": 3,
         "thalach": 135,
         "trestbps": 133
        },
        {
         "_deepnote_index_column": 290,
         "age": 68,
         "ca": 1,
         "chol": 213,
         "chol_fbs": 21,
         "cp": 2,
         "exang": 0,
         "fbs": 0,
         "oldpeak": 1,
         "restecg": 1,
         "sex": 1,
         "slope": 3,
         "target": 0,
         "thal": 4,
         "thalach": 166,
         "trestbps": 162
        },
        {
         "_deepnote_index_column": 291,
         "age": 60,
         "ca": 4,
         "chol": 337,
         "chol_fbs": 63,
         "cp": 1,
         "exang": 0,
         "fbs": 0,
         "oldpeak": 5.5,
         "restecg": 2,
         "sex": 1,
         "slope": 1,
         "target": 0,
         "thal": 2,
         "thalach": 158,
         "trestbps": 123
        },
        {
         "_deepnote_index_column": 292,
         "age": 65,
         "ca": 4,
         "chol": 272,
         "chol_fbs": 272,
         "cp": 0,
         "exang": 1,
         "fbs": 1,
         "oldpeak": 3.9,
         "restecg": 1,
         "sex": 0,
         "slope": 2,
         "target": 0,
         "thal": 3,
         "thalach": 155,
         "trestbps": 173
        },
        {
         "_deepnote_index_column": 293,
         "age": 76,
         "ca": 1,
         "chol": 242,
         "chol_fbs": 71,
         "cp": 4,
         "exang": 0,
         "fbs": 0,
         "oldpeak": 1.9,
         "restecg": 1,
         "sex": 1,
         "slope": 2,
         "target": 0,
         "thal": 3,
         "thalach": 153,
         "trestbps": 166
        },
        {
         "_deepnote_index_column": 294,
         "age": 48,
         "ca": 3,
         "chol": 195,
         "chol_fbs": 66,
         "cp": 2,
         "exang": 1,
         "fbs": 0,
         "oldpeak": 3.9,
         "restecg": 2,
         "sex": 1,
         "slope": 1,
         "target": 0,
         "thal": 1,
         "thalach": 152,
         "trestbps": 125
        },
        {
         "_deepnote_index_column": 295,
         "age": 68,
         "ca": 2,
         "chol": 225,
         "chol_fbs": 7,
         "cp": 0,
         "exang": 1,
         "fbs": 0,
         "oldpeak": 5.1,
         "restecg": 1,
         "sex": 1,
         "slope": 3,
         "target": 0,
         "thal": 5,
         "thalach": 155,
         "trestbps": 146
        },
        {
         "_deepnote_index_column": 296,
         "age": 69,
         "ca": 3,
         "chol": 207,
         "chol_fbs": 62,
         "cp": 0,
         "exang": 1,
         "fbs": 0,
         "oldpeak": 1.1,
         "restecg": 2,
         "sex": 0,
         "slope": 2,
         "target": 0,
         "thal": 4,
         "thalach": 150,
         "trestbps": 131
        },
        {
         "_deepnote_index_column": 297,
         "age": 63,
         "ca": 2,
         "chol": 227,
         "chol_fbs": 244,
         "cp": 1,
         "exang": 0,
         "fbs": 1,
         "oldpeak": 2.1,
         "restecg": 0,
         "sex": 1,
         "slope": 2,
         "target": 0,
         "thal": 2,
         "thalach": 103,
         "trestbps": 180
        },
        {
         "_deepnote_index_column": 298,
         "age": 63,
         "ca": 1,
         "chol": 271,
         "chol_fbs": 65,
         "cp": 0,
         "exang": 1,
         "fbs": 0,
         "oldpeak": 1.3,
         "restecg": 1,
         "sex": 0,
         "slope": 2,
         "target": 0,
         "thal": 4,
         "thalach": 133,
         "trestbps": 151
        },
        {
         "_deepnote_index_column": 299,
         "age": 51,
         "ca": 2,
         "chol": 268,
         "chol_fbs": 75,
         "cp": 5,
         "exang": 0,
         "fbs": 0,
         "oldpeak": 2.3,
         "restecg": 1,
         "sex": 1,
         "slope": 2,
         "target": 0,
         "thal": 5,
         "thalach": 153,
         "trestbps": 116
        },
        {
         "_deepnote_index_column": 300,
         "age": 73,
         "ca": 2,
         "chol": 240,
         "chol_fbs": 247,
         "cp": 1,
         "exang": 0,
         "fbs": 1,
         "oldpeak": 4.5,
         "restecg": 2,
         "sex": 1,
         "slope": 2,
         "target": 0,
         "thal": 4,
         "thalach": 162,
         "trestbps": 154
        },
        {
         "_deepnote_index_column": 301,
         "age": 62,
         "ca": 1,
         "chol": 148,
         "chol_fbs": 74,
         "cp": 1,
         "exang": 1,
         "fbs": 0,
         "oldpeak": 2.3,
         "restecg": 2,
         "sex": 1,
         "slope": 2,
         "target": 0,
         "thal": 5,
         "thalach": 122,
         "trestbps": 142
        },
        {
         "_deepnote_index_column": 302,
         "age": 61,
         "ca": 3,
         "chol": 271,
         "chol_fbs": 72,
         "cp": 1,
         "exang": 0,
         "fbs": 0,
         "oldpeak": 1.1,
         "restecg": 1,
         "sex": 0,
         "slope": 2,
         "target": 0,
         "thal": 4,
         "thalach": 180,
         "trestbps": 140
        }
       ],
       "rows_top": [
        {
         "_deepnote_index_column": 0,
         "age": 68,
         "ca": 2,
         "chol": 241,
         "chol_fbs": 237,
         "cp": 4,
         "exang": 0,
         "fbs": 1,
         "oldpeak": 3.4,
         "restecg": 1,
         "sex": 1,
         "slope": 1,
         "target": 1,
         "thal": 1,
         "thalach": 163,
         "trestbps": 148
        },
        {
         "_deepnote_index_column": 1,
         "age": 40,
         "ca": 1,
         "chol": 254,
         "chol_fbs": 78,
         "cp": 4,
         "exang": 0,
         "fbs": 0,
         "oldpeak": 4.6,
         "restecg": 2,
         "sex": 1,
         "slope": 1,
         "target": 1,
         "thal": 4,
         "thalach": 202,
         "trestbps": 138
        },
        {
         "_deepnote_index_column": 2,
         "age": 46,
         "ca": 0,
         "chol": 216,
         "chol_fbs": 53,
         "cp": 2,
         "exang": 0,
         "fbs": 0,
         "oldpeak": 2.5,
         "restecg": 0,
         "sex": 0,
         "slope": 3,
         "target": 1,
         "thal": 4,
         "thalach": 179,
         "trestbps": 139
        },
        {
         "_deepnote_index_column": 3,
         "age": 59,
         "ca": 0,
         "chol": 286,
         "chol_fbs": 50,
         "cp": 1,
         "exang": 0,
         "fbs": 0,
         "oldpeak": 1.9,
         "restecg": 2,
         "sex": 1,
         "slope": 3,
         "target": 1,
         "thal": 3,
         "thalach": 197,
         "trestbps": 128
        },
        {
         "_deepnote_index_column": 4,
         "age": 59,
         "ca": 1,
         "chol": 372,
         "chol_fbs": 39,
         "cp": 1,
         "exang": 1,
         "fbs": 0,
         "oldpeak": 1.7,
         "restecg": 2,
         "sex": 0,
         "slope": 3,
         "target": 1,
         "thal": 2,
         "thalach": 181,
         "trestbps": 121
        },
        {
         "_deepnote_index_column": 5,
         "age": 58,
         "ca": 3,
         "chol": 211,
         "chol_fbs": 76,
         "cp": 0,
         "exang": 0,
         "fbs": 0,
         "oldpeak": 1.5,
         "restecg": 1,
         "sex": 1,
         "slope": 2,
         "target": 1,
         "thal": 3,
         "thalach": 156,
         "trestbps": 146
        },
        {
         "_deepnote_index_column": 6,
         "age": 60,
         "ca": 2,
         "chol": 297,
         "chol_fbs": 3,
         "cp": 2,
         "exang": 0,
         "fbs": 0,
         "oldpeak": 2.4,
         "restecg": 1,
         "sex": 0,
         "slope": 2,
         "target": 1,
         "thal": 2,
         "thalach": 157,
         "trestbps": 144
        },
        {
         "_deepnote_index_column": 7,
         "age": 45,
         "ca": 1,
         "chol": 312,
         "chol_fbs": 12,
         "cp": 2,
         "exang": 0,
         "fbs": 0,
         "oldpeak": 1.1,
         "restecg": 1,
         "sex": 1,
         "slope": 3,
         "target": 1,
         "thal": 5,
         "thalach": 174,
         "trestbps": 125
        },
        {
         "_deepnote_index_column": 8,
         "age": 59,
         "ca": 2,
         "chol": 237,
         "chol_fbs": 230,
         "cp": 4,
         "exang": 0,
         "fbs": 1,
         "oldpeak": 1.5,
         "restecg": 2,
         "sex": 1,
         "slope": 3,
         "target": 1,
         "thal": 3,
         "thalach": 164,
         "trestbps": 180
        },
        {
         "_deepnote_index_column": 9,
         "age": 60,
         "ca": 1,
         "chol": 199,
         "chol_fbs": 66,
         "cp": 2,
         "exang": 0,
         "fbs": 0,
         "oldpeak": 2.6,
         "restecg": 2,
         "sex": 1,
         "slope": 3,
         "target": 1,
         "thal": 4,
         "thalach": 196,
         "trestbps": 163
        },
        {
         "_deepnote_index_column": 10,
         "age": 55,
         "ca": 2,
         "chol": 270,
         "chol_fbs": 15,
         "cp": 0,
         "exang": 0,
         "fbs": 0,
         "oldpeak": 2.3,
         "restecg": 1,
         "sex": 1,
         "slope": 3,
         "target": 1,
         "thal": 2,
         "thalach": 170,
         "trestbps": 145
        },
        {
         "_deepnote_index_column": 11,
         "age": 55,
         "ca": 0,
         "chol": 292,
         "chol_fbs": 46,
         "cp": 3,
         "exang": 0,
         "fbs": 0,
         "oldpeak": 1.2,
         "restecg": 1,
         "sex": 0,
         "slope": 3,
         "target": 1,
         "thal": 3,
         "thalach": 149,
         "trestbps": 140
        },
        {
         "_deepnote_index_column": 12,
         "age": 53,
         "ca": 3,
         "chol": 293,
         "chol_fbs": 52,
         "cp": 1,
         "exang": 0,
         "fbs": 0,
         "oldpeak": 1.7,
         "restecg": 1,
         "sex": 1,
         "slope": 3,
         "target": 1,
         "thal": 3,
         "thalach": 187,
         "trestbps": 137
        },
        {
         "_deepnote_index_column": 13,
         "age": 71,
         "ca": 3,
         "chol": 233,
         "chol_fbs": 82,
         "cp": 4,
         "exang": 1,
         "fbs": 0,
         "oldpeak": 2.9,
         "restecg": 0,
         "sex": 1,
         "slope": 2,
         "target": 1,
         "thal": 4,
         "thalach": 145,
         "trestbps": 117
        },
        {
         "_deepnote_index_column": 14,
         "age": 65,
         "ca": 0,
         "chol": 329,
         "chol_fbs": 359,
         "cp": 4,
         "exang": 0,
         "fbs": 1,
         "oldpeak": 2.1,
         "restecg": 0,
         "sex": 0,
         "slope": 3,
         "target": 1,
         "thal": 2,
         "thalach": 177,
         "trestbps": 155
        },
        {
         "_deepnote_index_column": 15,
         "age": 58,
         "ca": 2,
         "chol": 241,
         "chol_fbs": 86,
         "cp": 4,
         "exang": 0,
         "fbs": 0,
         "oldpeak": 2.6,
         "restecg": 2,
         "sex": 0,
         "slope": 2,
         "target": 1,
         "thal": 4,
         "thalach": 180,
         "trestbps": 124
        },
        {
         "_deepnote_index_column": 16,
         "age": 67,
         "ca": 0,
         "chol": 343,
         "chol_fbs": 75,
         "cp": 3,
         "exang": 0,
         "fbs": 0,
         "oldpeak": 1.1,
         "restecg": 2,
         "sex": 0,
         "slope": 3,
         "target": 1,
         "thal": 2,
         "thalach": 191,
         "trestbps": 124
        },
        {
         "_deepnote_index_column": 17,
         "age": 68,
         "ca": 0,
         "chol": 241,
         "chol_fbs": 2,
         "cp": 5,
         "exang": 0,
         "fbs": 0,
         "oldpeak": 3.7,
         "restecg": 2,
         "sex": 0,
         "slope": 1,
         "target": 1,
         "thal": 2,
         "thalach": 119,
         "trestbps": 152
        },
        {
         "_deepnote_index_column": 18,
         "age": 47,
         "ca": 1,
         "chol": 261,
         "chol_fbs": 39,
         "cp": 2,
         "exang": 0,
         "fbs": 0,
         "oldpeak": 2.6,
         "restecg": 1,
         "sex": 1,
         "slope": 3,
         "target": 1,
         "thal": 2,
         "thalach": 181,
         "trestbps": 157
        },
        {
         "_deepnote_index_column": 19,
         "age": 70,
         "ca": 5,
         "chol": 287,
         "chol_fbs": 42,
         "cp": 4,
         "exang": 0,
         "fbs": 0,
         "oldpeak": 2.8,
         "restecg": 1,
         "sex": 0,
         "slope": 3,
         "target": 1,
         "thal": 3,
         "thalach": 163,
         "trestbps": 153
        },
        {
         "_deepnote_index_column": 20,
         "age": 62,
         "ca": 0,
         "chol": 258,
         "chol_fbs": 78,
         "cp": 2,
         "exang": 0,
         "fbs": 0,
         "oldpeak": 1.6,
         "restecg": 2,
         "sex": 1,
         "slope": 2,
         "target": 1,
         "thal": 5,
         "thalach": 168,
         "trestbps": 145
        },
        {
         "_deepnote_index_column": 21,
         "age": 46,
         "ca": 1,
         "chol": 268,
         "chol_fbs": 74,
         "cp": 2,
         "exang": 1,
         "fbs": 0,
         "oldpeak": 1.4,
         "restecg": 1,
         "sex": 1,
         "slope": 3,
         "target": 1,
         "thal": 4,
         "thalach": 188,
         "trestbps": 136
        },
        {
         "_deepnote_index_column": 22,
         "age": 46,
         "ca": 3,
         "chol": 266,
         "chol_fbs": 72,
         "cp": 0,
         "exang": 0,
         "fbs": 0,
         "oldpeak": 1.1,
         "restecg": 1,
         "sex": 1,
         "slope": 3,
         "target": 1,
         "thal": 4,
         "thalach": 195,
         "trestbps": 144
        },
        {
         "_deepnote_index_column": 23,
         "age": 67,
         "ca": 0,
         "chol": 285,
         "chol_fbs": 269,
         "cp": 2,
         "exang": 1,
         "fbs": 1,
         "oldpeak": 2.1,
         "restecg": 2,
         "sex": 1,
         "slope": 2,
         "target": 1,
         "thal": 4,
         "thalach": 140,
         "trestbps": 163
        },
        {
         "_deepnote_index_column": 24,
         "age": 45,
         "ca": 3,
         "chol": 242,
         "chol_fbs": 10,
         "cp": 4,
         "exang": 1,
         "fbs": 0,
         "oldpeak": 2.4,
         "restecg": 1,
         "sex": 1,
         "slope": 3,
         "target": 1,
         "thal": 4,
         "thalach": 193,
         "trestbps": 154
        },
        {
         "_deepnote_index_column": 25,
         "age": 76,
         "ca": 4,
         "chol": 343,
         "chol_fbs": 16,
         "cp": 1,
         "exang": 0,
         "fbs": 0,
         "oldpeak": 1.5,
         "restecg": 2,
         "sex": 0,
         "slope": 3,
         "target": 1,
         "thal": 2,
         "thalach": 179,
         "trestbps": 176
        },
        {
         "_deepnote_index_column": 26,
         "age": 62,
         "ca": 0,
         "chol": 239,
         "chol_fbs": 224,
         "cp": 2,
         "exang": 0,
         "fbs": 1,
         "oldpeak": 2.7,
         "restecg": 1,
         "sex": 1,
         "slope": 3,
         "target": 1,
         "thal": 2,
         "thalach": 162,
         "trestbps": 166
        },
        {
         "_deepnote_index_column": 27,
         "age": 54,
         "ca": 1,
         "chol": 182,
         "chol_fbs": 13,
         "cp": 2,
         "exang": 0,
         "fbs": 0,
         "oldpeak": 1.7,
         "restecg": 2,
         "sex": 1,
         "slope": 3,
         "target": 1,
         "thal": 3,
         "thalach": 127,
         "trestbps": 117
        },
        {
         "_deepnote_index_column": 28,
         "age": 66,
         "ca": 4,
         "chol": 455,
         "chol_fbs": 487,
         "cp": 3,
         "exang": 0,
         "fbs": 1,
         "oldpeak": 1.8,
         "restecg": 1,
         "sex": 0,
         "slope": 3,
         "target": 1,
         "thal": 4,
         "thalach": 176,
         "trestbps": 157
        },
        {
         "_deepnote_index_column": 29,
         "age": 55,
         "ca": 1,
         "chol": 208,
         "chol_fbs": 267,
         "cp": 2,
         "exang": 0,
         "fbs": 1,
         "oldpeak": 2.3,
         "restecg": 0,
         "sex": 1,
         "slope": 1,
         "target": 1,
         "thal": 2,
         "thalach": 157,
         "trestbps": 141
        },
        {
         "_deepnote_index_column": 30,
         "age": 50,
         "ca": 4,
         "chol": 222,
         "chol_fbs": 68,
         "cp": 2,
         "exang": 0,
         "fbs": 0,
         "oldpeak": 1.1,
         "restecg": 2,
         "sex": 0,
         "slope": 3,
         "target": 1,
         "thal": 2,
         "thalach": 187,
         "trestbps": 122
        },
        {
         "_deepnote_index_column": 31,
         "age": 70,
         "ca": 1,
         "chol": 223,
         "chol_fbs": 50,
         "cp": 2,
         "exang": 0,
         "fbs": 0,
         "oldpeak": 1.6,
         "restecg": 1,
         "sex": 1,
         "slope": 3,
         "target": 1,
         "thal": 4,
         "thalach": 159,
         "trestbps": 131
        },
        {
         "_deepnote_index_column": 32,
         "age": 47,
         "ca": 3,
         "chol": 228,
         "chol_fbs": 21,
         "cp": 3,
         "exang": 0,
         "fbs": 0,
         "oldpeak": 1.2,
         "restecg": 1,
         "sex": 1,
         "slope": 3,
         "target": 1,
         "thal": 2,
         "thalach": 193,
         "trestbps": 140
        }
       ]
      },
      "text/html": [
       "<div>\n",
       "<style scoped>\n",
       "    .dataframe tbody tr th:only-of-type {\n",
       "        vertical-align: middle;\n",
       "    }\n",
       "\n",
       "    .dataframe tbody tr th {\n",
       "        vertical-align: top;\n",
       "    }\n",
       "\n",
       "    .dataframe thead th {\n",
       "        text-align: right;\n",
       "    }\n",
       "</style>\n",
       "<table border=\"1\" class=\"dataframe\">\n",
       "  <thead>\n",
       "    <tr style=\"text-align: right;\">\n",
       "      <th></th>\n",
       "      <th>age</th>\n",
       "      <th>sex</th>\n",
       "      <th>cp</th>\n",
       "      <th>trestbps</th>\n",
       "      <th>chol</th>\n",
       "      <th>fbs</th>\n",
       "      <th>restecg</th>\n",
       "      <th>thalach</th>\n",
       "      <th>exang</th>\n",
       "      <th>oldpeak</th>\n",
       "      <th>slope</th>\n",
       "      <th>ca</th>\n",
       "      <th>thal</th>\n",
       "      <th>chol_fbs</th>\n",
       "      <th>target</th>\n",
       "    </tr>\n",
       "  </thead>\n",
       "  <tbody>\n",
       "    <tr>\n",
       "      <th>0</th>\n",
       "      <td>68</td>\n",
       "      <td>1</td>\n",
       "      <td>4</td>\n",
       "      <td>148</td>\n",
       "      <td>241</td>\n",
       "      <td>1</td>\n",
       "      <td>1</td>\n",
       "      <td>163</td>\n",
       "      <td>0</td>\n",
       "      <td>3.4</td>\n",
       "      <td>1</td>\n",
       "      <td>2</td>\n",
       "      <td>1</td>\n",
       "      <td>237</td>\n",
       "      <td>1</td>\n",
       "    </tr>\n",
       "    <tr>\n",
       "      <th>1</th>\n",
       "      <td>40</td>\n",
       "      <td>1</td>\n",
       "      <td>4</td>\n",
       "      <td>138</td>\n",
       "      <td>254</td>\n",
       "      <td>0</td>\n",
       "      <td>2</td>\n",
       "      <td>202</td>\n",
       "      <td>0</td>\n",
       "      <td>4.6</td>\n",
       "      <td>1</td>\n",
       "      <td>1</td>\n",
       "      <td>4</td>\n",
       "      <td>78</td>\n",
       "      <td>1</td>\n",
       "    </tr>\n",
       "    <tr>\n",
       "      <th>2</th>\n",
       "      <td>46</td>\n",
       "      <td>0</td>\n",
       "      <td>2</td>\n",
       "      <td>139</td>\n",
       "      <td>216</td>\n",
       "      <td>0</td>\n",
       "      <td>0</td>\n",
       "      <td>179</td>\n",
       "      <td>0</td>\n",
       "      <td>2.5</td>\n",
       "      <td>3</td>\n",
       "      <td>0</td>\n",
       "      <td>4</td>\n",
       "      <td>53</td>\n",
       "      <td>1</td>\n",
       "    </tr>\n",
       "    <tr>\n",
       "      <th>3</th>\n",
       "      <td>59</td>\n",
       "      <td>1</td>\n",
       "      <td>1</td>\n",
       "      <td>128</td>\n",
       "      <td>286</td>\n",
       "      <td>0</td>\n",
       "      <td>2</td>\n",
       "      <td>197</td>\n",
       "      <td>0</td>\n",
       "      <td>1.9</td>\n",
       "      <td>3</td>\n",
       "      <td>0</td>\n",
       "      <td>3</td>\n",
       "      <td>50</td>\n",
       "      <td>1</td>\n",
       "    </tr>\n",
       "    <tr>\n",
       "      <th>4</th>\n",
       "      <td>59</td>\n",
       "      <td>0</td>\n",
       "      <td>1</td>\n",
       "      <td>121</td>\n",
       "      <td>372</td>\n",
       "      <td>0</td>\n",
       "      <td>2</td>\n",
       "      <td>181</td>\n",
       "      <td>1</td>\n",
       "      <td>1.7</td>\n",
       "      <td>3</td>\n",
       "      <td>1</td>\n",
       "      <td>2</td>\n",
       "      <td>39</td>\n",
       "      <td>1</td>\n",
       "    </tr>\n",
       "    <tr>\n",
       "      <th>...</th>\n",
       "      <td>...</td>\n",
       "      <td>...</td>\n",
       "      <td>...</td>\n",
       "      <td>...</td>\n",
       "      <td>...</td>\n",
       "      <td>...</td>\n",
       "      <td>...</td>\n",
       "      <td>...</td>\n",
       "      <td>...</td>\n",
       "      <td>...</td>\n",
       "      <td>...</td>\n",
       "      <td>...</td>\n",
       "      <td>...</td>\n",
       "      <td>...</td>\n",
       "      <td>...</td>\n",
       "    </tr>\n",
       "    <tr>\n",
       "      <th>298</th>\n",
       "      <td>63</td>\n",
       "      <td>0</td>\n",
       "      <td>0</td>\n",
       "      <td>151</td>\n",
       "      <td>271</td>\n",
       "      <td>0</td>\n",
       "      <td>1</td>\n",
       "      <td>133</td>\n",
       "      <td>1</td>\n",
       "      <td>1.3</td>\n",
       "      <td>2</td>\n",
       "      <td>1</td>\n",
       "      <td>4</td>\n",
       "      <td>65</td>\n",
       "      <td>0</td>\n",
       "    </tr>\n",
       "    <tr>\n",
       "      <th>299</th>\n",
       "      <td>51</td>\n",
       "      <td>1</td>\n",
       "      <td>5</td>\n",
       "      <td>116</td>\n",
       "      <td>268</td>\n",
       "      <td>0</td>\n",
       "      <td>1</td>\n",
       "      <td>153</td>\n",
       "      <td>0</td>\n",
       "      <td>2.3</td>\n",
       "      <td>2</td>\n",
       "      <td>2</td>\n",
       "      <td>5</td>\n",
       "      <td>75</td>\n",
       "      <td>0</td>\n",
       "    </tr>\n",
       "    <tr>\n",
       "      <th>300</th>\n",
       "      <td>73</td>\n",
       "      <td>1</td>\n",
       "      <td>1</td>\n",
       "      <td>154</td>\n",
       "      <td>240</td>\n",
       "      <td>1</td>\n",
       "      <td>2</td>\n",
       "      <td>162</td>\n",
       "      <td>0</td>\n",
       "      <td>4.5</td>\n",
       "      <td>2</td>\n",
       "      <td>2</td>\n",
       "      <td>4</td>\n",
       "      <td>247</td>\n",
       "      <td>0</td>\n",
       "    </tr>\n",
       "    <tr>\n",
       "      <th>301</th>\n",
       "      <td>62</td>\n",
       "      <td>1</td>\n",
       "      <td>1</td>\n",
       "      <td>142</td>\n",
       "      <td>148</td>\n",
       "      <td>0</td>\n",
       "      <td>2</td>\n",
       "      <td>122</td>\n",
       "      <td>1</td>\n",
       "      <td>2.3</td>\n",
       "      <td>2</td>\n",
       "      <td>1</td>\n",
       "      <td>5</td>\n",
       "      <td>74</td>\n",
       "      <td>0</td>\n",
       "    </tr>\n",
       "    <tr>\n",
       "      <th>302</th>\n",
       "      <td>61</td>\n",
       "      <td>0</td>\n",
       "      <td>1</td>\n",
       "      <td>140</td>\n",
       "      <td>271</td>\n",
       "      <td>0</td>\n",
       "      <td>1</td>\n",
       "      <td>180</td>\n",
       "      <td>0</td>\n",
       "      <td>1.1</td>\n",
       "      <td>2</td>\n",
       "      <td>3</td>\n",
       "      <td>4</td>\n",
       "      <td>72</td>\n",
       "      <td>0</td>\n",
       "    </tr>\n",
       "  </tbody>\n",
       "</table>\n",
       "<p>303 rows × 15 columns</p>\n",
       "</div>"
      ],
      "text/plain": [
       "     age  sex  cp  trestbps  chol  fbs  restecg  thalach  exang  oldpeak  \\\n",
       "0     68    1   4       148   241    1        1      163      0      3.4   \n",
       "1     40    1   4       138   254    0        2      202      0      4.6   \n",
       "2     46    0   2       139   216    0        0      179      0      2.5   \n",
       "3     59    1   1       128   286    0        2      197      0      1.9   \n",
       "4     59    0   1       121   372    0        2      181      1      1.7   \n",
       "..   ...  ...  ..       ...   ...  ...      ...      ...    ...      ...   \n",
       "298   63    0   0       151   271    0        1      133      1      1.3   \n",
       "299   51    1   5       116   268    0        1      153      0      2.3   \n",
       "300   73    1   1       154   240    1        2      162      0      4.5   \n",
       "301   62    1   1       142   148    0        2      122      1      2.3   \n",
       "302   61    0   1       140   271    0        1      180      0      1.1   \n",
       "\n",
       "     slope  ca  thal  chol_fbs  target  \n",
       "0        1   2     1       237       1  \n",
       "1        1   1     4        78       1  \n",
       "2        3   0     4        53       1  \n",
       "3        3   0     3        50       1  \n",
       "4        3   1     2        39       1  \n",
       "..     ...  ..   ...       ...     ...  \n",
       "298      2   1     4        65       0  \n",
       "299      2   2     5        75       0  \n",
       "300      2   2     4       247       0  \n",
       "301      2   1     5        74       0  \n",
       "302      2   3     4        72       0  \n",
       "\n",
       "[303 rows x 15 columns]"
      ]
     },
     "execution_count": 11,
     "metadata": {},
     "output_type": "execute_result"
    }
   ],
   "source": [
    "dataset=[]\n",
    "np.random.seed(0)\n",
    "for _ in range(1):\n",
    "\n",
    "    for _,row in df.iterrows():\n",
    "        temp={\n",
    "            \"age\": round(row['age']+np.random.uniform(age_s),0).astype(int),\n",
    "            \n",
    "            #\"sex\": round(row['sex']+np.random.uniform(sex_s),0),\n",
    "            \"sex\": int(row['sex']+np.random.randint(0,1)),\n",
    "            \n",
    "            \"cp\": int(row['cp']+np.random.randint(0,3)),\n",
    "            \"trestbps\": int(row['trestbps']+np.random.uniform(trestbps_s)),\n",
    "            \"chol\": int(row['chol']+np.random.uniform(chol_s)),\n",
    "            \"fbs\": int(row['fbs']+np.random.randint(0,1)),\n",
    "            \"restecg\": int(row['restecg']+np.random.randint(0,2)),\n",
    "            \"thalach\": int(row['thalach']+np.random.uniform(thalach_s)),\n",
    "            \"exang\": int(row['exang']+np.random.randint(0,1)),\n",
    "            \"oldpeak\": round(row['oldpeak']+np.random.uniform(oldpeak_s),1),\n",
    "            \"slope\": int(row['slope']+np.random.uniform(oldpeak_s)),\n",
    "            \"ca\": int(row['ca']+np.random.randint(0,4)),\n",
    "            \"thal\": int(row['thal']+np.random.randint(0,3)),\n",
    "\n",
    "            \"chol_fbs\": round(row['chol_fbs']+np.random.uniform(chol_fbs_s),0).astype(int),\n",
    "\n",
    "            \"target\": int(round(row['target']+np.random.uniform(target_s),0)),\n",
    "            \"target\": int(row['target']+np.random.randint(0,1)),\n",
    "          \n",
    "        }\n",
    "        dataset.append(temp)\n",
    "        \n",
    "\n",
    "print(len(dataset),\"augmented data created.\")\n",
    "df_aug=pd.DataFrame(dataset)\n",
    "df_aug"
   ]
  },
  {
   "cell_type": "code",
   "execution_count": 12,
   "metadata": {
    "cell_id": "00016-b849a44f-bbe9-42ac-8bab-1a1d32f50b7a",
    "deepnote_cell_type": "code",
    "deepnote_to_be_reexecuted": false,
    "execution_millis": 10,
    "execution_start": 1620564123473,
    "source_hash": "982670ed",
    "tags": []
   },
   "outputs": [
    {
     "data": {
      "text/plain": [
       "1    207\n",
       "0     96\n",
       "Name: sex, dtype: int64"
      ]
     },
     "execution_count": 12,
     "metadata": {},
     "output_type": "execute_result"
    }
   ],
   "source": [
    "df_aug.sex.value_counts()"
   ]
  },
  {
   "cell_type": "markdown",
   "metadata": {
    "cell_id": "00017-4d946a4f-791c-4cb5-817e-632751e1096a",
    "deepnote_cell_type": "markdown",
    "tags": []
   },
   "source": [
    "**25% augmented data**"
   ]
  },
  {
   "cell_type": "code",
   "execution_count": 13,
   "metadata": {
    "cell_id": "00017-496f7250-31d8-4180-8ecc-902b2c2c080e",
    "deepnote_cell_type": "code",
    "deepnote_to_be_reexecuted": false,
    "execution_millis": 53,
    "execution_start": 1620564123525,
    "source_hash": "b064bc8e",
    "tags": []
   },
   "outputs": [
    {
     "data": {
      "application/vnd.deepnote.dataframe.v2+json": {
       "column_count": 15,
       "columns": [
        {
         "dtype": "float64",
         "name": "age",
         "stats": {
          "histogram": [
           {
            "bin_end": 16.465915811698146,
            "bin_start": 9.295462012997941,
            "count": 1
           },
           {
            "bin_end": 23.636369610398354,
            "bin_start": 16.465915811698146,
            "count": 0
           },
           {
            "bin_end": 30.80682340909856,
            "bin_start": 23.636369610398354,
            "count": 0
           },
           {
            "bin_end": 37.977277207798764,
            "bin_start": 30.80682340909856,
            "count": 0
           },
           {
            "bin_end": 45.14773100649897,
            "bin_start": 37.977277207798764,
            "count": 1
           },
           {
            "bin_end": 52.31818480519918,
            "bin_start": 45.14773100649897,
            "count": 1
           },
           {
            "bin_end": 59.488638603899375,
            "bin_start": 52.31818480519918,
            "count": 2
           },
           {
            "bin_end": 66.65909240259958,
            "bin_start": 59.488638603899375,
            "count": 1
           },
           {
            "bin_end": 73.82954620129979,
            "bin_start": 66.65909240259958,
            "count": 0
           },
           {
            "bin_end": 81,
            "bin_start": 73.82954620129979,
            "count": 2
           }
          ],
          "max": "81.0",
          "min": "9.295462012997941",
          "nan_count": 0,
          "unique_count": 8
         }
        },
        {
         "dtype": "float64",
         "name": "sex",
         "stats": {
          "histogram": [
           {
            "bin_end": 7.6,
            "bin_start": 0,
            "count": 7
           },
           {
            "bin_end": 15.2,
            "bin_start": 7.6,
            "count": 0
           },
           {
            "bin_end": 22.799999999999997,
            "bin_start": 15.2,
            "count": 0
           },
           {
            "bin_end": 30.4,
            "bin_start": 22.799999999999997,
            "count": 0
           },
           {
            "bin_end": 38,
            "bin_start": 30.4,
            "count": 0
           },
           {
            "bin_end": 45.599999999999994,
            "bin_start": 38,
            "count": 0
           },
           {
            "bin_end": 53.199999999999996,
            "bin_start": 45.599999999999994,
            "count": 0
           },
           {
            "bin_end": 60.8,
            "bin_start": 53.199999999999996,
            "count": 0
           },
           {
            "bin_end": 68.39999999999999,
            "bin_start": 60.8,
            "count": 0
           },
           {
            "bin_end": 76,
            "bin_start": 68.39999999999999,
            "count": 1
           }
          ],
          "max": "76.0",
          "min": "0.0",
          "nan_count": 0,
          "unique_count": 5
         }
        },
        {
         "dtype": "float64",
         "name": "cp",
         "stats": {
          "histogram": [
           {
            "bin_end": 7.6,
            "bin_start": 0,
            "count": 7
           },
           {
            "bin_end": 15.2,
            "bin_start": 7.6,
            "count": 0
           },
           {
            "bin_end": 22.799999999999997,
            "bin_start": 15.2,
            "count": 0
           },
           {
            "bin_end": 30.4,
            "bin_start": 22.799999999999997,
            "count": 0
           },
           {
            "bin_end": 38,
            "bin_start": 30.4,
            "count": 0
           },
           {
            "bin_end": 45.599999999999994,
            "bin_start": 38,
            "count": 0
           },
           {
            "bin_end": 53.199999999999996,
            "bin_start": 45.599999999999994,
            "count": 0
           },
           {
            "bin_end": 60.8,
            "bin_start": 53.199999999999996,
            "count": 0
           },
           {
            "bin_end": 68.39999999999999,
            "bin_start": 60.8,
            "count": 0
           },
           {
            "bin_end": 76,
            "bin_start": 68.39999999999999,
            "count": 1
           }
          ],
          "max": "76.0",
          "min": "0.0",
          "nan_count": 0,
          "unique_count": 8
         }
        },
        {
         "dtype": "float64",
         "name": "trestbps",
         "stats": {
          "histogram": [
           {
            "bin_end": 38.41912333886918,
            "bin_start": 19.354581487632416,
            "count": 1
           },
           {
            "bin_end": 57.48366519010594,
            "bin_start": 38.41912333886918,
            "count": 0
           },
           {
            "bin_end": 76.54820704134269,
            "bin_start": 57.48366519010594,
            "count": 1
           },
           {
            "bin_end": 95.61274889257946,
            "bin_start": 76.54820704134269,
            "count": 0
           },
           {
            "bin_end": 114.67729074381622,
            "bin_start": 95.61274889257946,
            "count": 1
           },
           {
            "bin_end": 133.74183259505298,
            "bin_start": 114.67729074381622,
            "count": 1
           },
           {
            "bin_end": 152.80637444628974,
            "bin_start": 133.74183259505298,
            "count": 3
           },
           {
            "bin_end": 171.8709162975265,
            "bin_start": 152.80637444628974,
            "count": 0
           },
           {
            "bin_end": 190.93545814876325,
            "bin_start": 171.8709162975265,
            "count": 0
           },
           {
            "bin_end": 210,
            "bin_start": 190.93545814876325,
            "count": 1
           }
          ],
          "max": "210.0",
          "min": "19.354581487632416",
          "nan_count": 0,
          "unique_count": 8
         }
        },
        {
         "dtype": "float64",
         "name": "chol",
         "stats": {
          "histogram": [
           {
            "bin_end": 80.88721934104746,
            "bin_start": 43.09691037894162,
            "count": 2
           },
           {
            "bin_end": 118.67752830315331,
            "bin_start": 80.88721934104746,
            "count": 0
           },
           {
            "bin_end": 156.46783726525913,
            "bin_start": 118.67752830315331,
            "count": 0
           },
           {
            "bin_end": 194.258146227365,
            "bin_start": 156.46783726525913,
            "count": 1
           },
           {
            "bin_end": 232.04845518947081,
            "bin_start": 194.258146227365,
            "count": 0
           },
           {
            "bin_end": 269.83876415157664,
            "bin_start": 232.04845518947081,
            "count": 1
           },
           {
            "bin_end": 307.6290731136825,
            "bin_start": 269.83876415157664,
            "count": 3
           },
           {
            "bin_end": 345.41938207578835,
            "bin_start": 307.6290731136825,
            "count": 0
           },
           {
            "bin_end": 383.2096910378942,
            "bin_start": 345.41938207578835,
            "count": 0
           },
           {
            "bin_end": 421,
            "bin_start": 383.2096910378942,
            "count": 1
           }
          ],
          "max": "421.0",
          "min": "43.09691037894162",
          "nan_count": 0,
          "unique_count": 8
         }
        },
        {
         "dtype": "float64",
         "name": "fbs",
         "stats": {
          "histogram": [
           {
            "bin_end": 7.6,
            "bin_start": 0,
            "count": 7
           },
           {
            "bin_end": 15.2,
            "bin_start": 7.6,
            "count": 0
           },
           {
            "bin_end": 22.799999999999997,
            "bin_start": 15.2,
            "count": 0
           },
           {
            "bin_end": 30.4,
            "bin_start": 22.799999999999997,
            "count": 0
           },
           {
            "bin_end": 38,
            "bin_start": 30.4,
            "count": 0
           },
           {
            "bin_end": 45.599999999999994,
            "bin_start": 38,
            "count": 0
           },
           {
            "bin_end": 53.199999999999996,
            "bin_start": 45.599999999999994,
            "count": 0
           },
           {
            "bin_end": 60.8,
            "bin_start": 53.199999999999996,
            "count": 0
           },
           {
            "bin_end": 68.39999999999999,
            "bin_start": 60.8,
            "count": 0
           },
           {
            "bin_end": 76,
            "bin_start": 68.39999999999999,
            "count": 1
           }
          ],
          "max": "76.0",
          "min": "0.0",
          "nan_count": 0,
          "unique_count": 5
         }
        },
        {
         "dtype": "float64",
         "name": "restecg",
         "stats": {
          "histogram": [
           {
            "bin_end": 7.6,
            "bin_start": 0,
            "count": 7
           },
           {
            "bin_end": 15.2,
            "bin_start": 7.6,
            "count": 0
           },
           {
            "bin_end": 22.799999999999997,
            "bin_start": 15.2,
            "count": 0
           },
           {
            "bin_end": 30.4,
            "bin_start": 22.799999999999997,
            "count": 0
           },
           {
            "bin_end": 38,
            "bin_start": 30.4,
            "count": 0
           },
           {
            "bin_end": 45.599999999999994,
            "bin_start": 38,
            "count": 0
           },
           {
            "bin_end": 53.199999999999996,
            "bin_start": 45.599999999999994,
            "count": 0
           },
           {
            "bin_end": 60.8,
            "bin_start": 53.199999999999996,
            "count": 0
           },
           {
            "bin_end": 68.39999999999999,
            "bin_start": 60.8,
            "count": 0
           },
           {
            "bin_end": 76,
            "bin_start": 68.39999999999999,
            "count": 1
           }
          ],
          "max": "76.0",
          "min": "0.0",
          "nan_count": 0,
          "unique_count": 6
         }
        },
        {
         "dtype": "float64",
         "name": "thalach",
         "stats": {
          "histogram": [
           {
            "bin_end": 41.27505868908912,
            "bin_start": 22.083398543432356,
            "count": 1
           },
           {
            "bin_end": 60.466718834745876,
            "bin_start": 41.27505868908912,
            "count": 0
           },
           {
            "bin_end": 79.65837898040265,
            "bin_start": 60.466718834745876,
            "count": 1
           },
           {
            "bin_end": 98.8500391260594,
            "bin_start": 79.65837898040265,
            "count": 0
           },
           {
            "bin_end": 118.04169927171615,
            "bin_start": 98.8500391260594,
            "count": 1
           },
           {
            "bin_end": 137.23335941737292,
            "bin_start": 118.04169927171615,
            "count": 0
           },
           {
            "bin_end": 156.4250195630297,
            "bin_start": 137.23335941737292,
            "count": 1
           },
           {
            "bin_end": 175.61667970868646,
            "bin_start": 156.4250195630297,
            "count": 2
           },
           {
            "bin_end": 194.80833985434322,
            "bin_start": 175.61667970868646,
            "count": 1
           },
           {
            "bin_end": 214,
            "bin_start": 194.80833985434322,
            "count": 1
           }
          ],
          "max": "214.0",
          "min": "22.083398543432356",
          "nan_count": 0,
          "unique_count": 8
         }
        },
        {
         "dtype": "float64",
         "name": "exang",
         "stats": {
          "histogram": [
           {
            "bin_end": 7.6,
            "bin_start": 0,
            "count": 7
           },
           {
            "bin_end": 15.2,
            "bin_start": 7.6,
            "count": 0
           },
           {
            "bin_end": 22.799999999999997,
            "bin_start": 15.2,
            "count": 0
           },
           {
            "bin_end": 30.4,
            "bin_start": 22.799999999999997,
            "count": 0
           },
           {
            "bin_end": 38,
            "bin_start": 30.4,
            "count": 0
           },
           {
            "bin_end": 45.599999999999994,
            "bin_start": 38,
            "count": 0
           },
           {
            "bin_end": 53.199999999999996,
            "bin_start": 45.599999999999994,
            "count": 0
           },
           {
            "bin_end": 60.8,
            "bin_start": 53.199999999999996,
            "count": 0
           },
           {
            "bin_end": 68.39999999999999,
            "bin_start": 60.8,
            "count": 0
           },
           {
            "bin_end": 76,
            "bin_start": 68.39999999999999,
            "count": 1
           }
          ],
          "max": "76.0",
          "min": "0.0",
          "nan_count": 0,
          "unique_count": 5
         }
        },
        {
         "dtype": "float64",
         "name": "oldpeak",
         "stats": {
          "histogram": [
           {
            "bin_end": 8.473861484868651,
            "bin_start": 0.9709572054096113,
            "count": 7
           },
           {
            "bin_end": 15.976765764327691,
            "bin_start": 8.473861484868651,
            "count": 0
           },
           {
            "bin_end": 23.479670043786733,
            "bin_start": 15.976765764327691,
            "count": 0
           },
           {
            "bin_end": 30.98257432324577,
            "bin_start": 23.479670043786733,
            "count": 0
           },
           {
            "bin_end": 38.48547860270481,
            "bin_start": 30.98257432324577,
            "count": 0
           },
           {
            "bin_end": 45.988382882163855,
            "bin_start": 38.48547860270481,
            "count": 0
           },
           {
            "bin_end": 53.49128716162289,
            "bin_start": 45.988382882163855,
            "count": 0
           },
           {
            "bin_end": 60.99419144108193,
            "bin_start": 53.49128716162289,
            "count": 0
           },
           {
            "bin_end": 68.49709572054097,
            "bin_start": 60.99419144108193,
            "count": 0
           },
           {
            "bin_end": 76,
            "bin_start": 68.49709572054097,
            "count": 1
           }
          ],
          "max": "76.0",
          "min": "0.9709572054096113",
          "nan_count": 0,
          "unique_count": 8
         }
        },
        {
         "dtype": "float64",
         "name": "slope",
         "stats": {
          "histogram": [
           {
            "bin_end": 8.14926266365393,
            "bin_start": 0.610291848504367,
            "count": 7
           },
           {
            "bin_end": 15.688233478803495,
            "bin_start": 8.14926266365393,
            "count": 0
           },
           {
            "bin_end": 23.227204293953058,
            "bin_start": 15.688233478803495,
            "count": 0
           },
           {
            "bin_end": 30.766175109102623,
            "bin_start": 23.227204293953058,
            "count": 0
           },
           {
            "bin_end": 38.30514592425219,
            "bin_start": 30.766175109102623,
            "count": 0
           },
           {
            "bin_end": 45.84411673940175,
            "bin_start": 38.30514592425219,
            "count": 0
           },
           {
            "bin_end": 53.38308755455132,
            "bin_start": 45.84411673940175,
            "count": 0
           },
           {
            "bin_end": 60.92205836970088,
            "bin_start": 53.38308755455132,
            "count": 0
           },
           {
            "bin_end": 68.46102918485043,
            "bin_start": 60.92205836970088,
            "count": 0
           },
           {
            "bin_end": 76,
            "bin_start": 68.46102918485043,
            "count": 1
           }
          ],
          "max": "76.0",
          "min": "0.610291848504367",
          "nan_count": 0,
          "unique_count": 6
         }
        },
        {
         "dtype": "float64",
         "name": "ca",
         "stats": {
          "histogram": [
           {
            "bin_end": 7.6,
            "bin_start": 0,
            "count": 7
           },
           {
            "bin_end": 15.2,
            "bin_start": 7.6,
            "count": 0
           },
           {
            "bin_end": 22.799999999999997,
            "bin_start": 15.2,
            "count": 0
           },
           {
            "bin_end": 30.4,
            "bin_start": 22.799999999999997,
            "count": 0
           },
           {
            "bin_end": 38,
            "bin_start": 30.4,
            "count": 0
           },
           {
            "bin_end": 45.599999999999994,
            "bin_start": 38,
            "count": 0
           },
           {
            "bin_end": 53.199999999999996,
            "bin_start": 45.599999999999994,
            "count": 0
           },
           {
            "bin_end": 60.8,
            "bin_start": 53.199999999999996,
            "count": 0
           },
           {
            "bin_end": 68.39999999999999,
            "bin_start": 60.8,
            "count": 0
           },
           {
            "bin_end": 76,
            "bin_start": 68.39999999999999,
            "count": 1
           }
          ],
          "max": "76.0",
          "min": "0.0",
          "nan_count": 0,
          "unique_count": 8
         }
        },
        {
         "dtype": "float64",
         "name": "thal",
         "stats": {
          "histogram": [
           {
            "bin_end": 8.453232244560585,
            "bin_start": 0.9480358272895394,
            "count": 7
           },
           {
            "bin_end": 15.958428661831631,
            "bin_start": 8.453232244560585,
            "count": 0
           },
           {
            "bin_end": 23.46362507910268,
            "bin_start": 15.958428661831631,
            "count": 0
           },
           {
            "bin_end": 30.968821496373725,
            "bin_start": 23.46362507910268,
            "count": 0
           },
           {
            "bin_end": 38.474017913644765,
            "bin_start": 30.968821496373725,
            "count": 0
           },
           {
            "bin_end": 45.979214330915816,
            "bin_start": 38.474017913644765,
            "count": 0
           },
           {
            "bin_end": 53.48441074818686,
            "bin_start": 45.979214330915816,
            "count": 0
           },
           {
            "bin_end": 60.989607165457905,
            "bin_start": 53.48441074818686,
            "count": 0
           },
           {
            "bin_end": 68.49480358272896,
            "bin_start": 60.989607165457905,
            "count": 0
           },
           {
            "bin_end": 76,
            "bin_start": 68.49480358272896,
            "count": 1
           }
          ],
          "max": "76.0",
          "min": "0.9480358272895394",
          "nan_count": 0,
          "unique_count": 7
         }
        },
        {
         "dtype": "float64",
         "name": "chol_fbs",
         "stats": {
          "histogram": [
           {
            "bin_end": 42.3,
            "bin_start": 1,
            "count": 2
           },
           {
            "bin_end": 83.6,
            "bin_start": 42.3,
            "count": 5
           },
           {
            "bin_end": 124.89999999999999,
            "bin_start": 83.6,
            "count": 0
           },
           {
            "bin_end": 166.2,
            "bin_start": 124.89999999999999,
            "count": 0
           },
           {
            "bin_end": 207.5,
            "bin_start": 166.2,
            "count": 0
           },
           {
            "bin_end": 248.79999999999998,
            "bin_start": 207.5,
            "count": 0
           },
           {
            "bin_end": 290.09999999999997,
            "bin_start": 248.79999999999998,
            "count": 0
           },
           {
            "bin_end": 331.4,
            "bin_start": 290.09999999999997,
            "count": 0
           },
           {
            "bin_end": 372.7,
            "bin_start": 331.4,
            "count": 0
           },
           {
            "bin_end": 414,
            "bin_start": 372.7,
            "count": 1
           }
          ],
          "max": "414.0",
          "min": "1.0",
          "nan_count": 0,
          "unique_count": 8
         }
        },
        {
         "dtype": "float64",
         "name": "target",
         "stats": {
          "histogram": [
           {
            "bin_end": 7.6,
            "bin_start": 0,
            "count": 7
           },
           {
            "bin_end": 15.2,
            "bin_start": 7.6,
            "count": 0
           },
           {
            "bin_end": 22.799999999999997,
            "bin_start": 15.2,
            "count": 0
           },
           {
            "bin_end": 30.4,
            "bin_start": 22.799999999999997,
            "count": 0
           },
           {
            "bin_end": 38,
            "bin_start": 30.4,
            "count": 0
           },
           {
            "bin_end": 45.599999999999994,
            "bin_start": 38,
            "count": 0
           },
           {
            "bin_end": 53.199999999999996,
            "bin_start": 45.599999999999994,
            "count": 0
           },
           {
            "bin_end": 60.8,
            "bin_start": 53.199999999999996,
            "count": 0
           },
           {
            "bin_end": 68.39999999999999,
            "bin_start": 60.8,
            "count": 0
           },
           {
            "bin_end": 76,
            "bin_start": 68.39999999999999,
            "count": 1
           }
          ],
          "max": "76.0",
          "min": "0.0",
          "nan_count": 0,
          "unique_count": 5
         }
        },
        {
         "dtype": "object",
         "name": "_deepnote_index_column"
        }
       ],
       "row_count": 8,
       "rows_bottom": null,
       "rows_top": [
        {
         "_deepnote_index_column": "count",
         "age": 76,
         "ca": 76,
         "chol": 76,
         "chol_fbs": 76,
         "cp": 76,
         "exang": 76,
         "fbs": 76,
         "oldpeak": 76,
         "restecg": 76,
         "sex": 76,
         "slope": 76,
         "target": 76,
         "thal": 76,
         "thalach": 76,
         "trestbps": 76
        },
        {
         "_deepnote_index_column": "mean",
         "age": 57.68421052631579,
         "ca": 2.4078947368421053,
         "chol": 270.17105263157896,
         "chol_fbs": 79.0657894736842,
         "cp": 1.9078947368421053,
         "exang": 0.27631578947368424,
         "fbs": 0.13157894736842105,
         "oldpeak": 1.8868421052631579,
         "restecg": 1.0394736842105263,
         "sex": 0.7236842105263158,
         "slope": 2.3815789473684212,
         "target": 0.5657894736842105,
         "thal": 3.3552631578947367,
         "thalach": 161.23684210526315,
         "trestbps": 139.48684210526315
        },
        {
         "_deepnote_index_column": "std",
         "age": 9.295462012997941,
         "ca": 1.576304806217777,
         "chol": 43.09691037894162,
         "chol_fbs": 83.49280775832383,
         "cp": 1.3873488537874183,
         "exang": 0.45014617508912413,
         "fbs": 0.34027852368936023,
         "oldpeak": 0.9709572054096113,
         "restecg": 0.7012520131628232,
         "sex": 0.45014617508912413,
         "slope": 0.610291848504367,
         "target": 0.49894625804895315,
         "thal": 0.9480358272895394,
         "thalach": 22.083398543432356,
         "trestbps": 19.354581487632416
        },
        {
         "_deepnote_index_column": "min",
         "age": 41,
         "ca": 0,
         "chol": 174,
         "chol_fbs": 1,
         "cp": 0,
         "exang": 0,
         "fbs": 0,
         "oldpeak": 1,
         "restecg": 0,
         "sex": 0,
         "slope": 1,
         "target": 0,
         "thal": 2,
         "thalach": 99,
         "trestbps": 105
        },
        {
         "_deepnote_index_column": "25%",
         "age": 50.75,
         "ca": 1,
         "chol": 241,
         "chol_fbs": 33,
         "cp": 1,
         "exang": 0,
         "fbs": 0,
         "oldpeak": 1.1,
         "restecg": 1,
         "sex": 0,
         "slope": 2,
         "target": 0,
         "thal": 3,
         "thalach": 147,
         "trestbps": 126.75
        },
        {
         "_deepnote_index_column": "50%",
         "age": 58.5,
         "ca": 3,
         "chol": 271,
         "chol_fbs": 56.5,
         "cp": 2,
         "exang": 0,
         "fbs": 0,
         "oldpeak": 1.6,
         "restecg": 1,
         "sex": 1,
         "slope": 2,
         "target": 1,
         "thal": 3,
         "thalach": 165.5,
         "trestbps": 137.5
        },
        {
         "_deepnote_index_column": "75%",
         "age": 64,
         "ca": 3.25,
         "chol": 296.5,
         "chol_fbs": 78.25,
         "cp": 3,
         "exang": 1,
         "fbs": 0,
         "oldpeak": 2.3499999999999996,
         "restecg": 2,
         "sex": 1,
         "slope": 3,
         "target": 1,
         "thal": 4,
         "thalach": 177.25,
         "trestbps": 150
        },
        {
         "_deepnote_index_column": "max",
         "age": 81,
         "ca": 6,
         "chol": 421,
         "chol_fbs": 414,
         "cp": 5,
         "exang": 1,
         "fbs": 1,
         "oldpeak": 5,
         "restecg": 2,
         "sex": 1,
         "slope": 3,
         "target": 1,
         "thal": 5,
         "thalach": 214,
         "trestbps": 210
        }
       ]
      },
      "text/html": [
       "<div>\n",
       "<style scoped>\n",
       "    .dataframe tbody tr th:only-of-type {\n",
       "        vertical-align: middle;\n",
       "    }\n",
       "\n",
       "    .dataframe tbody tr th {\n",
       "        vertical-align: top;\n",
       "    }\n",
       "\n",
       "    .dataframe thead th {\n",
       "        text-align: right;\n",
       "    }\n",
       "</style>\n",
       "<table border=\"1\" class=\"dataframe\">\n",
       "  <thead>\n",
       "    <tr style=\"text-align: right;\">\n",
       "      <th></th>\n",
       "      <th>age</th>\n",
       "      <th>sex</th>\n",
       "      <th>cp</th>\n",
       "      <th>trestbps</th>\n",
       "      <th>chol</th>\n",
       "      <th>fbs</th>\n",
       "      <th>restecg</th>\n",
       "      <th>thalach</th>\n",
       "      <th>exang</th>\n",
       "      <th>oldpeak</th>\n",
       "      <th>slope</th>\n",
       "      <th>ca</th>\n",
       "      <th>thal</th>\n",
       "      <th>chol_fbs</th>\n",
       "      <th>target</th>\n",
       "    </tr>\n",
       "  </thead>\n",
       "  <tbody>\n",
       "    <tr>\n",
       "      <th>count</th>\n",
       "      <td>76.000000</td>\n",
       "      <td>76.000000</td>\n",
       "      <td>76.000000</td>\n",
       "      <td>76.000000</td>\n",
       "      <td>76.000000</td>\n",
       "      <td>76.000000</td>\n",
       "      <td>76.000000</td>\n",
       "      <td>76.000000</td>\n",
       "      <td>76.000000</td>\n",
       "      <td>76.000000</td>\n",
       "      <td>76.000000</td>\n",
       "      <td>76.000000</td>\n",
       "      <td>76.000000</td>\n",
       "      <td>76.000000</td>\n",
       "      <td>76.000000</td>\n",
       "    </tr>\n",
       "    <tr>\n",
       "      <th>mean</th>\n",
       "      <td>57.684211</td>\n",
       "      <td>0.723684</td>\n",
       "      <td>1.907895</td>\n",
       "      <td>139.486842</td>\n",
       "      <td>270.171053</td>\n",
       "      <td>0.131579</td>\n",
       "      <td>1.039474</td>\n",
       "      <td>161.236842</td>\n",
       "      <td>0.276316</td>\n",
       "      <td>1.886842</td>\n",
       "      <td>2.381579</td>\n",
       "      <td>2.407895</td>\n",
       "      <td>3.355263</td>\n",
       "      <td>79.065789</td>\n",
       "      <td>0.565789</td>\n",
       "    </tr>\n",
       "    <tr>\n",
       "      <th>std</th>\n",
       "      <td>9.295462</td>\n",
       "      <td>0.450146</td>\n",
       "      <td>1.387349</td>\n",
       "      <td>19.354581</td>\n",
       "      <td>43.096910</td>\n",
       "      <td>0.340279</td>\n",
       "      <td>0.701252</td>\n",
       "      <td>22.083399</td>\n",
       "      <td>0.450146</td>\n",
       "      <td>0.970957</td>\n",
       "      <td>0.610292</td>\n",
       "      <td>1.576305</td>\n",
       "      <td>0.948036</td>\n",
       "      <td>83.492808</td>\n",
       "      <td>0.498946</td>\n",
       "    </tr>\n",
       "    <tr>\n",
       "      <th>min</th>\n",
       "      <td>41.000000</td>\n",
       "      <td>0.000000</td>\n",
       "      <td>0.000000</td>\n",
       "      <td>105.000000</td>\n",
       "      <td>174.000000</td>\n",
       "      <td>0.000000</td>\n",
       "      <td>0.000000</td>\n",
       "      <td>99.000000</td>\n",
       "      <td>0.000000</td>\n",
       "      <td>1.000000</td>\n",
       "      <td>1.000000</td>\n",
       "      <td>0.000000</td>\n",
       "      <td>2.000000</td>\n",
       "      <td>1.000000</td>\n",
       "      <td>0.000000</td>\n",
       "    </tr>\n",
       "    <tr>\n",
       "      <th>25%</th>\n",
       "      <td>50.750000</td>\n",
       "      <td>0.000000</td>\n",
       "      <td>1.000000</td>\n",
       "      <td>126.750000</td>\n",
       "      <td>241.000000</td>\n",
       "      <td>0.000000</td>\n",
       "      <td>1.000000</td>\n",
       "      <td>147.000000</td>\n",
       "      <td>0.000000</td>\n",
       "      <td>1.100000</td>\n",
       "      <td>2.000000</td>\n",
       "      <td>1.000000</td>\n",
       "      <td>3.000000</td>\n",
       "      <td>33.000000</td>\n",
       "      <td>0.000000</td>\n",
       "    </tr>\n",
       "    <tr>\n",
       "      <th>50%</th>\n",
       "      <td>58.500000</td>\n",
       "      <td>1.000000</td>\n",
       "      <td>2.000000</td>\n",
       "      <td>137.500000</td>\n",
       "      <td>271.000000</td>\n",
       "      <td>0.000000</td>\n",
       "      <td>1.000000</td>\n",
       "      <td>165.500000</td>\n",
       "      <td>0.000000</td>\n",
       "      <td>1.600000</td>\n",
       "      <td>2.000000</td>\n",
       "      <td>3.000000</td>\n",
       "      <td>3.000000</td>\n",
       "      <td>56.500000</td>\n",
       "      <td>1.000000</td>\n",
       "    </tr>\n",
       "    <tr>\n",
       "      <th>75%</th>\n",
       "      <td>64.000000</td>\n",
       "      <td>1.000000</td>\n",
       "      <td>3.000000</td>\n",
       "      <td>150.000000</td>\n",
       "      <td>296.500000</td>\n",
       "      <td>0.000000</td>\n",
       "      <td>2.000000</td>\n",
       "      <td>177.250000</td>\n",
       "      <td>1.000000</td>\n",
       "      <td>2.350000</td>\n",
       "      <td>3.000000</td>\n",
       "      <td>3.250000</td>\n",
       "      <td>4.000000</td>\n",
       "      <td>78.250000</td>\n",
       "      <td>1.000000</td>\n",
       "    </tr>\n",
       "    <tr>\n",
       "      <th>max</th>\n",
       "      <td>81.000000</td>\n",
       "      <td>1.000000</td>\n",
       "      <td>5.000000</td>\n",
       "      <td>210.000000</td>\n",
       "      <td>421.000000</td>\n",
       "      <td>1.000000</td>\n",
       "      <td>2.000000</td>\n",
       "      <td>214.000000</td>\n",
       "      <td>1.000000</td>\n",
       "      <td>5.000000</td>\n",
       "      <td>3.000000</td>\n",
       "      <td>6.000000</td>\n",
       "      <td>5.000000</td>\n",
       "      <td>414.000000</td>\n",
       "      <td>1.000000</td>\n",
       "    </tr>\n",
       "  </tbody>\n",
       "</table>\n",
       "</div>"
      ],
      "text/plain": [
       "             age        sex         cp    trestbps        chol        fbs  \\\n",
       "count  76.000000  76.000000  76.000000   76.000000   76.000000  76.000000   \n",
       "mean   57.684211   0.723684   1.907895  139.486842  270.171053   0.131579   \n",
       "std     9.295462   0.450146   1.387349   19.354581   43.096910   0.340279   \n",
       "min    41.000000   0.000000   0.000000  105.000000  174.000000   0.000000   \n",
       "25%    50.750000   0.000000   1.000000  126.750000  241.000000   0.000000   \n",
       "50%    58.500000   1.000000   2.000000  137.500000  271.000000   0.000000   \n",
       "75%    64.000000   1.000000   3.000000  150.000000  296.500000   0.000000   \n",
       "max    81.000000   1.000000   5.000000  210.000000  421.000000   1.000000   \n",
       "\n",
       "         restecg     thalach      exang    oldpeak      slope         ca  \\\n",
       "count  76.000000   76.000000  76.000000  76.000000  76.000000  76.000000   \n",
       "mean    1.039474  161.236842   0.276316   1.886842   2.381579   2.407895   \n",
       "std     0.701252   22.083399   0.450146   0.970957   0.610292   1.576305   \n",
       "min     0.000000   99.000000   0.000000   1.000000   1.000000   0.000000   \n",
       "25%     1.000000  147.000000   0.000000   1.100000   2.000000   1.000000   \n",
       "50%     1.000000  165.500000   0.000000   1.600000   2.000000   3.000000   \n",
       "75%     2.000000  177.250000   1.000000   2.350000   3.000000   3.250000   \n",
       "max     2.000000  214.000000   1.000000   5.000000   3.000000   6.000000   \n",
       "\n",
       "            thal    chol_fbs     target  \n",
       "count  76.000000   76.000000  76.000000  \n",
       "mean    3.355263   79.065789   0.565789  \n",
       "std     0.948036   83.492808   0.498946  \n",
       "min     2.000000    1.000000   0.000000  \n",
       "25%     3.000000   33.000000   0.000000  \n",
       "50%     3.000000   56.500000   1.000000  \n",
       "75%     4.000000   78.250000   1.000000  \n",
       "max     5.000000  414.000000   1.000000  "
      ]
     },
     "execution_count": 13,
     "metadata": {},
     "output_type": "execute_result"
    }
   ],
   "source": [
    "df_aug_s = df_aug.sample(76,random_state=0)\n",
    "df_aug_s.describe()"
   ]
  },
  {
   "cell_type": "code",
   "execution_count": 13,
   "metadata": {
    "cell_id": "00018-d484ba73-4b7a-4eec-a1ef-0f78f3e43c9e",
    "deepnote_cell_type": "code",
    "deepnote_to_be_reexecuted": false,
    "execution_millis": 2,
    "execution_start": 1620564123555,
    "source_hash": "b623e53d",
    "tags": []
   },
   "outputs": [],
   "source": []
  },
  {
   "cell_type": "code",
   "execution_count": 14,
   "metadata": {
    "cell_id": "00018-fbd3b201-bb48-4da6-a912-fd77fb813056",
    "deepnote_cell_type": "code",
    "deepnote_to_be_reexecuted": false,
    "execution_millis": 20,
    "execution_start": 1620564123559,
    "source_hash": "1a66b93c",
    "tags": []
   },
   "outputs": [
    {
     "data": {
      "text/plain": [
       "(379, 15)"
      ]
     },
     "execution_count": 14,
     "metadata": {},
     "output_type": "execute_result"
    }
   ],
   "source": [
    "full_df = pd.concat([df,df_aug_s])\n",
    "full_df.shape"
   ]
  },
  {
   "cell_type": "code",
   "execution_count": 15,
   "metadata": {
    "cell_id": "00019-d4376224-0ed4-48b3-8d15-0066dee7bd21",
    "deepnote_cell_type": "code",
    "deepnote_to_be_reexecuted": false,
    "execution_millis": 3,
    "execution_start": 1620564123569,
    "source_hash": "85bbd2dd",
    "tags": []
   },
   "outputs": [],
   "source": [
    "full_df['chol_fbs'] = full_df.chol * full_df.fbs"
   ]
  },
  {
   "cell_type": "code",
   "execution_count": 16,
   "metadata": {
    "cell_id": "00019-826f01d2-c600-48b1-a55f-e7747860b960",
    "deepnote_cell_type": "code",
    "deepnote_to_be_reexecuted": false,
    "execution_millis": 8,
    "execution_start": 1620564123576,
    "source_hash": "963d0430",
    "tags": []
   },
   "outputs": [],
   "source": [
    "full_df.to_csv(\"augheart.csv\")"
   ]
  },
  {
   "cell_type": "code",
   "execution_count": 17,
   "metadata": {
    "cell_id": "00018-1ed954af-fe6d-4247-a324-b29db46d4bdd",
    "deepnote_cell_type": "code",
    "deepnote_to_be_reexecuted": false,
    "execution_millis": 2,
    "execution_start": 1620564123588,
    "source_hash": "8daae2dc",
    "tags": []
   },
   "outputs": [],
   "source": [
    "df_test = df_aug.sample(50,random_state= 0) "
   ]
  },
  {
   "cell_type": "code",
   "execution_count": 18,
   "metadata": {
    "cell_id": "00022-ec70649e-ae23-4d5c-9778-015926a7650a",
    "deepnote_cell_type": "code",
    "deepnote_to_be_reexecuted": false,
    "execution_millis": 6,
    "execution_start": 1620564123592,
    "source_hash": "dec227d3",
    "tags": []
   },
   "outputs": [],
   "source": [
    "df_test.to_csv(\"test.csv\")"
   ]
  },
  {
   "cell_type": "markdown",
   "metadata": {
    "cell_id": "00015-c731d2d1-4c89-4dc2-b367-cf32dd9294d9",
    "deepnote_cell_type": "markdown",
    "tags": []
   },
   "source": [
    "### Ends"
   ]
  },
  {
   "cell_type": "code",
   "execution_count": 19,
   "metadata": {
    "cell_id": "00013-32fe8dff-27a1-4efa-b0fd-109e6dfde774",
    "deepnote_cell_type": "code",
    "deepnote_to_be_reexecuted": false,
    "execution_millis": 10,
    "execution_start": 1620564123600,
    "source_hash": "b21dad84",
    "tags": []
   },
   "outputs": [
    {
     "data": {
      "text/plain": [
       "'print(len(dataset),\"augmented data created.\")\\ndf_au=pd.DataFrame(dataset)\\ndf_au'"
      ]
     },
     "execution_count": 19,
     "metadata": {},
     "output_type": "execute_result"
    }
   ],
   "source": [
    "\"\"\"print(len(dataset),\"augmented data created.\")\n",
    "df_au=pd.DataFrame(dataset)\n",
    "df_au\"\"\""
   ]
  },
  {
   "cell_type": "markdown",
   "metadata": {
    "cell_id": "00010-fcd44906-ff61-472e-8a94-44a3e0058026",
    "deepnote_cell_type": "text-cell-h3",
    "tags": []
   },
   "source": [
    "### Preprocessing &amp; Model definition"
   ]
  },
  {
   "cell_type": "code",
   "execution_count": 20,
   "metadata": {
    "cell_id": "00012-c8669683-4e0c-4ac1-9ba5-81080d9b178b",
    "deepnote_cell_type": "code",
    "deepnote_to_be_reexecuted": false,
    "execution_millis": 9,
    "execution_start": 1620564123608,
    "source_hash": "53e42d9c",
    "tags": []
   },
   "outputs": [
    {
     "name": "stdout",
     "output_type": "stream",
     "text": [
      "(303, 15)\n",
      "(379, 15)\n"
     ]
    }
   ],
   "source": [
    "print(df.shape)\n",
    "print(full_df.shape)"
   ]
  },
  {
   "cell_type": "code",
   "execution_count": 21,
   "metadata": {
    "cell_id": "00011-b745f5e3-844d-40c1-8f9f-a643dcde2e3b",
    "deepnote_cell_type": "code",
    "deepnote_to_be_reexecuted": false,
    "execution_millis": 18200,
    "execution_start": 1620564123614,
    "is_code_hidden": false,
    "output_cleared": false,
    "source_hash": "d9949dab",
    "tags": []
   },
   "outputs": [
    {
     "name": "stdout",
     "output_type": "stream",
     "text": [
      "Collecting xgboost\n",
      "  Downloading xgboost-1.4.1-py3-none-manylinux2010_x86_64.whl (166.7 MB)\n",
      "\u001b[K     |████████████████████████████████| 166.7 MB 83.9 MB/s \n",
      "\u001b[?25hRequirement already satisfied: numpy in /shared-libs/python3.7/py/lib/python3.7/site-packages (from xgboost) (1.19.5)\n",
      "Requirement already satisfied: scipy in /shared-libs/python3.7/py/lib/python3.7/site-packages (from xgboost) (1.6.3)\n",
      "Installing collected packages: xgboost\n",
      "Successfully installed xgboost-1.4.1\n",
      "Collecting lightgbm\n",
      "  Downloading lightgbm-3.2.1-py3-none-manylinux1_x86_64.whl (2.0 MB)\n",
      "\u001b[K     |████████████████████████████████| 2.0 MB 25.9 MB/s \n",
      "\u001b[?25hRequirement already satisfied: scikit-learn!=0.22.0 in /shared-libs/python3.7/py/lib/python3.7/site-packages (from lightgbm) (0.24.2)\n",
      "Requirement already satisfied: scipy in /shared-libs/python3.7/py/lib/python3.7/site-packages (from lightgbm) (1.6.3)\n",
      "Requirement already satisfied: wheel in /root/venv/lib/python3.7/site-packages (from lightgbm) (0.36.2)\n",
      "Requirement already satisfied: numpy in /shared-libs/python3.7/py/lib/python3.7/site-packages (from lightgbm) (1.19.5)\n",
      "Requirement already satisfied: joblib>=0.11 in /shared-libs/python3.7/py/lib/python3.7/site-packages (from scikit-learn!=0.22.0->lightgbm) (1.0.1)\n",
      "Requirement already satisfied: threadpoolctl>=2.0.0 in /shared-libs/python3.7/py/lib/python3.7/site-packages (from scikit-learn!=0.22.0->lightgbm) (2.1.0)\n",
      "Installing collected packages: lightgbm\n",
      "Successfully installed lightgbm-3.2.1\n",
      "Collecting catboost\n",
      "  Downloading catboost-0.25.1-cp37-none-manylinux1_x86_64.whl (67.3 MB)\n",
      "\u001b[K     |████████████████████████████████| 67.3 MB 38 kB/s \n",
      "\u001b[?25hRequirement already satisfied: plotly in /shared-libs/python3.7/py/lib/python3.7/site-packages (from catboost) (4.14.3)\n",
      "Collecting graphviz\n",
      "  Downloading graphviz-0.16-py2.py3-none-any.whl (19 kB)\n",
      "Requirement already satisfied: six in /shared-libs/python3.7/py-core/lib/python3.7/site-packages (from catboost) (1.16.0)\n",
      "Requirement already satisfied: matplotlib in /shared-libs/python3.7/py/lib/python3.7/site-packages (from catboost) (3.4.1)\n",
      "Requirement already satisfied: scipy in /shared-libs/python3.7/py/lib/python3.7/site-packages (from catboost) (1.6.3)\n",
      "Requirement already satisfied: pandas>=0.24.0 in /shared-libs/python3.7/py/lib/python3.7/site-packages (from catboost) (1.2.4)\n",
      "Requirement already satisfied: numpy>=1.16.0 in /shared-libs/python3.7/py/lib/python3.7/site-packages (from catboost) (1.19.5)\n",
      "Requirement already satisfied: python-dateutil>=2.7.3 in /shared-libs/python3.7/py-core/lib/python3.7/site-packages (from pandas>=0.24.0->catboost) (2.8.1)\n",
      "Requirement already satisfied: pytz>=2017.3 in /shared-libs/python3.7/py/lib/python3.7/site-packages (from pandas>=0.24.0->catboost) (2021.1)\n",
      "Requirement already satisfied: kiwisolver>=1.0.1 in /shared-libs/python3.7/py/lib/python3.7/site-packages (from matplotlib->catboost) (1.3.1)\n",
      "Requirement already satisfied: pillow>=6.2.0 in /shared-libs/python3.7/py/lib/python3.7/site-packages (from matplotlib->catboost) (8.2.0)\n",
      "Requirement already satisfied: cycler>=0.10 in /shared-libs/python3.7/py/lib/python3.7/site-packages (from matplotlib->catboost) (0.10.0)\n",
      "Requirement already satisfied: pyparsing>=2.2.1 in /shared-libs/python3.7/py-core/lib/python3.7/site-packages (from matplotlib->catboost) (2.4.7)\n",
      "Requirement already satisfied: retrying>=1.3.3 in /shared-libs/python3.7/py/lib/python3.7/site-packages (from plotly->catboost) (1.3.3)\n",
      "Installing collected packages: graphviz, catboost\n",
      "Successfully installed catboost-0.25.1 graphviz-0.16\n"
     ]
    }
   ],
   "source": [
    "!pip install xgboost\n",
    "!pip install lightgbm\n",
    "!pip install catboost\n",
    "\n",
    "from sklearn.tree          import DecisionTreeClassifier\n",
    "from sklearn.ensemble      import RandomForestClassifier\n",
    "from sklearn.ensemble      import ExtraTreesClassifier\n",
    "from sklearn.ensemble      import AdaBoostClassifier\n",
    "from sklearn.ensemble      import GradientBoostingClassifier\n",
    "from sklearn.experimental  import enable_hist_gradient_boosting # Necesary for HistGradientBoostingClassifier\n",
    "from sklearn.ensemble      import HistGradientBoostingClassifier\n",
    "from xgboost               import XGBClassifier\n",
    "from lightgbm              import LGBMClassifier\n",
    "from catboost              import CatBoostClassifier\n",
    "\n",
    "from sklearn.linear_model import LogisticRegression, RidgeClassifier\n",
    "from sklearn.svm import SVC, NuSVC, LinearSVC\n",
    "from sklearn.neighbors import KNeighborsClassifier\n",
    "from sklearn.gaussian_process import GaussianProcessClassifier\n",
    "from sklearn.naive_bayes import GaussianNB"
   ]
  },
  {
   "cell_type": "code",
   "execution_count": 22,
   "metadata": {
    "cell_id": "00010-3751bc78-0644-4a33-966d-41800b89bd6f",
    "deepnote_cell_type": "code",
    "deepnote_to_be_reexecuted": false,
    "execution_millis": 1,
    "execution_start": 1620564141814,
    "source_hash": "5c8342db",
    "tags": []
   },
   "outputs": [],
   "source": [
    "#Variables\n",
    "\n",
    "cat_vars  = ['sex','cp','fbs','restecg','exang','slope','ca','thal']\n",
    "num_vars  = ['age', 'trestbps', 'chol', 'thalach', 'oldpeak']\n",
    "num_vars_wfe = ['age', 'trestbps', 'chol', 'thalach', 'oldpeak','chol_fbs']"
   ]
  },
  {
   "cell_type": "code",
   "execution_count": 23,
   "metadata": {
    "cell_id": "00010-96682acd-0ce5-4485-b470-2bcfc4fc34f1",
    "deepnote_cell_type": "code",
    "deepnote_to_be_reexecuted": false,
    "execution_millis": 8,
    "execution_start": 1620564141816,
    "source_hash": "3587666d",
    "tags": []
   },
   "outputs": [],
   "source": [
    "num_4_tree = pipeline.Pipeline(steps=[\n",
    "    ('imputer', impute.SimpleImputer(strategy='mean', add_indicator=False)),\n",
    "])\n",
    "\n",
    "cat_4_tree = pipeline.Pipeline(steps=[\n",
    "    ('imputer', impute.SimpleImputer(strategy='constant')),\n",
    "    #('onehot', preprocessing.OneHotEncoder(handle_unknown='ignore'))\n",
    "])\n",
    "\n",
    "\n",
    "num_4_mult = pipeline.Pipeline(steps=[\n",
    "    ('imputer', impute.SimpleImputer(strategy='mean', add_indicator=True)), # mean, median\n",
    "    ('scaler', preprocessing.StandardScaler())\n",
    "])\n",
    "\n",
    "cat_4_mult = pipeline.Pipeline(steps=[\n",
    "    ('imputer', impute.SimpleImputer(strategy='constant')),\n",
    "    #('onehot', preprocessing.OneHotEncoder(handle_unknown='ignore'))\n",
    "])\n"
   ]
  },
  {
   "cell_type": "code",
   "execution_count": 24,
   "metadata": {
    "cell_id": "00028-9ada3721-7370-4442-9938-b6c2bc70f08e",
    "deepnote_cell_type": "code",
    "deepnote_to_be_reexecuted": false,
    "execution_millis": 5,
    "execution_start": 1620564141825,
    "source_hash": "bf0bc49e",
    "tags": []
   },
   "outputs": [],
   "source": [
    "#Preprocessors WITHOUT engineered feature\n",
    "\n",
    "tree_prepro = compose.ColumnTransformer(transformers=[\n",
    "    ('num', num_4_tree, num_vars),\n",
    "    ('cat', cat_4_tree, cat_vars)\n",
    "], remainder='drop')\n",
    "\n",
    "\n",
    "mult_prepro = compose.ColumnTransformer(transformers=[\n",
    "    ('num', num_4_mult, num_vars),\n",
    "    ('cat', cat_4_mult, cat_vars)\n",
    "], remainder='drop') \n"
   ]
  },
  {
   "cell_type": "code",
   "execution_count": 25,
   "metadata": {
    "cell_id": "00028-d328e2c7-f77c-46c7-bf97-67842deb8e6e",
    "deepnote_cell_type": "code",
    "deepnote_to_be_reexecuted": false,
    "execution_millis": 4,
    "execution_start": 1620564141832,
    "source_hash": "df93893c",
    "tags": []
   },
   "outputs": [],
   "source": [
    "#Preprocessors WITH engineered feature\n",
    "\n",
    "tree_prepro_wfe = compose.ColumnTransformer(transformers=[\n",
    "    ('num', num_4_tree, num_vars_wfe),\n",
    "    ('cat', cat_4_tree, cat_vars)\n",
    "], remainder='drop')\n",
    "\n",
    "mult_prepro_wfe = compose.ColumnTransformer(transformers=[\n",
    "    ('num', num_4_mult, num_vars_wfe),\n",
    "    ('cat', cat_4_mult, cat_vars)\n",
    "], remainder='drop') \n"
   ]
  },
  {
   "cell_type": "code",
   "execution_count": 26,
   "metadata": {
    "cell_id": "00016-4bd0c6e0-29ad-4ed4-a9d6-f7fa5c74fe6a",
    "deepnote_cell_type": "code",
    "deepnote_to_be_reexecuted": false,
    "execution_millis": 3,
    "execution_start": 1620564141841,
    "source_hash": "ff580f47",
    "tags": []
   },
   "outputs": [],
   "source": [
    "mult_models = {\n",
    "  \"LogRegr\":        LogisticRegression(),\n",
    "  \"Ridge\":          RidgeClassifier(),\n",
    "  \"SVM_lin\":         SVC(kernel=\"linear\", probability=True), # C=0.025\n",
    "  \"SVM_rbf\":         SVC(kernel='rbf', probability=True),\n",
    "  \"NuSVC\":           NuSVC(probability=True),\n",
    "  \"LinearSVC\":       LinearSVC(),\n",
    "  \"KNN3\":            KNeighborsClassifier(3),\n",
    "  \"KNN5\":            KNeighborsClassifier(5),\n",
    "  \"GaussianNB\":      GaussianNB()\n",
    "}\n",
    "\n",
    "tree_models = {\n",
    "  \"Decision Tree\": DecisionTreeClassifier(),\n",
    "  \"Extra Trees\": ExtraTreesClassifier(),\n",
    "  \"Random Forest\": RandomForestClassifier(),\n",
    "  \"AdaBoost\": AdaBoostClassifier(),\n",
    "  \"Skl GBM\": GradientBoostingClassifier(),\n",
    "  \"Skl HistGBM\": GradientBoostingClassifier(),\n",
    "  \"XGBoost\": XGBClassifier(),\n",
    "  'LightGBM': LGBMClassifier(),\n",
    "  'CatBoost': CatBoostClassifier()}\n"
   ]
  },
  {
   "cell_type": "code",
   "execution_count": 27,
   "metadata": {
    "cell_id": "00031-566530cd-a091-43c1-aa5c-0afd3f3a4495",
    "deepnote_cell_type": "code",
    "deepnote_to_be_reexecuted": false,
    "execution_millis": 2,
    "execution_start": 1620564141847,
    "source_hash": "c02ff397",
    "tags": []
   },
   "outputs": [],
   "source": [
    "mult_classifiers = {name: pipeline.make_pipeline(mult_prepro, model) for name, model in mult_models.items()}\n",
    "tree_classifiers = {name: pipeline.make_pipeline(tree_prepro, model) for name, model in tree_models.items()}\n",
    "\n",
    "models = {**mult_classifiers, **tree_classifiers}"
   ]
  },
  {
   "cell_type": "code",
   "execution_count": 28,
   "metadata": {
    "cell_id": "00032-cb34f94a-f257-40cf-a6ee-841651c1e22a",
    "deepnote_cell_type": "code",
    "deepnote_to_be_reexecuted": false,
    "execution_millis": 3,
    "execution_start": 1620564141852,
    "source_hash": "67fdee1",
    "tags": []
   },
   "outputs": [],
   "source": [
    "mult_classifiers_wfe = {name: pipeline.make_pipeline(mult_prepro_wfe, model) for name, model in mult_models.items()}\n",
    "tree_classifiers_wfe = {name: pipeline.make_pipeline(tree_prepro_wfe, model) for name, model in tree_models.items()}\n",
    "\n",
    "models_wfe = {**mult_classifiers_wfe, **tree_classifiers_wfe}"
   ]
  },
  {
   "cell_type": "markdown",
   "metadata": {
    "cell_id": "00021-124c3634-2d71-4ae7-aeea-2475e009f472",
    "deepnote_cell_type": "text-cell-h3",
    "tags": []
   },
   "source": [
    "### Predicting on original dataset"
   ]
  },
  {
   "cell_type": "code",
   "execution_count": 29,
   "metadata": {
    "cell_id": "00034-3534e290-9c72-4602-932f-9237157ad8ce",
    "deepnote_cell_type": "code",
    "deepnote_to_be_reexecuted": false,
    "execution_millis": 0,
    "execution_start": 1620564141902,
    "source_hash": "75f0e54d",
    "tags": []
   },
   "outputs": [],
   "source": [
    "x = df[num_vars + cat_vars]\n",
    "y = df.target\n",
    "\n",
    "x_train, x_val, y_train, y_val = model_selection.train_test_split(x,y,test_size=0.2,stratify=y,random_state=0)\n"
   ]
  },
  {
   "cell_type": "code",
   "execution_count": 30,
   "metadata": {
    "cell_id": "00035-dd713abb-887a-414b-8b65-3856baae5a9f",
    "deepnote_cell_type": "code",
    "deepnote_to_be_reexecuted": false,
    "execution_millis": 9,
    "execution_start": 1620564141903,
    "source_hash": "699fec56",
    "tags": []
   },
   "outputs": [
    {
     "data": {
      "application/vnd.deepnote.dataframe.v2+json": {
       "column_count": 13,
       "columns": [
        {
         "dtype": "int64",
         "name": "age",
         "stats": {
          "histogram": [
           {
            "bin_end": 39.6,
            "bin_start": 37,
            "count": 1
           },
           {
            "bin_end": 42.2,
            "bin_start": 39.6,
            "count": 1
           },
           {
            "bin_end": 44.8,
            "bin_start": 42.2,
            "count": 0
           },
           {
            "bin_end": 47.4,
            "bin_start": 44.8,
            "count": 0
           },
           {
            "bin_end": 50,
            "bin_start": 47.4,
            "count": 0
           },
           {
            "bin_end": 52.6,
            "bin_start": 50,
            "count": 0
           },
           {
            "bin_end": 55.2,
            "bin_start": 52.6,
            "count": 0
           },
           {
            "bin_end": 57.8,
            "bin_start": 55.2,
            "count": 2
           },
           {
            "bin_end": 60.400000000000006,
            "bin_start": 57.8,
            "count": 0
           },
           {
            "bin_end": 63,
            "bin_start": 60.400000000000006,
            "count": 1
           }
          ],
          "max": "63",
          "min": "37",
          "nan_count": 0,
          "unique_count": 5
         }
        },
        {
         "dtype": "int64",
         "name": "trestbps",
         "stats": {
          "histogram": [
           {
            "bin_end": 122.5,
            "bin_start": 120,
            "count": 2
           },
           {
            "bin_end": 125,
            "bin_start": 122.5,
            "count": 0
           },
           {
            "bin_end": 127.5,
            "bin_start": 125,
            "count": 0
           },
           {
            "bin_end": 130,
            "bin_start": 127.5,
            "count": 0
           },
           {
            "bin_end": 132.5,
            "bin_start": 130,
            "count": 2
           },
           {
            "bin_end": 135,
            "bin_start": 132.5,
            "count": 0
           },
           {
            "bin_end": 137.5,
            "bin_start": 135,
            "count": 0
           },
           {
            "bin_end": 140,
            "bin_start": 137.5,
            "count": 0
           },
           {
            "bin_end": 142.5,
            "bin_start": 140,
            "count": 0
           },
           {
            "bin_end": 145,
            "bin_start": 142.5,
            "count": 1
           }
          ],
          "max": "145",
          "min": "120",
          "nan_count": 0,
          "unique_count": 3
         }
        },
        {
         "dtype": "int64",
         "name": "chol",
         "stats": {
          "histogram": [
           {
            "bin_end": 219,
            "bin_start": 204,
            "count": 1
           },
           {
            "bin_end": 234,
            "bin_start": 219,
            "count": 1
           },
           {
            "bin_end": 249,
            "bin_start": 234,
            "count": 1
           },
           {
            "bin_end": 264,
            "bin_start": 249,
            "count": 1
           },
           {
            "bin_end": 279,
            "bin_start": 264,
            "count": 0
           },
           {
            "bin_end": 294,
            "bin_start": 279,
            "count": 0
           },
           {
            "bin_end": 309,
            "bin_start": 294,
            "count": 0
           },
           {
            "bin_end": 324,
            "bin_start": 309,
            "count": 0
           },
           {
            "bin_end": 339,
            "bin_start": 324,
            "count": 0
           },
           {
            "bin_end": 354,
            "bin_start": 339,
            "count": 1
           }
          ],
          "max": "354",
          "min": "204",
          "nan_count": 0,
          "unique_count": 5
         }
        },
        {
         "dtype": "int64",
         "name": "thalach",
         "stats": {
          "histogram": [
           {
            "bin_end": 153.7,
            "bin_start": 150,
            "count": 1
           },
           {
            "bin_end": 157.4,
            "bin_start": 153.7,
            "count": 0
           },
           {
            "bin_end": 161.1,
            "bin_start": 157.4,
            "count": 0
           },
           {
            "bin_end": 164.8,
            "bin_start": 161.1,
            "count": 1
           },
           {
            "bin_end": 168.5,
            "bin_start": 164.8,
            "count": 0
           },
           {
            "bin_end": 172.2,
            "bin_start": 168.5,
            "count": 1
           },
           {
            "bin_end": 175.9,
            "bin_start": 172.2,
            "count": 0
           },
           {
            "bin_end": 179.6,
            "bin_start": 175.9,
            "count": 1
           },
           {
            "bin_end": 183.3,
            "bin_start": 179.6,
            "count": 0
           },
           {
            "bin_end": 187,
            "bin_start": 183.3,
            "count": 1
           }
          ],
          "max": "187",
          "min": "150",
          "nan_count": 0,
          "unique_count": 5
         }
        },
        {
         "dtype": "float64",
         "name": "oldpeak",
         "stats": {
          "histogram": [
           {
            "bin_end": 0.8899999999999999,
            "bin_start": 0.6,
            "count": 2
           },
           {
            "bin_end": 1.18,
            "bin_start": 0.8899999999999999,
            "count": 0
           },
           {
            "bin_end": 1.4699999999999998,
            "bin_start": 1.18,
            "count": 1
           },
           {
            "bin_end": 1.7599999999999998,
            "bin_start": 1.4699999999999998,
            "count": 0
           },
           {
            "bin_end": 2.05,
            "bin_start": 1.7599999999999998,
            "count": 0
           },
           {
            "bin_end": 2.34,
            "bin_start": 2.05,
            "count": 1
           },
           {
            "bin_end": 2.63,
            "bin_start": 2.34,
            "count": 0
           },
           {
            "bin_end": 2.92,
            "bin_start": 2.63,
            "count": 0
           },
           {
            "bin_end": 3.21,
            "bin_start": 2.92,
            "count": 0
           },
           {
            "bin_end": 3.5,
            "bin_start": 3.21,
            "count": 1
           }
          ],
          "max": "3.5",
          "min": "0.6",
          "nan_count": 0,
          "unique_count": 5
         }
        },
        {
         "dtype": "int64",
         "name": "sex",
         "stats": {
          "histogram": [
           {
            "bin_end": 0.1,
            "bin_start": 0,
            "count": 2
           },
           {
            "bin_end": 0.2,
            "bin_start": 0.1,
            "count": 0
           },
           {
            "bin_end": 0.30000000000000004,
            "bin_start": 0.2,
            "count": 0
           },
           {
            "bin_end": 0.4,
            "bin_start": 0.30000000000000004,
            "count": 0
           },
           {
            "bin_end": 0.5,
            "bin_start": 0.4,
            "count": 0
           },
           {
            "bin_end": 0.6000000000000001,
            "bin_start": 0.5,
            "count": 0
           },
           {
            "bin_end": 0.7000000000000001,
            "bin_start": 0.6000000000000001,
            "count": 0
           },
           {
            "bin_end": 0.8,
            "bin_start": 0.7000000000000001,
            "count": 0
           },
           {
            "bin_end": 0.9,
            "bin_start": 0.8,
            "count": 0
           },
           {
            "bin_end": 1,
            "bin_start": 0.9,
            "count": 3
           }
          ],
          "max": "1",
          "min": "0",
          "nan_count": 0,
          "unique_count": 2
         }
        },
        {
         "dtype": "int64",
         "name": "cp",
         "stats": {
          "histogram": [
           {
            "bin_end": 0.3,
            "bin_start": 0,
            "count": 1
           },
           {
            "bin_end": 0.6,
            "bin_start": 0.3,
            "count": 0
           },
           {
            "bin_end": 0.8999999999999999,
            "bin_start": 0.6,
            "count": 0
           },
           {
            "bin_end": 1.2,
            "bin_start": 0.8999999999999999,
            "count": 2
           },
           {
            "bin_end": 1.5,
            "bin_start": 1.2,
            "count": 0
           },
           {
            "bin_end": 1.7999999999999998,
            "bin_start": 1.5,
            "count": 0
           },
           {
            "bin_end": 2.1,
            "bin_start": 1.7999999999999998,
            "count": 1
           },
           {
            "bin_end": 2.4,
            "bin_start": 2.1,
            "count": 0
           },
           {
            "bin_end": 2.6999999999999997,
            "bin_start": 2.4,
            "count": 0
           },
           {
            "bin_end": 3,
            "bin_start": 2.6999999999999997,
            "count": 1
           }
          ],
          "max": "3",
          "min": "0",
          "nan_count": 0,
          "unique_count": 4
         }
        },
        {
         "dtype": "int64",
         "name": "fbs",
         "stats": {
          "histogram": [
           {
            "bin_end": 0.1,
            "bin_start": 0,
            "count": 4
           },
           {
            "bin_end": 0.2,
            "bin_start": 0.1,
            "count": 0
           },
           {
            "bin_end": 0.30000000000000004,
            "bin_start": 0.2,
            "count": 0
           },
           {
            "bin_end": 0.4,
            "bin_start": 0.30000000000000004,
            "count": 0
           },
           {
            "bin_end": 0.5,
            "bin_start": 0.4,
            "count": 0
           },
           {
            "bin_end": 0.6000000000000001,
            "bin_start": 0.5,
            "count": 0
           },
           {
            "bin_end": 0.7000000000000001,
            "bin_start": 0.6000000000000001,
            "count": 0
           },
           {
            "bin_end": 0.8,
            "bin_start": 0.7000000000000001,
            "count": 0
           },
           {
            "bin_end": 0.9,
            "bin_start": 0.8,
            "count": 0
           },
           {
            "bin_end": 1,
            "bin_start": 0.9,
            "count": 1
           }
          ],
          "max": "1",
          "min": "0",
          "nan_count": 0,
          "unique_count": 2
         }
        },
        {
         "dtype": "int64",
         "name": "restecg",
         "stats": {
          "histogram": [
           {
            "bin_end": 0.1,
            "bin_start": 0,
            "count": 2
           },
           {
            "bin_end": 0.2,
            "bin_start": 0.1,
            "count": 0
           },
           {
            "bin_end": 0.30000000000000004,
            "bin_start": 0.2,
            "count": 0
           },
           {
            "bin_end": 0.4,
            "bin_start": 0.30000000000000004,
            "count": 0
           },
           {
            "bin_end": 0.5,
            "bin_start": 0.4,
            "count": 0
           },
           {
            "bin_end": 0.6000000000000001,
            "bin_start": 0.5,
            "count": 0
           },
           {
            "bin_end": 0.7000000000000001,
            "bin_start": 0.6000000000000001,
            "count": 0
           },
           {
            "bin_end": 0.8,
            "bin_start": 0.7000000000000001,
            "count": 0
           },
           {
            "bin_end": 0.9,
            "bin_start": 0.8,
            "count": 0
           },
           {
            "bin_end": 1,
            "bin_start": 0.9,
            "count": 3
           }
          ],
          "max": "1",
          "min": "0",
          "nan_count": 0,
          "unique_count": 2
         }
        },
        {
         "dtype": "int64",
         "name": "exang",
         "stats": {
          "histogram": [
           {
            "bin_end": 0.1,
            "bin_start": 0,
            "count": 4
           },
           {
            "bin_end": 0.2,
            "bin_start": 0.1,
            "count": 0
           },
           {
            "bin_end": 0.30000000000000004,
            "bin_start": 0.2,
            "count": 0
           },
           {
            "bin_end": 0.4,
            "bin_start": 0.30000000000000004,
            "count": 0
           },
           {
            "bin_end": 0.5,
            "bin_start": 0.4,
            "count": 0
           },
           {
            "bin_end": 0.6000000000000001,
            "bin_start": 0.5,
            "count": 0
           },
           {
            "bin_end": 0.7000000000000001,
            "bin_start": 0.6000000000000001,
            "count": 0
           },
           {
            "bin_end": 0.8,
            "bin_start": 0.7000000000000001,
            "count": 0
           },
           {
            "bin_end": 0.9,
            "bin_start": 0.8,
            "count": 0
           },
           {
            "bin_end": 1,
            "bin_start": 0.9,
            "count": 1
           }
          ],
          "max": "1",
          "min": "0",
          "nan_count": 0,
          "unique_count": 2
         }
        },
        {
         "dtype": "int64",
         "name": "slope",
         "stats": {
          "histogram": [
           {
            "bin_end": 0.2,
            "bin_start": 0,
            "count": 2
           },
           {
            "bin_end": 0.4,
            "bin_start": 0.2,
            "count": 0
           },
           {
            "bin_end": 0.6000000000000001,
            "bin_start": 0.4,
            "count": 0
           },
           {
            "bin_end": 0.8,
            "bin_start": 0.6000000000000001,
            "count": 0
           },
           {
            "bin_end": 1,
            "bin_start": 0.8,
            "count": 0
           },
           {
            "bin_end": 1.2000000000000002,
            "bin_start": 1,
            "count": 0
           },
           {
            "bin_end": 1.4000000000000001,
            "bin_start": 1.2000000000000002,
            "count": 0
           },
           {
            "bin_end": 1.6,
            "bin_start": 1.4000000000000001,
            "count": 0
           },
           {
            "bin_end": 1.8,
            "bin_start": 1.6,
            "count": 0
           },
           {
            "bin_end": 2,
            "bin_start": 1.8,
            "count": 3
           }
          ],
          "max": "2",
          "min": "0",
          "nan_count": 0,
          "unique_count": 2
         }
        },
        {
         "dtype": "int64",
         "name": "ca",
         "stats": {
          "histogram": [
           {
            "bin_end": -0.4,
            "bin_start": -0.5,
            "count": 0
           },
           {
            "bin_end": -0.3,
            "bin_start": -0.4,
            "count": 0
           },
           {
            "bin_end": -0.19999999999999996,
            "bin_start": -0.3,
            "count": 0
           },
           {
            "bin_end": -0.09999999999999998,
            "bin_start": -0.19999999999999996,
            "count": 0
           },
           {
            "bin_end": 0,
            "bin_start": -0.09999999999999998,
            "count": 0
           },
           {
            "bin_end": 0.10000000000000009,
            "bin_start": 0,
            "count": 5
           },
           {
            "bin_end": 0.20000000000000007,
            "bin_start": 0.10000000000000009,
            "count": 0
           },
           {
            "bin_end": 0.30000000000000004,
            "bin_start": 0.20000000000000007,
            "count": 0
           },
           {
            "bin_end": 0.4,
            "bin_start": 0.30000000000000004,
            "count": 0
           },
           {
            "bin_end": 0.5,
            "bin_start": 0.4,
            "count": 0
           }
          ],
          "max": "0",
          "min": "0",
          "nan_count": 0,
          "unique_count": 1
         }
        },
        {
         "dtype": "int64",
         "name": "thal",
         "stats": {
          "histogram": [
           {
            "bin_end": 1.1,
            "bin_start": 1,
            "count": 1
           },
           {
            "bin_end": 1.2,
            "bin_start": 1.1,
            "count": 0
           },
           {
            "bin_end": 1.3,
            "bin_start": 1.2,
            "count": 0
           },
           {
            "bin_end": 1.4,
            "bin_start": 1.3,
            "count": 0
           },
           {
            "bin_end": 1.5,
            "bin_start": 1.4,
            "count": 0
           },
           {
            "bin_end": 1.6,
            "bin_start": 1.5,
            "count": 0
           },
           {
            "bin_end": 1.7000000000000002,
            "bin_start": 1.6,
            "count": 0
           },
           {
            "bin_end": 1.8,
            "bin_start": 1.7000000000000002,
            "count": 0
           },
           {
            "bin_end": 1.9,
            "bin_start": 1.8,
            "count": 0
           },
           {
            "bin_end": 2,
            "bin_start": 1.9,
            "count": 4
           }
          ],
          "max": "2",
          "min": "1",
          "nan_count": 0,
          "unique_count": 2
         }
        },
        {
         "dtype": "int64",
         "name": "_deepnote_index_column"
        }
       ],
       "row_count": 5,
       "rows_bottom": null,
       "rows_top": [
        {
         "_deepnote_index_column": 0,
         "age": 63,
         "ca": 0,
         "chol": 233,
         "cp": 3,
         "exang": 0,
         "fbs": 1,
         "oldpeak": 2.3,
         "restecg": 0,
         "sex": 1,
         "slope": 0,
         "thal": 1,
         "thalach": 150,
         "trestbps": 145
        },
        {
         "_deepnote_index_column": 1,
         "age": 37,
         "ca": 0,
         "chol": 250,
         "cp": 2,
         "exang": 0,
         "fbs": 0,
         "oldpeak": 3.5,
         "restecg": 1,
         "sex": 1,
         "slope": 0,
         "thal": 2,
         "thalach": 187,
         "trestbps": 130
        },
        {
         "_deepnote_index_column": 2,
         "age": 41,
         "ca": 0,
         "chol": 204,
         "cp": 1,
         "exang": 0,
         "fbs": 0,
         "oldpeak": 1.4,
         "restecg": 0,
         "sex": 0,
         "slope": 2,
         "thal": 2,
         "thalach": 172,
         "trestbps": 130
        },
        {
         "_deepnote_index_column": 3,
         "age": 56,
         "ca": 0,
         "chol": 236,
         "cp": 1,
         "exang": 0,
         "fbs": 0,
         "oldpeak": 0.8,
         "restecg": 1,
         "sex": 1,
         "slope": 2,
         "thal": 2,
         "thalach": 178,
         "trestbps": 120
        },
        {
         "_deepnote_index_column": 4,
         "age": 57,
         "ca": 0,
         "chol": 354,
         "cp": 0,
         "exang": 1,
         "fbs": 0,
         "oldpeak": 0.6,
         "restecg": 1,
         "sex": 0,
         "slope": 2,
         "thal": 2,
         "thalach": 163,
         "trestbps": 120
        }
       ]
      },
      "text/html": [
       "<div>\n",
       "<style scoped>\n",
       "    .dataframe tbody tr th:only-of-type {\n",
       "        vertical-align: middle;\n",
       "    }\n",
       "\n",
       "    .dataframe tbody tr th {\n",
       "        vertical-align: top;\n",
       "    }\n",
       "\n",
       "    .dataframe thead th {\n",
       "        text-align: right;\n",
       "    }\n",
       "</style>\n",
       "<table border=\"1\" class=\"dataframe\">\n",
       "  <thead>\n",
       "    <tr style=\"text-align: right;\">\n",
       "      <th></th>\n",
       "      <th>age</th>\n",
       "      <th>trestbps</th>\n",
       "      <th>chol</th>\n",
       "      <th>thalach</th>\n",
       "      <th>oldpeak</th>\n",
       "      <th>sex</th>\n",
       "      <th>cp</th>\n",
       "      <th>fbs</th>\n",
       "      <th>restecg</th>\n",
       "      <th>exang</th>\n",
       "      <th>slope</th>\n",
       "      <th>ca</th>\n",
       "      <th>thal</th>\n",
       "    </tr>\n",
       "  </thead>\n",
       "  <tbody>\n",
       "    <tr>\n",
       "      <th>0</th>\n",
       "      <td>63</td>\n",
       "      <td>145</td>\n",
       "      <td>233</td>\n",
       "      <td>150</td>\n",
       "      <td>2.3</td>\n",
       "      <td>1</td>\n",
       "      <td>3</td>\n",
       "      <td>1</td>\n",
       "      <td>0</td>\n",
       "      <td>0</td>\n",
       "      <td>0</td>\n",
       "      <td>0</td>\n",
       "      <td>1</td>\n",
       "    </tr>\n",
       "    <tr>\n",
       "      <th>1</th>\n",
       "      <td>37</td>\n",
       "      <td>130</td>\n",
       "      <td>250</td>\n",
       "      <td>187</td>\n",
       "      <td>3.5</td>\n",
       "      <td>1</td>\n",
       "      <td>2</td>\n",
       "      <td>0</td>\n",
       "      <td>1</td>\n",
       "      <td>0</td>\n",
       "      <td>0</td>\n",
       "      <td>0</td>\n",
       "      <td>2</td>\n",
       "    </tr>\n",
       "    <tr>\n",
       "      <th>2</th>\n",
       "      <td>41</td>\n",
       "      <td>130</td>\n",
       "      <td>204</td>\n",
       "      <td>172</td>\n",
       "      <td>1.4</td>\n",
       "      <td>0</td>\n",
       "      <td>1</td>\n",
       "      <td>0</td>\n",
       "      <td>0</td>\n",
       "      <td>0</td>\n",
       "      <td>2</td>\n",
       "      <td>0</td>\n",
       "      <td>2</td>\n",
       "    </tr>\n",
       "    <tr>\n",
       "      <th>3</th>\n",
       "      <td>56</td>\n",
       "      <td>120</td>\n",
       "      <td>236</td>\n",
       "      <td>178</td>\n",
       "      <td>0.8</td>\n",
       "      <td>1</td>\n",
       "      <td>1</td>\n",
       "      <td>0</td>\n",
       "      <td>1</td>\n",
       "      <td>0</td>\n",
       "      <td>2</td>\n",
       "      <td>0</td>\n",
       "      <td>2</td>\n",
       "    </tr>\n",
       "    <tr>\n",
       "      <th>4</th>\n",
       "      <td>57</td>\n",
       "      <td>120</td>\n",
       "      <td>354</td>\n",
       "      <td>163</td>\n",
       "      <td>0.6</td>\n",
       "      <td>0</td>\n",
       "      <td>0</td>\n",
       "      <td>0</td>\n",
       "      <td>1</td>\n",
       "      <td>1</td>\n",
       "      <td>2</td>\n",
       "      <td>0</td>\n",
       "      <td>2</td>\n",
       "    </tr>\n",
       "  </tbody>\n",
       "</table>\n",
       "</div>"
      ],
      "text/plain": [
       "   age  trestbps  chol  thalach  oldpeak  sex  cp  fbs  restecg  exang  slope  \\\n",
       "0   63       145   233      150      2.3    1   3    1        0      0      0   \n",
       "1   37       130   250      187      3.5    1   2    0        1      0      0   \n",
       "2   41       130   204      172      1.4    0   1    0        0      0      2   \n",
       "3   56       120   236      178      0.8    1   1    0        1      0      2   \n",
       "4   57       120   354      163      0.6    0   0    0        1      1      2   \n",
       "\n",
       "   ca  thal  \n",
       "0   0     1  \n",
       "1   0     2  \n",
       "2   0     2  \n",
       "3   0     2  \n",
       "4   0     2  "
      ]
     },
     "execution_count": 30,
     "metadata": {},
     "output_type": "execute_result"
    }
   ],
   "source": [
    "x.head()"
   ]
  },
  {
   "cell_type": "code",
   "execution_count": 31,
   "metadata": {
    "cell_id": "00017-696837f1-098a-4dc8-968b-c2a4ec53b0b9",
    "deepnote_cell_type": "code",
    "deepnote_to_be_reexecuted": false,
    "execution_millis": 2177,
    "execution_start": 1620564141922,
    "source_hash": "4fdf3826",
    "tags": []
   },
   "outputs": [
    {
     "name": "stderr",
     "output_type": "stream",
     "text": [
      "1:\tlearn: 0.6846383\ttotal: 48.7ms\tremaining: 24.3s\n",
      "2:\tlearn: 0.6801672\ttotal: 49.5ms\tremaining: 16.5s\n",
      "3:\tlearn: 0.6748581\ttotal: 50.4ms\tremaining: 12.5s\n",
      "4:\tlearn: 0.6715237\ttotal: 51.2ms\tremaining: 10.2s\n",
      "5:\tlearn: 0.6677524\ttotal: 52.1ms\tremaining: 8.63s\n",
      "6:\tlearn: 0.6645073\ttotal: 52.9ms\tremaining: 7.5s\n",
      "7:\tlearn: 0.6606824\ttotal: 53.7ms\tremaining: 6.66s\n",
      "8:\tlearn: 0.6563728\ttotal: 54.6ms\tremaining: 6.01s\n",
      "9:\tlearn: 0.6536571\ttotal: 55.2ms\tremaining: 5.47s\n",
      "10:\tlearn: 0.6511385\ttotal: 55.7ms\tremaining: 5.01s\n",
      "11:\tlearn: 0.6474795\ttotal: 56.6ms\tremaining: 4.66s\n",
      "12:\tlearn: 0.6441003\ttotal: 57.4ms\tremaining: 4.36s\n",
      "13:\tlearn: 0.6400368\ttotal: 58.3ms\tremaining: 4.11s\n",
      "14:\tlearn: 0.6368866\ttotal: 59.2ms\tremaining: 3.88s\n",
      "15:\tlearn: 0.6327358\ttotal: 60ms\tremaining: 3.69s\n",
      "16:\tlearn: 0.6289195\ttotal: 60.9ms\tremaining: 3.52s\n",
      "17:\tlearn: 0.6251071\ttotal: 62.2ms\tremaining: 3.39s\n",
      "18:\tlearn: 0.6215853\ttotal: 63ms\tremaining: 3.25s\n",
      "19:\tlearn: 0.6174848\ttotal: 64.1ms\tremaining: 3.14s\n",
      "20:\tlearn: 0.6145854\ttotal: 65.6ms\tremaining: 3.06s\n",
      "21:\tlearn: 0.6115736\ttotal: 67.1ms\tremaining: 2.98s\n",
      "22:\tlearn: 0.6092260\ttotal: 68.8ms\tremaining: 2.92s\n",
      "23:\tlearn: 0.6049927\ttotal: 70.3ms\tremaining: 2.86s\n",
      "24:\tlearn: 0.6011203\ttotal: 71.4ms\tremaining: 2.78s\n",
      "25:\tlearn: 0.5981705\ttotal: 72.8ms\tremaining: 2.73s\n",
      "26:\tlearn: 0.5945817\ttotal: 73.9ms\tremaining: 2.66s\n",
      "27:\tlearn: 0.5914824\ttotal: 74.8ms\tremaining: 2.6s\n",
      "28:\tlearn: 0.5881491\ttotal: 75.9ms\tremaining: 2.54s\n",
      "29:\tlearn: 0.5871239\ttotal: 76.3ms\tremaining: 2.47s\n",
      "30:\tlearn: 0.5838421\ttotal: 77.5ms\tremaining: 2.42s\n",
      "31:\tlearn: 0.5807375\ttotal: 78.3ms\tremaining: 2.37s\n",
      "32:\tlearn: 0.5783340\ttotal: 79.4ms\tremaining: 2.33s\n",
      "33:\tlearn: 0.5750971\ttotal: 80.3ms\tremaining: 2.28s\n",
      "34:\tlearn: 0.5721974\ttotal: 81.5ms\tremaining: 2.25s\n",
      "35:\tlearn: 0.5692656\ttotal: 82.4ms\tremaining: 2.21s\n",
      "36:\tlearn: 0.5667149\ttotal: 83.4ms\tremaining: 2.17s\n",
      "37:\tlearn: 0.5641673\ttotal: 84.3ms\tremaining: 2.13s\n",
      "38:\tlearn: 0.5617016\ttotal: 85.7ms\tremaining: 2.11s\n",
      "39:\tlearn: 0.5594955\ttotal: 86.8ms\tremaining: 2.08s\n",
      "40:\tlearn: 0.5558779\ttotal: 87.8ms\tremaining: 2.05s\n",
      "41:\tlearn: 0.5530526\ttotal: 88.7ms\tremaining: 2.02s\n",
      "42:\tlearn: 0.5498713\ttotal: 90.1ms\tremaining: 2s\n",
      "43:\tlearn: 0.5468373\ttotal: 91.4ms\tremaining: 1.99s\n",
      "44:\tlearn: 0.5445532\ttotal: 92.2ms\tremaining: 1.96s\n",
      "45:\tlearn: 0.5414160\ttotal: 93.1ms\tremaining: 1.93s\n",
      "46:\tlearn: 0.5382562\ttotal: 94ms\tremaining: 1.91s\n",
      "47:\tlearn: 0.5361772\ttotal: 94.8ms\tremaining: 1.88s\n",
      "48:\tlearn: 0.5336403\ttotal: 95.5ms\tremaining: 1.85s\n",
      "49:\tlearn: 0.5320020\ttotal: 96.1ms\tremaining: 1.82s\n",
      "50:\tlearn: 0.5296750\ttotal: 96.9ms\tremaining: 1.8s\n",
      "51:\tlearn: 0.5271197\ttotal: 97.7ms\tremaining: 1.78s\n",
      "52:\tlearn: 0.5243117\ttotal: 98.5ms\tremaining: 1.76s\n",
      "53:\tlearn: 0.5219520\ttotal: 99.4ms\tremaining: 1.74s\n",
      "54:\tlearn: 0.5188304\ttotal: 100ms\tremaining: 1.72s\n",
      "55:\tlearn: 0.5162806\ttotal: 101ms\tremaining: 1.7s\n",
      "56:\tlearn: 0.5146936\ttotal: 102ms\tremaining: 1.69s\n",
      "57:\tlearn: 0.5126422\ttotal: 103ms\tremaining: 1.67s\n",
      "58:\tlearn: 0.5102498\ttotal: 104ms\tremaining: 1.65s\n",
      "59:\tlearn: 0.5078196\ttotal: 105ms\tremaining: 1.64s\n",
      "60:\tlearn: 0.5050430\ttotal: 105ms\tremaining: 1.62s\n",
      "61:\tlearn: 0.5031049\ttotal: 106ms\tremaining: 1.61s\n",
      "62:\tlearn: 0.5019453\ttotal: 107ms\tremaining: 1.59s\n",
      "63:\tlearn: 0.4989380\ttotal: 108ms\tremaining: 1.57s\n",
      "64:\tlearn: 0.4968234\ttotal: 108ms\tremaining: 1.56s\n",
      "65:\tlearn: 0.4947195\ttotal: 109ms\tremaining: 1.54s\n",
      "66:\tlearn: 0.4925308\ttotal: 110ms\tremaining: 1.53s\n",
      "67:\tlearn: 0.4901145\ttotal: 111ms\tremaining: 1.52s\n",
      "68:\tlearn: 0.4875663\ttotal: 112ms\tremaining: 1.51s\n",
      "69:\tlearn: 0.4856549\ttotal: 113ms\tremaining: 1.5s\n",
      "70:\tlearn: 0.4829536\ttotal: 113ms\tremaining: 1.48s\n",
      "71:\tlearn: 0.4810195\ttotal: 114ms\tremaining: 1.47s\n",
      "72:\tlearn: 0.4803086\ttotal: 115ms\tremaining: 1.46s\n",
      "73:\tlearn: 0.4782000\ttotal: 116ms\tremaining: 1.45s\n",
      "74:\tlearn: 0.4772113\ttotal: 116ms\tremaining: 1.43s\n",
      "75:\tlearn: 0.4750510\ttotal: 117ms\tremaining: 1.42s\n",
      "76:\tlearn: 0.4729270\ttotal: 118ms\tremaining: 1.41s\n",
      "77:\tlearn: 0.4707715\ttotal: 119ms\tremaining: 1.4s\n",
      "78:\tlearn: 0.4686079\ttotal: 120ms\tremaining: 1.39s\n",
      "79:\tlearn: 0.4660038\ttotal: 120ms\tremaining: 1.38s\n",
      "80:\tlearn: 0.4638823\ttotal: 121ms\tremaining: 1.38s\n",
      "81:\tlearn: 0.4622906\ttotal: 122ms\tremaining: 1.37s\n",
      "82:\tlearn: 0.4599355\ttotal: 123ms\tremaining: 1.36s\n",
      "83:\tlearn: 0.4590063\ttotal: 124ms\tremaining: 1.35s\n",
      "84:\tlearn: 0.4568541\ttotal: 125ms\tremaining: 1.34s\n",
      "85:\tlearn: 0.4542752\ttotal: 125ms\tremaining: 1.33s\n",
      "86:\tlearn: 0.4522945\ttotal: 126ms\tremaining: 1.32s\n",
      "87:\tlearn: 0.4503323\ttotal: 127ms\tremaining: 1.32s\n",
      "88:\tlearn: 0.4479105\ttotal: 128ms\tremaining: 1.31s\n",
      "89:\tlearn: 0.4463390\ttotal: 129ms\tremaining: 1.3s\n",
      "90:\tlearn: 0.4445338\ttotal: 130ms\tremaining: 1.3s\n",
      "91:\tlearn: 0.4426171\ttotal: 131ms\tremaining: 1.29s\n",
      "92:\tlearn: 0.4410362\ttotal: 131ms\tremaining: 1.28s\n",
      "93:\tlearn: 0.4391127\ttotal: 132ms\tremaining: 1.27s\n",
      "94:\tlearn: 0.4375004\ttotal: 139ms\tremaining: 1.33s\n",
      "95:\tlearn: 0.4361189\ttotal: 140ms\tremaining: 1.32s\n",
      "96:\tlearn: 0.4346860\ttotal: 141ms\tremaining: 1.31s\n",
      "97:\tlearn: 0.4328847\ttotal: 142ms\tremaining: 1.31s\n",
      "98:\tlearn: 0.4314218\ttotal: 143ms\tremaining: 1.3s\n",
      "99:\tlearn: 0.4300784\ttotal: 144ms\tremaining: 1.3s\n",
      "100:\tlearn: 0.4281630\ttotal: 145ms\tremaining: 1.29s\n",
      "101:\tlearn: 0.4264571\ttotal: 146ms\tremaining: 1.28s\n",
      "102:\tlearn: 0.4248067\ttotal: 147ms\tremaining: 1.28s\n",
      "103:\tlearn: 0.4234521\ttotal: 148ms\tremaining: 1.27s\n",
      "104:\tlearn: 0.4219183\ttotal: 149ms\tremaining: 1.27s\n",
      "105:\tlearn: 0.4201993\ttotal: 149ms\tremaining: 1.26s\n",
      "106:\tlearn: 0.4183325\ttotal: 150ms\tremaining: 1.25s\n",
      "107:\tlearn: 0.4162320\ttotal: 151ms\tremaining: 1.25s\n",
      "108:\tlearn: 0.4140456\ttotal: 152ms\tremaining: 1.24s\n",
      "109:\tlearn: 0.4126215\ttotal: 154ms\tremaining: 1.24s\n",
      "110:\tlearn: 0.4122775\ttotal: 154ms\tremaining: 1.23s\n",
      "111:\tlearn: 0.4107823\ttotal: 155ms\tremaining: 1.23s\n",
      "112:\tlearn: 0.4091647\ttotal: 156ms\tremaining: 1.22s\n",
      "113:\tlearn: 0.4074631\ttotal: 157ms\tremaining: 1.22s\n",
      "114:\tlearn: 0.4062189\ttotal: 157ms\tremaining: 1.21s\n",
      "115:\tlearn: 0.4053105\ttotal: 158ms\tremaining: 1.2s\n",
      "116:\tlearn: 0.4040919\ttotal: 159ms\tremaining: 1.2s\n",
      "117:\tlearn: 0.4026533\ttotal: 160ms\tremaining: 1.19s\n",
      "118:\tlearn: 0.4014268\ttotal: 161ms\tremaining: 1.19s\n",
      "119:\tlearn: 0.4004270\ttotal: 161ms\tremaining: 1.18s\n",
      "120:\tlearn: 0.3987178\ttotal: 163ms\tremaining: 1.18s\n",
      "121:\tlearn: 0.3973770\ttotal: 164ms\tremaining: 1.18s\n",
      "122:\tlearn: 0.3958622\ttotal: 165ms\tremaining: 1.18s\n",
      "123:\tlearn: 0.3943643\ttotal: 166ms\tremaining: 1.17s\n",
      "124:\tlearn: 0.3928569\ttotal: 167ms\tremaining: 1.17s\n",
      "125:\tlearn: 0.3917839\ttotal: 168ms\tremaining: 1.17s\n",
      "126:\tlearn: 0.3905536\ttotal: 169ms\tremaining: 1.16s\n",
      "127:\tlearn: 0.3892384\ttotal: 170ms\tremaining: 1.16s\n",
      "128:\tlearn: 0.3878178\ttotal: 171ms\tremaining: 1.15s\n",
      "129:\tlearn: 0.3868310\ttotal: 172ms\tremaining: 1.15s\n",
      "130:\tlearn: 0.3852906\ttotal: 172ms\tremaining: 1.14s\n",
      "131:\tlearn: 0.3838224\ttotal: 173ms\tremaining: 1.14s\n",
      "132:\tlearn: 0.3830690\ttotal: 179ms\tremaining: 1.16s\n",
      "133:\tlearn: 0.3816737\ttotal: 180ms\tremaining: 1.16s\n",
      "134:\tlearn: 0.3802118\ttotal: 182ms\tremaining: 1.17s\n",
      "135:\tlearn: 0.3789626\ttotal: 183ms\tremaining: 1.16s\n",
      "136:\tlearn: 0.3785100\ttotal: 184ms\tremaining: 1.16s\n",
      "137:\tlearn: 0.3773389\ttotal: 185ms\tremaining: 1.15s\n",
      "138:\tlearn: 0.3759870\ttotal: 186ms\tremaining: 1.15s\n",
      "139:\tlearn: 0.3742390\ttotal: 187ms\tremaining: 1.15s\n",
      "140:\tlearn: 0.3734458\ttotal: 188ms\tremaining: 1.15s\n",
      "141:\tlearn: 0.3731682\ttotal: 189ms\tremaining: 1.14s\n",
      "142:\tlearn: 0.3718507\ttotal: 189ms\tremaining: 1.13s\n",
      "143:\tlearn: 0.3709084\ttotal: 191ms\tremaining: 1.14s\n",
      "144:\tlearn: 0.3695712\ttotal: 192ms\tremaining: 1.13s\n",
      "145:\tlearn: 0.3689913\ttotal: 194ms\tremaining: 1.13s\n",
      "146:\tlearn: 0.3678829\ttotal: 195ms\tremaining: 1.13s\n",
      "147:\tlearn: 0.3666868\ttotal: 196ms\tremaining: 1.13s\n",
      "148:\tlearn: 0.3653109\ttotal: 197ms\tremaining: 1.12s\n",
      "149:\tlearn: 0.3642359\ttotal: 198ms\tremaining: 1.12s\n",
      "150:\tlearn: 0.3630243\ttotal: 199ms\tremaining: 1.12s\n",
      "151:\tlearn: 0.3622367\ttotal: 200ms\tremaining: 1.11s\n",
      "152:\tlearn: 0.3612424\ttotal: 201ms\tremaining: 1.11s\n",
      "153:\tlearn: 0.3607026\ttotal: 202ms\tremaining: 1.11s\n",
      "154:\tlearn: 0.3598627\ttotal: 203ms\tremaining: 1.11s\n",
      "155:\tlearn: 0.3587526\ttotal: 204ms\tremaining: 1.1s\n",
      "156:\tlearn: 0.3585612\ttotal: 205ms\tremaining: 1.1s\n",
      "157:\tlearn: 0.3573886\ttotal: 206ms\tremaining: 1.1s\n",
      "158:\tlearn: 0.3563127\ttotal: 207ms\tremaining: 1.09s\n",
      "159:\tlearn: 0.3549109\ttotal: 208ms\tremaining: 1.09s\n",
      "160:\tlearn: 0.3535576\ttotal: 209ms\tremaining: 1.09s\n",
      "161:\tlearn: 0.3526902\ttotal: 210ms\tremaining: 1.08s\n",
      "162:\tlearn: 0.3520211\ttotal: 211ms\tremaining: 1.08s\n",
      "163:\tlearn: 0.3513030\ttotal: 212ms\tremaining: 1.08s\n",
      "164:\tlearn: 0.3505553\ttotal: 213ms\tremaining: 1.08s\n",
      "165:\tlearn: 0.3492472\ttotal: 214ms\tremaining: 1.07s\n",
      "166:\tlearn: 0.3481900\ttotal: 215ms\tremaining: 1.07s\n",
      "167:\tlearn: 0.3473807\ttotal: 216ms\tremaining: 1.07s\n",
      "168:\tlearn: 0.3464324\ttotal: 217ms\tremaining: 1.07s\n",
      "169:\tlearn: 0.3459828\ttotal: 218ms\tremaining: 1.06s\n",
      "170:\tlearn: 0.3444786\ttotal: 219ms\tremaining: 1.06s\n",
      "171:\tlearn: 0.3433500\ttotal: 220ms\tremaining: 1.06s\n",
      "172:\tlearn: 0.3422618\ttotal: 221ms\tremaining: 1.05s\n",
      "173:\tlearn: 0.3413679\ttotal: 222ms\tremaining: 1.05s\n",
      "174:\tlearn: 0.3402018\ttotal: 223ms\tremaining: 1.05s\n",
      "175:\tlearn: 0.3393927\ttotal: 224ms\tremaining: 1.05s\n",
      "176:\tlearn: 0.3384887\ttotal: 225ms\tremaining: 1.04s\n",
      "177:\tlearn: 0.3372180\ttotal: 226ms\tremaining: 1.04s\n",
      "178:\tlearn: 0.3365269\ttotal: 228ms\tremaining: 1.05s\n",
      "179:\tlearn: 0.3354707\ttotal: 230ms\tremaining: 1.05s\n",
      "180:\tlearn: 0.3346126\ttotal: 231ms\tremaining: 1.05s\n",
      "181:\tlearn: 0.3336095\ttotal: 232ms\tremaining: 1.04s\n",
      "182:\tlearn: 0.3330139\ttotal: 233ms\tremaining: 1.04s\n",
      "183:\tlearn: 0.3321349\ttotal: 234ms\tremaining: 1.04s\n",
      "184:\tlearn: 0.3310413\ttotal: 235ms\tremaining: 1.04s\n",
      "185:\tlearn: 0.3303609\ttotal: 239ms\tremaining: 1.04s\n",
      "186:\tlearn: 0.3295510\ttotal: 240ms\tremaining: 1.04s\n",
      "187:\tlearn: 0.3287964\ttotal: 241ms\tremaining: 1.04s\n",
      "188:\tlearn: 0.3277367\ttotal: 243ms\tremaining: 1.04s\n",
      "189:\tlearn: 0.3267677\ttotal: 245ms\tremaining: 1.04s\n",
      "190:\tlearn: 0.3255975\ttotal: 247ms\tremaining: 1.05s\n",
      "191:\tlearn: 0.3251722\ttotal: 249ms\tremaining: 1.05s\n",
      "192:\tlearn: 0.3247454\ttotal: 250ms\tremaining: 1.05s\n",
      "193:\tlearn: 0.3241126\ttotal: 252ms\tremaining: 1.05s\n",
      "194:\tlearn: 0.3232086\ttotal: 255ms\tremaining: 1.05s\n",
      "195:\tlearn: 0.3222783\ttotal: 262ms\tremaining: 1.07s\n",
      "196:\tlearn: 0.3210541\ttotal: 263ms\tremaining: 1.07s\n",
      "197:\tlearn: 0.3199612\ttotal: 265ms\tremaining: 1.07s\n",
      "198:\tlearn: 0.3191200\ttotal: 266ms\tremaining: 1.07s\n",
      "199:\tlearn: 0.3183723\ttotal: 267ms\tremaining: 1.07s\n",
      "200:\tlearn: 0.3174470\ttotal: 268ms\tremaining: 1.06s\n",
      "201:\tlearn: 0.3170930\ttotal: 269ms\tremaining: 1.06s\n",
      "202:\tlearn: 0.3165250\ttotal: 270ms\tremaining: 1.06s\n",
      "203:\tlearn: 0.3156430\ttotal: 270ms\tremaining: 1.05s\n",
      "204:\tlearn: 0.3151276\ttotal: 271ms\tremaining: 1.05s\n",
      "205:\tlearn: 0.3140928\ttotal: 274ms\tremaining: 1.06s\n",
      "206:\tlearn: 0.3132728\ttotal: 275ms\tremaining: 1.05s\n",
      "207:\tlearn: 0.3121790\ttotal: 276ms\tremaining: 1.05s\n",
      "208:\tlearn: 0.3115496\ttotal: 277ms\tremaining: 1.05s\n",
      "209:\tlearn: 0.3107629\ttotal: 278ms\tremaining: 1.04s\n",
      "210:\tlearn: 0.3101032\ttotal: 279ms\tremaining: 1.04s\n",
      "211:\tlearn: 0.3092800\ttotal: 280ms\tremaining: 1.04s\n",
      "212:\tlearn: 0.3086659\ttotal: 282ms\tremaining: 1.04s\n",
      "213:\tlearn: 0.3078661\ttotal: 283ms\tremaining: 1.04s\n",
      "214:\tlearn: 0.3072634\ttotal: 286ms\tremaining: 1.04s\n",
      "215:\tlearn: 0.3062826\ttotal: 289ms\tremaining: 1.05s\n",
      "216:\tlearn: 0.3053828\ttotal: 290ms\tremaining: 1.04s\n",
      "217:\tlearn: 0.3049146\ttotal: 291ms\tremaining: 1.04s\n",
      "218:\tlearn: 0.3040923\ttotal: 292ms\tremaining: 1.04s\n",
      "219:\tlearn: 0.3032651\ttotal: 293ms\tremaining: 1.04s\n",
      "220:\tlearn: 0.3024548\ttotal: 294ms\tremaining: 1.03s\n",
      "221:\tlearn: 0.3018589\ttotal: 295ms\tremaining: 1.03s\n",
      "222:\tlearn: 0.3012185\ttotal: 296ms\tremaining: 1.03s\n",
      "223:\tlearn: 0.3009051\ttotal: 296ms\tremaining: 1.02s\n",
      "224:\tlearn: 0.3006277\ttotal: 297ms\tremaining: 1.02s\n",
      "225:\tlearn: 0.2997828\ttotal: 298ms\tremaining: 1.02s\n",
      "226:\tlearn: 0.2991081\ttotal: 299ms\tremaining: 1.02s\n",
      "227:\tlearn: 0.2984810\ttotal: 300ms\tremaining: 1.01s\n",
      "228:\tlearn: 0.2980442\ttotal: 301ms\tremaining: 1.01s\n",
      "229:\tlearn: 0.2973453\ttotal: 301ms\tremaining: 1.01s\n",
      "230:\tlearn: 0.2965537\ttotal: 304ms\tremaining: 1.01s\n",
      "231:\tlearn: 0.2960433\ttotal: 306ms\tremaining: 1.01s\n",
      "232:\tlearn: 0.2955134\ttotal: 307ms\tremaining: 1.01s\n",
      "233:\tlearn: 0.2948536\ttotal: 308ms\tremaining: 1.01s\n",
      "234:\tlearn: 0.2941361\ttotal: 308ms\tremaining: 1s\n",
      "235:\tlearn: 0.2934406\ttotal: 309ms\tremaining: 1s\n",
      "236:\tlearn: 0.2932570\ttotal: 310ms\tremaining: 998ms\n",
      "237:\tlearn: 0.2931752\ttotal: 310ms\tremaining: 994ms\n",
      "238:\tlearn: 0.2921219\ttotal: 311ms\tremaining: 991ms\n",
      "239:\tlearn: 0.2914019\ttotal: 312ms\tremaining: 988ms\n",
      "240:\tlearn: 0.2908449\ttotal: 313ms\tremaining: 985ms\n",
      "241:\tlearn: 0.2903648\ttotal: 314ms\tremaining: 983ms\n",
      "242:\tlearn: 0.2896353\ttotal: 316ms\tremaining: 985ms\n",
      "243:\tlearn: 0.2889907\ttotal: 317ms\tremaining: 983ms\n",
      "244:\tlearn: 0.2884555\ttotal: 318ms\tremaining: 980ms\n",
      "245:\tlearn: 0.2880149\ttotal: 319ms\tremaining: 978ms\n",
      "246:\tlearn: 0.2871179\ttotal: 320ms\tremaining: 975ms\n",
      "247:\tlearn: 0.2865178\ttotal: 321ms\tremaining: 973ms\n",
      "248:\tlearn: 0.2861043\ttotal: 322ms\tremaining: 970ms\n",
      "249:\tlearn: 0.2857535\ttotal: 322ms\tremaining: 967ms\n",
      "250:\tlearn: 0.2851850\ttotal: 323ms\tremaining: 965ms\n",
      "251:\tlearn: 0.2845504\ttotal: 324ms\tremaining: 962ms\n",
      "252:\tlearn: 0.2838548\ttotal: 325ms\tremaining: 960ms\n",
      "253:\tlearn: 0.2828936\ttotal: 328ms\tremaining: 964ms\n",
      "254:\tlearn: 0.2822789\ttotal: 329ms\tremaining: 962ms\n",
      "255:\tlearn: 0.2816019\ttotal: 330ms\tremaining: 960ms\n",
      "256:\tlearn: 0.2809064\ttotal: 336ms\tremaining: 972ms\n",
      "257:\tlearn: 0.2804427\ttotal: 337ms\tremaining: 971ms\n",
      "258:\tlearn: 0.2795748\ttotal: 339ms\tremaining: 969ms\n",
      "259:\tlearn: 0.2791101\ttotal: 340ms\tremaining: 967ms\n",
      "260:\tlearn: 0.2786308\ttotal: 341ms\tremaining: 965ms\n",
      "261:\tlearn: 0.2782659\ttotal: 342ms\tremaining: 963ms\n",
      "262:\tlearn: 0.2776702\ttotal: 348ms\tremaining: 975ms\n",
      "263:\tlearn: 0.2770269\ttotal: 350ms\tremaining: 975ms\n",
      "264:\tlearn: 0.2763097\ttotal: 352ms\tremaining: 975ms\n",
      "265:\tlearn: 0.2757982\ttotal: 356ms\tremaining: 982ms\n",
      "266:\tlearn: 0.2753517\ttotal: 358ms\tremaining: 982ms\n",
      "267:\tlearn: 0.2747972\ttotal: 359ms\tremaining: 979ms\n",
      "268:\tlearn: 0.2743034\ttotal: 361ms\tremaining: 982ms\n",
      "269:\tlearn: 0.2737812\ttotal: 362ms\tremaining: 980ms\n",
      "270:\tlearn: 0.2733372\ttotal: 363ms\tremaining: 977ms\n",
      "271:\tlearn: 0.2727100\ttotal: 364ms\tremaining: 975ms\n",
      "272:\tlearn: 0.2721262\ttotal: 365ms\tremaining: 972ms\n",
      "273:\tlearn: 0.2716366\ttotal: 366ms\tremaining: 969ms\n",
      "274:\tlearn: 0.2709383\ttotal: 367ms\tremaining: 967ms\n",
      "275:\tlearn: 0.2703697\ttotal: 367ms\tremaining: 964ms\n",
      "276:\tlearn: 0.2699855\ttotal: 368ms\tremaining: 961ms\n",
      "277:\tlearn: 0.2693294\ttotal: 369ms\tremaining: 959ms\n",
      "278:\tlearn: 0.2688546\ttotal: 370ms\tremaining: 955ms\n",
      "279:\tlearn: 0.2683523\ttotal: 371ms\tremaining: 953ms\n",
      "280:\tlearn: 0.2677877\ttotal: 371ms\tremaining: 950ms\n",
      "281:\tlearn: 0.2673107\ttotal: 372ms\tremaining: 948ms\n",
      "282:\tlearn: 0.2666613\ttotal: 373ms\tremaining: 945ms\n",
      "283:\tlearn: 0.2662633\ttotal: 374ms\tremaining: 943ms\n",
      "284:\tlearn: 0.2658956\ttotal: 375ms\tremaining: 941ms\n",
      "285:\tlearn: 0.2653835\ttotal: 376ms\tremaining: 938ms\n",
      "286:\tlearn: 0.2650315\ttotal: 377ms\tremaining: 936ms\n",
      "287:\tlearn: 0.2646597\ttotal: 378ms\tremaining: 933ms\n",
      "288:\tlearn: 0.2639898\ttotal: 378ms\tremaining: 931ms\n",
      "289:\tlearn: 0.2635114\ttotal: 379ms\tremaining: 929ms\n",
      "290:\tlearn: 0.2630234\ttotal: 380ms\tremaining: 926ms\n",
      "291:\tlearn: 0.2623698\ttotal: 381ms\tremaining: 924ms\n",
      "292:\tlearn: 0.2617594\ttotal: 382ms\tremaining: 921ms\n",
      "293:\tlearn: 0.2612210\ttotal: 383ms\tremaining: 919ms\n",
      "294:\tlearn: 0.2609170\ttotal: 383ms\tremaining: 916ms\n",
      "295:\tlearn: 0.2605480\ttotal: 384ms\tremaining: 914ms\n",
      "296:\tlearn: 0.2600277\ttotal: 385ms\tremaining: 912ms\n",
      "297:\tlearn: 0.2596072\ttotal: 386ms\tremaining: 909ms\n",
      "298:\tlearn: 0.2592883\ttotal: 387ms\tremaining: 907ms\n",
      "299:\tlearn: 0.2586490\ttotal: 388ms\tremaining: 905ms\n",
      "300:\tlearn: 0.2583287\ttotal: 389ms\tremaining: 902ms\n",
      "301:\tlearn: 0.2579239\ttotal: 389ms\tremaining: 900ms\n",
      "302:\tlearn: 0.2573425\ttotal: 390ms\tremaining: 898ms\n",
      "303:\tlearn: 0.2569398\ttotal: 391ms\tremaining: 895ms\n",
      "304:\tlearn: 0.2562979\ttotal: 392ms\tremaining: 893ms\n",
      "305:\tlearn: 0.2559191\ttotal: 393ms\tremaining: 891ms\n",
      "306:\tlearn: 0.2555603\ttotal: 394ms\tremaining: 888ms\n",
      "307:\tlearn: 0.2549914\ttotal: 394ms\tremaining: 886ms\n",
      "308:\tlearn: 0.2546035\ttotal: 395ms\tremaining: 884ms\n",
      "309:\tlearn: 0.2541806\ttotal: 396ms\tremaining: 882ms\n",
      "310:\tlearn: 0.2535285\ttotal: 397ms\tremaining: 879ms\n",
      "311:\tlearn: 0.2531124\ttotal: 398ms\tremaining: 877ms\n",
      "312:\tlearn: 0.2524123\ttotal: 399ms\tremaining: 875ms\n",
      "313:\tlearn: 0.2521777\ttotal: 399ms\tremaining: 873ms\n",
      "314:\tlearn: 0.2516234\ttotal: 400ms\tremaining: 871ms\n",
      "315:\tlearn: 0.2511543\ttotal: 401ms\tremaining: 868ms\n",
      "316:\tlearn: 0.2507884\ttotal: 402ms\tremaining: 866ms\n",
      "317:\tlearn: 0.2502428\ttotal: 403ms\tremaining: 864ms\n",
      "318:\tlearn: 0.2495740\ttotal: 404ms\tremaining: 862ms\n",
      "319:\tlearn: 0.2492433\ttotal: 405ms\tremaining: 860ms\n",
      "320:\tlearn: 0.2489520\ttotal: 405ms\tremaining: 858ms\n",
      "321:\tlearn: 0.2484584\ttotal: 406ms\tremaining: 855ms\n",
      "322:\tlearn: 0.2480506\ttotal: 407ms\tremaining: 853ms\n",
      "323:\tlearn: 0.2476448\ttotal: 408ms\tremaining: 851ms\n",
      "324:\tlearn: 0.2472011\ttotal: 409ms\tremaining: 849ms\n",
      "325:\tlearn: 0.2464919\ttotal: 410ms\tremaining: 847ms\n",
      "326:\tlearn: 0.2457824\ttotal: 410ms\tremaining: 845ms\n",
      "327:\tlearn: 0.2453125\ttotal: 411ms\tremaining: 843ms\n",
      "328:\tlearn: 0.2450326\ttotal: 412ms\tremaining: 841ms\n",
      "329:\tlearn: 0.2445587\ttotal: 413ms\tremaining: 839ms\n",
      "330:\tlearn: 0.2441930\ttotal: 414ms\tremaining: 837ms\n",
      "331:\tlearn: 0.2438620\ttotal: 415ms\tremaining: 834ms\n",
      "332:\tlearn: 0.2433997\ttotal: 416ms\tremaining: 832ms\n",
      "333:\tlearn: 0.2429193\ttotal: 416ms\tremaining: 830ms\n",
      "334:\tlearn: 0.2423679\ttotal: 417ms\tremaining: 828ms\n",
      "335:\tlearn: 0.2419705\ttotal: 418ms\tremaining: 826ms\n",
      "336:\tlearn: 0.2414793\ttotal: 419ms\tremaining: 824ms\n",
      "337:\tlearn: 0.2408725\ttotal: 420ms\tremaining: 822ms\n",
      "338:\tlearn: 0.2405365\ttotal: 421ms\tremaining: 820ms\n",
      "339:\tlearn: 0.2402086\ttotal: 421ms\tremaining: 818ms\n",
      "340:\tlearn: 0.2397999\ttotal: 422ms\tremaining: 816ms\n",
      "341:\tlearn: 0.2394860\ttotal: 423ms\tremaining: 814ms\n",
      "342:\tlearn: 0.2391276\ttotal: 424ms\tremaining: 812ms\n",
      "343:\tlearn: 0.2386979\ttotal: 425ms\tremaining: 810ms\n",
      "344:\tlearn: 0.2383948\ttotal: 426ms\tremaining: 808ms\n",
      "345:\tlearn: 0.2380183\ttotal: 427ms\tremaining: 806ms\n",
      "346:\tlearn: 0.2377458\ttotal: 427ms\tremaining: 804ms\n",
      "347:\tlearn: 0.2375648\ttotal: 428ms\tremaining: 802ms\n",
      "348:\tlearn: 0.2371553\ttotal: 429ms\tremaining: 800ms\n",
      "349:\tlearn: 0.2368812\ttotal: 430ms\tremaining: 798ms\n",
      "350:\tlearn: 0.2362497\ttotal: 431ms\tremaining: 796ms\n",
      "351:\tlearn: 0.2360361\ttotal: 432ms\tremaining: 795ms\n",
      "352:\tlearn: 0.2355681\ttotal: 432ms\tremaining: 793ms\n",
      "353:\tlearn: 0.2352659\ttotal: 433ms\tremaining: 791ms\n",
      "354:\tlearn: 0.2349226\ttotal: 434ms\tremaining: 789ms\n",
      "355:\tlearn: 0.2342683\ttotal: 435ms\tremaining: 787ms\n",
      "356:\tlearn: 0.2339094\ttotal: 436ms\tremaining: 785ms\n",
      "357:\tlearn: 0.2334763\ttotal: 437ms\tremaining: 783ms\n",
      "358:\tlearn: 0.2334235\ttotal: 437ms\tremaining: 781ms\n",
      "359:\tlearn: 0.2332617\ttotal: 438ms\tremaining: 779ms\n",
      "360:\tlearn: 0.2328632\ttotal: 439ms\tremaining: 777ms\n",
      "361:\tlearn: 0.2323070\ttotal: 440ms\tremaining: 775ms\n",
      "362:\tlearn: 0.2318024\ttotal: 441ms\tremaining: 773ms\n",
      "363:\tlearn: 0.2313946\ttotal: 442ms\tremaining: 772ms\n",
      "364:\tlearn: 0.2310274\ttotal: 443ms\tremaining: 770ms\n",
      "365:\tlearn: 0.2307696\ttotal: 443ms\tremaining: 768ms\n",
      "366:\tlearn: 0.2302695\ttotal: 444ms\tremaining: 766ms\n",
      "367:\tlearn: 0.2298440\ttotal: 445ms\tremaining: 764ms\n",
      "368:\tlearn: 0.2292988\ttotal: 446ms\tremaining: 763ms\n",
      "369:\tlearn: 0.2289622\ttotal: 447ms\tremaining: 762ms\n",
      "370:\tlearn: 0.2285592\ttotal: 448ms\tremaining: 760ms\n",
      "371:\tlearn: 0.2279043\ttotal: 449ms\tremaining: 758ms\n",
      "372:\tlearn: 0.2274893\ttotal: 450ms\tremaining: 756ms\n",
      "373:\tlearn: 0.2269073\ttotal: 451ms\tremaining: 754ms\n",
      "374:\tlearn: 0.2265834\ttotal: 452ms\tremaining: 753ms\n",
      "375:\tlearn: 0.2260991\ttotal: 452ms\tremaining: 751ms\n",
      "376:\tlearn: 0.2257991\ttotal: 453ms\tremaining: 749ms\n",
      "377:\tlearn: 0.2254928\ttotal: 454ms\tremaining: 748ms\n",
      "378:\tlearn: 0.2251934\ttotal: 455ms\tremaining: 746ms\n",
      "379:\tlearn: 0.2247625\ttotal: 456ms\tremaining: 744ms\n",
      "380:\tlearn: 0.2244893\ttotal: 457ms\tremaining: 742ms\n",
      "381:\tlearn: 0.2241296\ttotal: 458ms\tremaining: 741ms\n",
      "382:\tlearn: 0.2237701\ttotal: 459ms\tremaining: 740ms\n",
      "383:\tlearn: 0.2234721\ttotal: 461ms\tremaining: 739ms\n",
      "384:\tlearn: 0.2232081\ttotal: 462ms\tremaining: 737ms\n",
      "385:\tlearn: 0.2227674\ttotal: 462ms\tremaining: 736ms\n",
      "386:\tlearn: 0.2224257\ttotal: 463ms\tremaining: 734ms\n",
      "387:\tlearn: 0.2222233\ttotal: 464ms\tremaining: 732ms\n",
      "388:\tlearn: 0.2219200\ttotal: 465ms\tremaining: 730ms\n",
      "389:\tlearn: 0.2215502\ttotal: 466ms\tremaining: 729ms\n",
      "390:\tlearn: 0.2213119\ttotal: 467ms\tremaining: 727ms\n",
      "391:\tlearn: 0.2208899\ttotal: 468ms\tremaining: 726ms\n",
      "392:\tlearn: 0.2203954\ttotal: 469ms\tremaining: 724ms\n",
      "393:\tlearn: 0.2202226\ttotal: 469ms\tremaining: 722ms\n",
      "394:\tlearn: 0.2197999\ttotal: 470ms\tremaining: 720ms\n",
      "395:\tlearn: 0.2195268\ttotal: 471ms\tremaining: 719ms\n",
      "396:\tlearn: 0.2192666\ttotal: 472ms\tremaining: 717ms\n",
      "397:\tlearn: 0.2187888\ttotal: 473ms\tremaining: 715ms\n",
      "398:\tlearn: 0.2185404\ttotal: 474ms\tremaining: 714ms\n",
      "399:\tlearn: 0.2183382\ttotal: 475ms\tremaining: 712ms\n",
      "400:\tlearn: 0.2180734\ttotal: 475ms\tremaining: 710ms\n",
      "401:\tlearn: 0.2177056\ttotal: 476ms\tremaining: 708ms\n",
      "402:\tlearn: 0.2172831\ttotal: 477ms\tremaining: 707ms\n",
      "403:\tlearn: 0.2170752\ttotal: 478ms\tremaining: 705ms\n",
      "404:\tlearn: 0.2168173\ttotal: 479ms\tremaining: 703ms\n",
      "405:\tlearn: 0.2163762\ttotal: 480ms\tremaining: 702ms\n",
      "406:\tlearn: 0.2160234\ttotal: 481ms\tremaining: 700ms\n",
      "407:\tlearn: 0.2158233\ttotal: 481ms\tremaining: 698ms\n",
      "408:\tlearn: 0.2155074\ttotal: 482ms\tremaining: 697ms\n",
      "409:\tlearn: 0.2150983\ttotal: 483ms\tremaining: 695ms\n",
      "410:\tlearn: 0.2148019\ttotal: 484ms\tremaining: 694ms\n",
      "411:\tlearn: 0.2145015\ttotal: 485ms\tremaining: 692ms\n",
      "412:\tlearn: 0.2140766\ttotal: 486ms\tremaining: 690ms\n",
      "413:\tlearn: 0.2135130\ttotal: 487ms\tremaining: 689ms\n",
      "414:\tlearn: 0.2131451\ttotal: 487ms\tremaining: 687ms\n",
      "415:\tlearn: 0.2127044\ttotal: 488ms\tremaining: 685ms\n",
      "416:\tlearn: 0.2124812\ttotal: 489ms\tremaining: 684ms\n",
      "417:\tlearn: 0.2121049\ttotal: 490ms\tremaining: 682ms\n",
      "418:\tlearn: 0.2116492\ttotal: 491ms\tremaining: 681ms\n",
      "419:\tlearn: 0.2115529\ttotal: 492ms\tremaining: 679ms\n",
      "420:\tlearn: 0.2112393\ttotal: 492ms\tremaining: 677ms\n",
      "421:\tlearn: 0.2107590\ttotal: 504ms\tremaining: 690ms\n",
      "422:\tlearn: 0.2104495\ttotal: 505ms\tremaining: 688ms\n",
      "423:\tlearn: 0.2101715\ttotal: 505ms\tremaining: 687ms\n",
      "424:\tlearn: 0.2098615\ttotal: 506ms\tremaining: 685ms\n",
      "425:\tlearn: 0.2095534\ttotal: 507ms\tremaining: 683ms\n",
      "426:\tlearn: 0.2092254\ttotal: 508ms\tremaining: 682ms\n",
      "427:\tlearn: 0.2089406\ttotal: 509ms\tremaining: 680ms\n",
      "428:\tlearn: 0.2086452\ttotal: 510ms\tremaining: 678ms\n",
      "429:\tlearn: 0.2083340\ttotal: 511ms\tremaining: 677ms\n",
      "430:\tlearn: 0.2078079\ttotal: 511ms\tremaining: 675ms\n",
      "431:\tlearn: 0.2075083\ttotal: 512ms\tremaining: 673ms\n",
      "432:\tlearn: 0.2073062\ttotal: 513ms\tremaining: 671ms\n",
      "433:\tlearn: 0.2069312\ttotal: 514ms\tremaining: 670ms\n",
      "434:\tlearn: 0.2065855\ttotal: 514ms\tremaining: 668ms\n",
      "435:\tlearn: 0.2061671\ttotal: 515ms\tremaining: 667ms\n",
      "436:\tlearn: 0.2058787\ttotal: 516ms\tremaining: 665ms\n",
      "437:\tlearn: 0.2055484\ttotal: 517ms\tremaining: 663ms\n",
      "438:\tlearn: 0.2052017\ttotal: 518ms\tremaining: 662ms\n",
      "439:\tlearn: 0.2049713\ttotal: 519ms\tremaining: 660ms\n",
      "440:\tlearn: 0.2046215\ttotal: 520ms\tremaining: 659ms\n",
      "441:\tlearn: 0.2042837\ttotal: 520ms\tremaining: 657ms\n",
      "442:\tlearn: 0.2039140\ttotal: 521ms\tremaining: 655ms\n",
      "443:\tlearn: 0.2034671\ttotal: 522ms\tremaining: 654ms\n",
      "444:\tlearn: 0.2032825\ttotal: 523ms\tremaining: 652ms\n",
      "445:\tlearn: 0.2029584\ttotal: 524ms\tremaining: 651ms\n",
      "446:\tlearn: 0.2027977\ttotal: 525ms\tremaining: 649ms\n",
      "447:\tlearn: 0.2025670\ttotal: 526ms\tremaining: 648ms\n",
      "448:\tlearn: 0.2021522\ttotal: 526ms\tremaining: 646ms\n",
      "449:\tlearn: 0.2016970\ttotal: 527ms\tremaining: 644ms\n",
      "450:\tlearn: 0.2013812\ttotal: 528ms\tremaining: 643ms\n",
      "451:\tlearn: 0.2011742\ttotal: 529ms\tremaining: 641ms\n",
      "452:\tlearn: 0.2008329\ttotal: 530ms\tremaining: 640ms\n",
      "453:\tlearn: 0.2004421\ttotal: 531ms\tremaining: 638ms\n",
      "454:\tlearn: 0.2002200\ttotal: 532ms\tremaining: 637ms\n",
      "455:\tlearn: 0.1999027\ttotal: 533ms\tremaining: 635ms\n",
      "456:\tlearn: 0.1994456\ttotal: 533ms\tremaining: 634ms\n",
      "457:\tlearn: 0.1991415\ttotal: 534ms\tremaining: 632ms\n",
      "458:\tlearn: 0.1989138\ttotal: 535ms\tremaining: 631ms\n",
      "459:\tlearn: 0.1988172\ttotal: 536ms\tremaining: 629ms\n",
      "460:\tlearn: 0.1986413\ttotal: 537ms\tremaining: 628ms\n",
      "461:\tlearn: 0.1984047\ttotal: 538ms\tremaining: 626ms\n",
      "462:\tlearn: 0.1980516\ttotal: 538ms\tremaining: 625ms\n",
      "463:\tlearn: 0.1975760\ttotal: 539ms\tremaining: 623ms\n",
      "464:\tlearn: 0.1972818\ttotal: 540ms\tremaining: 621ms\n",
      "465:\tlearn: 0.1970456\ttotal: 541ms\tremaining: 620ms\n",
      "466:\tlearn: 0.1968112\ttotal: 542ms\tremaining: 618ms\n",
      "467:\tlearn: 0.1963868\ttotal: 543ms\tremaining: 617ms\n",
      "468:\tlearn: 0.1962611\ttotal: 544ms\tremaining: 615ms\n",
      "469:\tlearn: 0.1960659\ttotal: 544ms\tremaining: 614ms\n",
      "470:\tlearn: 0.1955213\ttotal: 545ms\tremaining: 612ms\n",
      "471:\tlearn: 0.1950574\ttotal: 546ms\tremaining: 611ms\n",
      "472:\tlearn: 0.1946285\ttotal: 547ms\tremaining: 609ms\n",
      "473:\tlearn: 0.1941035\ttotal: 548ms\tremaining: 608ms\n",
      "474:\tlearn: 0.1938559\ttotal: 549ms\tremaining: 606ms\n",
      "475:\tlearn: 0.1934137\ttotal: 549ms\tremaining: 605ms\n",
      "476:\tlearn: 0.1932397\ttotal: 550ms\tremaining: 603ms\n",
      "477:\tlearn: 0.1929333\ttotal: 551ms\tremaining: 602ms\n",
      "478:\tlearn: 0.1925730\ttotal: 552ms\tremaining: 600ms\n",
      "479:\tlearn: 0.1922671\ttotal: 553ms\tremaining: 599ms\n",
      "480:\tlearn: 0.1919950\ttotal: 554ms\tremaining: 598ms\n",
      "481:\tlearn: 0.1915973\ttotal: 555ms\tremaining: 596ms\n",
      "482:\tlearn: 0.1914282\ttotal: 555ms\tremaining: 595ms\n",
      "483:\tlearn: 0.1913035\ttotal: 556ms\tremaining: 593ms\n",
      "484:\tlearn: 0.1909098\ttotal: 557ms\tremaining: 592ms\n",
      "485:\tlearn: 0.1905440\ttotal: 558ms\tremaining: 590ms\n",
      "486:\tlearn: 0.1902679\ttotal: 559ms\tremaining: 589ms\n",
      "487:\tlearn: 0.1901024\ttotal: 560ms\tremaining: 587ms\n",
      "488:\tlearn: 0.1898108\ttotal: 561ms\tremaining: 586ms\n",
      "489:\tlearn: 0.1896453\ttotal: 562ms\tremaining: 585ms\n",
      "490:\tlearn: 0.1893509\ttotal: 562ms\tremaining: 583ms\n",
      "491:\tlearn: 0.1890888\ttotal: 563ms\tremaining: 582ms\n",
      "492:\tlearn: 0.1888239\ttotal: 564ms\tremaining: 580ms\n",
      "493:\tlearn: 0.1886126\ttotal: 565ms\tremaining: 579ms\n",
      "494:\tlearn: 0.1883190\ttotal: 566ms\tremaining: 577ms\n",
      "495:\tlearn: 0.1878051\ttotal: 567ms\tremaining: 576ms\n",
      "496:\tlearn: 0.1874624\ttotal: 568ms\tremaining: 575ms\n",
      "497:\tlearn: 0.1872881\ttotal: 571ms\tremaining: 575ms\n",
      "498:\tlearn: 0.1867800\ttotal: 572ms\tremaining: 575ms\n",
      "499:\tlearn: 0.1866448\ttotal: 574ms\tremaining: 574ms\n",
      "500:\tlearn: 0.1862699\ttotal: 575ms\tremaining: 573ms\n",
      "501:\tlearn: 0.1860171\ttotal: 577ms\tremaining: 572ms\n",
      "502:\tlearn: 0.1858088\ttotal: 578ms\tremaining: 571ms\n",
      "503:\tlearn: 0.1856503\ttotal: 579ms\tremaining: 570ms\n",
      "504:\tlearn: 0.1853356\ttotal: 580ms\tremaining: 569ms\n",
      "505:\tlearn: 0.1849788\ttotal: 581ms\tremaining: 567ms\n",
      "506:\tlearn: 0.1846764\ttotal: 582ms\tremaining: 566ms\n",
      "507:\tlearn: 0.1845261\ttotal: 583ms\tremaining: 565ms\n",
      "508:\tlearn: 0.1844286\ttotal: 584ms\tremaining: 564ms\n",
      "509:\tlearn: 0.1841836\ttotal: 585ms\tremaining: 562ms\n",
      "510:\tlearn: 0.1839680\ttotal: 587ms\tremaining: 561ms\n",
      "511:\tlearn: 0.1837599\ttotal: 588ms\tremaining: 560ms\n",
      "512:\tlearn: 0.1835327\ttotal: 589ms\tremaining: 559ms\n",
      "513:\tlearn: 0.1832420\ttotal: 595ms\tremaining: 563ms\n",
      "514:\tlearn: 0.1830605\ttotal: 596ms\tremaining: 561ms\n",
      "515:\tlearn: 0.1827243\ttotal: 597ms\tremaining: 560ms\n",
      "516:\tlearn: 0.1825594\ttotal: 598ms\tremaining: 558ms\n",
      "517:\tlearn: 0.1820905\ttotal: 599ms\tremaining: 557ms\n",
      "518:\tlearn: 0.1817906\ttotal: 599ms\tremaining: 556ms\n",
      "519:\tlearn: 0.1816195\ttotal: 600ms\tremaining: 554ms\n",
      "520:\tlearn: 0.1813058\ttotal: 601ms\tremaining: 553ms\n",
      "521:\tlearn: 0.1809810\ttotal: 602ms\tremaining: 551ms\n",
      "522:\tlearn: 0.1806118\ttotal: 603ms\tremaining: 550ms\n",
      "523:\tlearn: 0.1803602\ttotal: 604ms\tremaining: 548ms\n",
      "524:\tlearn: 0.1802835\ttotal: 604ms\tremaining: 547ms\n",
      "525:\tlearn: 0.1801206\ttotal: 605ms\tremaining: 545ms\n",
      "526:\tlearn: 0.1799382\ttotal: 606ms\tremaining: 544ms\n",
      "527:\tlearn: 0.1797628\ttotal: 607ms\tremaining: 542ms\n",
      "528:\tlearn: 0.1795323\ttotal: 608ms\tremaining: 541ms\n",
      "529:\tlearn: 0.1793380\ttotal: 608ms\tremaining: 540ms\n",
      "530:\tlearn: 0.1791759\ttotal: 609ms\tremaining: 538ms\n",
      "531:\tlearn: 0.1789155\ttotal: 610ms\tremaining: 537ms\n",
      "532:\tlearn: 0.1785566\ttotal: 611ms\tremaining: 535ms\n",
      "533:\tlearn: 0.1784817\ttotal: 612ms\tremaining: 534ms\n",
      "534:\tlearn: 0.1782619\ttotal: 612ms\tremaining: 532ms\n",
      "535:\tlearn: 0.1782110\ttotal: 613ms\tremaining: 531ms\n",
      "536:\tlearn: 0.1777847\ttotal: 614ms\tremaining: 529ms\n",
      "537:\tlearn: 0.1776248\ttotal: 615ms\tremaining: 528ms\n",
      "538:\tlearn: 0.1774370\ttotal: 616ms\tremaining: 527ms\n",
      "539:\tlearn: 0.1773643\ttotal: 617ms\tremaining: 525ms\n",
      "540:\tlearn: 0.1770666\ttotal: 617ms\tremaining: 524ms\n",
      "541:\tlearn: 0.1767121\ttotal: 618ms\tremaining: 523ms\n",
      "542:\tlearn: 0.1765614\ttotal: 619ms\tremaining: 521ms\n",
      "543:\tlearn: 0.1762799\ttotal: 620ms\tremaining: 520ms\n",
      "544:\tlearn: 0.1759777\ttotal: 621ms\tremaining: 518ms\n",
      "545:\tlearn: 0.1757402\ttotal: 622ms\tremaining: 517ms\n",
      "546:\tlearn: 0.1754578\ttotal: 623ms\tremaining: 516ms\n",
      "547:\tlearn: 0.1753634\ttotal: 624ms\tremaining: 514ms\n",
      "548:\tlearn: 0.1751034\ttotal: 624ms\tremaining: 513ms\n",
      "549:\tlearn: 0.1749149\ttotal: 625ms\tremaining: 512ms\n",
      "550:\tlearn: 0.1747530\ttotal: 626ms\tremaining: 510ms\n",
      "551:\tlearn: 0.1746714\ttotal: 627ms\tremaining: 509ms\n",
      "552:\tlearn: 0.1746028\ttotal: 628ms\tremaining: 507ms\n",
      "553:\tlearn: 0.1743528\ttotal: 628ms\tremaining: 506ms\n",
      "554:\tlearn: 0.1742075\ttotal: 629ms\tremaining: 504ms\n",
      "555:\tlearn: 0.1738689\ttotal: 630ms\tremaining: 503ms\n",
      "556:\tlearn: 0.1737262\ttotal: 631ms\tremaining: 502ms\n",
      "557:\tlearn: 0.1733697\ttotal: 632ms\tremaining: 500ms\n",
      "558:\tlearn: 0.1731718\ttotal: 633ms\tremaining: 499ms\n",
      "559:\tlearn: 0.1730445\ttotal: 633ms\tremaining: 498ms\n",
      "560:\tlearn: 0.1728289\ttotal: 634ms\tremaining: 496ms\n",
      "561:\tlearn: 0.1724783\ttotal: 635ms\tremaining: 495ms\n",
      "562:\tlearn: 0.1722269\ttotal: 636ms\tremaining: 493ms\n",
      "563:\tlearn: 0.1719519\ttotal: 637ms\tremaining: 492ms\n",
      "564:\tlearn: 0.1717064\ttotal: 637ms\tremaining: 491ms\n",
      "565:\tlearn: 0.1713374\ttotal: 638ms\tremaining: 489ms\n",
      "566:\tlearn: 0.1710734\ttotal: 639ms\tremaining: 488ms\n",
      "567:\tlearn: 0.1707879\ttotal: 640ms\tremaining: 487ms\n",
      "568:\tlearn: 0.1705697\ttotal: 641ms\tremaining: 485ms\n",
      "569:\tlearn: 0.1703932\ttotal: 642ms\tremaining: 484ms\n",
      "570:\tlearn: 0.1701004\ttotal: 643ms\tremaining: 483ms\n",
      "571:\tlearn: 0.1699536\ttotal: 643ms\tremaining: 481ms\n",
      "572:\tlearn: 0.1697045\ttotal: 644ms\tremaining: 480ms\n",
      "573:\tlearn: 0.1695532\ttotal: 645ms\tremaining: 479ms\n",
      "574:\tlearn: 0.1694383\ttotal: 646ms\tremaining: 478ms\n",
      "575:\tlearn: 0.1692705\ttotal: 647ms\tremaining: 477ms\n",
      "576:\tlearn: 0.1692085\ttotal: 648ms\tremaining: 475ms\n",
      "577:\tlearn: 0.1688191\ttotal: 649ms\tremaining: 474ms\n",
      "578:\tlearn: 0.1685662\ttotal: 650ms\tremaining: 473ms\n",
      "579:\tlearn: 0.1683168\ttotal: 651ms\tremaining: 471ms\n",
      "580:\tlearn: 0.1680916\ttotal: 652ms\tremaining: 470ms\n",
      "581:\tlearn: 0.1678613\ttotal: 653ms\tremaining: 469ms\n",
      "582:\tlearn: 0.1677542\ttotal: 653ms\tremaining: 467ms\n",
      "583:\tlearn: 0.1674288\ttotal: 654ms\tremaining: 466ms\n",
      "584:\tlearn: 0.1673723\ttotal: 655ms\tremaining: 464ms\n",
      "585:\tlearn: 0.1671455\ttotal: 656ms\tremaining: 463ms\n",
      "586:\tlearn: 0.1670239\ttotal: 656ms\tremaining: 462ms\n",
      "587:\tlearn: 0.1667286\ttotal: 657ms\tremaining: 461ms\n",
      "588:\tlearn: 0.1666602\ttotal: 658ms\tremaining: 459ms\n",
      "589:\tlearn: 0.1665019\ttotal: 659ms\tremaining: 458ms\n",
      "590:\tlearn: 0.1662563\ttotal: 660ms\tremaining: 456ms\n",
      "591:\tlearn: 0.1660496\ttotal: 660ms\tremaining: 455ms\n",
      "592:\tlearn: 0.1656837\ttotal: 661ms\tremaining: 454ms\n",
      "593:\tlearn: 0.1653160\ttotal: 662ms\tremaining: 453ms\n",
      "594:\tlearn: 0.1649871\ttotal: 663ms\tremaining: 451ms\n",
      "595:\tlearn: 0.1649085\ttotal: 664ms\tremaining: 450ms\n",
      "596:\tlearn: 0.1647911\ttotal: 665ms\tremaining: 449ms\n",
      "597:\tlearn: 0.1644574\ttotal: 666ms\tremaining: 448ms\n",
      "598:\tlearn: 0.1642767\ttotal: 667ms\tremaining: 446ms\n",
      "599:\tlearn: 0.1641741\ttotal: 667ms\tremaining: 445ms\n",
      "600:\tlearn: 0.1639937\ttotal: 668ms\tremaining: 444ms\n",
      "601:\tlearn: 0.1638505\ttotal: 669ms\tremaining: 442ms\n",
      "602:\tlearn: 0.1636275\ttotal: 670ms\tremaining: 441ms\n",
      "603:\tlearn: 0.1633495\ttotal: 671ms\tremaining: 440ms\n",
      "604:\tlearn: 0.1632544\ttotal: 672ms\tremaining: 439ms\n",
      "605:\tlearn: 0.1631355\ttotal: 673ms\tremaining: 437ms\n",
      "606:\tlearn: 0.1630292\ttotal: 673ms\tremaining: 436ms\n",
      "607:\tlearn: 0.1627404\ttotal: 674ms\tremaining: 435ms\n",
      "608:\tlearn: 0.1625169\ttotal: 675ms\tremaining: 433ms\n",
      "609:\tlearn: 0.1622943\ttotal: 675ms\tremaining: 432ms\n",
      "610:\tlearn: 0.1620500\ttotal: 676ms\tremaining: 430ms\n",
      "611:\tlearn: 0.1619149\ttotal: 687ms\tremaining: 436ms\n",
      "612:\tlearn: 0.1617831\ttotal: 688ms\tremaining: 435ms\n",
      "613:\tlearn: 0.1615024\ttotal: 689ms\tremaining: 433ms\n",
      "614:\tlearn: 0.1613116\ttotal: 690ms\tremaining: 432ms\n",
      "615:\tlearn: 0.1610072\ttotal: 691ms\tremaining: 431ms\n",
      "616:\tlearn: 0.1606669\ttotal: 692ms\tremaining: 429ms\n",
      "617:\tlearn: 0.1604570\ttotal: 693ms\tremaining: 428ms\n",
      "618:\tlearn: 0.1602654\ttotal: 693ms\tremaining: 427ms\n",
      "619:\tlearn: 0.1599713\ttotal: 694ms\tremaining: 426ms\n",
      "620:\tlearn: 0.1596946\ttotal: 695ms\tremaining: 424ms\n",
      "621:\tlearn: 0.1595421\ttotal: 696ms\tremaining: 423ms\n",
      "622:\tlearn: 0.1593827\ttotal: 697ms\tremaining: 422ms\n",
      "623:\tlearn: 0.1591499\ttotal: 698ms\tremaining: 420ms\n",
      "624:\tlearn: 0.1588701\ttotal: 699ms\tremaining: 419ms\n",
      "625:\tlearn: 0.1586585\ttotal: 699ms\tremaining: 418ms\n",
      "626:\tlearn: 0.1583859\ttotal: 700ms\tremaining: 417ms\n",
      "627:\tlearn: 0.1578859\ttotal: 701ms\tremaining: 415ms\n",
      "628:\tlearn: 0.1574768\ttotal: 702ms\tremaining: 414ms\n",
      "629:\tlearn: 0.1570812\ttotal: 703ms\tremaining: 413ms\n",
      "630:\tlearn: 0.1568276\ttotal: 704ms\tremaining: 412ms\n",
      "631:\tlearn: 0.1565651\ttotal: 705ms\tremaining: 410ms\n",
      "632:\tlearn: 0.1563604\ttotal: 705ms\tremaining: 409ms\n",
      "633:\tlearn: 0.1561345\ttotal: 706ms\tremaining: 408ms\n",
      "634:\tlearn: 0.1559198\ttotal: 707ms\tremaining: 406ms\n",
      "635:\tlearn: 0.1557800\ttotal: 708ms\tremaining: 405ms\n",
      "636:\tlearn: 0.1555747\ttotal: 709ms\tremaining: 404ms\n",
      "637:\tlearn: 0.1553290\ttotal: 710ms\tremaining: 403ms\n",
      "638:\tlearn: 0.1551216\ttotal: 710ms\tremaining: 401ms\n",
      "639:\tlearn: 0.1550031\ttotal: 711ms\tremaining: 400ms\n",
      "640:\tlearn: 0.1549188\ttotal: 712ms\tremaining: 399ms\n",
      "641:\tlearn: 0.1547311\ttotal: 713ms\tremaining: 397ms\n",
      "642:\tlearn: 0.1545147\ttotal: 714ms\tremaining: 396ms\n",
      "643:\tlearn: 0.1544677\ttotal: 715ms\tremaining: 395ms\n",
      "644:\tlearn: 0.1543092\ttotal: 715ms\tremaining: 394ms\n",
      "645:\tlearn: 0.1541350\ttotal: 716ms\tremaining: 393ms\n",
      "646:\tlearn: 0.1539291\ttotal: 717ms\tremaining: 391ms\n",
      "647:\tlearn: 0.1537134\ttotal: 718ms\tremaining: 390ms\n",
      "648:\tlearn: 0.1535378\ttotal: 719ms\tremaining: 389ms\n",
      "649:\tlearn: 0.1532474\ttotal: 720ms\tremaining: 388ms\n",
      "650:\tlearn: 0.1530963\ttotal: 721ms\tremaining: 386ms\n",
      "651:\tlearn: 0.1529833\ttotal: 721ms\tremaining: 385ms\n",
      "652:\tlearn: 0.1527975\ttotal: 722ms\tremaining: 384ms\n",
      "653:\tlearn: 0.1525411\ttotal: 723ms\tremaining: 383ms\n",
      "654:\tlearn: 0.1523749\ttotal: 724ms\tremaining: 381ms\n",
      "655:\tlearn: 0.1520568\ttotal: 725ms\tremaining: 380ms\n",
      "656:\tlearn: 0.1518459\ttotal: 726ms\tremaining: 379ms\n",
      "657:\tlearn: 0.1515856\ttotal: 727ms\tremaining: 378ms\n",
      "658:\tlearn: 0.1513585\ttotal: 727ms\tremaining: 376ms\n",
      "659:\tlearn: 0.1512287\ttotal: 728ms\tremaining: 375ms\n",
      "660:\tlearn: 0.1509889\ttotal: 729ms\tremaining: 374ms\n",
      "661:\tlearn: 0.1507653\ttotal: 730ms\tremaining: 373ms\n",
      "662:\tlearn: 0.1505773\ttotal: 731ms\tremaining: 371ms\n",
      "663:\tlearn: 0.1503383\ttotal: 732ms\tremaining: 370ms\n",
      "664:\tlearn: 0.1500735\ttotal: 732ms\tremaining: 369ms\n",
      "665:\tlearn: 0.1499171\ttotal: 733ms\tremaining: 368ms\n",
      "666:\tlearn: 0.1497256\ttotal: 734ms\tremaining: 367ms\n",
      "667:\tlearn: 0.1495856\ttotal: 735ms\tremaining: 365ms\n",
      "668:\tlearn: 0.1495000\ttotal: 736ms\tremaining: 364ms\n",
      "669:\tlearn: 0.1494012\ttotal: 737ms\tremaining: 363ms\n",
      "670:\tlearn: 0.1491914\ttotal: 738ms\tremaining: 362ms\n",
      "671:\tlearn: 0.1489825\ttotal: 738ms\tremaining: 360ms\n",
      "672:\tlearn: 0.1488842\ttotal: 739ms\tremaining: 359ms\n",
      "673:\tlearn: 0.1487259\ttotal: 740ms\tremaining: 358ms\n",
      "674:\tlearn: 0.1485424\ttotal: 741ms\tremaining: 357ms\n",
      "675:\tlearn: 0.1484264\ttotal: 742ms\tremaining: 356ms\n",
      "676:\tlearn: 0.1481423\ttotal: 743ms\tremaining: 354ms\n",
      "677:\tlearn: 0.1480010\ttotal: 744ms\tremaining: 353ms\n",
      "678:\tlearn: 0.1479154\ttotal: 744ms\tremaining: 352ms\n",
      "679:\tlearn: 0.1478321\ttotal: 745ms\tremaining: 351ms\n",
      "680:\tlearn: 0.1477850\ttotal: 746ms\tremaining: 350ms\n",
      "681:\tlearn: 0.1476871\ttotal: 747ms\tremaining: 348ms\n",
      "682:\tlearn: 0.1475808\ttotal: 748ms\tremaining: 347ms\n",
      "683:\tlearn: 0.1474475\ttotal: 749ms\tremaining: 346ms\n",
      "684:\tlearn: 0.1472127\ttotal: 750ms\tremaining: 345ms\n",
      "685:\tlearn: 0.1470686\ttotal: 750ms\tremaining: 343ms\n",
      "686:\tlearn: 0.1469413\ttotal: 751ms\tremaining: 342ms\n",
      "687:\tlearn: 0.1468120\ttotal: 752ms\tremaining: 341ms\n",
      "688:\tlearn: 0.1465619\ttotal: 753ms\tremaining: 340ms\n",
      "689:\tlearn: 0.1464407\ttotal: 754ms\tremaining: 339ms\n",
      "690:\tlearn: 0.1462926\ttotal: 755ms\tremaining: 337ms\n",
      "691:\tlearn: 0.1459831\ttotal: 755ms\tremaining: 336ms\n",
      "692:\tlearn: 0.1458401\ttotal: 756ms\tremaining: 335ms\n",
      "693:\tlearn: 0.1457026\ttotal: 757ms\tremaining: 334ms\n",
      "694:\tlearn: 0.1455805\ttotal: 758ms\tremaining: 333ms\n",
      "695:\tlearn: 0.1452457\ttotal: 759ms\tremaining: 331ms\n",
      "696:\tlearn: 0.1449396\ttotal: 760ms\tremaining: 330ms\n",
      "697:\tlearn: 0.1446308\ttotal: 761ms\tremaining: 329ms\n",
      "698:\tlearn: 0.1444998\ttotal: 761ms\tremaining: 328ms\n",
      "699:\tlearn: 0.1443250\ttotal: 762ms\tremaining: 327ms\n",
      "700:\tlearn: 0.1441822\ttotal: 763ms\tremaining: 325ms\n",
      "701:\tlearn: 0.1439833\ttotal: 764ms\tremaining: 324ms\n",
      "702:\tlearn: 0.1437213\ttotal: 779ms\tremaining: 329ms\n",
      "703:\tlearn: 0.1436533\ttotal: 780ms\tremaining: 328ms\n",
      "704:\tlearn: 0.1435382\ttotal: 781ms\tremaining: 327ms\n",
      "705:\tlearn: 0.1433477\ttotal: 781ms\tremaining: 325ms\n",
      "706:\tlearn: 0.1431442\ttotal: 782ms\tremaining: 324ms\n",
      "707:\tlearn: 0.1429164\ttotal: 783ms\tremaining: 323ms\n",
      "708:\tlearn: 0.1426882\ttotal: 784ms\tremaining: 322ms\n",
      "709:\tlearn: 0.1426100\ttotal: 785ms\tremaining: 321ms\n",
      "710:\tlearn: 0.1424190\ttotal: 786ms\tremaining: 319ms\n",
      "711:\tlearn: 0.1423092\ttotal: 787ms\tremaining: 318ms\n",
      "712:\tlearn: 0.1423067\ttotal: 787ms\tremaining: 317ms\n",
      "713:\tlearn: 0.1421693\ttotal: 788ms\tremaining: 316ms\n",
      "714:\tlearn: 0.1420677\ttotal: 789ms\tremaining: 314ms\n",
      "715:\tlearn: 0.1418909\ttotal: 790ms\tremaining: 313ms\n",
      "716:\tlearn: 0.1416497\ttotal: 790ms\tremaining: 312ms\n",
      "717:\tlearn: 0.1414662\ttotal: 791ms\tremaining: 311ms\n",
      "718:\tlearn: 0.1412558\ttotal: 792ms\tremaining: 310ms\n",
      "719:\tlearn: 0.1410650\ttotal: 793ms\tremaining: 308ms\n",
      "720:\tlearn: 0.1410166\ttotal: 794ms\tremaining: 307ms\n",
      "721:\tlearn: 0.1409624\ttotal: 795ms\tremaining: 306ms\n",
      "722:\tlearn: 0.1408545\ttotal: 795ms\tremaining: 305ms\n",
      "723:\tlearn: 0.1408217\ttotal: 796ms\tremaining: 304ms\n",
      "724:\tlearn: 0.1406658\ttotal: 797ms\tremaining: 302ms\n",
      "725:\tlearn: 0.1404716\ttotal: 798ms\tremaining: 301ms\n",
      "726:\tlearn: 0.1403177\ttotal: 799ms\tremaining: 300ms\n",
      "727:\tlearn: 0.1400926\ttotal: 800ms\tremaining: 299ms\n",
      "728:\tlearn: 0.1398246\ttotal: 800ms\tremaining: 298ms\n",
      "729:\tlearn: 0.1396829\ttotal: 801ms\tremaining: 296ms\n",
      "730:\tlearn: 0.1395054\ttotal: 802ms\tremaining: 295ms\n",
      "731:\tlearn: 0.1393124\ttotal: 804ms\tremaining: 294ms\n",
      "732:\tlearn: 0.1391796\ttotal: 805ms\tremaining: 293ms\n",
      "733:\tlearn: 0.1388529\ttotal: 805ms\tremaining: 292ms\n",
      "734:\tlearn: 0.1386752\ttotal: 806ms\tremaining: 291ms\n",
      "735:\tlearn: 0.1384586\ttotal: 807ms\tremaining: 290ms\n",
      "736:\tlearn: 0.1382095\ttotal: 808ms\tremaining: 288ms\n",
      "737:\tlearn: 0.1380341\ttotal: 809ms\tremaining: 287ms\n",
      "738:\tlearn: 0.1377901\ttotal: 810ms\tremaining: 286ms\n",
      "739:\tlearn: 0.1376585\ttotal: 811ms\tremaining: 285ms\n",
      "740:\tlearn: 0.1374064\ttotal: 811ms\tremaining: 284ms\n",
      "741:\tlearn: 0.1372794\ttotal: 812ms\tremaining: 282ms\n",
      "742:\tlearn: 0.1371531\ttotal: 813ms\tremaining: 281ms\n",
      "743:\tlearn: 0.1369993\ttotal: 814ms\tremaining: 280ms\n",
      "744:\tlearn: 0.1368186\ttotal: 815ms\tremaining: 279ms\n",
      "745:\tlearn: 0.1366331\ttotal: 816ms\tremaining: 278ms\n",
      "746:\tlearn: 0.1365468\ttotal: 816ms\tremaining: 277ms\n",
      "747:\tlearn: 0.1363820\ttotal: 817ms\tremaining: 275ms\n",
      "748:\tlearn: 0.1362567\ttotal: 818ms\tremaining: 274ms\n",
      "749:\tlearn: 0.1361312\ttotal: 819ms\tremaining: 273ms\n",
      "750:\tlearn: 0.1359187\ttotal: 820ms\tremaining: 272ms\n",
      "751:\tlearn: 0.1358299\ttotal: 821ms\tremaining: 271ms\n",
      "752:\tlearn: 0.1357257\ttotal: 822ms\tremaining: 269ms\n",
      "753:\tlearn: 0.1355594\ttotal: 822ms\tremaining: 268ms\n",
      "754:\tlearn: 0.1354687\ttotal: 823ms\tremaining: 267ms\n",
      "755:\tlearn: 0.1352557\ttotal: 824ms\tremaining: 266ms\n",
      "756:\tlearn: 0.1350550\ttotal: 825ms\tremaining: 265ms\n",
      "757:\tlearn: 0.1347531\ttotal: 826ms\tremaining: 264ms\n",
      "758:\tlearn: 0.1346400\ttotal: 827ms\tremaining: 262ms\n",
      "759:\tlearn: 0.1344066\ttotal: 827ms\tremaining: 261ms\n",
      "760:\tlearn: 0.1341927\ttotal: 828ms\tremaining: 260ms\n",
      "761:\tlearn: 0.1341844\ttotal: 829ms\tremaining: 259ms\n",
      "762:\tlearn: 0.1341012\ttotal: 830ms\tremaining: 258ms\n",
      "763:\tlearn: 0.1339409\ttotal: 830ms\tremaining: 257ms\n",
      "764:\tlearn: 0.1338125\ttotal: 831ms\tremaining: 255ms\n",
      "765:\tlearn: 0.1335885\ttotal: 832ms\tremaining: 254ms\n",
      "766:\tlearn: 0.1334875\ttotal: 834ms\tremaining: 253ms\n",
      "767:\tlearn: 0.1333759\ttotal: 835ms\tremaining: 252ms\n",
      "768:\tlearn: 0.1331280\ttotal: 836ms\tremaining: 251ms\n",
      "769:\tlearn: 0.1329730\ttotal: 837ms\tremaining: 250ms\n",
      "770:\tlearn: 0.1328939\ttotal: 838ms\tremaining: 249ms\n",
      "771:\tlearn: 0.1327019\ttotal: 839ms\tremaining: 248ms\n",
      "772:\tlearn: 0.1325675\ttotal: 840ms\tremaining: 247ms\n",
      "773:\tlearn: 0.1323489\ttotal: 841ms\tremaining: 245ms\n",
      "774:\tlearn: 0.1321570\ttotal: 841ms\tremaining: 244ms\n",
      "775:\tlearn: 0.1320639\ttotal: 842ms\tremaining: 243ms\n",
      "776:\tlearn: 0.1317801\ttotal: 843ms\tremaining: 242ms\n",
      "777:\tlearn: 0.1316457\ttotal: 844ms\tremaining: 241ms\n",
      "778:\tlearn: 0.1315459\ttotal: 845ms\tremaining: 240ms\n",
      "779:\tlearn: 0.1314841\ttotal: 846ms\tremaining: 238ms\n",
      "780:\tlearn: 0.1313377\ttotal: 846ms\tremaining: 237ms\n",
      "781:\tlearn: 0.1311382\ttotal: 847ms\tremaining: 236ms\n",
      "782:\tlearn: 0.1311252\ttotal: 848ms\tremaining: 235ms\n",
      "783:\tlearn: 0.1310056\ttotal: 849ms\tremaining: 234ms\n",
      "784:\tlearn: 0.1307991\ttotal: 849ms\tremaining: 233ms\n",
      "785:\tlearn: 0.1307076\ttotal: 850ms\tremaining: 232ms\n",
      "786:\tlearn: 0.1305459\ttotal: 851ms\tremaining: 230ms\n",
      "787:\tlearn: 0.1304805\ttotal: 852ms\tremaining: 229ms\n",
      "788:\tlearn: 0.1304152\ttotal: 853ms\tremaining: 228ms\n",
      "789:\tlearn: 0.1303560\ttotal: 854ms\tremaining: 227ms\n",
      "790:\tlearn: 0.1301373\ttotal: 854ms\tremaining: 226ms\n",
      "791:\tlearn: 0.1300681\ttotal: 855ms\tremaining: 225ms\n",
      "792:\tlearn: 0.1298697\ttotal: 871ms\tremaining: 227ms\n",
      "793:\tlearn: 0.1297265\ttotal: 872ms\tremaining: 226ms\n",
      "794:\tlearn: 0.1295468\ttotal: 873ms\tremaining: 225ms\n",
      "795:\tlearn: 0.1294040\ttotal: 874ms\tremaining: 224ms\n",
      "796:\tlearn: 0.1292465\ttotal: 875ms\tremaining: 223ms\n",
      "797:\tlearn: 0.1291329\ttotal: 876ms\tremaining: 222ms\n",
      "798:\tlearn: 0.1290803\ttotal: 877ms\tremaining: 220ms\n",
      "799:\tlearn: 0.1290301\ttotal: 877ms\tremaining: 219ms\n",
      "800:\tlearn: 0.1288635\ttotal: 878ms\tremaining: 218ms\n",
      "801:\tlearn: 0.1287361\ttotal: 879ms\tremaining: 217ms\n",
      "802:\tlearn: 0.1286530\ttotal: 880ms\tremaining: 216ms\n",
      "803:\tlearn: 0.1284389\ttotal: 880ms\tremaining: 215ms\n",
      "804:\tlearn: 0.1282786\ttotal: 881ms\tremaining: 213ms\n",
      "805:\tlearn: 0.1281553\ttotal: 882ms\tremaining: 212ms\n",
      "806:\tlearn: 0.1279823\ttotal: 883ms\tremaining: 211ms\n",
      "807:\tlearn: 0.1277750\ttotal: 884ms\tremaining: 210ms\n",
      "808:\tlearn: 0.1276277\ttotal: 885ms\tremaining: 209ms\n",
      "809:\tlearn: 0.1275494\ttotal: 886ms\tremaining: 208ms\n",
      "810:\tlearn: 0.1274837\ttotal: 886ms\tremaining: 207ms\n",
      "811:\tlearn: 0.1273540\ttotal: 887ms\tremaining: 205ms\n",
      "812:\tlearn: 0.1272787\ttotal: 888ms\tremaining: 204ms\n",
      "813:\tlearn: 0.1271554\ttotal: 889ms\tremaining: 203ms\n",
      "814:\tlearn: 0.1270493\ttotal: 890ms\tremaining: 202ms\n",
      "815:\tlearn: 0.1269465\ttotal: 891ms\tremaining: 201ms\n",
      "816:\tlearn: 0.1267095\ttotal: 891ms\tremaining: 200ms\n",
      "817:\tlearn: 0.1264776\ttotal: 892ms\tremaining: 199ms\n",
      "818:\tlearn: 0.1264032\ttotal: 893ms\tremaining: 197ms\n",
      "819:\tlearn: 0.1262612\ttotal: 894ms\tremaining: 196ms\n",
      "820:\tlearn: 0.1261729\ttotal: 895ms\tremaining: 195ms\n",
      "821:\tlearn: 0.1260966\ttotal: 896ms\tremaining: 194ms\n",
      "822:\tlearn: 0.1260511\ttotal: 897ms\tremaining: 193ms\n",
      "823:\tlearn: 0.1258028\ttotal: 897ms\tremaining: 192ms\n",
      "824:\tlearn: 0.1256652\ttotal: 898ms\tremaining: 191ms\n",
      "825:\tlearn: 0.1254916\ttotal: 899ms\tremaining: 189ms\n",
      "826:\tlearn: 0.1253357\ttotal: 900ms\tremaining: 188ms\n",
      "827:\tlearn: 0.1251382\ttotal: 901ms\tremaining: 187ms\n",
      "828:\tlearn: 0.1249919\ttotal: 902ms\tremaining: 186ms\n",
      "829:\tlearn: 0.1248457\ttotal: 903ms\tremaining: 185ms\n",
      "830:\tlearn: 0.1246324\ttotal: 904ms\tremaining: 184ms\n",
      "831:\tlearn: 0.1244996\ttotal: 904ms\tremaining: 183ms\n",
      "832:\tlearn: 0.1243415\ttotal: 905ms\tremaining: 181ms\n",
      "833:\tlearn: 0.1241847\ttotal: 906ms\tremaining: 180ms\n",
      "834:\tlearn: 0.1240335\ttotal: 907ms\tremaining: 179ms\n",
      "835:\tlearn: 0.1237918\ttotal: 908ms\tremaining: 178ms\n",
      "836:\tlearn: 0.1236950\ttotal: 909ms\tremaining: 177ms\n",
      "837:\tlearn: 0.1235613\ttotal: 910ms\tremaining: 176ms\n",
      "838:\tlearn: 0.1233025\ttotal: 910ms\tremaining: 175ms\n",
      "839:\tlearn: 0.1232121\ttotal: 911ms\tremaining: 174ms\n",
      "840:\tlearn: 0.1231302\ttotal: 912ms\tremaining: 172ms\n",
      "841:\tlearn: 0.1229518\ttotal: 913ms\tremaining: 171ms\n",
      "842:\tlearn: 0.1228069\ttotal: 914ms\tremaining: 170ms\n",
      "843:\tlearn: 0.1226059\ttotal: 914ms\tremaining: 169ms\n",
      "844:\tlearn: 0.1224354\ttotal: 915ms\tremaining: 168ms\n",
      "845:\tlearn: 0.1222127\ttotal: 916ms\tremaining: 167ms\n",
      "846:\tlearn: 0.1220856\ttotal: 917ms\tremaining: 166ms\n",
      "847:\tlearn: 0.1219199\ttotal: 918ms\tremaining: 165ms\n",
      "848:\tlearn: 0.1217458\ttotal: 919ms\tremaining: 163ms\n",
      "849:\tlearn: 0.1216257\ttotal: 920ms\tremaining: 162ms\n",
      "850:\tlearn: 0.1215600\ttotal: 920ms\tremaining: 161ms\n",
      "851:\tlearn: 0.1214933\ttotal: 921ms\tremaining: 160ms\n",
      "852:\tlearn: 0.1213989\ttotal: 922ms\tremaining: 159ms\n",
      "853:\tlearn: 0.1211759\ttotal: 923ms\tremaining: 158ms\n",
      "854:\tlearn: 0.1210459\ttotal: 924ms\tremaining: 157ms\n",
      "855:\tlearn: 0.1209763\ttotal: 925ms\tremaining: 156ms\n",
      "856:\tlearn: 0.1208424\ttotal: 926ms\tremaining: 154ms\n",
      "857:\tlearn: 0.1207268\ttotal: 927ms\tremaining: 153ms\n",
      "858:\tlearn: 0.1207021\ttotal: 927ms\tremaining: 152ms\n",
      "859:\tlearn: 0.1206801\ttotal: 928ms\tremaining: 151ms\n",
      "860:\tlearn: 0.1205816\ttotal: 929ms\tremaining: 150ms\n",
      "861:\tlearn: 0.1204966\ttotal: 930ms\tremaining: 149ms\n",
      "862:\tlearn: 0.1203707\ttotal: 931ms\tremaining: 148ms\n",
      "863:\tlearn: 0.1202906\ttotal: 932ms\tremaining: 147ms\n",
      "864:\tlearn: 0.1201868\ttotal: 933ms\tremaining: 146ms\n",
      "865:\tlearn: 0.1200493\ttotal: 933ms\tremaining: 144ms\n",
      "866:\tlearn: 0.1199292\ttotal: 934ms\tremaining: 143ms\n",
      "867:\tlearn: 0.1196922\ttotal: 935ms\tremaining: 142ms\n",
      "868:\tlearn: 0.1194634\ttotal: 936ms\tremaining: 141ms\n",
      "869:\tlearn: 0.1192923\ttotal: 937ms\tremaining: 140ms\n",
      "870:\tlearn: 0.1190678\ttotal: 938ms\tremaining: 139ms\n",
      "871:\tlearn: 0.1188564\ttotal: 939ms\tremaining: 138ms\n",
      "872:\tlearn: 0.1187446\ttotal: 939ms\tremaining: 137ms\n",
      "873:\tlearn: 0.1185680\ttotal: 940ms\tremaining: 136ms\n",
      "874:\tlearn: 0.1183099\ttotal: 941ms\tremaining: 134ms\n",
      "875:\tlearn: 0.1181296\ttotal: 942ms\tremaining: 133ms\n",
      "876:\tlearn: 0.1179675\ttotal: 943ms\tremaining: 132ms\n",
      "877:\tlearn: 0.1178422\ttotal: 944ms\tremaining: 131ms\n",
      "878:\tlearn: 0.1178078\ttotal: 944ms\tremaining: 130ms\n",
      "879:\tlearn: 0.1176941\ttotal: 945ms\tremaining: 129ms\n",
      "880:\tlearn: 0.1175515\ttotal: 946ms\tremaining: 128ms\n",
      "881:\tlearn: 0.1173246\ttotal: 947ms\tremaining: 127ms\n",
      "882:\tlearn: 0.1172417\ttotal: 948ms\tremaining: 126ms\n",
      "883:\tlearn: 0.1170307\ttotal: 963ms\tremaining: 126ms\n",
      "884:\tlearn: 0.1168643\ttotal: 964ms\tremaining: 125ms\n",
      "885:\tlearn: 0.1166485\ttotal: 965ms\tremaining: 124ms\n",
      "886:\tlearn: 0.1165695\ttotal: 966ms\tremaining: 123ms\n",
      "887:\tlearn: 0.1164786\ttotal: 967ms\tremaining: 122ms\n",
      "888:\tlearn: 0.1162830\ttotal: 968ms\tremaining: 121ms\n",
      "889:\tlearn: 0.1161377\ttotal: 968ms\tremaining: 120ms\n",
      "890:\tlearn: 0.1160423\ttotal: 969ms\tremaining: 119ms\n",
      "891:\tlearn: 0.1158758\ttotal: 970ms\tremaining: 117ms\n",
      "892:\tlearn: 0.1157740\ttotal: 971ms\tremaining: 116ms\n",
      "893:\tlearn: 0.1156028\ttotal: 972ms\tremaining: 115ms\n",
      "894:\tlearn: 0.1154865\ttotal: 973ms\tremaining: 114ms\n",
      "895:\tlearn: 0.1153868\ttotal: 974ms\tremaining: 113ms\n",
      "896:\tlearn: 0.1152056\ttotal: 974ms\tremaining: 112ms\n",
      "897:\tlearn: 0.1151117\ttotal: 975ms\tremaining: 111ms\n",
      "898:\tlearn: 0.1148738\ttotal: 977ms\tremaining: 110ms\n",
      "899:\tlearn: 0.1148047\ttotal: 978ms\tremaining: 109ms\n",
      "900:\tlearn: 0.1146821\ttotal: 980ms\tremaining: 108ms\n",
      "901:\tlearn: 0.1145236\ttotal: 981ms\tremaining: 107ms\n",
      "902:\tlearn: 0.1144411\ttotal: 982ms\tremaining: 105ms\n",
      "903:\tlearn: 0.1143005\ttotal: 983ms\tremaining: 104ms\n",
      "904:\tlearn: 0.1141661\ttotal: 991ms\tremaining: 104ms\n",
      "905:\tlearn: 0.1139904\ttotal: 993ms\tremaining: 103ms\n",
      "906:\tlearn: 0.1138217\ttotal: 994ms\tremaining: 102ms\n",
      "907:\tlearn: 0.1137136\ttotal: 998ms\tremaining: 101ms\n",
      "908:\tlearn: 0.1135761\ttotal: 999ms\tremaining: 100ms\n",
      "909:\tlearn: 0.1134929\ttotal: 1000ms\tremaining: 98.9ms\n",
      "910:\tlearn: 0.1133699\ttotal: 1s\tremaining: 97.8ms\n",
      "911:\tlearn: 0.1133066\ttotal: 1s\tremaining: 96.6ms\n",
      "912:\tlearn: 0.1132211\ttotal: 1s\tremaining: 95.5ms\n",
      "913:\tlearn: 0.1131021\ttotal: 1s\tremaining: 94.4ms\n",
      "914:\tlearn: 0.1128385\ttotal: 1.01s\tremaining: 93.7ms\n",
      "915:\tlearn: 0.1127625\ttotal: 1.01s\tremaining: 92.5ms\n",
      "916:\tlearn: 0.1126451\ttotal: 1.01s\tremaining: 91.4ms\n",
      "917:\tlearn: 0.1125565\ttotal: 1.01s\tremaining: 90.3ms\n",
      "918:\tlearn: 0.1124484\ttotal: 1.01s\tremaining: 89.2ms\n",
      "919:\tlearn: 0.1123934\ttotal: 1.01s\tremaining: 88.1ms\n",
      "920:\tlearn: 0.1123856\ttotal: 1.01s\tremaining: 86.9ms\n",
      "921:\tlearn: 0.1122845\ttotal: 1.01s\tremaining: 85.8ms\n",
      "922:\tlearn: 0.1122166\ttotal: 1.01s\tremaining: 84.7ms\n",
      "923:\tlearn: 0.1120739\ttotal: 1.01s\tremaining: 83.6ms\n",
      "924:\tlearn: 0.1119260\ttotal: 1.02s\tremaining: 82.4ms\n",
      "925:\tlearn: 0.1117935\ttotal: 1.02s\tremaining: 81.3ms\n",
      "926:\tlearn: 0.1116559\ttotal: 1.02s\tremaining: 80.2ms\n",
      "927:\tlearn: 0.1116135\ttotal: 1.02s\tremaining: 79.1ms\n",
      "928:\tlearn: 0.1114628\ttotal: 1.02s\tremaining: 78ms\n",
      "929:\tlearn: 0.1112802\ttotal: 1.02s\tremaining: 76.9ms\n",
      "930:\tlearn: 0.1111615\ttotal: 1.02s\tremaining: 75.8ms\n",
      "931:\tlearn: 0.1109939\ttotal: 1.02s\tremaining: 74.7ms\n",
      "932:\tlearn: 0.1108623\ttotal: 1.02s\tremaining: 73.6ms\n",
      "933:\tlearn: 0.1107343\ttotal: 1.02s\tremaining: 72.5ms\n",
      "934:\tlearn: 0.1105349\ttotal: 1.03s\tremaining: 71.4ms\n",
      "935:\tlearn: 0.1104758\ttotal: 1.03s\tremaining: 70.2ms\n",
      "936:\tlearn: 0.1103224\ttotal: 1.03s\tremaining: 69.1ms\n",
      "937:\tlearn: 0.1102123\ttotal: 1.03s\tremaining: 68ms\n",
      "938:\tlearn: 0.1100907\ttotal: 1.03s\tremaining: 66.9ms\n",
      "939:\tlearn: 0.1100086\ttotal: 1.03s\tremaining: 65.8ms\n",
      "940:\tlearn: 0.1098823\ttotal: 1.03s\tremaining: 64.7ms\n",
      "941:\tlearn: 0.1097387\ttotal: 1.03s\tremaining: 63.6ms\n",
      "942:\tlearn: 0.1096208\ttotal: 1.03s\tremaining: 62.5ms\n",
      "943:\tlearn: 0.1095742\ttotal: 1.03s\tremaining: 61.3ms\n",
      "944:\tlearn: 0.1093932\ttotal: 1.03s\tremaining: 60.2ms\n",
      "945:\tlearn: 0.1092142\ttotal: 1.03s\tremaining: 59.1ms\n",
      "946:\tlearn: 0.1091308\ttotal: 1.04s\tremaining: 58ms\n",
      "947:\tlearn: 0.1089940\ttotal: 1.04s\tremaining: 56.9ms\n",
      "948:\tlearn: 0.1088858\ttotal: 1.04s\tremaining: 55.8ms\n",
      "949:\tlearn: 0.1087709\ttotal: 1.04s\tremaining: 54.7ms\n",
      "950:\tlearn: 0.1085972\ttotal: 1.04s\tremaining: 53.6ms\n",
      "951:\tlearn: 0.1084184\ttotal: 1.04s\tremaining: 52.5ms\n",
      "952:\tlearn: 0.1083189\ttotal: 1.04s\tremaining: 51.4ms\n",
      "953:\tlearn: 0.1081992\ttotal: 1.04s\tremaining: 50.3ms\n",
      "954:\tlearn: 0.1081138\ttotal: 1.04s\tremaining: 49.2ms\n",
      "955:\tlearn: 0.1078700\ttotal: 1.04s\tremaining: 48.1ms\n",
      "956:\tlearn: 0.1077964\ttotal: 1.04s\tremaining: 47ms\n",
      "957:\tlearn: 0.1077156\ttotal: 1.04s\tremaining: 45.9ms\n",
      "958:\tlearn: 0.1076575\ttotal: 1.05s\tremaining: 44.8ms\n",
      "959:\tlearn: 0.1075905\ttotal: 1.05s\tremaining: 43.7ms\n",
      "960:\tlearn: 0.1075204\ttotal: 1.05s\tremaining: 42.6ms\n",
      "961:\tlearn: 0.1073493\ttotal: 1.05s\tremaining: 41.5ms\n",
      "962:\tlearn: 0.1072182\ttotal: 1.05s\tremaining: 40.4ms\n",
      "963:\tlearn: 0.1070009\ttotal: 1.05s\tremaining: 39.3ms\n",
      "964:\tlearn: 0.1069011\ttotal: 1.05s\tremaining: 38.2ms\n",
      "965:\tlearn: 0.1068289\ttotal: 1.05s\tremaining: 37.1ms\n",
      "966:\tlearn: 0.1066758\ttotal: 1.05s\tremaining: 36ms\n",
      "967:\tlearn: 0.1066344\ttotal: 1.05s\tremaining: 34.9ms\n",
      "968:\tlearn: 0.1064638\ttotal: 1.05s\tremaining: 33.8ms\n",
      "969:\tlearn: 0.1063075\ttotal: 1.06s\tremaining: 32.7ms\n",
      "970:\tlearn: 0.1061300\ttotal: 1.06s\tremaining: 31.6ms\n",
      "971:\tlearn: 0.1060434\ttotal: 1.06s\tremaining: 30.5ms\n",
      "972:\tlearn: 0.1059653\ttotal: 1.06s\tremaining: 29.4ms\n",
      "973:\tlearn: 0.1058871\ttotal: 1.06s\tremaining: 28.3ms\n",
      "974:\tlearn: 0.1057428\ttotal: 1.06s\tremaining: 27.2ms\n",
      "975:\tlearn: 0.1055310\ttotal: 1.06s\tremaining: 26.1ms\n",
      "976:\tlearn: 0.1054701\ttotal: 1.06s\tremaining: 25ms\n",
      "977:\tlearn: 0.1053799\ttotal: 1.06s\tremaining: 23.9ms\n",
      "978:\tlearn: 0.1052993\ttotal: 1.06s\tremaining: 22.8ms\n",
      "979:\tlearn: 0.1052548\ttotal: 1.06s\tremaining: 21.7ms\n",
      "980:\tlearn: 0.1051224\ttotal: 1.06s\tremaining: 20.6ms\n",
      "981:\tlearn: 0.1049524\ttotal: 1.07s\tremaining: 19.6ms\n",
      "982:\tlearn: 0.1048110\ttotal: 1.07s\tremaining: 18.5ms\n",
      "983:\tlearn: 0.1047053\ttotal: 1.07s\tremaining: 17.4ms\n",
      "984:\tlearn: 0.1046211\ttotal: 1.07s\tremaining: 16.3ms\n",
      "985:\tlearn: 0.1044922\ttotal: 1.07s\tremaining: 15.2ms\n",
      "986:\tlearn: 0.1044209\ttotal: 1.07s\tremaining: 14.1ms\n",
      "987:\tlearn: 0.1043547\ttotal: 1.07s\tremaining: 13ms\n",
      "988:\tlearn: 0.1042491\ttotal: 1.07s\tremaining: 11.9ms\n",
      "989:\tlearn: 0.1040603\ttotal: 1.07s\tremaining: 10.8ms\n",
      "990:\tlearn: 0.1039577\ttotal: 1.07s\tremaining: 9.76ms\n",
      "991:\tlearn: 0.1038650\ttotal: 1.07s\tremaining: 8.67ms\n",
      "992:\tlearn: 0.1037839\ttotal: 1.08s\tremaining: 7.59ms\n",
      "993:\tlearn: 0.1036449\ttotal: 1.08s\tremaining: 6.5ms\n",
      "994:\tlearn: 0.1035994\ttotal: 1.08s\tremaining: 5.42ms\n",
      "995:\tlearn: 0.1035596\ttotal: 1.08s\tremaining: 4.33ms\n",
      "996:\tlearn: 0.1033526\ttotal: 1.08s\tremaining: 3.25ms\n",
      "997:\tlearn: 0.1033085\ttotal: 1.08s\tremaining: 2.17ms\n",
      "998:\tlearn: 0.1031536\ttotal: 1.08s\tremaining: 1.08ms\n",
      "999:\tlearn: 0.1030542\ttotal: 1.08s\tremaining: 0us\n"
     ]
    }
   ],
   "source": [
    "results = pd.DataFrame({'Model': [], 'Accuracy': [], 'Bal Acc.': [], 'Time': []})\n",
    "\n",
    "\n",
    "for model_name, model in models.items():\n",
    "    \n",
    "    start_time = time.time()\n",
    "    model.fit(x_train,y_train)\n",
    "    pred = model.predict(x_val)\n",
    "    total_time = time.time() - start_time\n",
    "\n",
    "    results = results.append({\"Model\":    model_name,\n",
    "                              \"Accuracy\": metrics.accuracy_score(y_val, pred)*100,\n",
    "                              \"Bal Acc.\": metrics.balanced_accuracy_score(y_val, pred)*100,\n",
    "                              \"Time\":     total_time},\n",
    "                              ignore_index=True)\n",
    "                              "
   ]
  },
  {
   "cell_type": "code",
   "execution_count": 32,
   "metadata": {
    "cell_id": "00037-612d5b09-572b-4f07-83e5-7f71a4b7d8e8",
    "deepnote_cell_type": "code",
    "deepnote_to_be_reexecuted": false,
    "execution_millis": 109,
    "execution_start": 1620564144102,
    "source_hash": "f6c97c91",
    "tags": []
   },
   "outputs": [
    {
     "data": {
      "text/html": [
       "<style  type=\"text/css\" >\n",
       "#T_3161d_row0_col1,#T_3161d_row1_col1,#T_3161d_row2_col1{\n",
       "            width:  10em;\n",
       "             height:  80%;\n",
       "            background:  linear-gradient(90deg,#5fba7d 86.9%, transparent 86.9%);\n",
       "        }#T_3161d_row0_col2{\n",
       "            width:  10em;\n",
       "             height:  80%;\n",
       "            background:  linear-gradient(90deg,#5fba7d 86.8%, transparent 86.8%);\n",
       "        }#T_3161d_row1_col2{\n",
       "            width:  10em;\n",
       "             height:  80%;\n",
       "            background:  linear-gradient(90deg,#5fba7d 86.3%, transparent 86.3%);\n",
       "        }#T_3161d_row2_col2{\n",
       "            width:  10em;\n",
       "             height:  80%;\n",
       "            background:  linear-gradient(90deg,#5fba7d 86.5%, transparent 86.5%);\n",
       "        }#T_3161d_row3_col1,#T_3161d_row4_col1,#T_3161d_row5_col1,#T_3161d_row6_col1,#T_3161d_row7_col1,#T_3161d_row8_col1{\n",
       "            width:  10em;\n",
       "             height:  80%;\n",
       "            background:  linear-gradient(90deg,#5fba7d 85.2%, transparent 85.2%);\n",
       "        }#T_3161d_row3_col2,#T_3161d_row7_col2,#T_3161d_row8_col2{\n",
       "            width:  10em;\n",
       "             height:  80%;\n",
       "            background:  linear-gradient(90deg,#5fba7d 84.7%, transparent 84.7%);\n",
       "        }#T_3161d_row4_col2,#T_3161d_row5_col2,#T_3161d_row6_col2{\n",
       "            width:  10em;\n",
       "             height:  80%;\n",
       "            background:  linear-gradient(90deg,#5fba7d 85.0%, transparent 85.0%);\n",
       "        }#T_3161d_row9_col1,#T_3161d_row10_col1,#T_3161d_row11_col1,#T_3161d_row12_col1{\n",
       "            width:  10em;\n",
       "             height:  80%;\n",
       "            background:  linear-gradient(90deg,#5fba7d 83.6%, transparent 83.6%);\n",
       "        }#T_3161d_row9_col2{\n",
       "            width:  10em;\n",
       "             height:  80%;\n",
       "            background:  linear-gradient(90deg,#5fba7d 83.5%, transparent 83.5%);\n",
       "        }#T_3161d_row10_col2,#T_3161d_row11_col2{\n",
       "            width:  10em;\n",
       "             height:  80%;\n",
       "            background:  linear-gradient(90deg,#5fba7d 83.0%, transparent 83.0%);\n",
       "        }#T_3161d_row12_col2{\n",
       "            width:  10em;\n",
       "             height:  80%;\n",
       "            background:  linear-gradient(90deg,#5fba7d 83.2%, transparent 83.2%);\n",
       "        }#T_3161d_row13_col1,#T_3161d_row13_col2{\n",
       "            width:  10em;\n",
       "             height:  80%;\n",
       "            background:  linear-gradient(90deg,#5fba7d 82.0%, transparent 82.0%);\n",
       "        }#T_3161d_row14_col1,#T_3161d_row15_col1,#T_3161d_row16_col1{\n",
       "            width:  10em;\n",
       "             height:  80%;\n",
       "            background:  linear-gradient(90deg,#5fba7d 80.3%, transparent 80.3%);\n",
       "        }#T_3161d_row14_col2,#T_3161d_row16_col2{\n",
       "            width:  10em;\n",
       "             height:  80%;\n",
       "            background:  linear-gradient(90deg,#5fba7d 79.9%, transparent 79.9%);\n",
       "        }#T_3161d_row15_col2{\n",
       "            width:  10em;\n",
       "             height:  80%;\n",
       "            background:  linear-gradient(90deg,#5fba7d 80.2%, transparent 80.2%);\n",
       "        }#T_3161d_row17_col1{\n",
       "            width:  10em;\n",
       "             height:  80%;\n",
       "            background:  linear-gradient(90deg,#5fba7d 77.0%, transparent 77.0%);\n",
       "        }#T_3161d_row17_col2{\n",
       "            width:  10em;\n",
       "             height:  80%;\n",
       "            background:  linear-gradient(90deg,#5fba7d 76.4%, transparent 76.4%);\n",
       "        }</style><table id=\"T_3161d_\" ><thead>    <tr>        <th class=\"blank level0\" ></th>        <th class=\"col_heading level0 col0\" >Model</th>        <th class=\"col_heading level0 col1\" >Accuracy</th>        <th class=\"col_heading level0 col2\" >Bal Acc.</th>        <th class=\"col_heading level0 col3\" >Time</th>    </tr></thead><tbody>\n",
       "                <tr>\n",
       "                        <th id=\"T_3161d_level0_row0\" class=\"row_heading level0 row0\" >1</th>\n",
       "                        <td id=\"T_3161d_row0_col0\" class=\"data row0 col0\" >CatBoost</td>\n",
       "                        <td id=\"T_3161d_row0_col1\" class=\"data row0 col1\" >86.885246</td>\n",
       "                        <td id=\"T_3161d_row0_col2\" class=\"data row0 col2\" >86.796537</td>\n",
       "                        <td id=\"T_3161d_row0_col3\" class=\"data row0 col3\" >1.225873</td>\n",
       "            </tr>\n",
       "            <tr>\n",
       "                        <th id=\"T_3161d_level0_row1\" class=\"row_heading level0 row1\" >2</th>\n",
       "                        <td id=\"T_3161d_row1_col0\" class=\"data row1 col0\" >SVM_lin</td>\n",
       "                        <td id=\"T_3161d_row1_col1\" class=\"data row1 col1\" >86.885246</td>\n",
       "                        <td id=\"T_3161d_row1_col2\" class=\"data row1 col2\" >86.255411</td>\n",
       "                        <td id=\"T_3161d_row1_col3\" class=\"data row1 col3\" >0.042355</td>\n",
       "            </tr>\n",
       "            <tr>\n",
       "                        <th id=\"T_3161d_level0_row2\" class=\"row_heading level0 row2\" >3</th>\n",
       "                        <td id=\"T_3161d_row2_col0\" class=\"data row2 col0\" >XGBoost</td>\n",
       "                        <td id=\"T_3161d_row2_col1\" class=\"data row2 col1\" >86.885246</td>\n",
       "                        <td id=\"T_3161d_row2_col2\" class=\"data row2 col2\" >86.525974</td>\n",
       "                        <td id=\"T_3161d_row2_col3\" class=\"data row2 col3\" >0.059658</td>\n",
       "            </tr>\n",
       "            <tr>\n",
       "                        <th id=\"T_3161d_level0_row3\" class=\"row_heading level0 row3\" >4</th>\n",
       "                        <td id=\"T_3161d_row3_col0\" class=\"data row3 col0\" >Ridge</td>\n",
       "                        <td id=\"T_3161d_row3_col1\" class=\"data row3 col1\" >85.245902</td>\n",
       "                        <td id=\"T_3161d_row3_col2\" class=\"data row3 col2\" >84.740260</td>\n",
       "                        <td id=\"T_3161d_row3_col3\" class=\"data row3 col3\" >0.035813</td>\n",
       "            </tr>\n",
       "            <tr>\n",
       "                        <th id=\"T_3161d_level0_row4\" class=\"row_heading level0 row4\" >5</th>\n",
       "                        <td id=\"T_3161d_row4_col0\" class=\"data row4 col0\" >Skl HistGBM</td>\n",
       "                        <td id=\"T_3161d_row4_col1\" class=\"data row4 col1\" >85.245902</td>\n",
       "                        <td id=\"T_3161d_row4_col2\" class=\"data row4 col2\" >85.010823</td>\n",
       "                        <td id=\"T_3161d_row4_col3\" class=\"data row4 col3\" >0.089335</td>\n",
       "            </tr>\n",
       "            <tr>\n",
       "                        <th id=\"T_3161d_level0_row5\" class=\"row_heading level0 row5\" >6</th>\n",
       "                        <td id=\"T_3161d_row5_col0\" class=\"data row5 col0\" >Skl GBM</td>\n",
       "                        <td id=\"T_3161d_row5_col1\" class=\"data row5 col1\" >85.245902</td>\n",
       "                        <td id=\"T_3161d_row5_col2\" class=\"data row5 col2\" >85.010823</td>\n",
       "                        <td id=\"T_3161d_row5_col3\" class=\"data row5 col3\" >0.089847</td>\n",
       "            </tr>\n",
       "            <tr>\n",
       "                        <th id=\"T_3161d_level0_row6\" class=\"row_heading level0 row6\" >7</th>\n",
       "                        <td id=\"T_3161d_row6_col0\" class=\"data row6 col0\" >Extra Trees</td>\n",
       "                        <td id=\"T_3161d_row6_col1\" class=\"data row6 col1\" >85.245902</td>\n",
       "                        <td id=\"T_3161d_row6_col2\" class=\"data row6 col2\" >85.010823</td>\n",
       "                        <td id=\"T_3161d_row6_col3\" class=\"data row6 col3\" >0.116059</td>\n",
       "            </tr>\n",
       "            <tr>\n",
       "                        <th id=\"T_3161d_level0_row7\" class=\"row_heading level0 row7\" >8</th>\n",
       "                        <td id=\"T_3161d_row7_col0\" class=\"data row7 col0\" >LogRegr</td>\n",
       "                        <td id=\"T_3161d_row7_col1\" class=\"data row7 col1\" >85.245902</td>\n",
       "                        <td id=\"T_3161d_row7_col2\" class=\"data row7 col2\" >84.740260</td>\n",
       "                        <td id=\"T_3161d_row7_col3\" class=\"data row7 col3\" >0.028749</td>\n",
       "            </tr>\n",
       "            <tr>\n",
       "                        <th id=\"T_3161d_level0_row8\" class=\"row_heading level0 row8\" >9</th>\n",
       "                        <td id=\"T_3161d_row8_col0\" class=\"data row8 col0\" >LinearSVC</td>\n",
       "                        <td id=\"T_3161d_row8_col1\" class=\"data row8 col1\" >85.245902</td>\n",
       "                        <td id=\"T_3161d_row8_col2\" class=\"data row8 col2\" >84.740260</td>\n",
       "                        <td id=\"T_3161d_row8_col3\" class=\"data row8 col3\" >0.024475</td>\n",
       "            </tr>\n",
       "            <tr>\n",
       "                        <th id=\"T_3161d_level0_row9\" class=\"row_heading level0 row9\" >10</th>\n",
       "                        <td id=\"T_3161d_row9_col0\" class=\"data row9 col0\" >Random Forest</td>\n",
       "                        <td id=\"T_3161d_row9_col1\" class=\"data row9 col1\" >83.606557</td>\n",
       "                        <td id=\"T_3161d_row9_col2\" class=\"data row9 col2\" >83.495671</td>\n",
       "                        <td id=\"T_3161d_row9_col3\" class=\"data row9 col3\" >0.146108</td>\n",
       "            </tr>\n",
       "            <tr>\n",
       "                        <th id=\"T_3161d_level0_row10\" class=\"row_heading level0 row10\" >11</th>\n",
       "                        <td id=\"T_3161d_row10_col0\" class=\"data row10 col0\" >NuSVC</td>\n",
       "                        <td id=\"T_3161d_row10_col1\" class=\"data row10 col1\" >83.606557</td>\n",
       "                        <td id=\"T_3161d_row10_col2\" class=\"data row10 col2\" >82.954545</td>\n",
       "                        <td id=\"T_3161d_row10_col3\" class=\"data row10 col3\" >0.028286</td>\n",
       "            </tr>\n",
       "            <tr>\n",
       "                        <th id=\"T_3161d_level0_row11\" class=\"row_heading level0 row11\" >12</th>\n",
       "                        <td id=\"T_3161d_row11_col0\" class=\"data row11 col0\" >SVM_rbf</td>\n",
       "                        <td id=\"T_3161d_row11_col1\" class=\"data row11 col1\" >83.606557</td>\n",
       "                        <td id=\"T_3161d_row11_col2\" class=\"data row11 col2\" >82.954545</td>\n",
       "                        <td id=\"T_3161d_row11_col3\" class=\"data row11 col3\" >0.044796</td>\n",
       "            </tr>\n",
       "            <tr>\n",
       "                        <th id=\"T_3161d_level0_row12\" class=\"row_heading level0 row12\" >13</th>\n",
       "                        <td id=\"T_3161d_row12_col0\" class=\"data row12 col0\" >Decision Tree</td>\n",
       "                        <td id=\"T_3161d_row12_col1\" class=\"data row12 col1\" >83.606557</td>\n",
       "                        <td id=\"T_3161d_row12_col2\" class=\"data row12 col2\" >83.225108</td>\n",
       "                        <td id=\"T_3161d_row12_col3\" class=\"data row12 col3\" >0.013004</td>\n",
       "            </tr>\n",
       "            <tr>\n",
       "                        <th id=\"T_3161d_level0_row13\" class=\"row_heading level0 row13\" >14</th>\n",
       "                        <td id=\"T_3161d_row13_col0\" class=\"data row13 col0\" >AdaBoost</td>\n",
       "                        <td id=\"T_3161d_row13_col1\" class=\"data row13 col1\" >81.967213</td>\n",
       "                        <td id=\"T_3161d_row13_col2\" class=\"data row13 col2\" >81.980519</td>\n",
       "                        <td id=\"T_3161d_row13_col3\" class=\"data row13 col3\" >0.091962</td>\n",
       "            </tr>\n",
       "            <tr>\n",
       "                        <th id=\"T_3161d_level0_row14\" class=\"row_heading level0 row14\" >15</th>\n",
       "                        <td id=\"T_3161d_row14_col0\" class=\"data row14 col0\" >GaussianNB</td>\n",
       "                        <td id=\"T_3161d_row14_col1\" class=\"data row14 col1\" >80.327869</td>\n",
       "                        <td id=\"T_3161d_row14_col2\" class=\"data row14 col2\" >79.924242</td>\n",
       "                        <td id=\"T_3161d_row14_col3\" class=\"data row14 col3\" >0.013988</td>\n",
       "            </tr>\n",
       "            <tr>\n",
       "                        <th id=\"T_3161d_level0_row15\" class=\"row_heading level0 row15\" >16</th>\n",
       "                        <td id=\"T_3161d_row15_col0\" class=\"data row15 col0\" >KNN3</td>\n",
       "                        <td id=\"T_3161d_row15_col1\" class=\"data row15 col1\" >80.327869</td>\n",
       "                        <td id=\"T_3161d_row15_col2\" class=\"data row15 col2\" >80.194805</td>\n",
       "                        <td id=\"T_3161d_row15_col3\" class=\"data row15 col3\" >0.015907</td>\n",
       "            </tr>\n",
       "            <tr>\n",
       "                        <th id=\"T_3161d_level0_row16\" class=\"row_heading level0 row16\" >17</th>\n",
       "                        <td id=\"T_3161d_row16_col0\" class=\"data row16 col0\" >LightGBM</td>\n",
       "                        <td id=\"T_3161d_row16_col1\" class=\"data row16 col1\" >80.327869</td>\n",
       "                        <td id=\"T_3161d_row16_col2\" class=\"data row16 col2\" >79.924242</td>\n",
       "                        <td id=\"T_3161d_row16_col3\" class=\"data row16 col3\" >0.034556</td>\n",
       "            </tr>\n",
       "            <tr>\n",
       "                        <th id=\"T_3161d_level0_row17\" class=\"row_heading level0 row17\" >18</th>\n",
       "                        <td id=\"T_3161d_row17_col0\" class=\"data row17 col0\" >KNN5</td>\n",
       "                        <td id=\"T_3161d_row17_col1\" class=\"data row17 col1\" >77.049180</td>\n",
       "                        <td id=\"T_3161d_row17_col2\" class=\"data row17 col2\" >76.352814</td>\n",
       "                        <td id=\"T_3161d_row17_col3\" class=\"data row17 col3\" >0.015802</td>\n",
       "            </tr>\n",
       "    </tbody></table>"
      ],
      "text/plain": [
       "<pandas.io.formats.style.Styler at 0x7f84e371ec50>"
      ]
     },
     "execution_count": 32,
     "metadata": {},
     "output_type": "execute_result"
    }
   ],
   "source": [
    "results_ord = results.sort_values(by=['Accuracy'], ascending=False, ignore_index=True)\n",
    "results_ord.index += 1 \n",
    "results_ord.style.bar(subset=['Accuracy', 'Bal Acc.'], vmin=0, vmax=100, color='#5fba7d')"
   ]
  },
  {
   "cell_type": "code",
   "execution_count": 4,
   "metadata": {
    "cell_id": "00040-ace82b57-bc92-4fd0-9534-355750133568",
    "deepnote_cell_type": "code",
    "deepnote_to_be_reexecuted": false,
    "execution_millis": 17,
    "execution_start": 1620564275360,
    "source_hash": "e647772f",
    "tags": []
   },
   "outputs": [
    {
     "ename": "NameError",
     "evalue": "name 'test_pred' is not defined",
     "output_type": "error",
     "traceback": [
      "\u001b[1;31m---------------------------------------------------------------------------\u001b[0m",
      "\u001b[1;31mNameError\u001b[0m                                 Traceback (most recent call last)",
      "\u001b[1;32m<ipython-input-4-35242a00dd42>\u001b[0m in \u001b[0;36m<module>\u001b[1;34m\u001b[0m\n\u001b[0;32m      4\u001b[0m \u001b[0mdf_test\u001b[0m\u001b[1;33m=\u001b[0m\u001b[0mpd\u001b[0m\u001b[1;33m.\u001b[0m\u001b[0mread_csv\u001b[0m\u001b[1;33m(\u001b[0m\u001b[1;34m'test.csv'\u001b[0m\u001b[1;33m)\u001b[0m\u001b[1;33m\u001b[0m\u001b[1;33m\u001b[0m\u001b[0m\n\u001b[0;32m      5\u001b[0m \u001b[1;33m\u001b[0m\u001b[0m\n\u001b[1;32m----> 6\u001b[1;33m \u001b[0mconfusion_matrix\u001b[0m\u001b[1;33m(\u001b[0m\u001b[0mdf_test\u001b[0m\u001b[1;33m[\u001b[0m\u001b[1;34m'target'\u001b[0m\u001b[1;33m]\u001b[0m\u001b[1;33m,\u001b[0m \u001b[0mtest_pred\u001b[0m\u001b[1;33m)\u001b[0m\u001b[1;33m\u001b[0m\u001b[1;33m\u001b[0m\u001b[0m\n\u001b[0m",
      "\u001b[1;31mNameError\u001b[0m: name 'test_pred' is not defined"
     ]
    }
   ],
   "source": [
    "from sklearn.metrics import confusion_matrix\n",
    "import pandas as pd\n",
    "\n",
    "df_test=pd.read_csv('test.csv')\n",
    "\n",
    "confusion_matrix(df_test['target'], test_pred)"
   ]
  },
  {
   "cell_type": "markdown",
   "metadata": {
    "cell_id": "00023-7b86ab56-1191-4bd4-9013-6512314e1064",
    "deepnote_cell_type": "text-cell-h3",
    "tags": []
   },
   "source": [
    "### Predicting on dataset with extra column"
   ]
  },
  {
   "cell_type": "code",
   "execution_count": 52,
   "metadata": {
    "cell_id": "00040-7a77a76c-d468-4bbb-a2ed-24324eac9428",
    "deepnote_cell_type": "code",
    "deepnote_to_be_reexecuted": false,
    "execution_millis": 3,
    "execution_start": 1620564270873,
    "source_hash": "61620f54",
    "tags": []
   },
   "outputs": [],
   "source": [
    "x_wfe = full_df[num_vars_wfe + cat_vars]\n",
    "y_wfe = full_df.target"
   ]
  },
  {
   "cell_type": "code",
   "execution_count": 51,
   "metadata": {
    "cell_id": "00041-2c1576a6-c914-475b-b161-5422e351c50c",
    "deepnote_cell_type": "code",
    "deepnote_to_be_reexecuted": false,
    "execution_millis": 10,
    "execution_start": 1620564267441,
    "source_hash": "d09ec018",
    "tags": []
   },
   "outputs": [
    {
     "name": "stdout",
     "output_type": "stream",
     "text": [
      "(379, 14)\n",
      "(379,)\n"
     ]
    }
   ],
   "source": [
    "print(x_wfe.shape)\n",
    "print(y_wfe.shape)"
   ]
  },
  {
   "cell_type": "code",
   "execution_count": 50,
   "metadata": {
    "cell_id": "00041-6ff0159b-4f90-40f5-8dfe-3caf3985c377",
    "deepnote_cell_type": "code",
    "deepnote_to_be_reexecuted": false,
    "execution_millis": 11,
    "execution_start": 1620564264551,
    "source_hash": "2dd03e95",
    "tags": []
   },
   "outputs": [
    {
     "name": "stdout",
     "output_type": "stream",
     "text": [
      "(303, 14)\n",
      "(76, 14)\n"
     ]
    }
   ],
   "source": [
    "x_train, x_val, y_train, y_val = model_selection.train_test_split(x_wfe,y_wfe,test_size=0.2,stratify=y_wfe,random_state=0)\n",
    "\n",
    "print(x_train.shape)\n",
    "print(x_val.shape)"
   ]
  },
  {
   "cell_type": "code",
   "execution_count": 38,
   "metadata": {
    "cell_id": "00018-350dd847-7ba8-49ca-a4e1-7575649e3064",
    "deepnote_cell_type": "code",
    "deepnote_to_be_reexecuted": false,
    "execution_millis": 3777,
    "execution_start": 1620564193619,
    "source_hash": "253e25b2",
    "tags": []
   },
   "outputs": [
    {
     "output_type": "clearOutput"
    },
    {
     "data": {
      "text/html": [
       "<style  type=\"text/css\" >\n",
       "#T_a28b8_row0_col1,#T_a28b8_row1_col1{\n",
       "            width:  10em;\n",
       "             height:  80%;\n",
       "            background:  linear-gradient(90deg,#5fba7d 88.2%, transparent 88.2%);\n",
       "        }#T_a28b8_row0_col2,#T_a28b8_row1_col2{\n",
       "            width:  10em;\n",
       "             height:  80%;\n",
       "            background:  linear-gradient(90deg,#5fba7d 87.6%, transparent 87.6%);\n",
       "        }#T_a28b8_row2_col1{\n",
       "            width:  10em;\n",
       "             height:  80%;\n",
       "            background:  linear-gradient(90deg,#5fba7d 82.9%, transparent 82.9%);\n",
       "        }#T_a28b8_row2_col2{\n",
       "            width:  10em;\n",
       "             height:  80%;\n",
       "            background:  linear-gradient(90deg,#5fba7d 83.4%, transparent 83.4%);\n",
       "        }#T_a28b8_row3_col1,#T_a28b8_row4_col1,#T_a28b8_row5_col1{\n",
       "            width:  10em;\n",
       "             height:  80%;\n",
       "            background:  linear-gradient(90deg,#5fba7d 81.6%, transparent 81.6%);\n",
       "        }#T_a28b8_row3_col2,#T_a28b8_row5_col2{\n",
       "            width:  10em;\n",
       "             height:  80%;\n",
       "            background:  linear-gradient(90deg,#5fba7d 82.2%, transparent 82.2%);\n",
       "        }#T_a28b8_row4_col2{\n",
       "            width:  10em;\n",
       "             height:  80%;\n",
       "            background:  linear-gradient(90deg,#5fba7d 81.9%, transparent 81.9%);\n",
       "        }#T_a28b8_row6_col1,#T_a28b8_row7_col1,#T_a28b8_row8_col1{\n",
       "            width:  10em;\n",
       "             height:  80%;\n",
       "            background:  linear-gradient(90deg,#5fba7d 80.3%, transparent 80.3%);\n",
       "        }#T_a28b8_row6_col2,#T_a28b8_row7_col2{\n",
       "            width:  10em;\n",
       "             height:  80%;\n",
       "            background:  linear-gradient(90deg,#5fba7d 80.5%, transparent 80.5%);\n",
       "        }#T_a28b8_row8_col2{\n",
       "            width:  10em;\n",
       "             height:  80%;\n",
       "            background:  linear-gradient(90deg,#5fba7d 79.9%, transparent 79.9%);\n",
       "        }#T_a28b8_row9_col1,#T_a28b8_row10_col1,#T_a28b8_row11_col1{\n",
       "            width:  10em;\n",
       "             height:  80%;\n",
       "            background:  linear-gradient(90deg,#5fba7d 78.9%, transparent 78.9%);\n",
       "        }#T_a28b8_row9_col2{\n",
       "            width:  10em;\n",
       "             height:  80%;\n",
       "            background:  linear-gradient(90deg,#5fba7d 79.0%, transparent 79.0%);\n",
       "        }#T_a28b8_row10_col2{\n",
       "            width:  10em;\n",
       "             height:  80%;\n",
       "            background:  linear-gradient(90deg,#5fba7d 79.6%, transparent 79.6%);\n",
       "        }#T_a28b8_row11_col2{\n",
       "            width:  10em;\n",
       "             height:  80%;\n",
       "            background:  linear-gradient(90deg,#5fba7d 79.8%, transparent 79.8%);\n",
       "        }#T_a28b8_row12_col1{\n",
       "            width:  10em;\n",
       "             height:  80%;\n",
       "            background:  linear-gradient(90deg,#5fba7d 77.6%, transparent 77.6%);\n",
       "        }#T_a28b8_row12_col2{\n",
       "            width:  10em;\n",
       "             height:  80%;\n",
       "            background:  linear-gradient(90deg,#5fba7d 78.4%, transparent 78.4%);\n",
       "        }#T_a28b8_row13_col1,#T_a28b8_row14_col1,#T_a28b8_row15_col1,#T_a28b8_row15_col2{\n",
       "            width:  10em;\n",
       "             height:  80%;\n",
       "            background:  linear-gradient(90deg,#5fba7d 76.3%, transparent 76.3%);\n",
       "        }#T_a28b8_row13_col2{\n",
       "            width:  10em;\n",
       "             height:  80%;\n",
       "            background:  linear-gradient(90deg,#5fba7d 76.6%, transparent 76.6%);\n",
       "        }#T_a28b8_row14_col2{\n",
       "            width:  10em;\n",
       "             height:  80%;\n",
       "            background:  linear-gradient(90deg,#5fba7d 76.9%, transparent 76.9%);\n",
       "        }#T_a28b8_row16_col1{\n",
       "            width:  10em;\n",
       "             height:  80%;\n",
       "            background:  linear-gradient(90deg,#5fba7d 75.0%, transparent 75.0%);\n",
       "        }#T_a28b8_row16_col2{\n",
       "            width:  10em;\n",
       "             height:  80%;\n",
       "            background:  linear-gradient(90deg,#5fba7d 75.1%, transparent 75.1%);\n",
       "        }#T_a28b8_row17_col1{\n",
       "            width:  10em;\n",
       "             height:  80%;\n",
       "            background:  linear-gradient(90deg,#5fba7d 73.7%, transparent 73.7%);\n",
       "        }#T_a28b8_row17_col2{\n",
       "            width:  10em;\n",
       "             height:  80%;\n",
       "            background:  linear-gradient(90deg,#5fba7d 73.4%, transparent 73.4%);\n",
       "        }</style><table id=\"T_a28b8_\" ><thead>    <tr>        <th class=\"blank level0\" ></th>        <th class=\"col_heading level0 col0\" >Model</th>        <th class=\"col_heading level0 col1\" >Accuracy</th>        <th class=\"col_heading level0 col2\" >Bal Acc.</th>        <th class=\"col_heading level0 col3\" >Time</th>    </tr></thead><tbody>\n",
       "                <tr>\n",
       "                        <th id=\"T_a28b8_level0_row0\" class=\"row_heading level0 row0\" >1</th>\n",
       "                        <td id=\"T_a28b8_row0_col0\" class=\"data row0 col0\" >SVM_rbf</td>\n",
       "                        <td id=\"T_a28b8_row0_col1\" class=\"data row0 col1\" >88.157895</td>\n",
       "                        <td id=\"T_a28b8_row0_col2\" class=\"data row0 col2\" >87.605042</td>\n",
       "                        <td id=\"T_a28b8_row0_col3\" class=\"data row0 col3\" >0.049378</td>\n",
       "            </tr>\n",
       "            <tr>\n",
       "                        <th id=\"T_a28b8_level0_row1\" class=\"row_heading level0 row1\" >2</th>\n",
       "                        <td id=\"T_a28b8_row1_col0\" class=\"data row1 col0\" >NuSVC</td>\n",
       "                        <td id=\"T_a28b8_row1_col1\" class=\"data row1 col1\" >88.157895</td>\n",
       "                        <td id=\"T_a28b8_row1_col2\" class=\"data row1 col2\" >87.605042</td>\n",
       "                        <td id=\"T_a28b8_row1_col3\" class=\"data row1 col3\" >0.061426</td>\n",
       "            </tr>\n",
       "            <tr>\n",
       "                        <th id=\"T_a28b8_level0_row2\" class=\"row_heading level0 row2\" >3</th>\n",
       "                        <td id=\"T_a28b8_row2_col0\" class=\"data row2 col0\" >SVM_lin</td>\n",
       "                        <td id=\"T_a28b8_row2_col1\" class=\"data row2 col1\" >82.894737</td>\n",
       "                        <td id=\"T_a28b8_row2_col2\" class=\"data row2 col2\" >83.403361</td>\n",
       "                        <td id=\"T_a28b8_row2_col3\" class=\"data row2 col3\" >0.046585</td>\n",
       "            </tr>\n",
       "            <tr>\n",
       "                        <th id=\"T_a28b8_level0_row3\" class=\"row_heading level0 row3\" >4</th>\n",
       "                        <td id=\"T_a28b8_row3_col0\" class=\"data row3 col0\" >LogRegr</td>\n",
       "                        <td id=\"T_a28b8_row3_col1\" class=\"data row3 col1\" >81.578947</td>\n",
       "                        <td id=\"T_a28b8_row3_col2\" class=\"data row3 col2\" >82.212885</td>\n",
       "                        <td id=\"T_a28b8_row3_col3\" class=\"data row3 col3\" >0.032276</td>\n",
       "            </tr>\n",
       "            <tr>\n",
       "                        <th id=\"T_a28b8_level0_row4\" class=\"row_heading level0 row4\" >5</th>\n",
       "                        <td id=\"T_a28b8_row4_col0\" class=\"data row4 col0\" >GaussianNB</td>\n",
       "                        <td id=\"T_a28b8_row4_col1\" class=\"data row4 col1\" >81.578947</td>\n",
       "                        <td id=\"T_a28b8_row4_col2\" class=\"data row4 col2\" >81.932773</td>\n",
       "                        <td id=\"T_a28b8_row4_col3\" class=\"data row4 col3\" >0.022339</td>\n",
       "            </tr>\n",
       "            <tr>\n",
       "                        <th id=\"T_a28b8_level0_row5\" class=\"row_heading level0 row5\" >6</th>\n",
       "                        <td id=\"T_a28b8_row5_col0\" class=\"data row5 col0\" >Ridge</td>\n",
       "                        <td id=\"T_a28b8_row5_col1\" class=\"data row5 col1\" >81.578947</td>\n",
       "                        <td id=\"T_a28b8_row5_col2\" class=\"data row5 col2\" >82.212885</td>\n",
       "                        <td id=\"T_a28b8_row5_col3\" class=\"data row5 col3\" >0.020412</td>\n",
       "            </tr>\n",
       "            <tr>\n",
       "                        <th id=\"T_a28b8_level0_row6\" class=\"row_heading level0 row6\" >7</th>\n",
       "                        <td id=\"T_a28b8_row6_col0\" class=\"data row6 col0\" >Skl GBM</td>\n",
       "                        <td id=\"T_a28b8_row6_col1\" class=\"data row6 col1\" >80.263158</td>\n",
       "                        <td id=\"T_a28b8_row6_col2\" class=\"data row6 col2\" >80.462185</td>\n",
       "                        <td id=\"T_a28b8_row6_col3\" class=\"data row6 col3\" >0.148883</td>\n",
       "            </tr>\n",
       "            <tr>\n",
       "                        <th id=\"T_a28b8_level0_row7\" class=\"row_heading level0 row7\" >8</th>\n",
       "                        <td id=\"T_a28b8_row7_col0\" class=\"data row7 col0\" >Skl HistGBM</td>\n",
       "                        <td id=\"T_a28b8_row7_col1\" class=\"data row7 col1\" >80.263158</td>\n",
       "                        <td id=\"T_a28b8_row7_col2\" class=\"data row7 col2\" >80.462185</td>\n",
       "                        <td id=\"T_a28b8_row7_col3\" class=\"data row7 col3\" >0.141824</td>\n",
       "            </tr>\n",
       "            <tr>\n",
       "                        <th id=\"T_a28b8_level0_row8\" class=\"row_heading level0 row8\" >9</th>\n",
       "                        <td id=\"T_a28b8_row8_col0\" class=\"data row8 col0\" >KNN5</td>\n",
       "                        <td id=\"T_a28b8_row8_col1\" class=\"data row8 col1\" >80.263158</td>\n",
       "                        <td id=\"T_a28b8_row8_col2\" class=\"data row8 col2\" >79.901961</td>\n",
       "                        <td id=\"T_a28b8_row8_col3\" class=\"data row8 col3\" >0.019320</td>\n",
       "            </tr>\n",
       "            <tr>\n",
       "                        <th id=\"T_a28b8_level0_row9\" class=\"row_heading level0 row9\" >10</th>\n",
       "                        <td id=\"T_a28b8_row9_col0\" class=\"data row9 col0\" >LightGBM</td>\n",
       "                        <td id=\"T_a28b8_row9_col1\" class=\"data row9 col1\" >78.947368</td>\n",
       "                        <td id=\"T_a28b8_row9_col2\" class=\"data row9 col2\" >78.991597</td>\n",
       "                        <td id=\"T_a28b8_row9_col3\" class=\"data row9 col3\" >0.091770</td>\n",
       "            </tr>\n",
       "            <tr>\n",
       "                        <th id=\"T_a28b8_level0_row10\" class=\"row_heading level0 row10\" >11</th>\n",
       "                        <td id=\"T_a28b8_row10_col0\" class=\"data row10 col0\" >CatBoost</td>\n",
       "                        <td id=\"T_a28b8_row10_col1\" class=\"data row10 col1\" >78.947368</td>\n",
       "                        <td id=\"T_a28b8_row10_col2\" class=\"data row10 col2\" >79.551821</td>\n",
       "                        <td id=\"T_a28b8_row10_col3\" class=\"data row10 col3\" >1.663558</td>\n",
       "            </tr>\n",
       "            <tr>\n",
       "                        <th id=\"T_a28b8_level0_row11\" class=\"row_heading level0 row11\" >12</th>\n",
       "                        <td id=\"T_a28b8_row11_col0\" class=\"data row11 col0\" >LinearSVC</td>\n",
       "                        <td id=\"T_a28b8_row11_col1\" class=\"data row11 col1\" >78.947368</td>\n",
       "                        <td id=\"T_a28b8_row11_col2\" class=\"data row11 col2\" >79.831933</td>\n",
       "                        <td id=\"T_a28b8_row11_col3\" class=\"data row11 col3\" >0.033442</td>\n",
       "            </tr>\n",
       "            <tr>\n",
       "                        <th id=\"T_a28b8_level0_row12\" class=\"row_heading level0 row12\" >13</th>\n",
       "                        <td id=\"T_a28b8_row12_col0\" class=\"data row12 col0\" >Random Forest</td>\n",
       "                        <td id=\"T_a28b8_row12_col1\" class=\"data row12 col1\" >77.631579</td>\n",
       "                        <td id=\"T_a28b8_row12_col2\" class=\"data row12 col2\" >78.361345</td>\n",
       "                        <td id=\"T_a28b8_row12_col3\" class=\"data row12 col3\" >0.257707</td>\n",
       "            </tr>\n",
       "            <tr>\n",
       "                        <th id=\"T_a28b8_level0_row13\" class=\"row_heading level0 row13\" >14</th>\n",
       "                        <td id=\"T_a28b8_row13_col0\" class=\"data row13 col0\" >AdaBoost</td>\n",
       "                        <td id=\"T_a28b8_row13_col1\" class=\"data row13 col1\" >76.315789</td>\n",
       "                        <td id=\"T_a28b8_row13_col2\" class=\"data row13 col2\" >76.610644</td>\n",
       "                        <td id=\"T_a28b8_row13_col3\" class=\"data row13 col3\" >0.126730</td>\n",
       "            </tr>\n",
       "            <tr>\n",
       "                        <th id=\"T_a28b8_level0_row14\" class=\"row_heading level0 row14\" >15</th>\n",
       "                        <td id=\"T_a28b8_row14_col0\" class=\"data row14 col0\" >Extra Trees</td>\n",
       "                        <td id=\"T_a28b8_row14_col1\" class=\"data row14 col1\" >76.315789</td>\n",
       "                        <td id=\"T_a28b8_row14_col2\" class=\"data row14 col2\" >76.890756</td>\n",
       "                        <td id=\"T_a28b8_row14_col3\" class=\"data row14 col3\" >0.194826</td>\n",
       "            </tr>\n",
       "            <tr>\n",
       "                        <th id=\"T_a28b8_level0_row15\" class=\"row_heading level0 row15\" >16</th>\n",
       "                        <td id=\"T_a28b8_row15_col0\" class=\"data row15 col0\" >KNN3</td>\n",
       "                        <td id=\"T_a28b8_row15_col1\" class=\"data row15 col1\" >76.315789</td>\n",
       "                        <td id=\"T_a28b8_row15_col2\" class=\"data row15 col2\" >76.330532</td>\n",
       "                        <td id=\"T_a28b8_row15_col3\" class=\"data row15 col3\" >0.016760</td>\n",
       "            </tr>\n",
       "            <tr>\n",
       "                        <th id=\"T_a28b8_level0_row16\" class=\"row_heading level0 row16\" >17</th>\n",
       "                        <td id=\"T_a28b8_row16_col0\" class=\"data row16 col0\" >XGBoost</td>\n",
       "                        <td id=\"T_a28b8_row16_col1\" class=\"data row16 col1\" >75.000000</td>\n",
       "                        <td id=\"T_a28b8_row16_col2\" class=\"data row16 col2\" >75.140056</td>\n",
       "                        <td id=\"T_a28b8_row16_col3\" class=\"data row16 col3\" >0.155120</td>\n",
       "            </tr>\n",
       "            <tr>\n",
       "                        <th id=\"T_a28b8_level0_row17\" class=\"row_heading level0 row17\" >18</th>\n",
       "                        <td id=\"T_a28b8_row17_col0\" class=\"data row17 col0\" >Decision Tree</td>\n",
       "                        <td id=\"T_a28b8_row17_col1\" class=\"data row17 col1\" >73.684211</td>\n",
       "                        <td id=\"T_a28b8_row17_col2\" class=\"data row17 col2\" >73.389356</td>\n",
       "                        <td id=\"T_a28b8_row17_col3\" class=\"data row17 col3\" >0.027272</td>\n",
       "            </tr>\n",
       "    </tbody></table>"
      ],
      "text/plain": [
       "<pandas.io.formats.style.Styler at 0x7f84b8ad8ad0>"
      ]
     },
     "metadata": {},
     "output_type": "display_data"
    }
   ],
   "source": [
    "results = pd.DataFrame({'Model': [], 'Accuracy': [], 'Bal Acc.': [], 'Time': []})\n",
    "\n",
    "print(x_train.columns )\n",
    "print(type(y_train))\n",
    "for model_name, model in models_wfe.items():\n",
    "\n",
    "    print(model_name)\n",
    "    start_time = time.time()\n",
    "    model.fit(x_train, y_train)\n",
    "    total_time = time.time() - start_time\n",
    "    \n",
    "    pred = model.predict(x_val)\n",
    "    \n",
    "    results = results.append({\"Model\":    model_name,\n",
    "                              \"Accuracy\": metrics.accuracy_score(y_val, pred)*100,\n",
    "                              \"Bal Acc.\": metrics.balanced_accuracy_score(y_val, pred)*100,\n",
    "                              \"Time\":     total_time},\n",
    "                              ignore_index=True)\n",
    "    \n",
    "    results_ord = results.sort_values(by=['Accuracy'], ascending=False, ignore_index=True)\n",
    "    results_ord.index += 1 \n",
    "    \n",
    "    clear_output(wait=True)\n",
    "    display(results_ord.style.bar(subset=['Accuracy', 'Bal Acc.'], vmin=0, vmax=100, color='#5fba7d'))"
   ]
  },
  {
   "cell_type": "code",
   "execution_count": 39,
   "metadata": {
    "cell_id": "00023-55a29a27-9434-4029-9841-14153c6bb986",
    "deepnote_cell_type": "code",
    "deepnote_to_be_reexecuted": false,
    "execution_millis": 16,
    "execution_start": 1620564203815,
    "source_hash": "b82e8270",
    "tags": []
   },
   "outputs": [
    {
     "name": "stdout",
     "output_type": "stream",
     "text": [
      "<3\n"
     ]
    }
   ],
   "source": [
    "print('<3')"
   ]
  },
  {
   "cell_type": "code",
   "execution_count": 40,
   "metadata": {
    "cell_id": "00041-d4081e09-6ebc-412f-8a72-09658f6bdb3e",
    "deepnote_cell_type": "code",
    "deepnote_to_be_reexecuted": false,
    "execution_millis": 9,
    "execution_start": 1620564207281,
    "source_hash": "f957e39e",
    "tags": []
   },
   "outputs": [],
   "source": [
    "x_test = pd.read_csv(\"test.csv\")\n",
    "x_test = x_test.drop(['Unnamed: 0','target'],axis= 1)"
   ]
  },
  {
   "cell_type": "code",
   "execution_count": 41,
   "metadata": {
    "cell_id": "00047-3c508573-51bd-434d-b2ed-71ac5feb5f3c",
    "deepnote_cell_type": "code",
    "deepnote_to_be_reexecuted": false,
    "execution_millis": 122,
    "execution_start": 1620564210252,
    "source_hash": "4ea9727a",
    "tags": []
   },
   "outputs": [
    {
     "data": {
      "application/vnd.deepnote.dataframe.v2+json": {
       "column_count": 14,
       "columns": [
        {
         "dtype": "int64",
         "name": "age",
         "stats": {
          "histogram": [
           {
            "bin_end": 44.4,
            "bin_start": 41,
            "count": 6
           },
           {
            "bin_end": 47.8,
            "bin_start": 44.4,
            "count": 2
           },
           {
            "bin_end": 51.2,
            "bin_start": 47.8,
            "count": 6
           },
           {
            "bin_end": 54.6,
            "bin_start": 51.2,
            "count": 5
           },
           {
            "bin_end": 58,
            "bin_start": 54.6,
            "count": 4
           },
           {
            "bin_end": 61.4,
            "bin_start": 58,
            "count": 9
           },
           {
            "bin_end": 64.8,
            "bin_start": 61.4,
            "count": 7
           },
           {
            "bin_end": 68.2,
            "bin_start": 64.8,
            "count": 4
           },
           {
            "bin_end": 71.6,
            "bin_start": 68.2,
            "count": 5
           },
           {
            "bin_end": 75,
            "bin_start": 71.6,
            "count": 2
           }
          ],
          "max": "75",
          "min": "41",
          "nan_count": 0,
          "unique_count": 28
         }
        },
        {
         "dtype": "int64",
         "name": "sex",
         "stats": {
          "histogram": [
           {
            "bin_end": 0.1,
            "bin_start": 0,
            "count": 10
           },
           {
            "bin_end": 0.2,
            "bin_start": 0.1,
            "count": 0
           },
           {
            "bin_end": 0.30000000000000004,
            "bin_start": 0.2,
            "count": 0
           },
           {
            "bin_end": 0.4,
            "bin_start": 0.30000000000000004,
            "count": 0
           },
           {
            "bin_end": 0.5,
            "bin_start": 0.4,
            "count": 0
           },
           {
            "bin_end": 0.6000000000000001,
            "bin_start": 0.5,
            "count": 0
           },
           {
            "bin_end": 0.7000000000000001,
            "bin_start": 0.6000000000000001,
            "count": 0
           },
           {
            "bin_end": 0.8,
            "bin_start": 0.7000000000000001,
            "count": 0
           },
           {
            "bin_end": 0.9,
            "bin_start": 0.8,
            "count": 0
           },
           {
            "bin_end": 1,
            "bin_start": 0.9,
            "count": 40
           }
          ],
          "max": "1",
          "min": "0",
          "nan_count": 0,
          "unique_count": 2
         }
        },
        {
         "dtype": "int64",
         "name": "cp",
         "stats": {
          "histogram": [
           {
            "bin_end": 0.5,
            "bin_start": 0,
            "count": 12
           },
           {
            "bin_end": 1,
            "bin_start": 0.5,
            "count": 0
           },
           {
            "bin_end": 1.5,
            "bin_start": 1,
            "count": 9
           },
           {
            "bin_end": 2,
            "bin_start": 1.5,
            "count": 0
           },
           {
            "bin_end": 2.5,
            "bin_start": 2,
            "count": 15
           },
           {
            "bin_end": 3,
            "bin_start": 2.5,
            "count": 0
           },
           {
            "bin_end": 3.5,
            "bin_start": 3,
            "count": 8
           },
           {
            "bin_end": 4,
            "bin_start": 3.5,
            "count": 0
           },
           {
            "bin_end": 4.5,
            "bin_start": 4,
            "count": 5
           },
           {
            "bin_end": 5,
            "bin_start": 4.5,
            "count": 1
           }
          ],
          "max": "5",
          "min": "0",
          "nan_count": 0,
          "unique_count": 6
         }
        },
        {
         "dtype": "int64",
         "name": "trestbps",
         "stats": {
          "histogram": [
           {
            "bin_end": 115.5,
            "bin_start": 105,
            "count": 4
           },
           {
            "bin_end": 126,
            "bin_start": 115.5,
            "count": 8
           },
           {
            "bin_end": 136.5,
            "bin_start": 126,
            "count": 11
           },
           {
            "bin_end": 147,
            "bin_start": 136.5,
            "count": 14
           },
           {
            "bin_end": 157.5,
            "bin_start": 147,
            "count": 5
           },
           {
            "bin_end": 168,
            "bin_start": 157.5,
            "count": 3
           },
           {
            "bin_end": 178.5,
            "bin_start": 168,
            "count": 2
           },
           {
            "bin_end": 189,
            "bin_start": 178.5,
            "count": 2
           },
           {
            "bin_end": 199.5,
            "bin_start": 189,
            "count": 0
           },
           {
            "bin_end": 210,
            "bin_start": 199.5,
            "count": 1
           }
          ],
          "max": "210",
          "min": "105",
          "nan_count": 0,
          "unique_count": 37
         }
        },
        {
         "dtype": "int64",
         "name": "chol",
         "stats": {
          "histogram": [
           {
            "bin_end": 198.7,
            "bin_start": 174,
            "count": 2
           },
           {
            "bin_end": 223.4,
            "bin_start": 198.7,
            "count": 3
           },
           {
            "bin_end": 248.1,
            "bin_start": 223.4,
            "count": 9
           },
           {
            "bin_end": 272.8,
            "bin_start": 248.1,
            "count": 11
           },
           {
            "bin_end": 297.5,
            "bin_start": 272.8,
            "count": 12
           },
           {
            "bin_end": 322.2,
            "bin_start": 297.5,
            "count": 6
           },
           {
            "bin_end": 346.9,
            "bin_start": 322.2,
            "count": 6
           },
           {
            "bin_end": 371.6,
            "bin_start": 346.9,
            "count": 0
           },
           {
            "bin_end": 396.29999999999995,
            "bin_start": 371.6,
            "count": 0
           },
           {
            "bin_end": 421,
            "bin_start": 396.29999999999995,
            "count": 1
           }
          ],
          "max": "421",
          "min": "174",
          "nan_count": 0,
          "unique_count": 40
         }
        },
        {
         "dtype": "int64",
         "name": "fbs",
         "stats": {
          "histogram": [
           {
            "bin_end": 0.1,
            "bin_start": 0,
            "count": 42
           },
           {
            "bin_end": 0.2,
            "bin_start": 0.1,
            "count": 0
           },
           {
            "bin_end": 0.30000000000000004,
            "bin_start": 0.2,
            "count": 0
           },
           {
            "bin_end": 0.4,
            "bin_start": 0.30000000000000004,
            "count": 0
           },
           {
            "bin_end": 0.5,
            "bin_start": 0.4,
            "count": 0
           },
           {
            "bin_end": 0.6000000000000001,
            "bin_start": 0.5,
            "count": 0
           },
           {
            "bin_end": 0.7000000000000001,
            "bin_start": 0.6000000000000001,
            "count": 0
           },
           {
            "bin_end": 0.8,
            "bin_start": 0.7000000000000001,
            "count": 0
           },
           {
            "bin_end": 0.9,
            "bin_start": 0.8,
            "count": 0
           },
           {
            "bin_end": 1,
            "bin_start": 0.9,
            "count": 8
           }
          ],
          "max": "1",
          "min": "0",
          "nan_count": 0,
          "unique_count": 2
         }
        },
        {
         "dtype": "int64",
         "name": "restecg",
         "stats": {
          "histogram": [
           {
            "bin_end": 0.2,
            "bin_start": 0,
            "count": 13
           },
           {
            "bin_end": 0.4,
            "bin_start": 0.2,
            "count": 0
           },
           {
            "bin_end": 0.6000000000000001,
            "bin_start": 0.4,
            "count": 0
           },
           {
            "bin_end": 0.8,
            "bin_start": 0.6000000000000001,
            "count": 0
           },
           {
            "bin_end": 1,
            "bin_start": 0.8,
            "count": 0
           },
           {
            "bin_end": 1.2000000000000002,
            "bin_start": 1,
            "count": 25
           },
           {
            "bin_end": 1.4000000000000001,
            "bin_start": 1.2000000000000002,
            "count": 0
           },
           {
            "bin_end": 1.6,
            "bin_start": 1.4000000000000001,
            "count": 0
           },
           {
            "bin_end": 1.8,
            "bin_start": 1.6,
            "count": 0
           },
           {
            "bin_end": 2,
            "bin_start": 1.8,
            "count": 12
           }
          ],
          "max": "2",
          "min": "0",
          "nan_count": 0,
          "unique_count": 3
         }
        },
        {
         "dtype": "int64",
         "name": "thalach",
         "stats": {
          "histogram": [
           {
            "bin_end": 110.5,
            "bin_start": 99,
            "count": 2
           },
           {
            "bin_end": 122,
            "bin_start": 110.5,
            "count": 2
           },
           {
            "bin_end": 133.5,
            "bin_start": 122,
            "count": 3
           },
           {
            "bin_end": 145,
            "bin_start": 133.5,
            "count": 4
           },
           {
            "bin_end": 156.5,
            "bin_start": 145,
            "count": 8
           },
           {
            "bin_end": 168,
            "bin_start": 156.5,
            "count": 12
           },
           {
            "bin_end": 179.5,
            "bin_start": 168,
            "count": 12
           },
           {
            "bin_end": 191,
            "bin_start": 179.5,
            "count": 4
           },
           {
            "bin_end": 202.5,
            "bin_start": 191,
            "count": 2
           },
           {
            "bin_end": 214,
            "bin_start": 202.5,
            "count": 1
           }
          ],
          "max": "214",
          "min": "99",
          "nan_count": 0,
          "unique_count": 36
         }
        },
        {
         "dtype": "int64",
         "name": "exang",
         "stats": {
          "histogram": [
           {
            "bin_end": 0.1,
            "bin_start": 0,
            "count": 35
           },
           {
            "bin_end": 0.2,
            "bin_start": 0.1,
            "count": 0
           },
           {
            "bin_end": 0.30000000000000004,
            "bin_start": 0.2,
            "count": 0
           },
           {
            "bin_end": 0.4,
            "bin_start": 0.30000000000000004,
            "count": 0
           },
           {
            "bin_end": 0.5,
            "bin_start": 0.4,
            "count": 0
           },
           {
            "bin_end": 0.6000000000000001,
            "bin_start": 0.5,
            "count": 0
           },
           {
            "bin_end": 0.7000000000000001,
            "bin_start": 0.6000000000000001,
            "count": 0
           },
           {
            "bin_end": 0.8,
            "bin_start": 0.7000000000000001,
            "count": 0
           },
           {
            "bin_end": 0.9,
            "bin_start": 0.8,
            "count": 0
           },
           {
            "bin_end": 1,
            "bin_start": 0.9,
            "count": 15
           }
          ],
          "max": "1",
          "min": "0",
          "nan_count": 0,
          "unique_count": 2
         }
        },
        {
         "dtype": "float64",
         "name": "oldpeak",
         "stats": {
          "histogram": [
           {
            "bin_end": 1.4,
            "bin_start": 1,
            "count": 18
           },
           {
            "bin_end": 1.8,
            "bin_start": 1.4,
            "count": 6
           },
           {
            "bin_end": 2.2,
            "bin_start": 1.8,
            "count": 5
           },
           {
            "bin_end": 2.6,
            "bin_start": 2.2,
            "count": 7
           },
           {
            "bin_end": 3,
            "bin_start": 2.6,
            "count": 4
           },
           {
            "bin_end": 3.4000000000000004,
            "bin_start": 3,
            "count": 3
           },
           {
            "bin_end": 3.8000000000000003,
            "bin_start": 3.4000000000000004,
            "count": 3
           },
           {
            "bin_end": 4.2,
            "bin_start": 3.8000000000000003,
            "count": 2
           },
           {
            "bin_end": 4.6,
            "bin_start": 4.2,
            "count": 0
           },
           {
            "bin_end": 5,
            "bin_start": 4.6,
            "count": 2
           }
          ],
          "max": "5.0",
          "min": "1.0",
          "nan_count": 0,
          "unique_count": 23
         }
        },
        {
         "dtype": "int64",
         "name": "slope",
         "stats": {
          "histogram": [
           {
            "bin_end": 1.2,
            "bin_start": 1,
            "count": 4
           },
           {
            "bin_end": 1.4,
            "bin_start": 1.2,
            "count": 0
           },
           {
            "bin_end": 1.6,
            "bin_start": 1.4,
            "count": 0
           },
           {
            "bin_end": 1.8,
            "bin_start": 1.6,
            "count": 0
           },
           {
            "bin_end": 2,
            "bin_start": 1.8,
            "count": 0
           },
           {
            "bin_end": 2.2,
            "bin_start": 2,
            "count": 26
           },
           {
            "bin_end": 2.4000000000000004,
            "bin_start": 2.2,
            "count": 0
           },
           {
            "bin_end": 2.6,
            "bin_start": 2.4000000000000004,
            "count": 0
           },
           {
            "bin_end": 2.8,
            "bin_start": 2.6,
            "count": 0
           },
           {
            "bin_end": 3,
            "bin_start": 2.8,
            "count": 20
           }
          ],
          "max": "3",
          "min": "1",
          "nan_count": 0,
          "unique_count": 3
         }
        },
        {
         "dtype": "int64",
         "name": "ca",
         "stats": {
          "histogram": [
           {
            "bin_end": 0.6,
            "bin_start": 0,
            "count": 5
           },
           {
            "bin_end": 1.2,
            "bin_start": 0.6,
            "count": 6
           },
           {
            "bin_end": 1.7999999999999998,
            "bin_start": 1.2,
            "count": 0
           },
           {
            "bin_end": 2.4,
            "bin_start": 1.7999999999999998,
            "count": 13
           },
           {
            "bin_end": 3,
            "bin_start": 2.4,
            "count": 0
           },
           {
            "bin_end": 3.5999999999999996,
            "bin_start": 3,
            "count": 12
           },
           {
            "bin_end": 4.2,
            "bin_start": 3.5999999999999996,
            "count": 9
           },
           {
            "bin_end": 4.8,
            "bin_start": 4.2,
            "count": 0
           },
           {
            "bin_end": 5.3999999999999995,
            "bin_start": 4.8,
            "count": 4
           },
           {
            "bin_end": 6,
            "bin_start": 5.3999999999999995,
            "count": 1
           }
          ],
          "max": "6",
          "min": "0",
          "nan_count": 0,
          "unique_count": 7
         }
        },
        {
         "dtype": "int64",
         "name": "thal",
         "stats": {
          "histogram": [
           {
            "bin_end": 2.3,
            "bin_start": 2,
            "count": 7
           },
           {
            "bin_end": 2.6,
            "bin_start": 2.3,
            "count": 0
           },
           {
            "bin_end": 2.9,
            "bin_start": 2.6,
            "count": 0
           },
           {
            "bin_end": 3.2,
            "bin_start": 2.9,
            "count": 20
           },
           {
            "bin_end": 3.5,
            "bin_start": 3.2,
            "count": 0
           },
           {
            "bin_end": 3.8,
            "bin_start": 3.5,
            "count": 0
           },
           {
            "bin_end": 4.1,
            "bin_start": 3.8,
            "count": 15
           },
           {
            "bin_end": 4.4,
            "bin_start": 4.1,
            "count": 0
           },
           {
            "bin_end": 4.699999999999999,
            "bin_start": 4.4,
            "count": 0
           },
           {
            "bin_end": 5,
            "bin_start": 4.699999999999999,
            "count": 8
           }
          ],
          "max": "5",
          "min": "2",
          "nan_count": 0,
          "unique_count": 4
         }
        },
        {
         "dtype": "int64",
         "name": "chol_fbs",
         "stats": {
          "histogram": [
           {
            "bin_end": 42.3,
            "bin_start": 1,
            "count": 16
           },
           {
            "bin_end": 83.6,
            "bin_start": 42.3,
            "count": 23
           },
           {
            "bin_end": 124.89999999999999,
            "bin_start": 83.6,
            "count": 3
           },
           {
            "bin_end": 166.2,
            "bin_start": 124.89999999999999,
            "count": 0
           },
           {
            "bin_end": 207.5,
            "bin_start": 166.2,
            "count": 1
           },
           {
            "bin_end": 248.79999999999998,
            "bin_start": 207.5,
            "count": 1
           },
           {
            "bin_end": 290.09999999999997,
            "bin_start": 248.79999999999998,
            "count": 4
           },
           {
            "bin_end": 331.4,
            "bin_start": 290.09999999999997,
            "count": 1
           },
           {
            "bin_end": 372.7,
            "bin_start": 331.4,
            "count": 0
           },
           {
            "bin_end": 414,
            "bin_start": 372.7,
            "count": 1
           }
          ],
          "max": "414",
          "min": "1",
          "nan_count": 0,
          "unique_count": 40
         }
        },
        {
         "dtype": "int64",
         "name": "_deepnote_index_column"
        }
       ],
       "row_count": 50,
       "rows_bottom": null,
       "rows_top": [
        {
         "_deepnote_index_column": 0,
         "age": 71,
         "ca": 3,
         "chol": 213,
         "chol_fbs": 44,
         "cp": 0,
         "exang": 1,
         "fbs": 0,
         "oldpeak": 3.7,
         "restecg": 2,
         "sex": 1,
         "slope": 1,
         "thal": 3,
         "thalach": 146,
         "trestbps": 154
        },
        {
         "_deepnote_index_column": 1,
         "age": 71,
         "ca": 1,
         "chol": 276,
         "chol_fbs": 58,
         "cp": 5,
         "exang": 0,
         "fbs": 0,
         "oldpeak": 1.7,
         "restecg": 1,
         "sex": 1,
         "slope": 2,
         "thal": 3,
         "thalach": 167,
         "trestbps": 176
        },
        {
         "_deepnote_index_column": 2,
         "age": 63,
         "ca": 3,
         "chol": 336,
         "chol_fbs": 36,
         "cp": 4,
         "exang": 0,
         "fbs": 0,
         "oldpeak": 1.3,
         "restecg": 1,
         "sex": 1,
         "slope": 2,
         "thal": 5,
         "thalach": 165,
         "trestbps": 187
        },
        {
         "_deepnote_index_column": 3,
         "age": 67,
         "ca": 4,
         "chol": 273,
         "chol_fbs": 78,
         "cp": 0,
         "exang": 1,
         "fbs": 0,
         "oldpeak": 3.8,
         "restecg": 1,
         "sex": 1,
         "slope": 2,
         "thal": 3,
         "thalach": 147,
         "trestbps": 129
        },
        {
         "_deepnote_index_column": 4,
         "age": 64,
         "ca": 5,
         "chol": 272,
         "chol_fbs": 56,
         "cp": 3,
         "exang": 0,
         "fbs": 0,
         "oldpeak": 2.9,
         "restecg": 2,
         "sex": 1,
         "slope": 2,
         "thal": 3,
         "thalach": 166,
         "trestbps": 142
        },
        {
         "_deepnote_index_column": 5,
         "age": 55,
         "ca": 0,
         "chol": 278,
         "chol_fbs": 33,
         "cp": 1,
         "exang": 0,
         "fbs": 0,
         "oldpeak": 1.6,
         "restecg": 1,
         "sex": 1,
         "slope": 2,
         "thal": 5,
         "thalach": 171,
         "trestbps": 135
        },
        {
         "_deepnote_index_column": 6,
         "age": 42,
         "ca": 2,
         "chol": 186,
         "chol_fbs": 45,
         "cp": 2,
         "exang": 1,
         "fbs": 0,
         "oldpeak": 3.1,
         "restecg": 0,
         "sex": 1,
         "slope": 2,
         "thal": 4,
         "thalach": 115,
         "trestbps": 123
        },
        {
         "_deepnote_index_column": 7,
         "age": 70,
         "ca": 4,
         "chol": 296,
         "chol_fbs": 56,
         "cp": 0,
         "exang": 0,
         "fbs": 0,
         "oldpeak": 2.5,
         "restecg": 0,
         "sex": 1,
         "slope": 2,
         "thal": 3,
         "thalach": 166,
         "trestbps": 144
        },
        {
         "_deepnote_index_column": 8,
         "age": 64,
         "ca": 3,
         "chol": 329,
         "chol_fbs": 316,
         "cp": 0,
         "exang": 1,
         "fbs": 1,
         "oldpeak": 5,
         "restecg": 0,
         "sex": 0,
         "slope": 1,
         "thal": 3,
         "thalach": 140,
         "trestbps": 210
        },
        {
         "_deepnote_index_column": 9,
         "age": 68,
         "ca": 6,
         "chol": 332,
         "chol_fbs": 414,
         "cp": 1,
         "exang": 1,
         "fbs": 1,
         "oldpeak": 2.9,
         "restecg": 1,
         "sex": 1,
         "slope": 3,
         "thal": 4,
         "thalach": 152,
         "trestbps": 141
        },
        {
         "_deepnote_index_column": 10,
         "age": 60,
         "ca": 3,
         "chol": 174,
         "chol_fbs": 201,
         "cp": 3,
         "exang": 0,
         "fbs": 1,
         "oldpeak": 1.3,
         "restecg": 1,
         "sex": 1,
         "slope": 3,
         "thal": 5,
         "thalach": 187,
         "trestbps": 160
        },
        {
         "_deepnote_index_column": 11,
         "age": 54,
         "ca": 1,
         "chol": 293,
         "chol_fbs": 10,
         "cp": 2,
         "exang": 0,
         "fbs": 0,
         "oldpeak": 1.1,
         "restecg": 1,
         "sex": 0,
         "slope": 3,
         "thal": 2,
         "thalach": 178,
         "trestbps": 138
        },
        {
         "_deepnote_index_column": 12,
         "age": 72,
         "ca": 1,
         "chol": 264,
         "chol_fbs": 33,
         "cp": 2,
         "exang": 0,
         "fbs": 0,
         "oldpeak": 3.8,
         "restecg": 0,
         "sex": 1,
         "slope": 2,
         "thal": 3,
         "thalach": 141,
         "trestbps": 141
        },
        {
         "_deepnote_index_column": 13,
         "age": 53,
         "ca": 3,
         "chol": 293,
         "chol_fbs": 52,
         "cp": 1,
         "exang": 0,
         "fbs": 0,
         "oldpeak": 1.7,
         "restecg": 1,
         "sex": 1,
         "slope": 3,
         "thal": 3,
         "thalach": 187,
         "trestbps": 137
        },
        {
         "_deepnote_index_column": 14,
         "age": 58,
         "ca": 2,
         "chol": 241,
         "chol_fbs": 86,
         "cp": 4,
         "exang": 0,
         "fbs": 0,
         "oldpeak": 2.6,
         "restecg": 2,
         "sex": 0,
         "slope": 2,
         "thal": 4,
         "thalach": 180,
         "trestbps": 124
        },
        {
         "_deepnote_index_column": 15,
         "age": 53,
         "ca": 2,
         "chol": 246,
         "chol_fbs": 24,
         "cp": 3,
         "exang": 1,
         "fbs": 0,
         "oldpeak": 2.2,
         "restecg": 2,
         "sex": 1,
         "slope": 2,
         "thal": 4,
         "thalach": 147,
         "trestbps": 105
        },
        {
         "_deepnote_index_column": 16,
         "age": 60,
         "ca": 4,
         "chol": 273,
         "chol_fbs": 275,
         "cp": 0,
         "exang": 0,
         "fbs": 1,
         "oldpeak": 1.1,
         "restecg": 2,
         "sex": 1,
         "slope": 3,
         "thal": 3,
         "thalach": 150,
         "trestbps": 110
        },
        {
         "_deepnote_index_column": 17,
         "age": 56,
         "ca": 5,
         "chol": 269,
         "chol_fbs": 280,
         "cp": 2,
         "exang": 0,
         "fbs": 1,
         "oldpeak": 1,
         "restecg": 1,
         "sex": 1,
         "slope": 3,
         "thal": 4,
         "thalach": 176,
         "trestbps": 127
        },
        {
         "_deepnote_index_column": 18,
         "age": 65,
         "ca": 2,
         "chol": 298,
         "chol_fbs": 19,
         "cp": 0,
         "exang": 1,
         "fbs": 0,
         "oldpeak": 2.8,
         "restecg": 1,
         "sex": 1,
         "slope": 2,
         "thal": 4,
         "thalach": 109,
         "trestbps": 121
        },
        {
         "_deepnote_index_column": 19,
         "age": 49,
         "ca": 3,
         "chol": 255,
         "chol_fbs": 281,
         "cp": 2,
         "exang": 0,
         "fbs": 1,
         "oldpeak": 1.9,
         "restecg": 2,
         "sex": 1,
         "slope": 1,
         "thal": 5,
         "thalach": 214,
         "trestbps": 124
        },
        {
         "_deepnote_index_column": 20,
         "age": 46,
         "ca": 3,
         "chol": 266,
         "chol_fbs": 72,
         "cp": 0,
         "exang": 0,
         "fbs": 0,
         "oldpeak": 1.1,
         "restecg": 1,
         "sex": 1,
         "slope": 3,
         "thal": 4,
         "thalach": 195,
         "trestbps": 144
        },
        {
         "_deepnote_index_column": 21,
         "age": 48,
         "ca": 2,
         "chol": 269,
         "chol_fbs": 34,
         "cp": 2,
         "exang": 0,
         "fbs": 0,
         "oldpeak": 2.3,
         "restecg": 2,
         "sex": 1,
         "slope": 2,
         "thal": 4,
         "thalach": 149,
         "trestbps": 128
        },
        {
         "_deepnote_index_column": 22,
         "age": 70,
         "ca": 2,
         "chol": 318,
         "chol_fbs": 39,
         "cp": 1,
         "exang": 0,
         "fbs": 0,
         "oldpeak": 2.5,
         "restecg": 0,
         "sex": 1,
         "slope": 2,
         "thal": 5,
         "thalach": 120,
         "trestbps": 125
        },
        {
         "_deepnote_index_column": 23,
         "age": 57,
         "ca": 2,
         "chol": 242,
         "chol_fbs": 83,
         "cp": 2,
         "exang": 1,
         "fbs": 0,
         "oldpeak": 1.1,
         "restecg": 0,
         "sex": 1,
         "slope": 2,
         "thal": 3,
         "thalach": 126,
         "trestbps": 123
        },
        {
         "_deepnote_index_column": 24,
         "age": 43,
         "ca": 2,
         "chol": 272,
         "chol_fbs": 87,
         "cp": 3,
         "exang": 0,
         "fbs": 0,
         "oldpeak": 1.1,
         "restecg": 1,
         "sex": 1,
         "slope": 3,
         "thal": 2,
         "thalach": 158,
         "trestbps": 111
        },
        {
         "_deepnote_index_column": 25,
         "age": 63,
         "ca": 2,
         "chol": 306,
         "chol_fbs": 61,
         "cp": 3,
         "exang": 0,
         "fbs": 0,
         "oldpeak": 2.2,
         "restecg": 1,
         "sex": 0,
         "slope": 2,
         "thal": 5,
         "thalach": 99,
         "trestbps": 141
        },
        {
         "_deepnote_index_column": 26,
         "age": 59,
         "ca": 4,
         "chol": 224,
         "chol_fbs": 8,
         "cp": 0,
         "exang": 0,
         "fbs": 0,
         "oldpeak": 2,
         "restecg": 1,
         "sex": 1,
         "slope": 3,
         "thal": 4,
         "thalach": 175,
         "trestbps": 133
        },
        {
         "_deepnote_index_column": 27,
         "age": 48,
         "ca": 0,
         "chol": 296,
         "chol_fbs": 65,
         "cp": 2,
         "exang": 0,
         "fbs": 0,
         "oldpeak": 2,
         "restecg": 0,
         "sex": 1,
         "slope": 3,
         "thal": 5,
         "thalach": 162,
         "trestbps": 123
        },
        {
         "_deepnote_index_column": 28,
         "age": 41,
         "ca": 0,
         "chol": 259,
         "chol_fbs": 79,
         "cp": 2,
         "exang": 0,
         "fbs": 0,
         "oldpeak": 1.1,
         "restecg": 2,
         "sex": 0,
         "slope": 2,
         "thal": 3,
         "thalach": 162,
         "trestbps": 150
        },
        {
         "_deepnote_index_column": 29,
         "age": 58,
         "ca": 2,
         "chol": 227,
         "chol_fbs": 86,
         "cp": 1,
         "exang": 0,
         "fbs": 0,
         "oldpeak": 1.9,
         "restecg": 1,
         "sex": 1,
         "slope": 3,
         "thal": 2,
         "thalach": 169,
         "trestbps": 137
        },
        {
         "_deepnote_index_column": 30,
         "age": 64,
         "ca": 3,
         "chol": 229,
         "chol_fbs": 58,
         "cp": 3,
         "exang": 0,
         "fbs": 0,
         "oldpeak": 4.1,
         "restecg": 0,
         "sex": 1,
         "slope": 2,
         "thal": 3,
         "thalach": 167,
         "trestbps": 141
        },
        {
         "_deepnote_index_column": 31,
         "age": 49,
         "ca": 5,
         "chol": 338,
         "chol_fbs": 12,
         "cp": 0,
         "exang": 1,
         "fbs": 0,
         "oldpeak": 1.1,
         "restecg": 0,
         "sex": 1,
         "slope": 2,
         "thal": 3,
         "thalach": 160,
         "trestbps": 146
        },
        {
         "_deepnote_index_column": 32,
         "age": 44,
         "ca": 3,
         "chol": 333,
         "chol_fbs": 51,
         "cp": 1,
         "exang": 0,
         "fbs": 0,
         "oldpeak": 1,
         "restecg": 2,
         "sex": 0,
         "slope": 3,
         "thal": 3,
         "thalach": 179,
         "trestbps": 143
        },
        {
         "_deepnote_index_column": 33,
         "age": 59,
         "ca": 2,
         "chol": 237,
         "chol_fbs": 230,
         "cp": 4,
         "exang": 0,
         "fbs": 1,
         "oldpeak": 1.5,
         "restecg": 2,
         "sex": 1,
         "slope": 3,
         "thal": 3,
         "thalach": 164,
         "trestbps": 180
        },
        {
         "_deepnote_index_column": 34,
         "age": 43,
         "ca": 3,
         "chol": 213,
         "chol_fbs": 28,
         "cp": 2,
         "exang": 0,
         "fbs": 0,
         "oldpeak": 1,
         "restecg": 1,
         "sex": 1,
         "slope": 3,
         "thal": 3,
         "thalach": 195,
         "trestbps": 133
        },
        {
         "_deepnote_index_column": 35,
         "age": 64,
         "ca": 0,
         "chol": 279,
         "chol_fbs": 28,
         "cp": 0,
         "exang": 1,
         "fbs": 0,
         "oldpeak": 1,
         "restecg": 1,
         "sex": 0,
         "slope": 2,
         "thal": 2,
         "thalach": 160,
         "trestbps": 178
        },
        {
         "_deepnote_index_column": 36,
         "age": 71,
         "ca": 4,
         "chol": 293,
         "chol_fbs": 75,
         "cp": 4,
         "exang": 1,
         "fbs": 0,
         "oldpeak": 4.1,
         "restecg": 2,
         "sex": 1,
         "slope": 2,
         "thal": 4,
         "thalach": 134,
         "trestbps": 161
        },
        {
         "_deepnote_index_column": 37,
         "age": 51,
         "ca": 0,
         "chol": 322,
         "chol_fbs": 44,
         "cp": 2,
         "exang": 0,
         "fbs": 0,
         "oldpeak": 1.2,
         "restecg": 0,
         "sex": 1,
         "slope": 3,
         "thal": 4,
         "thalach": 180,
         "trestbps": 143
        },
        {
         "_deepnote_index_column": 38,
         "age": 62,
         "ca": 4,
         "chol": 272,
         "chol_fbs": 254,
         "cp": 1,
         "exang": 1,
         "fbs": 1,
         "oldpeak": 2.3,
         "restecg": 0,
         "sex": 1,
         "slope": 2,
         "thal": 4,
         "thalach": 155,
         "trestbps": 132
        },
        {
         "_deepnote_index_column": 39,
         "age": 68,
         "ca": 4,
         "chol": 274,
         "chol_fbs": 71,
         "cp": 2,
         "exang": 0,
         "fbs": 0,
         "oldpeak": 4.7,
         "restecg": 1,
         "sex": 0,
         "slope": 1,
         "thal": 3,
         "thalach": 174,
         "trestbps": 153
        },
        {
         "_deepnote_index_column": 40,
         "age": 58,
         "ca": 3,
         "chol": 211,
         "chol_fbs": 76,
         "cp": 0,
         "exang": 0,
         "fbs": 0,
         "oldpeak": 1.5,
         "restecg": 1,
         "sex": 1,
         "slope": 2,
         "thal": 3,
         "thalach": 156,
         "trestbps": 146
        },
        {
         "_deepnote_index_column": 41,
         "age": 61,
         "ca": 4,
         "chol": 339,
         "chol_fbs": 37,
         "cp": 0,
         "exang": 0,
         "fbs": 0,
         "oldpeak": 1.1,
         "restecg": 0,
         "sex": 0,
         "slope": 3,
         "thal": 4,
         "thalach": 175,
         "trestbps": 130
        },
        {
         "_deepnote_index_column": 42,
         "age": 53,
         "ca": 5,
         "chol": 254,
         "chol_fbs": 64,
         "cp": 2,
         "exang": 0,
         "fbs": 0,
         "oldpeak": 1.1,
         "restecg": 2,
         "sex": 1,
         "slope": 3,
         "thal": 2,
         "thalach": 174,
         "trestbps": 149
        },
        {
         "_deepnote_index_column": 43,
         "age": 48,
         "ca": 1,
         "chol": 301,
         "chol_fbs": 1,
         "cp": 1,
         "exang": 1,
         "fbs": 0,
         "oldpeak": 2.1,
         "restecg": 1,
         "sex": 1,
         "slope": 2,
         "thal": 4,
         "thalach": 126,
         "trestbps": 113
        },
        {
         "_deepnote_index_column": 44,
         "age": 56,
         "ca": 2,
         "chol": 231,
         "chol_fbs": 66,
         "cp": 3,
         "exang": 1,
         "fbs": 0,
         "oldpeak": 2.5,
         "restecg": 1,
         "sex": 1,
         "slope": 3,
         "thal": 3,
         "thalach": 130,
         "trestbps": 126
        },
        {
         "_deepnote_index_column": 45,
         "age": 75,
         "ca": 1,
         "chol": 278,
         "chol_fbs": 56,
         "cp": 1,
         "exang": 0,
         "fbs": 0,
         "oldpeak": 1,
         "restecg": 1,
         "sex": 1,
         "slope": 3,
         "thal": 2,
         "thalach": 144,
         "trestbps": 167
        },
        {
         "_deepnote_index_column": 46,
         "age": 43,
         "ca": 2,
         "chol": 265,
         "chol_fbs": 55,
         "cp": 3,
         "exang": 0,
         "fbs": 0,
         "oldpeak": 3.1,
         "restecg": 0,
         "sex": 1,
         "slope": 2,
         "thal": 2,
         "thalach": 178,
         "trestbps": 134
        },
        {
         "_deepnote_index_column": 47,
         "age": 53,
         "ca": 3,
         "chol": 242,
         "chol_fbs": 33,
         "cp": 4,
         "exang": 0,
         "fbs": 0,
         "oldpeak": 1.6,
         "restecg": 1,
         "sex": 1,
         "slope": 2,
         "thal": 4,
         "thalach": 172,
         "trestbps": 155
        },
        {
         "_deepnote_index_column": 48,
         "age": 59,
         "ca": 4,
         "chol": 421,
         "chol_fbs": 75,
         "cp": 2,
         "exang": 1,
         "fbs": 0,
         "oldpeak": 3,
         "restecg": 1,
         "sex": 0,
         "slope": 2,
         "thal": 3,
         "thalach": 160,
         "trestbps": 135
        },
        {
         "_deepnote_index_column": 49,
         "age": 45,
         "ca": 1,
         "chol": 312,
         "chol_fbs": 12,
         "cp": 2,
         "exang": 0,
         "fbs": 0,
         "oldpeak": 1.1,
         "restecg": 1,
         "sex": 1,
         "slope": 3,
         "thal": 5,
         "thalach": 174,
         "trestbps": 125
        }
       ]
      },
      "text/html": [
       "<div>\n",
       "<style scoped>\n",
       "    .dataframe tbody tr th:only-of-type {\n",
       "        vertical-align: middle;\n",
       "    }\n",
       "\n",
       "    .dataframe tbody tr th {\n",
       "        vertical-align: top;\n",
       "    }\n",
       "\n",
       "    .dataframe thead th {\n",
       "        text-align: right;\n",
       "    }\n",
       "</style>\n",
       "<table border=\"1\" class=\"dataframe\">\n",
       "  <thead>\n",
       "    <tr style=\"text-align: right;\">\n",
       "      <th></th>\n",
       "      <th>age</th>\n",
       "      <th>sex</th>\n",
       "      <th>cp</th>\n",
       "      <th>trestbps</th>\n",
       "      <th>chol</th>\n",
       "      <th>fbs</th>\n",
       "      <th>restecg</th>\n",
       "      <th>thalach</th>\n",
       "      <th>exang</th>\n",
       "      <th>oldpeak</th>\n",
       "      <th>slope</th>\n",
       "      <th>ca</th>\n",
       "      <th>thal</th>\n",
       "      <th>chol_fbs</th>\n",
       "    </tr>\n",
       "  </thead>\n",
       "  <tbody>\n",
       "    <tr>\n",
       "      <th>0</th>\n",
       "      <td>71</td>\n",
       "      <td>1</td>\n",
       "      <td>0</td>\n",
       "      <td>154</td>\n",
       "      <td>213</td>\n",
       "      <td>0</td>\n",
       "      <td>2</td>\n",
       "      <td>146</td>\n",
       "      <td>1</td>\n",
       "      <td>3.7</td>\n",
       "      <td>1</td>\n",
       "      <td>3</td>\n",
       "      <td>3</td>\n",
       "      <td>44</td>\n",
       "    </tr>\n",
       "    <tr>\n",
       "      <th>1</th>\n",
       "      <td>71</td>\n",
       "      <td>1</td>\n",
       "      <td>5</td>\n",
       "      <td>176</td>\n",
       "      <td>276</td>\n",
       "      <td>0</td>\n",
       "      <td>1</td>\n",
       "      <td>167</td>\n",
       "      <td>0</td>\n",
       "      <td>1.7</td>\n",
       "      <td>2</td>\n",
       "      <td>1</td>\n",
       "      <td>3</td>\n",
       "      <td>58</td>\n",
       "    </tr>\n",
       "    <tr>\n",
       "      <th>2</th>\n",
       "      <td>63</td>\n",
       "      <td>1</td>\n",
       "      <td>4</td>\n",
       "      <td>187</td>\n",
       "      <td>336</td>\n",
       "      <td>0</td>\n",
       "      <td>1</td>\n",
       "      <td>165</td>\n",
       "      <td>0</td>\n",
       "      <td>1.3</td>\n",
       "      <td>2</td>\n",
       "      <td>3</td>\n",
       "      <td>5</td>\n",
       "      <td>36</td>\n",
       "    </tr>\n",
       "    <tr>\n",
       "      <th>3</th>\n",
       "      <td>67</td>\n",
       "      <td>1</td>\n",
       "      <td>0</td>\n",
       "      <td>129</td>\n",
       "      <td>273</td>\n",
       "      <td>0</td>\n",
       "      <td>1</td>\n",
       "      <td>147</td>\n",
       "      <td>1</td>\n",
       "      <td>3.8</td>\n",
       "      <td>2</td>\n",
       "      <td>4</td>\n",
       "      <td>3</td>\n",
       "      <td>78</td>\n",
       "    </tr>\n",
       "    <tr>\n",
       "      <th>4</th>\n",
       "      <td>64</td>\n",
       "      <td>1</td>\n",
       "      <td>3</td>\n",
       "      <td>142</td>\n",
       "      <td>272</td>\n",
       "      <td>0</td>\n",
       "      <td>2</td>\n",
       "      <td>166</td>\n",
       "      <td>0</td>\n",
       "      <td>2.9</td>\n",
       "      <td>2</td>\n",
       "      <td>5</td>\n",
       "      <td>3</td>\n",
       "      <td>56</td>\n",
       "    </tr>\n",
       "    <tr>\n",
       "      <th>5</th>\n",
       "      <td>55</td>\n",
       "      <td>1</td>\n",
       "      <td>1</td>\n",
       "      <td>135</td>\n",
       "      <td>278</td>\n",
       "      <td>0</td>\n",
       "      <td>1</td>\n",
       "      <td>171</td>\n",
       "      <td>0</td>\n",
       "      <td>1.6</td>\n",
       "      <td>2</td>\n",
       "      <td>0</td>\n",
       "      <td>5</td>\n",
       "      <td>33</td>\n",
       "    </tr>\n",
       "    <tr>\n",
       "      <th>6</th>\n",
       "      <td>42</td>\n",
       "      <td>1</td>\n",
       "      <td>2</td>\n",
       "      <td>123</td>\n",
       "      <td>186</td>\n",
       "      <td>0</td>\n",
       "      <td>0</td>\n",
       "      <td>115</td>\n",
       "      <td>1</td>\n",
       "      <td>3.1</td>\n",
       "      <td>2</td>\n",
       "      <td>2</td>\n",
       "      <td>4</td>\n",
       "      <td>45</td>\n",
       "    </tr>\n",
       "    <tr>\n",
       "      <th>7</th>\n",
       "      <td>70</td>\n",
       "      <td>1</td>\n",
       "      <td>0</td>\n",
       "      <td>144</td>\n",
       "      <td>296</td>\n",
       "      <td>0</td>\n",
       "      <td>0</td>\n",
       "      <td>166</td>\n",
       "      <td>0</td>\n",
       "      <td>2.5</td>\n",
       "      <td>2</td>\n",
       "      <td>4</td>\n",
       "      <td>3</td>\n",
       "      <td>56</td>\n",
       "    </tr>\n",
       "    <tr>\n",
       "      <th>8</th>\n",
       "      <td>64</td>\n",
       "      <td>0</td>\n",
       "      <td>0</td>\n",
       "      <td>210</td>\n",
       "      <td>329</td>\n",
       "      <td>1</td>\n",
       "      <td>0</td>\n",
       "      <td>140</td>\n",
       "      <td>1</td>\n",
       "      <td>5.0</td>\n",
       "      <td>1</td>\n",
       "      <td>3</td>\n",
       "      <td>3</td>\n",
       "      <td>316</td>\n",
       "    </tr>\n",
       "    <tr>\n",
       "      <th>9</th>\n",
       "      <td>68</td>\n",
       "      <td>1</td>\n",
       "      <td>1</td>\n",
       "      <td>141</td>\n",
       "      <td>332</td>\n",
       "      <td>1</td>\n",
       "      <td>1</td>\n",
       "      <td>152</td>\n",
       "      <td>1</td>\n",
       "      <td>2.9</td>\n",
       "      <td>3</td>\n",
       "      <td>6</td>\n",
       "      <td>4</td>\n",
       "      <td>414</td>\n",
       "    </tr>\n",
       "    <tr>\n",
       "      <th>10</th>\n",
       "      <td>60</td>\n",
       "      <td>1</td>\n",
       "      <td>3</td>\n",
       "      <td>160</td>\n",
       "      <td>174</td>\n",
       "      <td>1</td>\n",
       "      <td>1</td>\n",
       "      <td>187</td>\n",
       "      <td>0</td>\n",
       "      <td>1.3</td>\n",
       "      <td>3</td>\n",
       "      <td>3</td>\n",
       "      <td>5</td>\n",
       "      <td>201</td>\n",
       "    </tr>\n",
       "    <tr>\n",
       "      <th>11</th>\n",
       "      <td>54</td>\n",
       "      <td>0</td>\n",
       "      <td>2</td>\n",
       "      <td>138</td>\n",
       "      <td>293</td>\n",
       "      <td>0</td>\n",
       "      <td>1</td>\n",
       "      <td>178</td>\n",
       "      <td>0</td>\n",
       "      <td>1.1</td>\n",
       "      <td>3</td>\n",
       "      <td>1</td>\n",
       "      <td>2</td>\n",
       "      <td>10</td>\n",
       "    </tr>\n",
       "    <tr>\n",
       "      <th>12</th>\n",
       "      <td>72</td>\n",
       "      <td>1</td>\n",
       "      <td>2</td>\n",
       "      <td>141</td>\n",
       "      <td>264</td>\n",
       "      <td>0</td>\n",
       "      <td>0</td>\n",
       "      <td>141</td>\n",
       "      <td>0</td>\n",
       "      <td>3.8</td>\n",
       "      <td>2</td>\n",
       "      <td>1</td>\n",
       "      <td>3</td>\n",
       "      <td>33</td>\n",
       "    </tr>\n",
       "    <tr>\n",
       "      <th>13</th>\n",
       "      <td>53</td>\n",
       "      <td>1</td>\n",
       "      <td>1</td>\n",
       "      <td>137</td>\n",
       "      <td>293</td>\n",
       "      <td>0</td>\n",
       "      <td>1</td>\n",
       "      <td>187</td>\n",
       "      <td>0</td>\n",
       "      <td>1.7</td>\n",
       "      <td>3</td>\n",
       "      <td>3</td>\n",
       "      <td>3</td>\n",
       "      <td>52</td>\n",
       "    </tr>\n",
       "    <tr>\n",
       "      <th>14</th>\n",
       "      <td>58</td>\n",
       "      <td>0</td>\n",
       "      <td>4</td>\n",
       "      <td>124</td>\n",
       "      <td>241</td>\n",
       "      <td>0</td>\n",
       "      <td>2</td>\n",
       "      <td>180</td>\n",
       "      <td>0</td>\n",
       "      <td>2.6</td>\n",
       "      <td>2</td>\n",
       "      <td>2</td>\n",
       "      <td>4</td>\n",
       "      <td>86</td>\n",
       "    </tr>\n",
       "    <tr>\n",
       "      <th>15</th>\n",
       "      <td>53</td>\n",
       "      <td>1</td>\n",
       "      <td>3</td>\n",
       "      <td>105</td>\n",
       "      <td>246</td>\n",
       "      <td>0</td>\n",
       "      <td>2</td>\n",
       "      <td>147</td>\n",
       "      <td>1</td>\n",
       "      <td>2.2</td>\n",
       "      <td>2</td>\n",
       "      <td>2</td>\n",
       "      <td>4</td>\n",
       "      <td>24</td>\n",
       "    </tr>\n",
       "    <tr>\n",
       "      <th>16</th>\n",
       "      <td>60</td>\n",
       "      <td>1</td>\n",
       "      <td>0</td>\n",
       "      <td>110</td>\n",
       "      <td>273</td>\n",
       "      <td>1</td>\n",
       "      <td>2</td>\n",
       "      <td>150</td>\n",
       "      <td>0</td>\n",
       "      <td>1.1</td>\n",
       "      <td>3</td>\n",
       "      <td>4</td>\n",
       "      <td>3</td>\n",
       "      <td>275</td>\n",
       "    </tr>\n",
       "    <tr>\n",
       "      <th>17</th>\n",
       "      <td>56</td>\n",
       "      <td>1</td>\n",
       "      <td>2</td>\n",
       "      <td>127</td>\n",
       "      <td>269</td>\n",
       "      <td>1</td>\n",
       "      <td>1</td>\n",
       "      <td>176</td>\n",
       "      <td>0</td>\n",
       "      <td>1.0</td>\n",
       "      <td>3</td>\n",
       "      <td>5</td>\n",
       "      <td>4</td>\n",
       "      <td>280</td>\n",
       "    </tr>\n",
       "    <tr>\n",
       "      <th>18</th>\n",
       "      <td>65</td>\n",
       "      <td>1</td>\n",
       "      <td>0</td>\n",
       "      <td>121</td>\n",
       "      <td>298</td>\n",
       "      <td>0</td>\n",
       "      <td>1</td>\n",
       "      <td>109</td>\n",
       "      <td>1</td>\n",
       "      <td>2.8</td>\n",
       "      <td>2</td>\n",
       "      <td>2</td>\n",
       "      <td>4</td>\n",
       "      <td>19</td>\n",
       "    </tr>\n",
       "    <tr>\n",
       "      <th>19</th>\n",
       "      <td>49</td>\n",
       "      <td>1</td>\n",
       "      <td>2</td>\n",
       "      <td>124</td>\n",
       "      <td>255</td>\n",
       "      <td>1</td>\n",
       "      <td>2</td>\n",
       "      <td>214</td>\n",
       "      <td>0</td>\n",
       "      <td>1.9</td>\n",
       "      <td>1</td>\n",
       "      <td>3</td>\n",
       "      <td>5</td>\n",
       "      <td>281</td>\n",
       "    </tr>\n",
       "    <tr>\n",
       "      <th>20</th>\n",
       "      <td>46</td>\n",
       "      <td>1</td>\n",
       "      <td>0</td>\n",
       "      <td>144</td>\n",
       "      <td>266</td>\n",
       "      <td>0</td>\n",
       "      <td>1</td>\n",
       "      <td>195</td>\n",
       "      <td>0</td>\n",
       "      <td>1.1</td>\n",
       "      <td>3</td>\n",
       "      <td>3</td>\n",
       "      <td>4</td>\n",
       "      <td>72</td>\n",
       "    </tr>\n",
       "    <tr>\n",
       "      <th>21</th>\n",
       "      <td>48</td>\n",
       "      <td>1</td>\n",
       "      <td>2</td>\n",
       "      <td>128</td>\n",
       "      <td>269</td>\n",
       "      <td>0</td>\n",
       "      <td>2</td>\n",
       "      <td>149</td>\n",
       "      <td>0</td>\n",
       "      <td>2.3</td>\n",
       "      <td>2</td>\n",
       "      <td>2</td>\n",
       "      <td>4</td>\n",
       "      <td>34</td>\n",
       "    </tr>\n",
       "    <tr>\n",
       "      <th>22</th>\n",
       "      <td>70</td>\n",
       "      <td>1</td>\n",
       "      <td>1</td>\n",
       "      <td>125</td>\n",
       "      <td>318</td>\n",
       "      <td>0</td>\n",
       "      <td>0</td>\n",
       "      <td>120</td>\n",
       "      <td>0</td>\n",
       "      <td>2.5</td>\n",
       "      <td>2</td>\n",
       "      <td>2</td>\n",
       "      <td>5</td>\n",
       "      <td>39</td>\n",
       "    </tr>\n",
       "    <tr>\n",
       "      <th>23</th>\n",
       "      <td>57</td>\n",
       "      <td>1</td>\n",
       "      <td>2</td>\n",
       "      <td>123</td>\n",
       "      <td>242</td>\n",
       "      <td>0</td>\n",
       "      <td>0</td>\n",
       "      <td>126</td>\n",
       "      <td>1</td>\n",
       "      <td>1.1</td>\n",
       "      <td>2</td>\n",
       "      <td>2</td>\n",
       "      <td>3</td>\n",
       "      <td>83</td>\n",
       "    </tr>\n",
       "    <tr>\n",
       "      <th>24</th>\n",
       "      <td>43</td>\n",
       "      <td>1</td>\n",
       "      <td>3</td>\n",
       "      <td>111</td>\n",
       "      <td>272</td>\n",
       "      <td>0</td>\n",
       "      <td>1</td>\n",
       "      <td>158</td>\n",
       "      <td>0</td>\n",
       "      <td>1.1</td>\n",
       "      <td>3</td>\n",
       "      <td>2</td>\n",
       "      <td>2</td>\n",
       "      <td>87</td>\n",
       "    </tr>\n",
       "    <tr>\n",
       "      <th>25</th>\n",
       "      <td>63</td>\n",
       "      <td>0</td>\n",
       "      <td>3</td>\n",
       "      <td>141</td>\n",
       "      <td>306</td>\n",
       "      <td>0</td>\n",
       "      <td>1</td>\n",
       "      <td>99</td>\n",
       "      <td>0</td>\n",
       "      <td>2.2</td>\n",
       "      <td>2</td>\n",
       "      <td>2</td>\n",
       "      <td>5</td>\n",
       "      <td>61</td>\n",
       "    </tr>\n",
       "    <tr>\n",
       "      <th>26</th>\n",
       "      <td>59</td>\n",
       "      <td>1</td>\n",
       "      <td>0</td>\n",
       "      <td>133</td>\n",
       "      <td>224</td>\n",
       "      <td>0</td>\n",
       "      <td>1</td>\n",
       "      <td>175</td>\n",
       "      <td>0</td>\n",
       "      <td>2.0</td>\n",
       "      <td>3</td>\n",
       "      <td>4</td>\n",
       "      <td>4</td>\n",
       "      <td>8</td>\n",
       "    </tr>\n",
       "    <tr>\n",
       "      <th>27</th>\n",
       "      <td>48</td>\n",
       "      <td>1</td>\n",
       "      <td>2</td>\n",
       "      <td>123</td>\n",
       "      <td>296</td>\n",
       "      <td>0</td>\n",
       "      <td>0</td>\n",
       "      <td>162</td>\n",
       "      <td>0</td>\n",
       "      <td>2.0</td>\n",
       "      <td>3</td>\n",
       "      <td>0</td>\n",
       "      <td>5</td>\n",
       "      <td>65</td>\n",
       "    </tr>\n",
       "    <tr>\n",
       "      <th>28</th>\n",
       "      <td>41</td>\n",
       "      <td>0</td>\n",
       "      <td>2</td>\n",
       "      <td>150</td>\n",
       "      <td>259</td>\n",
       "      <td>0</td>\n",
       "      <td>2</td>\n",
       "      <td>162</td>\n",
       "      <td>0</td>\n",
       "      <td>1.1</td>\n",
       "      <td>2</td>\n",
       "      <td>0</td>\n",
       "      <td>3</td>\n",
       "      <td>79</td>\n",
       "    </tr>\n",
       "    <tr>\n",
       "      <th>29</th>\n",
       "      <td>58</td>\n",
       "      <td>1</td>\n",
       "      <td>1</td>\n",
       "      <td>137</td>\n",
       "      <td>227</td>\n",
       "      <td>0</td>\n",
       "      <td>1</td>\n",
       "      <td>169</td>\n",
       "      <td>0</td>\n",
       "      <td>1.9</td>\n",
       "      <td>3</td>\n",
       "      <td>2</td>\n",
       "      <td>2</td>\n",
       "      <td>86</td>\n",
       "    </tr>\n",
       "    <tr>\n",
       "      <th>30</th>\n",
       "      <td>64</td>\n",
       "      <td>1</td>\n",
       "      <td>3</td>\n",
       "      <td>141</td>\n",
       "      <td>229</td>\n",
       "      <td>0</td>\n",
       "      <td>0</td>\n",
       "      <td>167</td>\n",
       "      <td>0</td>\n",
       "      <td>4.1</td>\n",
       "      <td>2</td>\n",
       "      <td>3</td>\n",
       "      <td>3</td>\n",
       "      <td>58</td>\n",
       "    </tr>\n",
       "    <tr>\n",
       "      <th>31</th>\n",
       "      <td>49</td>\n",
       "      <td>1</td>\n",
       "      <td>0</td>\n",
       "      <td>146</td>\n",
       "      <td>338</td>\n",
       "      <td>0</td>\n",
       "      <td>0</td>\n",
       "      <td>160</td>\n",
       "      <td>1</td>\n",
       "      <td>1.1</td>\n",
       "      <td>2</td>\n",
       "      <td>5</td>\n",
       "      <td>3</td>\n",
       "      <td>12</td>\n",
       "    </tr>\n",
       "    <tr>\n",
       "      <th>32</th>\n",
       "      <td>44</td>\n",
       "      <td>0</td>\n",
       "      <td>1</td>\n",
       "      <td>143</td>\n",
       "      <td>333</td>\n",
       "      <td>0</td>\n",
       "      <td>2</td>\n",
       "      <td>179</td>\n",
       "      <td>0</td>\n",
       "      <td>1.0</td>\n",
       "      <td>3</td>\n",
       "      <td>3</td>\n",
       "      <td>3</td>\n",
       "      <td>51</td>\n",
       "    </tr>\n",
       "    <tr>\n",
       "      <th>33</th>\n",
       "      <td>59</td>\n",
       "      <td>1</td>\n",
       "      <td>4</td>\n",
       "      <td>180</td>\n",
       "      <td>237</td>\n",
       "      <td>1</td>\n",
       "      <td>2</td>\n",
       "      <td>164</td>\n",
       "      <td>0</td>\n",
       "      <td>1.5</td>\n",
       "      <td>3</td>\n",
       "      <td>2</td>\n",
       "      <td>3</td>\n",
       "      <td>230</td>\n",
       "    </tr>\n",
       "    <tr>\n",
       "      <th>34</th>\n",
       "      <td>43</td>\n",
       "      <td>1</td>\n",
       "      <td>2</td>\n",
       "      <td>133</td>\n",
       "      <td>213</td>\n",
       "      <td>0</td>\n",
       "      <td>1</td>\n",
       "      <td>195</td>\n",
       "      <td>0</td>\n",
       "      <td>1.0</td>\n",
       "      <td>3</td>\n",
       "      <td>3</td>\n",
       "      <td>3</td>\n",
       "      <td>28</td>\n",
       "    </tr>\n",
       "    <tr>\n",
       "      <th>35</th>\n",
       "      <td>64</td>\n",
       "      <td>0</td>\n",
       "      <td>0</td>\n",
       "      <td>178</td>\n",
       "      <td>279</td>\n",
       "      <td>0</td>\n",
       "      <td>1</td>\n",
       "      <td>160</td>\n",
       "      <td>1</td>\n",
       "      <td>1.0</td>\n",
       "      <td>2</td>\n",
       "      <td>0</td>\n",
       "      <td>2</td>\n",
       "      <td>28</td>\n",
       "    </tr>\n",
       "    <tr>\n",
       "      <th>36</th>\n",
       "      <td>71</td>\n",
       "      <td>1</td>\n",
       "      <td>4</td>\n",
       "      <td>161</td>\n",
       "      <td>293</td>\n",
       "      <td>0</td>\n",
       "      <td>2</td>\n",
       "      <td>134</td>\n",
       "      <td>1</td>\n",
       "      <td>4.1</td>\n",
       "      <td>2</td>\n",
       "      <td>4</td>\n",
       "      <td>4</td>\n",
       "      <td>75</td>\n",
       "    </tr>\n",
       "    <tr>\n",
       "      <th>37</th>\n",
       "      <td>51</td>\n",
       "      <td>1</td>\n",
       "      <td>2</td>\n",
       "      <td>143</td>\n",
       "      <td>322</td>\n",
       "      <td>0</td>\n",
       "      <td>0</td>\n",
       "      <td>180</td>\n",
       "      <td>0</td>\n",
       "      <td>1.2</td>\n",
       "      <td>3</td>\n",
       "      <td>0</td>\n",
       "      <td>4</td>\n",
       "      <td>44</td>\n",
       "    </tr>\n",
       "    <tr>\n",
       "      <th>38</th>\n",
       "      <td>62</td>\n",
       "      <td>1</td>\n",
       "      <td>1</td>\n",
       "      <td>132</td>\n",
       "      <td>272</td>\n",
       "      <td>1</td>\n",
       "      <td>0</td>\n",
       "      <td>155</td>\n",
       "      <td>1</td>\n",
       "      <td>2.3</td>\n",
       "      <td>2</td>\n",
       "      <td>4</td>\n",
       "      <td>4</td>\n",
       "      <td>254</td>\n",
       "    </tr>\n",
       "    <tr>\n",
       "      <th>39</th>\n",
       "      <td>68</td>\n",
       "      <td>0</td>\n",
       "      <td>2</td>\n",
       "      <td>153</td>\n",
       "      <td>274</td>\n",
       "      <td>0</td>\n",
       "      <td>1</td>\n",
       "      <td>174</td>\n",
       "      <td>0</td>\n",
       "      <td>4.7</td>\n",
       "      <td>1</td>\n",
       "      <td>4</td>\n",
       "      <td>3</td>\n",
       "      <td>71</td>\n",
       "    </tr>\n",
       "    <tr>\n",
       "      <th>40</th>\n",
       "      <td>58</td>\n",
       "      <td>1</td>\n",
       "      <td>0</td>\n",
       "      <td>146</td>\n",
       "      <td>211</td>\n",
       "      <td>0</td>\n",
       "      <td>1</td>\n",
       "      <td>156</td>\n",
       "      <td>0</td>\n",
       "      <td>1.5</td>\n",
       "      <td>2</td>\n",
       "      <td>3</td>\n",
       "      <td>3</td>\n",
       "      <td>76</td>\n",
       "    </tr>\n",
       "    <tr>\n",
       "      <th>41</th>\n",
       "      <td>61</td>\n",
       "      <td>0</td>\n",
       "      <td>0</td>\n",
       "      <td>130</td>\n",
       "      <td>339</td>\n",
       "      <td>0</td>\n",
       "      <td>0</td>\n",
       "      <td>175</td>\n",
       "      <td>0</td>\n",
       "      <td>1.1</td>\n",
       "      <td>3</td>\n",
       "      <td>4</td>\n",
       "      <td>4</td>\n",
       "      <td>37</td>\n",
       "    </tr>\n",
       "    <tr>\n",
       "      <th>42</th>\n",
       "      <td>53</td>\n",
       "      <td>1</td>\n",
       "      <td>2</td>\n",
       "      <td>149</td>\n",
       "      <td>254</td>\n",
       "      <td>0</td>\n",
       "      <td>2</td>\n",
       "      <td>174</td>\n",
       "      <td>0</td>\n",
       "      <td>1.1</td>\n",
       "      <td>3</td>\n",
       "      <td>5</td>\n",
       "      <td>2</td>\n",
       "      <td>64</td>\n",
       "    </tr>\n",
       "    <tr>\n",
       "      <th>43</th>\n",
       "      <td>48</td>\n",
       "      <td>1</td>\n",
       "      <td>1</td>\n",
       "      <td>113</td>\n",
       "      <td>301</td>\n",
       "      <td>0</td>\n",
       "      <td>1</td>\n",
       "      <td>126</td>\n",
       "      <td>1</td>\n",
       "      <td>2.1</td>\n",
       "      <td>2</td>\n",
       "      <td>1</td>\n",
       "      <td>4</td>\n",
       "      <td>1</td>\n",
       "    </tr>\n",
       "    <tr>\n",
       "      <th>44</th>\n",
       "      <td>56</td>\n",
       "      <td>1</td>\n",
       "      <td>3</td>\n",
       "      <td>126</td>\n",
       "      <td>231</td>\n",
       "      <td>0</td>\n",
       "      <td>1</td>\n",
       "      <td>130</td>\n",
       "      <td>1</td>\n",
       "      <td>2.5</td>\n",
       "      <td>3</td>\n",
       "      <td>2</td>\n",
       "      <td>3</td>\n",
       "      <td>66</td>\n",
       "    </tr>\n",
       "    <tr>\n",
       "      <th>45</th>\n",
       "      <td>75</td>\n",
       "      <td>1</td>\n",
       "      <td>1</td>\n",
       "      <td>167</td>\n",
       "      <td>278</td>\n",
       "      <td>0</td>\n",
       "      <td>1</td>\n",
       "      <td>144</td>\n",
       "      <td>0</td>\n",
       "      <td>1.0</td>\n",
       "      <td>3</td>\n",
       "      <td>1</td>\n",
       "      <td>2</td>\n",
       "      <td>56</td>\n",
       "    </tr>\n",
       "    <tr>\n",
       "      <th>46</th>\n",
       "      <td>43</td>\n",
       "      <td>1</td>\n",
       "      <td>3</td>\n",
       "      <td>134</td>\n",
       "      <td>265</td>\n",
       "      <td>0</td>\n",
       "      <td>0</td>\n",
       "      <td>178</td>\n",
       "      <td>0</td>\n",
       "      <td>3.1</td>\n",
       "      <td>2</td>\n",
       "      <td>2</td>\n",
       "      <td>2</td>\n",
       "      <td>55</td>\n",
       "    </tr>\n",
       "    <tr>\n",
       "      <th>47</th>\n",
       "      <td>53</td>\n",
       "      <td>1</td>\n",
       "      <td>4</td>\n",
       "      <td>155</td>\n",
       "      <td>242</td>\n",
       "      <td>0</td>\n",
       "      <td>1</td>\n",
       "      <td>172</td>\n",
       "      <td>0</td>\n",
       "      <td>1.6</td>\n",
       "      <td>2</td>\n",
       "      <td>3</td>\n",
       "      <td>4</td>\n",
       "      <td>33</td>\n",
       "    </tr>\n",
       "    <tr>\n",
       "      <th>48</th>\n",
       "      <td>59</td>\n",
       "      <td>0</td>\n",
       "      <td>2</td>\n",
       "      <td>135</td>\n",
       "      <td>421</td>\n",
       "      <td>0</td>\n",
       "      <td>1</td>\n",
       "      <td>160</td>\n",
       "      <td>1</td>\n",
       "      <td>3.0</td>\n",
       "      <td>2</td>\n",
       "      <td>4</td>\n",
       "      <td>3</td>\n",
       "      <td>75</td>\n",
       "    </tr>\n",
       "    <tr>\n",
       "      <th>49</th>\n",
       "      <td>45</td>\n",
       "      <td>1</td>\n",
       "      <td>2</td>\n",
       "      <td>125</td>\n",
       "      <td>312</td>\n",
       "      <td>0</td>\n",
       "      <td>1</td>\n",
       "      <td>174</td>\n",
       "      <td>0</td>\n",
       "      <td>1.1</td>\n",
       "      <td>3</td>\n",
       "      <td>1</td>\n",
       "      <td>5</td>\n",
       "      <td>12</td>\n",
       "    </tr>\n",
       "  </tbody>\n",
       "</table>\n",
       "</div>"
      ],
      "text/plain": [
       "    age  sex  cp  trestbps  chol  fbs  restecg  thalach  exang  oldpeak  \\\n",
       "0    71    1   0       154   213    0        2      146      1      3.7   \n",
       "1    71    1   5       176   276    0        1      167      0      1.7   \n",
       "2    63    1   4       187   336    0        1      165      0      1.3   \n",
       "3    67    1   0       129   273    0        1      147      1      3.8   \n",
       "4    64    1   3       142   272    0        2      166      0      2.9   \n",
       "5    55    1   1       135   278    0        1      171      0      1.6   \n",
       "6    42    1   2       123   186    0        0      115      1      3.1   \n",
       "7    70    1   0       144   296    0        0      166      0      2.5   \n",
       "8    64    0   0       210   329    1        0      140      1      5.0   \n",
       "9    68    1   1       141   332    1        1      152      1      2.9   \n",
       "10   60    1   3       160   174    1        1      187      0      1.3   \n",
       "11   54    0   2       138   293    0        1      178      0      1.1   \n",
       "12   72    1   2       141   264    0        0      141      0      3.8   \n",
       "13   53    1   1       137   293    0        1      187      0      1.7   \n",
       "14   58    0   4       124   241    0        2      180      0      2.6   \n",
       "15   53    1   3       105   246    0        2      147      1      2.2   \n",
       "16   60    1   0       110   273    1        2      150      0      1.1   \n",
       "17   56    1   2       127   269    1        1      176      0      1.0   \n",
       "18   65    1   0       121   298    0        1      109      1      2.8   \n",
       "19   49    1   2       124   255    1        2      214      0      1.9   \n",
       "20   46    1   0       144   266    0        1      195      0      1.1   \n",
       "21   48    1   2       128   269    0        2      149      0      2.3   \n",
       "22   70    1   1       125   318    0        0      120      0      2.5   \n",
       "23   57    1   2       123   242    0        0      126      1      1.1   \n",
       "24   43    1   3       111   272    0        1      158      0      1.1   \n",
       "25   63    0   3       141   306    0        1       99      0      2.2   \n",
       "26   59    1   0       133   224    0        1      175      0      2.0   \n",
       "27   48    1   2       123   296    0        0      162      0      2.0   \n",
       "28   41    0   2       150   259    0        2      162      0      1.1   \n",
       "29   58    1   1       137   227    0        1      169      0      1.9   \n",
       "30   64    1   3       141   229    0        0      167      0      4.1   \n",
       "31   49    1   0       146   338    0        0      160      1      1.1   \n",
       "32   44    0   1       143   333    0        2      179      0      1.0   \n",
       "33   59    1   4       180   237    1        2      164      0      1.5   \n",
       "34   43    1   2       133   213    0        1      195      0      1.0   \n",
       "35   64    0   0       178   279    0        1      160      1      1.0   \n",
       "36   71    1   4       161   293    0        2      134      1      4.1   \n",
       "37   51    1   2       143   322    0        0      180      0      1.2   \n",
       "38   62    1   1       132   272    1        0      155      1      2.3   \n",
       "39   68    0   2       153   274    0        1      174      0      4.7   \n",
       "40   58    1   0       146   211    0        1      156      0      1.5   \n",
       "41   61    0   0       130   339    0        0      175      0      1.1   \n",
       "42   53    1   2       149   254    0        2      174      0      1.1   \n",
       "43   48    1   1       113   301    0        1      126      1      2.1   \n",
       "44   56    1   3       126   231    0        1      130      1      2.5   \n",
       "45   75    1   1       167   278    0        1      144      0      1.0   \n",
       "46   43    1   3       134   265    0        0      178      0      3.1   \n",
       "47   53    1   4       155   242    0        1      172      0      1.6   \n",
       "48   59    0   2       135   421    0        1      160      1      3.0   \n",
       "49   45    1   2       125   312    0        1      174      0      1.1   \n",
       "\n",
       "    slope  ca  thal  chol_fbs  \n",
       "0       1   3     3        44  \n",
       "1       2   1     3        58  \n",
       "2       2   3     5        36  \n",
       "3       2   4     3        78  \n",
       "4       2   5     3        56  \n",
       "5       2   0     5        33  \n",
       "6       2   2     4        45  \n",
       "7       2   4     3        56  \n",
       "8       1   3     3       316  \n",
       "9       3   6     4       414  \n",
       "10      3   3     5       201  \n",
       "11      3   1     2        10  \n",
       "12      2   1     3        33  \n",
       "13      3   3     3        52  \n",
       "14      2   2     4        86  \n",
       "15      2   2     4        24  \n",
       "16      3   4     3       275  \n",
       "17      3   5     4       280  \n",
       "18      2   2     4        19  \n",
       "19      1   3     5       281  \n",
       "20      3   3     4        72  \n",
       "21      2   2     4        34  \n",
       "22      2   2     5        39  \n",
       "23      2   2     3        83  \n",
       "24      3   2     2        87  \n",
       "25      2   2     5        61  \n",
       "26      3   4     4         8  \n",
       "27      3   0     5        65  \n",
       "28      2   0     3        79  \n",
       "29      3   2     2        86  \n",
       "30      2   3     3        58  \n",
       "31      2   5     3        12  \n",
       "32      3   3     3        51  \n",
       "33      3   2     3       230  \n",
       "34      3   3     3        28  \n",
       "35      2   0     2        28  \n",
       "36      2   4     4        75  \n",
       "37      3   0     4        44  \n",
       "38      2   4     4       254  \n",
       "39      1   4     3        71  \n",
       "40      2   3     3        76  \n",
       "41      3   4     4        37  \n",
       "42      3   5     2        64  \n",
       "43      2   1     4         1  \n",
       "44      3   2     3        66  \n",
       "45      3   1     2        56  \n",
       "46      2   2     2        55  \n",
       "47      2   3     4        33  \n",
       "48      2   4     3        75  \n",
       "49      3   1     5        12  "
      ]
     },
     "execution_count": 41,
     "metadata": {},
     "output_type": "execute_result"
    }
   ],
   "source": [
    "x_test"
   ]
  },
  {
   "cell_type": "code",
   "execution_count": 45,
   "metadata": {
    "cell_id": "00048-0ae573f5-080b-4a90-8cd8-d980db94c25d",
    "deepnote_cell_type": "code",
    "deepnote_to_be_reexecuted": false,
    "execution_millis": 2,
    "execution_start": 1620564232369,
    "source_hash": "a763ce70",
    "tags": []
   },
   "outputs": [],
   "source": [
    "y_wfee = full_df['target']\n"
   ]
  },
  {
   "cell_type": "code",
   "execution_count": 49,
   "metadata": {
    "cell_id": "00048-c98dd729-addd-4310-b6a7-5ee58ed91aa5",
    "deepnote_cell_type": "code",
    "deepnote_to_be_reexecuted": false,
    "execution_millis": 18,
    "execution_start": 1620564255585,
    "source_hash": "e838c6e8",
    "tags": []
   },
   "outputs": [
    {
     "ename": "NameError",
     "evalue": "name 'x_wfee' is not defined",
     "output_type": "error",
     "traceback": [
      "\u001b[0;31m---------------------------------------------------------------------------\u001b[0m",
      "\u001b[0;31mNameError\u001b[0m                                 Traceback (most recent call last)",
      "\u001b[0;32m<ipython-input-49-6e7336300069>\u001b[0m in \u001b[0;36m<module>\u001b[0;34m\u001b[0m\n\u001b[1;32m      1\u001b[0m \u001b[0mbest_model\u001b[0m \u001b[0;34m=\u001b[0m \u001b[0mmodels_wfe\u001b[0m\u001b[0;34m[\u001b[0m\u001b[0;34m\"SVM_rbf\"\u001b[0m\u001b[0;34m]\u001b[0m\u001b[0;34m\u001b[0m\u001b[0;34m\u001b[0m\u001b[0m\n\u001b[0;32m----> 2\u001b[0;31m \u001b[0mbest_model\u001b[0m\u001b[0;34m.\u001b[0m\u001b[0mfit\u001b[0m\u001b[0;34m(\u001b[0m\u001b[0mx_wfee\u001b[0m\u001b[0;34m,\u001b[0m\u001b[0my_wfee\u001b[0m\u001b[0;34m)\u001b[0m\u001b[0;34m\u001b[0m\u001b[0;34m\u001b[0m\u001b[0m\n\u001b[0m",
      "\u001b[0;31mNameError\u001b[0m: name 'x_wfee' is not defined"
     ]
    }
   ],
   "source": [
    "best_model = models_wfe[\"SVM_rbf\"]\n",
    "best_model.fit(x_wfee,y_wfee)"
   ]
  },
  {
   "cell_type": "code",
   "execution_count": 47,
   "metadata": {
    "cell_id": "00050-f77f742c-e320-42a7-814b-5ec022419688",
    "deepnote_cell_type": "code",
    "deepnote_to_be_reexecuted": false,
    "execution_millis": 41,
    "execution_start": 1620564239220,
    "source_hash": "6aae02f5",
    "tags": []
   },
   "outputs": [
    {
     "ename": "RuntimeError",
     "evalue": "Given feature/column names do not match the ones for the data given during fit.",
     "output_type": "error",
     "traceback": [
      "\u001b[0;31m---------------------------------------------------------------------------\u001b[0m",
      "\u001b[0;31mRuntimeError\u001b[0m                              Traceback (most recent call last)",
      "\u001b[0;32m<ipython-input-47-4b9f29e5eb8a>\u001b[0m in \u001b[0;36m<module>\u001b[0;34m\u001b[0m\n\u001b[0;32m----> 1\u001b[0;31m \u001b[0mtest_pred\u001b[0m \u001b[0;34m=\u001b[0m \u001b[0mbest_model\u001b[0m\u001b[0;34m.\u001b[0m\u001b[0mpredict\u001b[0m\u001b[0;34m(\u001b[0m\u001b[0mx_test\u001b[0m\u001b[0;34m)\u001b[0m\u001b[0;34m\u001b[0m\u001b[0;34m\u001b[0m\u001b[0m\n\u001b[0m",
      "\u001b[0;32m/shared-libs/python3.7/py/lib/python3.7/site-packages/sklearn/utils/metaestimators.py\u001b[0m in \u001b[0;36m<lambda>\u001b[0;34m(*args, **kwargs)\u001b[0m\n\u001b[1;32m    118\u001b[0m \u001b[0;34m\u001b[0m\u001b[0m\n\u001b[1;32m    119\u001b[0m         \u001b[0;31m# lambda, but not partial, allows help() to work with update_wrapper\u001b[0m\u001b[0;34m\u001b[0m\u001b[0;34m\u001b[0m\u001b[0;34m\u001b[0m\u001b[0m\n\u001b[0;32m--> 120\u001b[0;31m         \u001b[0mout\u001b[0m \u001b[0;34m=\u001b[0m \u001b[0;32mlambda\u001b[0m \u001b[0;34m*\u001b[0m\u001b[0margs\u001b[0m\u001b[0;34m,\u001b[0m \u001b[0;34m**\u001b[0m\u001b[0mkwargs\u001b[0m\u001b[0;34m:\u001b[0m \u001b[0mself\u001b[0m\u001b[0;34m.\u001b[0m\u001b[0mfn\u001b[0m\u001b[0;34m(\u001b[0m\u001b[0mobj\u001b[0m\u001b[0;34m,\u001b[0m \u001b[0;34m*\u001b[0m\u001b[0margs\u001b[0m\u001b[0;34m,\u001b[0m \u001b[0;34m**\u001b[0m\u001b[0mkwargs\u001b[0m\u001b[0;34m)\u001b[0m\u001b[0;34m\u001b[0m\u001b[0;34m\u001b[0m\u001b[0m\n\u001b[0m\u001b[1;32m    121\u001b[0m         \u001b[0;31m# update the docstring of the returned function\u001b[0m\u001b[0;34m\u001b[0m\u001b[0;34m\u001b[0m\u001b[0;34m\u001b[0m\u001b[0m\n\u001b[1;32m    122\u001b[0m         \u001b[0mupdate_wrapper\u001b[0m\u001b[0;34m(\u001b[0m\u001b[0mout\u001b[0m\u001b[0;34m,\u001b[0m \u001b[0mself\u001b[0m\u001b[0;34m.\u001b[0m\u001b[0mfn\u001b[0m\u001b[0;34m)\u001b[0m\u001b[0;34m\u001b[0m\u001b[0;34m\u001b[0m\u001b[0m\n",
      "\u001b[0;32m/shared-libs/python3.7/py/lib/python3.7/site-packages/sklearn/pipeline.py\u001b[0m in \u001b[0;36mpredict\u001b[0;34m(self, X, **predict_params)\u001b[0m\n\u001b[1;32m    416\u001b[0m         \u001b[0mXt\u001b[0m \u001b[0;34m=\u001b[0m \u001b[0mX\u001b[0m\u001b[0;34m\u001b[0m\u001b[0;34m\u001b[0m\u001b[0m\n\u001b[1;32m    417\u001b[0m         \u001b[0;32mfor\u001b[0m \u001b[0m_\u001b[0m\u001b[0;34m,\u001b[0m \u001b[0mname\u001b[0m\u001b[0;34m,\u001b[0m \u001b[0mtransform\u001b[0m \u001b[0;32min\u001b[0m \u001b[0mself\u001b[0m\u001b[0;34m.\u001b[0m\u001b[0m_iter\u001b[0m\u001b[0;34m(\u001b[0m\u001b[0mwith_final\u001b[0m\u001b[0;34m=\u001b[0m\u001b[0;32mFalse\u001b[0m\u001b[0;34m)\u001b[0m\u001b[0;34m:\u001b[0m\u001b[0;34m\u001b[0m\u001b[0;34m\u001b[0m\u001b[0m\n\u001b[0;32m--> 418\u001b[0;31m             \u001b[0mXt\u001b[0m \u001b[0;34m=\u001b[0m \u001b[0mtransform\u001b[0m\u001b[0;34m.\u001b[0m\u001b[0mtransform\u001b[0m\u001b[0;34m(\u001b[0m\u001b[0mXt\u001b[0m\u001b[0;34m)\u001b[0m\u001b[0;34m\u001b[0m\u001b[0;34m\u001b[0m\u001b[0m\n\u001b[0m\u001b[1;32m    419\u001b[0m         \u001b[0;32mreturn\u001b[0m \u001b[0mself\u001b[0m\u001b[0;34m.\u001b[0m\u001b[0msteps\u001b[0m\u001b[0;34m[\u001b[0m\u001b[0;34m-\u001b[0m\u001b[0;36m1\u001b[0m\u001b[0;34m]\u001b[0m\u001b[0;34m[\u001b[0m\u001b[0;34m-\u001b[0m\u001b[0;36m1\u001b[0m\u001b[0;34m]\u001b[0m\u001b[0;34m.\u001b[0m\u001b[0mpredict\u001b[0m\u001b[0;34m(\u001b[0m\u001b[0mXt\u001b[0m\u001b[0;34m,\u001b[0m \u001b[0;34m**\u001b[0m\u001b[0mpredict_params\u001b[0m\u001b[0;34m)\u001b[0m\u001b[0;34m\u001b[0m\u001b[0;34m\u001b[0m\u001b[0m\n\u001b[1;32m    420\u001b[0m \u001b[0;34m\u001b[0m\u001b[0m\n",
      "\u001b[0;32m/shared-libs/python3.7/py/lib/python3.7/site-packages/sklearn/compose/_column_transformer.py\u001b[0m in \u001b[0;36mtransform\u001b[0;34m(self, X)\u001b[0m\n\u001b[1;32m    559\u001b[0m                 np.any(self._feature_names_in != X_feature_names)):\n\u001b[1;32m    560\u001b[0m             raise RuntimeError(\n\u001b[0;32m--> 561\u001b[0;31m                 \u001b[0;34m\"Given feature/column names do not match the ones for the \"\u001b[0m\u001b[0;34m\u001b[0m\u001b[0;34m\u001b[0m\u001b[0m\n\u001b[0m\u001b[1;32m    562\u001b[0m                 \u001b[0;34m\"data given during fit.\"\u001b[0m\u001b[0;34m\u001b[0m\u001b[0;34m\u001b[0m\u001b[0m\n\u001b[1;32m    563\u001b[0m             )\n",
      "\u001b[0;31mRuntimeError\u001b[0m: Given feature/column names do not match the ones for the data given during fit."
     ]
    }
   ],
   "source": [
    "test_pred = best_model.predict(x_test)"
   ]
  },
  {
   "cell_type": "code",
   "execution_count": 48,
   "metadata": {
    "cell_id": "00051-d772d40b-52e5-4de6-ac9f-c0e2bc9824af",
    "deepnote_cell_type": "code",
    "deepnote_to_be_reexecuted": false,
    "execution_millis": 53,
    "execution_start": 1620564242579,
    "source_hash": "abb9861a",
    "tags": []
   },
   "outputs": [
    {
     "ename": "NameError",
     "evalue": "name 'test_pred' is not defined",
     "output_type": "error",
     "traceback": [
      "\u001b[0;31m---------------------------------------------------------------------------\u001b[0m",
      "\u001b[0;31mNameError\u001b[0m                                 Traceback (most recent call last)",
      "\u001b[0;32m<ipython-input-48-af8afd7d58a9>\u001b[0m in \u001b[0;36m<module>\u001b[0;34m\u001b[0m\n\u001b[0;32m----> 1\u001b[0;31m \u001b[0msub\u001b[0m \u001b[0;34m=\u001b[0m \u001b[0mpd\u001b[0m\u001b[0;34m.\u001b[0m\u001b[0mDataFrame\u001b[0m\u001b[0;34m(\u001b[0m\u001b[0mtest_pred\u001b[0m\u001b[0;34m,\u001b[0m \u001b[0mindex\u001b[0m\u001b[0;34m=\u001b[0m\u001b[0mx_test\u001b[0m\u001b[0;34m.\u001b[0m\u001b[0mindex\u001b[0m\u001b[0;34m,\u001b[0m \u001b[0mcolumns\u001b[0m\u001b[0;34m=\u001b[0m\u001b[0;34m[\u001b[0m\u001b[0;34m\"Target\"\u001b[0m\u001b[0;34m]\u001b[0m\u001b[0;34m)\u001b[0m\u001b[0;34m\u001b[0m\u001b[0;34m\u001b[0m\u001b[0m\n\u001b[0m",
      "\u001b[0;31mNameError\u001b[0m: name 'test_pred' is not defined"
     ]
    }
   ],
   "source": [
    "sub = pd.DataFrame(test_pred, index=x_test.index, columns=[\"Target\"])"
   ]
  },
  {
   "cell_type": "code",
   "execution_count": null,
   "metadata": {
    "cell_id": "00052-fb0c6913-fcce-468f-8a48-75198ed2e3c7",
    "deepnote_cell_type": "code",
    "deepnote_to_be_reexecuted": true,
    "execution_millis": 14,
    "execution_start": 1620399781774,
    "source_hash": "8006965d",
    "tags": []
   },
   "outputs": [
    {
     "data": {
      "application/vnd.deepnote.dataframe.v2+json": {
       "column_count": 1,
       "columns": [
        {
         "dtype": "int64",
         "name": "Target",
         "stats": {
          "histogram": [
           {
            "bin_end": 0.1,
            "bin_start": 0,
            "count": 4
           },
           {
            "bin_end": 0.2,
            "bin_start": 0.1,
            "count": 0
           },
           {
            "bin_end": 0.30000000000000004,
            "bin_start": 0.2,
            "count": 0
           },
           {
            "bin_end": 0.4,
            "bin_start": 0.30000000000000004,
            "count": 0
           },
           {
            "bin_end": 0.5,
            "bin_start": 0.4,
            "count": 0
           },
           {
            "bin_end": 0.6000000000000001,
            "bin_start": 0.5,
            "count": 0
           },
           {
            "bin_end": 0.7000000000000001,
            "bin_start": 0.6000000000000001,
            "count": 0
           },
           {
            "bin_end": 0.8,
            "bin_start": 0.7000000000000001,
            "count": 0
           },
           {
            "bin_end": 0.9,
            "bin_start": 0.8,
            "count": 0
           },
           {
            "bin_end": 1,
            "bin_start": 0.9,
            "count": 1
           }
          ],
          "max": "1",
          "min": "0",
          "nan_count": 0,
          "unique_count": 2
         }
        },
        {
         "dtype": "int64",
         "name": "_deepnote_index_column"
        }
       ],
       "row_count": 5,
       "rows_bottom": null,
       "rows_top": [
        {
         "Target": 0,
         "_deepnote_index_column": 0
        },
        {
         "Target": 1,
         "_deepnote_index_column": 1
        },
        {
         "Target": 0,
         "_deepnote_index_column": 2
        },
        {
         "Target": 0,
         "_deepnote_index_column": 3
        },
        {
         "Target": 0,
         "_deepnote_index_column": 4
        }
       ]
      },
      "text/html": [
       "<div>\n",
       "<style scoped>\n",
       "    .dataframe tbody tr th:only-of-type {\n",
       "        vertical-align: middle;\n",
       "    }\n",
       "\n",
       "    .dataframe tbody tr th {\n",
       "        vertical-align: top;\n",
       "    }\n",
       "\n",
       "    .dataframe thead th {\n",
       "        text-align: right;\n",
       "    }\n",
       "</style>\n",
       "<table border=\"1\" class=\"dataframe\">\n",
       "  <thead>\n",
       "    <tr style=\"text-align: right;\">\n",
       "      <th></th>\n",
       "      <th>Target</th>\n",
       "    </tr>\n",
       "  </thead>\n",
       "  <tbody>\n",
       "    <tr>\n",
       "      <th>0</th>\n",
       "      <td>0</td>\n",
       "    </tr>\n",
       "    <tr>\n",
       "      <th>1</th>\n",
       "      <td>1</td>\n",
       "    </tr>\n",
       "    <tr>\n",
       "      <th>2</th>\n",
       "      <td>0</td>\n",
       "    </tr>\n",
       "    <tr>\n",
       "      <th>3</th>\n",
       "      <td>0</td>\n",
       "    </tr>\n",
       "    <tr>\n",
       "      <th>4</th>\n",
       "      <td>0</td>\n",
       "    </tr>\n",
       "  </tbody>\n",
       "</table>\n",
       "</div>"
      ],
      "text/plain": [
       "   Target\n",
       "0       0\n",
       "1       1\n",
       "2       0\n",
       "3       0\n",
       "4       0"
      ]
     },
     "execution_count": 81,
     "metadata": {},
     "output_type": "execute_result"
    }
   ],
   "source": [
    "sub.head()"
   ]
  },
  {
   "cell_type": "code",
   "execution_count": null,
   "metadata": {
    "cell_id": "00053-dcbf6a29-2e51-4929-86cf-2f4b3f5e5c3c",
    "deepnote_cell_type": "code",
    "deepnote_to_be_reexecuted": true,
    "execution_millis": 11,
    "execution_start": 1620399913956,
    "source_hash": "6dab9e65",
    "tags": []
   },
   "outputs": [
    {
     "name": "stdout",
     "output_type": "stream",
     "text": [
      "Accuracy: 0.88\n"
     ]
    }
   ],
   "source": [
    "print(\"Accuracy:\",metrics.accuracy_score(df_test['target'], test_pred))"
   ]
  },
  {
   "cell_type": "code",
   "execution_count": null,
   "metadata": {
    "cell_id": "00055-1db171a6-7316-4c6e-ac10-414b36f18471",
    "deepnote_cell_type": "code",
    "deepnote_to_be_reexecuted": true,
    "execution_millis": 1822,
    "execution_start": 1620564112836,
    "source_hash": "53c4b7d0",
    "tags": []
   },
   "outputs": [
    {
     "ename": "NameError",
     "evalue": "name 'df_test' is not defined",
     "output_type": "error",
     "traceback": [
      "\u001b[0;31m---------------------------------------------------------------------------\u001b[0m",
      "\u001b[0;31mNameError\u001b[0m                                 Traceback (most recent call last)",
      "\u001b[0;32m<ipython-input-1-3f4c33eeb613>\u001b[0m in \u001b[0;36m<module>\u001b[0;34m\u001b[0m\n\u001b[1;32m      1\u001b[0m \u001b[0;32mfrom\u001b[0m \u001b[0msklearn\u001b[0m\u001b[0;34m.\u001b[0m\u001b[0mmetrics\u001b[0m \u001b[0;32mimport\u001b[0m \u001b[0mconfusion_matrix\u001b[0m\u001b[0;34m\u001b[0m\u001b[0;34m\u001b[0m\u001b[0m\n\u001b[1;32m      2\u001b[0m \u001b[0;34m\u001b[0m\u001b[0m\n\u001b[0;32m----> 3\u001b[0;31m \u001b[0mcm\u001b[0m \u001b[0;34m=\u001b[0m \u001b[0mconfusion_matrix\u001b[0m\u001b[0;34m(\u001b[0m\u001b[0mdf_test\u001b[0m\u001b[0;34m[\u001b[0m\u001b[0;34m'target'\u001b[0m\u001b[0;34m]\u001b[0m\u001b[0;34m,\u001b[0m \u001b[0mtest_pred\u001b[0m\u001b[0;34m)\u001b[0m\u001b[0;34m\u001b[0m\u001b[0;34m\u001b[0m\u001b[0m\n\u001b[0m",
      "\u001b[0;31mNameError\u001b[0m: name 'df_test' is not defined"
     ]
    }
   ],
   "source": [
    "from sklearn.metrics import confusion_matrix\n",
    "\n",
    "cm = confusion_matrix(df_test['target'], test_pred)"
   ]
  },
  {
   "cell_type": "code",
   "execution_count": null,
   "metadata": {
    "cell_id": "00057-7a849091-7da3-489c-b4f4-e10c893c2a6d",
    "deepnote_cell_type": "code",
    "deepnote_to_be_reexecuted": true,
    "source_hash": "bd0a5e0c",
    "tags": []
   },
   "outputs": [],
   "source": [
    "\n",
    "plt.imshow(cm, cmap='binary')"
   ]
  },
  {
   "cell_type": "markdown",
   "metadata": {
    "created_in_deepnote_cell": true,
    "deepnote_cell_type": "markdown",
    "tags": []
   },
   "source": [
    "<a style='text-decoration:none;line-height:16px;display:flex;color:#5B5B62;padding:10px;justify-content:end;' href='https://deepnote.com?utm_source=created-in-deepnote-cell&projectId=8d599d21-73e5-4f68-954e-8e232bd2cc60' target=\"_blank\">\n",
    "<img alt='Created in deepnote.com' style='display:inline;max-height:16px;margin:0px;margin-right:7.5px;' src='data:image/svg+xml;base64,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' > </img>\n",
    "Created in <span style='font-weight:600;margin-left:4px;'>Deepnote</span></a>"
   ]
  }
 ],
 "metadata": {
  "deepnote": {
   "is_reactive": false
  },
  "deepnote_execution_queue": [],
  "deepnote_notebook_id": "4fd04bfe-cd5e-4e5d-a99c-bcc7295da9b7",
  "kernelspec": {
   "display_name": "Python 3",
   "language": "python",
   "name": "python3"
  },
  "language_info": {
   "codemirror_mode": {
    "name": "ipython",
    "version": 3
   },
   "file_extension": ".py",
   "mimetype": "text/x-python",
   "name": "python",
   "nbconvert_exporter": "python",
   "pygments_lexer": "ipython3",
   "version": "3.8.5"
  },
  "varInspector": {
   "cols": {
    "lenName": 16,
    "lenType": 16,
    "lenVar": 40
   },
   "kernels_config": {
    "python": {
     "delete_cmd_postfix": "",
     "delete_cmd_prefix": "del ",
     "library": "var_list.py",
     "varRefreshCmd": "print(var_dic_list())"
    },
    "r": {
     "delete_cmd_postfix": ") ",
     "delete_cmd_prefix": "rm(",
     "library": "var_list.r",
     "varRefreshCmd": "cat(var_dic_list()) "
    }
   },
   "types_to_exclude": [
    "module",
    "function",
    "builtin_function_or_method",
    "instance",
    "_Feature"
   ],
   "window_display": false
  }
 },
 "nbformat": 4,
 "nbformat_minor": 2
}
