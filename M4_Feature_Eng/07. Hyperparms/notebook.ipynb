{
 "cells": [
  {
   "cell_type": "markdown",
   "source": "Hippocratia\n\nHippocratia is new healthcare based startup, they are trying to develop a product to fight back heart attacks. Their medical research team have managed to put together a drug that relaxes the heart muscles preventing the heart from stopping.",
   "metadata": {
    "tags": [],
    "cell_id": "00002-f8208eee-ef4a-440b-8d53-59e23ebc7943",
    "deepnote_cell_type": "markdown"
   }
  },
  {
   "cell_type": "markdown",
   "source": "1. Use data augmentation\n2. Create new column\n3. Prediction model\n4. Stremlit module",
   "metadata": {
    "tags": [],
    "cell_id": "00000-af8e727f-6a74-47b5-964b-5770f56358be",
    "deepnote_cell_type": "markdown"
   }
  },
  {
   "cell_type": "code",
   "metadata": {
    "tags": [],
    "cell_id": "00000-bd444215-17d1-4cf8-933f-06636266072b",
    "deepnote_to_be_reexecuted": false,
    "source_hash": "ec56dc8f",
    "execution_start": 1620564120625,
    "execution_millis": 1988,
    "deepnote_cell_type": "code"
   },
   "source": "import numpy as np\nimport pandas as pd\nimport time\nfrom IPython.display import clear_output\nimport numpy    as np\nimport pandas   as pd\nimport seaborn  as sb\nimport matplotlib.pyplot as plt\nimport sklearn  as skl\n\n\nfrom sklearn import pipeline      # Pipeline\nfrom sklearn import preprocessing # OrdinalEncoder, LabelEncoder\nfrom sklearn import impute\nfrom sklearn import compose\nfrom sklearn import model_selection # train_test_split\nfrom sklearn import metrics         # accuracy_score, balanced_accuracy_score, plot_confusion_matrix\nfrom sklearn import set_config\n\nset_config(display='diagram') ",
   "execution_count": 1,
   "outputs": []
  },
  {
   "cell_type": "code",
   "metadata": {
    "tags": [],
    "cell_id": "00001-cff4cc2e-117c-461e-b5d6-717c61fc3f03",
    "deepnote_to_be_reexecuted": false,
    "source_hash": "7ede2159",
    "execution_start": 1620564122618,
    "execution_millis": 11,
    "deepnote_cell_type": "code"
   },
   "source": "df = pd.read_csv('heart.csv')",
   "execution_count": 2,
   "outputs": []
  },
  {
   "cell_type": "code",
   "metadata": {
    "tags": [],
    "cell_id": "00002-b0ead85e-2055-43fc-b4dd-c76a90d2d1b5",
    "deepnote_to_be_reexecuted": false,
    "source_hash": "c085b6ba",
    "execution_start": 1620564122662,
    "execution_millis": 26,
    "deepnote_cell_type": "code"
   },
   "source": "df.head()",
   "execution_count": 3,
   "outputs": [
    {
     "output_type": "execute_result",
     "execution_count": 3,
     "data": {
      "application/vnd.deepnote.dataframe.v2+json": {
       "row_count": 5,
       "column_count": 14,
       "columns": [
        {
         "name": "age",
         "dtype": "int64",
         "stats": {
          "unique_count": 5,
          "nan_count": 0,
          "min": "37",
          "max": "63",
          "histogram": [
           {
            "bin_start": 37,
            "bin_end": 39.6,
            "count": 1
           },
           {
            "bin_start": 39.6,
            "bin_end": 42.2,
            "count": 1
           },
           {
            "bin_start": 42.2,
            "bin_end": 44.8,
            "count": 0
           },
           {
            "bin_start": 44.8,
            "bin_end": 47.4,
            "count": 0
           },
           {
            "bin_start": 47.4,
            "bin_end": 50,
            "count": 0
           },
           {
            "bin_start": 50,
            "bin_end": 52.6,
            "count": 0
           },
           {
            "bin_start": 52.6,
            "bin_end": 55.2,
            "count": 0
           },
           {
            "bin_start": 55.2,
            "bin_end": 57.8,
            "count": 2
           },
           {
            "bin_start": 57.8,
            "bin_end": 60.400000000000006,
            "count": 0
           },
           {
            "bin_start": 60.400000000000006,
            "bin_end": 63,
            "count": 1
           }
          ]
         }
        },
        {
         "name": "sex",
         "dtype": "int64",
         "stats": {
          "unique_count": 2,
          "nan_count": 0,
          "min": "0",
          "max": "1",
          "histogram": [
           {
            "bin_start": 0,
            "bin_end": 0.1,
            "count": 2
           },
           {
            "bin_start": 0.1,
            "bin_end": 0.2,
            "count": 0
           },
           {
            "bin_start": 0.2,
            "bin_end": 0.30000000000000004,
            "count": 0
           },
           {
            "bin_start": 0.30000000000000004,
            "bin_end": 0.4,
            "count": 0
           },
           {
            "bin_start": 0.4,
            "bin_end": 0.5,
            "count": 0
           },
           {
            "bin_start": 0.5,
            "bin_end": 0.6000000000000001,
            "count": 0
           },
           {
            "bin_start": 0.6000000000000001,
            "bin_end": 0.7000000000000001,
            "count": 0
           },
           {
            "bin_start": 0.7000000000000001,
            "bin_end": 0.8,
            "count": 0
           },
           {
            "bin_start": 0.8,
            "bin_end": 0.9,
            "count": 0
           },
           {
            "bin_start": 0.9,
            "bin_end": 1,
            "count": 3
           }
          ]
         }
        },
        {
         "name": "cp",
         "dtype": "int64",
         "stats": {
          "unique_count": 4,
          "nan_count": 0,
          "min": "0",
          "max": "3",
          "histogram": [
           {
            "bin_start": 0,
            "bin_end": 0.3,
            "count": 1
           },
           {
            "bin_start": 0.3,
            "bin_end": 0.6,
            "count": 0
           },
           {
            "bin_start": 0.6,
            "bin_end": 0.8999999999999999,
            "count": 0
           },
           {
            "bin_start": 0.8999999999999999,
            "bin_end": 1.2,
            "count": 2
           },
           {
            "bin_start": 1.2,
            "bin_end": 1.5,
            "count": 0
           },
           {
            "bin_start": 1.5,
            "bin_end": 1.7999999999999998,
            "count": 0
           },
           {
            "bin_start": 1.7999999999999998,
            "bin_end": 2.1,
            "count": 1
           },
           {
            "bin_start": 2.1,
            "bin_end": 2.4,
            "count": 0
           },
           {
            "bin_start": 2.4,
            "bin_end": 2.6999999999999997,
            "count": 0
           },
           {
            "bin_start": 2.6999999999999997,
            "bin_end": 3,
            "count": 1
           }
          ]
         }
        },
        {
         "name": "trestbps",
         "dtype": "int64",
         "stats": {
          "unique_count": 3,
          "nan_count": 0,
          "min": "120",
          "max": "145",
          "histogram": [
           {
            "bin_start": 120,
            "bin_end": 122.5,
            "count": 2
           },
           {
            "bin_start": 122.5,
            "bin_end": 125,
            "count": 0
           },
           {
            "bin_start": 125,
            "bin_end": 127.5,
            "count": 0
           },
           {
            "bin_start": 127.5,
            "bin_end": 130,
            "count": 0
           },
           {
            "bin_start": 130,
            "bin_end": 132.5,
            "count": 2
           },
           {
            "bin_start": 132.5,
            "bin_end": 135,
            "count": 0
           },
           {
            "bin_start": 135,
            "bin_end": 137.5,
            "count": 0
           },
           {
            "bin_start": 137.5,
            "bin_end": 140,
            "count": 0
           },
           {
            "bin_start": 140,
            "bin_end": 142.5,
            "count": 0
           },
           {
            "bin_start": 142.5,
            "bin_end": 145,
            "count": 1
           }
          ]
         }
        },
        {
         "name": "chol",
         "dtype": "int64",
         "stats": {
          "unique_count": 5,
          "nan_count": 0,
          "min": "204",
          "max": "354",
          "histogram": [
           {
            "bin_start": 204,
            "bin_end": 219,
            "count": 1
           },
           {
            "bin_start": 219,
            "bin_end": 234,
            "count": 1
           },
           {
            "bin_start": 234,
            "bin_end": 249,
            "count": 1
           },
           {
            "bin_start": 249,
            "bin_end": 264,
            "count": 1
           },
           {
            "bin_start": 264,
            "bin_end": 279,
            "count": 0
           },
           {
            "bin_start": 279,
            "bin_end": 294,
            "count": 0
           },
           {
            "bin_start": 294,
            "bin_end": 309,
            "count": 0
           },
           {
            "bin_start": 309,
            "bin_end": 324,
            "count": 0
           },
           {
            "bin_start": 324,
            "bin_end": 339,
            "count": 0
           },
           {
            "bin_start": 339,
            "bin_end": 354,
            "count": 1
           }
          ]
         }
        },
        {
         "name": "fbs",
         "dtype": "int64",
         "stats": {
          "unique_count": 2,
          "nan_count": 0,
          "min": "0",
          "max": "1",
          "histogram": [
           {
            "bin_start": 0,
            "bin_end": 0.1,
            "count": 4
           },
           {
            "bin_start": 0.1,
            "bin_end": 0.2,
            "count": 0
           },
           {
            "bin_start": 0.2,
            "bin_end": 0.30000000000000004,
            "count": 0
           },
           {
            "bin_start": 0.30000000000000004,
            "bin_end": 0.4,
            "count": 0
           },
           {
            "bin_start": 0.4,
            "bin_end": 0.5,
            "count": 0
           },
           {
            "bin_start": 0.5,
            "bin_end": 0.6000000000000001,
            "count": 0
           },
           {
            "bin_start": 0.6000000000000001,
            "bin_end": 0.7000000000000001,
            "count": 0
           },
           {
            "bin_start": 0.7000000000000001,
            "bin_end": 0.8,
            "count": 0
           },
           {
            "bin_start": 0.8,
            "bin_end": 0.9,
            "count": 0
           },
           {
            "bin_start": 0.9,
            "bin_end": 1,
            "count": 1
           }
          ]
         }
        },
        {
         "name": "restecg",
         "dtype": "int64",
         "stats": {
          "unique_count": 2,
          "nan_count": 0,
          "min": "0",
          "max": "1",
          "histogram": [
           {
            "bin_start": 0,
            "bin_end": 0.1,
            "count": 2
           },
           {
            "bin_start": 0.1,
            "bin_end": 0.2,
            "count": 0
           },
           {
            "bin_start": 0.2,
            "bin_end": 0.30000000000000004,
            "count": 0
           },
           {
            "bin_start": 0.30000000000000004,
            "bin_end": 0.4,
            "count": 0
           },
           {
            "bin_start": 0.4,
            "bin_end": 0.5,
            "count": 0
           },
           {
            "bin_start": 0.5,
            "bin_end": 0.6000000000000001,
            "count": 0
           },
           {
            "bin_start": 0.6000000000000001,
            "bin_end": 0.7000000000000001,
            "count": 0
           },
           {
            "bin_start": 0.7000000000000001,
            "bin_end": 0.8,
            "count": 0
           },
           {
            "bin_start": 0.8,
            "bin_end": 0.9,
            "count": 0
           },
           {
            "bin_start": 0.9,
            "bin_end": 1,
            "count": 3
           }
          ]
         }
        },
        {
         "name": "thalach",
         "dtype": "int64",
         "stats": {
          "unique_count": 5,
          "nan_count": 0,
          "min": "150",
          "max": "187",
          "histogram": [
           {
            "bin_start": 150,
            "bin_end": 153.7,
            "count": 1
           },
           {
            "bin_start": 153.7,
            "bin_end": 157.4,
            "count": 0
           },
           {
            "bin_start": 157.4,
            "bin_end": 161.1,
            "count": 0
           },
           {
            "bin_start": 161.1,
            "bin_end": 164.8,
            "count": 1
           },
           {
            "bin_start": 164.8,
            "bin_end": 168.5,
            "count": 0
           },
           {
            "bin_start": 168.5,
            "bin_end": 172.2,
            "count": 1
           },
           {
            "bin_start": 172.2,
            "bin_end": 175.9,
            "count": 0
           },
           {
            "bin_start": 175.9,
            "bin_end": 179.6,
            "count": 1
           },
           {
            "bin_start": 179.6,
            "bin_end": 183.3,
            "count": 0
           },
           {
            "bin_start": 183.3,
            "bin_end": 187,
            "count": 1
           }
          ]
         }
        },
        {
         "name": "exang",
         "dtype": "int64",
         "stats": {
          "unique_count": 2,
          "nan_count": 0,
          "min": "0",
          "max": "1",
          "histogram": [
           {
            "bin_start": 0,
            "bin_end": 0.1,
            "count": 4
           },
           {
            "bin_start": 0.1,
            "bin_end": 0.2,
            "count": 0
           },
           {
            "bin_start": 0.2,
            "bin_end": 0.30000000000000004,
            "count": 0
           },
           {
            "bin_start": 0.30000000000000004,
            "bin_end": 0.4,
            "count": 0
           },
           {
            "bin_start": 0.4,
            "bin_end": 0.5,
            "count": 0
           },
           {
            "bin_start": 0.5,
            "bin_end": 0.6000000000000001,
            "count": 0
           },
           {
            "bin_start": 0.6000000000000001,
            "bin_end": 0.7000000000000001,
            "count": 0
           },
           {
            "bin_start": 0.7000000000000001,
            "bin_end": 0.8,
            "count": 0
           },
           {
            "bin_start": 0.8,
            "bin_end": 0.9,
            "count": 0
           },
           {
            "bin_start": 0.9,
            "bin_end": 1,
            "count": 1
           }
          ]
         }
        },
        {
         "name": "oldpeak",
         "dtype": "float64",
         "stats": {
          "unique_count": 5,
          "nan_count": 0,
          "min": "0.6",
          "max": "3.5",
          "histogram": [
           {
            "bin_start": 0.6,
            "bin_end": 0.8899999999999999,
            "count": 2
           },
           {
            "bin_start": 0.8899999999999999,
            "bin_end": 1.18,
            "count": 0
           },
           {
            "bin_start": 1.18,
            "bin_end": 1.4699999999999998,
            "count": 1
           },
           {
            "bin_start": 1.4699999999999998,
            "bin_end": 1.7599999999999998,
            "count": 0
           },
           {
            "bin_start": 1.7599999999999998,
            "bin_end": 2.05,
            "count": 0
           },
           {
            "bin_start": 2.05,
            "bin_end": 2.34,
            "count": 1
           },
           {
            "bin_start": 2.34,
            "bin_end": 2.63,
            "count": 0
           },
           {
            "bin_start": 2.63,
            "bin_end": 2.92,
            "count": 0
           },
           {
            "bin_start": 2.92,
            "bin_end": 3.21,
            "count": 0
           },
           {
            "bin_start": 3.21,
            "bin_end": 3.5,
            "count": 1
           }
          ]
         }
        },
        {
         "name": "slope",
         "dtype": "int64",
         "stats": {
          "unique_count": 2,
          "nan_count": 0,
          "min": "0",
          "max": "2",
          "histogram": [
           {
            "bin_start": 0,
            "bin_end": 0.2,
            "count": 2
           },
           {
            "bin_start": 0.2,
            "bin_end": 0.4,
            "count": 0
           },
           {
            "bin_start": 0.4,
            "bin_end": 0.6000000000000001,
            "count": 0
           },
           {
            "bin_start": 0.6000000000000001,
            "bin_end": 0.8,
            "count": 0
           },
           {
            "bin_start": 0.8,
            "bin_end": 1,
            "count": 0
           },
           {
            "bin_start": 1,
            "bin_end": 1.2000000000000002,
            "count": 0
           },
           {
            "bin_start": 1.2000000000000002,
            "bin_end": 1.4000000000000001,
            "count": 0
           },
           {
            "bin_start": 1.4000000000000001,
            "bin_end": 1.6,
            "count": 0
           },
           {
            "bin_start": 1.6,
            "bin_end": 1.8,
            "count": 0
           },
           {
            "bin_start": 1.8,
            "bin_end": 2,
            "count": 3
           }
          ]
         }
        },
        {
         "name": "ca",
         "dtype": "int64",
         "stats": {
          "unique_count": 1,
          "nan_count": 0,
          "min": "0",
          "max": "0",
          "histogram": [
           {
            "bin_start": -0.5,
            "bin_end": -0.4,
            "count": 0
           },
           {
            "bin_start": -0.4,
            "bin_end": -0.3,
            "count": 0
           },
           {
            "bin_start": -0.3,
            "bin_end": -0.19999999999999996,
            "count": 0
           },
           {
            "bin_start": -0.19999999999999996,
            "bin_end": -0.09999999999999998,
            "count": 0
           },
           {
            "bin_start": -0.09999999999999998,
            "bin_end": 0,
            "count": 0
           },
           {
            "bin_start": 0,
            "bin_end": 0.10000000000000009,
            "count": 5
           },
           {
            "bin_start": 0.10000000000000009,
            "bin_end": 0.20000000000000007,
            "count": 0
           },
           {
            "bin_start": 0.20000000000000007,
            "bin_end": 0.30000000000000004,
            "count": 0
           },
           {
            "bin_start": 0.30000000000000004,
            "bin_end": 0.4,
            "count": 0
           },
           {
            "bin_start": 0.4,
            "bin_end": 0.5,
            "count": 0
           }
          ]
         }
        },
        {
         "name": "thal",
         "dtype": "int64",
         "stats": {
          "unique_count": 2,
          "nan_count": 0,
          "min": "1",
          "max": "2",
          "histogram": [
           {
            "bin_start": 1,
            "bin_end": 1.1,
            "count": 1
           },
           {
            "bin_start": 1.1,
            "bin_end": 1.2,
            "count": 0
           },
           {
            "bin_start": 1.2,
            "bin_end": 1.3,
            "count": 0
           },
           {
            "bin_start": 1.3,
            "bin_end": 1.4,
            "count": 0
           },
           {
            "bin_start": 1.4,
            "bin_end": 1.5,
            "count": 0
           },
           {
            "bin_start": 1.5,
            "bin_end": 1.6,
            "count": 0
           },
           {
            "bin_start": 1.6,
            "bin_end": 1.7000000000000002,
            "count": 0
           },
           {
            "bin_start": 1.7000000000000002,
            "bin_end": 1.8,
            "count": 0
           },
           {
            "bin_start": 1.8,
            "bin_end": 1.9,
            "count": 0
           },
           {
            "bin_start": 1.9,
            "bin_end": 2,
            "count": 4
           }
          ]
         }
        },
        {
         "name": "target",
         "dtype": "int64",
         "stats": {
          "unique_count": 1,
          "nan_count": 0,
          "min": "1",
          "max": "1",
          "histogram": [
           {
            "bin_start": 0.5,
            "bin_end": 0.6,
            "count": 0
           },
           {
            "bin_start": 0.6,
            "bin_end": 0.7,
            "count": 0
           },
           {
            "bin_start": 0.7,
            "bin_end": 0.8,
            "count": 0
           },
           {
            "bin_start": 0.8,
            "bin_end": 0.9,
            "count": 0
           },
           {
            "bin_start": 0.9,
            "bin_end": 1,
            "count": 0
           },
           {
            "bin_start": 1,
            "bin_end": 1.1,
            "count": 5
           },
           {
            "bin_start": 1.1,
            "bin_end": 1.2000000000000002,
            "count": 0
           },
           {
            "bin_start": 1.2000000000000002,
            "bin_end": 1.3,
            "count": 0
           },
           {
            "bin_start": 1.3,
            "bin_end": 1.4,
            "count": 0
           },
           {
            "bin_start": 1.4,
            "bin_end": 1.5,
            "count": 0
           }
          ]
         }
        },
        {
         "name": "_deepnote_index_column",
         "dtype": "int64"
        }
       ],
       "rows_top": [
        {
         "age": 63,
         "sex": 1,
         "cp": 3,
         "trestbps": 145,
         "chol": 233,
         "fbs": 1,
         "restecg": 0,
         "thalach": 150,
         "exang": 0,
         "oldpeak": 2.3,
         "slope": 0,
         "ca": 0,
         "thal": 1,
         "target": 1,
         "_deepnote_index_column": 0
        },
        {
         "age": 37,
         "sex": 1,
         "cp": 2,
         "trestbps": 130,
         "chol": 250,
         "fbs": 0,
         "restecg": 1,
         "thalach": 187,
         "exang": 0,
         "oldpeak": 3.5,
         "slope": 0,
         "ca": 0,
         "thal": 2,
         "target": 1,
         "_deepnote_index_column": 1
        },
        {
         "age": 41,
         "sex": 0,
         "cp": 1,
         "trestbps": 130,
         "chol": 204,
         "fbs": 0,
         "restecg": 0,
         "thalach": 172,
         "exang": 0,
         "oldpeak": 1.4,
         "slope": 2,
         "ca": 0,
         "thal": 2,
         "target": 1,
         "_deepnote_index_column": 2
        },
        {
         "age": 56,
         "sex": 1,
         "cp": 1,
         "trestbps": 120,
         "chol": 236,
         "fbs": 0,
         "restecg": 1,
         "thalach": 178,
         "exang": 0,
         "oldpeak": 0.8,
         "slope": 2,
         "ca": 0,
         "thal": 2,
         "target": 1,
         "_deepnote_index_column": 3
        },
        {
         "age": 57,
         "sex": 0,
         "cp": 0,
         "trestbps": 120,
         "chol": 354,
         "fbs": 0,
         "restecg": 1,
         "thalach": 163,
         "exang": 1,
         "oldpeak": 0.6,
         "slope": 2,
         "ca": 0,
         "thal": 2,
         "target": 1,
         "_deepnote_index_column": 4
        }
       ],
       "rows_bottom": null
      },
      "text/plain": "   age  sex  cp  trestbps  chol  fbs  restecg  thalach  exang  oldpeak  slope  \\\n0   63    1   3       145   233    1        0      150      0      2.3      0   \n1   37    1   2       130   250    0        1      187      0      3.5      0   \n2   41    0   1       130   204    0        0      172      0      1.4      2   \n3   56    1   1       120   236    0        1      178      0      0.8      2   \n4   57    0   0       120   354    0        1      163      1      0.6      2   \n\n   ca  thal  target  \n0   0     1       1  \n1   0     2       1  \n2   0     2       1  \n3   0     2       1  \n4   0     2       1  ",
      "text/html": "<div>\n<style scoped>\n    .dataframe tbody tr th:only-of-type {\n        vertical-align: middle;\n    }\n\n    .dataframe tbody tr th {\n        vertical-align: top;\n    }\n\n    .dataframe thead th {\n        text-align: right;\n    }\n</style>\n<table border=\"1\" class=\"dataframe\">\n  <thead>\n    <tr style=\"text-align: right;\">\n      <th></th>\n      <th>age</th>\n      <th>sex</th>\n      <th>cp</th>\n      <th>trestbps</th>\n      <th>chol</th>\n      <th>fbs</th>\n      <th>restecg</th>\n      <th>thalach</th>\n      <th>exang</th>\n      <th>oldpeak</th>\n      <th>slope</th>\n      <th>ca</th>\n      <th>thal</th>\n      <th>target</th>\n    </tr>\n  </thead>\n  <tbody>\n    <tr>\n      <th>0</th>\n      <td>63</td>\n      <td>1</td>\n      <td>3</td>\n      <td>145</td>\n      <td>233</td>\n      <td>1</td>\n      <td>0</td>\n      <td>150</td>\n      <td>0</td>\n      <td>2.3</td>\n      <td>0</td>\n      <td>0</td>\n      <td>1</td>\n      <td>1</td>\n    </tr>\n    <tr>\n      <th>1</th>\n      <td>37</td>\n      <td>1</td>\n      <td>2</td>\n      <td>130</td>\n      <td>250</td>\n      <td>0</td>\n      <td>1</td>\n      <td>187</td>\n      <td>0</td>\n      <td>3.5</td>\n      <td>0</td>\n      <td>0</td>\n      <td>2</td>\n      <td>1</td>\n    </tr>\n    <tr>\n      <th>2</th>\n      <td>41</td>\n      <td>0</td>\n      <td>1</td>\n      <td>130</td>\n      <td>204</td>\n      <td>0</td>\n      <td>0</td>\n      <td>172</td>\n      <td>0</td>\n      <td>1.4</td>\n      <td>2</td>\n      <td>0</td>\n      <td>2</td>\n      <td>1</td>\n    </tr>\n    <tr>\n      <th>3</th>\n      <td>56</td>\n      <td>1</td>\n      <td>1</td>\n      <td>120</td>\n      <td>236</td>\n      <td>0</td>\n      <td>1</td>\n      <td>178</td>\n      <td>0</td>\n      <td>0.8</td>\n      <td>2</td>\n      <td>0</td>\n      <td>2</td>\n      <td>1</td>\n    </tr>\n    <tr>\n      <th>4</th>\n      <td>57</td>\n      <td>0</td>\n      <td>0</td>\n      <td>120</td>\n      <td>354</td>\n      <td>0</td>\n      <td>1</td>\n      <td>163</td>\n      <td>1</td>\n      <td>0.6</td>\n      <td>2</td>\n      <td>0</td>\n      <td>2</td>\n      <td>1</td>\n    </tr>\n  </tbody>\n</table>\n</div>"
     },
     "metadata": {}
    }
   ]
  },
  {
   "cell_type": "code",
   "metadata": {
    "tags": [],
    "cell_id": "00004-c1693800-ca54-410b-bb14-414592688835",
    "deepnote_to_be_reexecuted": false,
    "source_hash": "f3dd26da",
    "execution_start": 1620564122691,
    "execution_millis": 19,
    "deepnote_cell_type": "code"
   },
   "source": "df.isnull().sum()",
   "execution_count": 4,
   "outputs": [
    {
     "output_type": "execute_result",
     "execution_count": 4,
     "data": {
      "text/plain": "age         0\nsex         0\ncp          0\ntrestbps    0\nchol        0\nfbs         0\nrestecg     0\nthalach     0\nexang       0\noldpeak     0\nslope       0\nca          0\nthal        0\ntarget      0\ndtype: int64"
     },
     "metadata": {}
    }
   ]
  },
  {
   "cell_type": "code",
   "metadata": {
    "tags": [],
    "cell_id": "00003-431908e3-2a38-4615-bf84-0dc401adf92f",
    "deepnote_to_be_reexecuted": false,
    "source_hash": "25d43fa0",
    "execution_start": 1620564122697,
    "execution_millis": 13,
    "deepnote_cell_type": "code"
   },
   "source": "df.columns",
   "execution_count": 5,
   "outputs": [
    {
     "output_type": "execute_result",
     "execution_count": 5,
     "data": {
      "text/plain": "Index(['age', 'sex', 'cp', 'trestbps', 'chol', 'fbs', 'restecg', 'thalach',\n       'exang', 'oldpeak', 'slope', 'ca', 'thal', 'target'],\n      dtype='object')"
     },
     "metadata": {}
    }
   ]
  },
  {
   "cell_type": "code",
   "metadata": {
    "tags": [],
    "cell_id": "00005-488ac0bf-404e-4672-b4d5-0435fabebfdf",
    "deepnote_to_be_reexecuted": false,
    "source_hash": "ed8c7fa9",
    "execution_start": 1620564122706,
    "execution_millis": 8,
    "deepnote_cell_type": "code"
   },
   "source": "df['chol_fbs'] = df.chol * df.fbs",
   "execution_count": 6,
   "outputs": []
  },
  {
   "cell_type": "code",
   "metadata": {
    "tags": [],
    "cell_id": "00006-bfc5d1ed-d3b2-4ce8-8210-19c3a9ad1551",
    "deepnote_to_be_reexecuted": false,
    "source_hash": "805a6da0",
    "execution_start": 1620564122718,
    "execution_millis": 621,
    "deepnote_cell_type": "code"
   },
   "source": "import missingno\nmissingno.matrix(df, figsize = (20,15))\nplt.show()",
   "execution_count": 7,
   "outputs": [
    {
     "data": {
      "text/plain": "<Figure size 1440x1080 with 2 Axes>",
      "image/png": "[encoded data removed]"
     },
     "metadata": {
      "needs_background": "light",
      "image/png": {
       "width": 1193,
       "height": 904
      }
     },
     "output_type": "display_data"
    }
   ]
  },
  {
   "cell_type": "markdown",
   "source": "# Data Augmentation",
   "metadata": {
    "tags": [],
    "cell_id": "00010-8d687862-d773-4ead-a22b-dd5e8ce27b7c",
    "deepnote_cell_type": "text-cell-h1"
   }
  },
  {
   "cell_type": "code",
   "metadata": {
    "tags": [],
    "cell_id": "00009-c7444842-3445-4f62-806f-28309672efd4",
    "deepnote_to_be_reexecuted": false,
    "source_hash": "75d0b12b",
    "execution_start": 1620564123325,
    "execution_millis": 4,
    "deepnote_cell_type": "code"
   },
   "source": "#Data Augmentation \nimport numpy as np\nage=df['age']\nsex=df['sex']\ncp=df['cp']\ntrestbps=df['trestbps']\nchol=df['chol']\nfbs=df['fbs']\nrestecg=df['restecg']\nthalach=df['thalach']\nexang=df['exang']\noldpeak=df['oldpeak']\nslope=df['slope']\nca=df['ca']\nthal=df['thal']\ntarget=df['target']\n\nchol_fbs = df['chol_fbs']\n",
   "execution_count": 8,
   "outputs": []
  },
  {
   "cell_type": "code",
   "metadata": {
    "tags": [],
    "cell_id": "00011-dd9db4d0-ec5e-4eeb-8c15-0f7341fcc712",
    "deepnote_to_be_reexecuted": false,
    "source_hash": "47aa8c9a",
    "execution_start": 1620564123331,
    "execution_millis": 13,
    "deepnote_cell_type": "code"
   },
   "source": "age_s=np.std(age)\nsex_s=np.std(sex)\ncp_s=np.std(cp)\ntrestbps_s=np.std(trestbps)\nchol_s=np.std(chol)\nfbs_s=np.std(fbs)\nrestecg_s=np.std(restecg)\nthalach_s=np.std(thalach)\nexang_s=np.std(exang)\noldpeak_s=np.std(oldpeak)\nslope_s=np.std(slope)\nca_s=np.std(ca)\nthal_s=np.std(thal)\ntarget_s=np.std(target)\n\nchol_fbs_s = np.std(chol_fbs)\n\ndataset=[]",
   "execution_count": 9,
   "outputs": []
  },
  {
   "cell_type": "markdown",
   "source": "### Updated ",
   "metadata": {
    "tags": [],
    "cell_id": "00014-dfdfdd28-6b01-43a5-97c2-68ee8040a765",
    "deepnote_cell_type": "markdown"
   }
  },
  {
   "cell_type": "code",
   "metadata": {
    "tags": [],
    "cell_id": "00015-48523844-28ef-426c-aaf9-4cf19ee4ec2a",
    "deepnote_to_be_reexecuted": false,
    "source_hash": "58fa5dae",
    "execution_start": 1620564123345,
    "execution_millis": 18,
    "deepnote_cell_type": "code"
   },
   "source": "df.target.sum()",
   "execution_count": 10,
   "outputs": [
    {
     "output_type": "execute_result",
     "execution_count": 10,
     "data": {
      "text/plain": "165"
     },
     "metadata": {}
    }
   ]
  },
  {
   "cell_type": "code",
   "metadata": {
    "tags": [],
    "cell_id": "00015-ad59464c-e8a3-40ca-a25b-8de722fcd65b",
    "deepnote_to_be_reexecuted": false,
    "source_hash": "9003bedb",
    "execution_start": 1620564123367,
    "execution_millis": 115,
    "deepnote_cell_type": "code"
   },
   "source": "dataset=[]\nnp.random.seed(0)\nfor _ in range(1):\n\n    for _,row in df.iterrows():\n        temp={\n            \"age\": round(row['age']+np.random.uniform(age_s),0).astype(int),\n            \n            #\"sex\": round(row['sex']+np.random.uniform(sex_s),0),\n            \"sex\": int(row['sex']+np.random.randint(0,1)),\n            \n            \"cp\": int(row['cp']+np.random.randint(0,3)),\n            \"trestbps\": int(row['trestbps']+np.random.uniform(trestbps_s)),\n            \"chol\": int(row['chol']+np.random.uniform(chol_s)),\n            \"fbs\": int(row['fbs']+np.random.randint(0,1)),\n            \"restecg\": int(row['restecg']+np.random.randint(0,2)),\n            \"thalach\": int(row['thalach']+np.random.uniform(thalach_s)),\n            \"exang\": int(row['exang']+np.random.randint(0,1)),\n            \"oldpeak\": round(row['oldpeak']+np.random.uniform(oldpeak_s),1),\n            \"slope\": int(row['slope']+np.random.uniform(oldpeak_s)),\n            \"ca\": int(row['ca']+np.random.randint(0,4)),\n            \"thal\": int(row['thal']+np.random.randint(0,3)),\n\n            \"chol_fbs\": round(row['chol_fbs']+np.random.uniform(chol_fbs_s),0).astype(int),\n\n            \"target\": int(round(row['target']+np.random.uniform(target_s),0)),\n            \"target\": int(row['target']+np.random.randint(0,1)),\n          \n        }\n        dataset.append(temp)\n        \n\nprint(len(dataset),\"augmented data created.\")\ndf_aug=pd.DataFrame(dataset)\ndf_aug",
   "execution_count": 11,
   "outputs": [
    {
     "name": "stdout",
     "text": "303 augmented data created.\n",
     "output_type": "stream"
    },
    {
     "output_type": "execute_result",
     "execution_count": 11,
     "data": {
      "application/vnd.deepnote.dataframe.v2+json": {
       "row_count": 303,
       "column_count": 15,
       "columns": [
        {
         "name": "age",
         "dtype": "int64",
         "stats": {
          "unique_count": 44,
          "nan_count": 0,
          "min": "34",
          "max": "84",
          "histogram": [
           {
            "bin_start": 34,
            "bin_end": 39,
            "count": 3
           },
           {
            "bin_start": 39,
            "bin_end": 44,
            "count": 14
           },
           {
            "bin_start": 44,
            "bin_end": 49,
            "count": 32
           },
           {
            "bin_start": 49,
            "bin_end": 54,
            "count": 36
           },
           {
            "bin_start": 54,
            "bin_end": 59,
            "count": 39
           },
           {
            "bin_start": 59,
            "bin_end": 64,
            "count": 74
           },
           {
            "bin_start": 64,
            "bin_end": 69,
            "count": 55
           },
           {
            "bin_start": 69,
            "bin_end": 74,
            "count": 35
           },
           {
            "bin_start": 74,
            "bin_end": 79,
            "count": 12
           },
           {
            "bin_start": 79,
            "bin_end": 84,
            "count": 3
           }
          ]
         }
        },
        {
         "name": "sex",
         "dtype": "int64",
         "stats": {
          "unique_count": 2,
          "nan_count": 0,
          "min": "0",
          "max": "1",
          "histogram": [
           {
            "bin_start": 0,
            "bin_end": 0.1,
            "count": 96
           },
           {
            "bin_start": 0.1,
            "bin_end": 0.2,
            "count": 0
           },
           {
            "bin_start": 0.2,
            "bin_end": 0.30000000000000004,
            "count": 0
           },
           {
            "bin_start": 0.30000000000000004,
            "bin_end": 0.4,
            "count": 0
           },
           {
            "bin_start": 0.4,
            "bin_end": 0.5,
            "count": 0
           },
           {
            "bin_start": 0.5,
            "bin_end": 0.6000000000000001,
            "count": 0
           },
           {
            "bin_start": 0.6000000000000001,
            "bin_end": 0.7000000000000001,
            "count": 0
           },
           {
            "bin_start": 0.7000000000000001,
            "bin_end": 0.8,
            "count": 0
           },
           {
            "bin_start": 0.8,
            "bin_end": 0.9,
            "count": 0
           },
           {
            "bin_start": 0.9,
            "bin_end": 1,
            "count": 207
           }
          ]
         }
        },
        {
         "name": "cp",
         "dtype": "int64",
         "stats": {
          "unique_count": 6,
          "nan_count": 0,
          "min": "0",
          "max": "5",
          "histogram": [
           {
            "bin_start": 0,
            "bin_end": 0.5,
            "count": 50
           },
           {
            "bin_start": 0.5,
            "bin_end": 1,
            "count": 0
           },
           {
            "bin_start": 1,
            "bin_end": 1.5,
            "count": 71
           },
           {
            "bin_start": 1.5,
            "bin_end": 2,
            "count": 0
           },
           {
            "bin_start": 2,
            "bin_end": 2.5,
            "count": 89
           },
           {
            "bin_start": 2.5,
            "bin_end": 3,
            "count": 0
           },
           {
            "bin_start": 3,
            "bin_end": 3.5,
            "count": 50
           },
           {
            "bin_start": 3.5,
            "bin_end": 4,
            "count": 0
           },
           {
            "bin_start": 4,
            "bin_end": 4.5,
            "count": 37
           },
           {
            "bin_start": 4.5,
            "bin_end": 5,
            "count": 6
           }
          ]
         }
        },
        {
         "name": "trestbps",
         "dtype": "int64",
         "stats": {
          "unique_count": 73,
          "nan_count": 0,
          "min": "101",
          "max": "210",
          "histogram": [
           {
            "bin_start": 101,
            "bin_end": 111.9,
            "count": 8
           },
           {
            "bin_start": 111.9,
            "bin_end": 122.8,
            "count": 41
           },
           {
            "bin_start": 122.8,
            "bin_end": 133.7,
            "count": 63
           },
           {
            "bin_start": 133.7,
            "bin_end": 144.6,
            "count": 82
           },
           {
            "bin_start": 144.6,
            "bin_end": 155.5,
            "count": 55
           },
           {
            "bin_start": 155.5,
            "bin_end": 166.4,
            "count": 34
           },
           {
            "bin_start": 166.4,
            "bin_end": 177.3,
            "count": 9
           },
           {
            "bin_start": 177.3,
            "bin_end": 188.2,
            "count": 5
           },
           {
            "bin_start": 188.2,
            "bin_end": 199.10000000000002,
            "count": 5
           },
           {
            "bin_start": 199.10000000000002,
            "bin_end": 210,
            "count": 1
           }
          ]
         }
        },
        {
         "name": "chol",
         "dtype": "int64",
         "stats": {
          "unique_count": 154,
          "nan_count": 0,
          "min": "143",
          "max": "599",
          "histogram": [
           {
            "bin_start": 143,
            "bin_end": 188.6,
            "count": 13
           },
           {
            "bin_start": 188.6,
            "bin_end": 234.2,
            "count": 57
           },
           {
            "bin_start": 234.2,
            "bin_end": 279.8,
            "count": 116
           },
           {
            "bin_start": 279.8,
            "bin_end": 325.4,
            "count": 68
           },
           {
            "bin_start": 325.4,
            "bin_end": 371,
            "count": 39
           },
           {
            "bin_start": 371,
            "bin_end": 416.6,
            "count": 6
           },
           {
            "bin_start": 416.6,
            "bin_end": 462.2,
            "count": 3
           },
           {
            "bin_start": 462.2,
            "bin_end": 507.8,
            "count": 0
           },
           {
            "bin_start": 507.8,
            "bin_end": 553.4000000000001,
            "count": 0
           },
           {
            "bin_start": 553.4000000000001,
            "bin_end": 599,
            "count": 1
           }
          ]
         }
        },
        {
         "name": "fbs",
         "dtype": "int64",
         "stats": {
          "unique_count": 2,
          "nan_count": 0,
          "min": "0",
          "max": "1",
          "histogram": [
           {
            "bin_start": 0,
            "bin_end": 0.1,
            "count": 258
           },
           {
            "bin_start": 0.1,
            "bin_end": 0.2,
            "count": 0
           },
           {
            "bin_start": 0.2,
            "bin_end": 0.30000000000000004,
            "count": 0
           },
           {
            "bin_start": 0.30000000000000004,
            "bin_end": 0.4,
            "count": 0
           },
           {
            "bin_start": 0.4,
            "bin_end": 0.5,
            "count": 0
           },
           {
            "bin_start": 0.5,
            "bin_end": 0.6000000000000001,
            "count": 0
           },
           {
            "bin_start": 0.6000000000000001,
            "bin_end": 0.7000000000000001,
            "count": 0
           },
           {
            "bin_start": 0.7000000000000001,
            "bin_end": 0.8,
            "count": 0
           },
           {
            "bin_start": 0.8,
            "bin_end": 0.9,
            "count": 0
           },
           {
            "bin_start": 0.9,
            "bin_end": 1,
            "count": 45
           }
          ]
         }
        },
        {
         "name": "restecg",
         "dtype": "int64",
         "stats": {
          "unique_count": 4,
          "nan_count": 0,
          "min": "0",
          "max": "3",
          "histogram": [
           {
            "bin_start": 0,
            "bin_end": 0.3,
            "count": 72
           },
           {
            "bin_start": 0.3,
            "bin_end": 0.6,
            "count": 0
           },
           {
            "bin_start": 0.6,
            "bin_end": 0.8999999999999999,
            "count": 0
           },
           {
            "bin_start": 0.8999999999999999,
            "bin_end": 1.2,
            "count": 150
           },
           {
            "bin_start": 1.2,
            "bin_end": 1.5,
            "count": 0
           },
           {
            "bin_start": 1.5,
            "bin_end": 1.7999999999999998,
            "count": 0
           },
           {
            "bin_start": 1.7999999999999998,
            "bin_end": 2.1,
            "count": 79
           },
           {
            "bin_start": 2.1,
            "bin_end": 2.4,
            "count": 0
           },
           {
            "bin_start": 2.4,
            "bin_end": 2.6999999999999997,
            "count": 0
           },
           {
            "bin_start": 2.6999999999999997,
            "bin_end": 3,
            "count": 2
           }
          ]
         }
        },
        {
         "name": "thalach",
         "dtype": "int64",
         "stats": {
          "unique_count": 94,
          "nan_count": 0,
          "min": "87",
          "max": "214",
          "histogram": [
           {
            "bin_start": 87,
            "bin_end": 99.7,
            "count": 2
           },
           {
            "bin_start": 99.7,
            "bin_end": 112.4,
            "count": 8
           },
           {
            "bin_start": 112.4,
            "bin_end": 125.1,
            "count": 18
           },
           {
            "bin_start": 125.1,
            "bin_end": 137.8,
            "count": 29
           },
           {
            "bin_start": 137.8,
            "bin_end": 150.5,
            "count": 35
           },
           {
            "bin_start": 150.5,
            "bin_end": 163.2,
            "count": 60
           },
           {
            "bin_start": 163.2,
            "bin_end": 175.89999999999998,
            "count": 64
           },
           {
            "bin_start": 175.89999999999998,
            "bin_end": 188.6,
            "count": 57
           },
           {
            "bin_start": 188.6,
            "bin_end": 201.3,
            "count": 26
           },
           {
            "bin_start": 201.3,
            "bin_end": 214,
            "count": 4
           }
          ]
         }
        },
        {
         "name": "exang",
         "dtype": "int64",
         "stats": {
          "unique_count": 2,
          "nan_count": 0,
          "min": "0",
          "max": "1",
          "histogram": [
           {
            "bin_start": 0,
            "bin_end": 0.1,
            "count": 204
           },
           {
            "bin_start": 0.1,
            "bin_end": 0.2,
            "count": 0
           },
           {
            "bin_start": 0.2,
            "bin_end": 0.30000000000000004,
            "count": 0
           },
           {
            "bin_start": 0.30000000000000004,
            "bin_end": 0.4,
            "count": 0
           },
           {
            "bin_start": 0.4,
            "bin_end": 0.5,
            "count": 0
           },
           {
            "bin_start": 0.5,
            "bin_end": 0.6000000000000001,
            "count": 0
           },
           {
            "bin_start": 0.6000000000000001,
            "bin_end": 0.7000000000000001,
            "count": 0
           },
           {
            "bin_start": 0.7000000000000001,
            "bin_end": 0.8,
            "count": 0
           },
           {
            "bin_start": 0.8,
            "bin_end": 0.9,
            "count": 0
           },
           {
            "bin_start": 0.9,
            "bin_end": 1,
            "count": 99
           }
          ]
         }
        },
        {
         "name": "oldpeak",
         "dtype": "float64",
         "stats": {
          "unique_count": 43,
          "nan_count": 0,
          "min": "1.0",
          "max": "7.3",
          "histogram": [
           {
            "bin_start": 1,
            "bin_end": 1.63,
            "count": 137
           },
           {
            "bin_start": 1.63,
            "bin_end": 2.26,
            "count": 48
           },
           {
            "bin_start": 2.26,
            "bin_end": 2.89,
            "count": 48
           },
           {
            "bin_start": 2.89,
            "bin_end": 3.52,
            "count": 30
           },
           {
            "bin_start": 3.52,
            "bin_end": 4.15,
            "count": 21
           },
           {
            "bin_start": 4.15,
            "bin_end": 4.78,
            "count": 10
           },
           {
            "bin_start": 4.78,
            "bin_end": 5.41,
            "count": 6
           },
           {
            "bin_start": 5.41,
            "bin_end": 6.04,
            "count": 1
           },
           {
            "bin_start": 6.04,
            "bin_end": 6.67,
            "count": 0
           },
           {
            "bin_start": 6.67,
            "bin_end": 7.3,
            "count": 2
           }
          ]
         }
        },
        {
         "name": "slope",
         "dtype": "int64",
         "stats": {
          "unique_count": 3,
          "nan_count": 0,
          "min": "1",
          "max": "3",
          "histogram": [
           {
            "bin_start": 1,
            "bin_end": 1.2,
            "count": 21
           },
           {
            "bin_start": 1.2,
            "bin_end": 1.4,
            "count": 0
           },
           {
            "bin_start": 1.4,
            "bin_end": 1.6,
            "count": 0
           },
           {
            "bin_start": 1.6,
            "bin_end": 1.8,
            "count": 0
           },
           {
            "bin_start": 1.8,
            "bin_end": 2,
            "count": 0
           },
           {
            "bin_start": 2,
            "bin_end": 2.2,
            "count": 140
           },
           {
            "bin_start": 2.2,
            "bin_end": 2.4000000000000004,
            "count": 0
           },
           {
            "bin_start": 2.4000000000000004,
            "bin_end": 2.6,
            "count": 0
           },
           {
            "bin_start": 2.6,
            "bin_end": 2.8,
            "count": 0
           },
           {
            "bin_start": 2.8,
            "bin_end": 3,
            "count": 142
           }
          ]
         }
        },
        {
         "name": "ca",
         "dtype": "int64",
         "stats": {
          "unique_count": 8,
          "nan_count": 0,
          "min": "0",
          "max": "7",
          "histogram": [
           {
            "bin_start": 0,
            "bin_end": 0.7,
            "count": 41
           },
           {
            "bin_start": 0.7,
            "bin_end": 1.4,
            "count": 55
           },
           {
            "bin_start": 1.4,
            "bin_end": 2.0999999999999996,
            "count": 69
           },
           {
            "bin_start": 2.0999999999999996,
            "bin_end": 2.8,
            "count": 0
           },
           {
            "bin_start": 2.8,
            "bin_end": 3.5,
            "count": 74
           },
           {
            "bin_start": 3.5,
            "bin_end": 4.199999999999999,
            "count": 42
           },
           {
            "bin_start": 4.199999999999999,
            "bin_end": 4.8999999999999995,
            "count": 0
           },
           {
            "bin_start": 4.8999999999999995,
            "bin_end": 5.6,
            "count": 16
           },
           {
            "bin_start": 5.6,
            "bin_end": 6.3,
            "count": 5
           },
           {
            "bin_start": 6.3,
            "bin_end": 7,
            "count": 1
           }
          ]
         }
        },
        {
         "name": "thal",
         "dtype": "int64",
         "stats": {
          "unique_count": 6,
          "nan_count": 0,
          "min": "0",
          "max": "5",
          "histogram": [
           {
            "bin_start": 0,
            "bin_end": 0.5,
            "count": 1
           },
           {
            "bin_start": 0.5,
            "bin_end": 1,
            "count": 0
           },
           {
            "bin_start": 1,
            "bin_end": 1.5,
            "count": 5
           },
           {
            "bin_start": 1.5,
            "bin_end": 2,
            "count": 0
           },
           {
            "bin_start": 2,
            "bin_end": 2.5,
            "count": 71
           },
           {
            "bin_start": 2.5,
            "bin_end": 3,
            "count": 0
           },
           {
            "bin_start": 3,
            "bin_end": 3.5,
            "count": 94
           },
           {
            "bin_start": 3.5,
            "bin_end": 4,
            "count": 0
           },
           {
            "bin_start": 4,
            "bin_end": 4.5,
            "count": 94
           },
           {
            "bin_start": 4.5,
            "bin_end": 5,
            "count": 38
           }
          ]
         }
        },
        {
         "name": "chol_fbs",
         "dtype": "int64",
         "stats": {
          "unique_count": 124,
          "nan_count": 0,
          "min": "1",
          "max": "487",
          "histogram": [
           {
            "bin_start": 1,
            "bin_end": 49.6,
            "count": 138
           },
           {
            "bin_start": 49.6,
            "bin_end": 98.2,
            "count": 120
           },
           {
            "bin_start": 98.2,
            "bin_end": 146.8,
            "count": 0
           },
           {
            "bin_start": 146.8,
            "bin_end": 195.4,
            "count": 0
           },
           {
            "bin_start": 195.4,
            "bin_end": 244,
            "count": 10
           },
           {
            "bin_start": 244,
            "bin_end": 292.6,
            "count": 13
           },
           {
            "bin_start": 292.6,
            "bin_end": 341.2,
            "count": 12
           },
           {
            "bin_start": 341.2,
            "bin_end": 389.8,
            "count": 7
           },
           {
            "bin_start": 389.8,
            "bin_end": 438.40000000000003,
            "count": 2
           },
           {
            "bin_start": 438.40000000000003,
            "bin_end": 487,
            "count": 1
           }
          ]
         }
        },
        {
         "name": "target",
         "dtype": "int64",
         "stats": {
          "unique_count": 2,
          "nan_count": 0,
          "min": "0",
          "max": "1",
          "histogram": [
           {
            "bin_start": 0,
            "bin_end": 0.1,
            "count": 138
           },
           {
            "bin_start": 0.1,
            "bin_end": 0.2,
            "count": 0
           },
           {
            "bin_start": 0.2,
            "bin_end": 0.30000000000000004,
            "count": 0
           },
           {
            "bin_start": 0.30000000000000004,
            "bin_end": 0.4,
            "count": 0
           },
           {
            "bin_start": 0.4,
            "bin_end": 0.5,
            "count": 0
           },
           {
            "bin_start": 0.5,
            "bin_end": 0.6000000000000001,
            "count": 0
           },
           {
            "bin_start": 0.6000000000000001,
            "bin_end": 0.7000000000000001,
            "count": 0
           },
           {
            "bin_start": 0.7000000000000001,
            "bin_end": 0.8,
            "count": 0
           },
           {
            "bin_start": 0.8,
            "bin_end": 0.9,
            "count": 0
           },
           {
            "bin_start": 0.9,
            "bin_end": 1,
            "count": 165
           }
          ]
         }
        },
        {
         "name": "_deepnote_index_column",
         "dtype": "int64"
        }
       ],
       "rows_top": [
        {
         "age": 68,
         "sex": 1,
         "cp": 4,
         "trestbps": 148,
         "chol": 241,
         "fbs": 1,
         "restecg": 1,
         "thalach": 163,
         "exang": 0,
         "oldpeak": 3.4,
         "slope": 1,
         "ca": 2,
         "thal": 1,
         "chol_fbs": 237,
         "target": 1,
         "_deepnote_index_column": 0
        },
        {
         "age": 40,
         "sex": 1,
         "cp": 4,
         "trestbps": 138,
         "chol": 254,
         "fbs": 0,
         "restecg": 2,
         "thalach": 202,
         "exang": 0,
         "oldpeak": 4.6,
         "slope": 1,
         "ca": 1,
         "thal": 4,
         "chol_fbs": 78,
         "target": 1,
         "_deepnote_index_column": 1
        },
        {
         "age": 46,
         "sex": 0,
         "cp": 2,
         "trestbps": 139,
         "chol": 216,
         "fbs": 0,
         "restecg": 0,
         "thalach": 179,
         "exang": 0,
         "oldpeak": 2.5,
         "slope": 3,
         "ca": 0,
         "thal": 4,
         "chol_fbs": 53,
         "target": 1,
         "_deepnote_index_column": 2
        },
        {
         "age": 59,
         "sex": 1,
         "cp": 1,
         "trestbps": 128,
         "chol": 286,
         "fbs": 0,
         "restecg": 2,
         "thalach": 197,
         "exang": 0,
         "oldpeak": 1.9,
         "slope": 3,
         "ca": 0,
         "thal": 3,
         "chol_fbs": 50,
         "target": 1,
         "_deepnote_index_column": 3
        },
        {
         "age": 59,
         "sex": 0,
         "cp": 1,
         "trestbps": 121,
         "chol": 372,
         "fbs": 0,
         "restecg": 2,
         "thalach": 181,
         "exang": 1,
         "oldpeak": 1.7,
         "slope": 3,
         "ca": 1,
         "thal": 2,
         "chol_fbs": 39,
         "target": 1,
         "_deepnote_index_column": 4
        },
        {
         "age": 58,
         "sex": 1,
         "cp": 0,
         "trestbps": 146,
         "chol": 211,
         "fbs": 0,
         "restecg": 1,
         "thalach": 156,
         "exang": 0,
         "oldpeak": 1.5,
         "slope": 2,
         "ca": 3,
         "thal": 3,
         "chol_fbs": 76,
         "target": 1,
         "_deepnote_index_column": 5
        },
        {
         "age": 60,
         "sex": 0,
         "cp": 2,
         "trestbps": 144,
         "chol": 297,
         "fbs": 0,
         "restecg": 1,
         "thalach": 157,
         "exang": 0,
         "oldpeak": 2.4,
         "slope": 2,
         "ca": 2,
         "thal": 2,
         "chol_fbs": 3,
         "target": 1,
         "_deepnote_index_column": 6
        },
        {
         "age": 45,
         "sex": 1,
         "cp": 2,
         "trestbps": 125,
         "chol": 312,
         "fbs": 0,
         "restecg": 1,
         "thalach": 174,
         "exang": 0,
         "oldpeak": 1.1,
         "slope": 3,
         "ca": 1,
         "thal": 5,
         "chol_fbs": 12,
         "target": 1,
         "_deepnote_index_column": 7
        },
        {
         "age": 59,
         "sex": 1,
         "cp": 4,
         "trestbps": 180,
         "chol": 237,
         "fbs": 1,
         "restecg": 2,
         "thalach": 164,
         "exang": 0,
         "oldpeak": 1.5,
         "slope": 3,
         "ca": 2,
         "thal": 3,
         "chol_fbs": 230,
         "target": 1,
         "_deepnote_index_column": 8
        },
        {
         "age": 60,
         "sex": 1,
         "cp": 2,
         "trestbps": 163,
         "chol": 199,
         "fbs": 0,
         "restecg": 2,
         "thalach": 196,
         "exang": 0,
         "oldpeak": 2.6,
         "slope": 3,
         "ca": 1,
         "thal": 4,
         "chol_fbs": 66,
         "target": 1,
         "_deepnote_index_column": 9
        },
        {
         "age": 55,
         "sex": 1,
         "cp": 0,
         "trestbps": 145,
         "chol": 270,
         "fbs": 0,
         "restecg": 1,
         "thalach": 170,
         "exang": 0,
         "oldpeak": 2.3,
         "slope": 3,
         "ca": 2,
         "thal": 2,
         "chol_fbs": 15,
         "target": 1,
         "_deepnote_index_column": 10
        },
        {
         "age": 55,
         "sex": 0,
         "cp": 3,
         "trestbps": 140,
         "chol": 292,
         "fbs": 0,
         "restecg": 1,
         "thalach": 149,
         "exang": 0,
         "oldpeak": 1.2,
         "slope": 3,
         "ca": 0,
         "thal": 3,
         "chol_fbs": 46,
         "target": 1,
         "_deepnote_index_column": 11
        },
        {
         "age": 53,
         "sex": 1,
         "cp": 1,
         "trestbps": 137,
         "chol": 293,
         "fbs": 0,
         "restecg": 1,
         "thalach": 187,
         "exang": 0,
         "oldpeak": 1.7,
         "slope": 3,
         "ca": 3,
         "thal": 3,
         "chol_fbs": 52,
         "target": 1,
         "_deepnote_index_column": 12
        },
        {
         "age": 71,
         "sex": 1,
         "cp": 4,
         "trestbps": 117,
         "chol": 233,
         "fbs": 0,
         "restecg": 0,
         "thalach": 145,
         "exang": 1,
         "oldpeak": 2.9,
         "slope": 2,
         "ca": 3,
         "thal": 4,
         "chol_fbs": 82,
         "target": 1,
         "_deepnote_index_column": 13
        },
        {
         "age": 65,
         "sex": 0,
         "cp": 4,
         "trestbps": 155,
         "chol": 329,
         "fbs": 1,
         "restecg": 0,
         "thalach": 177,
         "exang": 0,
         "oldpeak": 2.1,
         "slope": 3,
         "ca": 0,
         "thal": 2,
         "chol_fbs": 359,
         "target": 1,
         "_deepnote_index_column": 14
        },
        {
         "age": 58,
         "sex": 0,
         "cp": 4,
         "trestbps": 124,
         "chol": 241,
         "fbs": 0,
         "restecg": 2,
         "thalach": 180,
         "exang": 0,
         "oldpeak": 2.6,
         "slope": 2,
         "ca": 2,
         "thal": 4,
         "chol_fbs": 86,
         "target": 1,
         "_deepnote_index_column": 15
        },
        {
         "age": 67,
         "sex": 0,
         "cp": 3,
         "trestbps": 124,
         "chol": 343,
         "fbs": 0,
         "restecg": 2,
         "thalach": 191,
         "exang": 0,
         "oldpeak": 1.1,
         "slope": 3,
         "ca": 0,
         "thal": 2,
         "chol_fbs": 75,
         "target": 1,
         "_deepnote_index_column": 16
        },
        {
         "age": 68,
         "sex": 0,
         "cp": 5,
         "trestbps": 152,
         "chol": 241,
         "fbs": 0,
         "restecg": 2,
         "thalach": 119,
         "exang": 0,
         "oldpeak": 3.7,
         "slope": 1,
         "ca": 0,
         "thal": 2,
         "chol_fbs": 2,
         "target": 1,
         "_deepnote_index_column": 17
        },
        {
         "age": 47,
         "sex": 1,
         "cp": 2,
         "trestbps": 157,
         "chol": 261,
         "fbs": 0,
         "restecg": 1,
         "thalach": 181,
         "exang": 0,
         "oldpeak": 2.6,
         "slope": 3,
         "ca": 1,
         "thal": 2,
         "chol_fbs": 39,
         "target": 1,
         "_deepnote_index_column": 18
        },
        {
         "age": 70,
         "sex": 0,
         "cp": 4,
         "trestbps": 153,
         "chol": 287,
         "fbs": 0,
         "restecg": 1,
         "thalach": 163,
         "exang": 0,
         "oldpeak": 2.8,
         "slope": 3,
         "ca": 5,
         "thal": 3,
         "chol_fbs": 42,
         "target": 1,
         "_deepnote_index_column": 19
        },
        {
         "age": 62,
         "sex": 1,
         "cp": 2,
         "trestbps": 145,
         "chol": 258,
         "fbs": 0,
         "restecg": 2,
         "thalach": 168,
         "exang": 0,
         "oldpeak": 1.6,
         "slope": 2,
         "ca": 0,
         "thal": 5,
         "chol_fbs": 78,
         "target": 1,
         "_deepnote_index_column": 20
        },
        {
         "age": 46,
         "sex": 1,
         "cp": 2,
         "trestbps": 136,
         "chol": 268,
         "fbs": 0,
         "restecg": 1,
         "thalach": 188,
         "exang": 1,
         "oldpeak": 1.4,
         "slope": 3,
         "ca": 1,
         "thal": 4,
         "chol_fbs": 74,
         "target": 1,
         "_deepnote_index_column": 21
        },
        {
         "age": 46,
         "sex": 1,
         "cp": 0,
         "trestbps": 144,
         "chol": 266,
         "fbs": 0,
         "restecg": 1,
         "thalach": 195,
         "exang": 0,
         "oldpeak": 1.1,
         "slope": 3,
         "ca": 3,
         "thal": 4,
         "chol_fbs": 72,
         "target": 1,
         "_deepnote_index_column": 22
        },
        {
         "age": 67,
         "sex": 1,
         "cp": 2,
         "trestbps": 163,
         "chol": 285,
         "fbs": 1,
         "restecg": 2,
         "thalach": 140,
         "exang": 1,
         "oldpeak": 2.1,
         "slope": 2,
         "ca": 0,
         "thal": 4,
         "chol_fbs": 269,
         "target": 1,
         "_deepnote_index_column": 23
        },
        {
         "age": 45,
         "sex": 1,
         "cp": 4,
         "trestbps": 154,
         "chol": 242,
         "fbs": 0,
         "restecg": 1,
         "thalach": 193,
         "exang": 1,
         "oldpeak": 2.4,
         "slope": 3,
         "ca": 3,
         "thal": 4,
         "chol_fbs": 10,
         "target": 1,
         "_deepnote_index_column": 24
        },
        {
         "age": 76,
         "sex": 0,
         "cp": 1,
         "trestbps": 176,
         "chol": 343,
         "fbs": 0,
         "restecg": 2,
         "thalach": 179,
         "exang": 0,
         "oldpeak": 1.5,
         "slope": 3,
         "ca": 4,
         "thal": 2,
         "chol_fbs": 16,
         "target": 1,
         "_deepnote_index_column": 25
        },
        {
         "age": 62,
         "sex": 1,
         "cp": 2,
         "trestbps": 166,
         "chol": 239,
         "fbs": 1,
         "restecg": 1,
         "thalach": 162,
         "exang": 0,
         "oldpeak": 2.7,
         "slope": 3,
         "ca": 0,
         "thal": 2,
         "chol_fbs": 224,
         "target": 1,
         "_deepnote_index_column": 26
        },
        {
         "age": 54,
         "sex": 1,
         "cp": 2,
         "trestbps": 117,
         "chol": 182,
         "fbs": 0,
         "restecg": 2,
         "thalach": 127,
         "exang": 0,
         "oldpeak": 1.7,
         "slope": 3,
         "ca": 1,
         "thal": 3,
         "chol_fbs": 13,
         "target": 1,
         "_deepnote_index_column": 27
        },
        {
         "age": 66,
         "sex": 0,
         "cp": 3,
         "trestbps": 157,
         "chol": 455,
         "fbs": 1,
         "restecg": 1,
         "thalach": 176,
         "exang": 0,
         "oldpeak": 1.8,
         "slope": 3,
         "ca": 4,
         "thal": 4,
         "chol_fbs": 487,
         "target": 1,
         "_deepnote_index_column": 28
        },
        {
         "age": 55,
         "sex": 1,
         "cp": 2,
         "trestbps": 141,
         "chol": 208,
         "fbs": 1,
         "restecg": 0,
         "thalach": 157,
         "exang": 0,
         "oldpeak": 2.3,
         "slope": 1,
         "ca": 1,
         "thal": 2,
         "chol_fbs": 267,
         "target": 1,
         "_deepnote_index_column": 29
        },
        {
         "age": 50,
         "sex": 0,
         "cp": 2,
         "trestbps": 122,
         "chol": 222,
         "fbs": 0,
         "restecg": 2,
         "thalach": 187,
         "exang": 0,
         "oldpeak": 1.1,
         "slope": 3,
         "ca": 4,
         "thal": 2,
         "chol_fbs": 68,
         "target": 1,
         "_deepnote_index_column": 30
        },
        {
         "age": 70,
         "sex": 1,
         "cp": 2,
         "trestbps": 131,
         "chol": 223,
         "fbs": 0,
         "restecg": 1,
         "thalach": 159,
         "exang": 0,
         "oldpeak": 1.6,
         "slope": 3,
         "ca": 1,
         "thal": 4,
         "chol_fbs": 50,
         "target": 1,
         "_deepnote_index_column": 31
        },
        {
         "age": 47,
         "sex": 1,
         "cp": 3,
         "trestbps": 140,
         "chol": 228,
         "fbs": 0,
         "restecg": 1,
         "thalach": 193,
         "exang": 0,
         "oldpeak": 1.2,
         "slope": 3,
         "ca": 3,
         "thal": 2,
         "chol_fbs": 21,
         "target": 1,
         "_deepnote_index_column": 32
        }
       ],
       "rows_bottom": [
        {
         "age": 48,
         "sex": 1,
         "cp": 2,
         "trestbps": 123,
         "chol": 296,
         "fbs": 0,
         "restecg": 0,
         "thalach": 162,
         "exang": 0,
         "oldpeak": 2,
         "slope": 3,
         "ca": 0,
         "thal": 5,
         "chol_fbs": 65,
         "target": 0,
         "_deepnote_index_column": 270
        },
        {
         "age": 69,
         "sex": 1,
         "cp": 3,
         "trestbps": 144,
         "chol": 263,
         "fbs": 0,
         "restecg": 1,
         "thalach": 158,
         "exang": 0,
         "oldpeak": 3.7,
         "slope": 2,
         "ca": 2,
         "thal": 4,
         "chol_fbs": 19,
         "target": 0,
         "_deepnote_index_column": 271
        },
        {
         "age": 68,
         "sex": 1,
         "cp": 2,
         "trestbps": 132,
         "chol": 280,
         "fbs": 0,
         "restecg": 2,
         "thalach": 87,
         "exang": 0,
         "oldpeak": 2,
         "slope": 2,
         "ca": 1,
         "thal": 4,
         "chol_fbs": 14,
         "target": 0,
         "_deepnote_index_column": 272
        },
        {
         "age": 65,
         "sex": 1,
         "cp": 0,
         "trestbps": 115,
         "chol": 244,
         "fbs": 0,
         "restecg": 2,
         "thalach": 167,
         "exang": 0,
         "oldpeak": 1.2,
         "slope": 3,
         "ca": 3,
         "thal": 4,
         "chol_fbs": 28,
         "target": 0,
         "_deepnote_index_column": 273
        },
        {
         "age": 48,
         "sex": 1,
         "cp": 1,
         "trestbps": 113,
         "chol": 301,
         "fbs": 0,
         "restecg": 1,
         "thalach": 126,
         "exang": 1,
         "oldpeak": 2.1,
         "slope": 2,
         "ca": 1,
         "thal": 4,
         "chol_fbs": 1,
         "target": 0,
         "_deepnote_index_column": 274
        },
        {
         "age": 59,
         "sex": 1,
         "cp": 0,
         "trestbps": 133,
         "chol": 224,
         "fbs": 0,
         "restecg": 1,
         "thalach": 175,
         "exang": 0,
         "oldpeak": 2,
         "slope": 3,
         "ca": 4,
         "thal": 4,
         "chol_fbs": 8,
         "target": 0,
         "_deepnote_index_column": 275
        },
        {
         "age": 61,
         "sex": 1,
         "cp": 1,
         "trestbps": 155,
         "chol": 223,
         "fbs": 0,
         "restecg": 2,
         "thalach": 120,
         "exang": 0,
         "oldpeak": 3.1,
         "slope": 2,
         "ca": 1,
         "thal": 5,
         "chol_fbs": 5,
         "target": 0,
         "_deepnote_index_column": 276
        },
        {
         "age": 59,
         "sex": 1,
         "cp": 2,
         "trestbps": 136,
         "chol": 287,
         "fbs": 0,
         "restecg": 2,
         "thalach": 162,
         "exang": 0,
         "oldpeak": 1.4,
         "slope": 3,
         "ca": 0,
         "thal": 3,
         "chol_fbs": 13,
         "target": 0,
         "_deepnote_index_column": 277
        },
        {
         "age": 66,
         "sex": 0,
         "cp": 1,
         "trestbps": 139,
         "chol": 358,
         "fbs": 1,
         "restecg": 0,
         "thalach": 161,
         "exang": 0,
         "oldpeak": 1.1,
         "slope": 3,
         "ca": 2,
         "thal": 3,
         "chol_fbs": 389,
         "target": 0,
         "_deepnote_index_column": 278
        },
        {
         "age": 69,
         "sex": 1,
         "cp": 2,
         "trestbps": 151,
         "chol": 171,
         "fbs": 0,
         "restecg": 0,
         "thalach": 142,
         "exang": 1,
         "oldpeak": 4.6,
         "slope": 2,
         "ca": 3,
         "thal": 3,
         "chol_fbs": 25,
         "target": 0,
         "_deepnote_index_column": 279
        },
        {
         "age": 46,
         "sex": 1,
         "cp": 1,
         "trestbps": 152,
         "chol": 317,
         "fbs": 0,
         "restecg": 1,
         "thalach": 134,
         "exang": 1,
         "oldpeak": 2.8,
         "slope": 2,
         "ca": 2,
         "thal": 3,
         "chol_fbs": 7,
         "target": 0,
         "_deepnote_index_column": 280
        },
        {
         "age": 61,
         "sex": 1,
         "cp": 1,
         "trestbps": 137,
         "chol": 220,
         "fbs": 1,
         "restecg": 1,
         "thalach": 176,
         "exang": 1,
         "oldpeak": 2,
         "slope": 2,
         "ca": 0,
         "thal": 1,
         "chol_fbs": 256,
         "target": 0,
         "_deepnote_index_column": 281
        },
        {
         "age": 66,
         "sex": 1,
         "cp": 2,
         "trestbps": 133,
         "chol": 219,
         "fbs": 1,
         "restecg": 2,
         "thalach": 156,
         "exang": 0,
         "oldpeak": 3.2,
         "slope": 2,
         "ca": 3,
         "thal": 2,
         "chol_fbs": 297,
         "target": 0,
         "_deepnote_index_column": 282
        },
        {
         "age": 48,
         "sex": 1,
         "cp": 2,
         "trestbps": 169,
         "chol": 244,
         "fbs": 0,
         "restecg": 2,
         "thalach": 187,
         "exang": 0,
         "oldpeak": 1.1,
         "slope": 3,
         "ca": 1,
         "thal": 3,
         "chol_fbs": 46,
         "target": 0,
         "_deepnote_index_column": 283
        },
        {
         "age": 70,
         "sex": 1,
         "cp": 0,
         "trestbps": 148,
         "chol": 239,
         "fbs": 0,
         "restecg": 0,
         "thalach": 142,
         "exang": 1,
         "oldpeak": 3,
         "slope": 3,
         "ca": 2,
         "thal": 5,
         "chol_fbs": 72,
         "target": 0,
         "_deepnote_index_column": 284
        },
        {
         "age": 50,
         "sex": 1,
         "cp": 1,
         "trestbps": 144,
         "chol": 314,
         "fbs": 0,
         "restecg": 2,
         "thalach": 131,
         "exang": 1,
         "oldpeak": 2.9,
         "slope": 2,
         "ca": 3,
         "thal": 5,
         "chol_fbs": 30,
         "target": 0,
         "_deepnote_index_column": 285
        },
        {
         "age": 65,
         "sex": 1,
         "cp": 3,
         "trestbps": 150,
         "chol": 222,
         "fbs": 0,
         "restecg": 2,
         "thalach": 178,
         "exang": 0,
         "oldpeak": 1.9,
         "slope": 3,
         "ca": 5,
         "thal": 2,
         "chol_fbs": 83,
         "target": 0,
         "_deepnote_index_column": 286
        },
        {
         "age": 61,
         "sex": 1,
         "cp": 3,
         "trestbps": 158,
         "chol": 281,
         "fbs": 0,
         "restecg": 0,
         "thalach": 167,
         "exang": 0,
         "oldpeak": 1.1,
         "slope": 3,
         "ca": 4,
         "thal": 3,
         "chol_fbs": 90,
         "target": 0,
         "_deepnote_index_column": 287
        },
        {
         "age": 61,
         "sex": 1,
         "cp": 1,
         "trestbps": 122,
         "chol": 362,
         "fbs": 0,
         "restecg": 2,
         "thalach": 152,
         "exang": 1,
         "oldpeak": 4.1,
         "slope": 2,
         "ca": 1,
         "thal": 5,
         "chol_fbs": 53,
         "target": 0,
         "_deepnote_index_column": 288
        },
        {
         "age": 62,
         "sex": 0,
         "cp": 1,
         "trestbps": 133,
         "chol": 211,
         "fbs": 0,
         "restecg": 2,
         "thalach": 135,
         "exang": 1,
         "oldpeak": 3.1,
         "slope": 2,
         "ca": 3,
         "thal": 3,
         "chol_fbs": 65,
         "target": 0,
         "_deepnote_index_column": 289
        },
        {
         "age": 68,
         "sex": 1,
         "cp": 2,
         "trestbps": 162,
         "chol": 213,
         "fbs": 0,
         "restecg": 1,
         "thalach": 166,
         "exang": 0,
         "oldpeak": 1,
         "slope": 3,
         "ca": 1,
         "thal": 4,
         "chol_fbs": 21,
         "target": 0,
         "_deepnote_index_column": 290
        },
        {
         "age": 60,
         "sex": 1,
         "cp": 1,
         "trestbps": 123,
         "chol": 337,
         "fbs": 0,
         "restecg": 2,
         "thalach": 158,
         "exang": 0,
         "oldpeak": 5.5,
         "slope": 1,
         "ca": 4,
         "thal": 2,
         "chol_fbs": 63,
         "target": 0,
         "_deepnote_index_column": 291
        },
        {
         "age": 65,
         "sex": 0,
         "cp": 0,
         "trestbps": 173,
         "chol": 272,
         "fbs": 1,
         "restecg": 1,
         "thalach": 155,
         "exang": 1,
         "oldpeak": 3.9,
         "slope": 2,
         "ca": 4,
         "thal": 3,
         "chol_fbs": 272,
         "target": 0,
         "_deepnote_index_column": 292
        },
        {
         "age": 76,
         "sex": 1,
         "cp": 4,
         "trestbps": 166,
         "chol": 242,
         "fbs": 0,
         "restecg": 1,
         "thalach": 153,
         "exang": 0,
         "oldpeak": 1.9,
         "slope": 2,
         "ca": 1,
         "thal": 3,
         "chol_fbs": 71,
         "target": 0,
         "_deepnote_index_column": 293
        },
        {
         "age": 48,
         "sex": 1,
         "cp": 2,
         "trestbps": 125,
         "chol": 195,
         "fbs": 0,
         "restecg": 2,
         "thalach": 152,
         "exang": 1,
         "oldpeak": 3.9,
         "slope": 1,
         "ca": 3,
         "thal": 1,
         "chol_fbs": 66,
         "target": 0,
         "_deepnote_index_column": 294
        },
        {
         "age": 68,
         "sex": 1,
         "cp": 0,
         "trestbps": 146,
         "chol": 225,
         "fbs": 0,
         "restecg": 1,
         "thalach": 155,
         "exang": 1,
         "oldpeak": 5.1,
         "slope": 3,
         "ca": 2,
         "thal": 5,
         "chol_fbs": 7,
         "target": 0,
         "_deepnote_index_column": 295
        },
        {
         "age": 69,
         "sex": 0,
         "cp": 0,
         "trestbps": 131,
         "chol": 207,
         "fbs": 0,
         "restecg": 2,
         "thalach": 150,
         "exang": 1,
         "oldpeak": 1.1,
         "slope": 2,
         "ca": 3,
         "thal": 4,
         "chol_fbs": 62,
         "target": 0,
         "_deepnote_index_column": 296
        },
        {
         "age": 63,
         "sex": 1,
         "cp": 1,
         "trestbps": 180,
         "chol": 227,
         "fbs": 1,
         "restecg": 0,
         "thalach": 103,
         "exang": 0,
         "oldpeak": 2.1,
         "slope": 2,
         "ca": 2,
         "thal": 2,
         "chol_fbs": 244,
         "target": 0,
         "_deepnote_index_column": 297
        },
        {
         "age": 63,
         "sex": 0,
         "cp": 0,
         "trestbps": 151,
         "chol": 271,
         "fbs": 0,
         "restecg": 1,
         "thalach": 133,
         "exang": 1,
         "oldpeak": 1.3,
         "slope": 2,
         "ca": 1,
         "thal": 4,
         "chol_fbs": 65,
         "target": 0,
         "_deepnote_index_column": 298
        },
        {
         "age": 51,
         "sex": 1,
         "cp": 5,
         "trestbps": 116,
         "chol": 268,
         "fbs": 0,
         "restecg": 1,
         "thalach": 153,
         "exang": 0,
         "oldpeak": 2.3,
         "slope": 2,
         "ca": 2,
         "thal": 5,
         "chol_fbs": 75,
         "target": 0,
         "_deepnote_index_column": 299
        },
        {
         "age": 73,
         "sex": 1,
         "cp": 1,
         "trestbps": 154,
         "chol": 240,
         "fbs": 1,
         "restecg": 2,
         "thalach": 162,
         "exang": 0,
         "oldpeak": 4.5,
         "slope": 2,
         "ca": 2,
         "thal": 4,
         "chol_fbs": 247,
         "target": 0,
         "_deepnote_index_column": 300
        },
        {
         "age": 62,
         "sex": 1,
         "cp": 1,
         "trestbps": 142,
         "chol": 148,
         "fbs": 0,
         "restecg": 2,
         "thalach": 122,
         "exang": 1,
         "oldpeak": 2.3,
         "slope": 2,
         "ca": 1,
         "thal": 5,
         "chol_fbs": 74,
         "target": 0,
         "_deepnote_index_column": 301
        },
        {
         "age": 61,
         "sex": 0,
         "cp": 1,
         "trestbps": 140,
         "chol": 271,
         "fbs": 0,
         "restecg": 1,
         "thalach": 180,
         "exang": 0,
         "oldpeak": 1.1,
         "slope": 2,
         "ca": 3,
         "thal": 4,
         "chol_fbs": 72,
         "target": 0,
         "_deepnote_index_column": 302
        }
       ]
      },
      "text/plain": "     age  sex  cp  trestbps  chol  fbs  restecg  thalach  exang  oldpeak  \\\n0     68    1   4       148   241    1        1      163      0      3.4   \n1     40    1   4       138   254    0        2      202      0      4.6   \n2     46    0   2       139   216    0        0      179      0      2.5   \n3     59    1   1       128   286    0        2      197      0      1.9   \n4     59    0   1       121   372    0        2      181      1      1.7   \n..   ...  ...  ..       ...   ...  ...      ...      ...    ...      ...   \n298   63    0   0       151   271    0        1      133      1      1.3   \n299   51    1   5       116   268    0        1      153      0      2.3   \n300   73    1   1       154   240    1        2      162      0      4.5   \n301   62    1   1       142   148    0        2      122      1      2.3   \n302   61    0   1       140   271    0        1      180      0      1.1   \n\n     slope  ca  thal  chol_fbs  target  \n0        1   2     1       237       1  \n1        1   1     4        78       1  \n2        3   0     4        53       1  \n3        3   0     3        50       1  \n4        3   1     2        39       1  \n..     ...  ..   ...       ...     ...  \n298      2   1     4        65       0  \n299      2   2     5        75       0  \n300      2   2     4       247       0  \n301      2   1     5        74       0  \n302      2   3     4        72       0  \n\n[303 rows x 15 columns]",
      "text/html": "<div>\n<style scoped>\n    .dataframe tbody tr th:only-of-type {\n        vertical-align: middle;\n    }\n\n    .dataframe tbody tr th {\n        vertical-align: top;\n    }\n\n    .dataframe thead th {\n        text-align: right;\n    }\n</style>\n<table border=\"1\" class=\"dataframe\">\n  <thead>\n    <tr style=\"text-align: right;\">\n      <th></th>\n      <th>age</th>\n      <th>sex</th>\n      <th>cp</th>\n      <th>trestbps</th>\n      <th>chol</th>\n      <th>fbs</th>\n      <th>restecg</th>\n      <th>thalach</th>\n      <th>exang</th>\n      <th>oldpeak</th>\n      <th>slope</th>\n      <th>ca</th>\n      <th>thal</th>\n      <th>chol_fbs</th>\n      <th>target</th>\n    </tr>\n  </thead>\n  <tbody>\n    <tr>\n      <th>0</th>\n      <td>68</td>\n      <td>1</td>\n      <td>4</td>\n      <td>148</td>\n      <td>241</td>\n      <td>1</td>\n      <td>1</td>\n      <td>163</td>\n      <td>0</td>\n      <td>3.4</td>\n      <td>1</td>\n      <td>2</td>\n      <td>1</td>\n      <td>237</td>\n      <td>1</td>\n    </tr>\n    <tr>\n      <th>1</th>\n      <td>40</td>\n      <td>1</td>\n      <td>4</td>\n      <td>138</td>\n      <td>254</td>\n      <td>0</td>\n      <td>2</td>\n      <td>202</td>\n      <td>0</td>\n      <td>4.6</td>\n      <td>1</td>\n      <td>1</td>\n      <td>4</td>\n      <td>78</td>\n      <td>1</td>\n    </tr>\n    <tr>\n      <th>2</th>\n      <td>46</td>\n      <td>0</td>\n      <td>2</td>\n      <td>139</td>\n      <td>216</td>\n      <td>0</td>\n      <td>0</td>\n      <td>179</td>\n      <td>0</td>\n      <td>2.5</td>\n      <td>3</td>\n      <td>0</td>\n      <td>4</td>\n      <td>53</td>\n      <td>1</td>\n    </tr>\n    <tr>\n      <th>3</th>\n      <td>59</td>\n      <td>1</td>\n      <td>1</td>\n      <td>128</td>\n      <td>286</td>\n      <td>0</td>\n      <td>2</td>\n      <td>197</td>\n      <td>0</td>\n      <td>1.9</td>\n      <td>3</td>\n      <td>0</td>\n      <td>3</td>\n      <td>50</td>\n      <td>1</td>\n    </tr>\n    <tr>\n      <th>4</th>\n      <td>59</td>\n      <td>0</td>\n      <td>1</td>\n      <td>121</td>\n      <td>372</td>\n      <td>0</td>\n      <td>2</td>\n      <td>181</td>\n      <td>1</td>\n      <td>1.7</td>\n      <td>3</td>\n      <td>1</td>\n      <td>2</td>\n      <td>39</td>\n      <td>1</td>\n    </tr>\n    <tr>\n      <th>...</th>\n      <td>...</td>\n      <td>...</td>\n      <td>...</td>\n      <td>...</td>\n      <td>...</td>\n      <td>...</td>\n      <td>...</td>\n      <td>...</td>\n      <td>...</td>\n      <td>...</td>\n      <td>...</td>\n      <td>...</td>\n      <td>...</td>\n      <td>...</td>\n      <td>...</td>\n    </tr>\n    <tr>\n      <th>298</th>\n      <td>63</td>\n      <td>0</td>\n      <td>0</td>\n      <td>151</td>\n      <td>271</td>\n      <td>0</td>\n      <td>1</td>\n      <td>133</td>\n      <td>1</td>\n      <td>1.3</td>\n      <td>2</td>\n      <td>1</td>\n      <td>4</td>\n      <td>65</td>\n      <td>0</td>\n    </tr>\n    <tr>\n      <th>299</th>\n      <td>51</td>\n      <td>1</td>\n      <td>5</td>\n      <td>116</td>\n      <td>268</td>\n      <td>0</td>\n      <td>1</td>\n      <td>153</td>\n      <td>0</td>\n      <td>2.3</td>\n      <td>2</td>\n      <td>2</td>\n      <td>5</td>\n      <td>75</td>\n      <td>0</td>\n    </tr>\n    <tr>\n      <th>300</th>\n      <td>73</td>\n      <td>1</td>\n      <td>1</td>\n      <td>154</td>\n      <td>240</td>\n      <td>1</td>\n      <td>2</td>\n      <td>162</td>\n      <td>0</td>\n      <td>4.5</td>\n      <td>2</td>\n      <td>2</td>\n      <td>4</td>\n      <td>247</td>\n      <td>0</td>\n    </tr>\n    <tr>\n      <th>301</th>\n      <td>62</td>\n      <td>1</td>\n      <td>1</td>\n      <td>142</td>\n      <td>148</td>\n      <td>0</td>\n      <td>2</td>\n      <td>122</td>\n      <td>1</td>\n      <td>2.3</td>\n      <td>2</td>\n      <td>1</td>\n      <td>5</td>\n      <td>74</td>\n      <td>0</td>\n    </tr>\n    <tr>\n      <th>302</th>\n      <td>61</td>\n      <td>0</td>\n      <td>1</td>\n      <td>140</td>\n      <td>271</td>\n      <td>0</td>\n      <td>1</td>\n      <td>180</td>\n      <td>0</td>\n      <td>1.1</td>\n      <td>2</td>\n      <td>3</td>\n      <td>4</td>\n      <td>72</td>\n      <td>0</td>\n    </tr>\n  </tbody>\n</table>\n<p>303 rows × 15 columns</p>\n</div>"
     },
     "metadata": {}
    }
   ]
  },
  {
   "cell_type": "code",
   "metadata": {
    "tags": [],
    "cell_id": "00016-b849a44f-bbe9-42ac-8bab-1a1d32f50b7a",
    "deepnote_to_be_reexecuted": false,
    "source_hash": "982670ed",
    "execution_start": 1620564123473,
    "execution_millis": 10,
    "deepnote_cell_type": "code"
   },
   "source": "df_aug.sex.value_counts()",
   "execution_count": 12,
   "outputs": [
    {
     "output_type": "execute_result",
     "execution_count": 12,
     "data": {
      "text/plain": "1    207\n0     96\nName: sex, dtype: int64"
     },
     "metadata": {}
    }
   ]
  },
  {
   "cell_type": "markdown",
   "source": "**25% augmented data**",
   "metadata": {
    "tags": [],
    "cell_id": "00017-4d946a4f-791c-4cb5-817e-632751e1096a",
    "deepnote_cell_type": "markdown"
   }
  },
  {
   "cell_type": "code",
   "metadata": {
    "tags": [],
    "cell_id": "00017-496f7250-31d8-4180-8ecc-902b2c2c080e",
    "deepnote_to_be_reexecuted": false,
    "source_hash": "b064bc8e",
    "execution_start": 1620564123525,
    "execution_millis": 53,
    "deepnote_cell_type": "code"
   },
   "source": "df_aug_s = df_aug.sample(76,random_state=0)\ndf_aug_s.describe()",
   "execution_count": 13,
   "outputs": [
    {
     "output_type": "execute_result",
     "execution_count": 13,
     "data": {
      "application/vnd.deepnote.dataframe.v2+json": {
       "row_count": 8,
       "column_count": 15,
       "columns": [
        {
         "name": "age",
         "dtype": "float64",
         "stats": {
          "unique_count": 8,
          "nan_count": 0,
          "min": "9.295462012997941",
          "max": "81.0",
          "histogram": [
           {
            "bin_start": 9.295462012997941,
            "bin_end": 16.465915811698146,
            "count": 1
           },
           {
            "bin_start": 16.465915811698146,
            "bin_end": 23.636369610398354,
            "count": 0
           },
           {
            "bin_start": 23.636369610398354,
            "bin_end": 30.80682340909856,
            "count": 0
           },
           {
            "bin_start": 30.80682340909856,
            "bin_end": 37.977277207798764,
            "count": 0
           },
           {
            "bin_start": 37.977277207798764,
            "bin_end": 45.14773100649897,
            "count": 1
           },
           {
            "bin_start": 45.14773100649897,
            "bin_end": 52.31818480519918,
            "count": 1
           },
           {
            "bin_start": 52.31818480519918,
            "bin_end": 59.488638603899375,
            "count": 2
           },
           {
            "bin_start": 59.488638603899375,
            "bin_end": 66.65909240259958,
            "count": 1
           },
           {
            "bin_start": 66.65909240259958,
            "bin_end": 73.82954620129979,
            "count": 0
           },
           {
            "bin_start": 73.82954620129979,
            "bin_end": 81,
            "count": 2
           }
          ]
         }
        },
        {
         "name": "sex",
         "dtype": "float64",
         "stats": {
          "unique_count": 5,
          "nan_count": 0,
          "min": "0.0",
          "max": "76.0",
          "histogram": [
           {
            "bin_start": 0,
            "bin_end": 7.6,
            "count": 7
           },
           {
            "bin_start": 7.6,
            "bin_end": 15.2,
            "count": 0
           },
           {
            "bin_start": 15.2,
            "bin_end": 22.799999999999997,
            "count": 0
           },
           {
            "bin_start": 22.799999999999997,
            "bin_end": 30.4,
            "count": 0
           },
           {
            "bin_start": 30.4,
            "bin_end": 38,
            "count": 0
           },
           {
            "bin_start": 38,
            "bin_end": 45.599999999999994,
            "count": 0
           },
           {
            "bin_start": 45.599999999999994,
            "bin_end": 53.199999999999996,
            "count": 0
           },
           {
            "bin_start": 53.199999999999996,
            "bin_end": 60.8,
            "count": 0
           },
           {
            "bin_start": 60.8,
            "bin_end": 68.39999999999999,
            "count": 0
           },
           {
            "bin_start": 68.39999999999999,
            "bin_end": 76,
            "count": 1
           }
          ]
         }
        },
        {
         "name": "cp",
         "dtype": "float64",
         "stats": {
          "unique_count": 8,
          "nan_count": 0,
          "min": "0.0",
          "max": "76.0",
          "histogram": [
           {
            "bin_start": 0,
            "bin_end": 7.6,
            "count": 7
           },
           {
            "bin_start": 7.6,
            "bin_end": 15.2,
            "count": 0
           },
           {
            "bin_start": 15.2,
            "bin_end": 22.799999999999997,
            "count": 0
           },
           {
            "bin_start": 22.799999999999997,
            "bin_end": 30.4,
            "count": 0
           },
           {
            "bin_start": 30.4,
            "bin_end": 38,
            "count": 0
           },
           {
            "bin_start": 38,
            "bin_end": 45.599999999999994,
            "count": 0
           },
           {
            "bin_start": 45.599999999999994,
            "bin_end": 53.199999999999996,
            "count": 0
           },
           {
            "bin_start": 53.199999999999996,
            "bin_end": 60.8,
            "count": 0
           },
           {
            "bin_start": 60.8,
            "bin_end": 68.39999999999999,
            "count": 0
           },
           {
            "bin_start": 68.39999999999999,
            "bin_end": 76,
            "count": 1
           }
          ]
         }
        },
        {
         "name": "trestbps",
         "dtype": "float64",
         "stats": {
          "unique_count": 8,
          "nan_count": 0,
          "min": "19.354581487632416",
          "max": "210.0",
          "histogram": [
           {
            "bin_start": 19.354581487632416,
            "bin_end": 38.41912333886918,
            "count": 1
           },
           {
            "bin_start": 38.41912333886918,
            "bin_end": 57.48366519010594,
            "count": 0
           },
           {
            "bin_start": 57.48366519010594,
            "bin_end": 76.54820704134269,
            "count": 1
           },
           {
            "bin_start": 76.54820704134269,
            "bin_end": 95.61274889257946,
            "count": 0
           },
           {
            "bin_start": 95.61274889257946,
            "bin_end": 114.67729074381622,
            "count": 1
           },
           {
            "bin_start": 114.67729074381622,
            "bin_end": 133.74183259505298,
            "count": 1
           },
           {
            "bin_start": 133.74183259505298,
            "bin_end": 152.80637444628974,
            "count": 3
           },
           {
            "bin_start": 152.80637444628974,
            "bin_end": 171.8709162975265,
            "count": 0
           },
           {
            "bin_start": 171.8709162975265,
            "bin_end": 190.93545814876325,
            "count": 0
           },
           {
            "bin_start": 190.93545814876325,
            "bin_end": 210,
            "count": 1
           }
          ]
         }
        },
        {
         "name": "chol",
         "dtype": "float64",
         "stats": {
          "unique_count": 8,
          "nan_count": 0,
          "min": "43.09691037894162",
          "max": "421.0",
          "histogram": [
           {
            "bin_start": 43.09691037894162,
            "bin_end": 80.88721934104746,
            "count": 2
           },
           {
            "bin_start": 80.88721934104746,
            "bin_end": 118.67752830315331,
            "count": 0
           },
           {
            "bin_start": 118.67752830315331,
            "bin_end": 156.46783726525913,
            "count": 0
           },
           {
            "bin_start": 156.46783726525913,
            "bin_end": 194.258146227365,
            "count": 1
           },
           {
            "bin_start": 194.258146227365,
            "bin_end": 232.04845518947081,
            "count": 0
           },
           {
            "bin_start": 232.04845518947081,
            "bin_end": 269.83876415157664,
            "count": 1
           },
           {
            "bin_start": 269.83876415157664,
            "bin_end": 307.6290731136825,
            "count": 3
           },
           {
            "bin_start": 307.6290731136825,
            "bin_end": 345.41938207578835,
            "count": 0
           },
           {
            "bin_start": 345.41938207578835,
            "bin_end": 383.2096910378942,
            "count": 0
           },
           {
            "bin_start": 383.2096910378942,
            "bin_end": 421,
            "count": 1
           }
          ]
         }
        },
        {
         "name": "fbs",
         "dtype": "float64",
         "stats": {
          "unique_count": 5,
          "nan_count": 0,
          "min": "0.0",
          "max": "76.0",
          "histogram": [
           {
            "bin_start": 0,
            "bin_end": 7.6,
            "count": 7
           },
           {
            "bin_start": 7.6,
            "bin_end": 15.2,
            "count": 0
           },
           {
            "bin_start": 15.2,
            "bin_end": 22.799999999999997,
            "count": 0
           },
           {
            "bin_start": 22.799999999999997,
            "bin_end": 30.4,
            "count": 0
           },
           {
            "bin_start": 30.4,
            "bin_end": 38,
            "count": 0
           },
           {
            "bin_start": 38,
            "bin_end": 45.599999999999994,
            "count": 0
           },
           {
            "bin_start": 45.599999999999994,
            "bin_end": 53.199999999999996,
            "count": 0
           },
           {
            "bin_start": 53.199999999999996,
            "bin_end": 60.8,
            "count": 0
           },
           {
            "bin_start": 60.8,
            "bin_end": 68.39999999999999,
            "count": 0
           },
           {
            "bin_start": 68.39999999999999,
            "bin_end": 76,
            "count": 1
           }
          ]
         }
        },
        {
         "name": "restecg",
         "dtype": "float64",
         "stats": {
          "unique_count": 6,
          "nan_count": 0,
          "min": "0.0",
          "max": "76.0",
          "histogram": [
           {
            "bin_start": 0,
            "bin_end": 7.6,
            "count": 7
           },
           {
            "bin_start": 7.6,
            "bin_end": 15.2,
            "count": 0
           },
           {
            "bin_start": 15.2,
            "bin_end": 22.799999999999997,
            "count": 0
           },
           {
            "bin_start": 22.799999999999997,
            "bin_end": 30.4,
            "count": 0
           },
           {
            "bin_start": 30.4,
            "bin_end": 38,
            "count": 0
           },
           {
            "bin_start": 38,
            "bin_end": 45.599999999999994,
            "count": 0
           },
           {
            "bin_start": 45.599999999999994,
            "bin_end": 53.199999999999996,
            "count": 0
           },
           {
            "bin_start": 53.199999999999996,
            "bin_end": 60.8,
            "count": 0
           },
           {
            "bin_start": 60.8,
            "bin_end": 68.39999999999999,
            "count": 0
           },
           {
            "bin_start": 68.39999999999999,
            "bin_end": 76,
            "count": 1
           }
          ]
         }
        },
        {
         "name": "thalach",
         "dtype": "float64",
         "stats": {
          "unique_count": 8,
          "nan_count": 0,
          "min": "22.083398543432356",
          "max": "214.0",
          "histogram": [
           {
            "bin_start": 22.083398543432356,
            "bin_end": 41.27505868908912,
            "count": 1
           },
           {
            "bin_start": 41.27505868908912,
            "bin_end": 60.466718834745876,
            "count": 0
           },
           {
            "bin_start": 60.466718834745876,
            "bin_end": 79.65837898040265,
            "count": 1
           },
           {
            "bin_start": 79.65837898040265,
            "bin_end": 98.8500391260594,
            "count": 0
           },
           {
            "bin_start": 98.8500391260594,
            "bin_end": 118.04169927171615,
            "count": 1
           },
           {
            "bin_start": 118.04169927171615,
            "bin_end": 137.23335941737292,
            "count": 0
           },
           {
            "bin_start": 137.23335941737292,
            "bin_end": 156.4250195630297,
            "count": 1
           },
           {
            "bin_start": 156.4250195630297,
            "bin_end": 175.61667970868646,
            "count": 2
           },
           {
            "bin_start": 175.61667970868646,
            "bin_end": 194.80833985434322,
            "count": 1
           },
           {
            "bin_start": 194.80833985434322,
            "bin_end": 214,
            "count": 1
           }
          ]
         }
        },
        {
         "name": "exang",
         "dtype": "float64",
         "stats": {
          "unique_count": 5,
          "nan_count": 0,
          "min": "0.0",
          "max": "76.0",
          "histogram": [
           {
            "bin_start": 0,
            "bin_end": 7.6,
            "count": 7
           },
           {
            "bin_start": 7.6,
            "bin_end": 15.2,
            "count": 0
           },
           {
            "bin_start": 15.2,
            "bin_end": 22.799999999999997,
            "count": 0
           },
           {
            "bin_start": 22.799999999999997,
            "bin_end": 30.4,
            "count": 0
           },
           {
            "bin_start": 30.4,
            "bin_end": 38,
            "count": 0
           },
           {
            "bin_start": 38,
            "bin_end": 45.599999999999994,
            "count": 0
           },
           {
            "bin_start": 45.599999999999994,
            "bin_end": 53.199999999999996,
            "count": 0
           },
           {
            "bin_start": 53.199999999999996,
            "bin_end": 60.8,
            "count": 0
           },
           {
            "bin_start": 60.8,
            "bin_end": 68.39999999999999,
            "count": 0
           },
           {
            "bin_start": 68.39999999999999,
            "bin_end": 76,
            "count": 1
           }
          ]
         }
        },
        {
         "name": "oldpeak",
         "dtype": "float64",
         "stats": {
          "unique_count": 8,
          "nan_count": 0,
          "min": "0.9709572054096113",
          "max": "76.0",
          "histogram": [
           {
            "bin_start": 0.9709572054096113,
            "bin_end": 8.473861484868651,
            "count": 7
           },
           {
            "bin_start": 8.473861484868651,
            "bin_end": 15.976765764327691,
            "count": 0
           },
           {
            "bin_start": 15.976765764327691,
            "bin_end": 23.479670043786733,
            "count": 0
           },
           {
            "bin_start": 23.479670043786733,
            "bin_end": 30.98257432324577,
            "count": 0
           },
           {
            "bin_start": 30.98257432324577,
            "bin_end": 38.48547860270481,
            "count": 0
           },
           {
            "bin_start": 38.48547860270481,
            "bin_end": 45.988382882163855,
            "count": 0
           },
           {
            "bin_start": 45.988382882163855,
            "bin_end": 53.49128716162289,
            "count": 0
           },
           {
            "bin_start": 53.49128716162289,
            "bin_end": 60.99419144108193,
            "count": 0
           },
           {
            "bin_start": 60.99419144108193,
            "bin_end": 68.49709572054097,
            "count": 0
           },
           {
            "bin_start": 68.49709572054097,
            "bin_end": 76,
            "count": 1
           }
          ]
         }
        },
        {
         "name": "slope",
         "dtype": "float64",
         "stats": {
          "unique_count": 6,
          "nan_count": 0,
          "min": "0.610291848504367",
          "max": "76.0",
          "histogram": [
           {
            "bin_start": 0.610291848504367,
            "bin_end": 8.14926266365393,
            "count": 7
           },
           {
            "bin_start": 8.14926266365393,
            "bin_end": 15.688233478803495,
            "count": 0
           },
           {
            "bin_start": 15.688233478803495,
            "bin_end": 23.227204293953058,
            "count": 0
           },
           {
            "bin_start": 23.227204293953058,
            "bin_end": 30.766175109102623,
            "count": 0
           },
           {
            "bin_start": 30.766175109102623,
            "bin_end": 38.30514592425219,
            "count": 0
           },
           {
            "bin_start": 38.30514592425219,
            "bin_end": 45.84411673940175,
            "count": 0
           },
           {
            "bin_start": 45.84411673940175,
            "bin_end": 53.38308755455132,
            "count": 0
           },
           {
            "bin_start": 53.38308755455132,
            "bin_end": 60.92205836970088,
            "count": 0
           },
           {
            "bin_start": 60.92205836970088,
            "bin_end": 68.46102918485043,
            "count": 0
           },
           {
            "bin_start": 68.46102918485043,
            "bin_end": 76,
            "count": 1
           }
          ]
         }
        },
        {
         "name": "ca",
         "dtype": "float64",
         "stats": {
          "unique_count": 8,
          "nan_count": 0,
          "min": "0.0",
          "max": "76.0",
          "histogram": [
           {
            "bin_start": 0,
            "bin_end": 7.6,
            "count": 7
           },
           {
            "bin_start": 7.6,
            "bin_end": 15.2,
            "count": 0
           },
           {
            "bin_start": 15.2,
            "bin_end": 22.799999999999997,
            "count": 0
           },
           {
            "bin_start": 22.799999999999997,
            "bin_end": 30.4,
            "count": 0
           },
           {
            "bin_start": 30.4,
            "bin_end": 38,
            "count": 0
           },
           {
            "bin_start": 38,
            "bin_end": 45.599999999999994,
            "count": 0
           },
           {
            "bin_start": 45.599999999999994,
            "bin_end": 53.199999999999996,
            "count": 0
           },
           {
            "bin_start": 53.199999999999996,
            "bin_end": 60.8,
            "count": 0
           },
           {
            "bin_start": 60.8,
            "bin_end": 68.39999999999999,
            "count": 0
           },
           {
            "bin_start": 68.39999999999999,
            "bin_end": 76,
            "count": 1
           }
          ]
         }
        },
        {
         "name": "thal",
         "dtype": "float64",
         "stats": {
          "unique_count": 7,
          "nan_count": 0,
          "min": "0.9480358272895394",
          "max": "76.0",
          "histogram": [
           {
            "bin_start": 0.9480358272895394,
            "bin_end": 8.453232244560585,
            "count": 7
           },
           {
            "bin_start": 8.453232244560585,
            "bin_end": 15.958428661831631,
            "count": 0
           },
           {
            "bin_start": 15.958428661831631,
            "bin_end": 23.46362507910268,
            "count": 0
           },
           {
            "bin_start": 23.46362507910268,
            "bin_end": 30.968821496373725,
            "count": 0
           },
           {
            "bin_start": 30.968821496373725,
            "bin_end": 38.474017913644765,
            "count": 0
           },
           {
            "bin_start": 38.474017913644765,
            "bin_end": 45.979214330915816,
            "count": 0
           },
           {
            "bin_start": 45.979214330915816,
            "bin_end": 53.48441074818686,
            "count": 0
           },
           {
            "bin_start": 53.48441074818686,
            "bin_end": 60.989607165457905,
            "count": 0
           },
           {
            "bin_start": 60.989607165457905,
            "bin_end": 68.49480358272896,
            "count": 0
           },
           {
            "bin_start": 68.49480358272896,
            "bin_end": 76,
            "count": 1
           }
          ]
         }
        },
        {
         "name": "chol_fbs",
         "dtype": "float64",
         "stats": {
          "unique_count": 8,
          "nan_count": 0,
          "min": "1.0",
          "max": "414.0",
          "histogram": [
           {
            "bin_start": 1,
            "bin_end": 42.3,
            "count": 2
           },
           {
            "bin_start": 42.3,
            "bin_end": 83.6,
            "count": 5
           },
           {
            "bin_start": 83.6,
            "bin_end": 124.89999999999999,
            "count": 0
           },
           {
            "bin_start": 124.89999999999999,
            "bin_end": 166.2,
            "count": 0
           },
           {
            "bin_start": 166.2,
            "bin_end": 207.5,
            "count": 0
           },
           {
            "bin_start": 207.5,
            "bin_end": 248.79999999999998,
            "count": 0
           },
           {
            "bin_start": 248.79999999999998,
            "bin_end": 290.09999999999997,
            "count": 0
           },
           {
            "bin_start": 290.09999999999997,
            "bin_end": 331.4,
            "count": 0
           },
           {
            "bin_start": 331.4,
            "bin_end": 372.7,
            "count": 0
           },
           {
            "bin_start": 372.7,
            "bin_end": 414,
            "count": 1
           }
          ]
         }
        },
        {
         "name": "target",
         "dtype": "float64",
         "stats": {
          "unique_count": 5,
          "nan_count": 0,
          "min": "0.0",
          "max": "76.0",
          "histogram": [
           {
            "bin_start": 0,
            "bin_end": 7.6,
            "count": 7
           },
           {
            "bin_start": 7.6,
            "bin_end": 15.2,
            "count": 0
           },
           {
            "bin_start": 15.2,
            "bin_end": 22.799999999999997,
            "count": 0
           },
           {
            "bin_start": 22.799999999999997,
            "bin_end": 30.4,
            "count": 0
           },
           {
            "bin_start": 30.4,
            "bin_end": 38,
            "count": 0
           },
           {
            "bin_start": 38,
            "bin_end": 45.599999999999994,
            "count": 0
           },
           {
            "bin_start": 45.599999999999994,
            "bin_end": 53.199999999999996,
            "count": 0
           },
           {
            "bin_start": 53.199999999999996,
            "bin_end": 60.8,
            "count": 0
           },
           {
            "bin_start": 60.8,
            "bin_end": 68.39999999999999,
            "count": 0
           },
           {
            "bin_start": 68.39999999999999,
            "bin_end": 76,
            "count": 1
           }
          ]
         }
        },
        {
         "name": "_deepnote_index_column",
         "dtype": "object"
        }
       ],
       "rows_top": [
        {
         "age": 76,
         "sex": 76,
         "cp": 76,
         "trestbps": 76,
         "chol": 76,
         "fbs": 76,
         "restecg": 76,
         "thalach": 76,
         "exang": 76,
         "oldpeak": 76,
         "slope": 76,
         "ca": 76,
         "thal": 76,
         "chol_fbs": 76,
         "target": 76,
         "_deepnote_index_column": "count"
        },
        {
         "age": 57.68421052631579,
         "sex": 0.7236842105263158,
         "cp": 1.9078947368421053,
         "trestbps": 139.48684210526315,
         "chol": 270.17105263157896,
         "fbs": 0.13157894736842105,
         "restecg": 1.0394736842105263,
         "thalach": 161.23684210526315,
         "exang": 0.27631578947368424,
         "oldpeak": 1.8868421052631579,
         "slope": 2.3815789473684212,
         "ca": 2.4078947368421053,
         "thal": 3.3552631578947367,
         "chol_fbs": 79.0657894736842,
         "target": 0.5657894736842105,
         "_deepnote_index_column": "mean"
        },
        {
         "age": 9.295462012997941,
         "sex": 0.45014617508912413,
         "cp": 1.3873488537874183,
         "trestbps": 19.354581487632416,
         "chol": 43.09691037894162,
         "fbs": 0.34027852368936023,
         "restecg": 0.7012520131628232,
         "thalach": 22.083398543432356,
         "exang": 0.45014617508912413,
         "oldpeak": 0.9709572054096113,
         "slope": 0.610291848504367,
         "ca": 1.576304806217777,
         "thal": 0.9480358272895394,
         "chol_fbs": 83.49280775832383,
         "target": 0.49894625804895315,
         "_deepnote_index_column": "std"
        },
        {
         "age": 41,
         "sex": 0,
         "cp": 0,
         "trestbps": 105,
         "chol": 174,
         "fbs": 0,
         "restecg": 0,
         "thalach": 99,
         "exang": 0,
         "oldpeak": 1,
         "slope": 1,
         "ca": 0,
         "thal": 2,
         "chol_fbs": 1,
         "target": 0,
         "_deepnote_index_column": "min"
        },
        {
         "age": 50.75,
         "sex": 0,
         "cp": 1,
         "trestbps": 126.75,
         "chol": 241,
         "fbs": 0,
         "restecg": 1,
         "thalach": 147,
         "exang": 0,
         "oldpeak": 1.1,
         "slope": 2,
         "ca": 1,
         "thal": 3,
         "chol_fbs": 33,
         "target": 0,
         "_deepnote_index_column": "25%"
        },
        {
         "age": 58.5,
         "sex": 1,
         "cp": 2,
         "trestbps": 137.5,
         "chol": 271,
         "fbs": 0,
         "restecg": 1,
         "thalach": 165.5,
         "exang": 0,
         "oldpeak": 1.6,
         "slope": 2,
         "ca": 3,
         "thal": 3,
         "chol_fbs": 56.5,
         "target": 1,
         "_deepnote_index_column": "50%"
        },
        {
         "age": 64,
         "sex": 1,
         "cp": 3,
         "trestbps": 150,
         "chol": 296.5,
         "fbs": 0,
         "restecg": 2,
         "thalach": 177.25,
         "exang": 1,
         "oldpeak": 2.3499999999999996,
         "slope": 3,
         "ca": 3.25,
         "thal": 4,
         "chol_fbs": 78.25,
         "target": 1,
         "_deepnote_index_column": "75%"
        },
        {
         "age": 81,
         "sex": 1,
         "cp": 5,
         "trestbps": 210,
         "chol": 421,
         "fbs": 1,
         "restecg": 2,
         "thalach": 214,
         "exang": 1,
         "oldpeak": 5,
         "slope": 3,
         "ca": 6,
         "thal": 5,
         "chol_fbs": 414,
         "target": 1,
         "_deepnote_index_column": "max"
        }
       ],
       "rows_bottom": null
      },
      "text/plain": "             age        sex         cp    trestbps        chol        fbs  \\\ncount  76.000000  76.000000  76.000000   76.000000   76.000000  76.000000   \nmean   57.684211   0.723684   1.907895  139.486842  270.171053   0.131579   \nstd     9.295462   0.450146   1.387349   19.354581   43.096910   0.340279   \nmin    41.000000   0.000000   0.000000  105.000000  174.000000   0.000000   \n25%    50.750000   0.000000   1.000000  126.750000  241.000000   0.000000   \n50%    58.500000   1.000000   2.000000  137.500000  271.000000   0.000000   \n75%    64.000000   1.000000   3.000000  150.000000  296.500000   0.000000   \nmax    81.000000   1.000000   5.000000  210.000000  421.000000   1.000000   \n\n         restecg     thalach      exang    oldpeak      slope         ca  \\\ncount  76.000000   76.000000  76.000000  76.000000  76.000000  76.000000   \nmean    1.039474  161.236842   0.276316   1.886842   2.381579   2.407895   \nstd     0.701252   22.083399   0.450146   0.970957   0.610292   1.576305   \nmin     0.000000   99.000000   0.000000   1.000000   1.000000   0.000000   \n25%     1.000000  147.000000   0.000000   1.100000   2.000000   1.000000   \n50%     1.000000  165.500000   0.000000   1.600000   2.000000   3.000000   \n75%     2.000000  177.250000   1.000000   2.350000   3.000000   3.250000   \nmax     2.000000  214.000000   1.000000   5.000000   3.000000   6.000000   \n\n            thal    chol_fbs     target  \ncount  76.000000   76.000000  76.000000  \nmean    3.355263   79.065789   0.565789  \nstd     0.948036   83.492808   0.498946  \nmin     2.000000    1.000000   0.000000  \n25%     3.000000   33.000000   0.000000  \n50%     3.000000   56.500000   1.000000  \n75%     4.000000   78.250000   1.000000  \nmax     5.000000  414.000000   1.000000  ",
      "text/html": "<div>\n<style scoped>\n    .dataframe tbody tr th:only-of-type {\n        vertical-align: middle;\n    }\n\n    .dataframe tbody tr th {\n        vertical-align: top;\n    }\n\n    .dataframe thead th {\n        text-align: right;\n    }\n</style>\n<table border=\"1\" class=\"dataframe\">\n  <thead>\n    <tr style=\"text-align: right;\">\n      <th></th>\n      <th>age</th>\n      <th>sex</th>\n      <th>cp</th>\n      <th>trestbps</th>\n      <th>chol</th>\n      <th>fbs</th>\n      <th>restecg</th>\n      <th>thalach</th>\n      <th>exang</th>\n      <th>oldpeak</th>\n      <th>slope</th>\n      <th>ca</th>\n      <th>thal</th>\n      <th>chol_fbs</th>\n      <th>target</th>\n    </tr>\n  </thead>\n  <tbody>\n    <tr>\n      <th>count</th>\n      <td>76.000000</td>\n      <td>76.000000</td>\n      <td>76.000000</td>\n      <td>76.000000</td>\n      <td>76.000000</td>\n      <td>76.000000</td>\n      <td>76.000000</td>\n      <td>76.000000</td>\n      <td>76.000000</td>\n      <td>76.000000</td>\n      <td>76.000000</td>\n      <td>76.000000</td>\n      <td>76.000000</td>\n      <td>76.000000</td>\n      <td>76.000000</td>\n    </tr>\n    <tr>\n      <th>mean</th>\n      <td>57.684211</td>\n      <td>0.723684</td>\n      <td>1.907895</td>\n      <td>139.486842</td>\n      <td>270.171053</td>\n      <td>0.131579</td>\n      <td>1.039474</td>\n      <td>161.236842</td>\n      <td>0.276316</td>\n      <td>1.886842</td>\n      <td>2.381579</td>\n      <td>2.407895</td>\n      <td>3.355263</td>\n      <td>79.065789</td>\n      <td>0.565789</td>\n    </tr>\n    <tr>\n      <th>std</th>\n      <td>9.295462</td>\n      <td>0.450146</td>\n      <td>1.387349</td>\n      <td>19.354581</td>\n      <td>43.096910</td>\n      <td>0.340279</td>\n      <td>0.701252</td>\n      <td>22.083399</td>\n      <td>0.450146</td>\n      <td>0.970957</td>\n      <td>0.610292</td>\n      <td>1.576305</td>\n      <td>0.948036</td>\n      <td>83.492808</td>\n      <td>0.498946</td>\n    </tr>\n    <tr>\n      <th>min</th>\n      <td>41.000000</td>\n      <td>0.000000</td>\n      <td>0.000000</td>\n      <td>105.000000</td>\n      <td>174.000000</td>\n      <td>0.000000</td>\n      <td>0.000000</td>\n      <td>99.000000</td>\n      <td>0.000000</td>\n      <td>1.000000</td>\n      <td>1.000000</td>\n      <td>0.000000</td>\n      <td>2.000000</td>\n      <td>1.000000</td>\n      <td>0.000000</td>\n    </tr>\n    <tr>\n      <th>25%</th>\n      <td>50.750000</td>\n      <td>0.000000</td>\n      <td>1.000000</td>\n      <td>126.750000</td>\n      <td>241.000000</td>\n      <td>0.000000</td>\n      <td>1.000000</td>\n      <td>147.000000</td>\n      <td>0.000000</td>\n      <td>1.100000</td>\n      <td>2.000000</td>\n      <td>1.000000</td>\n      <td>3.000000</td>\n      <td>33.000000</td>\n      <td>0.000000</td>\n    </tr>\n    <tr>\n      <th>50%</th>\n      <td>58.500000</td>\n      <td>1.000000</td>\n      <td>2.000000</td>\n      <td>137.500000</td>\n      <td>271.000000</td>\n      <td>0.000000</td>\n      <td>1.000000</td>\n      <td>165.500000</td>\n      <td>0.000000</td>\n      <td>1.600000</td>\n      <td>2.000000</td>\n      <td>3.000000</td>\n      <td>3.000000</td>\n      <td>56.500000</td>\n      <td>1.000000</td>\n    </tr>\n    <tr>\n      <th>75%</th>\n      <td>64.000000</td>\n      <td>1.000000</td>\n      <td>3.000000</td>\n      <td>150.000000</td>\n      <td>296.500000</td>\n      <td>0.000000</td>\n      <td>2.000000</td>\n      <td>177.250000</td>\n      <td>1.000000</td>\n      <td>2.350000</td>\n      <td>3.000000</td>\n      <td>3.250000</td>\n      <td>4.000000</td>\n      <td>78.250000</td>\n      <td>1.000000</td>\n    </tr>\n    <tr>\n      <th>max</th>\n      <td>81.000000</td>\n      <td>1.000000</td>\n      <td>5.000000</td>\n      <td>210.000000</td>\n      <td>421.000000</td>\n      <td>1.000000</td>\n      <td>2.000000</td>\n      <td>214.000000</td>\n      <td>1.000000</td>\n      <td>5.000000</td>\n      <td>3.000000</td>\n      <td>6.000000</td>\n      <td>5.000000</td>\n      <td>414.000000</td>\n      <td>1.000000</td>\n    </tr>\n  </tbody>\n</table>\n</div>"
     },
     "metadata": {}
    }
   ]
  },
  {
   "cell_type": "code",
   "metadata": {
    "tags": [],
    "cell_id": "00018-d484ba73-4b7a-4eec-a1ef-0f78f3e43c9e",
    "deepnote_to_be_reexecuted": false,
    "source_hash": "b623e53d",
    "execution_start": 1620564123555,
    "execution_millis": 2,
    "deepnote_cell_type": "code"
   },
   "source": "",
   "execution_count": 13,
   "outputs": []
  },
  {
   "cell_type": "code",
   "metadata": {
    "tags": [],
    "cell_id": "00018-fbd3b201-bb48-4da6-a912-fd77fb813056",
    "deepnote_to_be_reexecuted": false,
    "source_hash": "1a66b93c",
    "execution_start": 1620564123559,
    "execution_millis": 20,
    "deepnote_cell_type": "code"
   },
   "source": "full_df = pd.concat([df,df_aug_s])\nfull_df.shape",
   "execution_count": 14,
   "outputs": [
    {
     "output_type": "execute_result",
     "execution_count": 14,
     "data": {
      "text/plain": "(379, 15)"
     },
     "metadata": {}
    }
   ]
  },
  {
   "cell_type": "code",
   "metadata": {
    "tags": [],
    "cell_id": "00019-d4376224-0ed4-48b3-8d15-0066dee7bd21",
    "deepnote_to_be_reexecuted": false,
    "source_hash": "85bbd2dd",
    "execution_start": 1620564123569,
    "execution_millis": 3,
    "deepnote_cell_type": "code"
   },
   "source": "full_df['chol_fbs'] = full_df.chol * full_df.fbs",
   "execution_count": 15,
   "outputs": []
  },
  {
   "cell_type": "code",
   "metadata": {
    "tags": [],
    "cell_id": "00019-826f01d2-c600-48b1-a55f-e7747860b960",
    "deepnote_to_be_reexecuted": false,
    "source_hash": "963d0430",
    "execution_start": 1620564123576,
    "execution_millis": 8,
    "deepnote_cell_type": "code"
   },
   "source": "full_df.to_csv(\"augheart.csv\")",
   "execution_count": 16,
   "outputs": []
  },
  {
   "cell_type": "code",
   "metadata": {
    "tags": [],
    "cell_id": "00018-1ed954af-fe6d-4247-a324-b29db46d4bdd",
    "deepnote_to_be_reexecuted": false,
    "source_hash": "8daae2dc",
    "execution_start": 1620564123588,
    "execution_millis": 2,
    "deepnote_cell_type": "code"
   },
   "source": "df_test = df_aug.sample(50,random_state= 0) ",
   "execution_count": 17,
   "outputs": []
  },
  {
   "cell_type": "code",
   "metadata": {
    "tags": [],
    "cell_id": "00022-ec70649e-ae23-4d5c-9778-015926a7650a",
    "deepnote_to_be_reexecuted": false,
    "source_hash": "dec227d3",
    "execution_start": 1620564123592,
    "execution_millis": 6,
    "deepnote_cell_type": "code"
   },
   "source": "df_test.to_csv(\"test.csv\")",
   "execution_count": 18,
   "outputs": []
  },
  {
   "cell_type": "markdown",
   "source": "### Ends",
   "metadata": {
    "tags": [],
    "cell_id": "00015-c731d2d1-4c89-4dc2-b367-cf32dd9294d9",
    "deepnote_cell_type": "markdown"
   }
  },
  {
   "cell_type": "code",
   "metadata": {
    "tags": [],
    "cell_id": "00013-32fe8dff-27a1-4efa-b0fd-109e6dfde774",
    "deepnote_to_be_reexecuted": false,
    "source_hash": "b21dad84",
    "execution_start": 1620564123600,
    "execution_millis": 10,
    "deepnote_cell_type": "code"
   },
   "source": "\"\"\"print(len(dataset),\"augmented data created.\")\ndf_au=pd.DataFrame(dataset)\ndf_au\"\"\"",
   "execution_count": 19,
   "outputs": [
    {
     "output_type": "execute_result",
     "execution_count": 19,
     "data": {
      "text/plain": "'print(len(dataset),\"augmented data created.\")\\ndf_au=pd.DataFrame(dataset)\\ndf_au'"
     },
     "metadata": {}
    }
   ]
  },
  {
   "cell_type": "markdown",
   "source": "### Preprocessing &amp; Model definition",
   "metadata": {
    "tags": [],
    "cell_id": "00010-fcd44906-ff61-472e-8a94-44a3e0058026",
    "deepnote_cell_type": "text-cell-h3"
   }
  },
  {
   "cell_type": "code",
   "metadata": {
    "tags": [],
    "cell_id": "00012-c8669683-4e0c-4ac1-9ba5-81080d9b178b",
    "deepnote_to_be_reexecuted": false,
    "source_hash": "53e42d9c",
    "execution_start": 1620564123608,
    "execution_millis": 9,
    "deepnote_cell_type": "code"
   },
   "source": "print(df.shape)\nprint(full_df.shape)",
   "execution_count": 20,
   "outputs": [
    {
     "name": "stdout",
     "text": "(303, 15)\n(379, 15)\n",
     "output_type": "stream"
    }
   ]
  },
  {
   "cell_type": "code",
   "metadata": {
    "tags": [],
    "cell_id": "00011-b745f5e3-844d-40c1-8f9f-a643dcde2e3b",
    "deepnote_to_be_reexecuted": false,
    "source_hash": "d9949dab",
    "execution_start": 1620564123614,
    "execution_millis": 18200,
    "is_code_hidden": false,
    "output_cleared": false,
    "deepnote_cell_type": "code"
   },
   "source": "!pip install xgboost\n!pip install lightgbm\n!pip install catboost\n\nfrom sklearn.tree          import DecisionTreeClassifier\nfrom sklearn.ensemble      import RandomForestClassifier\nfrom sklearn.ensemble      import ExtraTreesClassifier\nfrom sklearn.ensemble      import AdaBoostClassifier\nfrom sklearn.ensemble      import GradientBoostingClassifier\nfrom sklearn.experimental  import enable_hist_gradient_boosting # Necesary for HistGradientBoostingClassifier\nfrom sklearn.ensemble      import HistGradientBoostingClassifier\nfrom xgboost               import XGBClassifier\nfrom lightgbm              import LGBMClassifier\nfrom catboost              import CatBoostClassifier\n\nfrom sklearn.linear_model import LogisticRegression, RidgeClassifier\nfrom sklearn.svm import SVC, NuSVC, LinearSVC\nfrom sklearn.neighbors import KNeighborsClassifier\nfrom sklearn.gaussian_process import GaussianProcessClassifier\nfrom sklearn.naive_bayes import GaussianNB",
   "execution_count": 21,
   "outputs": [
    {
     "name": "stdout",
     "text": "Collecting xgboost\n  Downloading xgboost-1.4.1-py3-none-manylinux2010_x86_64.whl (166.7 MB)\n\u001b[K     |████████████████████████████████| 166.7 MB 83.9 MB/s \n\u001b[?25hRequirement already satisfied: numpy in /shared-libs/python3.7/py/lib/python3.7/site-packages (from xgboost) (1.19.5)\nRequirement already satisfied: scipy in /shared-libs/python3.7/py/lib/python3.7/site-packages (from xgboost) (1.6.3)\nInstalling collected packages: xgboost\nSuccessfully installed xgboost-1.4.1\nCollecting lightgbm\n  Downloading lightgbm-3.2.1-py3-none-manylinux1_x86_64.whl (2.0 MB)\n\u001b[K     |████████████████████████████████| 2.0 MB 25.9 MB/s \n\u001b[?25hRequirement already satisfied: scikit-learn!=0.22.0 in /shared-libs/python3.7/py/lib/python3.7/site-packages (from lightgbm) (0.24.2)\nRequirement already satisfied: scipy in /shared-libs/python3.7/py/lib/python3.7/site-packages (from lightgbm) (1.6.3)\nRequirement already satisfied: wheel in /root/venv/lib/python3.7/site-packages (from lightgbm) (0.36.2)\nRequirement already satisfied: numpy in /shared-libs/python3.7/py/lib/python3.7/site-packages (from lightgbm) (1.19.5)\nRequirement already satisfied: joblib>=0.11 in /shared-libs/python3.7/py/lib/python3.7/site-packages (from scikit-learn!=0.22.0->lightgbm) (1.0.1)\nRequirement already satisfied: threadpoolctl>=2.0.0 in /shared-libs/python3.7/py/lib/python3.7/site-packages (from scikit-learn!=0.22.0->lightgbm) (2.1.0)\nInstalling collected packages: lightgbm\nSuccessfully installed lightgbm-3.2.1\nCollecting catboost\n  Downloading catboost-0.25.1-cp37-none-manylinux1_x86_64.whl (67.3 MB)\n\u001b[K     |████████████████████████████████| 67.3 MB 38 kB/s \n\u001b[?25hRequirement already satisfied: plotly in /shared-libs/python3.7/py/lib/python3.7/site-packages (from catboost) (4.14.3)\nCollecting graphviz\n  Downloading graphviz-0.16-py2.py3-none-any.whl (19 kB)\nRequirement already satisfied: six in /shared-libs/python3.7/py-core/lib/python3.7/site-packages (from catboost) (1.16.0)\nRequirement already satisfied: matplotlib in /shared-libs/python3.7/py/lib/python3.7/site-packages (from catboost) (3.4.1)\nRequirement already satisfied: scipy in /shared-libs/python3.7/py/lib/python3.7/site-packages (from catboost) (1.6.3)\nRequirement already satisfied: pandas>=0.24.0 in /shared-libs/python3.7/py/lib/python3.7/site-packages (from catboost) (1.2.4)\nRequirement already satisfied: numpy>=1.16.0 in /shared-libs/python3.7/py/lib/python3.7/site-packages (from catboost) (1.19.5)\nRequirement already satisfied: python-dateutil>=2.7.3 in /shared-libs/python3.7/py-core/lib/python3.7/site-packages (from pandas>=0.24.0->catboost) (2.8.1)\nRequirement already satisfied: pytz>=2017.3 in /shared-libs/python3.7/py/lib/python3.7/site-packages (from pandas>=0.24.0->catboost) (2021.1)\nRequirement already satisfied: kiwisolver>=1.0.1 in /shared-libs/python3.7/py/lib/python3.7/site-packages (from matplotlib->catboost) (1.3.1)\nRequirement already satisfied: pillow>=6.2.0 in /shared-libs/python3.7/py/lib/python3.7/site-packages (from matplotlib->catboost) (8.2.0)\nRequirement already satisfied: cycler>=0.10 in /shared-libs/python3.7/py/lib/python3.7/site-packages (from matplotlib->catboost) (0.10.0)\nRequirement already satisfied: pyparsing>=2.2.1 in /shared-libs/python3.7/py-core/lib/python3.7/site-packages (from matplotlib->catboost) (2.4.7)\nRequirement already satisfied: retrying>=1.3.3 in /shared-libs/python3.7/py/lib/python3.7/site-packages (from plotly->catboost) (1.3.3)\nInstalling collected packages: graphviz, catboost\nSuccessfully installed catboost-0.25.1 graphviz-0.16\n",
     "output_type": "stream"
    }
   ]
  },
  {
   "cell_type": "code",
   "metadata": {
    "tags": [],
    "cell_id": "00010-3751bc78-0644-4a33-966d-41800b89bd6f",
    "deepnote_to_be_reexecuted": false,
    "source_hash": "5c8342db",
    "execution_start": 1620564141814,
    "execution_millis": 1,
    "deepnote_cell_type": "code"
   },
   "source": "#Variables\n\ncat_vars  = ['sex','cp','fbs','restecg','exang','slope','ca','thal']\nnum_vars  = ['age', 'trestbps', 'chol', 'thalach', 'oldpeak']\nnum_vars_wfe = ['age', 'trestbps', 'chol', 'thalach', 'oldpeak','chol_fbs']",
   "execution_count": 22,
   "outputs": []
  },
  {
   "cell_type": "code",
   "metadata": {
    "tags": [],
    "cell_id": "00010-96682acd-0ce5-4485-b470-2bcfc4fc34f1",
    "deepnote_to_be_reexecuted": false,
    "source_hash": "3587666d",
    "execution_start": 1620564141816,
    "execution_millis": 8,
    "deepnote_cell_type": "code"
   },
   "source": "num_4_tree = pipeline.Pipeline(steps=[\n    ('imputer', impute.SimpleImputer(strategy='mean', add_indicator=False)),\n])\n\ncat_4_tree = pipeline.Pipeline(steps=[\n    ('imputer', impute.SimpleImputer(strategy='constant')),\n    #('onehot', preprocessing.OneHotEncoder(handle_unknown='ignore'))\n])\n\n\nnum_4_mult = pipeline.Pipeline(steps=[\n    ('imputer', impute.SimpleImputer(strategy='mean', add_indicator=True)), # mean, median\n    ('scaler', preprocessing.StandardScaler())\n])\n\ncat_4_mult = pipeline.Pipeline(steps=[\n    ('imputer', impute.SimpleImputer(strategy='constant')),\n    #('onehot', preprocessing.OneHotEncoder(handle_unknown='ignore'))\n])\n",
   "execution_count": 23,
   "outputs": []
  },
  {
   "cell_type": "code",
   "metadata": {
    "tags": [],
    "cell_id": "00028-9ada3721-7370-4442-9938-b6c2bc70f08e",
    "deepnote_to_be_reexecuted": false,
    "source_hash": "bf0bc49e",
    "execution_start": 1620564141825,
    "execution_millis": 5,
    "deepnote_cell_type": "code"
   },
   "source": "#Preprocessors WITHOUT engineered feature\n\ntree_prepro = compose.ColumnTransformer(transformers=[\n    ('num', num_4_tree, num_vars),\n    ('cat', cat_4_tree, cat_vars)\n], remainder='drop')\n\n\nmult_prepro = compose.ColumnTransformer(transformers=[\n    ('num', num_4_mult, num_vars),\n    ('cat', cat_4_mult, cat_vars)\n], remainder='drop') \n",
   "execution_count": 24,
   "outputs": []
  },
  {
   "cell_type": "code",
   "metadata": {
    "tags": [],
    "cell_id": "00028-d328e2c7-f77c-46c7-bf97-67842deb8e6e",
    "deepnote_to_be_reexecuted": false,
    "source_hash": "df93893c",
    "execution_start": 1620564141832,
    "execution_millis": 4,
    "deepnote_cell_type": "code"
   },
   "source": "#Preprocessors WITH engineered feature\n\ntree_prepro_wfe = compose.ColumnTransformer(transformers=[\n    ('num', num_4_tree, num_vars_wfe),\n    ('cat', cat_4_tree, cat_vars)\n], remainder='drop')\n\nmult_prepro_wfe = compose.ColumnTransformer(transformers=[\n    ('num', num_4_mult, num_vars_wfe),\n    ('cat', cat_4_mult, cat_vars)\n], remainder='drop') \n",
   "execution_count": 25,
   "outputs": []
  },
  {
   "cell_type": "code",
   "metadata": {
    "tags": [],
    "cell_id": "00016-4bd0c6e0-29ad-4ed4-a9d6-f7fa5c74fe6a",
    "deepnote_to_be_reexecuted": false,
    "source_hash": "ff580f47",
    "execution_start": 1620564141841,
    "execution_millis": 3,
    "deepnote_cell_type": "code"
   },
   "source": "mult_models = {\n  \"LogRegr\":        LogisticRegression(),\n  \"Ridge\":          RidgeClassifier(),\n  \"SVM_lin\":         SVC(kernel=\"linear\", probability=True), # C=0.025\n  \"SVM_rbf\":         SVC(kernel='rbf', probability=True),\n  \"NuSVC\":           NuSVC(probability=True),\n  \"LinearSVC\":       LinearSVC(),\n  \"KNN3\":            KNeighborsClassifier(3),\n  \"KNN5\":            KNeighborsClassifier(5),\n  \"GaussianNB\":      GaussianNB()\n}\n\ntree_models = {\n  \"Decision Tree\": DecisionTreeClassifier(),\n  \"Extra Trees\": ExtraTreesClassifier(),\n  \"Random Forest\": RandomForestClassifier(),\n  \"AdaBoost\": AdaBoostClassifier(),\n  \"Skl GBM\": GradientBoostingClassifier(),\n  \"Skl HistGBM\": GradientBoostingClassifier(),\n  \"XGBoost\": XGBClassifier(),\n  'LightGBM': LGBMClassifier(),\n  'CatBoost': CatBoostClassifier()}\n",
   "execution_count": 26,
   "outputs": []
  },
  {
   "cell_type": "code",
   "metadata": {
    "tags": [],
    "cell_id": "00031-566530cd-a091-43c1-aa5c-0afd3f3a4495",
    "deepnote_to_be_reexecuted": false,
    "source_hash": "c02ff397",
    "execution_start": 1620564141847,
    "execution_millis": 2,
    "deepnote_cell_type": "code"
   },
   "source": "mult_classifiers = {name: pipeline.make_pipeline(mult_prepro, model) for name, model in mult_models.items()}\ntree_classifiers = {name: pipeline.make_pipeline(tree_prepro, model) for name, model in tree_models.items()}\n\nmodels = {**mult_classifiers, **tree_classifiers}",
   "execution_count": 27,
   "outputs": []
  },
  {
   "cell_type": "code",
   "metadata": {
    "tags": [],
    "cell_id": "00032-cb34f94a-f257-40cf-a6ee-841651c1e22a",
    "deepnote_to_be_reexecuted": false,
    "source_hash": "67fdee1",
    "execution_start": 1620564141852,
    "execution_millis": 3,
    "deepnote_cell_type": "code"
   },
   "source": "mult_classifiers_wfe = {name: pipeline.make_pipeline(mult_prepro_wfe, model) for name, model in mult_models.items()}\ntree_classifiers_wfe = {name: pipeline.make_pipeline(tree_prepro_wfe, model) for name, model in tree_models.items()}\n\nmodels_wfe = {**mult_classifiers_wfe, **tree_classifiers_wfe}",
   "execution_count": 28,
   "outputs": []
  },
  {
   "cell_type": "markdown",
   "source": "### Predicting on original dataset",
   "metadata": {
    "tags": [],
    "cell_id": "00021-124c3634-2d71-4ae7-aeea-2475e009f472",
    "deepnote_cell_type": "text-cell-h3"
   }
  },
  {
   "cell_type": "code",
   "metadata": {
    "tags": [],
    "cell_id": "00034-3534e290-9c72-4602-932f-9237157ad8ce",
    "deepnote_to_be_reexecuted": false,
    "source_hash": "75f0e54d",
    "execution_start": 1620564141902,
    "execution_millis": 0,
    "deepnote_cell_type": "code"
   },
   "source": "x = df[num_vars + cat_vars]\ny = df.target\n\nx_train, x_val, y_train, y_val = model_selection.train_test_split(x,y,test_size=0.2,stratify=y,random_state=0)\n",
   "execution_count": 29,
   "outputs": []
  },
  {
   "cell_type": "code",
   "metadata": {
    "tags": [],
    "cell_id": "00035-dd713abb-887a-414b-8b65-3856baae5a9f",
    "deepnote_to_be_reexecuted": false,
    "source_hash": "699fec56",
    "execution_start": 1620564141903,
    "execution_millis": 9,
    "deepnote_cell_type": "code"
   },
   "source": "x.head()",
   "execution_count": 30,
   "outputs": [
    {
     "output_type": "execute_result",
     "execution_count": 30,
     "data": {
      "application/vnd.deepnote.dataframe.v2+json": {
       "row_count": 5,
       "column_count": 13,
       "columns": [
        {
         "name": "age",
         "dtype": "int64",
         "stats": {
          "unique_count": 5,
          "nan_count": 0,
          "min": "37",
          "max": "63",
          "histogram": [
           {
            "bin_start": 37,
            "bin_end": 39.6,
            "count": 1
           },
           {
            "bin_start": 39.6,
            "bin_end": 42.2,
            "count": 1
           },
           {
            "bin_start": 42.2,
            "bin_end": 44.8,
            "count": 0
           },
           {
            "bin_start": 44.8,
            "bin_end": 47.4,
            "count": 0
           },
           {
            "bin_start": 47.4,
            "bin_end": 50,
            "count": 0
           },
           {
            "bin_start": 50,
            "bin_end": 52.6,
            "count": 0
           },
           {
            "bin_start": 52.6,
            "bin_end": 55.2,
            "count": 0
           },
           {
            "bin_start": 55.2,
            "bin_end": 57.8,
            "count": 2
           },
           {
            "bin_start": 57.8,
            "bin_end": 60.400000000000006,
            "count": 0
           },
           {
            "bin_start": 60.400000000000006,
            "bin_end": 63,
            "count": 1
           }
          ]
         }
        },
        {
         "name": "trestbps",
         "dtype": "int64",
         "stats": {
          "unique_count": 3,
          "nan_count": 0,
          "min": "120",
          "max": "145",
          "histogram": [
           {
            "bin_start": 120,
            "bin_end": 122.5,
            "count": 2
           },
           {
            "bin_start": 122.5,
            "bin_end": 125,
            "count": 0
           },
           {
            "bin_start": 125,
            "bin_end": 127.5,
            "count": 0
           },
           {
            "bin_start": 127.5,
            "bin_end": 130,
            "count": 0
           },
           {
            "bin_start": 130,
            "bin_end": 132.5,
            "count": 2
           },
           {
            "bin_start": 132.5,
            "bin_end": 135,
            "count": 0
           },
           {
            "bin_start": 135,
            "bin_end": 137.5,
            "count": 0
           },
           {
            "bin_start": 137.5,
            "bin_end": 140,
            "count": 0
           },
           {
            "bin_start": 140,
            "bin_end": 142.5,
            "count": 0
           },
           {
            "bin_start": 142.5,
            "bin_end": 145,
            "count": 1
           }
          ]
         }
        },
        {
         "name": "chol",
         "dtype": "int64",
         "stats": {
          "unique_count": 5,
          "nan_count": 0,
          "min": "204",
          "max": "354",
          "histogram": [
           {
            "bin_start": 204,
            "bin_end": 219,
            "count": 1
           },
           {
            "bin_start": 219,
            "bin_end": 234,
            "count": 1
           },
           {
            "bin_start": 234,
            "bin_end": 249,
            "count": 1
           },
           {
            "bin_start": 249,
            "bin_end": 264,
            "count": 1
           },
           {
            "bin_start": 264,
            "bin_end": 279,
            "count": 0
           },
           {
            "bin_start": 279,
            "bin_end": 294,
            "count": 0
           },
           {
            "bin_start": 294,
            "bin_end": 309,
            "count": 0
           },
           {
            "bin_start": 309,
            "bin_end": 324,
            "count": 0
           },
           {
            "bin_start": 324,
            "bin_end": 339,
            "count": 0
           },
           {
            "bin_start": 339,
            "bin_end": 354,
            "count": 1
           }
          ]
         }
        },
        {
         "name": "thalach",
         "dtype": "int64",
         "stats": {
          "unique_count": 5,
          "nan_count": 0,
          "min": "150",
          "max": "187",
          "histogram": [
           {
            "bin_start": 150,
            "bin_end": 153.7,
            "count": 1
           },
           {
            "bin_start": 153.7,
            "bin_end": 157.4,
            "count": 0
           },
           {
            "bin_start": 157.4,
            "bin_end": 161.1,
            "count": 0
           },
           {
            "bin_start": 161.1,
            "bin_end": 164.8,
            "count": 1
           },
           {
            "bin_start": 164.8,
            "bin_end": 168.5,
            "count": 0
           },
           {
            "bin_start": 168.5,
            "bin_end": 172.2,
            "count": 1
           },
           {
            "bin_start": 172.2,
            "bin_end": 175.9,
            "count": 0
           },
           {
            "bin_start": 175.9,
            "bin_end": 179.6,
            "count": 1
           },
           {
            "bin_start": 179.6,
            "bin_end": 183.3,
            "count": 0
           },
           {
            "bin_start": 183.3,
            "bin_end": 187,
            "count": 1
           }
          ]
         }
        },
        {
         "name": "oldpeak",
         "dtype": "float64",
         "stats": {
          "unique_count": 5,
          "nan_count": 0,
          "min": "0.6",
          "max": "3.5",
          "histogram": [
           {
            "bin_start": 0.6,
            "bin_end": 0.8899999999999999,
            "count": 2
           },
           {
            "bin_start": 0.8899999999999999,
            "bin_end": 1.18,
            "count": 0
           },
           {
            "bin_start": 1.18,
            "bin_end": 1.4699999999999998,
            "count": 1
           },
           {
            "bin_start": 1.4699999999999998,
            "bin_end": 1.7599999999999998,
            "count": 0
           },
           {
            "bin_start": 1.7599999999999998,
            "bin_end": 2.05,
            "count": 0
           },
           {
            "bin_start": 2.05,
            "bin_end": 2.34,
            "count": 1
           },
           {
            "bin_start": 2.34,
            "bin_end": 2.63,
            "count": 0
           },
           {
            "bin_start": 2.63,
            "bin_end": 2.92,
            "count": 0
           },
           {
            "bin_start": 2.92,
            "bin_end": 3.21,
            "count": 0
           },
           {
            "bin_start": 3.21,
            "bin_end": 3.5,
            "count": 1
           }
          ]
         }
        },
        {
         "name": "sex",
         "dtype": "int64",
         "stats": {
          "unique_count": 2,
          "nan_count": 0,
          "min": "0",
          "max": "1",
          "histogram": [
           {
            "bin_start": 0,
            "bin_end": 0.1,
            "count": 2
           },
           {
            "bin_start": 0.1,
            "bin_end": 0.2,
            "count": 0
           },
           {
            "bin_start": 0.2,
            "bin_end": 0.30000000000000004,
            "count": 0
           },
           {
            "bin_start": 0.30000000000000004,
            "bin_end": 0.4,
            "count": 0
           },
           {
            "bin_start": 0.4,
            "bin_end": 0.5,
            "count": 0
           },
           {
            "bin_start": 0.5,
            "bin_end": 0.6000000000000001,
            "count": 0
           },
           {
            "bin_start": 0.6000000000000001,
            "bin_end": 0.7000000000000001,
            "count": 0
           },
           {
            "bin_start": 0.7000000000000001,
            "bin_end": 0.8,
            "count": 0
           },
           {
            "bin_start": 0.8,
            "bin_end": 0.9,
            "count": 0
           },
           {
            "bin_start": 0.9,
            "bin_end": 1,
            "count": 3
           }
          ]
         }
        },
        {
         "name": "cp",
         "dtype": "int64",
         "stats": {
          "unique_count": 4,
          "nan_count": 0,
          "min": "0",
          "max": "3",
          "histogram": [
           {
            "bin_start": 0,
            "bin_end": 0.3,
            "count": 1
           },
           {
            "bin_start": 0.3,
            "bin_end": 0.6,
            "count": 0
           },
           {
            "bin_start": 0.6,
            "bin_end": 0.8999999999999999,
            "count": 0
           },
           {
            "bin_start": 0.8999999999999999,
            "bin_end": 1.2,
            "count": 2
           },
           {
            "bin_start": 1.2,
            "bin_end": 1.5,
            "count": 0
           },
           {
            "bin_start": 1.5,
            "bin_end": 1.7999999999999998,
            "count": 0
           },
           {
            "bin_start": 1.7999999999999998,
            "bin_end": 2.1,
            "count": 1
           },
           {
            "bin_start": 2.1,
            "bin_end": 2.4,
            "count": 0
           },
           {
            "bin_start": 2.4,
            "bin_end": 2.6999999999999997,
            "count": 0
           },
           {
            "bin_start": 2.6999999999999997,
            "bin_end": 3,
            "count": 1
           }
          ]
         }
        },
        {
         "name": "fbs",
         "dtype": "int64",
         "stats": {
          "unique_count": 2,
          "nan_count": 0,
          "min": "0",
          "max": "1",
          "histogram": [
           {
            "bin_start": 0,
            "bin_end": 0.1,
            "count": 4
           },
           {
            "bin_start": 0.1,
            "bin_end": 0.2,
            "count": 0
           },
           {
            "bin_start": 0.2,
            "bin_end": 0.30000000000000004,
            "count": 0
           },
           {
            "bin_start": 0.30000000000000004,
            "bin_end": 0.4,
            "count": 0
           },
           {
            "bin_start": 0.4,
            "bin_end": 0.5,
            "count": 0
           },
           {
            "bin_start": 0.5,
            "bin_end": 0.6000000000000001,
            "count": 0
           },
           {
            "bin_start": 0.6000000000000001,
            "bin_end": 0.7000000000000001,
            "count": 0
           },
           {
            "bin_start": 0.7000000000000001,
            "bin_end": 0.8,
            "count": 0
           },
           {
            "bin_start": 0.8,
            "bin_end": 0.9,
            "count": 0
           },
           {
            "bin_start": 0.9,
            "bin_end": 1,
            "count": 1
           }
          ]
         }
        },
        {
         "name": "restecg",
         "dtype": "int64",
         "stats": {
          "unique_count": 2,
          "nan_count": 0,
          "min": "0",
          "max": "1",
          "histogram": [
           {
            "bin_start": 0,
            "bin_end": 0.1,
            "count": 2
           },
           {
            "bin_start": 0.1,
            "bin_end": 0.2,
            "count": 0
           },
           {
            "bin_start": 0.2,
            "bin_end": 0.30000000000000004,
            "count": 0
           },
           {
            "bin_start": 0.30000000000000004,
            "bin_end": 0.4,
            "count": 0
           },
           {
            "bin_start": 0.4,
            "bin_end": 0.5,
            "count": 0
           },
           {
            "bin_start": 0.5,
            "bin_end": 0.6000000000000001,
            "count": 0
           },
           {
            "bin_start": 0.6000000000000001,
            "bin_end": 0.7000000000000001,
            "count": 0
           },
           {
            "bin_start": 0.7000000000000001,
            "bin_end": 0.8,
            "count": 0
           },
           {
            "bin_start": 0.8,
            "bin_end": 0.9,
            "count": 0
           },
           {
            "bin_start": 0.9,
            "bin_end": 1,
            "count": 3
           }
          ]
         }
        },
        {
         "name": "exang",
         "dtype": "int64",
         "stats": {
          "unique_count": 2,
          "nan_count": 0,
          "min": "0",
          "max": "1",
          "histogram": [
           {
            "bin_start": 0,
            "bin_end": 0.1,
            "count": 4
           },
           {
            "bin_start": 0.1,
            "bin_end": 0.2,
            "count": 0
           },
           {
            "bin_start": 0.2,
            "bin_end": 0.30000000000000004,
            "count": 0
           },
           {
            "bin_start": 0.30000000000000004,
            "bin_end": 0.4,
            "count": 0
           },
           {
            "bin_start": 0.4,
            "bin_end": 0.5,
            "count": 0
           },
           {
            "bin_start": 0.5,
            "bin_end": 0.6000000000000001,
            "count": 0
           },
           {
            "bin_start": 0.6000000000000001,
            "bin_end": 0.7000000000000001,
            "count": 0
           },
           {
            "bin_start": 0.7000000000000001,
            "bin_end": 0.8,
            "count": 0
           },
           {
            "bin_start": 0.8,
            "bin_end": 0.9,
            "count": 0
           },
           {
            "bin_start": 0.9,
            "bin_end": 1,
            "count": 1
           }
          ]
         }
        },
        {
         "name": "slope",
         "dtype": "int64",
         "stats": {
          "unique_count": 2,
          "nan_count": 0,
          "min": "0",
          "max": "2",
          "histogram": [
           {
            "bin_start": 0,
            "bin_end": 0.2,
            "count": 2
           },
           {
            "bin_start": 0.2,
            "bin_end": 0.4,
            "count": 0
           },
           {
            "bin_start": 0.4,
            "bin_end": 0.6000000000000001,
            "count": 0
           },
           {
            "bin_start": 0.6000000000000001,
            "bin_end": 0.8,
            "count": 0
           },
           {
            "bin_start": 0.8,
            "bin_end": 1,
            "count": 0
           },
           {
            "bin_start": 1,
            "bin_end": 1.2000000000000002,
            "count": 0
           },
           {
            "bin_start": 1.2000000000000002,
            "bin_end": 1.4000000000000001,
            "count": 0
           },
           {
            "bin_start": 1.4000000000000001,
            "bin_end": 1.6,
            "count": 0
           },
           {
            "bin_start": 1.6,
            "bin_end": 1.8,
            "count": 0
           },
           {
            "bin_start": 1.8,
            "bin_end": 2,
            "count": 3
           }
          ]
         }
        },
        {
         "name": "ca",
         "dtype": "int64",
         "stats": {
          "unique_count": 1,
          "nan_count": 0,
          "min": "0",
          "max": "0",
          "histogram": [
           {
            "bin_start": -0.5,
            "bin_end": -0.4,
            "count": 0
           },
           {
            "bin_start": -0.4,
            "bin_end": -0.3,
            "count": 0
           },
           {
            "bin_start": -0.3,
            "bin_end": -0.19999999999999996,
            "count": 0
           },
           {
            "bin_start": -0.19999999999999996,
            "bin_end": -0.09999999999999998,
            "count": 0
           },
           {
            "bin_start": -0.09999999999999998,
            "bin_end": 0,
            "count": 0
           },
           {
            "bin_start": 0,
            "bin_end": 0.10000000000000009,
            "count": 5
           },
           {
            "bin_start": 0.10000000000000009,
            "bin_end": 0.20000000000000007,
            "count": 0
           },
           {
            "bin_start": 0.20000000000000007,
            "bin_end": 0.30000000000000004,
            "count": 0
           },
           {
            "bin_start": 0.30000000000000004,
            "bin_end": 0.4,
            "count": 0
           },
           {
            "bin_start": 0.4,
            "bin_end": 0.5,
            "count": 0
           }
          ]
         }
        },
        {
         "name": "thal",
         "dtype": "int64",
         "stats": {
          "unique_count": 2,
          "nan_count": 0,
          "min": "1",
          "max": "2",
          "histogram": [
           {
            "bin_start": 1,
            "bin_end": 1.1,
            "count": 1
           },
           {
            "bin_start": 1.1,
            "bin_end": 1.2,
            "count": 0
           },
           {
            "bin_start": 1.2,
            "bin_end": 1.3,
            "count": 0
           },
           {
            "bin_start": 1.3,
            "bin_end": 1.4,
            "count": 0
           },
           {
            "bin_start": 1.4,
            "bin_end": 1.5,
            "count": 0
           },
           {
            "bin_start": 1.5,
            "bin_end": 1.6,
            "count": 0
           },
           {
            "bin_start": 1.6,
            "bin_end": 1.7000000000000002,
            "count": 0
           },
           {
            "bin_start": 1.7000000000000002,
            "bin_end": 1.8,
            "count": 0
           },
           {
            "bin_start": 1.8,
            "bin_end": 1.9,
            "count": 0
           },
           {
            "bin_start": 1.9,
            "bin_end": 2,
            "count": 4
           }
          ]
         }
        },
        {
         "name": "_deepnote_index_column",
         "dtype": "int64"
        }
       ],
       "rows_top": [
        {
         "age": 63,
         "trestbps": 145,
         "chol": 233,
         "thalach": 150,
         "oldpeak": 2.3,
         "sex": 1,
         "cp": 3,
         "fbs": 1,
         "restecg": 0,
         "exang": 0,
         "slope": 0,
         "ca": 0,
         "thal": 1,
         "_deepnote_index_column": 0
        },
        {
         "age": 37,
         "trestbps": 130,
         "chol": 250,
         "thalach": 187,
         "oldpeak": 3.5,
         "sex": 1,
         "cp": 2,
         "fbs": 0,
         "restecg": 1,
         "exang": 0,
         "slope": 0,
         "ca": 0,
         "thal": 2,
         "_deepnote_index_column": 1
        },
        {
         "age": 41,
         "trestbps": 130,
         "chol": 204,
         "thalach": 172,
         "oldpeak": 1.4,
         "sex": 0,
         "cp": 1,
         "fbs": 0,
         "restecg": 0,
         "exang": 0,
         "slope": 2,
         "ca": 0,
         "thal": 2,
         "_deepnote_index_column": 2
        },
        {
         "age": 56,
         "trestbps": 120,
         "chol": 236,
         "thalach": 178,
         "oldpeak": 0.8,
         "sex": 1,
         "cp": 1,
         "fbs": 0,
         "restecg": 1,
         "exang": 0,
         "slope": 2,
         "ca": 0,
         "thal": 2,
         "_deepnote_index_column": 3
        },
        {
         "age": 57,
         "trestbps": 120,
         "chol": 354,
         "thalach": 163,
         "oldpeak": 0.6,
         "sex": 0,
         "cp": 0,
         "fbs": 0,
         "restecg": 1,
         "exang": 1,
         "slope": 2,
         "ca": 0,
         "thal": 2,
         "_deepnote_index_column": 4
        }
       ],
       "rows_bottom": null
      },
      "text/plain": "   age  trestbps  chol  thalach  oldpeak  sex  cp  fbs  restecg  exang  slope  \\\n0   63       145   233      150      2.3    1   3    1        0      0      0   \n1   37       130   250      187      3.5    1   2    0        1      0      0   \n2   41       130   204      172      1.4    0   1    0        0      0      2   \n3   56       120   236      178      0.8    1   1    0        1      0      2   \n4   57       120   354      163      0.6    0   0    0        1      1      2   \n\n   ca  thal  \n0   0     1  \n1   0     2  \n2   0     2  \n3   0     2  \n4   0     2  ",
      "text/html": "<div>\n<style scoped>\n    .dataframe tbody tr th:only-of-type {\n        vertical-align: middle;\n    }\n\n    .dataframe tbody tr th {\n        vertical-align: top;\n    }\n\n    .dataframe thead th {\n        text-align: right;\n    }\n</style>\n<table border=\"1\" class=\"dataframe\">\n  <thead>\n    <tr style=\"text-align: right;\">\n      <th></th>\n      <th>age</th>\n      <th>trestbps</th>\n      <th>chol</th>\n      <th>thalach</th>\n      <th>oldpeak</th>\n      <th>sex</th>\n      <th>cp</th>\n      <th>fbs</th>\n      <th>restecg</th>\n      <th>exang</th>\n      <th>slope</th>\n      <th>ca</th>\n      <th>thal</th>\n    </tr>\n  </thead>\n  <tbody>\n    <tr>\n      <th>0</th>\n      <td>63</td>\n      <td>145</td>\n      <td>233</td>\n      <td>150</td>\n      <td>2.3</td>\n      <td>1</td>\n      <td>3</td>\n      <td>1</td>\n      <td>0</td>\n      <td>0</td>\n      <td>0</td>\n      <td>0</td>\n      <td>1</td>\n    </tr>\n    <tr>\n      <th>1</th>\n      <td>37</td>\n      <td>130</td>\n      <td>250</td>\n      <td>187</td>\n      <td>3.5</td>\n      <td>1</td>\n      <td>2</td>\n      <td>0</td>\n      <td>1</td>\n      <td>0</td>\n      <td>0</td>\n      <td>0</td>\n      <td>2</td>\n    </tr>\n    <tr>\n      <th>2</th>\n      <td>41</td>\n      <td>130</td>\n      <td>204</td>\n      <td>172</td>\n      <td>1.4</td>\n      <td>0</td>\n      <td>1</td>\n      <td>0</td>\n      <td>0</td>\n      <td>0</td>\n      <td>2</td>\n      <td>0</td>\n      <td>2</td>\n    </tr>\n    <tr>\n      <th>3</th>\n      <td>56</td>\n      <td>120</td>\n      <td>236</td>\n      <td>178</td>\n      <td>0.8</td>\n      <td>1</td>\n      <td>1</td>\n      <td>0</td>\n      <td>1</td>\n      <td>0</td>\n      <td>2</td>\n      <td>0</td>\n      <td>2</td>\n    </tr>\n    <tr>\n      <th>4</th>\n      <td>57</td>\n      <td>120</td>\n      <td>354</td>\n      <td>163</td>\n      <td>0.6</td>\n      <td>0</td>\n      <td>0</td>\n      <td>0</td>\n      <td>1</td>\n      <td>1</td>\n      <td>2</td>\n      <td>0</td>\n      <td>2</td>\n    </tr>\n  </tbody>\n</table>\n</div>"
     },
     "metadata": {}
    }
   ]
  },
  {
   "cell_type": "code",
   "metadata": {
    "tags": [],
    "cell_id": "00017-696837f1-098a-4dc8-968b-c2a4ec53b0b9",
    "deepnote_to_be_reexecuted": false,
    "source_hash": "4fdf3826",
    "execution_start": 1620564141922,
    "execution_millis": 2177,
    "deepnote_cell_type": "code"
   },
   "source": "results = pd.DataFrame({'Model': [], 'Accuracy': [], 'Bal Acc.': [], 'Time': []})\n\n\nfor model_name, model in models.items():\n    \n    start_time = time.time()\n    model.fit(x_train,y_train)\n    pred = model.predict(x_val)\n    total_time = time.time() - start_time\n\n    results = results.append({\"Model\":    model_name,\n                              \"Accuracy\": metrics.accuracy_score(y_val, pred)*100,\n                              \"Bal Acc.\": metrics.balanced_accuracy_score(y_val, pred)*100,\n                              \"Time\":     total_time},\n                              ignore_index=True)\n                              ",
   "execution_count": 31,
   "outputs": [
    {
     "name": "stderr",
     "text": "1:\tlearn: 0.6846383\ttotal: 48.7ms\tremaining: 24.3s\n2:\tlearn: 0.6801672\ttotal: 49.5ms\tremaining: 16.5s\n3:\tlearn: 0.6748581\ttotal: 50.4ms\tremaining: 12.5s\n4:\tlearn: 0.6715237\ttotal: 51.2ms\tremaining: 10.2s\n5:\tlearn: 0.6677524\ttotal: 52.1ms\tremaining: 8.63s\n6:\tlearn: 0.6645073\ttotal: 52.9ms\tremaining: 7.5s\n7:\tlearn: 0.6606824\ttotal: 53.7ms\tremaining: 6.66s\n8:\tlearn: 0.6563728\ttotal: 54.6ms\tremaining: 6.01s\n9:\tlearn: 0.6536571\ttotal: 55.2ms\tremaining: 5.47s\n10:\tlearn: 0.6511385\ttotal: 55.7ms\tremaining: 5.01s\n11:\tlearn: 0.6474795\ttotal: 56.6ms\tremaining: 4.66s\n12:\tlearn: 0.6441003\ttotal: 57.4ms\tremaining: 4.36s\n13:\tlearn: 0.6400368\ttotal: 58.3ms\tremaining: 4.11s\n14:\tlearn: 0.6368866\ttotal: 59.2ms\tremaining: 3.88s\n15:\tlearn: 0.6327358\ttotal: 60ms\tremaining: 3.69s\n16:\tlearn: 0.6289195\ttotal: 60.9ms\tremaining: 3.52s\n17:\tlearn: 0.6251071\ttotal: 62.2ms\tremaining: 3.39s\n18:\tlearn: 0.6215853\ttotal: 63ms\tremaining: 3.25s\n19:\tlearn: 0.6174848\ttotal: 64.1ms\tremaining: 3.14s\n20:\tlearn: 0.6145854\ttotal: 65.6ms\tremaining: 3.06s\n21:\tlearn: 0.6115736\ttotal: 67.1ms\tremaining: 2.98s\n22:\tlearn: 0.6092260\ttotal: 68.8ms\tremaining: 2.92s\n23:\tlearn: 0.6049927\ttotal: 70.3ms\tremaining: 2.86s\n24:\tlearn: 0.6011203\ttotal: 71.4ms\tremaining: 2.78s\n25:\tlearn: 0.5981705\ttotal: 72.8ms\tremaining: 2.73s\n26:\tlearn: 0.5945817\ttotal: 73.9ms\tremaining: 2.66s\n27:\tlearn: 0.5914824\ttotal: 74.8ms\tremaining: 2.6s\n28:\tlearn: 0.5881491\ttotal: 75.9ms\tremaining: 2.54s\n29:\tlearn: 0.5871239\ttotal: 76.3ms\tremaining: 2.47s\n30:\tlearn: 0.5838421\ttotal: 77.5ms\tremaining: 2.42s\n31:\tlearn: 0.5807375\ttotal: 78.3ms\tremaining: 2.37s\n32:\tlearn: 0.5783340\ttotal: 79.4ms\tremaining: 2.33s\n33:\tlearn: 0.5750971\ttotal: 80.3ms\tremaining: 2.28s\n34:\tlearn: 0.5721974\ttotal: 81.5ms\tremaining: 2.25s\n35:\tlearn: 0.5692656\ttotal: 82.4ms\tremaining: 2.21s\n36:\tlearn: 0.5667149\ttotal: 83.4ms\tremaining: 2.17s\n37:\tlearn: 0.5641673\ttotal: 84.3ms\tremaining: 2.13s\n38:\tlearn: 0.5617016\ttotal: 85.7ms\tremaining: 2.11s\n39:\tlearn: 0.5594955\ttotal: 86.8ms\tremaining: 2.08s\n40:\tlearn: 0.5558779\ttotal: 87.8ms\tremaining: 2.05s\n41:\tlearn: 0.5530526\ttotal: 88.7ms\tremaining: 2.02s\n42:\tlearn: 0.5498713\ttotal: 90.1ms\tremaining: 2s\n43:\tlearn: 0.5468373\ttotal: 91.4ms\tremaining: 1.99s\n44:\tlearn: 0.5445532\ttotal: 92.2ms\tremaining: 1.96s\n45:\tlearn: 0.5414160\ttotal: 93.1ms\tremaining: 1.93s\n46:\tlearn: 0.5382562\ttotal: 94ms\tremaining: 1.91s\n47:\tlearn: 0.5361772\ttotal: 94.8ms\tremaining: 1.88s\n48:\tlearn: 0.5336403\ttotal: 95.5ms\tremaining: 1.85s\n49:\tlearn: 0.5320020\ttotal: 96.1ms\tremaining: 1.82s\n50:\tlearn: 0.5296750\ttotal: 96.9ms\tremaining: 1.8s\n51:\tlearn: 0.5271197\ttotal: 97.7ms\tremaining: 1.78s\n52:\tlearn: 0.5243117\ttotal: 98.5ms\tremaining: 1.76s\n53:\tlearn: 0.5219520\ttotal: 99.4ms\tremaining: 1.74s\n54:\tlearn: 0.5188304\ttotal: 100ms\tremaining: 1.72s\n55:\tlearn: 0.5162806\ttotal: 101ms\tremaining: 1.7s\n56:\tlearn: 0.5146936\ttotal: 102ms\tremaining: 1.69s\n57:\tlearn: 0.5126422\ttotal: 103ms\tremaining: 1.67s\n58:\tlearn: 0.5102498\ttotal: 104ms\tremaining: 1.65s\n59:\tlearn: 0.5078196\ttotal: 105ms\tremaining: 1.64s\n60:\tlearn: 0.5050430\ttotal: 105ms\tremaining: 1.62s\n61:\tlearn: 0.5031049\ttotal: 106ms\tremaining: 1.61s\n62:\tlearn: 0.5019453\ttotal: 107ms\tremaining: 1.59s\n63:\tlearn: 0.4989380\ttotal: 108ms\tremaining: 1.57s\n64:\tlearn: 0.4968234\ttotal: 108ms\tremaining: 1.56s\n65:\tlearn: 0.4947195\ttotal: 109ms\tremaining: 1.54s\n66:\tlearn: 0.4925308\ttotal: 110ms\tremaining: 1.53s\n67:\tlearn: 0.4901145\ttotal: 111ms\tremaining: 1.52s\n68:\tlearn: 0.4875663\ttotal: 112ms\tremaining: 1.51s\n69:\tlearn: 0.4856549\ttotal: 113ms\tremaining: 1.5s\n70:\tlearn: 0.4829536\ttotal: 113ms\tremaining: 1.48s\n71:\tlearn: 0.4810195\ttotal: 114ms\tremaining: 1.47s\n72:\tlearn: 0.4803086\ttotal: 115ms\tremaining: 1.46s\n73:\tlearn: 0.4782000\ttotal: 116ms\tremaining: 1.45s\n74:\tlearn: 0.4772113\ttotal: 116ms\tremaining: 1.43s\n75:\tlearn: 0.4750510\ttotal: 117ms\tremaining: 1.42s\n76:\tlearn: 0.4729270\ttotal: 118ms\tremaining: 1.41s\n77:\tlearn: 0.4707715\ttotal: 119ms\tremaining: 1.4s\n78:\tlearn: 0.4686079\ttotal: 120ms\tremaining: 1.39s\n79:\tlearn: 0.4660038\ttotal: 120ms\tremaining: 1.38s\n80:\tlearn: 0.4638823\ttotal: 121ms\tremaining: 1.38s\n81:\tlearn: 0.4622906\ttotal: 122ms\tremaining: 1.37s\n82:\tlearn: 0.4599355\ttotal: 123ms\tremaining: 1.36s\n83:\tlearn: 0.4590063\ttotal: 124ms\tremaining: 1.35s\n84:\tlearn: 0.4568541\ttotal: 125ms\tremaining: 1.34s\n85:\tlearn: 0.4542752\ttotal: 125ms\tremaining: 1.33s\n86:\tlearn: 0.4522945\ttotal: 126ms\tremaining: 1.32s\n87:\tlearn: 0.4503323\ttotal: 127ms\tremaining: 1.32s\n88:\tlearn: 0.4479105\ttotal: 128ms\tremaining: 1.31s\n89:\tlearn: 0.4463390\ttotal: 129ms\tremaining: 1.3s\n90:\tlearn: 0.4445338\ttotal: 130ms\tremaining: 1.3s\n91:\tlearn: 0.4426171\ttotal: 131ms\tremaining: 1.29s\n92:\tlearn: 0.4410362\ttotal: 131ms\tremaining: 1.28s\n93:\tlearn: 0.4391127\ttotal: 132ms\tremaining: 1.27s\n94:\tlearn: 0.4375004\ttotal: 139ms\tremaining: 1.33s\n95:\tlearn: 0.4361189\ttotal: 140ms\tremaining: 1.32s\n96:\tlearn: 0.4346860\ttotal: 141ms\tremaining: 1.31s\n97:\tlearn: 0.4328847\ttotal: 142ms\tremaining: 1.31s\n98:\tlearn: 0.4314218\ttotal: 143ms\tremaining: 1.3s\n99:\tlearn: 0.4300784\ttotal: 144ms\tremaining: 1.3s\n100:\tlearn: 0.4281630\ttotal: 145ms\tremaining: 1.29s\n101:\tlearn: 0.4264571\ttotal: 146ms\tremaining: 1.28s\n102:\tlearn: 0.4248067\ttotal: 147ms\tremaining: 1.28s\n103:\tlearn: 0.4234521\ttotal: 148ms\tremaining: 1.27s\n104:\tlearn: 0.4219183\ttotal: 149ms\tremaining: 1.27s\n105:\tlearn: 0.4201993\ttotal: 149ms\tremaining: 1.26s\n106:\tlearn: 0.4183325\ttotal: 150ms\tremaining: 1.25s\n107:\tlearn: 0.4162320\ttotal: 151ms\tremaining: 1.25s\n108:\tlearn: 0.4140456\ttotal: 152ms\tremaining: 1.24s\n109:\tlearn: 0.4126215\ttotal: 154ms\tremaining: 1.24s\n110:\tlearn: 0.4122775\ttotal: 154ms\tremaining: 1.23s\n111:\tlearn: 0.4107823\ttotal: 155ms\tremaining: 1.23s\n112:\tlearn: 0.4091647\ttotal: 156ms\tremaining: 1.22s\n113:\tlearn: 0.4074631\ttotal: 157ms\tremaining: 1.22s\n114:\tlearn: 0.4062189\ttotal: 157ms\tremaining: 1.21s\n115:\tlearn: 0.4053105\ttotal: 158ms\tremaining: 1.2s\n116:\tlearn: 0.4040919\ttotal: 159ms\tremaining: 1.2s\n117:\tlearn: 0.4026533\ttotal: 160ms\tremaining: 1.19s\n118:\tlearn: 0.4014268\ttotal: 161ms\tremaining: 1.19s\n119:\tlearn: 0.4004270\ttotal: 161ms\tremaining: 1.18s\n120:\tlearn: 0.3987178\ttotal: 163ms\tremaining: 1.18s\n121:\tlearn: 0.3973770\ttotal: 164ms\tremaining: 1.18s\n122:\tlearn: 0.3958622\ttotal: 165ms\tremaining: 1.18s\n123:\tlearn: 0.3943643\ttotal: 166ms\tremaining: 1.17s\n124:\tlearn: 0.3928569\ttotal: 167ms\tremaining: 1.17s\n125:\tlearn: 0.3917839\ttotal: 168ms\tremaining: 1.17s\n126:\tlearn: 0.3905536\ttotal: 169ms\tremaining: 1.16s\n127:\tlearn: 0.3892384\ttotal: 170ms\tremaining: 1.16s\n128:\tlearn: 0.3878178\ttotal: 171ms\tremaining: 1.15s\n129:\tlearn: 0.3868310\ttotal: 172ms\tremaining: 1.15s\n130:\tlearn: 0.3852906\ttotal: 172ms\tremaining: 1.14s\n131:\tlearn: 0.3838224\ttotal: 173ms\tremaining: 1.14s\n132:\tlearn: 0.3830690\ttotal: 179ms\tremaining: 1.16s\n133:\tlearn: 0.3816737\ttotal: 180ms\tremaining: 1.16s\n134:\tlearn: 0.3802118\ttotal: 182ms\tremaining: 1.17s\n135:\tlearn: 0.3789626\ttotal: 183ms\tremaining: 1.16s\n136:\tlearn: 0.3785100\ttotal: 184ms\tremaining: 1.16s\n137:\tlearn: 0.3773389\ttotal: 185ms\tremaining: 1.15s\n138:\tlearn: 0.3759870\ttotal: 186ms\tremaining: 1.15s\n139:\tlearn: 0.3742390\ttotal: 187ms\tremaining: 1.15s\n140:\tlearn: 0.3734458\ttotal: 188ms\tremaining: 1.15s\n141:\tlearn: 0.3731682\ttotal: 189ms\tremaining: 1.14s\n142:\tlearn: 0.3718507\ttotal: 189ms\tremaining: 1.13s\n143:\tlearn: 0.3709084\ttotal: 191ms\tremaining: 1.14s\n144:\tlearn: 0.3695712\ttotal: 192ms\tremaining: 1.13s\n145:\tlearn: 0.3689913\ttotal: 194ms\tremaining: 1.13s\n146:\tlearn: 0.3678829\ttotal: 195ms\tremaining: 1.13s\n147:\tlearn: 0.3666868\ttotal: 196ms\tremaining: 1.13s\n148:\tlearn: 0.3653109\ttotal: 197ms\tremaining: 1.12s\n149:\tlearn: 0.3642359\ttotal: 198ms\tremaining: 1.12s\n150:\tlearn: 0.3630243\ttotal: 199ms\tremaining: 1.12s\n151:\tlearn: 0.3622367\ttotal: 200ms\tremaining: 1.11s\n152:\tlearn: 0.3612424\ttotal: 201ms\tremaining: 1.11s\n153:\tlearn: 0.3607026\ttotal: 202ms\tremaining: 1.11s\n154:\tlearn: 0.3598627\ttotal: 203ms\tremaining: 1.11s\n155:\tlearn: 0.3587526\ttotal: 204ms\tremaining: 1.1s\n156:\tlearn: 0.3585612\ttotal: 205ms\tremaining: 1.1s\n157:\tlearn: 0.3573886\ttotal: 206ms\tremaining: 1.1s\n158:\tlearn: 0.3563127\ttotal: 207ms\tremaining: 1.09s\n159:\tlearn: 0.3549109\ttotal: 208ms\tremaining: 1.09s\n160:\tlearn: 0.3535576\ttotal: 209ms\tremaining: 1.09s\n161:\tlearn: 0.3526902\ttotal: 210ms\tremaining: 1.08s\n162:\tlearn: 0.3520211\ttotal: 211ms\tremaining: 1.08s\n163:\tlearn: 0.3513030\ttotal: 212ms\tremaining: 1.08s\n164:\tlearn: 0.3505553\ttotal: 213ms\tremaining: 1.08s\n165:\tlearn: 0.3492472\ttotal: 214ms\tremaining: 1.07s\n166:\tlearn: 0.3481900\ttotal: 215ms\tremaining: 1.07s\n167:\tlearn: 0.3473807\ttotal: 216ms\tremaining: 1.07s\n168:\tlearn: 0.3464324\ttotal: 217ms\tremaining: 1.07s\n169:\tlearn: 0.3459828\ttotal: 218ms\tremaining: 1.06s\n170:\tlearn: 0.3444786\ttotal: 219ms\tremaining: 1.06s\n171:\tlearn: 0.3433500\ttotal: 220ms\tremaining: 1.06s\n172:\tlearn: 0.3422618\ttotal: 221ms\tremaining: 1.05s\n173:\tlearn: 0.3413679\ttotal: 222ms\tremaining: 1.05s\n174:\tlearn: 0.3402018\ttotal: 223ms\tremaining: 1.05s\n175:\tlearn: 0.3393927\ttotal: 224ms\tremaining: 1.05s\n176:\tlearn: 0.3384887\ttotal: 225ms\tremaining: 1.04s\n177:\tlearn: 0.3372180\ttotal: 226ms\tremaining: 1.04s\n178:\tlearn: 0.3365269\ttotal: 228ms\tremaining: 1.05s\n179:\tlearn: 0.3354707\ttotal: 230ms\tremaining: 1.05s\n180:\tlearn: 0.3346126\ttotal: 231ms\tremaining: 1.05s\n181:\tlearn: 0.3336095\ttotal: 232ms\tremaining: 1.04s\n182:\tlearn: 0.3330139\ttotal: 233ms\tremaining: 1.04s\n183:\tlearn: 0.3321349\ttotal: 234ms\tremaining: 1.04s\n184:\tlearn: 0.3310413\ttotal: 235ms\tremaining: 1.04s\n185:\tlearn: 0.3303609\ttotal: 239ms\tremaining: 1.04s\n186:\tlearn: 0.3295510\ttotal: 240ms\tremaining: 1.04s\n187:\tlearn: 0.3287964\ttotal: 241ms\tremaining: 1.04s\n188:\tlearn: 0.3277367\ttotal: 243ms\tremaining: 1.04s\n189:\tlearn: 0.3267677\ttotal: 245ms\tremaining: 1.04s\n190:\tlearn: 0.3255975\ttotal: 247ms\tremaining: 1.05s\n191:\tlearn: 0.3251722\ttotal: 249ms\tremaining: 1.05s\n192:\tlearn: 0.3247454\ttotal: 250ms\tremaining: 1.05s\n193:\tlearn: 0.3241126\ttotal: 252ms\tremaining: 1.05s\n194:\tlearn: 0.3232086\ttotal: 255ms\tremaining: 1.05s\n195:\tlearn: 0.3222783\ttotal: 262ms\tremaining: 1.07s\n196:\tlearn: 0.3210541\ttotal: 263ms\tremaining: 1.07s\n197:\tlearn: 0.3199612\ttotal: 265ms\tremaining: 1.07s\n198:\tlearn: 0.3191200\ttotal: 266ms\tremaining: 1.07s\n199:\tlearn: 0.3183723\ttotal: 267ms\tremaining: 1.07s\n200:\tlearn: 0.3174470\ttotal: 268ms\tremaining: 1.06s\n201:\tlearn: 0.3170930\ttotal: 269ms\tremaining: 1.06s\n202:\tlearn: 0.3165250\ttotal: 270ms\tremaining: 1.06s\n203:\tlearn: 0.3156430\ttotal: 270ms\tremaining: 1.05s\n204:\tlearn: 0.3151276\ttotal: 271ms\tremaining: 1.05s\n205:\tlearn: 0.3140928\ttotal: 274ms\tremaining: 1.06s\n206:\tlearn: 0.3132728\ttotal: 275ms\tremaining: 1.05s\n207:\tlearn: 0.3121790\ttotal: 276ms\tremaining: 1.05s\n208:\tlearn: 0.3115496\ttotal: 277ms\tremaining: 1.05s\n209:\tlearn: 0.3107629\ttotal: 278ms\tremaining: 1.04s\n210:\tlearn: 0.3101032\ttotal: 279ms\tremaining: 1.04s\n211:\tlearn: 0.3092800\ttotal: 280ms\tremaining: 1.04s\n212:\tlearn: 0.3086659\ttotal: 282ms\tremaining: 1.04s\n213:\tlearn: 0.3078661\ttotal: 283ms\tremaining: 1.04s\n214:\tlearn: 0.3072634\ttotal: 286ms\tremaining: 1.04s\n215:\tlearn: 0.3062826\ttotal: 289ms\tremaining: 1.05s\n216:\tlearn: 0.3053828\ttotal: 290ms\tremaining: 1.04s\n217:\tlearn: 0.3049146\ttotal: 291ms\tremaining: 1.04s\n218:\tlearn: 0.3040923\ttotal: 292ms\tremaining: 1.04s\n219:\tlearn: 0.3032651\ttotal: 293ms\tremaining: 1.04s\n220:\tlearn: 0.3024548\ttotal: 294ms\tremaining: 1.03s\n221:\tlearn: 0.3018589\ttotal: 295ms\tremaining: 1.03s\n222:\tlearn: 0.3012185\ttotal: 296ms\tremaining: 1.03s\n223:\tlearn: 0.3009051\ttotal: 296ms\tremaining: 1.02s\n224:\tlearn: 0.3006277\ttotal: 297ms\tremaining: 1.02s\n225:\tlearn: 0.2997828\ttotal: 298ms\tremaining: 1.02s\n226:\tlearn: 0.2991081\ttotal: 299ms\tremaining: 1.02s\n227:\tlearn: 0.2984810\ttotal: 300ms\tremaining: 1.01s\n228:\tlearn: 0.2980442\ttotal: 301ms\tremaining: 1.01s\n229:\tlearn: 0.2973453\ttotal: 301ms\tremaining: 1.01s\n230:\tlearn: 0.2965537\ttotal: 304ms\tremaining: 1.01s\n231:\tlearn: 0.2960433\ttotal: 306ms\tremaining: 1.01s\n232:\tlearn: 0.2955134\ttotal: 307ms\tremaining: 1.01s\n233:\tlearn: 0.2948536\ttotal: 308ms\tremaining: 1.01s\n234:\tlearn: 0.2941361\ttotal: 308ms\tremaining: 1s\n235:\tlearn: 0.2934406\ttotal: 309ms\tremaining: 1s\n236:\tlearn: 0.2932570\ttotal: 310ms\tremaining: 998ms\n237:\tlearn: 0.2931752\ttotal: 310ms\tremaining: 994ms\n238:\tlearn: 0.2921219\ttotal: 311ms\tremaining: 991ms\n239:\tlearn: 0.2914019\ttotal: 312ms\tremaining: 988ms\n240:\tlearn: 0.2908449\ttotal: 313ms\tremaining: 985ms\n241:\tlearn: 0.2903648\ttotal: 314ms\tremaining: 983ms\n242:\tlearn: 0.2896353\ttotal: 316ms\tremaining: 985ms\n243:\tlearn: 0.2889907\ttotal: 317ms\tremaining: 983ms\n244:\tlearn: 0.2884555\ttotal: 318ms\tremaining: 980ms\n245:\tlearn: 0.2880149\ttotal: 319ms\tremaining: 978ms\n246:\tlearn: 0.2871179\ttotal: 320ms\tremaining: 975ms\n247:\tlearn: 0.2865178\ttotal: 321ms\tremaining: 973ms\n248:\tlearn: 0.2861043\ttotal: 322ms\tremaining: 970ms\n249:\tlearn: 0.2857535\ttotal: 322ms\tremaining: 967ms\n250:\tlearn: 0.2851850\ttotal: 323ms\tremaining: 965ms\n251:\tlearn: 0.2845504\ttotal: 324ms\tremaining: 962ms\n252:\tlearn: 0.2838548\ttotal: 325ms\tremaining: 960ms\n253:\tlearn: 0.2828936\ttotal: 328ms\tremaining: 964ms\n254:\tlearn: 0.2822789\ttotal: 329ms\tremaining: 962ms\n255:\tlearn: 0.2816019\ttotal: 330ms\tremaining: 960ms\n256:\tlearn: 0.2809064\ttotal: 336ms\tremaining: 972ms\n257:\tlearn: 0.2804427\ttotal: 337ms\tremaining: 971ms\n258:\tlearn: 0.2795748\ttotal: 339ms\tremaining: 969ms\n259:\tlearn: 0.2791101\ttotal: 340ms\tremaining: 967ms\n260:\tlearn: 0.2786308\ttotal: 341ms\tremaining: 965ms\n261:\tlearn: 0.2782659\ttotal: 342ms\tremaining: 963ms\n262:\tlearn: 0.2776702\ttotal: 348ms\tremaining: 975ms\n263:\tlearn: 0.2770269\ttotal: 350ms\tremaining: 975ms\n264:\tlearn: 0.2763097\ttotal: 352ms\tremaining: 975ms\n265:\tlearn: 0.2757982\ttotal: 356ms\tremaining: 982ms\n266:\tlearn: 0.2753517\ttotal: 358ms\tremaining: 982ms\n267:\tlearn: 0.2747972\ttotal: 359ms\tremaining: 979ms\n268:\tlearn: 0.2743034\ttotal: 361ms\tremaining: 982ms\n269:\tlearn: 0.2737812\ttotal: 362ms\tremaining: 980ms\n270:\tlearn: 0.2733372\ttotal: 363ms\tremaining: 977ms\n271:\tlearn: 0.2727100\ttotal: 364ms\tremaining: 975ms\n272:\tlearn: 0.2721262\ttotal: 365ms\tremaining: 972ms\n273:\tlearn: 0.2716366\ttotal: 366ms\tremaining: 969ms\n274:\tlearn: 0.2709383\ttotal: 367ms\tremaining: 967ms\n275:\tlearn: 0.2703697\ttotal: 367ms\tremaining: 964ms\n276:\tlearn: 0.2699855\ttotal: 368ms\tremaining: 961ms\n277:\tlearn: 0.2693294\ttotal: 369ms\tremaining: 959ms\n278:\tlearn: 0.2688546\ttotal: 370ms\tremaining: 955ms\n279:\tlearn: 0.2683523\ttotal: 371ms\tremaining: 953ms\n280:\tlearn: 0.2677877\ttotal: 371ms\tremaining: 950ms\n281:\tlearn: 0.2673107\ttotal: 372ms\tremaining: 948ms\n282:\tlearn: 0.2666613\ttotal: 373ms\tremaining: 945ms\n283:\tlearn: 0.2662633\ttotal: 374ms\tremaining: 943ms\n284:\tlearn: 0.2658956\ttotal: 375ms\tremaining: 941ms\n285:\tlearn: 0.2653835\ttotal: 376ms\tremaining: 938ms\n286:\tlearn: 0.2650315\ttotal: 377ms\tremaining: 936ms\n287:\tlearn: 0.2646597\ttotal: 378ms\tremaining: 933ms\n288:\tlearn: 0.2639898\ttotal: 378ms\tremaining: 931ms\n289:\tlearn: 0.2635114\ttotal: 379ms\tremaining: 929ms\n290:\tlearn: 0.2630234\ttotal: 380ms\tremaining: 926ms\n291:\tlearn: 0.2623698\ttotal: 381ms\tremaining: 924ms\n292:\tlearn: 0.2617594\ttotal: 382ms\tremaining: 921ms\n293:\tlearn: 0.2612210\ttotal: 383ms\tremaining: 919ms\n294:\tlearn: 0.2609170\ttotal: 383ms\tremaining: 916ms\n295:\tlearn: 0.2605480\ttotal: 384ms\tremaining: 914ms\n296:\tlearn: 0.2600277\ttotal: 385ms\tremaining: 912ms\n297:\tlearn: 0.2596072\ttotal: 386ms\tremaining: 909ms\n298:\tlearn: 0.2592883\ttotal: 387ms\tremaining: 907ms\n299:\tlearn: 0.2586490\ttotal: 388ms\tremaining: 905ms\n300:\tlearn: 0.2583287\ttotal: 389ms\tremaining: 902ms\n301:\tlearn: 0.2579239\ttotal: 389ms\tremaining: 900ms\n302:\tlearn: 0.2573425\ttotal: 390ms\tremaining: 898ms\n303:\tlearn: 0.2569398\ttotal: 391ms\tremaining: 895ms\n304:\tlearn: 0.2562979\ttotal: 392ms\tremaining: 893ms\n305:\tlearn: 0.2559191\ttotal: 393ms\tremaining: 891ms\n306:\tlearn: 0.2555603\ttotal: 394ms\tremaining: 888ms\n307:\tlearn: 0.2549914\ttotal: 394ms\tremaining: 886ms\n308:\tlearn: 0.2546035\ttotal: 395ms\tremaining: 884ms\n309:\tlearn: 0.2541806\ttotal: 396ms\tremaining: 882ms\n310:\tlearn: 0.2535285\ttotal: 397ms\tremaining: 879ms\n311:\tlearn: 0.2531124\ttotal: 398ms\tremaining: 877ms\n312:\tlearn: 0.2524123\ttotal: 399ms\tremaining: 875ms\n313:\tlearn: 0.2521777\ttotal: 399ms\tremaining: 873ms\n314:\tlearn: 0.2516234\ttotal: 400ms\tremaining: 871ms\n315:\tlearn: 0.2511543\ttotal: 401ms\tremaining: 868ms\n316:\tlearn: 0.2507884\ttotal: 402ms\tremaining: 866ms\n317:\tlearn: 0.2502428\ttotal: 403ms\tremaining: 864ms\n318:\tlearn: 0.2495740\ttotal: 404ms\tremaining: 862ms\n319:\tlearn: 0.2492433\ttotal: 405ms\tremaining: 860ms\n320:\tlearn: 0.2489520\ttotal: 405ms\tremaining: 858ms\n321:\tlearn: 0.2484584\ttotal: 406ms\tremaining: 855ms\n322:\tlearn: 0.2480506\ttotal: 407ms\tremaining: 853ms\n323:\tlearn: 0.2476448\ttotal: 408ms\tremaining: 851ms\n324:\tlearn: 0.2472011\ttotal: 409ms\tremaining: 849ms\n325:\tlearn: 0.2464919\ttotal: 410ms\tremaining: 847ms\n326:\tlearn: 0.2457824\ttotal: 410ms\tremaining: 845ms\n327:\tlearn: 0.2453125\ttotal: 411ms\tremaining: 843ms\n328:\tlearn: 0.2450326\ttotal: 412ms\tremaining: 841ms\n329:\tlearn: 0.2445587\ttotal: 413ms\tremaining: 839ms\n330:\tlearn: 0.2441930\ttotal: 414ms\tremaining: 837ms\n331:\tlearn: 0.2438620\ttotal: 415ms\tremaining: 834ms\n332:\tlearn: 0.2433997\ttotal: 416ms\tremaining: 832ms\n333:\tlearn: 0.2429193\ttotal: 416ms\tremaining: 830ms\n334:\tlearn: 0.2423679\ttotal: 417ms\tremaining: 828ms\n335:\tlearn: 0.2419705\ttotal: 418ms\tremaining: 826ms\n336:\tlearn: 0.2414793\ttotal: 419ms\tremaining: 824ms\n337:\tlearn: 0.2408725\ttotal: 420ms\tremaining: 822ms\n338:\tlearn: 0.2405365\ttotal: 421ms\tremaining: 820ms\n339:\tlearn: 0.2402086\ttotal: 421ms\tremaining: 818ms\n340:\tlearn: 0.2397999\ttotal: 422ms\tremaining: 816ms\n341:\tlearn: 0.2394860\ttotal: 423ms\tremaining: 814ms\n342:\tlearn: 0.2391276\ttotal: 424ms\tremaining: 812ms\n343:\tlearn: 0.2386979\ttotal: 425ms\tremaining: 810ms\n344:\tlearn: 0.2383948\ttotal: 426ms\tremaining: 808ms\n345:\tlearn: 0.2380183\ttotal: 427ms\tremaining: 806ms\n346:\tlearn: 0.2377458\ttotal: 427ms\tremaining: 804ms\n347:\tlearn: 0.2375648\ttotal: 428ms\tremaining: 802ms\n348:\tlearn: 0.2371553\ttotal: 429ms\tremaining: 800ms\n349:\tlearn: 0.2368812\ttotal: 430ms\tremaining: 798ms\n350:\tlearn: 0.2362497\ttotal: 431ms\tremaining: 796ms\n351:\tlearn: 0.2360361\ttotal: 432ms\tremaining: 795ms\n352:\tlearn: 0.2355681\ttotal: 432ms\tremaining: 793ms\n353:\tlearn: 0.2352659\ttotal: 433ms\tremaining: 791ms\n354:\tlearn: 0.2349226\ttotal: 434ms\tremaining: 789ms\n355:\tlearn: 0.2342683\ttotal: 435ms\tremaining: 787ms\n356:\tlearn: 0.2339094\ttotal: 436ms\tremaining: 785ms\n357:\tlearn: 0.2334763\ttotal: 437ms\tremaining: 783ms\n358:\tlearn: 0.2334235\ttotal: 437ms\tremaining: 781ms\n359:\tlearn: 0.2332617\ttotal: 438ms\tremaining: 779ms\n360:\tlearn: 0.2328632\ttotal: 439ms\tremaining: 777ms\n361:\tlearn: 0.2323070\ttotal: 440ms\tremaining: 775ms\n362:\tlearn: 0.2318024\ttotal: 441ms\tremaining: 773ms\n363:\tlearn: 0.2313946\ttotal: 442ms\tremaining: 772ms\n364:\tlearn: 0.2310274\ttotal: 443ms\tremaining: 770ms\n365:\tlearn: 0.2307696\ttotal: 443ms\tremaining: 768ms\n366:\tlearn: 0.2302695\ttotal: 444ms\tremaining: 766ms\n367:\tlearn: 0.2298440\ttotal: 445ms\tremaining: 764ms\n368:\tlearn: 0.2292988\ttotal: 446ms\tremaining: 763ms\n369:\tlearn: 0.2289622\ttotal: 447ms\tremaining: 762ms\n370:\tlearn: 0.2285592\ttotal: 448ms\tremaining: 760ms\n371:\tlearn: 0.2279043\ttotal: 449ms\tremaining: 758ms\n372:\tlearn: 0.2274893\ttotal: 450ms\tremaining: 756ms\n373:\tlearn: 0.2269073\ttotal: 451ms\tremaining: 754ms\n374:\tlearn: 0.2265834\ttotal: 452ms\tremaining: 753ms\n375:\tlearn: 0.2260991\ttotal: 452ms\tremaining: 751ms\n376:\tlearn: 0.2257991\ttotal: 453ms\tremaining: 749ms\n377:\tlearn: 0.2254928\ttotal: 454ms\tremaining: 748ms\n378:\tlearn: 0.2251934\ttotal: 455ms\tremaining: 746ms\n379:\tlearn: 0.2247625\ttotal: 456ms\tremaining: 744ms\n380:\tlearn: 0.2244893\ttotal: 457ms\tremaining: 742ms\n381:\tlearn: 0.2241296\ttotal: 458ms\tremaining: 741ms\n382:\tlearn: 0.2237701\ttotal: 459ms\tremaining: 740ms\n383:\tlearn: 0.2234721\ttotal: 461ms\tremaining: 739ms\n384:\tlearn: 0.2232081\ttotal: 462ms\tremaining: 737ms\n385:\tlearn: 0.2227674\ttotal: 462ms\tremaining: 736ms\n386:\tlearn: 0.2224257\ttotal: 463ms\tremaining: 734ms\n387:\tlearn: 0.2222233\ttotal: 464ms\tremaining: 732ms\n388:\tlearn: 0.2219200\ttotal: 465ms\tremaining: 730ms\n389:\tlearn: 0.2215502\ttotal: 466ms\tremaining: 729ms\n390:\tlearn: 0.2213119\ttotal: 467ms\tremaining: 727ms\n391:\tlearn: 0.2208899\ttotal: 468ms\tremaining: 726ms\n392:\tlearn: 0.2203954\ttotal: 469ms\tremaining: 724ms\n393:\tlearn: 0.2202226\ttotal: 469ms\tremaining: 722ms\n394:\tlearn: 0.2197999\ttotal: 470ms\tremaining: 720ms\n395:\tlearn: 0.2195268\ttotal: 471ms\tremaining: 719ms\n396:\tlearn: 0.2192666\ttotal: 472ms\tremaining: 717ms\n397:\tlearn: 0.2187888\ttotal: 473ms\tremaining: 715ms\n398:\tlearn: 0.2185404\ttotal: 474ms\tremaining: 714ms\n399:\tlearn: 0.2183382\ttotal: 475ms\tremaining: 712ms\n400:\tlearn: 0.2180734\ttotal: 475ms\tremaining: 710ms\n401:\tlearn: 0.2177056\ttotal: 476ms\tremaining: 708ms\n402:\tlearn: 0.2172831\ttotal: 477ms\tremaining: 707ms\n403:\tlearn: 0.2170752\ttotal: 478ms\tremaining: 705ms\n404:\tlearn: 0.2168173\ttotal: 479ms\tremaining: 703ms\n405:\tlearn: 0.2163762\ttotal: 480ms\tremaining: 702ms\n406:\tlearn: 0.2160234\ttotal: 481ms\tremaining: 700ms\n407:\tlearn: 0.2158233\ttotal: 481ms\tremaining: 698ms\n408:\tlearn: 0.2155074\ttotal: 482ms\tremaining: 697ms\n409:\tlearn: 0.2150983\ttotal: 483ms\tremaining: 695ms\n410:\tlearn: 0.2148019\ttotal: 484ms\tremaining: 694ms\n411:\tlearn: 0.2145015\ttotal: 485ms\tremaining: 692ms\n412:\tlearn: 0.2140766\ttotal: 486ms\tremaining: 690ms\n413:\tlearn: 0.2135130\ttotal: 487ms\tremaining: 689ms\n414:\tlearn: 0.2131451\ttotal: 487ms\tremaining: 687ms\n415:\tlearn: 0.2127044\ttotal: 488ms\tremaining: 685ms\n416:\tlearn: 0.2124812\ttotal: 489ms\tremaining: 684ms\n417:\tlearn: 0.2121049\ttotal: 490ms\tremaining: 682ms\n418:\tlearn: 0.2116492\ttotal: 491ms\tremaining: 681ms\n419:\tlearn: 0.2115529\ttotal: 492ms\tremaining: 679ms\n420:\tlearn: 0.2112393\ttotal: 492ms\tremaining: 677ms\n421:\tlearn: 0.2107590\ttotal: 504ms\tremaining: 690ms\n422:\tlearn: 0.2104495\ttotal: 505ms\tremaining: 688ms\n423:\tlearn: 0.2101715\ttotal: 505ms\tremaining: 687ms\n424:\tlearn: 0.2098615\ttotal: 506ms\tremaining: 685ms\n425:\tlearn: 0.2095534\ttotal: 507ms\tremaining: 683ms\n426:\tlearn: 0.2092254\ttotal: 508ms\tremaining: 682ms\n427:\tlearn: 0.2089406\ttotal: 509ms\tremaining: 680ms\n428:\tlearn: 0.2086452\ttotal: 510ms\tremaining: 678ms\n429:\tlearn: 0.2083340\ttotal: 511ms\tremaining: 677ms\n430:\tlearn: 0.2078079\ttotal: 511ms\tremaining: 675ms\n431:\tlearn: 0.2075083\ttotal: 512ms\tremaining: 673ms\n432:\tlearn: 0.2073062\ttotal: 513ms\tremaining: 671ms\n433:\tlearn: 0.2069312\ttotal: 514ms\tremaining: 670ms\n434:\tlearn: 0.2065855\ttotal: 514ms\tremaining: 668ms\n435:\tlearn: 0.2061671\ttotal: 515ms\tremaining: 667ms\n436:\tlearn: 0.2058787\ttotal: 516ms\tremaining: 665ms\n437:\tlearn: 0.2055484\ttotal: 517ms\tremaining: 663ms\n438:\tlearn: 0.2052017\ttotal: 518ms\tremaining: 662ms\n439:\tlearn: 0.2049713\ttotal: 519ms\tremaining: 660ms\n440:\tlearn: 0.2046215\ttotal: 520ms\tremaining: 659ms\n441:\tlearn: 0.2042837\ttotal: 520ms\tremaining: 657ms\n442:\tlearn: 0.2039140\ttotal: 521ms\tremaining: 655ms\n443:\tlearn: 0.2034671\ttotal: 522ms\tremaining: 654ms\n444:\tlearn: 0.2032825\ttotal: 523ms\tremaining: 652ms\n445:\tlearn: 0.2029584\ttotal: 524ms\tremaining: 651ms\n446:\tlearn: 0.2027977\ttotal: 525ms\tremaining: 649ms\n447:\tlearn: 0.2025670\ttotal: 526ms\tremaining: 648ms\n448:\tlearn: 0.2021522\ttotal: 526ms\tremaining: 646ms\n449:\tlearn: 0.2016970\ttotal: 527ms\tremaining: 644ms\n450:\tlearn: 0.2013812\ttotal: 528ms\tremaining: 643ms\n451:\tlearn: 0.2011742\ttotal: 529ms\tremaining: 641ms\n452:\tlearn: 0.2008329\ttotal: 530ms\tremaining: 640ms\n453:\tlearn: 0.2004421\ttotal: 531ms\tremaining: 638ms\n454:\tlearn: 0.2002200\ttotal: 532ms\tremaining: 637ms\n455:\tlearn: 0.1999027\ttotal: 533ms\tremaining: 635ms\n456:\tlearn: 0.1994456\ttotal: 533ms\tremaining: 634ms\n457:\tlearn: 0.1991415\ttotal: 534ms\tremaining: 632ms\n458:\tlearn: 0.1989138\ttotal: 535ms\tremaining: 631ms\n459:\tlearn: 0.1988172\ttotal: 536ms\tremaining: 629ms\n460:\tlearn: 0.1986413\ttotal: 537ms\tremaining: 628ms\n461:\tlearn: 0.1984047\ttotal: 538ms\tremaining: 626ms\n462:\tlearn: 0.1980516\ttotal: 538ms\tremaining: 625ms\n463:\tlearn: 0.1975760\ttotal: 539ms\tremaining: 623ms\n464:\tlearn: 0.1972818\ttotal: 540ms\tremaining: 621ms\n465:\tlearn: 0.1970456\ttotal: 541ms\tremaining: 620ms\n466:\tlearn: 0.1968112\ttotal: 542ms\tremaining: 618ms\n467:\tlearn: 0.1963868\ttotal: 543ms\tremaining: 617ms\n468:\tlearn: 0.1962611\ttotal: 544ms\tremaining: 615ms\n469:\tlearn: 0.1960659\ttotal: 544ms\tremaining: 614ms\n470:\tlearn: 0.1955213\ttotal: 545ms\tremaining: 612ms\n471:\tlearn: 0.1950574\ttotal: 546ms\tremaining: 611ms\n472:\tlearn: 0.1946285\ttotal: 547ms\tremaining: 609ms\n473:\tlearn: 0.1941035\ttotal: 548ms\tremaining: 608ms\n474:\tlearn: 0.1938559\ttotal: 549ms\tremaining: 606ms\n475:\tlearn: 0.1934137\ttotal: 549ms\tremaining: 605ms\n476:\tlearn: 0.1932397\ttotal: 550ms\tremaining: 603ms\n477:\tlearn: 0.1929333\ttotal: 551ms\tremaining: 602ms\n478:\tlearn: 0.1925730\ttotal: 552ms\tremaining: 600ms\n479:\tlearn: 0.1922671\ttotal: 553ms\tremaining: 599ms\n480:\tlearn: 0.1919950\ttotal: 554ms\tremaining: 598ms\n481:\tlearn: 0.1915973\ttotal: 555ms\tremaining: 596ms\n482:\tlearn: 0.1914282\ttotal: 555ms\tremaining: 595ms\n483:\tlearn: 0.1913035\ttotal: 556ms\tremaining: 593ms\n484:\tlearn: 0.1909098\ttotal: 557ms\tremaining: 592ms\n485:\tlearn: 0.1905440\ttotal: 558ms\tremaining: 590ms\n486:\tlearn: 0.1902679\ttotal: 559ms\tremaining: 589ms\n487:\tlearn: 0.1901024\ttotal: 560ms\tremaining: 587ms\n488:\tlearn: 0.1898108\ttotal: 561ms\tremaining: 586ms\n489:\tlearn: 0.1896453\ttotal: 562ms\tremaining: 585ms\n490:\tlearn: 0.1893509\ttotal: 562ms\tremaining: 583ms\n491:\tlearn: 0.1890888\ttotal: 563ms\tremaining: 582ms\n492:\tlearn: 0.1888239\ttotal: 564ms\tremaining: 580ms\n493:\tlearn: 0.1886126\ttotal: 565ms\tremaining: 579ms\n494:\tlearn: 0.1883190\ttotal: 566ms\tremaining: 577ms\n495:\tlearn: 0.1878051\ttotal: 567ms\tremaining: 576ms\n496:\tlearn: 0.1874624\ttotal: 568ms\tremaining: 575ms\n497:\tlearn: 0.1872881\ttotal: 571ms\tremaining: 575ms\n498:\tlearn: 0.1867800\ttotal: 572ms\tremaining: 575ms\n499:\tlearn: 0.1866448\ttotal: 574ms\tremaining: 574ms\n500:\tlearn: 0.1862699\ttotal: 575ms\tremaining: 573ms\n501:\tlearn: 0.1860171\ttotal: 577ms\tremaining: 572ms\n502:\tlearn: 0.1858088\ttotal: 578ms\tremaining: 571ms\n503:\tlearn: 0.1856503\ttotal: 579ms\tremaining: 570ms\n504:\tlearn: 0.1853356\ttotal: 580ms\tremaining: 569ms\n505:\tlearn: 0.1849788\ttotal: 581ms\tremaining: 567ms\n506:\tlearn: 0.1846764\ttotal: 582ms\tremaining: 566ms\n507:\tlearn: 0.1845261\ttotal: 583ms\tremaining: 565ms\n508:\tlearn: 0.1844286\ttotal: 584ms\tremaining: 564ms\n509:\tlearn: 0.1841836\ttotal: 585ms\tremaining: 562ms\n510:\tlearn: 0.1839680\ttotal: 587ms\tremaining: 561ms\n511:\tlearn: 0.1837599\ttotal: 588ms\tremaining: 560ms\n512:\tlearn: 0.1835327\ttotal: 589ms\tremaining: 559ms\n513:\tlearn: 0.1832420\ttotal: 595ms\tremaining: 563ms\n514:\tlearn: 0.1830605\ttotal: 596ms\tremaining: 561ms\n515:\tlearn: 0.1827243\ttotal: 597ms\tremaining: 560ms\n516:\tlearn: 0.1825594\ttotal: 598ms\tremaining: 558ms\n517:\tlearn: 0.1820905\ttotal: 599ms\tremaining: 557ms\n518:\tlearn: 0.1817906\ttotal: 599ms\tremaining: 556ms\n519:\tlearn: 0.1816195\ttotal: 600ms\tremaining: 554ms\n520:\tlearn: 0.1813058\ttotal: 601ms\tremaining: 553ms\n521:\tlearn: 0.1809810\ttotal: 602ms\tremaining: 551ms\n522:\tlearn: 0.1806118\ttotal: 603ms\tremaining: 550ms\n523:\tlearn: 0.1803602\ttotal: 604ms\tremaining: 548ms\n524:\tlearn: 0.1802835\ttotal: 604ms\tremaining: 547ms\n525:\tlearn: 0.1801206\ttotal: 605ms\tremaining: 545ms\n526:\tlearn: 0.1799382\ttotal: 606ms\tremaining: 544ms\n527:\tlearn: 0.1797628\ttotal: 607ms\tremaining: 542ms\n528:\tlearn: 0.1795323\ttotal: 608ms\tremaining: 541ms\n529:\tlearn: 0.1793380\ttotal: 608ms\tremaining: 540ms\n530:\tlearn: 0.1791759\ttotal: 609ms\tremaining: 538ms\n531:\tlearn: 0.1789155\ttotal: 610ms\tremaining: 537ms\n532:\tlearn: 0.1785566\ttotal: 611ms\tremaining: 535ms\n533:\tlearn: 0.1784817\ttotal: 612ms\tremaining: 534ms\n534:\tlearn: 0.1782619\ttotal: 612ms\tremaining: 532ms\n535:\tlearn: 0.1782110\ttotal: 613ms\tremaining: 531ms\n536:\tlearn: 0.1777847\ttotal: 614ms\tremaining: 529ms\n537:\tlearn: 0.1776248\ttotal: 615ms\tremaining: 528ms\n538:\tlearn: 0.1774370\ttotal: 616ms\tremaining: 527ms\n539:\tlearn: 0.1773643\ttotal: 617ms\tremaining: 525ms\n540:\tlearn: 0.1770666\ttotal: 617ms\tremaining: 524ms\n541:\tlearn: 0.1767121\ttotal: 618ms\tremaining: 523ms\n542:\tlearn: 0.1765614\ttotal: 619ms\tremaining: 521ms\n543:\tlearn: 0.1762799\ttotal: 620ms\tremaining: 520ms\n544:\tlearn: 0.1759777\ttotal: 621ms\tremaining: 518ms\n545:\tlearn: 0.1757402\ttotal: 622ms\tremaining: 517ms\n546:\tlearn: 0.1754578\ttotal: 623ms\tremaining: 516ms\n547:\tlearn: 0.1753634\ttotal: 624ms\tremaining: 514ms\n548:\tlearn: 0.1751034\ttotal: 624ms\tremaining: 513ms\n549:\tlearn: 0.1749149\ttotal: 625ms\tremaining: 512ms\n550:\tlearn: 0.1747530\ttotal: 626ms\tremaining: 510ms\n551:\tlearn: 0.1746714\ttotal: 627ms\tremaining: 509ms\n552:\tlearn: 0.1746028\ttotal: 628ms\tremaining: 507ms\n553:\tlearn: 0.1743528\ttotal: 628ms\tremaining: 506ms\n554:\tlearn: 0.1742075\ttotal: 629ms\tremaining: 504ms\n555:\tlearn: 0.1738689\ttotal: 630ms\tremaining: 503ms\n556:\tlearn: 0.1737262\ttotal: 631ms\tremaining: 502ms\n557:\tlearn: 0.1733697\ttotal: 632ms\tremaining: 500ms\n558:\tlearn: 0.1731718\ttotal: 633ms\tremaining: 499ms\n559:\tlearn: 0.1730445\ttotal: 633ms\tremaining: 498ms\n560:\tlearn: 0.1728289\ttotal: 634ms\tremaining: 496ms\n561:\tlearn: 0.1724783\ttotal: 635ms\tremaining: 495ms\n562:\tlearn: 0.1722269\ttotal: 636ms\tremaining: 493ms\n563:\tlearn: 0.1719519\ttotal: 637ms\tremaining: 492ms\n564:\tlearn: 0.1717064\ttotal: 637ms\tremaining: 491ms\n565:\tlearn: 0.1713374\ttotal: 638ms\tremaining: 489ms\n566:\tlearn: 0.1710734\ttotal: 639ms\tremaining: 488ms\n567:\tlearn: 0.1707879\ttotal: 640ms\tremaining: 487ms\n568:\tlearn: 0.1705697\ttotal: 641ms\tremaining: 485ms\n569:\tlearn: 0.1703932\ttotal: 642ms\tremaining: 484ms\n570:\tlearn: 0.1701004\ttotal: 643ms\tremaining: 483ms\n571:\tlearn: 0.1699536\ttotal: 643ms\tremaining: 481ms\n572:\tlearn: 0.1697045\ttotal: 644ms\tremaining: 480ms\n573:\tlearn: 0.1695532\ttotal: 645ms\tremaining: 479ms\n574:\tlearn: 0.1694383\ttotal: 646ms\tremaining: 478ms\n575:\tlearn: 0.1692705\ttotal: 647ms\tremaining: 477ms\n576:\tlearn: 0.1692085\ttotal: 648ms\tremaining: 475ms\n577:\tlearn: 0.1688191\ttotal: 649ms\tremaining: 474ms\n578:\tlearn: 0.1685662\ttotal: 650ms\tremaining: 473ms\n579:\tlearn: 0.1683168\ttotal: 651ms\tremaining: 471ms\n580:\tlearn: 0.1680916\ttotal: 652ms\tremaining: 470ms\n581:\tlearn: 0.1678613\ttotal: 653ms\tremaining: 469ms\n582:\tlearn: 0.1677542\ttotal: 653ms\tremaining: 467ms\n583:\tlearn: 0.1674288\ttotal: 654ms\tremaining: 466ms\n584:\tlearn: 0.1673723\ttotal: 655ms\tremaining: 464ms\n585:\tlearn: 0.1671455\ttotal: 656ms\tremaining: 463ms\n586:\tlearn: 0.1670239\ttotal: 656ms\tremaining: 462ms\n587:\tlearn: 0.1667286\ttotal: 657ms\tremaining: 461ms\n588:\tlearn: 0.1666602\ttotal: 658ms\tremaining: 459ms\n589:\tlearn: 0.1665019\ttotal: 659ms\tremaining: 458ms\n590:\tlearn: 0.1662563\ttotal: 660ms\tremaining: 456ms\n591:\tlearn: 0.1660496\ttotal: 660ms\tremaining: 455ms\n592:\tlearn: 0.1656837\ttotal: 661ms\tremaining: 454ms\n593:\tlearn: 0.1653160\ttotal: 662ms\tremaining: 453ms\n594:\tlearn: 0.1649871\ttotal: 663ms\tremaining: 451ms\n595:\tlearn: 0.1649085\ttotal: 664ms\tremaining: 450ms\n596:\tlearn: 0.1647911\ttotal: 665ms\tremaining: 449ms\n597:\tlearn: 0.1644574\ttotal: 666ms\tremaining: 448ms\n598:\tlearn: 0.1642767\ttotal: 667ms\tremaining: 446ms\n599:\tlearn: 0.1641741\ttotal: 667ms\tremaining: 445ms\n600:\tlearn: 0.1639937\ttotal: 668ms\tremaining: 444ms\n601:\tlearn: 0.1638505\ttotal: 669ms\tremaining: 442ms\n602:\tlearn: 0.1636275\ttotal: 670ms\tremaining: 441ms\n603:\tlearn: 0.1633495\ttotal: 671ms\tremaining: 440ms\n604:\tlearn: 0.1632544\ttotal: 672ms\tremaining: 439ms\n605:\tlearn: 0.1631355\ttotal: 673ms\tremaining: 437ms\n606:\tlearn: 0.1630292\ttotal: 673ms\tremaining: 436ms\n607:\tlearn: 0.1627404\ttotal: 674ms\tremaining: 435ms\n608:\tlearn: 0.1625169\ttotal: 675ms\tremaining: 433ms\n609:\tlearn: 0.1622943\ttotal: 675ms\tremaining: 432ms\n610:\tlearn: 0.1620500\ttotal: 676ms\tremaining: 430ms\n611:\tlearn: 0.1619149\ttotal: 687ms\tremaining: 436ms\n612:\tlearn: 0.1617831\ttotal: 688ms\tremaining: 435ms\n613:\tlearn: 0.1615024\ttotal: 689ms\tremaining: 433ms\n614:\tlearn: 0.1613116\ttotal: 690ms\tremaining: 432ms\n615:\tlearn: 0.1610072\ttotal: 691ms\tremaining: 431ms\n616:\tlearn: 0.1606669\ttotal: 692ms\tremaining: 429ms\n617:\tlearn: 0.1604570\ttotal: 693ms\tremaining: 428ms\n618:\tlearn: 0.1602654\ttotal: 693ms\tremaining: 427ms\n619:\tlearn: 0.1599713\ttotal: 694ms\tremaining: 426ms\n620:\tlearn: 0.1596946\ttotal: 695ms\tremaining: 424ms\n621:\tlearn: 0.1595421\ttotal: 696ms\tremaining: 423ms\n622:\tlearn: 0.1593827\ttotal: 697ms\tremaining: 422ms\n623:\tlearn: 0.1591499\ttotal: 698ms\tremaining: 420ms\n624:\tlearn: 0.1588701\ttotal: 699ms\tremaining: 419ms\n625:\tlearn: 0.1586585\ttotal: 699ms\tremaining: 418ms\n626:\tlearn: 0.1583859\ttotal: 700ms\tremaining: 417ms\n627:\tlearn: 0.1578859\ttotal: 701ms\tremaining: 415ms\n628:\tlearn: 0.1574768\ttotal: 702ms\tremaining: 414ms\n629:\tlearn: 0.1570812\ttotal: 703ms\tremaining: 413ms\n630:\tlearn: 0.1568276\ttotal: 704ms\tremaining: 412ms\n631:\tlearn: 0.1565651\ttotal: 705ms\tremaining: 410ms\n632:\tlearn: 0.1563604\ttotal: 705ms\tremaining: 409ms\n633:\tlearn: 0.1561345\ttotal: 706ms\tremaining: 408ms\n634:\tlearn: 0.1559198\ttotal: 707ms\tremaining: 406ms\n635:\tlearn: 0.1557800\ttotal: 708ms\tremaining: 405ms\n636:\tlearn: 0.1555747\ttotal: 709ms\tremaining: 404ms\n637:\tlearn: 0.1553290\ttotal: 710ms\tremaining: 403ms\n638:\tlearn: 0.1551216\ttotal: 710ms\tremaining: 401ms\n639:\tlearn: 0.1550031\ttotal: 711ms\tremaining: 400ms\n640:\tlearn: 0.1549188\ttotal: 712ms\tremaining: 399ms\n641:\tlearn: 0.1547311\ttotal: 713ms\tremaining: 397ms\n642:\tlearn: 0.1545147\ttotal: 714ms\tremaining: 396ms\n643:\tlearn: 0.1544677\ttotal: 715ms\tremaining: 395ms\n644:\tlearn: 0.1543092\ttotal: 715ms\tremaining: 394ms\n645:\tlearn: 0.1541350\ttotal: 716ms\tremaining: 393ms\n646:\tlearn: 0.1539291\ttotal: 717ms\tremaining: 391ms\n647:\tlearn: 0.1537134\ttotal: 718ms\tremaining: 390ms\n648:\tlearn: 0.1535378\ttotal: 719ms\tremaining: 389ms\n649:\tlearn: 0.1532474\ttotal: 720ms\tremaining: 388ms\n650:\tlearn: 0.1530963\ttotal: 721ms\tremaining: 386ms\n651:\tlearn: 0.1529833\ttotal: 721ms\tremaining: 385ms\n652:\tlearn: 0.1527975\ttotal: 722ms\tremaining: 384ms\n653:\tlearn: 0.1525411\ttotal: 723ms\tremaining: 383ms\n654:\tlearn: 0.1523749\ttotal: 724ms\tremaining: 381ms\n655:\tlearn: 0.1520568\ttotal: 725ms\tremaining: 380ms\n656:\tlearn: 0.1518459\ttotal: 726ms\tremaining: 379ms\n657:\tlearn: 0.1515856\ttotal: 727ms\tremaining: 378ms\n658:\tlearn: 0.1513585\ttotal: 727ms\tremaining: 376ms\n659:\tlearn: 0.1512287\ttotal: 728ms\tremaining: 375ms\n660:\tlearn: 0.1509889\ttotal: 729ms\tremaining: 374ms\n661:\tlearn: 0.1507653\ttotal: 730ms\tremaining: 373ms\n662:\tlearn: 0.1505773\ttotal: 731ms\tremaining: 371ms\n663:\tlearn: 0.1503383\ttotal: 732ms\tremaining: 370ms\n664:\tlearn: 0.1500735\ttotal: 732ms\tremaining: 369ms\n665:\tlearn: 0.1499171\ttotal: 733ms\tremaining: 368ms\n666:\tlearn: 0.1497256\ttotal: 734ms\tremaining: 367ms\n667:\tlearn: 0.1495856\ttotal: 735ms\tremaining: 365ms\n668:\tlearn: 0.1495000\ttotal: 736ms\tremaining: 364ms\n669:\tlearn: 0.1494012\ttotal: 737ms\tremaining: 363ms\n670:\tlearn: 0.1491914\ttotal: 738ms\tremaining: 362ms\n671:\tlearn: 0.1489825\ttotal: 738ms\tremaining: 360ms\n672:\tlearn: 0.1488842\ttotal: 739ms\tremaining: 359ms\n673:\tlearn: 0.1487259\ttotal: 740ms\tremaining: 358ms\n674:\tlearn: 0.1485424\ttotal: 741ms\tremaining: 357ms\n675:\tlearn: 0.1484264\ttotal: 742ms\tremaining: 356ms\n676:\tlearn: 0.1481423\ttotal: 743ms\tremaining: 354ms\n677:\tlearn: 0.1480010\ttotal: 744ms\tremaining: 353ms\n678:\tlearn: 0.1479154\ttotal: 744ms\tremaining: 352ms\n679:\tlearn: 0.1478321\ttotal: 745ms\tremaining: 351ms\n680:\tlearn: 0.1477850\ttotal: 746ms\tremaining: 350ms\n681:\tlearn: 0.1476871\ttotal: 747ms\tremaining: 348ms\n682:\tlearn: 0.1475808\ttotal: 748ms\tremaining: 347ms\n683:\tlearn: 0.1474475\ttotal: 749ms\tremaining: 346ms\n684:\tlearn: 0.1472127\ttotal: 750ms\tremaining: 345ms\n685:\tlearn: 0.1470686\ttotal: 750ms\tremaining: 343ms\n686:\tlearn: 0.1469413\ttotal: 751ms\tremaining: 342ms\n687:\tlearn: 0.1468120\ttotal: 752ms\tremaining: 341ms\n688:\tlearn: 0.1465619\ttotal: 753ms\tremaining: 340ms\n689:\tlearn: 0.1464407\ttotal: 754ms\tremaining: 339ms\n690:\tlearn: 0.1462926\ttotal: 755ms\tremaining: 337ms\n691:\tlearn: 0.1459831\ttotal: 755ms\tremaining: 336ms\n692:\tlearn: 0.1458401\ttotal: 756ms\tremaining: 335ms\n693:\tlearn: 0.1457026\ttotal: 757ms\tremaining: 334ms\n694:\tlearn: 0.1455805\ttotal: 758ms\tremaining: 333ms\n695:\tlearn: 0.1452457\ttotal: 759ms\tremaining: 331ms\n696:\tlearn: 0.1449396\ttotal: 760ms\tremaining: 330ms\n697:\tlearn: 0.1446308\ttotal: 761ms\tremaining: 329ms\n698:\tlearn: 0.1444998\ttotal: 761ms\tremaining: 328ms\n699:\tlearn: 0.1443250\ttotal: 762ms\tremaining: 327ms\n700:\tlearn: 0.1441822\ttotal: 763ms\tremaining: 325ms\n701:\tlearn: 0.1439833\ttotal: 764ms\tremaining: 324ms\n702:\tlearn: 0.1437213\ttotal: 779ms\tremaining: 329ms\n703:\tlearn: 0.1436533\ttotal: 780ms\tremaining: 328ms\n704:\tlearn: 0.1435382\ttotal: 781ms\tremaining: 327ms\n705:\tlearn: 0.1433477\ttotal: 781ms\tremaining: 325ms\n706:\tlearn: 0.1431442\ttotal: 782ms\tremaining: 324ms\n707:\tlearn: 0.1429164\ttotal: 783ms\tremaining: 323ms\n708:\tlearn: 0.1426882\ttotal: 784ms\tremaining: 322ms\n709:\tlearn: 0.1426100\ttotal: 785ms\tremaining: 321ms\n710:\tlearn: 0.1424190\ttotal: 786ms\tremaining: 319ms\n711:\tlearn: 0.1423092\ttotal: 787ms\tremaining: 318ms\n712:\tlearn: 0.1423067\ttotal: 787ms\tremaining: 317ms\n713:\tlearn: 0.1421693\ttotal: 788ms\tremaining: 316ms\n714:\tlearn: 0.1420677\ttotal: 789ms\tremaining: 314ms\n715:\tlearn: 0.1418909\ttotal: 790ms\tremaining: 313ms\n716:\tlearn: 0.1416497\ttotal: 790ms\tremaining: 312ms\n717:\tlearn: 0.1414662\ttotal: 791ms\tremaining: 311ms\n718:\tlearn: 0.1412558\ttotal: 792ms\tremaining: 310ms\n719:\tlearn: 0.1410650\ttotal: 793ms\tremaining: 308ms\n720:\tlearn: 0.1410166\ttotal: 794ms\tremaining: 307ms\n721:\tlearn: 0.1409624\ttotal: 795ms\tremaining: 306ms\n722:\tlearn: 0.1408545\ttotal: 795ms\tremaining: 305ms\n723:\tlearn: 0.1408217\ttotal: 796ms\tremaining: 304ms\n724:\tlearn: 0.1406658\ttotal: 797ms\tremaining: 302ms\n725:\tlearn: 0.1404716\ttotal: 798ms\tremaining: 301ms\n726:\tlearn: 0.1403177\ttotal: 799ms\tremaining: 300ms\n727:\tlearn: 0.1400926\ttotal: 800ms\tremaining: 299ms\n728:\tlearn: 0.1398246\ttotal: 800ms\tremaining: 298ms\n729:\tlearn: 0.1396829\ttotal: 801ms\tremaining: 296ms\n730:\tlearn: 0.1395054\ttotal: 802ms\tremaining: 295ms\n731:\tlearn: 0.1393124\ttotal: 804ms\tremaining: 294ms\n732:\tlearn: 0.1391796\ttotal: 805ms\tremaining: 293ms\n733:\tlearn: 0.1388529\ttotal: 805ms\tremaining: 292ms\n734:\tlearn: 0.1386752\ttotal: 806ms\tremaining: 291ms\n735:\tlearn: 0.1384586\ttotal: 807ms\tremaining: 290ms\n736:\tlearn: 0.1382095\ttotal: 808ms\tremaining: 288ms\n737:\tlearn: 0.1380341\ttotal: 809ms\tremaining: 287ms\n738:\tlearn: 0.1377901\ttotal: 810ms\tremaining: 286ms\n739:\tlearn: 0.1376585\ttotal: 811ms\tremaining: 285ms\n740:\tlearn: 0.1374064\ttotal: 811ms\tremaining: 284ms\n741:\tlearn: 0.1372794\ttotal: 812ms\tremaining: 282ms\n742:\tlearn: 0.1371531\ttotal: 813ms\tremaining: 281ms\n743:\tlearn: 0.1369993\ttotal: 814ms\tremaining: 280ms\n744:\tlearn: 0.1368186\ttotal: 815ms\tremaining: 279ms\n745:\tlearn: 0.1366331\ttotal: 816ms\tremaining: 278ms\n746:\tlearn: 0.1365468\ttotal: 816ms\tremaining: 277ms\n747:\tlearn: 0.1363820\ttotal: 817ms\tremaining: 275ms\n748:\tlearn: 0.1362567\ttotal: 818ms\tremaining: 274ms\n749:\tlearn: 0.1361312\ttotal: 819ms\tremaining: 273ms\n750:\tlearn: 0.1359187\ttotal: 820ms\tremaining: 272ms\n751:\tlearn: 0.1358299\ttotal: 821ms\tremaining: 271ms\n752:\tlearn: 0.1357257\ttotal: 822ms\tremaining: 269ms\n753:\tlearn: 0.1355594\ttotal: 822ms\tremaining: 268ms\n754:\tlearn: 0.1354687\ttotal: 823ms\tremaining: 267ms\n755:\tlearn: 0.1352557\ttotal: 824ms\tremaining: 266ms\n756:\tlearn: 0.1350550\ttotal: 825ms\tremaining: 265ms\n757:\tlearn: 0.1347531\ttotal: 826ms\tremaining: 264ms\n758:\tlearn: 0.1346400\ttotal: 827ms\tremaining: 262ms\n759:\tlearn: 0.1344066\ttotal: 827ms\tremaining: 261ms\n760:\tlearn: 0.1341927\ttotal: 828ms\tremaining: 260ms\n761:\tlearn: 0.1341844\ttotal: 829ms\tremaining: 259ms\n762:\tlearn: 0.1341012\ttotal: 830ms\tremaining: 258ms\n763:\tlearn: 0.1339409\ttotal: 830ms\tremaining: 257ms\n764:\tlearn: 0.1338125\ttotal: 831ms\tremaining: 255ms\n765:\tlearn: 0.1335885\ttotal: 832ms\tremaining: 254ms\n766:\tlearn: 0.1334875\ttotal: 834ms\tremaining: 253ms\n767:\tlearn: 0.1333759\ttotal: 835ms\tremaining: 252ms\n768:\tlearn: 0.1331280\ttotal: 836ms\tremaining: 251ms\n769:\tlearn: 0.1329730\ttotal: 837ms\tremaining: 250ms\n770:\tlearn: 0.1328939\ttotal: 838ms\tremaining: 249ms\n771:\tlearn: 0.1327019\ttotal: 839ms\tremaining: 248ms\n772:\tlearn: 0.1325675\ttotal: 840ms\tremaining: 247ms\n773:\tlearn: 0.1323489\ttotal: 841ms\tremaining: 245ms\n774:\tlearn: 0.1321570\ttotal: 841ms\tremaining: 244ms\n775:\tlearn: 0.1320639\ttotal: 842ms\tremaining: 243ms\n776:\tlearn: 0.1317801\ttotal: 843ms\tremaining: 242ms\n777:\tlearn: 0.1316457\ttotal: 844ms\tremaining: 241ms\n778:\tlearn: 0.1315459\ttotal: 845ms\tremaining: 240ms\n779:\tlearn: 0.1314841\ttotal: 846ms\tremaining: 238ms\n780:\tlearn: 0.1313377\ttotal: 846ms\tremaining: 237ms\n781:\tlearn: 0.1311382\ttotal: 847ms\tremaining: 236ms\n782:\tlearn: 0.1311252\ttotal: 848ms\tremaining: 235ms\n783:\tlearn: 0.1310056\ttotal: 849ms\tremaining: 234ms\n784:\tlearn: 0.1307991\ttotal: 849ms\tremaining: 233ms\n785:\tlearn: 0.1307076\ttotal: 850ms\tremaining: 232ms\n786:\tlearn: 0.1305459\ttotal: 851ms\tremaining: 230ms\n787:\tlearn: 0.1304805\ttotal: 852ms\tremaining: 229ms\n788:\tlearn: 0.1304152\ttotal: 853ms\tremaining: 228ms\n789:\tlearn: 0.1303560\ttotal: 854ms\tremaining: 227ms\n790:\tlearn: 0.1301373\ttotal: 854ms\tremaining: 226ms\n791:\tlearn: 0.1300681\ttotal: 855ms\tremaining: 225ms\n792:\tlearn: 0.1298697\ttotal: 871ms\tremaining: 227ms\n793:\tlearn: 0.1297265\ttotal: 872ms\tremaining: 226ms\n794:\tlearn: 0.1295468\ttotal: 873ms\tremaining: 225ms\n795:\tlearn: 0.1294040\ttotal: 874ms\tremaining: 224ms\n796:\tlearn: 0.1292465\ttotal: 875ms\tremaining: 223ms\n797:\tlearn: 0.1291329\ttotal: 876ms\tremaining: 222ms\n798:\tlearn: 0.1290803\ttotal: 877ms\tremaining: 220ms\n799:\tlearn: 0.1290301\ttotal: 877ms\tremaining: 219ms\n800:\tlearn: 0.1288635\ttotal: 878ms\tremaining: 218ms\n801:\tlearn: 0.1287361\ttotal: 879ms\tremaining: 217ms\n802:\tlearn: 0.1286530\ttotal: 880ms\tremaining: 216ms\n803:\tlearn: 0.1284389\ttotal: 880ms\tremaining: 215ms\n804:\tlearn: 0.1282786\ttotal: 881ms\tremaining: 213ms\n805:\tlearn: 0.1281553\ttotal: 882ms\tremaining: 212ms\n806:\tlearn: 0.1279823\ttotal: 883ms\tremaining: 211ms\n807:\tlearn: 0.1277750\ttotal: 884ms\tremaining: 210ms\n808:\tlearn: 0.1276277\ttotal: 885ms\tremaining: 209ms\n809:\tlearn: 0.1275494\ttotal: 886ms\tremaining: 208ms\n810:\tlearn: 0.1274837\ttotal: 886ms\tremaining: 207ms\n811:\tlearn: 0.1273540\ttotal: 887ms\tremaining: 205ms\n812:\tlearn: 0.1272787\ttotal: 888ms\tremaining: 204ms\n813:\tlearn: 0.1271554\ttotal: 889ms\tremaining: 203ms\n814:\tlearn: 0.1270493\ttotal: 890ms\tremaining: 202ms\n815:\tlearn: 0.1269465\ttotal: 891ms\tremaining: 201ms\n816:\tlearn: 0.1267095\ttotal: 891ms\tremaining: 200ms\n817:\tlearn: 0.1264776\ttotal: 892ms\tremaining: 199ms\n818:\tlearn: 0.1264032\ttotal: 893ms\tremaining: 197ms\n819:\tlearn: 0.1262612\ttotal: 894ms\tremaining: 196ms\n820:\tlearn: 0.1261729\ttotal: 895ms\tremaining: 195ms\n821:\tlearn: 0.1260966\ttotal: 896ms\tremaining: 194ms\n822:\tlearn: 0.1260511\ttotal: 897ms\tremaining: 193ms\n823:\tlearn: 0.1258028\ttotal: 897ms\tremaining: 192ms\n824:\tlearn: 0.1256652\ttotal: 898ms\tremaining: 191ms\n825:\tlearn: 0.1254916\ttotal: 899ms\tremaining: 189ms\n826:\tlearn: 0.1253357\ttotal: 900ms\tremaining: 188ms\n827:\tlearn: 0.1251382\ttotal: 901ms\tremaining: 187ms\n828:\tlearn: 0.1249919\ttotal: 902ms\tremaining: 186ms\n829:\tlearn: 0.1248457\ttotal: 903ms\tremaining: 185ms\n830:\tlearn: 0.1246324\ttotal: 904ms\tremaining: 184ms\n831:\tlearn: 0.1244996\ttotal: 904ms\tremaining: 183ms\n832:\tlearn: 0.1243415\ttotal: 905ms\tremaining: 181ms\n833:\tlearn: 0.1241847\ttotal: 906ms\tremaining: 180ms\n834:\tlearn: 0.1240335\ttotal: 907ms\tremaining: 179ms\n835:\tlearn: 0.1237918\ttotal: 908ms\tremaining: 178ms\n836:\tlearn: 0.1236950\ttotal: 909ms\tremaining: 177ms\n837:\tlearn: 0.1235613\ttotal: 910ms\tremaining: 176ms\n838:\tlearn: 0.1233025\ttotal: 910ms\tremaining: 175ms\n839:\tlearn: 0.1232121\ttotal: 911ms\tremaining: 174ms\n840:\tlearn: 0.1231302\ttotal: 912ms\tremaining: 172ms\n841:\tlearn: 0.1229518\ttotal: 913ms\tremaining: 171ms\n842:\tlearn: 0.1228069\ttotal: 914ms\tremaining: 170ms\n843:\tlearn: 0.1226059\ttotal: 914ms\tremaining: 169ms\n844:\tlearn: 0.1224354\ttotal: 915ms\tremaining: 168ms\n845:\tlearn: 0.1222127\ttotal: 916ms\tremaining: 167ms\n846:\tlearn: 0.1220856\ttotal: 917ms\tremaining: 166ms\n847:\tlearn: 0.1219199\ttotal: 918ms\tremaining: 165ms\n848:\tlearn: 0.1217458\ttotal: 919ms\tremaining: 163ms\n849:\tlearn: 0.1216257\ttotal: 920ms\tremaining: 162ms\n850:\tlearn: 0.1215600\ttotal: 920ms\tremaining: 161ms\n851:\tlearn: 0.1214933\ttotal: 921ms\tremaining: 160ms\n852:\tlearn: 0.1213989\ttotal: 922ms\tremaining: 159ms\n853:\tlearn: 0.1211759\ttotal: 923ms\tremaining: 158ms\n854:\tlearn: 0.1210459\ttotal: 924ms\tremaining: 157ms\n855:\tlearn: 0.1209763\ttotal: 925ms\tremaining: 156ms\n856:\tlearn: 0.1208424\ttotal: 926ms\tremaining: 154ms\n857:\tlearn: 0.1207268\ttotal: 927ms\tremaining: 153ms\n858:\tlearn: 0.1207021\ttotal: 927ms\tremaining: 152ms\n859:\tlearn: 0.1206801\ttotal: 928ms\tremaining: 151ms\n860:\tlearn: 0.1205816\ttotal: 929ms\tremaining: 150ms\n861:\tlearn: 0.1204966\ttotal: 930ms\tremaining: 149ms\n862:\tlearn: 0.1203707\ttotal: 931ms\tremaining: 148ms\n863:\tlearn: 0.1202906\ttotal: 932ms\tremaining: 147ms\n864:\tlearn: 0.1201868\ttotal: 933ms\tremaining: 146ms\n865:\tlearn: 0.1200493\ttotal: 933ms\tremaining: 144ms\n866:\tlearn: 0.1199292\ttotal: 934ms\tremaining: 143ms\n867:\tlearn: 0.1196922\ttotal: 935ms\tremaining: 142ms\n868:\tlearn: 0.1194634\ttotal: 936ms\tremaining: 141ms\n869:\tlearn: 0.1192923\ttotal: 937ms\tremaining: 140ms\n870:\tlearn: 0.1190678\ttotal: 938ms\tremaining: 139ms\n871:\tlearn: 0.1188564\ttotal: 939ms\tremaining: 138ms\n872:\tlearn: 0.1187446\ttotal: 939ms\tremaining: 137ms\n873:\tlearn: 0.1185680\ttotal: 940ms\tremaining: 136ms\n874:\tlearn: 0.1183099\ttotal: 941ms\tremaining: 134ms\n875:\tlearn: 0.1181296\ttotal: 942ms\tremaining: 133ms\n876:\tlearn: 0.1179675\ttotal: 943ms\tremaining: 132ms\n877:\tlearn: 0.1178422\ttotal: 944ms\tremaining: 131ms\n878:\tlearn: 0.1178078\ttotal: 944ms\tremaining: 130ms\n879:\tlearn: 0.1176941\ttotal: 945ms\tremaining: 129ms\n880:\tlearn: 0.1175515\ttotal: 946ms\tremaining: 128ms\n881:\tlearn: 0.1173246\ttotal: 947ms\tremaining: 127ms\n882:\tlearn: 0.1172417\ttotal: 948ms\tremaining: 126ms\n883:\tlearn: 0.1170307\ttotal: 963ms\tremaining: 126ms\n884:\tlearn: 0.1168643\ttotal: 964ms\tremaining: 125ms\n885:\tlearn: 0.1166485\ttotal: 965ms\tremaining: 124ms\n886:\tlearn: 0.1165695\ttotal: 966ms\tremaining: 123ms\n887:\tlearn: 0.1164786\ttotal: 967ms\tremaining: 122ms\n888:\tlearn: 0.1162830\ttotal: 968ms\tremaining: 121ms\n889:\tlearn: 0.1161377\ttotal: 968ms\tremaining: 120ms\n890:\tlearn: 0.1160423\ttotal: 969ms\tremaining: 119ms\n891:\tlearn: 0.1158758\ttotal: 970ms\tremaining: 117ms\n892:\tlearn: 0.1157740\ttotal: 971ms\tremaining: 116ms\n893:\tlearn: 0.1156028\ttotal: 972ms\tremaining: 115ms\n894:\tlearn: 0.1154865\ttotal: 973ms\tremaining: 114ms\n895:\tlearn: 0.1153868\ttotal: 974ms\tremaining: 113ms\n896:\tlearn: 0.1152056\ttotal: 974ms\tremaining: 112ms\n897:\tlearn: 0.1151117\ttotal: 975ms\tremaining: 111ms\n898:\tlearn: 0.1148738\ttotal: 977ms\tremaining: 110ms\n899:\tlearn: 0.1148047\ttotal: 978ms\tremaining: 109ms\n900:\tlearn: 0.1146821\ttotal: 980ms\tremaining: 108ms\n901:\tlearn: 0.1145236\ttotal: 981ms\tremaining: 107ms\n902:\tlearn: 0.1144411\ttotal: 982ms\tremaining: 105ms\n903:\tlearn: 0.1143005\ttotal: 983ms\tremaining: 104ms\n904:\tlearn: 0.1141661\ttotal: 991ms\tremaining: 104ms\n905:\tlearn: 0.1139904\ttotal: 993ms\tremaining: 103ms\n906:\tlearn: 0.1138217\ttotal: 994ms\tremaining: 102ms\n907:\tlearn: 0.1137136\ttotal: 998ms\tremaining: 101ms\n908:\tlearn: 0.1135761\ttotal: 999ms\tremaining: 100ms\n909:\tlearn: 0.1134929\ttotal: 1000ms\tremaining: 98.9ms\n910:\tlearn: 0.1133699\ttotal: 1s\tremaining: 97.8ms\n911:\tlearn: 0.1133066\ttotal: 1s\tremaining: 96.6ms\n912:\tlearn: 0.1132211\ttotal: 1s\tremaining: 95.5ms\n913:\tlearn: 0.1131021\ttotal: 1s\tremaining: 94.4ms\n914:\tlearn: 0.1128385\ttotal: 1.01s\tremaining: 93.7ms\n915:\tlearn: 0.1127625\ttotal: 1.01s\tremaining: 92.5ms\n916:\tlearn: 0.1126451\ttotal: 1.01s\tremaining: 91.4ms\n917:\tlearn: 0.1125565\ttotal: 1.01s\tremaining: 90.3ms\n918:\tlearn: 0.1124484\ttotal: 1.01s\tremaining: 89.2ms\n919:\tlearn: 0.1123934\ttotal: 1.01s\tremaining: 88.1ms\n920:\tlearn: 0.1123856\ttotal: 1.01s\tremaining: 86.9ms\n921:\tlearn: 0.1122845\ttotal: 1.01s\tremaining: 85.8ms\n922:\tlearn: 0.1122166\ttotal: 1.01s\tremaining: 84.7ms\n923:\tlearn: 0.1120739\ttotal: 1.01s\tremaining: 83.6ms\n924:\tlearn: 0.1119260\ttotal: 1.02s\tremaining: 82.4ms\n925:\tlearn: 0.1117935\ttotal: 1.02s\tremaining: 81.3ms\n926:\tlearn: 0.1116559\ttotal: 1.02s\tremaining: 80.2ms\n927:\tlearn: 0.1116135\ttotal: 1.02s\tremaining: 79.1ms\n928:\tlearn: 0.1114628\ttotal: 1.02s\tremaining: 78ms\n929:\tlearn: 0.1112802\ttotal: 1.02s\tremaining: 76.9ms\n930:\tlearn: 0.1111615\ttotal: 1.02s\tremaining: 75.8ms\n931:\tlearn: 0.1109939\ttotal: 1.02s\tremaining: 74.7ms\n932:\tlearn: 0.1108623\ttotal: 1.02s\tremaining: 73.6ms\n933:\tlearn: 0.1107343\ttotal: 1.02s\tremaining: 72.5ms\n934:\tlearn: 0.1105349\ttotal: 1.03s\tremaining: 71.4ms\n935:\tlearn: 0.1104758\ttotal: 1.03s\tremaining: 70.2ms\n936:\tlearn: 0.1103224\ttotal: 1.03s\tremaining: 69.1ms\n937:\tlearn: 0.1102123\ttotal: 1.03s\tremaining: 68ms\n938:\tlearn: 0.1100907\ttotal: 1.03s\tremaining: 66.9ms\n939:\tlearn: 0.1100086\ttotal: 1.03s\tremaining: 65.8ms\n940:\tlearn: 0.1098823\ttotal: 1.03s\tremaining: 64.7ms\n941:\tlearn: 0.1097387\ttotal: 1.03s\tremaining: 63.6ms\n942:\tlearn: 0.1096208\ttotal: 1.03s\tremaining: 62.5ms\n943:\tlearn: 0.1095742\ttotal: 1.03s\tremaining: 61.3ms\n944:\tlearn: 0.1093932\ttotal: 1.03s\tremaining: 60.2ms\n945:\tlearn: 0.1092142\ttotal: 1.03s\tremaining: 59.1ms\n946:\tlearn: 0.1091308\ttotal: 1.04s\tremaining: 58ms\n947:\tlearn: 0.1089940\ttotal: 1.04s\tremaining: 56.9ms\n948:\tlearn: 0.1088858\ttotal: 1.04s\tremaining: 55.8ms\n949:\tlearn: 0.1087709\ttotal: 1.04s\tremaining: 54.7ms\n950:\tlearn: 0.1085972\ttotal: 1.04s\tremaining: 53.6ms\n951:\tlearn: 0.1084184\ttotal: 1.04s\tremaining: 52.5ms\n952:\tlearn: 0.1083189\ttotal: 1.04s\tremaining: 51.4ms\n953:\tlearn: 0.1081992\ttotal: 1.04s\tremaining: 50.3ms\n954:\tlearn: 0.1081138\ttotal: 1.04s\tremaining: 49.2ms\n955:\tlearn: 0.1078700\ttotal: 1.04s\tremaining: 48.1ms\n956:\tlearn: 0.1077964\ttotal: 1.04s\tremaining: 47ms\n957:\tlearn: 0.1077156\ttotal: 1.04s\tremaining: 45.9ms\n958:\tlearn: 0.1076575\ttotal: 1.05s\tremaining: 44.8ms\n959:\tlearn: 0.1075905\ttotal: 1.05s\tremaining: 43.7ms\n960:\tlearn: 0.1075204\ttotal: 1.05s\tremaining: 42.6ms\n961:\tlearn: 0.1073493\ttotal: 1.05s\tremaining: 41.5ms\n962:\tlearn: 0.1072182\ttotal: 1.05s\tremaining: 40.4ms\n963:\tlearn: 0.1070009\ttotal: 1.05s\tremaining: 39.3ms\n964:\tlearn: 0.1069011\ttotal: 1.05s\tremaining: 38.2ms\n965:\tlearn: 0.1068289\ttotal: 1.05s\tremaining: 37.1ms\n966:\tlearn: 0.1066758\ttotal: 1.05s\tremaining: 36ms\n967:\tlearn: 0.1066344\ttotal: 1.05s\tremaining: 34.9ms\n968:\tlearn: 0.1064638\ttotal: 1.05s\tremaining: 33.8ms\n969:\tlearn: 0.1063075\ttotal: 1.06s\tremaining: 32.7ms\n970:\tlearn: 0.1061300\ttotal: 1.06s\tremaining: 31.6ms\n971:\tlearn: 0.1060434\ttotal: 1.06s\tremaining: 30.5ms\n972:\tlearn: 0.1059653\ttotal: 1.06s\tremaining: 29.4ms\n973:\tlearn: 0.1058871\ttotal: 1.06s\tremaining: 28.3ms\n974:\tlearn: 0.1057428\ttotal: 1.06s\tremaining: 27.2ms\n975:\tlearn: 0.1055310\ttotal: 1.06s\tremaining: 26.1ms\n976:\tlearn: 0.1054701\ttotal: 1.06s\tremaining: 25ms\n977:\tlearn: 0.1053799\ttotal: 1.06s\tremaining: 23.9ms\n978:\tlearn: 0.1052993\ttotal: 1.06s\tremaining: 22.8ms\n979:\tlearn: 0.1052548\ttotal: 1.06s\tremaining: 21.7ms\n980:\tlearn: 0.1051224\ttotal: 1.06s\tremaining: 20.6ms\n981:\tlearn: 0.1049524\ttotal: 1.07s\tremaining: 19.6ms\n982:\tlearn: 0.1048110\ttotal: 1.07s\tremaining: 18.5ms\n983:\tlearn: 0.1047053\ttotal: 1.07s\tremaining: 17.4ms\n984:\tlearn: 0.1046211\ttotal: 1.07s\tremaining: 16.3ms\n985:\tlearn: 0.1044922\ttotal: 1.07s\tremaining: 15.2ms\n986:\tlearn: 0.1044209\ttotal: 1.07s\tremaining: 14.1ms\n987:\tlearn: 0.1043547\ttotal: 1.07s\tremaining: 13ms\n988:\tlearn: 0.1042491\ttotal: 1.07s\tremaining: 11.9ms\n989:\tlearn: 0.1040603\ttotal: 1.07s\tremaining: 10.8ms\n990:\tlearn: 0.1039577\ttotal: 1.07s\tremaining: 9.76ms\n991:\tlearn: 0.1038650\ttotal: 1.07s\tremaining: 8.67ms\n992:\tlearn: 0.1037839\ttotal: 1.08s\tremaining: 7.59ms\n993:\tlearn: 0.1036449\ttotal: 1.08s\tremaining: 6.5ms\n994:\tlearn: 0.1035994\ttotal: 1.08s\tremaining: 5.42ms\n995:\tlearn: 0.1035596\ttotal: 1.08s\tremaining: 4.33ms\n996:\tlearn: 0.1033526\ttotal: 1.08s\tremaining: 3.25ms\n997:\tlearn: 0.1033085\ttotal: 1.08s\tremaining: 2.17ms\n998:\tlearn: 0.1031536\ttotal: 1.08s\tremaining: 1.08ms\n999:\tlearn: 0.1030542\ttotal: 1.08s\tremaining: 0us\n",
     "output_type": "stream"
    }
   ]
  },
  {
   "cell_type": "code",
   "metadata": {
    "tags": [],
    "cell_id": "00037-612d5b09-572b-4f07-83e5-7f71a4b7d8e8",
    "deepnote_to_be_reexecuted": false,
    "source_hash": "f6c97c91",
    "execution_start": 1620564144102,
    "execution_millis": 109,
    "deepnote_cell_type": "code"
   },
   "source": "results_ord = results.sort_values(by=['Accuracy'], ascending=False, ignore_index=True)\nresults_ord.index += 1 \nresults_ord.style.bar(subset=['Accuracy', 'Bal Acc.'], vmin=0, vmax=100, color='#5fba7d')",
   "execution_count": 32,
   "outputs": [
    {
     "output_type": "execute_result",
     "execution_count": 32,
     "data": {
      "text/plain": "<pandas.io.formats.style.Styler at 0x7f84e371ec50>",
      "text/html": "<style  type=\"text/css\" >\n#T_3161d_row0_col1,#T_3161d_row1_col1,#T_3161d_row2_col1{\n            width:  10em;\n             height:  80%;\n            background:  linear-gradient(90deg,#5fba7d 86.9%, transparent 86.9%);\n        }#T_3161d_row0_col2{\n            width:  10em;\n             height:  80%;\n            background:  linear-gradient(90deg,#5fba7d 86.8%, transparent 86.8%);\n        }#T_3161d_row1_col2{\n            width:  10em;\n             height:  80%;\n            background:  linear-gradient(90deg,#5fba7d 86.3%, transparent 86.3%);\n        }#T_3161d_row2_col2{\n            width:  10em;\n             height:  80%;\n            background:  linear-gradient(90deg,#5fba7d 86.5%, transparent 86.5%);\n        }#T_3161d_row3_col1,#T_3161d_row4_col1,#T_3161d_row5_col1,#T_3161d_row6_col1,#T_3161d_row7_col1,#T_3161d_row8_col1{\n            width:  10em;\n             height:  80%;\n            background:  linear-gradient(90deg,#5fba7d 85.2%, transparent 85.2%);\n        }#T_3161d_row3_col2,#T_3161d_row7_col2,#T_3161d_row8_col2{\n            width:  10em;\n             height:  80%;\n            background:  linear-gradient(90deg,#5fba7d 84.7%, transparent 84.7%);\n        }#T_3161d_row4_col2,#T_3161d_row5_col2,#T_3161d_row6_col2{\n            width:  10em;\n             height:  80%;\n            background:  linear-gradient(90deg,#5fba7d 85.0%, transparent 85.0%);\n        }#T_3161d_row9_col1,#T_3161d_row10_col1,#T_3161d_row11_col1,#T_3161d_row12_col1{\n            width:  10em;\n             height:  80%;\n            background:  linear-gradient(90deg,#5fba7d 83.6%, transparent 83.6%);\n        }#T_3161d_row9_col2{\n            width:  10em;\n             height:  80%;\n            background:  linear-gradient(90deg,#5fba7d 83.5%, transparent 83.5%);\n        }#T_3161d_row10_col2,#T_3161d_row11_col2{\n            width:  10em;\n             height:  80%;\n            background:  linear-gradient(90deg,#5fba7d 83.0%, transparent 83.0%);\n        }#T_3161d_row12_col2{\n            width:  10em;\n             height:  80%;\n            background:  linear-gradient(90deg,#5fba7d 83.2%, transparent 83.2%);\n        }#T_3161d_row13_col1,#T_3161d_row13_col2{\n            width:  10em;\n             height:  80%;\n            background:  linear-gradient(90deg,#5fba7d 82.0%, transparent 82.0%);\n        }#T_3161d_row14_col1,#T_3161d_row15_col1,#T_3161d_row16_col1{\n            width:  10em;\n             height:  80%;\n            background:  linear-gradient(90deg,#5fba7d 80.3%, transparent 80.3%);\n        }#T_3161d_row14_col2,#T_3161d_row16_col2{\n            width:  10em;\n             height:  80%;\n            background:  linear-gradient(90deg,#5fba7d 79.9%, transparent 79.9%);\n        }#T_3161d_row15_col2{\n            width:  10em;\n             height:  80%;\n            background:  linear-gradient(90deg,#5fba7d 80.2%, transparent 80.2%);\n        }#T_3161d_row17_col1{\n            width:  10em;\n             height:  80%;\n            background:  linear-gradient(90deg,#5fba7d 77.0%, transparent 77.0%);\n        }#T_3161d_row17_col2{\n            width:  10em;\n             height:  80%;\n            background:  linear-gradient(90deg,#5fba7d 76.4%, transparent 76.4%);\n        }</style><table id=\"T_3161d_\" ><thead>    <tr>        <th class=\"blank level0\" ></th>        <th class=\"col_heading level0 col0\" >Model</th>        <th class=\"col_heading level0 col1\" >Accuracy</th>        <th class=\"col_heading level0 col2\" >Bal Acc.</th>        <th class=\"col_heading level0 col3\" >Time</th>    </tr></thead><tbody>\n                <tr>\n                        <th id=\"T_3161d_level0_row0\" class=\"row_heading level0 row0\" >1</th>\n                        <td id=\"T_3161d_row0_col0\" class=\"data row0 col0\" >CatBoost</td>\n                        <td id=\"T_3161d_row0_col1\" class=\"data row0 col1\" >86.885246</td>\n                        <td id=\"T_3161d_row0_col2\" class=\"data row0 col2\" >86.796537</td>\n                        <td id=\"T_3161d_row0_col3\" class=\"data row0 col3\" >1.225873</td>\n            </tr>\n            <tr>\n                        <th id=\"T_3161d_level0_row1\" class=\"row_heading level0 row1\" >2</th>\n                        <td id=\"T_3161d_row1_col0\" class=\"data row1 col0\" >SVM_lin</td>\n                        <td id=\"T_3161d_row1_col1\" class=\"data row1 col1\" >86.885246</td>\n                        <td id=\"T_3161d_row1_col2\" class=\"data row1 col2\" >86.255411</td>\n                        <td id=\"T_3161d_row1_col3\" class=\"data row1 col3\" >0.042355</td>\n            </tr>\n            <tr>\n                        <th id=\"T_3161d_level0_row2\" class=\"row_heading level0 row2\" >3</th>\n                        <td id=\"T_3161d_row2_col0\" class=\"data row2 col0\" >XGBoost</td>\n                        <td id=\"T_3161d_row2_col1\" class=\"data row2 col1\" >86.885246</td>\n                        <td id=\"T_3161d_row2_col2\" class=\"data row2 col2\" >86.525974</td>\n                        <td id=\"T_3161d_row2_col3\" class=\"data row2 col3\" >0.059658</td>\n            </tr>\n            <tr>\n                        <th id=\"T_3161d_level0_row3\" class=\"row_heading level0 row3\" >4</th>\n                        <td id=\"T_3161d_row3_col0\" class=\"data row3 col0\" >Ridge</td>\n                        <td id=\"T_3161d_row3_col1\" class=\"data row3 col1\" >85.245902</td>\n                        <td id=\"T_3161d_row3_col2\" class=\"data row3 col2\" >84.740260</td>\n                        <td id=\"T_3161d_row3_col3\" class=\"data row3 col3\" >0.035813</td>\n            </tr>\n            <tr>\n                        <th id=\"T_3161d_level0_row4\" class=\"row_heading level0 row4\" >5</th>\n                        <td id=\"T_3161d_row4_col0\" class=\"data row4 col0\" >Skl HistGBM</td>\n                        <td id=\"T_3161d_row4_col1\" class=\"data row4 col1\" >85.245902</td>\n                        <td id=\"T_3161d_row4_col2\" class=\"data row4 col2\" >85.010823</td>\n                        <td id=\"T_3161d_row4_col3\" class=\"data row4 col3\" >0.089335</td>\n            </tr>\n            <tr>\n                        <th id=\"T_3161d_level0_row5\" class=\"row_heading level0 row5\" >6</th>\n                        <td id=\"T_3161d_row5_col0\" class=\"data row5 col0\" >Skl GBM</td>\n                        <td id=\"T_3161d_row5_col1\" class=\"data row5 col1\" >85.245902</td>\n                        <td id=\"T_3161d_row5_col2\" class=\"data row5 col2\" >85.010823</td>\n                        <td id=\"T_3161d_row5_col3\" class=\"data row5 col3\" >0.089847</td>\n            </tr>\n            <tr>\n                        <th id=\"T_3161d_level0_row6\" class=\"row_heading level0 row6\" >7</th>\n                        <td id=\"T_3161d_row6_col0\" class=\"data row6 col0\" >Extra Trees</td>\n                        <td id=\"T_3161d_row6_col1\" class=\"data row6 col1\" >85.245902</td>\n                        <td id=\"T_3161d_row6_col2\" class=\"data row6 col2\" >85.010823</td>\n                        <td id=\"T_3161d_row6_col3\" class=\"data row6 col3\" >0.116059</td>\n            </tr>\n            <tr>\n                        <th id=\"T_3161d_level0_row7\" class=\"row_heading level0 row7\" >8</th>\n                        <td id=\"T_3161d_row7_col0\" class=\"data row7 col0\" >LogRegr</td>\n                        <td id=\"T_3161d_row7_col1\" class=\"data row7 col1\" >85.245902</td>\n                        <td id=\"T_3161d_row7_col2\" class=\"data row7 col2\" >84.740260</td>\n                        <td id=\"T_3161d_row7_col3\" class=\"data row7 col3\" >0.028749</td>\n            </tr>\n            <tr>\n                        <th id=\"T_3161d_level0_row8\" class=\"row_heading level0 row8\" >9</th>\n                        <td id=\"T_3161d_row8_col0\" class=\"data row8 col0\" >LinearSVC</td>\n                        <td id=\"T_3161d_row8_col1\" class=\"data row8 col1\" >85.245902</td>\n                        <td id=\"T_3161d_row8_col2\" class=\"data row8 col2\" >84.740260</td>\n                        <td id=\"T_3161d_row8_col3\" class=\"data row8 col3\" >0.024475</td>\n            </tr>\n            <tr>\n                        <th id=\"T_3161d_level0_row9\" class=\"row_heading level0 row9\" >10</th>\n                        <td id=\"T_3161d_row9_col0\" class=\"data row9 col0\" >Random Forest</td>\n                        <td id=\"T_3161d_row9_col1\" class=\"data row9 col1\" >83.606557</td>\n                        <td id=\"T_3161d_row9_col2\" class=\"data row9 col2\" >83.495671</td>\n                        <td id=\"T_3161d_row9_col3\" class=\"data row9 col3\" >0.146108</td>\n            </tr>\n            <tr>\n                        <th id=\"T_3161d_level0_row10\" class=\"row_heading level0 row10\" >11</th>\n                        <td id=\"T_3161d_row10_col0\" class=\"data row10 col0\" >NuSVC</td>\n                        <td id=\"T_3161d_row10_col1\" class=\"data row10 col1\" >83.606557</td>\n                        <td id=\"T_3161d_row10_col2\" class=\"data row10 col2\" >82.954545</td>\n                        <td id=\"T_3161d_row10_col3\" class=\"data row10 col3\" >0.028286</td>\n            </tr>\n            <tr>\n                        <th id=\"T_3161d_level0_row11\" class=\"row_heading level0 row11\" >12</th>\n                        <td id=\"T_3161d_row11_col0\" class=\"data row11 col0\" >SVM_rbf</td>\n                        <td id=\"T_3161d_row11_col1\" class=\"data row11 col1\" >83.606557</td>\n                        <td id=\"T_3161d_row11_col2\" class=\"data row11 col2\" >82.954545</td>\n                        <td id=\"T_3161d_row11_col3\" class=\"data row11 col3\" >0.044796</td>\n            </tr>\n            <tr>\n                        <th id=\"T_3161d_level0_row12\" class=\"row_heading level0 row12\" >13</th>\n                        <td id=\"T_3161d_row12_col0\" class=\"data row12 col0\" >Decision Tree</td>\n                        <td id=\"T_3161d_row12_col1\" class=\"data row12 col1\" >83.606557</td>\n                        <td id=\"T_3161d_row12_col2\" class=\"data row12 col2\" >83.225108</td>\n                        <td id=\"T_3161d_row12_col3\" class=\"data row12 col3\" >0.013004</td>\n            </tr>\n            <tr>\n                        <th id=\"T_3161d_level0_row13\" class=\"row_heading level0 row13\" >14</th>\n                        <td id=\"T_3161d_row13_col0\" class=\"data row13 col0\" >AdaBoost</td>\n                        <td id=\"T_3161d_row13_col1\" class=\"data row13 col1\" >81.967213</td>\n                        <td id=\"T_3161d_row13_col2\" class=\"data row13 col2\" >81.980519</td>\n                        <td id=\"T_3161d_row13_col3\" class=\"data row13 col3\" >0.091962</td>\n            </tr>\n            <tr>\n                        <th id=\"T_3161d_level0_row14\" class=\"row_heading level0 row14\" >15</th>\n                        <td id=\"T_3161d_row14_col0\" class=\"data row14 col0\" >GaussianNB</td>\n                        <td id=\"T_3161d_row14_col1\" class=\"data row14 col1\" >80.327869</td>\n                        <td id=\"T_3161d_row14_col2\" class=\"data row14 col2\" >79.924242</td>\n                        <td id=\"T_3161d_row14_col3\" class=\"data row14 col3\" >0.013988</td>\n            </tr>\n            <tr>\n                        <th id=\"T_3161d_level0_row15\" class=\"row_heading level0 row15\" >16</th>\n                        <td id=\"T_3161d_row15_col0\" class=\"data row15 col0\" >KNN3</td>\n                        <td id=\"T_3161d_row15_col1\" class=\"data row15 col1\" >80.327869</td>\n                        <td id=\"T_3161d_row15_col2\" class=\"data row15 col2\" >80.194805</td>\n                        <td id=\"T_3161d_row15_col3\" class=\"data row15 col3\" >0.015907</td>\n            </tr>\n            <tr>\n                        <th id=\"T_3161d_level0_row16\" class=\"row_heading level0 row16\" >17</th>\n                        <td id=\"T_3161d_row16_col0\" class=\"data row16 col0\" >LightGBM</td>\n                        <td id=\"T_3161d_row16_col1\" class=\"data row16 col1\" >80.327869</td>\n                        <td id=\"T_3161d_row16_col2\" class=\"data row16 col2\" >79.924242</td>\n                        <td id=\"T_3161d_row16_col3\" class=\"data row16 col3\" >0.034556</td>\n            </tr>\n            <tr>\n                        <th id=\"T_3161d_level0_row17\" class=\"row_heading level0 row17\" >18</th>\n                        <td id=\"T_3161d_row17_col0\" class=\"data row17 col0\" >KNN5</td>\n                        <td id=\"T_3161d_row17_col1\" class=\"data row17 col1\" >77.049180</td>\n                        <td id=\"T_3161d_row17_col2\" class=\"data row17 col2\" >76.352814</td>\n                        <td id=\"T_3161d_row17_col3\" class=\"data row17 col3\" >0.015802</td>\n            </tr>\n    </tbody></table>"
     },
     "metadata": {}
    }
   ]
  },
  {
   "cell_type": "code",
   "metadata": {
    "tags": [],
    "cell_id": "00040-ace82b57-bc92-4fd0-9534-355750133568",
    "deepnote_to_be_reexecuted": false,
    "source_hash": "e647772f",
    "execution_start": 1620564275360,
    "execution_millis": 17,
    "deepnote_cell_type": "code"
   },
   "source": " from sklearn.metrics import confusion_matrix\n\n confusion_matrix(df_test['target'], test_pred)",
   "execution_count": 53,
   "outputs": [
    {
     "output_type": "error",
     "ename": "NameError",
     "evalue": "name 'test_pred' is not defined",
     "traceback": [
      "\u001b[0;31m---------------------------------------------------------------------------\u001b[0m",
      "\u001b[0;31mNameError\u001b[0m                                 Traceback (most recent call last)",
      "\u001b[0;32m<ipython-input-53-82714867bb3a>\u001b[0m in \u001b[0;36m<module>\u001b[0;34m\u001b[0m\n\u001b[1;32m      1\u001b[0m \u001b[0;32mfrom\u001b[0m \u001b[0msklearn\u001b[0m\u001b[0;34m.\u001b[0m\u001b[0mmetrics\u001b[0m \u001b[0;32mimport\u001b[0m \u001b[0mconfusion_matrix\u001b[0m\u001b[0;34m\u001b[0m\u001b[0;34m\u001b[0m\u001b[0m\n\u001b[1;32m      2\u001b[0m \u001b[0;34m\u001b[0m\u001b[0m\n\u001b[0;32m----> 3\u001b[0;31m \u001b[0mconfusion_matrix\u001b[0m\u001b[0;34m(\u001b[0m\u001b[0mdf_test\u001b[0m\u001b[0;34m[\u001b[0m\u001b[0;34m'target'\u001b[0m\u001b[0;34m]\u001b[0m\u001b[0;34m,\u001b[0m \u001b[0mtest_pred\u001b[0m\u001b[0;34m)\u001b[0m\u001b[0;34m\u001b[0m\u001b[0;34m\u001b[0m\u001b[0m\n\u001b[0m",
      "\u001b[0;31mNameError\u001b[0m: name 'test_pred' is not defined"
     ]
    }
   ]
  },
  {
   "cell_type": "markdown",
   "source": "### Predicting on dataset with extra column",
   "metadata": {
    "tags": [],
    "cell_id": "00023-7b86ab56-1191-4bd4-9013-6512314e1064",
    "deepnote_cell_type": "text-cell-h3"
   }
  },
  {
   "cell_type": "code",
   "metadata": {
    "tags": [],
    "cell_id": "00040-7a77a76c-d468-4bbb-a2ed-24324eac9428",
    "deepnote_to_be_reexecuted": false,
    "source_hash": "61620f54",
    "execution_start": 1620564270873,
    "execution_millis": 3,
    "deepnote_cell_type": "code"
   },
   "source": "x_wfe = full_df[num_vars_wfe + cat_vars]\ny_wfe = full_df.target",
   "execution_count": 52,
   "outputs": []
  },
  {
   "cell_type": "code",
   "metadata": {
    "tags": [],
    "cell_id": "00041-2c1576a6-c914-475b-b161-5422e351c50c",
    "deepnote_to_be_reexecuted": false,
    "source_hash": "d09ec018",
    "execution_start": 1620564267441,
    "execution_millis": 10,
    "deepnote_cell_type": "code"
   },
   "source": "print(x_wfe.shape)\nprint(y_wfe.shape)",
   "execution_count": 51,
   "outputs": [
    {
     "name": "stdout",
     "text": "(379, 14)\n(379,)\n",
     "output_type": "stream"
    }
   ]
  },
  {
   "cell_type": "code",
   "metadata": {
    "tags": [],
    "cell_id": "00041-6ff0159b-4f90-40f5-8dfe-3caf3985c377",
    "deepnote_to_be_reexecuted": false,
    "source_hash": "2dd03e95",
    "execution_start": 1620564264551,
    "execution_millis": 11,
    "deepnote_cell_type": "code"
   },
   "source": "x_train, x_val, y_train, y_val = model_selection.train_test_split(x_wfe,y_wfe,test_size=0.2,stratify=y_wfe,random_state=0)\n\nprint(x_train.shape)\nprint(x_val.shape)",
   "execution_count": 50,
   "outputs": [
    {
     "name": "stdout",
     "text": "(303, 14)\n(76, 14)\n",
     "output_type": "stream"
    }
   ]
  },
  {
   "cell_type": "code",
   "metadata": {
    "tags": [],
    "cell_id": "00018-350dd847-7ba8-49ca-a4e1-7575649e3064",
    "deepnote_to_be_reexecuted": false,
    "source_hash": "253e25b2",
    "execution_start": 1620564193619,
    "execution_millis": 3777,
    "deepnote_cell_type": "code"
   },
   "source": "results = pd.DataFrame({'Model': [], 'Accuracy': [], 'Bal Acc.': [], 'Time': []})\n\nprint(x_train.columns )\nprint(type(y_train))\nfor model_name, model in models_wfe.items():\n\n    print(model_name)\n    start_time = time.time()\n    model.fit(x_train, y_train)\n    total_time = time.time() - start_time\n    \n    pred = model.predict(x_val)\n    \n    results = results.append({\"Model\":    model_name,\n                              \"Accuracy\": metrics.accuracy_score(y_val, pred)*100,\n                              \"Bal Acc.\": metrics.balanced_accuracy_score(y_val, pred)*100,\n                              \"Time\":     total_time},\n                              ignore_index=True)\n    \n    results_ord = results.sort_values(by=['Accuracy'], ascending=False, ignore_index=True)\n    results_ord.index += 1 \n    \n    clear_output(wait=True)\n    display(results_ord.style.bar(subset=['Accuracy', 'Bal Acc.'], vmin=0, vmax=100, color='#5fba7d'))",
   "execution_count": 38,
   "outputs": [
    {
     "output_type": "clearOutput"
    },
    {
     "data": {
      "text/plain": "<pandas.io.formats.style.Styler at 0x7f84b8ad8ad0>",
      "text/html": "<style  type=\"text/css\" >\n#T_a28b8_row0_col1,#T_a28b8_row1_col1{\n            width:  10em;\n             height:  80%;\n            background:  linear-gradient(90deg,#5fba7d 88.2%, transparent 88.2%);\n        }#T_a28b8_row0_col2,#T_a28b8_row1_col2{\n            width:  10em;\n             height:  80%;\n            background:  linear-gradient(90deg,#5fba7d 87.6%, transparent 87.6%);\n        }#T_a28b8_row2_col1{\n            width:  10em;\n             height:  80%;\n            background:  linear-gradient(90deg,#5fba7d 82.9%, transparent 82.9%);\n        }#T_a28b8_row2_col2{\n            width:  10em;\n             height:  80%;\n            background:  linear-gradient(90deg,#5fba7d 83.4%, transparent 83.4%);\n        }#T_a28b8_row3_col1,#T_a28b8_row4_col1,#T_a28b8_row5_col1{\n            width:  10em;\n             height:  80%;\n            background:  linear-gradient(90deg,#5fba7d 81.6%, transparent 81.6%);\n        }#T_a28b8_row3_col2,#T_a28b8_row5_col2{\n            width:  10em;\n             height:  80%;\n            background:  linear-gradient(90deg,#5fba7d 82.2%, transparent 82.2%);\n        }#T_a28b8_row4_col2{\n            width:  10em;\n             height:  80%;\n            background:  linear-gradient(90deg,#5fba7d 81.9%, transparent 81.9%);\n        }#T_a28b8_row6_col1,#T_a28b8_row7_col1,#T_a28b8_row8_col1{\n            width:  10em;\n             height:  80%;\n            background:  linear-gradient(90deg,#5fba7d 80.3%, transparent 80.3%);\n        }#T_a28b8_row6_col2,#T_a28b8_row7_col2{\n            width:  10em;\n             height:  80%;\n            background:  linear-gradient(90deg,#5fba7d 80.5%, transparent 80.5%);\n        }#T_a28b8_row8_col2{\n            width:  10em;\n             height:  80%;\n            background:  linear-gradient(90deg,#5fba7d 79.9%, transparent 79.9%);\n        }#T_a28b8_row9_col1,#T_a28b8_row10_col1,#T_a28b8_row11_col1{\n            width:  10em;\n             height:  80%;\n            background:  linear-gradient(90deg,#5fba7d 78.9%, transparent 78.9%);\n        }#T_a28b8_row9_col2{\n            width:  10em;\n             height:  80%;\n            background:  linear-gradient(90deg,#5fba7d 79.0%, transparent 79.0%);\n        }#T_a28b8_row10_col2{\n            width:  10em;\n             height:  80%;\n            background:  linear-gradient(90deg,#5fba7d 79.6%, transparent 79.6%);\n        }#T_a28b8_row11_col2{\n            width:  10em;\n             height:  80%;\n            background:  linear-gradient(90deg,#5fba7d 79.8%, transparent 79.8%);\n        }#T_a28b8_row12_col1{\n            width:  10em;\n             height:  80%;\n            background:  linear-gradient(90deg,#5fba7d 77.6%, transparent 77.6%);\n        }#T_a28b8_row12_col2{\n            width:  10em;\n             height:  80%;\n            background:  linear-gradient(90deg,#5fba7d 78.4%, transparent 78.4%);\n        }#T_a28b8_row13_col1,#T_a28b8_row14_col1,#T_a28b8_row15_col1,#T_a28b8_row15_col2{\n            width:  10em;\n             height:  80%;\n            background:  linear-gradient(90deg,#5fba7d 76.3%, transparent 76.3%);\n        }#T_a28b8_row13_col2{\n            width:  10em;\n             height:  80%;\n            background:  linear-gradient(90deg,#5fba7d 76.6%, transparent 76.6%);\n        }#T_a28b8_row14_col2{\n            width:  10em;\n             height:  80%;\n            background:  linear-gradient(90deg,#5fba7d 76.9%, transparent 76.9%);\n        }#T_a28b8_row16_col1{\n            width:  10em;\n             height:  80%;\n            background:  linear-gradient(90deg,#5fba7d 75.0%, transparent 75.0%);\n        }#T_a28b8_row16_col2{\n            width:  10em;\n             height:  80%;\n            background:  linear-gradient(90deg,#5fba7d 75.1%, transparent 75.1%);\n        }#T_a28b8_row17_col1{\n            width:  10em;\n             height:  80%;\n            background:  linear-gradient(90deg,#5fba7d 73.7%, transparent 73.7%);\n        }#T_a28b8_row17_col2{\n            width:  10em;\n             height:  80%;\n            background:  linear-gradient(90deg,#5fba7d 73.4%, transparent 73.4%);\n        }</style><table id=\"T_a28b8_\" ><thead>    <tr>        <th class=\"blank level0\" ></th>        <th class=\"col_heading level0 col0\" >Model</th>        <th class=\"col_heading level0 col1\" >Accuracy</th>        <th class=\"col_heading level0 col2\" >Bal Acc.</th>        <th class=\"col_heading level0 col3\" >Time</th>    </tr></thead><tbody>\n                <tr>\n                        <th id=\"T_a28b8_level0_row0\" class=\"row_heading level0 row0\" >1</th>\n                        <td id=\"T_a28b8_row0_col0\" class=\"data row0 col0\" >SVM_rbf</td>\n                        <td id=\"T_a28b8_row0_col1\" class=\"data row0 col1\" >88.157895</td>\n                        <td id=\"T_a28b8_row0_col2\" class=\"data row0 col2\" >87.605042</td>\n                        <td id=\"T_a28b8_row0_col3\" class=\"data row0 col3\" >0.049378</td>\n            </tr>\n            <tr>\n                        <th id=\"T_a28b8_level0_row1\" class=\"row_heading level0 row1\" >2</th>\n                        <td id=\"T_a28b8_row1_col0\" class=\"data row1 col0\" >NuSVC</td>\n                        <td id=\"T_a28b8_row1_col1\" class=\"data row1 col1\" >88.157895</td>\n                        <td id=\"T_a28b8_row1_col2\" class=\"data row1 col2\" >87.605042</td>\n                        <td id=\"T_a28b8_row1_col3\" class=\"data row1 col3\" >0.061426</td>\n            </tr>\n            <tr>\n                        <th id=\"T_a28b8_level0_row2\" class=\"row_heading level0 row2\" >3</th>\n                        <td id=\"T_a28b8_row2_col0\" class=\"data row2 col0\" >SVM_lin</td>\n                        <td id=\"T_a28b8_row2_col1\" class=\"data row2 col1\" >82.894737</td>\n                        <td id=\"T_a28b8_row2_col2\" class=\"data row2 col2\" >83.403361</td>\n                        <td id=\"T_a28b8_row2_col3\" class=\"data row2 col3\" >0.046585</td>\n            </tr>\n            <tr>\n                        <th id=\"T_a28b8_level0_row3\" class=\"row_heading level0 row3\" >4</th>\n                        <td id=\"T_a28b8_row3_col0\" class=\"data row3 col0\" >LogRegr</td>\n                        <td id=\"T_a28b8_row3_col1\" class=\"data row3 col1\" >81.578947</td>\n                        <td id=\"T_a28b8_row3_col2\" class=\"data row3 col2\" >82.212885</td>\n                        <td id=\"T_a28b8_row3_col3\" class=\"data row3 col3\" >0.032276</td>\n            </tr>\n            <tr>\n                        <th id=\"T_a28b8_level0_row4\" class=\"row_heading level0 row4\" >5</th>\n                        <td id=\"T_a28b8_row4_col0\" class=\"data row4 col0\" >GaussianNB</td>\n                        <td id=\"T_a28b8_row4_col1\" class=\"data row4 col1\" >81.578947</td>\n                        <td id=\"T_a28b8_row4_col2\" class=\"data row4 col2\" >81.932773</td>\n                        <td id=\"T_a28b8_row4_col3\" class=\"data row4 col3\" >0.022339</td>\n            </tr>\n            <tr>\n                        <th id=\"T_a28b8_level0_row5\" class=\"row_heading level0 row5\" >6</th>\n                        <td id=\"T_a28b8_row5_col0\" class=\"data row5 col0\" >Ridge</td>\n                        <td id=\"T_a28b8_row5_col1\" class=\"data row5 col1\" >81.578947</td>\n                        <td id=\"T_a28b8_row5_col2\" class=\"data row5 col2\" >82.212885</td>\n                        <td id=\"T_a28b8_row5_col3\" class=\"data row5 col3\" >0.020412</td>\n            </tr>\n            <tr>\n                        <th id=\"T_a28b8_level0_row6\" class=\"row_heading level0 row6\" >7</th>\n                        <td id=\"T_a28b8_row6_col0\" class=\"data row6 col0\" >Skl GBM</td>\n                        <td id=\"T_a28b8_row6_col1\" class=\"data row6 col1\" >80.263158</td>\n                        <td id=\"T_a28b8_row6_col2\" class=\"data row6 col2\" >80.462185</td>\n                        <td id=\"T_a28b8_row6_col3\" class=\"data row6 col3\" >0.148883</td>\n            </tr>\n            <tr>\n                        <th id=\"T_a28b8_level0_row7\" class=\"row_heading level0 row7\" >8</th>\n                        <td id=\"T_a28b8_row7_col0\" class=\"data row7 col0\" >Skl HistGBM</td>\n                        <td id=\"T_a28b8_row7_col1\" class=\"data row7 col1\" >80.263158</td>\n                        <td id=\"T_a28b8_row7_col2\" class=\"data row7 col2\" >80.462185</td>\n                        <td id=\"T_a28b8_row7_col3\" class=\"data row7 col3\" >0.141824</td>\n            </tr>\n            <tr>\n                        <th id=\"T_a28b8_level0_row8\" class=\"row_heading level0 row8\" >9</th>\n                        <td id=\"T_a28b8_row8_col0\" class=\"data row8 col0\" >KNN5</td>\n                        <td id=\"T_a28b8_row8_col1\" class=\"data row8 col1\" >80.263158</td>\n                        <td id=\"T_a28b8_row8_col2\" class=\"data row8 col2\" >79.901961</td>\n                        <td id=\"T_a28b8_row8_col3\" class=\"data row8 col3\" >0.019320</td>\n            </tr>\n            <tr>\n                        <th id=\"T_a28b8_level0_row9\" class=\"row_heading level0 row9\" >10</th>\n                        <td id=\"T_a28b8_row9_col0\" class=\"data row9 col0\" >LightGBM</td>\n                        <td id=\"T_a28b8_row9_col1\" class=\"data row9 col1\" >78.947368</td>\n                        <td id=\"T_a28b8_row9_col2\" class=\"data row9 col2\" >78.991597</td>\n                        <td id=\"T_a28b8_row9_col3\" class=\"data row9 col3\" >0.091770</td>\n            </tr>\n            <tr>\n                        <th id=\"T_a28b8_level0_row10\" class=\"row_heading level0 row10\" >11</th>\n                        <td id=\"T_a28b8_row10_col0\" class=\"data row10 col0\" >CatBoost</td>\n                        <td id=\"T_a28b8_row10_col1\" class=\"data row10 col1\" >78.947368</td>\n                        <td id=\"T_a28b8_row10_col2\" class=\"data row10 col2\" >79.551821</td>\n                        <td id=\"T_a28b8_row10_col3\" class=\"data row10 col3\" >1.663558</td>\n            </tr>\n            <tr>\n                        <th id=\"T_a28b8_level0_row11\" class=\"row_heading level0 row11\" >12</th>\n                        <td id=\"T_a28b8_row11_col0\" class=\"data row11 col0\" >LinearSVC</td>\n                        <td id=\"T_a28b8_row11_col1\" class=\"data row11 col1\" >78.947368</td>\n                        <td id=\"T_a28b8_row11_col2\" class=\"data row11 col2\" >79.831933</td>\n                        <td id=\"T_a28b8_row11_col3\" class=\"data row11 col3\" >0.033442</td>\n            </tr>\n            <tr>\n                        <th id=\"T_a28b8_level0_row12\" class=\"row_heading level0 row12\" >13</th>\n                        <td id=\"T_a28b8_row12_col0\" class=\"data row12 col0\" >Random Forest</td>\n                        <td id=\"T_a28b8_row12_col1\" class=\"data row12 col1\" >77.631579</td>\n                        <td id=\"T_a28b8_row12_col2\" class=\"data row12 col2\" >78.361345</td>\n                        <td id=\"T_a28b8_row12_col3\" class=\"data row12 col3\" >0.257707</td>\n            </tr>\n            <tr>\n                        <th id=\"T_a28b8_level0_row13\" class=\"row_heading level0 row13\" >14</th>\n                        <td id=\"T_a28b8_row13_col0\" class=\"data row13 col0\" >AdaBoost</td>\n                        <td id=\"T_a28b8_row13_col1\" class=\"data row13 col1\" >76.315789</td>\n                        <td id=\"T_a28b8_row13_col2\" class=\"data row13 col2\" >76.610644</td>\n                        <td id=\"T_a28b8_row13_col3\" class=\"data row13 col3\" >0.126730</td>\n            </tr>\n            <tr>\n                        <th id=\"T_a28b8_level0_row14\" class=\"row_heading level0 row14\" >15</th>\n                        <td id=\"T_a28b8_row14_col0\" class=\"data row14 col0\" >Extra Trees</td>\n                        <td id=\"T_a28b8_row14_col1\" class=\"data row14 col1\" >76.315789</td>\n                        <td id=\"T_a28b8_row14_col2\" class=\"data row14 col2\" >76.890756</td>\n                        <td id=\"T_a28b8_row14_col3\" class=\"data row14 col3\" >0.194826</td>\n            </tr>\n            <tr>\n                        <th id=\"T_a28b8_level0_row15\" class=\"row_heading level0 row15\" >16</th>\n                        <td id=\"T_a28b8_row15_col0\" class=\"data row15 col0\" >KNN3</td>\n                        <td id=\"T_a28b8_row15_col1\" class=\"data row15 col1\" >76.315789</td>\n                        <td id=\"T_a28b8_row15_col2\" class=\"data row15 col2\" >76.330532</td>\n                        <td id=\"T_a28b8_row15_col3\" class=\"data row15 col3\" >0.016760</td>\n            </tr>\n            <tr>\n                        <th id=\"T_a28b8_level0_row16\" class=\"row_heading level0 row16\" >17</th>\n                        <td id=\"T_a28b8_row16_col0\" class=\"data row16 col0\" >XGBoost</td>\n                        <td id=\"T_a28b8_row16_col1\" class=\"data row16 col1\" >75.000000</td>\n                        <td id=\"T_a28b8_row16_col2\" class=\"data row16 col2\" >75.140056</td>\n                        <td id=\"T_a28b8_row16_col3\" class=\"data row16 col3\" >0.155120</td>\n            </tr>\n            <tr>\n                        <th id=\"T_a28b8_level0_row17\" class=\"row_heading level0 row17\" >18</th>\n                        <td id=\"T_a28b8_row17_col0\" class=\"data row17 col0\" >Decision Tree</td>\n                        <td id=\"T_a28b8_row17_col1\" class=\"data row17 col1\" >73.684211</td>\n                        <td id=\"T_a28b8_row17_col2\" class=\"data row17 col2\" >73.389356</td>\n                        <td id=\"T_a28b8_row17_col3\" class=\"data row17 col3\" >0.027272</td>\n            </tr>\n    </tbody></table>"
     },
     "metadata": {},
     "output_type": "display_data"
    }
   ]
  },
  {
   "cell_type": "code",
   "metadata": {
    "tags": [],
    "cell_id": "00023-55a29a27-9434-4029-9841-14153c6bb986",
    "deepnote_to_be_reexecuted": false,
    "source_hash": "b82e8270",
    "execution_start": 1620564203815,
    "execution_millis": 16,
    "deepnote_cell_type": "code"
   },
   "source": "print('<3')",
   "execution_count": 39,
   "outputs": [
    {
     "name": "stdout",
     "text": "<3\n",
     "output_type": "stream"
    }
   ]
  },
  {
   "cell_type": "code",
   "metadata": {
    "tags": [],
    "cell_id": "00041-d4081e09-6ebc-412f-8a72-09658f6bdb3e",
    "deepnote_to_be_reexecuted": false,
    "source_hash": "f957e39e",
    "execution_start": 1620564207281,
    "execution_millis": 9,
    "deepnote_cell_type": "code"
   },
   "source": "x_test = pd.read_csv(\"test.csv\")\nx_test = x_test.drop(['Unnamed: 0','target'],axis= 1)",
   "execution_count": 40,
   "outputs": []
  },
  {
   "cell_type": "code",
   "metadata": {
    "tags": [],
    "cell_id": "00047-3c508573-51bd-434d-b2ed-71ac5feb5f3c",
    "deepnote_to_be_reexecuted": false,
    "source_hash": "4ea9727a",
    "execution_start": 1620564210252,
    "execution_millis": 122,
    "deepnote_cell_type": "code"
   },
   "source": "x_test",
   "execution_count": 41,
   "outputs": [
    {
     "output_type": "execute_result",
     "execution_count": 41,
     "data": {
      "application/vnd.deepnote.dataframe.v2+json": {
       "row_count": 50,
       "column_count": 14,
       "columns": [
        {
         "name": "age",
         "dtype": "int64",
         "stats": {
          "unique_count": 28,
          "nan_count": 0,
          "min": "41",
          "max": "75",
          "histogram": [
           {
            "bin_start": 41,
            "bin_end": 44.4,
            "count": 6
           },
           {
            "bin_start": 44.4,
            "bin_end": 47.8,
            "count": 2
           },
           {
            "bin_start": 47.8,
            "bin_end": 51.2,
            "count": 6
           },
           {
            "bin_start": 51.2,
            "bin_end": 54.6,
            "count": 5
           },
           {
            "bin_start": 54.6,
            "bin_end": 58,
            "count": 4
           },
           {
            "bin_start": 58,
            "bin_end": 61.4,
            "count": 9
           },
           {
            "bin_start": 61.4,
            "bin_end": 64.8,
            "count": 7
           },
           {
            "bin_start": 64.8,
            "bin_end": 68.2,
            "count": 4
           },
           {
            "bin_start": 68.2,
            "bin_end": 71.6,
            "count": 5
           },
           {
            "bin_start": 71.6,
            "bin_end": 75,
            "count": 2
           }
          ]
         }
        },
        {
         "name": "sex",
         "dtype": "int64",
         "stats": {
          "unique_count": 2,
          "nan_count": 0,
          "min": "0",
          "max": "1",
          "histogram": [
           {
            "bin_start": 0,
            "bin_end": 0.1,
            "count": 10
           },
           {
            "bin_start": 0.1,
            "bin_end": 0.2,
            "count": 0
           },
           {
            "bin_start": 0.2,
            "bin_end": 0.30000000000000004,
            "count": 0
           },
           {
            "bin_start": 0.30000000000000004,
            "bin_end": 0.4,
            "count": 0
           },
           {
            "bin_start": 0.4,
            "bin_end": 0.5,
            "count": 0
           },
           {
            "bin_start": 0.5,
            "bin_end": 0.6000000000000001,
            "count": 0
           },
           {
            "bin_start": 0.6000000000000001,
            "bin_end": 0.7000000000000001,
            "count": 0
           },
           {
            "bin_start": 0.7000000000000001,
            "bin_end": 0.8,
            "count": 0
           },
           {
            "bin_start": 0.8,
            "bin_end": 0.9,
            "count": 0
           },
           {
            "bin_start": 0.9,
            "bin_end": 1,
            "count": 40
           }
          ]
         }
        },
        {
         "name": "cp",
         "dtype": "int64",
         "stats": {
          "unique_count": 6,
          "nan_count": 0,
          "min": "0",
          "max": "5",
          "histogram": [
           {
            "bin_start": 0,
            "bin_end": 0.5,
            "count": 12
           },
           {
            "bin_start": 0.5,
            "bin_end": 1,
            "count": 0
           },
           {
            "bin_start": 1,
            "bin_end": 1.5,
            "count": 9
           },
           {
            "bin_start": 1.5,
            "bin_end": 2,
            "count": 0
           },
           {
            "bin_start": 2,
            "bin_end": 2.5,
            "count": 15
           },
           {
            "bin_start": 2.5,
            "bin_end": 3,
            "count": 0
           },
           {
            "bin_start": 3,
            "bin_end": 3.5,
            "count": 8
           },
           {
            "bin_start": 3.5,
            "bin_end": 4,
            "count": 0
           },
           {
            "bin_start": 4,
            "bin_end": 4.5,
            "count": 5
           },
           {
            "bin_start": 4.5,
            "bin_end": 5,
            "count": 1
           }
          ]
         }
        },
        {
         "name": "trestbps",
         "dtype": "int64",
         "stats": {
          "unique_count": 37,
          "nan_count": 0,
          "min": "105",
          "max": "210",
          "histogram": [
           {
            "bin_start": 105,
            "bin_end": 115.5,
            "count": 4
           },
           {
            "bin_start": 115.5,
            "bin_end": 126,
            "count": 8
           },
           {
            "bin_start": 126,
            "bin_end": 136.5,
            "count": 11
           },
           {
            "bin_start": 136.5,
            "bin_end": 147,
            "count": 14
           },
           {
            "bin_start": 147,
            "bin_end": 157.5,
            "count": 5
           },
           {
            "bin_start": 157.5,
            "bin_end": 168,
            "count": 3
           },
           {
            "bin_start": 168,
            "bin_end": 178.5,
            "count": 2
           },
           {
            "bin_start": 178.5,
            "bin_end": 189,
            "count": 2
           },
           {
            "bin_start": 189,
            "bin_end": 199.5,
            "count": 0
           },
           {
            "bin_start": 199.5,
            "bin_end": 210,
            "count": 1
           }
          ]
         }
        },
        {
         "name": "chol",
         "dtype": "int64",
         "stats": {
          "unique_count": 40,
          "nan_count": 0,
          "min": "174",
          "max": "421",
          "histogram": [
           {
            "bin_start": 174,
            "bin_end": 198.7,
            "count": 2
           },
           {
            "bin_start": 198.7,
            "bin_end": 223.4,
            "count": 3
           },
           {
            "bin_start": 223.4,
            "bin_end": 248.1,
            "count": 9
           },
           {
            "bin_start": 248.1,
            "bin_end": 272.8,
            "count": 11
           },
           {
            "bin_start": 272.8,
            "bin_end": 297.5,
            "count": 12
           },
           {
            "bin_start": 297.5,
            "bin_end": 322.2,
            "count": 6
           },
           {
            "bin_start": 322.2,
            "bin_end": 346.9,
            "count": 6
           },
           {
            "bin_start": 346.9,
            "bin_end": 371.6,
            "count": 0
           },
           {
            "bin_start": 371.6,
            "bin_end": 396.29999999999995,
            "count": 0
           },
           {
            "bin_start": 396.29999999999995,
            "bin_end": 421,
            "count": 1
           }
          ]
         }
        },
        {
         "name": "fbs",
         "dtype": "int64",
         "stats": {
          "unique_count": 2,
          "nan_count": 0,
          "min": "0",
          "max": "1",
          "histogram": [
           {
            "bin_start": 0,
            "bin_end": 0.1,
            "count": 42
           },
           {
            "bin_start": 0.1,
            "bin_end": 0.2,
            "count": 0
           },
           {
            "bin_start": 0.2,
            "bin_end": 0.30000000000000004,
            "count": 0
           },
           {
            "bin_start": 0.30000000000000004,
            "bin_end": 0.4,
            "count": 0
           },
           {
            "bin_start": 0.4,
            "bin_end": 0.5,
            "count": 0
           },
           {
            "bin_start": 0.5,
            "bin_end": 0.6000000000000001,
            "count": 0
           },
           {
            "bin_start": 0.6000000000000001,
            "bin_end": 0.7000000000000001,
            "count": 0
           },
           {
            "bin_start": 0.7000000000000001,
            "bin_end": 0.8,
            "count": 0
           },
           {
            "bin_start": 0.8,
            "bin_end": 0.9,
            "count": 0
           },
           {
            "bin_start": 0.9,
            "bin_end": 1,
            "count": 8
           }
          ]
         }
        },
        {
         "name": "restecg",
         "dtype": "int64",
         "stats": {
          "unique_count": 3,
          "nan_count": 0,
          "min": "0",
          "max": "2",
          "histogram": [
           {
            "bin_start": 0,
            "bin_end": 0.2,
            "count": 13
           },
           {
            "bin_start": 0.2,
            "bin_end": 0.4,
            "count": 0
           },
           {
            "bin_start": 0.4,
            "bin_end": 0.6000000000000001,
            "count": 0
           },
           {
            "bin_start": 0.6000000000000001,
            "bin_end": 0.8,
            "count": 0
           },
           {
            "bin_start": 0.8,
            "bin_end": 1,
            "count": 0
           },
           {
            "bin_start": 1,
            "bin_end": 1.2000000000000002,
            "count": 25
           },
           {
            "bin_start": 1.2000000000000002,
            "bin_end": 1.4000000000000001,
            "count": 0
           },
           {
            "bin_start": 1.4000000000000001,
            "bin_end": 1.6,
            "count": 0
           },
           {
            "bin_start": 1.6,
            "bin_end": 1.8,
            "count": 0
           },
           {
            "bin_start": 1.8,
            "bin_end": 2,
            "count": 12
           }
          ]
         }
        },
        {
         "name": "thalach",
         "dtype": "int64",
         "stats": {
          "unique_count": 36,
          "nan_count": 0,
          "min": "99",
          "max": "214",
          "histogram": [
           {
            "bin_start": 99,
            "bin_end": 110.5,
            "count": 2
           },
           {
            "bin_start": 110.5,
            "bin_end": 122,
            "count": 2
           },
           {
            "bin_start": 122,
            "bin_end": 133.5,
            "count": 3
           },
           {
            "bin_start": 133.5,
            "bin_end": 145,
            "count": 4
           },
           {
            "bin_start": 145,
            "bin_end": 156.5,
            "count": 8
           },
           {
            "bin_start": 156.5,
            "bin_end": 168,
            "count": 12
           },
           {
            "bin_start": 168,
            "bin_end": 179.5,
            "count": 12
           },
           {
            "bin_start": 179.5,
            "bin_end": 191,
            "count": 4
           },
           {
            "bin_start": 191,
            "bin_end": 202.5,
            "count": 2
           },
           {
            "bin_start": 202.5,
            "bin_end": 214,
            "count": 1
           }
          ]
         }
        },
        {
         "name": "exang",
         "dtype": "int64",
         "stats": {
          "unique_count": 2,
          "nan_count": 0,
          "min": "0",
          "max": "1",
          "histogram": [
           {
            "bin_start": 0,
            "bin_end": 0.1,
            "count": 35
           },
           {
            "bin_start": 0.1,
            "bin_end": 0.2,
            "count": 0
           },
           {
            "bin_start": 0.2,
            "bin_end": 0.30000000000000004,
            "count": 0
           },
           {
            "bin_start": 0.30000000000000004,
            "bin_end": 0.4,
            "count": 0
           },
           {
            "bin_start": 0.4,
            "bin_end": 0.5,
            "count": 0
           },
           {
            "bin_start": 0.5,
            "bin_end": 0.6000000000000001,
            "count": 0
           },
           {
            "bin_start": 0.6000000000000001,
            "bin_end": 0.7000000000000001,
            "count": 0
           },
           {
            "bin_start": 0.7000000000000001,
            "bin_end": 0.8,
            "count": 0
           },
           {
            "bin_start": 0.8,
            "bin_end": 0.9,
            "count": 0
           },
           {
            "bin_start": 0.9,
            "bin_end": 1,
            "count": 15
           }
          ]
         }
        },
        {
         "name": "oldpeak",
         "dtype": "float64",
         "stats": {
          "unique_count": 23,
          "nan_count": 0,
          "min": "1.0",
          "max": "5.0",
          "histogram": [
           {
            "bin_start": 1,
            "bin_end": 1.4,
            "count": 18
           },
           {
            "bin_start": 1.4,
            "bin_end": 1.8,
            "count": 6
           },
           {
            "bin_start": 1.8,
            "bin_end": 2.2,
            "count": 5
           },
           {
            "bin_start": 2.2,
            "bin_end": 2.6,
            "count": 7
           },
           {
            "bin_start": 2.6,
            "bin_end": 3,
            "count": 4
           },
           {
            "bin_start": 3,
            "bin_end": 3.4000000000000004,
            "count": 3
           },
           {
            "bin_start": 3.4000000000000004,
            "bin_end": 3.8000000000000003,
            "count": 3
           },
           {
            "bin_start": 3.8000000000000003,
            "bin_end": 4.2,
            "count": 2
           },
           {
            "bin_start": 4.2,
            "bin_end": 4.6,
            "count": 0
           },
           {
            "bin_start": 4.6,
            "bin_end": 5,
            "count": 2
           }
          ]
         }
        },
        {
         "name": "slope",
         "dtype": "int64",
         "stats": {
          "unique_count": 3,
          "nan_count": 0,
          "min": "1",
          "max": "3",
          "histogram": [
           {
            "bin_start": 1,
            "bin_end": 1.2,
            "count": 4
           },
           {
            "bin_start": 1.2,
            "bin_end": 1.4,
            "count": 0
           },
           {
            "bin_start": 1.4,
            "bin_end": 1.6,
            "count": 0
           },
           {
            "bin_start": 1.6,
            "bin_end": 1.8,
            "count": 0
           },
           {
            "bin_start": 1.8,
            "bin_end": 2,
            "count": 0
           },
           {
            "bin_start": 2,
            "bin_end": 2.2,
            "count": 26
           },
           {
            "bin_start": 2.2,
            "bin_end": 2.4000000000000004,
            "count": 0
           },
           {
            "bin_start": 2.4000000000000004,
            "bin_end": 2.6,
            "count": 0
           },
           {
            "bin_start": 2.6,
            "bin_end": 2.8,
            "count": 0
           },
           {
            "bin_start": 2.8,
            "bin_end": 3,
            "count": 20
           }
          ]
         }
        },
        {
         "name": "ca",
         "dtype": "int64",
         "stats": {
          "unique_count": 7,
          "nan_count": 0,
          "min": "0",
          "max": "6",
          "histogram": [
           {
            "bin_start": 0,
            "bin_end": 0.6,
            "count": 5
           },
           {
            "bin_start": 0.6,
            "bin_end": 1.2,
            "count": 6
           },
           {
            "bin_start": 1.2,
            "bin_end": 1.7999999999999998,
            "count": 0
           },
           {
            "bin_start": 1.7999999999999998,
            "bin_end": 2.4,
            "count": 13
           },
           {
            "bin_start": 2.4,
            "bin_end": 3,
            "count": 0
           },
           {
            "bin_start": 3,
            "bin_end": 3.5999999999999996,
            "count": 12
           },
           {
            "bin_start": 3.5999999999999996,
            "bin_end": 4.2,
            "count": 9
           },
           {
            "bin_start": 4.2,
            "bin_end": 4.8,
            "count": 0
           },
           {
            "bin_start": 4.8,
            "bin_end": 5.3999999999999995,
            "count": 4
           },
           {
            "bin_start": 5.3999999999999995,
            "bin_end": 6,
            "count": 1
           }
          ]
         }
        },
        {
         "name": "thal",
         "dtype": "int64",
         "stats": {
          "unique_count": 4,
          "nan_count": 0,
          "min": "2",
          "max": "5",
          "histogram": [
           {
            "bin_start": 2,
            "bin_end": 2.3,
            "count": 7
           },
           {
            "bin_start": 2.3,
            "bin_end": 2.6,
            "count": 0
           },
           {
            "bin_start": 2.6,
            "bin_end": 2.9,
            "count": 0
           },
           {
            "bin_start": 2.9,
            "bin_end": 3.2,
            "count": 20
           },
           {
            "bin_start": 3.2,
            "bin_end": 3.5,
            "count": 0
           },
           {
            "bin_start": 3.5,
            "bin_end": 3.8,
            "count": 0
           },
           {
            "bin_start": 3.8,
            "bin_end": 4.1,
            "count": 15
           },
           {
            "bin_start": 4.1,
            "bin_end": 4.4,
            "count": 0
           },
           {
            "bin_start": 4.4,
            "bin_end": 4.699999999999999,
            "count": 0
           },
           {
            "bin_start": 4.699999999999999,
            "bin_end": 5,
            "count": 8
           }
          ]
         }
        },
        {
         "name": "chol_fbs",
         "dtype": "int64",
         "stats": {
          "unique_count": 40,
          "nan_count": 0,
          "min": "1",
          "max": "414",
          "histogram": [
           {
            "bin_start": 1,
            "bin_end": 42.3,
            "count": 16
           },
           {
            "bin_start": 42.3,
            "bin_end": 83.6,
            "count": 23
           },
           {
            "bin_start": 83.6,
            "bin_end": 124.89999999999999,
            "count": 3
           },
           {
            "bin_start": 124.89999999999999,
            "bin_end": 166.2,
            "count": 0
           },
           {
            "bin_start": 166.2,
            "bin_end": 207.5,
            "count": 1
           },
           {
            "bin_start": 207.5,
            "bin_end": 248.79999999999998,
            "count": 1
           },
           {
            "bin_start": 248.79999999999998,
            "bin_end": 290.09999999999997,
            "count": 4
           },
           {
            "bin_start": 290.09999999999997,
            "bin_end": 331.4,
            "count": 1
           },
           {
            "bin_start": 331.4,
            "bin_end": 372.7,
            "count": 0
           },
           {
            "bin_start": 372.7,
            "bin_end": 414,
            "count": 1
           }
          ]
         }
        },
        {
         "name": "_deepnote_index_column",
         "dtype": "int64"
        }
       ],
       "rows_top": [
        {
         "age": 71,
         "sex": 1,
         "cp": 0,
         "trestbps": 154,
         "chol": 213,
         "fbs": 0,
         "restecg": 2,
         "thalach": 146,
         "exang": 1,
         "oldpeak": 3.7,
         "slope": 1,
         "ca": 3,
         "thal": 3,
         "chol_fbs": 44,
         "_deepnote_index_column": 0
        },
        {
         "age": 71,
         "sex": 1,
         "cp": 5,
         "trestbps": 176,
         "chol": 276,
         "fbs": 0,
         "restecg": 1,
         "thalach": 167,
         "exang": 0,
         "oldpeak": 1.7,
         "slope": 2,
         "ca": 1,
         "thal": 3,
         "chol_fbs": 58,
         "_deepnote_index_column": 1
        },
        {
         "age": 63,
         "sex": 1,
         "cp": 4,
         "trestbps": 187,
         "chol": 336,
         "fbs": 0,
         "restecg": 1,
         "thalach": 165,
         "exang": 0,
         "oldpeak": 1.3,
         "slope": 2,
         "ca": 3,
         "thal": 5,
         "chol_fbs": 36,
         "_deepnote_index_column": 2
        },
        {
         "age": 67,
         "sex": 1,
         "cp": 0,
         "trestbps": 129,
         "chol": 273,
         "fbs": 0,
         "restecg": 1,
         "thalach": 147,
         "exang": 1,
         "oldpeak": 3.8,
         "slope": 2,
         "ca": 4,
         "thal": 3,
         "chol_fbs": 78,
         "_deepnote_index_column": 3
        },
        {
         "age": 64,
         "sex": 1,
         "cp": 3,
         "trestbps": 142,
         "chol": 272,
         "fbs": 0,
         "restecg": 2,
         "thalach": 166,
         "exang": 0,
         "oldpeak": 2.9,
         "slope": 2,
         "ca": 5,
         "thal": 3,
         "chol_fbs": 56,
         "_deepnote_index_column": 4
        },
        {
         "age": 55,
         "sex": 1,
         "cp": 1,
         "trestbps": 135,
         "chol": 278,
         "fbs": 0,
         "restecg": 1,
         "thalach": 171,
         "exang": 0,
         "oldpeak": 1.6,
         "slope": 2,
         "ca": 0,
         "thal": 5,
         "chol_fbs": 33,
         "_deepnote_index_column": 5
        },
        {
         "age": 42,
         "sex": 1,
         "cp": 2,
         "trestbps": 123,
         "chol": 186,
         "fbs": 0,
         "restecg": 0,
         "thalach": 115,
         "exang": 1,
         "oldpeak": 3.1,
         "slope": 2,
         "ca": 2,
         "thal": 4,
         "chol_fbs": 45,
         "_deepnote_index_column": 6
        },
        {
         "age": 70,
         "sex": 1,
         "cp": 0,
         "trestbps": 144,
         "chol": 296,
         "fbs": 0,
         "restecg": 0,
         "thalach": 166,
         "exang": 0,
         "oldpeak": 2.5,
         "slope": 2,
         "ca": 4,
         "thal": 3,
         "chol_fbs": 56,
         "_deepnote_index_column": 7
        },
        {
         "age": 64,
         "sex": 0,
         "cp": 0,
         "trestbps": 210,
         "chol": 329,
         "fbs": 1,
         "restecg": 0,
         "thalach": 140,
         "exang": 1,
         "oldpeak": 5,
         "slope": 1,
         "ca": 3,
         "thal": 3,
         "chol_fbs": 316,
         "_deepnote_index_column": 8
        },
        {
         "age": 68,
         "sex": 1,
         "cp": 1,
         "trestbps": 141,
         "chol": 332,
         "fbs": 1,
         "restecg": 1,
         "thalach": 152,
         "exang": 1,
         "oldpeak": 2.9,
         "slope": 3,
         "ca": 6,
         "thal": 4,
         "chol_fbs": 414,
         "_deepnote_index_column": 9
        },
        {
         "age": 60,
         "sex": 1,
         "cp": 3,
         "trestbps": 160,
         "chol": 174,
         "fbs": 1,
         "restecg": 1,
         "thalach": 187,
         "exang": 0,
         "oldpeak": 1.3,
         "slope": 3,
         "ca": 3,
         "thal": 5,
         "chol_fbs": 201,
         "_deepnote_index_column": 10
        },
        {
         "age": 54,
         "sex": 0,
         "cp": 2,
         "trestbps": 138,
         "chol": 293,
         "fbs": 0,
         "restecg": 1,
         "thalach": 178,
         "exang": 0,
         "oldpeak": 1.1,
         "slope": 3,
         "ca": 1,
         "thal": 2,
         "chol_fbs": 10,
         "_deepnote_index_column": 11
        },
        {
         "age": 72,
         "sex": 1,
         "cp": 2,
         "trestbps": 141,
         "chol": 264,
         "fbs": 0,
         "restecg": 0,
         "thalach": 141,
         "exang": 0,
         "oldpeak": 3.8,
         "slope": 2,
         "ca": 1,
         "thal": 3,
         "chol_fbs": 33,
         "_deepnote_index_column": 12
        },
        {
         "age": 53,
         "sex": 1,
         "cp": 1,
         "trestbps": 137,
         "chol": 293,
         "fbs": 0,
         "restecg": 1,
         "thalach": 187,
         "exang": 0,
         "oldpeak": 1.7,
         "slope": 3,
         "ca": 3,
         "thal": 3,
         "chol_fbs": 52,
         "_deepnote_index_column": 13
        },
        {
         "age": 58,
         "sex": 0,
         "cp": 4,
         "trestbps": 124,
         "chol": 241,
         "fbs": 0,
         "restecg": 2,
         "thalach": 180,
         "exang": 0,
         "oldpeak": 2.6,
         "slope": 2,
         "ca": 2,
         "thal": 4,
         "chol_fbs": 86,
         "_deepnote_index_column": 14
        },
        {
         "age": 53,
         "sex": 1,
         "cp": 3,
         "trestbps": 105,
         "chol": 246,
         "fbs": 0,
         "restecg": 2,
         "thalach": 147,
         "exang": 1,
         "oldpeak": 2.2,
         "slope": 2,
         "ca": 2,
         "thal": 4,
         "chol_fbs": 24,
         "_deepnote_index_column": 15
        },
        {
         "age": 60,
         "sex": 1,
         "cp": 0,
         "trestbps": 110,
         "chol": 273,
         "fbs": 1,
         "restecg": 2,
         "thalach": 150,
         "exang": 0,
         "oldpeak": 1.1,
         "slope": 3,
         "ca": 4,
         "thal": 3,
         "chol_fbs": 275,
         "_deepnote_index_column": 16
        },
        {
         "age": 56,
         "sex": 1,
         "cp": 2,
         "trestbps": 127,
         "chol": 269,
         "fbs": 1,
         "restecg": 1,
         "thalach": 176,
         "exang": 0,
         "oldpeak": 1,
         "slope": 3,
         "ca": 5,
         "thal": 4,
         "chol_fbs": 280,
         "_deepnote_index_column": 17
        },
        {
         "age": 65,
         "sex": 1,
         "cp": 0,
         "trestbps": 121,
         "chol": 298,
         "fbs": 0,
         "restecg": 1,
         "thalach": 109,
         "exang": 1,
         "oldpeak": 2.8,
         "slope": 2,
         "ca": 2,
         "thal": 4,
         "chol_fbs": 19,
         "_deepnote_index_column": 18
        },
        {
         "age": 49,
         "sex": 1,
         "cp": 2,
         "trestbps": 124,
         "chol": 255,
         "fbs": 1,
         "restecg": 2,
         "thalach": 214,
         "exang": 0,
         "oldpeak": 1.9,
         "slope": 1,
         "ca": 3,
         "thal": 5,
         "chol_fbs": 281,
         "_deepnote_index_column": 19
        },
        {
         "age": 46,
         "sex": 1,
         "cp": 0,
         "trestbps": 144,
         "chol": 266,
         "fbs": 0,
         "restecg": 1,
         "thalach": 195,
         "exang": 0,
         "oldpeak": 1.1,
         "slope": 3,
         "ca": 3,
         "thal": 4,
         "chol_fbs": 72,
         "_deepnote_index_column": 20
        },
        {
         "age": 48,
         "sex": 1,
         "cp": 2,
         "trestbps": 128,
         "chol": 269,
         "fbs": 0,
         "restecg": 2,
         "thalach": 149,
         "exang": 0,
         "oldpeak": 2.3,
         "slope": 2,
         "ca": 2,
         "thal": 4,
         "chol_fbs": 34,
         "_deepnote_index_column": 21
        },
        {
         "age": 70,
         "sex": 1,
         "cp": 1,
         "trestbps": 125,
         "chol": 318,
         "fbs": 0,
         "restecg": 0,
         "thalach": 120,
         "exang": 0,
         "oldpeak": 2.5,
         "slope": 2,
         "ca": 2,
         "thal": 5,
         "chol_fbs": 39,
         "_deepnote_index_column": 22
        },
        {
         "age": 57,
         "sex": 1,
         "cp": 2,
         "trestbps": 123,
         "chol": 242,
         "fbs": 0,
         "restecg": 0,
         "thalach": 126,
         "exang": 1,
         "oldpeak": 1.1,
         "slope": 2,
         "ca": 2,
         "thal": 3,
         "chol_fbs": 83,
         "_deepnote_index_column": 23
        },
        {
         "age": 43,
         "sex": 1,
         "cp": 3,
         "trestbps": 111,
         "chol": 272,
         "fbs": 0,
         "restecg": 1,
         "thalach": 158,
         "exang": 0,
         "oldpeak": 1.1,
         "slope": 3,
         "ca": 2,
         "thal": 2,
         "chol_fbs": 87,
         "_deepnote_index_column": 24
        },
        {
         "age": 63,
         "sex": 0,
         "cp": 3,
         "trestbps": 141,
         "chol": 306,
         "fbs": 0,
         "restecg": 1,
         "thalach": 99,
         "exang": 0,
         "oldpeak": 2.2,
         "slope": 2,
         "ca": 2,
         "thal": 5,
         "chol_fbs": 61,
         "_deepnote_index_column": 25
        },
        {
         "age": 59,
         "sex": 1,
         "cp": 0,
         "trestbps": 133,
         "chol": 224,
         "fbs": 0,
         "restecg": 1,
         "thalach": 175,
         "exang": 0,
         "oldpeak": 2,
         "slope": 3,
         "ca": 4,
         "thal": 4,
         "chol_fbs": 8,
         "_deepnote_index_column": 26
        },
        {
         "age": 48,
         "sex": 1,
         "cp": 2,
         "trestbps": 123,
         "chol": 296,
         "fbs": 0,
         "restecg": 0,
         "thalach": 162,
         "exang": 0,
         "oldpeak": 2,
         "slope": 3,
         "ca": 0,
         "thal": 5,
         "chol_fbs": 65,
         "_deepnote_index_column": 27
        },
        {
         "age": 41,
         "sex": 0,
         "cp": 2,
         "trestbps": 150,
         "chol": 259,
         "fbs": 0,
         "restecg": 2,
         "thalach": 162,
         "exang": 0,
         "oldpeak": 1.1,
         "slope": 2,
         "ca": 0,
         "thal": 3,
         "chol_fbs": 79,
         "_deepnote_index_column": 28
        },
        {
         "age": 58,
         "sex": 1,
         "cp": 1,
         "trestbps": 137,
         "chol": 227,
         "fbs": 0,
         "restecg": 1,
         "thalach": 169,
         "exang": 0,
         "oldpeak": 1.9,
         "slope": 3,
         "ca": 2,
         "thal": 2,
         "chol_fbs": 86,
         "_deepnote_index_column": 29
        },
        {
         "age": 64,
         "sex": 1,
         "cp": 3,
         "trestbps": 141,
         "chol": 229,
         "fbs": 0,
         "restecg": 0,
         "thalach": 167,
         "exang": 0,
         "oldpeak": 4.1,
         "slope": 2,
         "ca": 3,
         "thal": 3,
         "chol_fbs": 58,
         "_deepnote_index_column": 30
        },
        {
         "age": 49,
         "sex": 1,
         "cp": 0,
         "trestbps": 146,
         "chol": 338,
         "fbs": 0,
         "restecg": 0,
         "thalach": 160,
         "exang": 1,
         "oldpeak": 1.1,
         "slope": 2,
         "ca": 5,
         "thal": 3,
         "chol_fbs": 12,
         "_deepnote_index_column": 31
        },
        {
         "age": 44,
         "sex": 0,
         "cp": 1,
         "trestbps": 143,
         "chol": 333,
         "fbs": 0,
         "restecg": 2,
         "thalach": 179,
         "exang": 0,
         "oldpeak": 1,
         "slope": 3,
         "ca": 3,
         "thal": 3,
         "chol_fbs": 51,
         "_deepnote_index_column": 32
        },
        {
         "age": 59,
         "sex": 1,
         "cp": 4,
         "trestbps": 180,
         "chol": 237,
         "fbs": 1,
         "restecg": 2,
         "thalach": 164,
         "exang": 0,
         "oldpeak": 1.5,
         "slope": 3,
         "ca": 2,
         "thal": 3,
         "chol_fbs": 230,
         "_deepnote_index_column": 33
        },
        {
         "age": 43,
         "sex": 1,
         "cp": 2,
         "trestbps": 133,
         "chol": 213,
         "fbs": 0,
         "restecg": 1,
         "thalach": 195,
         "exang": 0,
         "oldpeak": 1,
         "slope": 3,
         "ca": 3,
         "thal": 3,
         "chol_fbs": 28,
         "_deepnote_index_column": 34
        },
        {
         "age": 64,
         "sex": 0,
         "cp": 0,
         "trestbps": 178,
         "chol": 279,
         "fbs": 0,
         "restecg": 1,
         "thalach": 160,
         "exang": 1,
         "oldpeak": 1,
         "slope": 2,
         "ca": 0,
         "thal": 2,
         "chol_fbs": 28,
         "_deepnote_index_column": 35
        },
        {
         "age": 71,
         "sex": 1,
         "cp": 4,
         "trestbps": 161,
         "chol": 293,
         "fbs": 0,
         "restecg": 2,
         "thalach": 134,
         "exang": 1,
         "oldpeak": 4.1,
         "slope": 2,
         "ca": 4,
         "thal": 4,
         "chol_fbs": 75,
         "_deepnote_index_column": 36
        },
        {
         "age": 51,
         "sex": 1,
         "cp": 2,
         "trestbps": 143,
         "chol": 322,
         "fbs": 0,
         "restecg": 0,
         "thalach": 180,
         "exang": 0,
         "oldpeak": 1.2,
         "slope": 3,
         "ca": 0,
         "thal": 4,
         "chol_fbs": 44,
         "_deepnote_index_column": 37
        },
        {
         "age": 62,
         "sex": 1,
         "cp": 1,
         "trestbps": 132,
         "chol": 272,
         "fbs": 1,
         "restecg": 0,
         "thalach": 155,
         "exang": 1,
         "oldpeak": 2.3,
         "slope": 2,
         "ca": 4,
         "thal": 4,
         "chol_fbs": 254,
         "_deepnote_index_column": 38
        },
        {
         "age": 68,
         "sex": 0,
         "cp": 2,
         "trestbps": 153,
         "chol": 274,
         "fbs": 0,
         "restecg": 1,
         "thalach": 174,
         "exang": 0,
         "oldpeak": 4.7,
         "slope": 1,
         "ca": 4,
         "thal": 3,
         "chol_fbs": 71,
         "_deepnote_index_column": 39
        },
        {
         "age": 58,
         "sex": 1,
         "cp": 0,
         "trestbps": 146,
         "chol": 211,
         "fbs": 0,
         "restecg": 1,
         "thalach": 156,
         "exang": 0,
         "oldpeak": 1.5,
         "slope": 2,
         "ca": 3,
         "thal": 3,
         "chol_fbs": 76,
         "_deepnote_index_column": 40
        },
        {
         "age": 61,
         "sex": 0,
         "cp": 0,
         "trestbps": 130,
         "chol": 339,
         "fbs": 0,
         "restecg": 0,
         "thalach": 175,
         "exang": 0,
         "oldpeak": 1.1,
         "slope": 3,
         "ca": 4,
         "thal": 4,
         "chol_fbs": 37,
         "_deepnote_index_column": 41
        },
        {
         "age": 53,
         "sex": 1,
         "cp": 2,
         "trestbps": 149,
         "chol": 254,
         "fbs": 0,
         "restecg": 2,
         "thalach": 174,
         "exang": 0,
         "oldpeak": 1.1,
         "slope": 3,
         "ca": 5,
         "thal": 2,
         "chol_fbs": 64,
         "_deepnote_index_column": 42
        },
        {
         "age": 48,
         "sex": 1,
         "cp": 1,
         "trestbps": 113,
         "chol": 301,
         "fbs": 0,
         "restecg": 1,
         "thalach": 126,
         "exang": 1,
         "oldpeak": 2.1,
         "slope": 2,
         "ca": 1,
         "thal": 4,
         "chol_fbs": 1,
         "_deepnote_index_column": 43
        },
        {
         "age": 56,
         "sex": 1,
         "cp": 3,
         "trestbps": 126,
         "chol": 231,
         "fbs": 0,
         "restecg": 1,
         "thalach": 130,
         "exang": 1,
         "oldpeak": 2.5,
         "slope": 3,
         "ca": 2,
         "thal": 3,
         "chol_fbs": 66,
         "_deepnote_index_column": 44
        },
        {
         "age": 75,
         "sex": 1,
         "cp": 1,
         "trestbps": 167,
         "chol": 278,
         "fbs": 0,
         "restecg": 1,
         "thalach": 144,
         "exang": 0,
         "oldpeak": 1,
         "slope": 3,
         "ca": 1,
         "thal": 2,
         "chol_fbs": 56,
         "_deepnote_index_column": 45
        },
        {
         "age": 43,
         "sex": 1,
         "cp": 3,
         "trestbps": 134,
         "chol": 265,
         "fbs": 0,
         "restecg": 0,
         "thalach": 178,
         "exang": 0,
         "oldpeak": 3.1,
         "slope": 2,
         "ca": 2,
         "thal": 2,
         "chol_fbs": 55,
         "_deepnote_index_column": 46
        },
        {
         "age": 53,
         "sex": 1,
         "cp": 4,
         "trestbps": 155,
         "chol": 242,
         "fbs": 0,
         "restecg": 1,
         "thalach": 172,
         "exang": 0,
         "oldpeak": 1.6,
         "slope": 2,
         "ca": 3,
         "thal": 4,
         "chol_fbs": 33,
         "_deepnote_index_column": 47
        },
        {
         "age": 59,
         "sex": 0,
         "cp": 2,
         "trestbps": 135,
         "chol": 421,
         "fbs": 0,
         "restecg": 1,
         "thalach": 160,
         "exang": 1,
         "oldpeak": 3,
         "slope": 2,
         "ca": 4,
         "thal": 3,
         "chol_fbs": 75,
         "_deepnote_index_column": 48
        },
        {
         "age": 45,
         "sex": 1,
         "cp": 2,
         "trestbps": 125,
         "chol": 312,
         "fbs": 0,
         "restecg": 1,
         "thalach": 174,
         "exang": 0,
         "oldpeak": 1.1,
         "slope": 3,
         "ca": 1,
         "thal": 5,
         "chol_fbs": 12,
         "_deepnote_index_column": 49
        }
       ],
       "rows_bottom": null
      },
      "text/plain": "    age  sex  cp  trestbps  chol  fbs  restecg  thalach  exang  oldpeak  \\\n0    71    1   0       154   213    0        2      146      1      3.7   \n1    71    1   5       176   276    0        1      167      0      1.7   \n2    63    1   4       187   336    0        1      165      0      1.3   \n3    67    1   0       129   273    0        1      147      1      3.8   \n4    64    1   3       142   272    0        2      166      0      2.9   \n5    55    1   1       135   278    0        1      171      0      1.6   \n6    42    1   2       123   186    0        0      115      1      3.1   \n7    70    1   0       144   296    0        0      166      0      2.5   \n8    64    0   0       210   329    1        0      140      1      5.0   \n9    68    1   1       141   332    1        1      152      1      2.9   \n10   60    1   3       160   174    1        1      187      0      1.3   \n11   54    0   2       138   293    0        1      178      0      1.1   \n12   72    1   2       141   264    0        0      141      0      3.8   \n13   53    1   1       137   293    0        1      187      0      1.7   \n14   58    0   4       124   241    0        2      180      0      2.6   \n15   53    1   3       105   246    0        2      147      1      2.2   \n16   60    1   0       110   273    1        2      150      0      1.1   \n17   56    1   2       127   269    1        1      176      0      1.0   \n18   65    1   0       121   298    0        1      109      1      2.8   \n19   49    1   2       124   255    1        2      214      0      1.9   \n20   46    1   0       144   266    0        1      195      0      1.1   \n21   48    1   2       128   269    0        2      149      0      2.3   \n22   70    1   1       125   318    0        0      120      0      2.5   \n23   57    1   2       123   242    0        0      126      1      1.1   \n24   43    1   3       111   272    0        1      158      0      1.1   \n25   63    0   3       141   306    0        1       99      0      2.2   \n26   59    1   0       133   224    0        1      175      0      2.0   \n27   48    1   2       123   296    0        0      162      0      2.0   \n28   41    0   2       150   259    0        2      162      0      1.1   \n29   58    1   1       137   227    0        1      169      0      1.9   \n30   64    1   3       141   229    0        0      167      0      4.1   \n31   49    1   0       146   338    0        0      160      1      1.1   \n32   44    0   1       143   333    0        2      179      0      1.0   \n33   59    1   4       180   237    1        2      164      0      1.5   \n34   43    1   2       133   213    0        1      195      0      1.0   \n35   64    0   0       178   279    0        1      160      1      1.0   \n36   71    1   4       161   293    0        2      134      1      4.1   \n37   51    1   2       143   322    0        0      180      0      1.2   \n38   62    1   1       132   272    1        0      155      1      2.3   \n39   68    0   2       153   274    0        1      174      0      4.7   \n40   58    1   0       146   211    0        1      156      0      1.5   \n41   61    0   0       130   339    0        0      175      0      1.1   \n42   53    1   2       149   254    0        2      174      0      1.1   \n43   48    1   1       113   301    0        1      126      1      2.1   \n44   56    1   3       126   231    0        1      130      1      2.5   \n45   75    1   1       167   278    0        1      144      0      1.0   \n46   43    1   3       134   265    0        0      178      0      3.1   \n47   53    1   4       155   242    0        1      172      0      1.6   \n48   59    0   2       135   421    0        1      160      1      3.0   \n49   45    1   2       125   312    0        1      174      0      1.1   \n\n    slope  ca  thal  chol_fbs  \n0       1   3     3        44  \n1       2   1     3        58  \n2       2   3     5        36  \n3       2   4     3        78  \n4       2   5     3        56  \n5       2   0     5        33  \n6       2   2     4        45  \n7       2   4     3        56  \n8       1   3     3       316  \n9       3   6     4       414  \n10      3   3     5       201  \n11      3   1     2        10  \n12      2   1     3        33  \n13      3   3     3        52  \n14      2   2     4        86  \n15      2   2     4        24  \n16      3   4     3       275  \n17      3   5     4       280  \n18      2   2     4        19  \n19      1   3     5       281  \n20      3   3     4        72  \n21      2   2     4        34  \n22      2   2     5        39  \n23      2   2     3        83  \n24      3   2     2        87  \n25      2   2     5        61  \n26      3   4     4         8  \n27      3   0     5        65  \n28      2   0     3        79  \n29      3   2     2        86  \n30      2   3     3        58  \n31      2   5     3        12  \n32      3   3     3        51  \n33      3   2     3       230  \n34      3   3     3        28  \n35      2   0     2        28  \n36      2   4     4        75  \n37      3   0     4        44  \n38      2   4     4       254  \n39      1   4     3        71  \n40      2   3     3        76  \n41      3   4     4        37  \n42      3   5     2        64  \n43      2   1     4         1  \n44      3   2     3        66  \n45      3   1     2        56  \n46      2   2     2        55  \n47      2   3     4        33  \n48      2   4     3        75  \n49      3   1     5        12  ",
      "text/html": "<div>\n<style scoped>\n    .dataframe tbody tr th:only-of-type {\n        vertical-align: middle;\n    }\n\n    .dataframe tbody tr th {\n        vertical-align: top;\n    }\n\n    .dataframe thead th {\n        text-align: right;\n    }\n</style>\n<table border=\"1\" class=\"dataframe\">\n  <thead>\n    <tr style=\"text-align: right;\">\n      <th></th>\n      <th>age</th>\n      <th>sex</th>\n      <th>cp</th>\n      <th>trestbps</th>\n      <th>chol</th>\n      <th>fbs</th>\n      <th>restecg</th>\n      <th>thalach</th>\n      <th>exang</th>\n      <th>oldpeak</th>\n      <th>slope</th>\n      <th>ca</th>\n      <th>thal</th>\n      <th>chol_fbs</th>\n    </tr>\n  </thead>\n  <tbody>\n    <tr>\n      <th>0</th>\n      <td>71</td>\n      <td>1</td>\n      <td>0</td>\n      <td>154</td>\n      <td>213</td>\n      <td>0</td>\n      <td>2</td>\n      <td>146</td>\n      <td>1</td>\n      <td>3.7</td>\n      <td>1</td>\n      <td>3</td>\n      <td>3</td>\n      <td>44</td>\n    </tr>\n    <tr>\n      <th>1</th>\n      <td>71</td>\n      <td>1</td>\n      <td>5</td>\n      <td>176</td>\n      <td>276</td>\n      <td>0</td>\n      <td>1</td>\n      <td>167</td>\n      <td>0</td>\n      <td>1.7</td>\n      <td>2</td>\n      <td>1</td>\n      <td>3</td>\n      <td>58</td>\n    </tr>\n    <tr>\n      <th>2</th>\n      <td>63</td>\n      <td>1</td>\n      <td>4</td>\n      <td>187</td>\n      <td>336</td>\n      <td>0</td>\n      <td>1</td>\n      <td>165</td>\n      <td>0</td>\n      <td>1.3</td>\n      <td>2</td>\n      <td>3</td>\n      <td>5</td>\n      <td>36</td>\n    </tr>\n    <tr>\n      <th>3</th>\n      <td>67</td>\n      <td>1</td>\n      <td>0</td>\n      <td>129</td>\n      <td>273</td>\n      <td>0</td>\n      <td>1</td>\n      <td>147</td>\n      <td>1</td>\n      <td>3.8</td>\n      <td>2</td>\n      <td>4</td>\n      <td>3</td>\n      <td>78</td>\n    </tr>\n    <tr>\n      <th>4</th>\n      <td>64</td>\n      <td>1</td>\n      <td>3</td>\n      <td>142</td>\n      <td>272</td>\n      <td>0</td>\n      <td>2</td>\n      <td>166</td>\n      <td>0</td>\n      <td>2.9</td>\n      <td>2</td>\n      <td>5</td>\n      <td>3</td>\n      <td>56</td>\n    </tr>\n    <tr>\n      <th>5</th>\n      <td>55</td>\n      <td>1</td>\n      <td>1</td>\n      <td>135</td>\n      <td>278</td>\n      <td>0</td>\n      <td>1</td>\n      <td>171</td>\n      <td>0</td>\n      <td>1.6</td>\n      <td>2</td>\n      <td>0</td>\n      <td>5</td>\n      <td>33</td>\n    </tr>\n    <tr>\n      <th>6</th>\n      <td>42</td>\n      <td>1</td>\n      <td>2</td>\n      <td>123</td>\n      <td>186</td>\n      <td>0</td>\n      <td>0</td>\n      <td>115</td>\n      <td>1</td>\n      <td>3.1</td>\n      <td>2</td>\n      <td>2</td>\n      <td>4</td>\n      <td>45</td>\n    </tr>\n    <tr>\n      <th>7</th>\n      <td>70</td>\n      <td>1</td>\n      <td>0</td>\n      <td>144</td>\n      <td>296</td>\n      <td>0</td>\n      <td>0</td>\n      <td>166</td>\n      <td>0</td>\n      <td>2.5</td>\n      <td>2</td>\n      <td>4</td>\n      <td>3</td>\n      <td>56</td>\n    </tr>\n    <tr>\n      <th>8</th>\n      <td>64</td>\n      <td>0</td>\n      <td>0</td>\n      <td>210</td>\n      <td>329</td>\n      <td>1</td>\n      <td>0</td>\n      <td>140</td>\n      <td>1</td>\n      <td>5.0</td>\n      <td>1</td>\n      <td>3</td>\n      <td>3</td>\n      <td>316</td>\n    </tr>\n    <tr>\n      <th>9</th>\n      <td>68</td>\n      <td>1</td>\n      <td>1</td>\n      <td>141</td>\n      <td>332</td>\n      <td>1</td>\n      <td>1</td>\n      <td>152</td>\n      <td>1</td>\n      <td>2.9</td>\n      <td>3</td>\n      <td>6</td>\n      <td>4</td>\n      <td>414</td>\n    </tr>\n    <tr>\n      <th>10</th>\n      <td>60</td>\n      <td>1</td>\n      <td>3</td>\n      <td>160</td>\n      <td>174</td>\n      <td>1</td>\n      <td>1</td>\n      <td>187</td>\n      <td>0</td>\n      <td>1.3</td>\n      <td>3</td>\n      <td>3</td>\n      <td>5</td>\n      <td>201</td>\n    </tr>\n    <tr>\n      <th>11</th>\n      <td>54</td>\n      <td>0</td>\n      <td>2</td>\n      <td>138</td>\n      <td>293</td>\n      <td>0</td>\n      <td>1</td>\n      <td>178</td>\n      <td>0</td>\n      <td>1.1</td>\n      <td>3</td>\n      <td>1</td>\n      <td>2</td>\n      <td>10</td>\n    </tr>\n    <tr>\n      <th>12</th>\n      <td>72</td>\n      <td>1</td>\n      <td>2</td>\n      <td>141</td>\n      <td>264</td>\n      <td>0</td>\n      <td>0</td>\n      <td>141</td>\n      <td>0</td>\n      <td>3.8</td>\n      <td>2</td>\n      <td>1</td>\n      <td>3</td>\n      <td>33</td>\n    </tr>\n    <tr>\n      <th>13</th>\n      <td>53</td>\n      <td>1</td>\n      <td>1</td>\n      <td>137</td>\n      <td>293</td>\n      <td>0</td>\n      <td>1</td>\n      <td>187</td>\n      <td>0</td>\n      <td>1.7</td>\n      <td>3</td>\n      <td>3</td>\n      <td>3</td>\n      <td>52</td>\n    </tr>\n    <tr>\n      <th>14</th>\n      <td>58</td>\n      <td>0</td>\n      <td>4</td>\n      <td>124</td>\n      <td>241</td>\n      <td>0</td>\n      <td>2</td>\n      <td>180</td>\n      <td>0</td>\n      <td>2.6</td>\n      <td>2</td>\n      <td>2</td>\n      <td>4</td>\n      <td>86</td>\n    </tr>\n    <tr>\n      <th>15</th>\n      <td>53</td>\n      <td>1</td>\n      <td>3</td>\n      <td>105</td>\n      <td>246</td>\n      <td>0</td>\n      <td>2</td>\n      <td>147</td>\n      <td>1</td>\n      <td>2.2</td>\n      <td>2</td>\n      <td>2</td>\n      <td>4</td>\n      <td>24</td>\n    </tr>\n    <tr>\n      <th>16</th>\n      <td>60</td>\n      <td>1</td>\n      <td>0</td>\n      <td>110</td>\n      <td>273</td>\n      <td>1</td>\n      <td>2</td>\n      <td>150</td>\n      <td>0</td>\n      <td>1.1</td>\n      <td>3</td>\n      <td>4</td>\n      <td>3</td>\n      <td>275</td>\n    </tr>\n    <tr>\n      <th>17</th>\n      <td>56</td>\n      <td>1</td>\n      <td>2</td>\n      <td>127</td>\n      <td>269</td>\n      <td>1</td>\n      <td>1</td>\n      <td>176</td>\n      <td>0</td>\n      <td>1.0</td>\n      <td>3</td>\n      <td>5</td>\n      <td>4</td>\n      <td>280</td>\n    </tr>\n    <tr>\n      <th>18</th>\n      <td>65</td>\n      <td>1</td>\n      <td>0</td>\n      <td>121</td>\n      <td>298</td>\n      <td>0</td>\n      <td>1</td>\n      <td>109</td>\n      <td>1</td>\n      <td>2.8</td>\n      <td>2</td>\n      <td>2</td>\n      <td>4</td>\n      <td>19</td>\n    </tr>\n    <tr>\n      <th>19</th>\n      <td>49</td>\n      <td>1</td>\n      <td>2</td>\n      <td>124</td>\n      <td>255</td>\n      <td>1</td>\n      <td>2</td>\n      <td>214</td>\n      <td>0</td>\n      <td>1.9</td>\n      <td>1</td>\n      <td>3</td>\n      <td>5</td>\n      <td>281</td>\n    </tr>\n    <tr>\n      <th>20</th>\n      <td>46</td>\n      <td>1</td>\n      <td>0</td>\n      <td>144</td>\n      <td>266</td>\n      <td>0</td>\n      <td>1</td>\n      <td>195</td>\n      <td>0</td>\n      <td>1.1</td>\n      <td>3</td>\n      <td>3</td>\n      <td>4</td>\n      <td>72</td>\n    </tr>\n    <tr>\n      <th>21</th>\n      <td>48</td>\n      <td>1</td>\n      <td>2</td>\n      <td>128</td>\n      <td>269</td>\n      <td>0</td>\n      <td>2</td>\n      <td>149</td>\n      <td>0</td>\n      <td>2.3</td>\n      <td>2</td>\n      <td>2</td>\n      <td>4</td>\n      <td>34</td>\n    </tr>\n    <tr>\n      <th>22</th>\n      <td>70</td>\n      <td>1</td>\n      <td>1</td>\n      <td>125</td>\n      <td>318</td>\n      <td>0</td>\n      <td>0</td>\n      <td>120</td>\n      <td>0</td>\n      <td>2.5</td>\n      <td>2</td>\n      <td>2</td>\n      <td>5</td>\n      <td>39</td>\n    </tr>\n    <tr>\n      <th>23</th>\n      <td>57</td>\n      <td>1</td>\n      <td>2</td>\n      <td>123</td>\n      <td>242</td>\n      <td>0</td>\n      <td>0</td>\n      <td>126</td>\n      <td>1</td>\n      <td>1.1</td>\n      <td>2</td>\n      <td>2</td>\n      <td>3</td>\n      <td>83</td>\n    </tr>\n    <tr>\n      <th>24</th>\n      <td>43</td>\n      <td>1</td>\n      <td>3</td>\n      <td>111</td>\n      <td>272</td>\n      <td>0</td>\n      <td>1</td>\n      <td>158</td>\n      <td>0</td>\n      <td>1.1</td>\n      <td>3</td>\n      <td>2</td>\n      <td>2</td>\n      <td>87</td>\n    </tr>\n    <tr>\n      <th>25</th>\n      <td>63</td>\n      <td>0</td>\n      <td>3</td>\n      <td>141</td>\n      <td>306</td>\n      <td>0</td>\n      <td>1</td>\n      <td>99</td>\n      <td>0</td>\n      <td>2.2</td>\n      <td>2</td>\n      <td>2</td>\n      <td>5</td>\n      <td>61</td>\n    </tr>\n    <tr>\n      <th>26</th>\n      <td>59</td>\n      <td>1</td>\n      <td>0</td>\n      <td>133</td>\n      <td>224</td>\n      <td>0</td>\n      <td>1</td>\n      <td>175</td>\n      <td>0</td>\n      <td>2.0</td>\n      <td>3</td>\n      <td>4</td>\n      <td>4</td>\n      <td>8</td>\n    </tr>\n    <tr>\n      <th>27</th>\n      <td>48</td>\n      <td>1</td>\n      <td>2</td>\n      <td>123</td>\n      <td>296</td>\n      <td>0</td>\n      <td>0</td>\n      <td>162</td>\n      <td>0</td>\n      <td>2.0</td>\n      <td>3</td>\n      <td>0</td>\n      <td>5</td>\n      <td>65</td>\n    </tr>\n    <tr>\n      <th>28</th>\n      <td>41</td>\n      <td>0</td>\n      <td>2</td>\n      <td>150</td>\n      <td>259</td>\n      <td>0</td>\n      <td>2</td>\n      <td>162</td>\n      <td>0</td>\n      <td>1.1</td>\n      <td>2</td>\n      <td>0</td>\n      <td>3</td>\n      <td>79</td>\n    </tr>\n    <tr>\n      <th>29</th>\n      <td>58</td>\n      <td>1</td>\n      <td>1</td>\n      <td>137</td>\n      <td>227</td>\n      <td>0</td>\n      <td>1</td>\n      <td>169</td>\n      <td>0</td>\n      <td>1.9</td>\n      <td>3</td>\n      <td>2</td>\n      <td>2</td>\n      <td>86</td>\n    </tr>\n    <tr>\n      <th>30</th>\n      <td>64</td>\n      <td>1</td>\n      <td>3</td>\n      <td>141</td>\n      <td>229</td>\n      <td>0</td>\n      <td>0</td>\n      <td>167</td>\n      <td>0</td>\n      <td>4.1</td>\n      <td>2</td>\n      <td>3</td>\n      <td>3</td>\n      <td>58</td>\n    </tr>\n    <tr>\n      <th>31</th>\n      <td>49</td>\n      <td>1</td>\n      <td>0</td>\n      <td>146</td>\n      <td>338</td>\n      <td>0</td>\n      <td>0</td>\n      <td>160</td>\n      <td>1</td>\n      <td>1.1</td>\n      <td>2</td>\n      <td>5</td>\n      <td>3</td>\n      <td>12</td>\n    </tr>\n    <tr>\n      <th>32</th>\n      <td>44</td>\n      <td>0</td>\n      <td>1</td>\n      <td>143</td>\n      <td>333</td>\n      <td>0</td>\n      <td>2</td>\n      <td>179</td>\n      <td>0</td>\n      <td>1.0</td>\n      <td>3</td>\n      <td>3</td>\n      <td>3</td>\n      <td>51</td>\n    </tr>\n    <tr>\n      <th>33</th>\n      <td>59</td>\n      <td>1</td>\n      <td>4</td>\n      <td>180</td>\n      <td>237</td>\n      <td>1</td>\n      <td>2</td>\n      <td>164</td>\n      <td>0</td>\n      <td>1.5</td>\n      <td>3</td>\n      <td>2</td>\n      <td>3</td>\n      <td>230</td>\n    </tr>\n    <tr>\n      <th>34</th>\n      <td>43</td>\n      <td>1</td>\n      <td>2</td>\n      <td>133</td>\n      <td>213</td>\n      <td>0</td>\n      <td>1</td>\n      <td>195</td>\n      <td>0</td>\n      <td>1.0</td>\n      <td>3</td>\n      <td>3</td>\n      <td>3</td>\n      <td>28</td>\n    </tr>\n    <tr>\n      <th>35</th>\n      <td>64</td>\n      <td>0</td>\n      <td>0</td>\n      <td>178</td>\n      <td>279</td>\n      <td>0</td>\n      <td>1</td>\n      <td>160</td>\n      <td>1</td>\n      <td>1.0</td>\n      <td>2</td>\n      <td>0</td>\n      <td>2</td>\n      <td>28</td>\n    </tr>\n    <tr>\n      <th>36</th>\n      <td>71</td>\n      <td>1</td>\n      <td>4</td>\n      <td>161</td>\n      <td>293</td>\n      <td>0</td>\n      <td>2</td>\n      <td>134</td>\n      <td>1</td>\n      <td>4.1</td>\n      <td>2</td>\n      <td>4</td>\n      <td>4</td>\n      <td>75</td>\n    </tr>\n    <tr>\n      <th>37</th>\n      <td>51</td>\n      <td>1</td>\n      <td>2</td>\n      <td>143</td>\n      <td>322</td>\n      <td>0</td>\n      <td>0</td>\n      <td>180</td>\n      <td>0</td>\n      <td>1.2</td>\n      <td>3</td>\n      <td>0</td>\n      <td>4</td>\n      <td>44</td>\n    </tr>\n    <tr>\n      <th>38</th>\n      <td>62</td>\n      <td>1</td>\n      <td>1</td>\n      <td>132</td>\n      <td>272</td>\n      <td>1</td>\n      <td>0</td>\n      <td>155</td>\n      <td>1</td>\n      <td>2.3</td>\n      <td>2</td>\n      <td>4</td>\n      <td>4</td>\n      <td>254</td>\n    </tr>\n    <tr>\n      <th>39</th>\n      <td>68</td>\n      <td>0</td>\n      <td>2</td>\n      <td>153</td>\n      <td>274</td>\n      <td>0</td>\n      <td>1</td>\n      <td>174</td>\n      <td>0</td>\n      <td>4.7</td>\n      <td>1</td>\n      <td>4</td>\n      <td>3</td>\n      <td>71</td>\n    </tr>\n    <tr>\n      <th>40</th>\n      <td>58</td>\n      <td>1</td>\n      <td>0</td>\n      <td>146</td>\n      <td>211</td>\n      <td>0</td>\n      <td>1</td>\n      <td>156</td>\n      <td>0</td>\n      <td>1.5</td>\n      <td>2</td>\n      <td>3</td>\n      <td>3</td>\n      <td>76</td>\n    </tr>\n    <tr>\n      <th>41</th>\n      <td>61</td>\n      <td>0</td>\n      <td>0</td>\n      <td>130</td>\n      <td>339</td>\n      <td>0</td>\n      <td>0</td>\n      <td>175</td>\n      <td>0</td>\n      <td>1.1</td>\n      <td>3</td>\n      <td>4</td>\n      <td>4</td>\n      <td>37</td>\n    </tr>\n    <tr>\n      <th>42</th>\n      <td>53</td>\n      <td>1</td>\n      <td>2</td>\n      <td>149</td>\n      <td>254</td>\n      <td>0</td>\n      <td>2</td>\n      <td>174</td>\n      <td>0</td>\n      <td>1.1</td>\n      <td>3</td>\n      <td>5</td>\n      <td>2</td>\n      <td>64</td>\n    </tr>\n    <tr>\n      <th>43</th>\n      <td>48</td>\n      <td>1</td>\n      <td>1</td>\n      <td>113</td>\n      <td>301</td>\n      <td>0</td>\n      <td>1</td>\n      <td>126</td>\n      <td>1</td>\n      <td>2.1</td>\n      <td>2</td>\n      <td>1</td>\n      <td>4</td>\n      <td>1</td>\n    </tr>\n    <tr>\n      <th>44</th>\n      <td>56</td>\n      <td>1</td>\n      <td>3</td>\n      <td>126</td>\n      <td>231</td>\n      <td>0</td>\n      <td>1</td>\n      <td>130</td>\n      <td>1</td>\n      <td>2.5</td>\n      <td>3</td>\n      <td>2</td>\n      <td>3</td>\n      <td>66</td>\n    </tr>\n    <tr>\n      <th>45</th>\n      <td>75</td>\n      <td>1</td>\n      <td>1</td>\n      <td>167</td>\n      <td>278</td>\n      <td>0</td>\n      <td>1</td>\n      <td>144</td>\n      <td>0</td>\n      <td>1.0</td>\n      <td>3</td>\n      <td>1</td>\n      <td>2</td>\n      <td>56</td>\n    </tr>\n    <tr>\n      <th>46</th>\n      <td>43</td>\n      <td>1</td>\n      <td>3</td>\n      <td>134</td>\n      <td>265</td>\n      <td>0</td>\n      <td>0</td>\n      <td>178</td>\n      <td>0</td>\n      <td>3.1</td>\n      <td>2</td>\n      <td>2</td>\n      <td>2</td>\n      <td>55</td>\n    </tr>\n    <tr>\n      <th>47</th>\n      <td>53</td>\n      <td>1</td>\n      <td>4</td>\n      <td>155</td>\n      <td>242</td>\n      <td>0</td>\n      <td>1</td>\n      <td>172</td>\n      <td>0</td>\n      <td>1.6</td>\n      <td>2</td>\n      <td>3</td>\n      <td>4</td>\n      <td>33</td>\n    </tr>\n    <tr>\n      <th>48</th>\n      <td>59</td>\n      <td>0</td>\n      <td>2</td>\n      <td>135</td>\n      <td>421</td>\n      <td>0</td>\n      <td>1</td>\n      <td>160</td>\n      <td>1</td>\n      <td>3.0</td>\n      <td>2</td>\n      <td>4</td>\n      <td>3</td>\n      <td>75</td>\n    </tr>\n    <tr>\n      <th>49</th>\n      <td>45</td>\n      <td>1</td>\n      <td>2</td>\n      <td>125</td>\n      <td>312</td>\n      <td>0</td>\n      <td>1</td>\n      <td>174</td>\n      <td>0</td>\n      <td>1.1</td>\n      <td>3</td>\n      <td>1</td>\n      <td>5</td>\n      <td>12</td>\n    </tr>\n  </tbody>\n</table>\n</div>"
     },
     "metadata": {}
    }
   ]
  },
  {
   "cell_type": "code",
   "metadata": {
    "tags": [],
    "cell_id": "00048-0ae573f5-080b-4a90-8cd8-d980db94c25d",
    "deepnote_to_be_reexecuted": false,
    "source_hash": "a763ce70",
    "execution_start": 1620564232369,
    "execution_millis": 2,
    "deepnote_cell_type": "code"
   },
   "source": "y_wfee = full_df['target']\n",
   "execution_count": 45,
   "outputs": []
  },
  {
   "cell_type": "code",
   "metadata": {
    "tags": [],
    "cell_id": "00048-c98dd729-addd-4310-b6a7-5ee58ed91aa5",
    "deepnote_to_be_reexecuted": false,
    "source_hash": "e838c6e8",
    "execution_start": 1620564255585,
    "execution_millis": 18,
    "deepnote_cell_type": "code"
   },
   "source": "best_model = models_wfe[\"SVM_rbf\"]\nbest_model.fit(x_wfee,y_wfee)",
   "execution_count": 49,
   "outputs": [
    {
     "output_type": "error",
     "ename": "NameError",
     "evalue": "name 'x_wfee' is not defined",
     "traceback": [
      "\u001b[0;31m---------------------------------------------------------------------------\u001b[0m",
      "\u001b[0;31mNameError\u001b[0m                                 Traceback (most recent call last)",
      "\u001b[0;32m<ipython-input-49-6e7336300069>\u001b[0m in \u001b[0;36m<module>\u001b[0;34m\u001b[0m\n\u001b[1;32m      1\u001b[0m \u001b[0mbest_model\u001b[0m \u001b[0;34m=\u001b[0m \u001b[0mmodels_wfe\u001b[0m\u001b[0;34m[\u001b[0m\u001b[0;34m\"SVM_rbf\"\u001b[0m\u001b[0;34m]\u001b[0m\u001b[0;34m\u001b[0m\u001b[0;34m\u001b[0m\u001b[0m\n\u001b[0;32m----> 2\u001b[0;31m \u001b[0mbest_model\u001b[0m\u001b[0;34m.\u001b[0m\u001b[0mfit\u001b[0m\u001b[0;34m(\u001b[0m\u001b[0mx_wfee\u001b[0m\u001b[0;34m,\u001b[0m\u001b[0my_wfee\u001b[0m\u001b[0;34m)\u001b[0m\u001b[0;34m\u001b[0m\u001b[0;34m\u001b[0m\u001b[0m\n\u001b[0m",
      "\u001b[0;31mNameError\u001b[0m: name 'x_wfee' is not defined"
     ]
    }
   ]
  },
  {
   "cell_type": "code",
   "metadata": {
    "tags": [],
    "cell_id": "00050-f77f742c-e320-42a7-814b-5ec022419688",
    "deepnote_to_be_reexecuted": false,
    "source_hash": "6aae02f5",
    "execution_start": 1620564239220,
    "execution_millis": 41,
    "deepnote_cell_type": "code"
   },
   "source": "test_pred = best_model.predict(x_test)",
   "execution_count": 47,
   "outputs": [
    {
     "output_type": "error",
     "ename": "RuntimeError",
     "evalue": "Given feature/column names do not match the ones for the data given during fit.",
     "traceback": [
      "\u001b[0;31m---------------------------------------------------------------------------\u001b[0m",
      "\u001b[0;31mRuntimeError\u001b[0m                              Traceback (most recent call last)",
      "\u001b[0;32m<ipython-input-47-4b9f29e5eb8a>\u001b[0m in \u001b[0;36m<module>\u001b[0;34m\u001b[0m\n\u001b[0;32m----> 1\u001b[0;31m \u001b[0mtest_pred\u001b[0m \u001b[0;34m=\u001b[0m \u001b[0mbest_model\u001b[0m\u001b[0;34m.\u001b[0m\u001b[0mpredict\u001b[0m\u001b[0;34m(\u001b[0m\u001b[0mx_test\u001b[0m\u001b[0;34m)\u001b[0m\u001b[0;34m\u001b[0m\u001b[0;34m\u001b[0m\u001b[0m\n\u001b[0m",
      "\u001b[0;32m/shared-libs/python3.7/py/lib/python3.7/site-packages/sklearn/utils/metaestimators.py\u001b[0m in \u001b[0;36m<lambda>\u001b[0;34m(*args, **kwargs)\u001b[0m\n\u001b[1;32m    118\u001b[0m \u001b[0;34m\u001b[0m\u001b[0m\n\u001b[1;32m    119\u001b[0m         \u001b[0;31m# lambda, but not partial, allows help() to work with update_wrapper\u001b[0m\u001b[0;34m\u001b[0m\u001b[0;34m\u001b[0m\u001b[0;34m\u001b[0m\u001b[0m\n\u001b[0;32m--> 120\u001b[0;31m         \u001b[0mout\u001b[0m \u001b[0;34m=\u001b[0m \u001b[0;32mlambda\u001b[0m \u001b[0;34m*\u001b[0m\u001b[0margs\u001b[0m\u001b[0;34m,\u001b[0m \u001b[0;34m**\u001b[0m\u001b[0mkwargs\u001b[0m\u001b[0;34m:\u001b[0m \u001b[0mself\u001b[0m\u001b[0;34m.\u001b[0m\u001b[0mfn\u001b[0m\u001b[0;34m(\u001b[0m\u001b[0mobj\u001b[0m\u001b[0;34m,\u001b[0m \u001b[0;34m*\u001b[0m\u001b[0margs\u001b[0m\u001b[0;34m,\u001b[0m \u001b[0;34m**\u001b[0m\u001b[0mkwargs\u001b[0m\u001b[0;34m)\u001b[0m\u001b[0;34m\u001b[0m\u001b[0;34m\u001b[0m\u001b[0m\n\u001b[0m\u001b[1;32m    121\u001b[0m         \u001b[0;31m# update the docstring of the returned function\u001b[0m\u001b[0;34m\u001b[0m\u001b[0;34m\u001b[0m\u001b[0;34m\u001b[0m\u001b[0m\n\u001b[1;32m    122\u001b[0m         \u001b[0mupdate_wrapper\u001b[0m\u001b[0;34m(\u001b[0m\u001b[0mout\u001b[0m\u001b[0;34m,\u001b[0m \u001b[0mself\u001b[0m\u001b[0;34m.\u001b[0m\u001b[0mfn\u001b[0m\u001b[0;34m)\u001b[0m\u001b[0;34m\u001b[0m\u001b[0;34m\u001b[0m\u001b[0m\n",
      "\u001b[0;32m/shared-libs/python3.7/py/lib/python3.7/site-packages/sklearn/pipeline.py\u001b[0m in \u001b[0;36mpredict\u001b[0;34m(self, X, **predict_params)\u001b[0m\n\u001b[1;32m    416\u001b[0m         \u001b[0mXt\u001b[0m \u001b[0;34m=\u001b[0m \u001b[0mX\u001b[0m\u001b[0;34m\u001b[0m\u001b[0;34m\u001b[0m\u001b[0m\n\u001b[1;32m    417\u001b[0m         \u001b[0;32mfor\u001b[0m \u001b[0m_\u001b[0m\u001b[0;34m,\u001b[0m \u001b[0mname\u001b[0m\u001b[0;34m,\u001b[0m \u001b[0mtransform\u001b[0m \u001b[0;32min\u001b[0m \u001b[0mself\u001b[0m\u001b[0;34m.\u001b[0m\u001b[0m_iter\u001b[0m\u001b[0;34m(\u001b[0m\u001b[0mwith_final\u001b[0m\u001b[0;34m=\u001b[0m\u001b[0;32mFalse\u001b[0m\u001b[0;34m)\u001b[0m\u001b[0;34m:\u001b[0m\u001b[0;34m\u001b[0m\u001b[0;34m\u001b[0m\u001b[0m\n\u001b[0;32m--> 418\u001b[0;31m             \u001b[0mXt\u001b[0m \u001b[0;34m=\u001b[0m \u001b[0mtransform\u001b[0m\u001b[0;34m.\u001b[0m\u001b[0mtransform\u001b[0m\u001b[0;34m(\u001b[0m\u001b[0mXt\u001b[0m\u001b[0;34m)\u001b[0m\u001b[0;34m\u001b[0m\u001b[0;34m\u001b[0m\u001b[0m\n\u001b[0m\u001b[1;32m    419\u001b[0m         \u001b[0;32mreturn\u001b[0m \u001b[0mself\u001b[0m\u001b[0;34m.\u001b[0m\u001b[0msteps\u001b[0m\u001b[0;34m[\u001b[0m\u001b[0;34m-\u001b[0m\u001b[0;36m1\u001b[0m\u001b[0;34m]\u001b[0m\u001b[0;34m[\u001b[0m\u001b[0;34m-\u001b[0m\u001b[0;36m1\u001b[0m\u001b[0;34m]\u001b[0m\u001b[0;34m.\u001b[0m\u001b[0mpredict\u001b[0m\u001b[0;34m(\u001b[0m\u001b[0mXt\u001b[0m\u001b[0;34m,\u001b[0m \u001b[0;34m**\u001b[0m\u001b[0mpredict_params\u001b[0m\u001b[0;34m)\u001b[0m\u001b[0;34m\u001b[0m\u001b[0;34m\u001b[0m\u001b[0m\n\u001b[1;32m    420\u001b[0m \u001b[0;34m\u001b[0m\u001b[0m\n",
      "\u001b[0;32m/shared-libs/python3.7/py/lib/python3.7/site-packages/sklearn/compose/_column_transformer.py\u001b[0m in \u001b[0;36mtransform\u001b[0;34m(self, X)\u001b[0m\n\u001b[1;32m    559\u001b[0m                 np.any(self._feature_names_in != X_feature_names)):\n\u001b[1;32m    560\u001b[0m             raise RuntimeError(\n\u001b[0;32m--> 561\u001b[0;31m                 \u001b[0;34m\"Given feature/column names do not match the ones for the \"\u001b[0m\u001b[0;34m\u001b[0m\u001b[0;34m\u001b[0m\u001b[0m\n\u001b[0m\u001b[1;32m    562\u001b[0m                 \u001b[0;34m\"data given during fit.\"\u001b[0m\u001b[0;34m\u001b[0m\u001b[0;34m\u001b[0m\u001b[0m\n\u001b[1;32m    563\u001b[0m             )\n",
      "\u001b[0;31mRuntimeError\u001b[0m: Given feature/column names do not match the ones for the data given during fit."
     ]
    }
   ]
  },
  {
   "cell_type": "code",
   "metadata": {
    "tags": [],
    "cell_id": "00051-d772d40b-52e5-4de6-ac9f-c0e2bc9824af",
    "deepnote_to_be_reexecuted": false,
    "source_hash": "abb9861a",
    "execution_start": 1620564242579,
    "execution_millis": 53,
    "deepnote_cell_type": "code"
   },
   "source": "sub = pd.DataFrame(test_pred, index=x_test.index, columns=[\"Target\"])",
   "execution_count": 48,
   "outputs": [
    {
     "output_type": "error",
     "ename": "NameError",
     "evalue": "name 'test_pred' is not defined",
     "traceback": [
      "\u001b[0;31m---------------------------------------------------------------------------\u001b[0m",
      "\u001b[0;31mNameError\u001b[0m                                 Traceback (most recent call last)",
      "\u001b[0;32m<ipython-input-48-af8afd7d58a9>\u001b[0m in \u001b[0;36m<module>\u001b[0;34m\u001b[0m\n\u001b[0;32m----> 1\u001b[0;31m \u001b[0msub\u001b[0m \u001b[0;34m=\u001b[0m \u001b[0mpd\u001b[0m\u001b[0;34m.\u001b[0m\u001b[0mDataFrame\u001b[0m\u001b[0;34m(\u001b[0m\u001b[0mtest_pred\u001b[0m\u001b[0;34m,\u001b[0m \u001b[0mindex\u001b[0m\u001b[0;34m=\u001b[0m\u001b[0mx_test\u001b[0m\u001b[0;34m.\u001b[0m\u001b[0mindex\u001b[0m\u001b[0;34m,\u001b[0m \u001b[0mcolumns\u001b[0m\u001b[0;34m=\u001b[0m\u001b[0;34m[\u001b[0m\u001b[0;34m\"Target\"\u001b[0m\u001b[0;34m]\u001b[0m\u001b[0;34m)\u001b[0m\u001b[0;34m\u001b[0m\u001b[0;34m\u001b[0m\u001b[0m\n\u001b[0m",
      "\u001b[0;31mNameError\u001b[0m: name 'test_pred' is not defined"
     ]
    }
   ]
  },
  {
   "cell_type": "code",
   "metadata": {
    "tags": [],
    "cell_id": "00052-fb0c6913-fcce-468f-8a48-75198ed2e3c7",
    "deepnote_to_be_reexecuted": true,
    "source_hash": "8006965d",
    "execution_start": 1620399781774,
    "execution_millis": 14,
    "deepnote_cell_type": "code"
   },
   "source": "sub.head()",
   "execution_count": null,
   "outputs": [
    {
     "output_type": "execute_result",
     "execution_count": 81,
     "data": {
      "application/vnd.deepnote.dataframe.v2+json": {
       "row_count": 5,
       "column_count": 1,
       "columns": [
        {
         "name": "Target",
         "dtype": "int64",
         "stats": {
          "unique_count": 2,
          "nan_count": 0,
          "min": "0",
          "max": "1",
          "histogram": [
           {
            "bin_start": 0,
            "bin_end": 0.1,
            "count": 4
           },
           {
            "bin_start": 0.1,
            "bin_end": 0.2,
            "count": 0
           },
           {
            "bin_start": 0.2,
            "bin_end": 0.30000000000000004,
            "count": 0
           },
           {
            "bin_start": 0.30000000000000004,
            "bin_end": 0.4,
            "count": 0
           },
           {
            "bin_start": 0.4,
            "bin_end": 0.5,
            "count": 0
           },
           {
            "bin_start": 0.5,
            "bin_end": 0.6000000000000001,
            "count": 0
           },
           {
            "bin_start": 0.6000000000000001,
            "bin_end": 0.7000000000000001,
            "count": 0
           },
           {
            "bin_start": 0.7000000000000001,
            "bin_end": 0.8,
            "count": 0
           },
           {
            "bin_start": 0.8,
            "bin_end": 0.9,
            "count": 0
           },
           {
            "bin_start": 0.9,
            "bin_end": 1,
            "count": 1
           }
          ]
         }
        },
        {
         "name": "_deepnote_index_column",
         "dtype": "int64"
        }
       ],
       "rows_top": [
        {
         "Target": 0,
         "_deepnote_index_column": 0
        },
        {
         "Target": 1,
         "_deepnote_index_column": 1
        },
        {
         "Target": 0,
         "_deepnote_index_column": 2
        },
        {
         "Target": 0,
         "_deepnote_index_column": 3
        },
        {
         "Target": 0,
         "_deepnote_index_column": 4
        }
       ],
       "rows_bottom": null
      },
      "text/plain": "   Target\n0       0\n1       1\n2       0\n3       0\n4       0",
      "text/html": "<div>\n<style scoped>\n    .dataframe tbody tr th:only-of-type {\n        vertical-align: middle;\n    }\n\n    .dataframe tbody tr th {\n        vertical-align: top;\n    }\n\n    .dataframe thead th {\n        text-align: right;\n    }\n</style>\n<table border=\"1\" class=\"dataframe\">\n  <thead>\n    <tr style=\"text-align: right;\">\n      <th></th>\n      <th>Target</th>\n    </tr>\n  </thead>\n  <tbody>\n    <tr>\n      <th>0</th>\n      <td>0</td>\n    </tr>\n    <tr>\n      <th>1</th>\n      <td>1</td>\n    </tr>\n    <tr>\n      <th>2</th>\n      <td>0</td>\n    </tr>\n    <tr>\n      <th>3</th>\n      <td>0</td>\n    </tr>\n    <tr>\n      <th>4</th>\n      <td>0</td>\n    </tr>\n  </tbody>\n</table>\n</div>"
     },
     "metadata": {}
    }
   ]
  },
  {
   "cell_type": "code",
   "metadata": {
    "tags": [],
    "cell_id": "00053-dcbf6a29-2e51-4929-86cf-2f4b3f5e5c3c",
    "deepnote_to_be_reexecuted": true,
    "source_hash": "6dab9e65",
    "execution_start": 1620399913956,
    "execution_millis": 11,
    "deepnote_cell_type": "code"
   },
   "source": "print(\"Accuracy:\",metrics.accuracy_score(df_test['target'], test_pred))",
   "execution_count": null,
   "outputs": [
    {
     "name": "stdout",
     "text": "Accuracy: 0.88\n",
     "output_type": "stream"
    }
   ]
  },
  {
   "cell_type": "code",
   "metadata": {
    "tags": [],
    "cell_id": "00055-1db171a6-7316-4c6e-ac10-414b36f18471",
    "deepnote_to_be_reexecuted": true,
    "source_hash": "53c4b7d0",
    "execution_start": 1620564112836,
    "execution_millis": 1822,
    "deepnote_cell_type": "code"
   },
   "source": "from sklearn.metrics import confusion_matrix\n\ncm = confusion_matrix(df_test['target'], test_pred)",
   "outputs": [
    {
     "output_type": "error",
     "ename": "NameError",
     "evalue": "name 'df_test' is not defined",
     "traceback": [
      "\u001b[0;31m---------------------------------------------------------------------------\u001b[0m",
      "\u001b[0;31mNameError\u001b[0m                                 Traceback (most recent call last)",
      "\u001b[0;32m<ipython-input-1-3f4c33eeb613>\u001b[0m in \u001b[0;36m<module>\u001b[0;34m\u001b[0m\n\u001b[1;32m      1\u001b[0m \u001b[0;32mfrom\u001b[0m \u001b[0msklearn\u001b[0m\u001b[0;34m.\u001b[0m\u001b[0mmetrics\u001b[0m \u001b[0;32mimport\u001b[0m \u001b[0mconfusion_matrix\u001b[0m\u001b[0;34m\u001b[0m\u001b[0;34m\u001b[0m\u001b[0m\n\u001b[1;32m      2\u001b[0m \u001b[0;34m\u001b[0m\u001b[0m\n\u001b[0;32m----> 3\u001b[0;31m \u001b[0mcm\u001b[0m \u001b[0;34m=\u001b[0m \u001b[0mconfusion_matrix\u001b[0m\u001b[0;34m(\u001b[0m\u001b[0mdf_test\u001b[0m\u001b[0;34m[\u001b[0m\u001b[0;34m'target'\u001b[0m\u001b[0;34m]\u001b[0m\u001b[0;34m,\u001b[0m \u001b[0mtest_pred\u001b[0m\u001b[0;34m)\u001b[0m\u001b[0;34m\u001b[0m\u001b[0;34m\u001b[0m\u001b[0m\n\u001b[0m",
      "\u001b[0;31mNameError\u001b[0m: name 'df_test' is not defined"
     ]
    }
   ],
   "execution_count": null
  },
  {
   "cell_type": "code",
   "source": "\nplt.imshow(cm, cmap='binary')",
   "metadata": {
    "tags": [],
    "cell_id": "00057-7a849091-7da3-489c-b4f4-e10c893c2a6d",
    "deepnote_to_be_reexecuted": true,
    "source_hash": "bd0a5e0c",
    "deepnote_cell_type": "code"
   },
   "outputs": [],
   "execution_count": null
  },
  {
   "cell_type": "markdown",
   "source": "<a style='text-decoration:none;line-height:16px;display:flex;color:#5B5B62;padding:10px;justify-content:end;' href='https://deepnote.com?utm_source=created-in-deepnote-cell&projectId=8d599d21-73e5-4f68-954e-8e232bd2cc60' target=\"_blank\">\n<img alt='Created in deepnote.com' style='display:inline;max-height:16px;margin:0px;margin-right:7.5px;' src='data:image/svg+xml;base64,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' > </img>\nCreated in <span style='font-weight:600;margin-left:4px;'>Deepnote</span></a>",
   "metadata": {
    "tags": [],
    "created_in_deepnote_cell": true,
    "deepnote_cell_type": "markdown"
   }
  }
 ],
 "nbformat": 4,
 "nbformat_minor": 2,
 "metadata": {
  "orig_nbformat": 2,
  "deepnote": {
   "is_reactive": false
  },
  "deepnote_notebook_id": "4fd04bfe-cd5e-4e5d-a99c-bcc7295da9b7",
  "deepnote_execution_queue": []
 }
}