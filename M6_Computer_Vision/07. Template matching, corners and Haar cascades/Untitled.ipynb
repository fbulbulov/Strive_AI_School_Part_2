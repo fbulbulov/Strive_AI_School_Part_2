{
 "cells": [
  {
   "cell_type": "code",
   "execution_count": 6,
   "id": "8747bbb1",
   "metadata": {
    "ExecuteTime": {
     "end_time": "2021-06-16T12:55:55.835144Z",
     "start_time": "2021-06-16T12:55:17.549665Z"
    }
   },
   "outputs": [],
   "source": []
  },
  {
   "cell_type": "code",
   "execution_count": 1,
   "id": "79de6590",
   "metadata": {
    "ExecuteTime": {
     "end_time": "2021-06-16T13:04:06.010988Z",
     "start_time": "2021-06-16T13:03:18.919006Z"
    }
   },
   "outputs": [],
   "source": []
  },
  {
   "cell_type": "code",
   "execution_count": null,
   "id": "09924e08",
   "metadata": {},
   "outputs": [],
   "source": []
  }
 ],
 "metadata": {
  "kernelspec": {
   "display_name": "Python 3",
   "language": "python",
   "name": "python3"
  },
  "language_info": {
   "codemirror_mode": {
    "name": "ipython",
    "version": 3
   },
   "file_extension": ".py",
   "mimetype": "text/x-python",
   "name": "python",
   "nbconvert_exporter": "python",
   "pygments_lexer": "ipython3",
   "version": "3.9.5"
  }
 },
 "nbformat": 4,
 "nbformat_minor": 5
}
