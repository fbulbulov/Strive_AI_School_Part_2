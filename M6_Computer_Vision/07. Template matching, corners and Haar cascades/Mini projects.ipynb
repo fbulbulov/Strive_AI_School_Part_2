{
 "cells": [
  {
   "cell_type": "markdown",
   "metadata": {},
   "source": [
    "# Mini projects\n",
    "\n",
    "You can do the projects in any order, just choose the ones that you like the most"
   ]
  },
  {
   "cell_type": "markdown",
   "metadata": {
    "heading_collapsed": true
   },
   "source": [
    "### Cars detector"
   ]
  },
  {
   "cell_type": "markdown",
   "metadata": {
    "hidden": true
   },
   "source": [
    "1. Create a classifier to detect cars in an image\n",
    "1. If at least one car was detected write Car Detected (in Green) on top of the image, otherwise write No car detected (in Red)\n",
    "1. Save the image to disk\n",
    "1. Show the image result inside the notebook\n",
    "1. Make it work with a video\n",
    "1. Put a bounding box around the cars detected\n",
    "1. Get a higher resolution video and extract the car plates and save them to disk"
   ]
  },
  {
   "cell_type": "code",
   "execution_count": 3,
   "metadata": {
    "ExecuteTime": {
     "end_time": "2021-06-16T17:59:53.424757Z",
     "start_time": "2021-06-16T17:59:50.069997Z"
    }
   },
   "outputs": [],
   "source": [
    "import cv2\n",
    "\n",
    "car_cascade = cv2.CascadeClassifier('Haarcascades/haarcascade_car.xml')\n",
    "cap = cv2.VideoCapture('videos/video.avi')\n",
    "green=(0, 255 , 0)\n",
    "blue = (0, 255, 0)\n",
    "\n",
    "while cap.isOpened():\n",
    "    _, img = cap.read()\n",
    "    gray = cv2.cvtColor(img, cv2.COLOR_BGR2GRAY)\n",
    "    cars = car_cascade.detectMultiScale(gray, 1.1, 4)\n",
    "\n",
    "    for (x, y , w ,h) in cars:\n",
    "        cv2.rectangle(img, (x,y), (x+w, y+h), green , 3)\n",
    "        roi_gray = gray[y:y+h, x:x+w]\n",
    "        roi_color = img[y:y+h, x:x+w]\n",
    "        #eyes = eye_cascade.detectMultiScale(roi_gray)\n",
    "        #for (ex, ey ,ew, eh) in eyes:\n",
    "            #cv2.rectangle(roi_color, (ex,ey), (ex+ew, ey+eh), blue , 5)\n",
    "\n",
    "   \n",
    "    cv2.imshow('img', img)\n",
    "    if cv2.waitKey(1) & 0xFF == ord('q'):\n",
    "        break\n",
    "\n",
    "\n",
    "cap.release()\n",
    "cv2.destroyAllWindows()\n"
   ]
  },
  {
   "cell_type": "markdown",
   "metadata": {},
   "source": [
    "### Sudoku Solver"
   ]
  },
  {
   "cell_type": "markdown",
   "metadata": {},
   "source": [
    "1. Create function that given an image of a Sudoku game crops and extracts each cell \n",
    "1. Extract the number from each cropped cell (if blank extract it as 0)\n",
    "1. Place the extracted numbers in an array (each block of 9 numbers is one array)\n",
    "1. Apply the sudoku solver to the array to get the solution\n",
    "1. Write the solution numbers in the cells"
   ]
  }
 ],
 "metadata": {
  "kernelspec": {
   "display_name": "Python 3",
   "language": "python",
   "name": "python3"
  },
  "language_info": {
   "codemirror_mode": {
    "name": "ipython",
    "version": 3
   },
   "file_extension": ".py",
   "mimetype": "text/x-python",
   "name": "python",
   "nbconvert_exporter": "python",
   "pygments_lexer": "ipython3",
   "version": "3.9.5"
  }
 },
 "nbformat": 4,
 "nbformat_minor": 2
}
