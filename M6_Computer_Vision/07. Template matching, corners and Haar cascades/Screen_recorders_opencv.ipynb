{
 "cells": [
  {
   "cell_type": "code",
   "execution_count": 1,
   "id": "b5f3e0d5",
   "metadata": {
    "ExecuteTime": {
     "end_time": "2021-06-23T14:45:56.496609Z",
     "start_time": "2021-06-23T14:45:56.220767Z"
    }
   },
   "outputs": [],
   "source": [
    "import numpy as np\n",
    "from PIL import ImageGrab\n",
    "import cv2\n",
    "\n"
   ]
  },
  {
   "cell_type": "code",
   "execution_count": null,
   "id": "e175faa2",
   "metadata": {},
   "outputs": [],
   "source": [
    "while(True):\n",
    "    printscreen_pil =  ImageGrab.grab()\n",
    "    printscreen_numpy =   np.array(printscreen_pil.getdata(),dtype='uint8')\\\n",
    "    .reshape((printscreen_pil.size[1],printscreen_pil.size[0],3)) \n",
    "    cv2.imshow('window',printscreen_numpy)\n",
    "    if cv2.waitKey(25) & 0xFF == ord('q'):\n",
    "        cv2.destroyAllWindows()\n",
    "        break\n"
   ]
  },
  {
   "cell_type": "code",
   "execution_count": 2,
   "id": "b3ebe0c7",
   "metadata": {
    "ExecuteTime": {
     "end_time": "2021-06-23T14:47:12.422868Z",
     "start_time": "2021-06-23T14:46:50.829816Z"
    }
   },
   "outputs": [],
   "source": [
    "from PIL import ImageGrab\n",
    "import numpy as np\n",
    "import cv2\n",
    "\n",
    "img = ImageGrab.grab(bbox=(100,10,400,780)) #bbox specifies specific region (bbox= x,y,width,height *starts top-left)\n",
    "img_np = np.array(img) #this is the array obtained from conversion\n",
    "frame = cv2.cvtColor(img_np, cv2.COLOR_BGR2GRAY)\n",
    "\n",
    "\n",
    "cv2.imshow(\"test\", frame)\n",
    "cv2.waitKey(0)\n",
    "cv2.destroyAllWindows()"
   ]
  },
  {
   "cell_type": "code",
   "execution_count": null,
   "id": "4fc082dd",
   "metadata": {},
   "outputs": [],
   "source": [
    "from PIL import ImageGrab\n",
    "import numpy as np\n",
    "import cv2\n",
    "while(True):\n",
    "    img = ImageGrab.grab(bbox=(100,10,400,780)) #bbox specifies specific region (bbox= x,y,width,height)\n",
    "    img_np = np.array(img)\n",
    "    frame = cv2.cvtColor(img_np, cv2.COLOR_BGR2GRAY)\n",
    "    cv2.imshow(\"test\", frame)\n",
    "    cv2.waitKey(0)\n",
    "cv2.destroyAllWindows()"
   ]
  },
  {
   "cell_type": "code",
   "execution_count": 5,
   "id": "7b7bb8cd",
   "metadata": {
    "ExecuteTime": {
     "end_time": "2021-06-24T11:46:11.237068Z",
     "start_time": "2021-06-24T11:45:38.522014Z"
    }
   },
   "outputs": [],
   "source": [
    "import cv2\n",
    "\n",
    "cap = cv2.VideoCapture(1)\n",
    "while(True):\n",
    "    ret, frame = cap.read()\n",
    "    cv2.namedWindow('frame', cv2.WINDOW_NORMAL)\n",
    "    cv2.setWindowProperty('frame', cv2.WND_PROP_FULLSCREEN, cv2.WINDOW_FULLSCREEN)\n",
    "    cv2.imshow('frame', frame)\n",
    "    if(cv2.waitKey(1) & 0xFF == ord('e')):\n",
    "        break\n",
    "cap.release()\n",
    "cv2.destroyAllWindows()"
   ]
  },
  {
   "cell_type": "code",
   "execution_count": 9,
   "id": "301ddf16",
   "metadata": {
    "ExecuteTime": {
     "end_time": "2021-06-24T11:47:32.063794Z",
     "start_time": "2021-06-24T11:47:25.261126Z"
    }
   },
   "outputs": [],
   "source": [
    "import numpy as np\n",
    "from PIL import ImageGrab\n",
    "import cv2\n",
    "cv2.namedWindow('window', cv2.WINDOW_KEEPRATIO)\n",
    "\n",
    "while(True):\n",
    "    printscreen_pil = ImageGrab.grab(bbox = (0, 40, 400, 340))\n",
    "    printscreen_numpy = np.array(printscreen_pil.getdata(), dtype = \n",
    "'uint8').reshape((printscreen_pil.size[1], printscreen_pil.size[0], 3))\n",
    "    cv2.imshow('window', printscreen_numpy)\n",
    "    if cv2.waitKey(25) & 0xFF == ord('q'):\n",
    "        cv2.destroyAllWindows()\n",
    "        break"
   ]
  },
  {
   "cell_type": "code",
   "execution_count": 4,
   "id": "fa874a25",
   "metadata": {
    "ExecuteTime": {
     "end_time": "2021-06-23T15:02:53.247659Z",
     "start_time": "2021-06-23T15:02:32.567094Z"
    }
   },
   "outputs": [],
   "source": [
    "from PIL import ImageGrab\n",
    "import cv2\n",
    "\n",
    "while True:\n",
    "    screen = np.array(ImageGrab.grab(bbox=(0,0,800,600)))\n",
    "    cv2.imshow('Python Window', screen)\n",
    "\n",
    "    if cv2.waitKey(25) & 0xFF == ord('q'):\n",
    "        cv2.destroyAllWindows()\n",
    "        break"
   ]
  },
  {
   "cell_type": "code",
   "execution_count": 8,
   "id": "e1d80f67",
   "metadata": {
    "ExecuteTime": {
     "end_time": "2021-06-24T07:29:46.184407Z",
     "start_time": "2021-06-24T07:28:39.685724Z"
    }
   },
   "outputs": [],
   "source": [
    "from mss import mss\n",
    "import cv2\n",
    "from PIL import Image\n",
    "import numpy as np\n",
    "from time import time\n",
    "\n",
    "mon = {'top': 100, 'left':200, 'width':1600, 'height':1024}\n",
    "\n",
    "sct = mss()\n",
    "\n",
    "while 1:\n",
    "    begin_time = time()\n",
    "    sct_img = sct.grab(mon)\n",
    "    img = Image.frombytes('RGB', (sct_img.size.width, sct_img.size.height), sct_img.rgb)\n",
    "    img_bgr = cv2.cvtColor(np.array(img), cv2.COLOR_RGB2BGR)\n",
    "    cv2.imshow('test', np.array(img_bgr))\n",
    "    #print('This frame takes {} seconds.'.format(time()-begin_time))\n",
    "    if cv2.waitKey(30) & 0xFF == ord('q'):\n",
    "        cv2.destroyAllWindows()\n",
    "        break"
   ]
  },
  {
   "cell_type": "code",
   "execution_count": 8,
   "id": "51fb52ab",
   "metadata": {
    "ExecuteTime": {
     "end_time": "2021-06-24T11:47:17.106193Z",
     "start_time": "2021-06-24T11:47:05.821373Z"
    }
   },
   "outputs": [
    {
     "name": "stderr",
     "output_type": "stream",
     "text": [
      "\u001b[01;36m13:47:05 :: \u001b[01;34mScreenGear\u001b[0m :: \u001b[01;33mDEBUG\u001b[0m :: Enabling Threaded Queue Mode by default for ScreenGear!\u001b[0m\n",
      "\u001b[01;36m13:47:05 :: \u001b[01;34mScreenGear\u001b[0m :: \u001b[01;33mDEBUG\u001b[0m :: Setting Capture-Area dimensions: OrderedDict([('top', 40), ('left', 0), ('width', 100), ('height', 100)])!\u001b[0m\n",
      "\u001b[01;36m13:47:17 :: \u001b[01;34mScreenGear\u001b[0m :: \u001b[01;33mDEBUG\u001b[0m :: Terminating ScreenGear Processes.\u001b[0m\n"
     ]
    }
   ],
   "source": [
    "# import required libraries\n",
    "from vidgear.gears import ScreenGear\n",
    "import cv2\n",
    "\n",
    "# define dimensions of screen w.r.t to given monitor to be captured\n",
    "options = {'top': 40, 'left': 0, 'width': 100, 'height': 100}\n",
    "\n",
    "# open video stream with defined parameters\n",
    "stream = ScreenGear(monitor=1, logging=True, **options).start()\n",
    "\n",
    "# loop over\n",
    "while True:\n",
    "\n",
    "    # read frames from stream\n",
    "    frame = stream.read()\n",
    "\n",
    "    # check for frame if Nonetype\n",
    "    if frame is None:\n",
    "        break\n",
    "\n",
    "\n",
    "    # {do something with the frame here}\n",
    "\n",
    "\n",
    "    # Show output window\n",
    "    cv2.imshow(\"Output Frame\", frame)\n",
    "\n",
    "    # check for 'q' key if pressed\n",
    "    key = cv2.waitKey(1) & 0xFF\n",
    "    if key == ord(\"q\"):\n",
    "        break\n",
    "\n",
    "# close output window\n",
    "cv2.destroyAllWindows()\n",
    "\n",
    "# safely close video stream\n",
    "stream.stop()"
   ]
  },
  {
   "cell_type": "code",
   "execution_count": 2,
   "id": "5249e0bd",
   "metadata": {
    "ExecuteTime": {
     "end_time": "2021-06-24T11:43:18.530560Z",
     "start_time": "2021-06-24T11:42:56.699653Z"
    }
   },
   "outputs": [
    {
     "name": "stdout",
     "output_type": "stream",
     "text": [
      "How many times you want to record screen?->(Define value in Seconds): 10\n"
     ]
    }
   ],
   "source": [
    "import cv2\n",
    "import numpy as np\n",
    "import pyautogui\n",
    "from win32api import GetSystemMetrics\n",
    "import time\n",
    "\n",
    "#Take resolution from system automatically\n",
    "w = GetSystemMetrics(0)\n",
    "h =  GetSystemMetrics(1)\n",
    "SCREEN_SIZE = (w,h)\n",
    "fourcc = cv2.VideoWriter_fourcc(*\"XVID\")\n",
    "out = cv2.VideoWriter(\"recording.mp4\", fourcc, 20.0, (SCREEN_SIZE))\n",
    "tim = time.time()\n",
    "#tp = int(input('How many times you want to record screen?->(Define value in Seconds): '))\n",
    "#tp = tp+tp\n",
    "tp = 10\n",
    "f = tim+tp\n",
    "while True:\n",
    "    img = pyautogui.screenshot()\n",
    "    frame = np.array(img)\n",
    "    frame = cv2.cvtColor(frame, cv2.COLOR_BGR2RGB)\n",
    "    out.write(frame)\n",
    "    tu = time.time()\n",
    "    if tu>f:\n",
    "        break\n",
    "cv2.destroyAllWindows()\n",
    "out.release()"
   ]
  },
  {
   "cell_type": "code",
   "execution_count": 1,
   "id": "5cdd598d",
   "metadata": {
    "ExecuteTime": {
     "end_time": "2021-06-24T11:41:45.459970Z",
     "start_time": "2021-06-24T11:41:19.530322Z"
    }
   },
   "outputs": [],
   "source": [
    "\n",
    "import numpy as np \n",
    "import cv2 \n",
    "# for windows, mac users\n",
    "# from PIL import ImageGrab\n",
    "# for linux users\n",
    "import pyscreenshot as ImageGrab\n",
    "\n",
    "# four character code object for video writer\n",
    "fourcc = cv2.VideoWriter_fourcc(*'XVID')\n",
    "# video writer object\n",
    "out = cv2.VideoWriter(\"output.avi\", fourcc, 5.0, (1366, 768))\n",
    "\n",
    "while True:\n",
    "\t# capture computer screen\n",
    "\timg = ImageGrab.grab()\n",
    "\t# convert image to numpy array\n",
    "\timg_np = np.array(img)\n",
    "\t# convert color space from BGR to RGB\n",
    "\tframe = cv2.cvtColor(img_np, cv2.COLOR_BGR2RGB)\n",
    "\t# show image on OpenCV frame\n",
    "\tcv2.imshow(\"Screen\", frame)\n",
    "\t# write frame to video writer\n",
    "\tout.write(frame)\n",
    "  \n",
    "\tif cv2.waitKey(1) == 27:\n",
    "\t\tbreak\n",
    "\n",
    "out.release()\n",
    "cv2.destroyAllWindows()"
   ]
  },
  {
   "cell_type": "code",
   "execution_count": null,
   "id": "40d91c0b",
   "metadata": {},
   "outputs": [],
   "source": []
  },
  {
   "cell_type": "code",
   "execution_count": 10,
   "id": "d60b6068",
   "metadata": {
    "ExecuteTime": {
     "end_time": "2021-06-24T13:23:38.013599Z",
     "start_time": "2021-06-24T13:23:17.746215Z"
    }
   },
   "outputs": [],
   "source": [
    "# Custom maker\n",
    "import cv2\n",
    "\n",
    "cap = cv2.VideoCapture(1)\n",
    "while(True):\n",
    "    ret, frame = cap.read()\n",
    "    cv2.namedWindow('frame', cv2.WINDOW_NORMAL)\n",
    "    cv2.setWindowProperty('frame', cv2.WND_PROP_FULLSCREEN, cv2.WINDOW_FULLSCREEN)\n",
    "    cv2.imshow('frame', frame)\n",
    "    if(cv2.waitKey(1) & 0xFF == ord('e')):\n",
    "        break\n",
    "cap.release()\n",
    "cv2.destroyAllWindows()\n",
    "\n",
    "\n"
   ]
  },
  {
   "cell_type": "code",
   "execution_count": null,
   "id": "751a7142",
   "metadata": {},
   "outputs": [],
   "source": [
    "\n",
    "\n",
    "\n"
   ]
  }
 ],
 "metadata": {
  "kernelspec": {
   "display_name": "Python 3",
   "language": "python",
   "name": "python3"
  },
  "language_info": {
   "codemirror_mode": {
    "name": "ipython",
    "version": 3
   },
   "file_extension": ".py",
   "mimetype": "text/x-python",
   "name": "python",
   "nbconvert_exporter": "python",
   "pygments_lexer": "ipython3",
   "version": "3.9.5"
  }
 },
 "nbformat": 4,
 "nbformat_minor": 5
}
