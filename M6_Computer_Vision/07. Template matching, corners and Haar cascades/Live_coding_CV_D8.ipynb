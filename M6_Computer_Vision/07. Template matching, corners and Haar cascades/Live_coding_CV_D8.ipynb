{
 "cells": [
  {
   "cell_type": "code",
   "execution_count": 1,
   "id": "07c8c18c",
   "metadata": {
    "ExecuteTime": {
     "end_time": "2021-06-17T06:55:03.931680Z",
     "start_time": "2021-06-17T06:55:03.426636Z"
    }
   },
   "outputs": [
    {
     "name": "stdout",
     "output_type": "stream",
     "text": [
      "OpenCV: 4.5.2\n"
     ]
    }
   ],
   "source": [
    "import cv2\n",
    "import numpy as np\n",
    "import matplotlib.pyplot as plt\n",
    "%matplotlib inline\n",
    "print(f'OpenCV: {cv2.__version__}')"
   ]
  },
  {
   "cell_type": "code",
   "execution_count": null,
   "id": "ddf681f6",
   "metadata": {},
   "outputs": [],
   "source": [
    "def imshow(img):\n",
    "    #if enlarge:\n",
    "       # plt.figure(figsize=(20,15));\n",
    "   # plt.imshow(img[:,:,::-1])\n",
    "    plt.figure(figsize=(15,15))\n",
    "    plt.imshow(cv2.cvtColor(img,cv2.COLOR_BGR2RGB))"
   ]
  },
  {
   "cell_type": "code",
   "execution_count": null,
   "id": "17c4f768",
   "metadata": {},
   "outputs": [],
   "source": [
    "scene= cv2.imread('img/WandoScene.jpg')\n",
    "template = cv2.imread('img/waldo.jpg')"
   ]
  },
  {
   "cell_type": "code",
   "execution_count": null,
   "id": "91f9aea6",
   "metadata": {},
   "outputs": [],
   "source": []
  },
  {
   "cell_type": "code",
   "execution_count": null,
   "id": "87bfbad9",
   "metadata": {},
   "outputs": [],
   "source": []
  },
  {
   "cell_type": "code",
   "execution_count": null,
   "id": "51c5cfd8",
   "metadata": {},
   "outputs": [],
   "source": []
  },
  {
   "cell_type": "code",
   "execution_count": null,
   "id": "867ab113",
   "metadata": {},
   "outputs": [],
   "source": []
  },
  {
   "cell_type": "code",
   "execution_count": null,
   "id": "c2f84f6e",
   "metadata": {},
   "outputs": [],
   "source": []
  },
  {
   "cell_type": "code",
   "execution_count": null,
   "id": "bccc49e2",
   "metadata": {},
   "outputs": [],
   "source": []
  }
 ],
 "metadata": {
  "kernelspec": {
   "display_name": "Python 3",
   "language": "python",
   "name": "python3"
  },
  "language_info": {
   "codemirror_mode": {
    "name": "ipython",
    "version": 3
   },
   "file_extension": ".py",
   "mimetype": "text/x-python",
   "name": "python",
   "nbconvert_exporter": "python",
   "pygments_lexer": "ipython3",
   "version": "3.9.5"
  }
 },
 "nbformat": 4,
 "nbformat_minor": 5
}
