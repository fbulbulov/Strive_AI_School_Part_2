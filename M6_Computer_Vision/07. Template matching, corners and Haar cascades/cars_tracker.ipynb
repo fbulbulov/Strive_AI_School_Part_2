{
 "cells": [
  {
   "cell_type": "code",
   "execution_count": 2,
   "id": "47b8380f",
   "metadata": {
    "ExecuteTime": {
     "end_time": "2021-06-17T14:09:19.451919Z",
     "start_time": "2021-06-17T14:09:10.491759Z"
    }
   },
   "outputs": [],
   "source": [
    "import cv2\n",
    "import numpy as np\n",
    "\n",
    "cap= cv2.VideoCapture('videos/video.avi')\n",
    "\n",
    "\n",
    "while True:\n",
    "    ret, frame = cap.read()\n",
    "\n",
    "    cv2.imshow(\"Frame\", frame)\n",
    "\n",
    "    key=cv2.waitKey(30)\n",
    "\n",
    "    if key == 27:\n",
    "        break\n",
    "\n",
    "cap.release()\n",
    "cv2.destroyAllWindows()\n"
   ]
  },
  {
   "cell_type": "code",
   "execution_count": null,
   "id": "2ec97f6e",
   "metadata": {},
   "outputs": [],
   "source": []
  }
 ],
 "metadata": {
  "kernelspec": {
   "display_name": "Python 3",
   "language": "python",
   "name": "python3"
  },
  "language_info": {
   "codemirror_mode": {
    "name": "ipython",
    "version": 3
   },
   "file_extension": ".py",
   "mimetype": "text/x-python",
   "name": "python",
   "nbconvert_exporter": "python",
   "pygments_lexer": "ipython3",
   "version": "3.9.5"
  }
 },
 "nbformat": 4,
 "nbformat_minor": 5
}
