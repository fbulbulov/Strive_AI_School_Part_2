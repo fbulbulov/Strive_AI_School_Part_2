{
 "cells": [
  {
   "cell_type": "code",
   "execution_count": 1,
   "id": "020ca586",
   "metadata": {
    "ExecuteTime": {
     "end_time": "2021-06-17T06:55:03.931680Z",
     "start_time": "2021-06-17T06:55:03.426636Z"
    }
   },
   "outputs": [
    {
     "name": "stdout",
     "output_type": "stream",
     "text": [
      "OpenCV: 4.5.2\n"
     ]
    }
   ],
   "source": [
    "import cv2\n",
    "import numpy as np\n",
    "import matplotlib.pyplot as plt\n",
    "%matplotlib inline\n",
    "print(f'OpenCV: {cv2.__version__}')"
   ]
  },
  {
   "cell_type": "code",
   "execution_count": null,
   "id": "82a6e4c9",
   "metadata": {},
   "outputs": [],
   "source": [
    "def imshow(img):\n",
    "    #if enlarge:\n",
    "       # plt.figure(figsize=(20,15));\n",
    "   # plt.imshow(img[:,:,::-1])\n",
    "    plt.figure(figsize=(15,15))\n",
    "    plt.imshow(cv2.cvtColor(img,cv2.COLOR_BGR2RGB))"
   ]
  },
  {
   "cell_type": "code",
   "execution_count": null,
   "id": "ed7aff56",
   "metadata": {},
   "outputs": [],
   "source": [
    "scene= cv2.imread('img/WandoScene.jpg')\n",
    "template = cv2.imread('img/waldo.jpg')"
   ]
  },
  {
   "cell_type": "markdown",
   "id": "f5672b30",
   "metadata": {},
   "source": [
    "1. clone https://github.com/pjreddie/darknet\n",
    "1. 'Make' the folder\n",
    "2. Download YOLO dataset (weights), yolov3.weights\n",
    "3. Command to detect pictures: ./darknet detect cfg/yolov3.cfg yolov3.weights data/dog.jpg\n",
    "4. ./darknet detect cfg/yolov3.cfg yolov3.weights data/dog.jpg"
   ]
  },
  {
   "cell_type": "code",
   "execution_count": null,
   "id": "edca5631",
   "metadata": {},
   "outputs": [],
   "source": []
  },
  {
   "cell_type": "code",
   "execution_count": null,
   "id": "7e6e194e",
   "metadata": {},
   "outputs": [],
   "source": []
  },
  {
   "cell_type": "code",
   "execution_count": null,
   "id": "342b8feb",
   "metadata": {},
   "outputs": [],
   "source": []
  },
  {
   "cell_type": "code",
   "execution_count": null,
   "id": "75916c78",
   "metadata": {},
   "outputs": [],
   "source": []
  },
  {
   "cell_type": "code",
   "execution_count": null,
   "id": "eef09407",
   "metadata": {},
   "outputs": [],
   "source": []
  }
 ],
 "metadata": {
  "kernelspec": {
   "display_name": "Python 3",
   "language": "python",
   "name": "python3"
  },
  "language_info": {
   "codemirror_mode": {
    "name": "ipython",
    "version": 3
   },
   "file_extension": ".py",
   "mimetype": "text/x-python",
   "name": "python",
   "nbconvert_exporter": "python",
   "pygments_lexer": "ipython3",
   "version": "3.9.5"
  }
 },
 "nbformat": 4,
 "nbformat_minor": 5
}
