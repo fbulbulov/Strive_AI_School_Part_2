{
 "cells": [
  {
   "cell_type": "markdown",
   "id": "8090dc03",
   "metadata": {},
   "source": [
    "Face detector haar cascade project\n",
    "Downloading common haarcascades:\n",
    "https://github.com/opencv/opencv/tree/master/data/haarcascades"
   ]
  },
  {
   "cell_type": "code",
   "execution_count": 3,
   "id": "c4f1e776",
   "metadata": {
    "ExecuteTime": {
     "end_time": "2021-06-16T11:39:07.857306Z",
     "start_time": "2021-06-16T11:39:07.852307Z"
    }
   },
   "outputs": [],
   "source": [
    "import cv2\n",
    "import numpy as np"
   ]
  },
  {
   "cell_type": "code",
   "execution_count": null,
   "id": "af773aca",
   "metadata": {},
   "outputs": [],
   "source": [
    "face_cascade=cv2.Ca"
   ]
  }
 ],
 "metadata": {
  "kernelspec": {
   "display_name": "Python 3",
   "language": "python",
   "name": "python3"
  },
  "language_info": {
   "codemirror_mode": {
    "name": "ipython",
    "version": 3
   },
   "file_extension": ".py",
   "mimetype": "text/x-python",
   "name": "python",
   "nbconvert_exporter": "python",
   "pygments_lexer": "ipython3",
   "version": "3.9.5"
  }
 },
 "nbformat": 4,
 "nbformat_minor": 5
}
