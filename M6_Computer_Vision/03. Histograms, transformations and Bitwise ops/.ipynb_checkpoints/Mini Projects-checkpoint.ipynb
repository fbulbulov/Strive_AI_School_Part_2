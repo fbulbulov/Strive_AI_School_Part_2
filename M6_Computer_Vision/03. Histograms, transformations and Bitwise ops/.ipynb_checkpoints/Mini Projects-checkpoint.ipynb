{
 "cells": [
  {
   "cell_type": "markdown",
   "metadata": {},
   "source": [
    "# Mini projects"
   ]
  },
  {
   "cell_type": "markdown",
   "metadata": {},
   "source": [
    "## Green screen"
   ]
  },
  {
   "cell_type": "markdown",
   "metadata": {},
   "source": [
    "1. Create a method to process an image with a green screen, replace the green screen with a background image\n",
    "\n",
    "1. Adapt it to use your webcam and try it out, you might need to change the green screen to another color that you can use as your backgrouns (for example maybe white if you have a white wall behind you)"
   ]
  },
  {
   "cell_type": "markdown",
   "metadata": {},
   "source": [
    "## Color images to black and white and back!"
   ]
  },
  {
   "cell_type": "markdown",
   "metadata": {},
   "source": [
    "1. Using a color image, load it with openCV then transform it to HSV and make it Grayscale (without transforming it to grayscale!)\n",
    "1. Convert the grayscale image back to color."
   ]
  },
  {
   "cell_type": "markdown",
   "metadata": {},
   "source": [
    "## Day or night?"
   ]
  },
  {
   "cell_type": "markdown",
   "metadata": {},
   "source": [
    "1. Using all you have learned so far about computer vision, implement at least one method (or more!) to check if a certain image corresponds to a day or a night image.\n",
    "1. Use different images to check if your approach is working"
   ]
  },
  {
   "cell_type": "markdown",
   "metadata": {},
   "source": [
    "## Project 1: Green Background"
   ]
  },
  {
   "cell_type": "code",
   "execution_count": null,
   "metadata": {
    "ExecuteTime": {
     "start_time": "2021-06-10T06:12:36.317Z"
    }
   },
   "outputs": [],
   "source": [
    "import cv2\n",
    "import numpy as np\n",
    "\n",
    "cap=cv2.VideoCapture(1)\n",
    "\n",
    "panel=np.zeros([100,700, 3], np.unit8) #screen\n",
    "cv2.namedWindow(\"panel\")\n",
    "\n",
    "def nothing(x):\n",
    "    pass\n",
    "\n",
    "#Trackbars\n",
    "cv2.createTrackbar(\"L - h\", \"panel\", 0, 179, nothing)\n",
    "cv2.createTrackbar(\"U - h\", \"panel\", 179, 179, nothing)\n",
    "\n",
    "cv2.createTrackbar(\"L - s\", \"panel\", 0, 255, nothing)\n",
    "cv2.createTrackbar(\"U - s\", \"panel\", 255, 255, nothing)\n",
    "\n",
    "cv2.createTrackbar(\"L - v\", \"panel\", 0, 179, nothing)\n",
    "cv2.createTrackbar(\"U - v\", \"panel\", 255, 255, nothing)\n",
    "\n",
    "\n",
    "while True:\n",
    "    _,frame=cap.read()\n",
    "    \n",
    "    hsv=cv2.cvtColor(frame,cv2.COLOR_BGR2HSV)\n",
    "    \n",
    "    l_h =cv2.getTrackbarPos(\"L - h\", \"panel\")\n",
    "    u_h =cv2.getTrackbarPos(\"U - h\", \"panel\")\n",
    "    \n",
    "    l_s =cv2.getTrackbarPos(\"L - s\", \"panel\")\n",
    "    u_s =cv2.getTrackbarPos(\"U - s\", \"panel\")\n",
    "    \n",
    "    l_v =cv2.getTrackbarPos(\"L - v\", \"panel\")\n",
    "    u_v =cv2.getTrackbarPos(\"U - v\", \"panel\")\n",
    "    \n",
    "    \n",
    "    \n",
    "    lower_green=np.array([ l_h, l_s, l_v ])\n",
    "    upper_green=np.arrayy([u_h, u_s, u_v ])\n",
    "    \n",
    "    mask=cv2.inRange(hsv,lower_green, upper_green) \n",
    "    mask_inv = cv2.bitwise_not(mask)\n",
    "    \n",
    "    \n",
    "    bg = cv2.bitwise_and(frame,frame, mask=mask)\n",
    "    fg = cv2.bitwise_and(frame,frame,mask)\n",
    "    \n",
    "    cv2.imshow(\"frame\", frame)\n",
    "    cv2.imshow(\"mask\", mask)\n",
    "    cv2.imshow(\"panel\", panel)\n",
    "    k=cv2.waitKey(30)& 0xFF #save frames\n",
    "    if k==27:\n",
    "        break\n",
    "cap.release()\n",
    "cv2.destroyAllWindows()\n",
    "    \n"
   ]
  },
  {
   "cell_type": "code",
   "execution_count": null,
   "metadata": {},
   "outputs": [],
   "source": []
  },
  {
   "cell_type": "code",
   "execution_count": null,
   "metadata": {},
   "outputs": [],
   "source": []
  }
 ],
 "metadata": {
  "kernelspec": {
   "display_name": "Python 3",
   "language": "python",
   "name": "python3"
  },
  "language_info": {
   "codemirror_mode": {
    "name": "ipython",
    "version": 3
   },
   "file_extension": ".py",
   "mimetype": "text/x-python",
   "name": "python",
   "nbconvert_exporter": "python",
   "pygments_lexer": "ipython3",
   "version": "3.9.5"
  }
 },
 "nbformat": 4,
 "nbformat_minor": 4
}
